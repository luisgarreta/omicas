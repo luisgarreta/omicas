{
 "cells": [
  {
   "cell_type": "markdown",
   "metadata": {
    "toc": true
   },
   "source": [
    "<h1>MD Setup<span class=\"tocSkip\"></span></h1>\n",
    "<div class=\"toc\"><ul class=\"toc-item\"><li><span><a href=\"#Introduction\" data-toc-modified-id=\"Introduction-1\"><span class=\"toc-item-num\">1&nbsp;&nbsp;</span>Introduction</a></span><ul class=\"toc-item\"><li><span><a href=\"#Input-parameters\" data-toc-modified-id=\"Input-parameters-1.1\"><span class=\"toc-item-num\">1.1&nbsp;&nbsp;</span>Input parameters</a></span></li><li><span><a href=\"#Global-names\" data-toc-modified-id=\"Global-names-1.2\"><span class=\"toc-item-num\">1.2&nbsp;&nbsp;</span>Global names</a></span></li><li><span><a href=\"#Libraries-and-Functions\" data-toc-modified-id=\"Libraries-and-Functions-1.3\"><span class=\"toc-item-num\">1.3&nbsp;&nbsp;</span>Libraries and Functions</a></span></li><li><span><a href=\"#Visualizing-initial-complex-structure\" data-toc-modified-id=\"Visualizing-initial-complex-structure-1.4\"><span class=\"toc-item-num\">1.4&nbsp;&nbsp;</span>Visualizing initial complex structure</a></span></li></ul></li><li><span><a href=\"#Extracting-Protein,-Ligand-and-Protein-Ligand-Complex\" data-toc-modified-id=\"Extracting-Protein,-Ligand-and-Protein-Ligand-Complex-2\"><span class=\"toc-item-num\">2&nbsp;&nbsp;</span>Extracting Protein, Ligand and Protein-Ligand Complex</a></span><ul class=\"toc-item\"><li><span><a href=\"#Visualizing-3D-structures\" data-toc-modified-id=\"Visualizing-3D-structures-2.1\"><span class=\"toc-item-num\">2.1&nbsp;&nbsp;</span>Visualizing 3D structures</a></span></li></ul></li><li><span><a href=\"#Fix-protein-structure\" data-toc-modified-id=\"Fix-protein-structure-3\"><span class=\"toc-item-num\">3&nbsp;&nbsp;</span>Fix protein structure</a></span><ul class=\"toc-item\"><li><span><a href=\"#Perform-all-checks\" data-toc-modified-id=\"Perform-all-checks-3.1\"><span class=\"toc-item-num\">3.1&nbsp;&nbsp;</span>Perform all checks</a></span></li><li><span><a href=\"#Quilarity\" data-toc-modified-id=\"Quilarity-3.2\"><span class=\"toc-item-num\">3.2&nbsp;&nbsp;</span>Quilarity</a></span></li></ul></li><li><span><a href=\"#Create-protein-system-topology\" data-toc-modified-id=\"Create-protein-system-topology-4\"><span class=\"toc-item-num\">4&nbsp;&nbsp;</span>Create protein system topology</a></span></li><li><span><a href=\"#Create-ligand-system-topology\" data-toc-modified-id=\"Create-ligand-system-topology-5\"><span class=\"toc-item-num\">5&nbsp;&nbsp;</span>Create ligand system topology</a></span><ul class=\"toc-item\"><li><span><a href=\"#Step-1:-Add-hydrogen-atoms\" data-toc-modified-id=\"Step-1:-Add-hydrogen-atoms-5.1\"><span class=\"toc-item-num\">5.1&nbsp;&nbsp;</span>Step 1: Add <strong>hydrogen atoms</strong></a></span></li><li><span><a href=\"#Step-2:-Energetically-minimize-the-system-with-the-new-hydrogen-atoms.\" data-toc-modified-id=\"Step-2:-Energetically-minimize-the-system-with-the-new-hydrogen-atoms.-5.2\"><span class=\"toc-item-num\">5.2&nbsp;&nbsp;</span>Step 2: <strong>Energetically minimize the system</strong> with the new hydrogen atoms.</a></span></li><li><span><a href=\"#Visualizing-3D-structures\" data-toc-modified-id=\"Visualizing-3D-structures-5.3\"><span class=\"toc-item-num\">5.3&nbsp;&nbsp;</span>Visualizing 3D structures</a></span></li><li><span><a href=\"#Step-3:-Generate-ligand-topology-(parameters).\" data-toc-modified-id=\"Step-3:-Generate-ligand-topology-(parameters).-5.4\"><span class=\"toc-item-num\">5.4&nbsp;&nbsp;</span>Step 3: Generate <strong>ligand topology</strong> (parameters).</a></span></li></ul></li><li><span><a href=\"#Preparing-Ligand-Restraints\" data-toc-modified-id=\"Preparing-Ligand-Restraints-6\"><span class=\"toc-item-num\">6&nbsp;&nbsp;</span>Preparing Ligand Restraints</a></span><ul class=\"toc-item\"><li><span><a href=\"#Step-1:-Creating-an-index-file-for-the-small-molecule-heavy-atoms\" data-toc-modified-id=\"Step-1:-Creating-an-index-file-for-the-small-molecule-heavy-atoms-6.1\"><span class=\"toc-item-num\">6.1&nbsp;&nbsp;</span>Step 1: Creating an index file for the small molecule heavy atoms</a></span></li><li><span><a href=\"#Step-2:-Generating-the-position-restraints-file\" data-toc-modified-id=\"Step-2:-Generating-the-position-restraints-file-6.2\"><span class=\"toc-item-num\">6.2&nbsp;&nbsp;</span>Step 2: Generating the position restraints file</a></span></li></ul></li><li><span><a href=\"#Create-new-protein-ligand-complex-structure-file\" data-toc-modified-id=\"Create-new-protein-ligand-complex-structure-file-7\"><span class=\"toc-item-num\">7&nbsp;&nbsp;</span>Create new protein-ligand complex structure file</a></span><ul class=\"toc-item\"><li><span><a href=\"#Protein:-Convert-gro-(with-hydrogens)-to-pdb\" data-toc-modified-id=\"Protein:-Convert-gro-(with-hydrogens)-to-pdb-7.1\"><span class=\"toc-item-num\">7.1&nbsp;&nbsp;</span>Protein: Convert gro (with hydrogens) to pdb</a></span></li><li><span><a href=\"#Ligand:-Convert-gro-(with-hydrogens)-to-pdb\" data-toc-modified-id=\"Ligand:-Convert-gro-(with-hydrogens)-to-pdb-7.2\"><span class=\"toc-item-num\">7.2&nbsp;&nbsp;</span>Ligand: Convert gro (with hydrogens) to pdb</a></span></li><li><span><a href=\"#Concatenating-both-PDB-files:-Protein-+-Ligand\" data-toc-modified-id=\"Concatenating-both-PDB-files:-Protein-+-Ligand-7.3\"><span class=\"toc-item-num\">7.3&nbsp;&nbsp;</span>Concatenating both PDB files: Protein + Ligand</a></span></li></ul></li><li><span><a href=\"#Create-new-protein-ligand-complex-topology-file\" data-toc-modified-id=\"Create-new-protein-ligand-complex-topology-file-8\"><span class=\"toc-item-num\">8&nbsp;&nbsp;</span>Create new protein-ligand complex topology file</a></span></li><li><span><a href=\"#Create-solvent-box\" data-toc-modified-id=\"Create-solvent-box-9\"><span class=\"toc-item-num\">9&nbsp;&nbsp;</span>Create solvent box</a></span></li><li><span><a href=\"#Fill-the-box-with-water-molecules\" data-toc-modified-id=\"Fill-the-box-with-water-molecules-10\"><span class=\"toc-item-num\">10&nbsp;&nbsp;</span>Fill the box with water molecules</a></span><ul class=\"toc-item\"><li><span><a href=\"#Visualizing-3D-structure\" data-toc-modified-id=\"Visualizing-3D-structure-10.1\"><span class=\"toc-item-num\">10.1&nbsp;&nbsp;</span>Visualizing 3D structure</a></span></li></ul></li><li><span><a href=\"#Adding-ions\" data-toc-modified-id=\"Adding-ions-11\"><span class=\"toc-item-num\">11&nbsp;&nbsp;</span>Adding ions</a></span><ul class=\"toc-item\"><li><span><a href=\"#Step-1:-Creating-portable-binary-run-file-for-ion-generation\" data-toc-modified-id=\"Step-1:-Creating-portable-binary-run-file-for-ion-generation-11.1\"><span class=\"toc-item-num\">11.1&nbsp;&nbsp;</span>Step 1: Creating portable binary run file for ion generation</a></span></li><li><span><a href=\"#Step-2:-Adding-ions-to-neutralize-the-system-and-reach-a-0.05-molar-concentration\" data-toc-modified-id=\"Step-2:-Adding-ions-to-neutralize-the-system-and-reach-a-0.05-molar-concentration-11.2\"><span class=\"toc-item-num\">11.2&nbsp;&nbsp;</span>Step 2: Adding ions to neutralize the system and reach a 0.05 molar concentration</a></span></li><li><span><a href=\"#Visualizing-3D-structure\" data-toc-modified-id=\"Visualizing-3D-structure-11.3\"><span class=\"toc-item-num\">11.3&nbsp;&nbsp;</span>Visualizing 3D structure</a></span></li></ul></li><li><span><a href=\"#Energetically-minimize-the-system\" data-toc-modified-id=\"Energetically-minimize-the-system-12\"><span class=\"toc-item-num\">12&nbsp;&nbsp;</span>Energetically minimize the system</a></span><ul class=\"toc-item\"><li><span><a href=\"#Step-1:-Creating-portable-binary-run-file-for-energy-minimization\" data-toc-modified-id=\"Step-1:-Creating-portable-binary-run-file-for-energy-minimization-12.1\"><span class=\"toc-item-num\">12.1&nbsp;&nbsp;</span>Step 1: Creating portable binary run file for energy minimization</a></span></li><li><span><a href=\"#Step-2:-Running-Energy-Minimization\" data-toc-modified-id=\"Step-2:-Running-Energy-Minimization-12.2\"><span class=\"toc-item-num\">12.2&nbsp;&nbsp;</span>Step 2: Running Energy Minimization</a></span></li><li><span><a href=\"#Step-3:-Checking-Energy-Minimization-results\" data-toc-modified-id=\"Step-3:-Checking-Energy-Minimization-results-12.3\"><span class=\"toc-item-num\">12.3&nbsp;&nbsp;</span>Step 3: Checking Energy Minimization results</a></span></li></ul></li><li><span><a href=\"#Equilibrate-the-system-(NVT)\" data-toc-modified-id=\"Equilibrate-the-system-(NVT)-13\"><span class=\"toc-item-num\">13&nbsp;&nbsp;</span>Equilibrate the system (NVT)</a></span><ul class=\"toc-item\"><li><span><a href=\"#Step-1:-Creating-an-index-file-with-a-new-group-including-the-protein-ligand-complex\" data-toc-modified-id=\"Step-1:-Creating-an-index-file-with-a-new-group-including-the-protein-ligand-complex-13.1\"><span class=\"toc-item-num\">13.1&nbsp;&nbsp;</span>Step 1: Creating an index file with a new group including the <strong>protein-ligand complex</strong></a></span></li><li><span><a href=\"#Step-2:-Creating-portable-binary-run-file-for-system-equilibration-(NVT)\" data-toc-modified-id=\"Step-2:-Creating-portable-binary-run-file-for-system-equilibration-(NVT)-13.2\"><span class=\"toc-item-num\">13.2&nbsp;&nbsp;</span>Step 2: Creating portable binary run file for system equilibration (NVT)</a></span></li><li><span><a href=\"#Step-3:-Running-NVT-equilibration\" data-toc-modified-id=\"Step-3:-Running-NVT-equilibration-13.3\"><span class=\"toc-item-num\">13.3&nbsp;&nbsp;</span>Step 3: Running NVT equilibration</a></span></li><li><span><a href=\"#Step-4:-Checking-NVT-Equilibration-results\" data-toc-modified-id=\"Step-4:-Checking-NVT-Equilibration-results-13.4\"><span class=\"toc-item-num\">13.4&nbsp;&nbsp;</span>Step 4: Checking NVT Equilibration results</a></span></li></ul></li><li><span><a href=\"#Equilibrate-the-system-(NPT)\" data-toc-modified-id=\"Equilibrate-the-system-(NPT)-14\"><span class=\"toc-item-num\">14&nbsp;&nbsp;</span>Equilibrate the system (NPT)</a></span><ul class=\"toc-item\"><li><span><a href=\"#Step-1:-Creating-portable-binary-run-file-for-system-equilibration-(NPT)\" data-toc-modified-id=\"Step-1:-Creating-portable-binary-run-file-for-system-equilibration-(NPT)-14.1\"><span class=\"toc-item-num\">14.1&nbsp;&nbsp;</span>Step 1: Creating portable binary run file for system equilibration (NPT)</a></span></li><li><span><a href=\"#Step-2:-Running-NPT-equilibration\" data-toc-modified-id=\"Step-2:-Running-NPT-equilibration-14.2\"><span class=\"toc-item-num\">14.2&nbsp;&nbsp;</span>Step 2: Running NPT equilibration</a></span></li><li><span><a href=\"#Step-3:-Checking-NPT-Equilibration-results\" data-toc-modified-id=\"Step-3:-Checking-NPT-Equilibration-results-14.3\"><span class=\"toc-item-num\">14.3&nbsp;&nbsp;</span>Step 3: Checking NPT Equilibration results</a></span></li></ul></li><li><span><a href=\"#Free-Molecular-Dynamics-Simulation\" data-toc-modified-id=\"Free-Molecular-Dynamics-Simulation-15\"><span class=\"toc-item-num\">15&nbsp;&nbsp;</span>Free Molecular Dynamics Simulation</a></span><ul class=\"toc-item\"><li><span><a href=\"#Step-1:-Creating-portable-binary-run-file-to-run-a-free-MD-simulation\" data-toc-modified-id=\"Step-1:-Creating-portable-binary-run-file-to-run-a-free-MD-simulation-15.1\"><span class=\"toc-item-num\">15.1&nbsp;&nbsp;</span>Step 1: Creating portable binary run file to run a free MD simulation</a></span></li><li><span><a href=\"#Step-2:-Running-short-free-MD-simulation\" data-toc-modified-id=\"Step-2:-Running-short-free-MD-simulation-15.2\"><span class=\"toc-item-num\">15.2&nbsp;&nbsp;</span>Step 2: Running short free MD simulation</a></span></li><li><span><a href=\"#Step-3:-Checking-free-MD-simulation-results\" data-toc-modified-id=\"Step-3:-Checking-free-MD-simulation-results-15.3\"><span class=\"toc-item-num\">15.3&nbsp;&nbsp;</span>Step 3: Checking free MD simulation results</a></span></li></ul></li><li><span><a href=\"#Post-processing-and-Visualizing-resulting-3D-trajectory\" data-toc-modified-id=\"Post-processing-and-Visualizing-resulting-3D-trajectory-16\"><span class=\"toc-item-num\">16&nbsp;&nbsp;</span>Post-processing and Visualizing resulting 3D trajectory</a></span><ul class=\"toc-item\"><li><span><a href=\"#Step-1:-Imaging-the-resulting-trajectory.\" data-toc-modified-id=\"Step-1:-Imaging-the-resulting-trajectory.-16.1\"><span class=\"toc-item-num\">16.1&nbsp;&nbsp;</span>Step 1: <em>Imaging</em> the resulting trajectory.</a></span></li><li><span><a href=\"#Step-2:-Generating-the-output-dry-structure.\" data-toc-modified-id=\"Step-2:-Generating-the-output-dry-structure.-16.2\"><span class=\"toc-item-num\">16.2&nbsp;&nbsp;</span>Step 2: Generating the output <em>dry</em> structure.</a></span></li><li><span><a href=\"#Step-3:-Visualizing-the-generated-dehydrated-trajectory.\" data-toc-modified-id=\"Step-3:-Visualizing-the-generated-dehydrated-trajectory.-16.3\"><span class=\"toc-item-num\">16.3&nbsp;&nbsp;</span>Step 3: Visualizing the generated dehydrated trajectory.</a></span></li></ul></li><li><span><a href=\"#Output-files\" data-toc-modified-id=\"Output-files-17\"><span class=\"toc-item-num\">17&nbsp;&nbsp;</span>Output files</a></span></li></ul></div>"
   ]
  },
  {
   "cell_type": "markdown",
   "metadata": {},
   "source": [
    "## Introduction\n",
    "\n",
    "***\n",
    "This notebook describes the process of **setting up a simulation system** containing a **protein (bcl-2, pdbcode 2xa0) in complex with a ligand (Genestein, Pubchem CID 5280961)**.\n",
    "\n",
    "We are using different open source tools wrapped into Python **BioExcel Building Blocks library (biobb)**. \n",
    "\n",
    "For molecular dynamics we are using the Gromacs MD tools wrapped into the biobb library.\n",
    "\n",
    "Based on the official Gromacs tutorial: http://www.mdtutorials.com/gmx/complex/index.html"
   ]
  },
  {
   "cell_type": "markdown",
   "metadata": {},
   "source": [
    "### Input parameters\n",
    " - **inputPdb**: PDB file of the protein-ligand complex structure resulting from docking process.\n",
    " \n",
    "### Global names\n",
    " - **pdbName**: \n",
    " - **ligandName**: Small molecule 3-letter code for the ligand structure (GEN for Genistein conformer).\n",
    " - **mol_charge**: Charge of the small molecule, needed to add hydrogen atoms."
   ]
  },
  {
   "cell_type": "code",
   "execution_count": 1,
   "metadata": {
    "scrolled": true
   },
   "outputs": [],
   "source": [
    "# Input\n",
    "input_protein  = \"input_protein.pdb\"    # Protein-ligand comples \"inputs/2xa0_A-Genistein.pdb\"\n",
    "\n",
    "# Global names\n",
    "pdbName    = \"protein\"\n",
    "ligandName = \"ligand\"\n",
    "ligandID   = \"GEN\"\n",
    "mol_charge = 0\n",
    "IMAGES = False"
   ]
  },
  {
   "cell_type": "markdown",
   "metadata": {},
   "source": [
    "### Libraries and Functions"
   ]
  },
  {
   "cell_type": "code",
   "execution_count": 2,
   "metadata": {},
   "outputs": [
    {
     "data": {
      "application/vnd.jupyter.widget-view+json": {
       "model_id": "0e0ef54001744d1abd8a2f03b5d71c95",
       "version_major": 2,
       "version_minor": 0
      },
      "text/plain": []
     },
     "metadata": {},
     "output_type": "display_data"
    }
   ],
   "source": [
    "import nglview               # For visualizing 3D structures\n",
    "import ipywidgets            # For organizing 3D structures in panels\n",
    "from IPython.display import Image       # For showing images\n",
    "import os, zipfile           # Python utilities"
   ]
  },
  {
   "cell_type": "markdown",
   "metadata": {},
   "source": [
    "### Visualizing initial complex structure"
   ]
  },
  {
   "cell_type": "code",
   "execution_count": 5,
   "metadata": {},
   "outputs": [
    {
     "data": {
      "application/vnd.jupyter.widget-view+json": {
       "model_id": "83ea7e558e33462bbcf789e3f2756870",
       "version_major": 2,
       "version_minor": 0
      },
      "text/plain": [
       "NGLWidget()"
      ]
     },
     "metadata": {},
     "output_type": "display_data"
    }
   ],
   "source": [
    "# Show protein-ligand complex\n",
    "nglview.show_structure_file(\"input.pdb\")"
   ]
  },
  {
   "cell_type": "markdown",
   "metadata": {},
   "source": [
    "if IMAGES: Image(filename='images/img00.png') "
   ]
  },
  {
   "cell_type": "markdown",
   "metadata": {},
   "source": [
    "## Extracting Protein, Ligand and Protein-Ligand Complex\n",
    "***\n",
    "**Building Blocks** used:\n",
    " - [extract_molecule](https://biobb-structure-utils.readthedocs.io/en/latest/utils.html#module-utils.extract_model): It includes structure manipulation options like selecting models or chains, removing components of the system, completing side chains and backbone, and quality checking as residue quirality, amide orientation, or vdw clashes.\n",
    "\n",
    " - [extract_heteroatoms](https://biobb-structure-utils.readthedocs.io/en/latest/utils.html#module-utils.extract_heteroatoms): Class to extract hetero-atoms from a 3D structure using Biopython.\n",
    "   \n",
    " - [cat_pdb](https://biobb-structure-utils.readthedocs.io/en/latest/utils.html#module-utils.cat_pdb): Class to concat two PDB structures in a single PDB file."
   ]
  },
  {
   "cell_type": "code",
   "execution_count": 23,
   "metadata": {
    "scrolled": true
   },
   "outputs": [
    {
     "name": "stdout",
     "output_type": "stream",
     "text": [
      ">>> Files: input.pdb GEN protein.pdb ligand.pdb complex.pdb\n"
     ]
    }
   ],
   "source": [
    "# Extracting Protein, Ligand and Protein-Ligand Complex to three different files\n",
    "# Import module\n",
    "from biobb_structure_utils.utils.extract_heteroatoms import extract_heteroatoms\n",
    "from biobb_structure_utils.utils.extract_molecule import extract_molecule\n",
    "from biobb_structure_utils.utils.cat_pdb import cat_pdb\n",
    "\n",
    "# Create inputs/outputs\n",
    "protein     = \"protein.pdb\"\n",
    "ligandFile  = \"ligand.pdb\"\n",
    "complexFile = \"complex.pdb\"\n",
    "print (\">>> Files:\", \"input.pdb\", ligandID, \"protein.pdb\", \"ligand.pdb\", \"complex.pdb\")"
   ]
  },
  {
   "cell_type": "code",
   "execution_count": 24,
   "metadata": {},
   "outputs": [
    {
     "name": "stdout",
     "output_type": "stream",
     "text": [
      "\n",
      ">>> Extracting molecule...\n",
      "2022-05-02 22:48:19,757 [MainThread  ] [INFO ]  ExtractMolecule: Unexisting input file, exiting\n"
     ]
    },
    {
     "ename": "SystemExit",
     "evalue": "ExtractMolecule: Unexisting input file",
     "output_type": "error",
     "traceback": [
      "An exception has occurred, use %tb to see the full traceback.\n",
      "\u001b[0;31mSystemExit\u001b[0m\u001b[0;31m:\u001b[0m ExtractMolecule: Unexisting input file\n"
     ]
    },
    {
     "name": "stderr",
     "output_type": "stream",
     "text": [
      "/opt/miniconda3/envs/biobb_env/lib/python3.7/site-packages/IPython/core/interactiveshell.py:3532: UserWarning: To exit: use 'exit', 'quit', or Ctrl-D.\n",
      "  warn(\"To exit: use 'exit', 'quit', or Ctrl-D.\", stacklevel=1)\n"
     ]
    }
   ],
   "source": [
    "# Extract molecule\n",
    "print (\"\\n>>> Extracting molecule...\")\n",
    "prop = {\n",
    "     'remove_tmp' : False\n",
    "}\n",
    "\n",
    "extract_molecule (input_structure_path = \"input.pdb\",\n",
    "                  output_molecule_path = \"protein.pdb\",\n",
    "                  properties = prop);"
   ]
  },
  {
   "cell_type": "code",
   "execution_count": 25,
   "metadata": {},
   "outputs": [
    {
     "name": "stdout",
     "output_type": "stream",
     "text": [
      "\n",
      ">>> Extracting ligand...\n",
      "2022-05-02 22:48:36,071 [MainThread  ] [INFO ]  ExtractHeteroAtoms: Unexisting input file, exiting\n"
     ]
    },
    {
     "ename": "SystemExit",
     "evalue": "ExtractHeteroAtoms: Unexisting input file",
     "output_type": "error",
     "traceback": [
      "An exception has occurred, use %tb to see the full traceback.\n",
      "\u001b[0;31mSystemExit\u001b[0m\u001b[0;31m:\u001b[0m ExtractHeteroAtoms: Unexisting input file\n"
     ]
    }
   ],
   "source": [
    "# Extract ligand \n",
    "print (\"\\n>>> Extracting ligand...\")\n",
    "prop = {\n",
    "     'heteroatoms' : [{\"name\": ligandID}]\n",
    "}\n",
    "\n",
    "extract_heteroatoms (input_structure_path   = \"input.pdb\",\n",
    "                     output_heteroatom_path = \"ligand.pdb\", \n",
    "                     properties             = prop);"
   ]
  },
  {
   "cell_type": "code",
   "execution_count": 26,
   "metadata": {},
   "outputs": [
    {
     "name": "stdout",
     "output_type": "stream",
     "text": [
      "\n",
      ">>> Creating complex...\n",
      "2022-05-02 22:48:36,734 [MainThread  ] [INFO ]  CatPDB: Unexisting input file, exiting\n"
     ]
    },
    {
     "ename": "SystemExit",
     "evalue": "CatPDB: Unexisting input file",
     "output_type": "error",
     "traceback": [
      "An exception has occurred, use %tb to see the full traceback.\n",
      "\u001b[0;31mSystemExit\u001b[0m\u001b[0;31m:\u001b[0m CatPDB: Unexisting input file\n"
     ]
    }
   ],
   "source": [
    "# Create complex\n",
    "print (\"\\n>>> Creating complex...\")\n",
    "cat_pdb (input_structure1      = \"protein.pdb\", \n",
    "         input_structure2      = \"ligand.pdb\",\n",
    "         output_structure_path = \"complex.pdb\");"
   ]
  },
  {
   "cell_type": "markdown",
   "metadata": {},
   "source": [
    "### Visualizing 3D structures "
   ]
  },
  {
   "cell_type": "code",
   "execution_count": 27,
   "metadata": {
    "scrolled": false
   },
   "outputs": [
    {
     "ename": "ValueError",
     "evalue": "you must provide file extension if using file-like object or text content",
     "output_type": "error",
     "traceback": [
      "\u001b[0;31m---------------------------------------------------------------------------\u001b[0m",
      "\u001b[0;31mValueError\u001b[0m                                Traceback (most recent call last)",
      "\u001b[0;32m/tmp/ipykernel_8814/1583175993.py\u001b[0m in \u001b[0;36m<module>\u001b[0;34m\u001b[0m\n\u001b[1;32m      1\u001b[0m \u001b[0;31m# Show structures: protein, ligand and protein-ligand complex\u001b[0m\u001b[0;34m\u001b[0m\u001b[0;34m\u001b[0m\u001b[0;34m\u001b[0m\u001b[0m\n\u001b[0;32m----> 2\u001b[0;31m \u001b[0mview1\u001b[0m \u001b[0;34m=\u001b[0m \u001b[0mnglview\u001b[0m\u001b[0;34m.\u001b[0m\u001b[0mshow_structure_file\u001b[0m\u001b[0;34m(\u001b[0m\u001b[0mprotein\u001b[0m\u001b[0;34m)\u001b[0m\u001b[0;34m\u001b[0m\u001b[0;34m\u001b[0m\u001b[0m\n\u001b[0m\u001b[1;32m      3\u001b[0m \u001b[0mview1\u001b[0m\u001b[0;34m.\u001b[0m\u001b[0m_remote_call\u001b[0m\u001b[0;34m(\u001b[0m\u001b[0;34m'setSize'\u001b[0m\u001b[0;34m,\u001b[0m \u001b[0mtarget\u001b[0m\u001b[0;34m=\u001b[0m\u001b[0;34m'Widget'\u001b[0m\u001b[0;34m,\u001b[0m \u001b[0margs\u001b[0m\u001b[0;34m=\u001b[0m\u001b[0;34m[\u001b[0m\u001b[0;34m'350px'\u001b[0m\u001b[0;34m,\u001b[0m\u001b[0;34m'400px'\u001b[0m\u001b[0;34m]\u001b[0m\u001b[0;34m)\u001b[0m\u001b[0;34m\u001b[0m\u001b[0;34m\u001b[0m\u001b[0m\n\u001b[1;32m      4\u001b[0m \u001b[0mview1\u001b[0m\u001b[0;34m\u001b[0m\u001b[0;34m\u001b[0m\u001b[0m\n\u001b[1;32m      5\u001b[0m \u001b[0mview2\u001b[0m \u001b[0;34m=\u001b[0m \u001b[0mnglview\u001b[0m\u001b[0;34m.\u001b[0m\u001b[0mshow_structure_file\u001b[0m\u001b[0;34m(\u001b[0m\u001b[0mligandFile\u001b[0m\u001b[0;34m)\u001b[0m\u001b[0;34m\u001b[0m\u001b[0;34m\u001b[0m\u001b[0m\n",
      "\u001b[0;32m/opt/miniconda3/envs/biobb_env/lib/python3.7/site-packages/nglview/show.py\u001b[0m in \u001b[0;36mshow_structure_file\u001b[0;34m(path, **kwargs)\u001b[0m\n\u001b[1;32m    215\u001b[0m     \u001b[0;34m>>\u001b[0m\u001b[0;34m>\u001b[0m \u001b[0mw\u001b[0m \u001b[0;31m# doctest: +SKIP\u001b[0m\u001b[0;34m\u001b[0m\u001b[0;34m\u001b[0m\u001b[0m\n\u001b[1;32m    216\u001b[0m     '''\n\u001b[0;32m--> 217\u001b[0;31m     \u001b[0mstructure\u001b[0m \u001b[0;34m=\u001b[0m \u001b[0mFileStructure\u001b[0m\u001b[0;34m(\u001b[0m\u001b[0mpath\u001b[0m\u001b[0;34m)\u001b[0m\u001b[0;34m\u001b[0m\u001b[0;34m\u001b[0m\u001b[0m\n\u001b[0m\u001b[1;32m    218\u001b[0m     \u001b[0;32mreturn\u001b[0m \u001b[0mNGLWidget\u001b[0m\u001b[0;34m(\u001b[0m\u001b[0mstructure\u001b[0m\u001b[0;34m,\u001b[0m \u001b[0;34m**\u001b[0m\u001b[0mkwargs\u001b[0m\u001b[0;34m)\u001b[0m\u001b[0;34m\u001b[0m\u001b[0;34m\u001b[0m\u001b[0m\n\u001b[1;32m    219\u001b[0m \u001b[0;34m\u001b[0m\u001b[0m\n",
      "\u001b[0;32m/opt/miniconda3/envs/biobb_env/lib/python3.7/site-packages/nglview/adaptor.py\u001b[0m in \u001b[0;36m__init__\u001b[0;34m(self, path)\u001b[0m\n\u001b[1;32m     76\u001b[0m         \u001b[0msuper\u001b[0m\u001b[0;34m(\u001b[0m\u001b[0;34m)\u001b[0m\u001b[0;34m.\u001b[0m\u001b[0m__init__\u001b[0m\u001b[0;34m(\u001b[0m\u001b[0;34m)\u001b[0m\u001b[0;34m\u001b[0m\u001b[0;34m\u001b[0m\u001b[0m\n\u001b[1;32m     77\u001b[0m         \u001b[0mself\u001b[0m\u001b[0;34m.\u001b[0m\u001b[0mfm\u001b[0m \u001b[0;34m=\u001b[0m \u001b[0mFileManager\u001b[0m\u001b[0;34m(\u001b[0m\u001b[0mpath\u001b[0m\u001b[0;34m)\u001b[0m\u001b[0;34m\u001b[0m\u001b[0;34m\u001b[0m\u001b[0m\n\u001b[0;32m---> 78\u001b[0;31m         \u001b[0mself\u001b[0m\u001b[0;34m.\u001b[0m\u001b[0mext\u001b[0m \u001b[0;34m=\u001b[0m \u001b[0mself\u001b[0m\u001b[0;34m.\u001b[0m\u001b[0mfm\u001b[0m\u001b[0;34m.\u001b[0m\u001b[0mext\u001b[0m\u001b[0;34m\u001b[0m\u001b[0;34m\u001b[0m\u001b[0m\n\u001b[0m\u001b[1;32m     79\u001b[0m         \u001b[0mself\u001b[0m\u001b[0;34m.\u001b[0m\u001b[0mparams\u001b[0m \u001b[0;34m=\u001b[0m \u001b[0;34m{\u001b[0m\u001b[0;34m}\u001b[0m\u001b[0;34m\u001b[0m\u001b[0;34m\u001b[0m\u001b[0m\n\u001b[1;32m     80\u001b[0m         \u001b[0mself\u001b[0m\u001b[0;34m.\u001b[0m\u001b[0mpath\u001b[0m \u001b[0;34m=\u001b[0m \u001b[0mpath\u001b[0m\u001b[0;34m\u001b[0m\u001b[0;34m\u001b[0m\u001b[0m\n",
      "\u001b[0;32m/opt/miniconda3/envs/biobb_env/lib/python3.7/site-packages/nglview/utils/py_utils.py\u001b[0m in \u001b[0;36mext\u001b[0;34m(self)\u001b[0m\n\u001b[1;32m    241\u001b[0m                                              and not self.is_url):\n\u001b[1;32m    242\u001b[0m                 raise ValueError(\n\u001b[0;32m--> 243\u001b[0;31m                     \u001b[0;34m\"you must provide file extension if using file-like object or text content\"\u001b[0m\u001b[0;34m\u001b[0m\u001b[0;34m\u001b[0m\u001b[0m\n\u001b[0m\u001b[1;32m    244\u001b[0m                 )\n\u001b[1;32m    245\u001b[0m             \u001b[0;32mif\u001b[0m \u001b[0mself\u001b[0m\u001b[0;34m.\u001b[0m\u001b[0mis_compressed\u001b[0m\u001b[0;34m:\u001b[0m\u001b[0;34m\u001b[0m\u001b[0;34m\u001b[0m\u001b[0m\n",
      "\u001b[0;31mValueError\u001b[0m: you must provide file extension if using file-like object or text content"
     ]
    }
   ],
   "source": [
    "# Show structures: protein, ligand and protein-ligand complex\n",
    "view1 = nglview.show_structure_file(protein)\n",
    "view1._remote_call('setSize', target='Widget', args=['350px','400px'])\n",
    "view1\n",
    "view2 = nglview.show_structure_file(ligandFile)\n",
    "view2.add_representation(repr_type='ball+stick')\n",
    "view2._remote_call('setSize', target='Widget', args=['350px','400px'])\n",
    "view2\n",
    "view3 = nglview.show_structure_file(complexFile)\n",
    "view3.add_representation(repr_type='licorice', radius='.5', selection=ligandName)\n",
    "view3._remote_call('setSize', target='Widget', args=['350px','400px'])\n",
    "view3\n",
    "ipywidgets.HBox([view1, view2, view3])"
   ]
  },
  {
   "cell_type": "markdown",
   "metadata": {},
   "source": [
    "<img src='images/img01.png' style='float: center;width:50%'></img>"
   ]
  },
  {
   "cell_type": "markdown",
   "metadata": {},
   "source": [
    "<a id=\"fix\"></a>\n",
    "***\n",
    "## Fix protein structure\n",
    "**Checking** and **fixing** (if needed) the protein structure:<br>\n",
    "- **Modeling** **missing side-chain atoms**, modifying incorrect **amide assignments**, choosing **alternative locations**.<br>\n",
    "- **Checking** for missing **backbone atoms**, **heteroatoms**, **modified residues** and possible **atomic clashes**.\n",
    "***\n",
    "**Building Blocks** used:\n",
    " - [FixSideChain](https://biobb-model.readthedocs.io/en/latest/model.html#module-model.fix_side_chain) from **biobb_model.model.fix_side_chain**\n",
    "\n",
    "Class to model the missing atoms in amino acid side chains of a PDB.\n",
    "Model the missing atoms in amino acid side chains of a PDB using biobb_structure_checking if the use_modeller property is added the Modeller suite will also be used to rebuild the missing atoms.\n",
    "***"
   ]
  },
  {
   "cell_type": "markdown",
   "metadata": {},
   "source": [
    "### Perform all checks\n",
    "Check for structure errors:\n",
    "- Detect/Fix **Amide** atoms Assignment\n",
    "- Detect/Fix Improper **quirality**\n",
    "- Side chains: \n",
    "    - Complete side chains (heavy atoms)\n",
    "    - Rebuild complete side chain using Modeller\n",
    "- Backbone: Analyze main chain missing atoms and fragments (protein only):\n",
    "   - fix_atoms Missing O, OXT atoms can be fixed \n",
    "   - fix_main Missing fragments filled using comparative modelling (Modeller License needed)\n",
    "   - add_caps Adds ACE and NME residues as necessary, preserving existing atoms\n",
    "   - extra_gap Recovers additional residues from model either side of the break, helps to fix loop connections (experimental)"
   ]
  },
  {
   "cell_type": "code",
   "execution_count": 28,
   "metadata": {},
   "outputs": [
    {
     "name": "stdout",
     "output_type": "stream",
     "text": [
      "===============================================================================\n",
      "=                   BioBB structure checking utility v3.8.1                   =\n",
      "=                 A. Hospital, P. Andrio, J.L. Gelpi 2018-21                  =\n",
      "===============================================================================\n",
      "\n",
      "Structure inputs/2xa0.cif loaded\n",
      " PDB id: 2XA0\n",
      " Title: Crystal structure of BCL-2 in complex with a BAX BH3 peptide\n",
      " Experimental method: X-RAY DIFFRACTION\n",
      " Keywords: APOPTOSIS\n",
      " Resolution (A): 2.70\n",
      "\n",
      " Num. models: 1\n",
      " Num. chains: 4 (A: Protein, B: Protein, C: Protein, D: Protein)\n",
      " Num. residues:  347\n",
      " Num. residues with ins. codes:  0\n",
      " Num. HETATM residues:  21\n",
      " Num. ligands or modified residues:  0\n",
      " Num. water mol.:  21\n",
      " Num. atoms:  2733\n",
      "\n",
      "Running models.\n",
      "1 Model(s) detected\n",
      "Single model found\n",
      "Running chains.\n",
      "4 Chain(s) detected\n",
      " A: Protein\n",
      " B: Protein\n",
      " C: Protein\n",
      " D: Protein\n",
      "Running inscodes.\n",
      "No residues with insertion codes found\n",
      "Running altloc.\n",
      "No residues with alternative location labels detected\n",
      "Running rem_hydrogen.\n",
      "No residues with Hydrogen atoms found\n",
      "Running add_hydrogen.\n",
      "116 Residues requiring selection on adding H atoms\n",
      " CYS A158,B158,C62,D62\n",
      " ASP A10,A31,A102,A103,A111,A140,A171,A191,A196,B10,B31,B102,B103,B111,B140,B171,B191,B196,C68,C71,C82,D68,D71,D82\n",
      " GLU A13,A29,A114,A135,A136,A152,A160,A165,A179,A200,B13,B29,B114,B135,B136,B152,B160,B165,B179,B200,C61,C69,C75,D61,D69,D75\n",
      " HIS A20,A94,A120,A184,A186,B20,B94,B120,B184,B186\n",
      " LYS A17,A22,B17,B22,C57,C58,D57,D58\n",
      " ARG A12,A26,A98,A106,A107,A109,A110,A127,A129,A139,A146,A164,A183,B12,B26,B98,B106,B107,B109,B110,B127,B129,B139,B146,B164,B183,C64,C65,C78,D64,D65,D78\n",
      " TYR A18,A21,A28,A108,A180,A202,B18,B21,B28,B108,B180,B202\n",
      "Running water.\n",
      "21 Water molecules detected\n",
      "Running metals.\n",
      "No metal ions found\n",
      "Running ligands.\n",
      "No ligands found\n",
      "Running getss.\n",
      "No SS bonds detected\n",
      "Running amide.\n",
      "5 unusual contact(s) involving amide atoms found\n",
      " ARG A107.NH2 ASN C73.ND2     2.933 A\n",
      " GLN B118.OE1 LYS D57.O       2.907 A\n",
      " ASN B143.OD1 ASP D68.OD1     2.845 A\n",
      " ASN B143.ND2 GLY B145.N      2.601 A\n",
      " ASN B143.ND2 ARG B146.N      2.551 A\n",
      "Running chiral.\n",
      "No residues with incorrect side-chain chirality found\n",
      "Running chiral_bck.\n",
      "No residues with incorrect backbone chirality found\n",
      "Running fixside.\n",
      "No residues with missing or unknown side chain atoms found\n",
      "Running backbone.\n",
      "2 Residues with missing backbone atoms found\n",
      " ASP A31    OXT\n",
      " ASP B31    OXT\n",
      "2 Backbone breaks found\n",
      " ASP A31    - VAL A92    \n",
      " ASP B31    - VAL B92    \n",
      "No unexpected backbone links\n",
      "Running cistransbck.\n",
      "No cis peptide bonds found\n",
      "No trans peptide bonds with unusual omega dihedrals found\n",
      "Running clashes.\n",
      "No severe clashes detected\n",
      "20 Steric apolar clashes detected\n",
      " ARG A12.O    MET A16.CG      2.715 A\n",
      " LYS A22.CE   GLU A152.OE2    2.650 A\n",
      " TYR A28.CZ   ASN A163.OD1    2.853 A\n",
      " VAL A93.O    LEU A97.CB      2.813 A\n",
      " THR A125.CG2 ARG A129.NE     2.556 A\n",
      " ALA A131.O   GLU A135.CG     2.853 A\n",
      " ASN B11.CB   ASN B182.OD1    2.868 A\n",
      " ILE B19.O    LEU B23.CD1     2.838 A\n",
      " LYS B22.CE   GLU B152.OE2    2.745 A\n",
      " HIS B120.C   ARG B129.NH1    2.889 A\n",
      " GLU B136.CB  SER D60.OG      2.686 A\n",
      " ASP B140.OD1 ARG D64.CZ      2.803 A\n",
      " GLU B160.OE2 ARG B164.CD     2.862 A\n",
      " ASN B172.O   LEU B175.CB     2.896 A\n",
      " TRP B188.CE2 ASN B192.ND2    2.882 A\n",
      " ILE B189.O   GLY B194.CA     2.874 A\n",
      " SER C60.O    ARG C64.CG      2.853 A\n",
      " LEU C70.O    MET C74.CG      2.796 A\n",
      " SER D60.O    ARG D64.CG      2.684 A\n",
      " MET D79.O    ASP D82.CB      2.625 A\n",
      "8 Steric polar_acceptor clashes detected\n",
      " LEU A23.O    TYR A28.O       3.058 A\n",
      " ARG A98.O    ASP A102.OD2    2.866 A\n",
      " ARG B12.O    MET B16.SD      3.006 A\n",
      " ARG B98.O    ASP B102.OD2    2.462 A\n",
      " GLN B118.OE1 LYS D57.O       2.907 A\n",
      " ASN B143.OD1 ASP D68.OD1     2.845 A\n",
      " ARG C78.O    ASP C82.OD1     2.372 A\n",
      " ARG D64.O    ASP D68.OD2     2.942 A\n",
      "7 Steric polar_donor clashes detected\n",
      " ARG A107.NH2 ASN C73.ND2     2.933 A\n",
      " LEU A121.N   ARG A164.NH1    2.831 A\n",
      " ARG A139.NH2 ARG C64.NH1     2.659 A\n",
      " ARG A146.NH2 ARG C64.NH2     2.879 A\n",
      " ARG B139.NH2 LYS C58.NZ      2.750 A\n",
      " ASN B143.ND2 GLY B145.N      2.601 A\n",
      " ASN B143.ND2 ARG B146.N      2.551 A\n",
      "3 Steric positive clashes detected\n",
      " ARG A139.NH2 ARG C64.NH1     2.659 A\n",
      " ARG A146.NH2 ARG C64.NH2     2.879 A\n",
      " ARG B139.NH2 LYS C58.NZ      2.750 A\n",
      "1 Steric negative clashes detected\n",
      " ASP D71.OD1  GLU D75.OE2     3.386 A\n",
      "Running sequences.\n",
      "Canonical sequence\n",
      ">can_sq_A canonical sequence chain A\n",
      "MAHAGRTGYDNREIVMKYIHYKLSQRGYEWDAGDVGAAPPGAAPAPGIFSSQPGHTPHPA\n",
      "ASRDPVARTSPLQTPAAPGAAAGPALSPVPPVVHLTLRQAGDDFSRRYRRDFAEMSSQLH\n",
      "LTPFTARGRFATVVEELFRDGVNWGRIVAFFEFGGVMCVESVNREMSPLVDNIALWMTEY\n",
      "LNRHLHTWIQDNGGWDAFVELYGPSMR\n",
      ">can_sq_B canonical sequence chain B\n",
      "MAHAGRTGYDNREIVMKYIHYKLSQRGYEWDAGDVGAAPPGAAPAPGIFSSQPGHTPHPA\n",
      "ASRDPVARTSPLQTPAAPGAAAGPALSPVPPVVHLTLRQAGDDFSRRYRRDFAEMSSQLH\n",
      "LTPFTARGRFATVVEELFRDGVNWGRIVAFFEFGGVMCVESVNREMSPLVDNIALWMTEY\n",
      "LNRHLHTWIQDNGGWDAFVELYGPSMR\n",
      ">can_sq_C canonical sequence chain C\n",
      "QDASTKKLSECLRRIGDELDSNMELQRMIAD\n",
      ">can_sq_D canonical sequence chain D\n",
      "QDASTKKLSECLRRIGDELDSNMELQRMIAD\n",
      "\n",
      "Structure sequence\n",
      ">pdb_sq_A Frags: 92-206\n",
      "---------DNREIVMKYIHYKLSQRGYEWD-----------------------------\n",
      "-------------------------------VVHLTLRQAGDDFSRRYRRDFAEMSSQLH\n",
      "LTPFTARGRFATVVEELFRDGVNWGRIVAFFEFGGVMCVESVNREMSPLVDNIALWMTEY\n",
      "LNRHLHTWIQDNGGWDAFVELYGPSM-\n",
      ">pdb_sq_B Frags: 92-206\n",
      "---------DNREIVMKYIHYKLSQRGYEWD-----------------------------\n",
      "-------------------------------VVHLTLRQAGDDFSRRYRRDFAEMSSQLH\n",
      "LTPFTARGRFATVVEELFRDGVNWGRIVAFFEFGGVMCVESVNREMSPLVDNIALWMTEY\n",
      "LNRHLHTWIQDNGGWDAFVELYGPSM-\n",
      ">pdb_sq_C Frags: \n",
      "-----KKLSECLRRIGDELDSNMELQRMIAD\n",
      ">pdb_sq_D Frags: \n",
      "-----KKLSECLRRIGDELDSNMELQRMIAD\n",
      "\n"
     ]
    }
   ],
   "source": [
    "!check_structure -i inputs/2xa0.cif checkall"
   ]
  },
  {
   "cell_type": "code",
   "execution_count": 29,
   "metadata": {},
   "outputs": [
    {
     "name": "stdout",
     "output_type": "stream",
     "text": [
      "2022-05-02 22:48:43,310 [MainThread  ] [INFO ]  check_structure -i protein.pdb -o protein_fixed.pdb --force_save fixside --fix ALL\n",
      "\n",
      "2022-05-02 22:48:43,311 [MainThread  ] [INFO ]  Exit code 1\n",
      "\n",
      "2022-05-02 22:48:43,312 [MainThread  ] [INFO ]  ===============================================================================\n",
      "=                   BioBB structure checking utility v3.8.1                   =\n",
      "=                 A. Hospital, P. Andrio, J.L. Gelpi 2018-21                  =\n",
      "===============================================================================\n",
      "\n",
      "\n",
      "2022-05-02 22:48:43,312 [MainThread  ] [INFO ]  ERROR: fetching/parsing structure from protein.pdb\n",
      "\n",
      "2022-05-02 22:48:43,313 [MainThread  ] [INFO ]  Removed: []\n"
     ]
    }
   ],
   "source": [
    "# Check & Fix Protein Structure\n",
    "# Import module\n",
    "from biobb_model.model.fix_side_chain import fix_side_chain\n",
    "\n",
    "# Create prop dict and inputs/outputs\n",
    "fixed_pdb = pdbName +  '_fixed.pdb'\n",
    "\n",
    "# Create and launch bb\n",
    "fix_side_chain(input_pdb_path  = protein, \n",
    "               output_pdb_path = fixed_pdb);"
   ]
  },
  {
   "cell_type": "markdown",
   "metadata": {},
   "source": [
    "### Quilarity"
   ]
  },
  {
   "cell_type": "code",
   "execution_count": 30,
   "metadata": {},
   "outputs": [
    {
     "name": "stdout",
     "output_type": "stream",
     "text": [
      "===============================================================================\n",
      "=                   BioBB structure checking utility v3.8.1                   =\n",
      "=                 A. Hospital, P. Andrio, J.L. Gelpi 2018-21                  =\n",
      "===============================================================================\n",
      "\n",
      "Structure inputs/2xa0.cif loaded\n",
      " PDB id: 2XA0\n",
      " Title: Crystal structure of BCL-2 in complex with a BAX BH3 peptide\n",
      " Experimental method: X-RAY DIFFRACTION\n",
      " Keywords: APOPTOSIS\n",
      " Resolution (A): 2.70\n",
      "\n",
      " Num. models: 1\n",
      " Num. chains: 4 (A: Protein, B: Protein, C: Protein, D: Protein)\n",
      " Num. residues:  347\n",
      " Num. residues with ins. codes:  0\n",
      " Num. HETATM residues:  21\n",
      " Num. ligands or modified residues:  0\n",
      " Num. water mol.:  21\n",
      " Num. atoms:  2733\n",
      "\n",
      "Running amide. Options: --fix All\n",
      "5 unusual contact(s) involving amide atoms found\n",
      " ARG A107.NH2 ASN C73.ND2     2.933 A\n",
      " GLN B118.OE1 LYS D57.O       2.907 A\n",
      " ASN B143.OD1 ASP D68.OD1     2.845 A\n",
      " ASN B143.ND2 GLY B145.N      2.601 A\n",
      " ASN B143.ND2 ARG B146.N      2.551 A\n",
      "Amide residues fixed All (3)\n",
      "Rechecking\n",
      "2 unusual contact(s) involving amide atoms found\n",
      " GLN B118.NE2 LEU D59.N       2.605 A\n",
      " ASN B143.OD1 ASP D71.OD2     3.062 A\n",
      "Final Num. models: 1\n",
      "Final Num. chains: 4 (A: Protein, B: Protein, C: Protein, D: Protein)\n",
      "Final Num. residues:  347\n",
      "Final Num. residues with ins. codes:  0\n",
      "Final Num. HETATM residues:  21\n",
      "Final Num. ligands or modified residues:  0\n",
      "Final Num. water mol.:  21\n",
      "Final Num. atoms:  2733\n",
      "Structure saved on fix_complex_chiral.pdb\n"
     ]
    }
   ],
   "source": [
    "!check_structure -i inputs/2xa0.cif -o \"fix_complex_chiral.pdb\" amide --fix All"
   ]
  },
  {
   "cell_type": "code",
   "execution_count": 31,
   "metadata": {
    "scrolled": false
   },
   "outputs": [
    {
     "ename": "ValueError",
     "evalue": "you must provide file extension if using file-like object or text content",
     "output_type": "error",
     "traceback": [
      "\u001b[0;31m---------------------------------------------------------------------------\u001b[0m",
      "\u001b[0;31mValueError\u001b[0m                                Traceback (most recent call last)",
      "\u001b[0;32m/tmp/ipykernel_8814/617581553.py\u001b[0m in \u001b[0;36m<module>\u001b[0;34m\u001b[0m\n\u001b[1;32m      1\u001b[0m \u001b[0;31m# Show structures: protein, ligand and protein-ligand complex\u001b[0m\u001b[0;34m\u001b[0m\u001b[0;34m\u001b[0m\u001b[0;34m\u001b[0m\u001b[0m\n\u001b[0;32m----> 2\u001b[0;31m \u001b[0mview1\u001b[0m \u001b[0;34m=\u001b[0m \u001b[0mnglview\u001b[0m\u001b[0;34m.\u001b[0m\u001b[0mshow_structure_file\u001b[0m\u001b[0;34m(\u001b[0m\u001b[0mfixed_pdb\u001b[0m\u001b[0;34m,\u001b[0m \u001b[0mdefault_representation\u001b[0m\u001b[0;34m=\u001b[0m\u001b[0;32mFalse\u001b[0m\u001b[0;34m)\u001b[0m\u001b[0;34m\u001b[0m\u001b[0;34m\u001b[0m\u001b[0m\n\u001b[0m\u001b[1;32m      3\u001b[0m view1.add_licorice(\n\u001b[1;32m      4\u001b[0m     \u001b[0;34m\"sidechainAttached \"\u001b[0m\u001b[0;34m\u001b[0m\u001b[0;34m\u001b[0m\u001b[0m\n\u001b[1;32m      5\u001b[0m )  # color=\"#FF0000\" or color=0xFF0000 would also work!\n",
      "\u001b[0;32m/opt/miniconda3/envs/biobb_env/lib/python3.7/site-packages/nglview/show.py\u001b[0m in \u001b[0;36mshow_structure_file\u001b[0;34m(path, **kwargs)\u001b[0m\n\u001b[1;32m    215\u001b[0m     \u001b[0;34m>>\u001b[0m\u001b[0;34m>\u001b[0m \u001b[0mw\u001b[0m \u001b[0;31m# doctest: +SKIP\u001b[0m\u001b[0;34m\u001b[0m\u001b[0;34m\u001b[0m\u001b[0m\n\u001b[1;32m    216\u001b[0m     '''\n\u001b[0;32m--> 217\u001b[0;31m     \u001b[0mstructure\u001b[0m \u001b[0;34m=\u001b[0m \u001b[0mFileStructure\u001b[0m\u001b[0;34m(\u001b[0m\u001b[0mpath\u001b[0m\u001b[0;34m)\u001b[0m\u001b[0;34m\u001b[0m\u001b[0;34m\u001b[0m\u001b[0m\n\u001b[0m\u001b[1;32m    218\u001b[0m     \u001b[0;32mreturn\u001b[0m \u001b[0mNGLWidget\u001b[0m\u001b[0;34m(\u001b[0m\u001b[0mstructure\u001b[0m\u001b[0;34m,\u001b[0m \u001b[0;34m**\u001b[0m\u001b[0mkwargs\u001b[0m\u001b[0;34m)\u001b[0m\u001b[0;34m\u001b[0m\u001b[0;34m\u001b[0m\u001b[0m\n\u001b[1;32m    219\u001b[0m \u001b[0;34m\u001b[0m\u001b[0m\n",
      "\u001b[0;32m/opt/miniconda3/envs/biobb_env/lib/python3.7/site-packages/nglview/adaptor.py\u001b[0m in \u001b[0;36m__init__\u001b[0;34m(self, path)\u001b[0m\n\u001b[1;32m     76\u001b[0m         \u001b[0msuper\u001b[0m\u001b[0;34m(\u001b[0m\u001b[0;34m)\u001b[0m\u001b[0;34m.\u001b[0m\u001b[0m__init__\u001b[0m\u001b[0;34m(\u001b[0m\u001b[0;34m)\u001b[0m\u001b[0;34m\u001b[0m\u001b[0;34m\u001b[0m\u001b[0m\n\u001b[1;32m     77\u001b[0m         \u001b[0mself\u001b[0m\u001b[0;34m.\u001b[0m\u001b[0mfm\u001b[0m \u001b[0;34m=\u001b[0m \u001b[0mFileManager\u001b[0m\u001b[0;34m(\u001b[0m\u001b[0mpath\u001b[0m\u001b[0;34m)\u001b[0m\u001b[0;34m\u001b[0m\u001b[0;34m\u001b[0m\u001b[0m\n\u001b[0;32m---> 78\u001b[0;31m         \u001b[0mself\u001b[0m\u001b[0;34m.\u001b[0m\u001b[0mext\u001b[0m \u001b[0;34m=\u001b[0m \u001b[0mself\u001b[0m\u001b[0;34m.\u001b[0m\u001b[0mfm\u001b[0m\u001b[0;34m.\u001b[0m\u001b[0mext\u001b[0m\u001b[0;34m\u001b[0m\u001b[0;34m\u001b[0m\u001b[0m\n\u001b[0m\u001b[1;32m     79\u001b[0m         \u001b[0mself\u001b[0m\u001b[0;34m.\u001b[0m\u001b[0mparams\u001b[0m \u001b[0;34m=\u001b[0m \u001b[0;34m{\u001b[0m\u001b[0;34m}\u001b[0m\u001b[0;34m\u001b[0m\u001b[0;34m\u001b[0m\u001b[0m\n\u001b[1;32m     80\u001b[0m         \u001b[0mself\u001b[0m\u001b[0;34m.\u001b[0m\u001b[0mpath\u001b[0m \u001b[0;34m=\u001b[0m \u001b[0mpath\u001b[0m\u001b[0;34m\u001b[0m\u001b[0;34m\u001b[0m\u001b[0m\n",
      "\u001b[0;32m/opt/miniconda3/envs/biobb_env/lib/python3.7/site-packages/nglview/utils/py_utils.py\u001b[0m in \u001b[0;36mext\u001b[0;34m(self)\u001b[0m\n\u001b[1;32m    241\u001b[0m                                              and not self.is_url):\n\u001b[1;32m    242\u001b[0m                 raise ValueError(\n\u001b[0;32m--> 243\u001b[0;31m                     \u001b[0;34m\"you must provide file extension if using file-like object or text content\"\u001b[0m\u001b[0;34m\u001b[0m\u001b[0;34m\u001b[0m\u001b[0m\n\u001b[0m\u001b[1;32m    244\u001b[0m                 )\n\u001b[1;32m    245\u001b[0m             \u001b[0;32mif\u001b[0m \u001b[0mself\u001b[0m\u001b[0;34m.\u001b[0m\u001b[0mis_compressed\u001b[0m\u001b[0;34m:\u001b[0m\u001b[0;34m\u001b[0m\u001b[0;34m\u001b[0m\u001b[0m\n",
      "\u001b[0;31mValueError\u001b[0m: you must provide file extension if using file-like object or text content"
     ]
    }
   ],
   "source": [
    "# Show structures: protein, ligand and protein-ligand complex\n",
    "view1 = nglview.show_structure_file(fixed_pdb, default_representation=False)\n",
    "view1.add_licorice(\n",
    "    \"sidechainAttached \"\n",
    ")  # color=\"#FF0000\" or color=0xFF0000 would also work!\n",
    "view1.center()\n",
    "view1"
   ]
  },
  {
   "cell_type": "markdown",
   "metadata": {},
   "source": [
    "<a id=\"top\"></a>\n",
    "***\n",
    "## Create protein system topology\n",
    "**Building GROMACS topology** corresponding to the protein structure.<br>\n",
    "- Force field used is [**amber99sb-ildn**](https://dx.doi.org/10.1002%2Fprot.22711): \n",
    "    * AMBER **parm99** force field with **corrections on backbone** (sb) and **side-chain torsion potentials** (ildn).<br>\n",
    "    \n",
    "- Water molecules type used is [**spc/e**](https://pubs.acs.org/doi/abs/10.1021/j100308a038).<br>\n",
    "- Adding **hydrogen atoms** if missing. Automatically identifying **disulfide bridges**. <br>\n",
    "\n",
    "Generating two output files: \n",
    "- **GROMACS structure** (gro file)\n",
    "- **GROMACS topology** ZIP compressed file containing:\n",
    "    - *GROMACS topology top file* (top file)\n",
    "    - *GROMACS position restraint file/s* (itp file/s)\n",
    "    \n",
    "***\n",
    "**Building Blocks** used:\n",
    " - [Pdb2gmx](https://biobb-md.readthedocs.io/en/latest/gromacs.html#module-gromacs.pdb2gmx) from **biobb_md.gromacs.pdb2gmx**\n",
    "\n",
    "The GROMACS pdb2gmx module, reads a .pdb (or .gro) file, reads some database files, adds hydrogens to the molecules and generates coordinates in GROMACS (GROMOS), or optionally .pdb, format and a topology in GROMACS format. These files can subsequently be processed to generate a run input file.\n",
    "\n",
    "***"
   ]
  },
  {
   "cell_type": "code",
   "execution_count": null,
   "metadata": {
    "scrolled": true
   },
   "outputs": [],
   "source": [
    "# Create Protein system topology\n",
    "# Import module\n",
    "from biobb_md.gromacs.pdb2gmx import pdb2gmx\n",
    "\n",
    "# Create inputs/outputs\n",
    "output_pdb2gmx_gro     = pdbName + '_pdb2gmx.gro'\n",
    "output_pdb2gmx_top_zip = pdbName + '_pdb2gmx_top.zip'\n",
    "prop = {\n",
    "    'force_field' : 'amber99sb-ildn',\n",
    "    'water_type': 'spce'\n",
    "}\n",
    "\n",
    "# Create and launch bb\n",
    "pdb2gmx(input_pdb_path=fixed_pdb,\n",
    "        output_gro_path=output_pdb2gmx_gro,\n",
    "        output_top_zip_path=output_pdb2gmx_top_zip,\n",
    "        properties=prop)"
   ]
  },
  {
   "cell_type": "markdown",
   "metadata": {},
   "source": [
    "<a id=\"ligtop\"></a>\n",
    "***\n",
    "## Create ligand system topology\n",
    "- **Building GROMACS topology** corresponding to the ligand structure.<br>\n",
    "- Force field used is **amberGAFF**: [General AMBER Force Field](http://ambermd.org/antechamber/gaff.html), designed for rational drug design.<br>\n",
    "- [Step 1](#ligandTopologyStep1): Add **hydrogen atoms** if missing.\n",
    "- [Step 2](#ligandTopologyStep2): **Energetically minimize the system** with the new hydrogen atoms. \n",
    "- [Step 3](#ligandTopologyStep3): Generate **ligand topology** (parameters). \n",
    "\n",
    "***\n",
    "**Building Blocks** used:\n",
    " - [ReduceAddHydrogens](https://biobb-chemistry.readthedocs.io/en/latest/ambertools.html#module-ambertools.reduce_add_hydrogens) from **biobb_chemistry.ambertools.reduce_add_hydrogens**: \n",
    "     * Module for adding hydrogens to a given structure.\n",
    " \n",
    " \n",
    " - [BabelMinimize](https://biobb-chemistry.readthedocs.io/en/latest/babelm.html#module-babelm.babel_minimize) from **biobb_chemistry.babelm.babel_minimize**:\n",
    "     * Energetically minimizes small molecules. \n",
    "     \n",
    " \n",
    " - [AcpypeParamsGMX](https://biobb-chemistry.readthedocs.io/en/latest/acpype.html#module-acpype.acpype_params_gmx) from **biobb_chemistry.acpype.acpype_params_gmx**:\n",
    "     * Acpype is a tool based in Python to use Antechamber to generate topologies for chemical compounds and to interface with others python applications like CCPN or ARIA\n",
    "***"
   ]
  },
  {
   "cell_type": "markdown",
   "metadata": {},
   "source": [
    "<a id=\"ligandTopologyStep1\"></a>\n",
    "### Step 1: Add **hydrogen atoms**"
   ]
  },
  {
   "cell_type": "code",
   "execution_count": null,
   "metadata": {
    "scrolled": false
   },
   "outputs": [],
   "source": [
    "# Create Ligand system topology, STEP 1\n",
    "# Reduce_add_hydrogens: add Hydrogen atoms to a small molecule (using Reduce tool from Ambertools package)\n",
    "# Import module\n",
    "from biobb_chemistry.ambertools.reduce_add_hydrogens import reduce_add_hydrogens\n",
    "\n",
    "# Create prop dict and inputs/outputs\n",
    "output_reduce_h = ligandName + '_reduce_H.pdb' \n",
    "prop = {\n",
    "    'nuclear' : 'true'\n",
    "}\n",
    "\n",
    "# Create and launch bb\n",
    "reduce_add_hydrogens(input_path=ligandFile,\n",
    "                   output_path=output_reduce_h,\n",
    "                   properties=prop)\n"
   ]
  },
  {
   "cell_type": "markdown",
   "metadata": {},
   "source": [
    "<a id=\"ligandTopologyStep2\"></a>\n",
    "### Step 2: **Energetically minimize the system** with the new hydrogen atoms. "
   ]
  },
  {
   "cell_type": "code",
   "execution_count": null,
   "metadata": {},
   "outputs": [],
   "source": [
    "output_reduce_h"
   ]
  },
  {
   "cell_type": "code",
   "execution_count": null,
   "metadata": {
    "scrolled": false
   },
   "outputs": [],
   "source": [
    "# Create Ligand system topology, STEP 2\n",
    "# Babel_minimize: Structure energy minimization of a small molecule after being modified adding hydrogen atoms\n",
    "# Import module\n",
    "from biobb_chemistry.babelm.babel_minimize import babel_minimize\n",
    "\n",
    "# Create prop dict and inputs/outputs\n",
    "output_babel_min = ligandName + '.H.min.mol2'                              \n",
    "prop = {\n",
    "    'method' : 'cg', #ce\n",
    "    'criteria' : '1e-02', #1e-06\n",
    "    'force_field' : 'GAFF'\n",
    "}\n",
    "\n",
    "# Create and launch bb\n",
    "babel_minimize(input_path = output_reduce_h,\n",
    "              output_path = output_babel_min,\n",
    "              properties  = prop)"
   ]
  },
  {
   "cell_type": "markdown",
   "metadata": {},
   "source": [
    "### Visualizing 3D structures\n",
    "Visualizing the small molecule generated **PDB structures** using **NGL**:  \n",
    "- **Original Ligand Structure** (Left)\n",
    "- **Ligand Structure with hydrogen atoms added** (with Reduce program) (Center)\n",
    "- **Ligand Structure with hydrogen atoms added** (with Reduce program), **energy minimized** (with Open Babel) (Right) "
   ]
  },
  {
   "cell_type": "code",
   "execution_count": null,
   "metadata": {},
   "outputs": [],
   "source": [
    "# Show different structures generated (for comparison)\n",
    "\n",
    "view1 = nglview.show_structure_file(ligandFile)\n",
    "view1.add_representation(repr_type='ball+stick')\n",
    "view1._remote_call('setSize', target='Widget', args=['350px','400px'])\n",
    "view1.camera='orthographic'\n",
    "view1\n",
    "view2 = nglview.show_structure_file(output_reduce_h)\n",
    "view2.add_representation(repr_type='ball+stick')\n",
    "view2._remote_call('setSize', target='Widget', args=['350px','400px'])\n",
    "view2.camera='orthographic'\n",
    "view2\n",
    "view3 = nglview.show_structure_file(output_babel_min)\n",
    "view3.add_representation(repr_type='ball+stick')\n",
    "view3._remote_call('setSize', target='Widget', args=['350px','400px'])\n",
    "view3.camera='orthographic'\n",
    "view3\n",
    "ipywidgets.HBox([view1, view2, view3])"
   ]
  },
  {
   "cell_type": "markdown",
   "metadata": {},
   "source": [
    "<img src='images/ngl4-ngl5-ngl6.png' style='float: left;width:70%'></img>"
   ]
  },
  {
   "cell_type": "markdown",
   "metadata": {},
   "source": [
    "<a id=\"ligandTopologyStep3\"></a>\n",
    "### Step 3: Generate **ligand topology** (parameters).\n",
    "We use here ACPYPE tool (http://www.biomedcentral.com/1756-0500/5/367), a wrapper script around the ANTECHAMBER software (http://ambermd.org/) to generate topologies for chemical compounds. Topologies files to be generated so far: CNS/XPLOR, GROMACS, CHARMM and AMBER. Topologies generated by acpype/Antechamber are based on General Amber Force Field (GAFF) and should be used only with compatible force fields like AMBER and its variants."
   ]
  },
  {
   "cell_type": "code",
   "execution_count": null,
   "metadata": {
    "cell_style": "center",
    "scrolled": false
   },
   "outputs": [],
   "source": [
    "# Create Ligand system topology, STEP 3\n",
    "# Acpype_params_gmx: Generation of topologies for GROMACS with ACPype\n",
    "# Import module\n",
    "from biobb_chemistry.acpype.acpype_params_gmx import acpype_params_gmx\n",
    "\n",
    "# Create prop dict and inputs/outputs\n",
    "output_acpype_gro = ligandName + '_params.gro'\n",
    "output_acpype_itp = ligandName + '_params.itp'\n",
    "output_acpype_top = ligandName + '_params.top'\n",
    "output_acpype     = ligandName + '_params'\n",
    "prop = {\n",
    "    'basename' : output_acpype,\n",
    "    'charge' : mol_charge\n",
    "}\n",
    "\n",
    "# Create and launch bb\n",
    "acpype_params_gmx(input_path=output_babel_min, \n",
    "                output_path_gro=output_acpype_gro,\n",
    "                output_path_itp=output_acpype_itp,\n",
    "                output_path_top=output_acpype_top,\n",
    "                properties=prop);"
   ]
  },
  {
   "cell_type": "markdown",
   "metadata": {},
   "source": [
    "<a id=\"restraints\"></a>\n",
    "***\n",
    "## Preparing Ligand Restraints\n",
    "- In subsequent steps of the pipeline, such as the equilibration stages of the **protein-ligand complex** system, it is recommended to apply some **restraints** to the small molecule, to avoid a possible change in position due to protein repulsion. \n",
    "\n",
    "- **Position restraints** will be applied to the ligand, using a **force constant of 1000 KJ/mol\\*nm^2** on the three coordinates: x, y and z. In this steps the **restriction files** will be created and integrated in the **ligand topology**.\n",
    "- [Step 1](#restraintsStep1): Creating an index file with a new group including just the **small molecule heavy atoms**.\n",
    "- [Step 2](#restraintsStep2): Generating the **position restraints** file.\n",
    "***\n",
    "**Building Blocks** used:\n",
    " - [MakeNdx](https://biobb-md.readthedocs.io/en/latest/gromacs.html#module-gromacs.make_ndx) from **biobb_md.gromacs.make_ndx**:\n",
    "     * The GROMACS make_ndx module, generates an index file using the atoms of the selection.\n",
    "     \n",
    "     \n",
    " - [Genrestr](https://biobb-md.readthedocs.io/en/latest/gromacs.html#module-gromacs.genrestr) from **biobb_md.gromacs.genrestr**:\n",
    "     * Wrapper of the GROMACS genrestr module. The GROMACS genrestr module, produces an #include file for a topology containing a list of atom numbers and three force constants for the x-, y-, and z-direction based on the contents of the -f file. A single isotropic force constant may be given on the command line instead of three components.\n",
    "***"
   ]
  },
  {
   "cell_type": "markdown",
   "metadata": {},
   "source": [
    "<a id=\"restraintsStep1\"></a>\n",
    "### Step 1: Creating an index file for the small molecule heavy atoms"
   ]
  },
  {
   "cell_type": "code",
   "execution_count": null,
   "metadata": {
    "scrolled": false
   },
   "outputs": [],
   "source": [
    "# MakeNdx: Creating index file with a new group (small molecule heavy atoms)\n",
    "from biobb_md.gromacs.make_ndx import make_ndx\n",
    "\n",
    "# Create prop dict and inputs/outputs\n",
    "output_ligand_ndx = ligandName + '_index.ndx'\n",
    "prop = {\n",
    "    'selection': \"0 & ! a H*\"\n",
    "}\n",
    "\n",
    "# Create and launch bb\n",
    "make_ndx(input_structure_path=output_acpype_gro,\n",
    "        output_ndx_path=output_ligand_ndx,\n",
    "        properties=prop)"
   ]
  },
  {
   "cell_type": "markdown",
   "metadata": {},
   "source": [
    "<a id=\"restraintsStep2\"></a>\n",
    "### Step 2: Generating the position restraints file"
   ]
  },
  {
   "cell_type": "code",
   "execution_count": null,
   "metadata": {
    "scrolled": true
   },
   "outputs": [],
   "source": [
    "# Genrestr: Generating the position restraints file\n",
    "from biobb_md.gromacs.genrestr import genrestr\n",
    "\n",
    "# Create prop dict and inputs/outputs\n",
    "output_restraints_top = ligandName + '_posres.itp'\n",
    "prop = {\n",
    "    'force_constants': \"1000 1000 1000\",\n",
    "    'restrained_group': \"0\"    # Modified from \"System\" to \"0\"\n",
    "}\n",
    "\n",
    "# Create and launch bb\n",
    "genrestr(input_structure_path=output_acpype_gro,\n",
    "         input_ndx_path=output_ligand_ndx,\n",
    "         output_itp_path=output_restraints_top,\n",
    "         properties=prop)"
   ]
  },
  {
   "cell_type": "markdown",
   "metadata": {},
   "source": [
    "<a id=\"complex\"></a>\n",
    "***\n",
    "## Create new protein-ligand complex structure file\n",
    "Building new **protein-ligand complex** PDB file with:\n",
    "- The new **protein system** with fixed problems from *Fix Protein Structure* step and hydrogens atoms added from *Create Protein System Topology* step.\n",
    "- The new **ligand system** with hydrogens atoms added from *Create Ligand System Topology* step. \n",
    "\n",
    "This new structure is needed for **GROMACS** as it is **force field-compliant**, it **has all the new hydrogen atoms**, and the **atom names are matching the newly generated protein and ligand topologies**.\n",
    "***\n",
    "**Building Blocks** used:\n",
    " - [GMXTrjConvStr](https://biobb-analysis.readthedocs.io/en/latest/gromacs.html#module-gromacs.gmx_trjconv_str) from **biobb_analysis.gromacs.gmx_trjconv_str**:\n",
    "     * Wrapper of the GROMACS trjconv module for converting between GROMACS compatible structure file formats and/or extracting a selection of atoms. GROMACS trjconv module can convert trajectory files in many ways\n",
    "***"
   ]
  },
  {
   "cell_type": "code",
   "execution_count": null,
   "metadata": {},
   "outputs": [],
   "source": [
    "print (pdbName)\n",
    "print (ligandName)\n",
    "print (output_pdb2gmx_gro)\n",
    "print (output_acpype_gro)"
   ]
  },
  {
   "cell_type": "markdown",
   "metadata": {},
   "source": [
    "### Protein: Convert gro (with hydrogens) to pdb"
   ]
  },
  {
   "cell_type": "code",
   "execution_count": null,
   "metadata": {
    "scrolled": true
   },
   "outputs": [],
   "source": [
    "# biobb analysis module\n",
    "from biobb_analysis.gromacs.gmx_trjconv_str import gmx_trjconv_str\n",
    "from biobb_structure_utils.utils.cat_pdb import cat_pdb\n",
    "\n",
    "# Convert gro (with hydrogens) to pdb (PROTEIN)\n",
    "protein_H = pdbName + '_complex_H.pdb'\n",
    "prop = {\n",
    "    'selection' : 'System'\n",
    "}\n",
    "\n",
    "# Create and launch bb\n",
    "gmx_trjconv_str(input_structure_path = output_pdb2gmx_gro,\n",
    "                input_top_path       = output_pdb2gmx_gro,\n",
    "                output_str_path      = protein_H, \n",
    "                properties           = prop)"
   ]
  },
  {
   "cell_type": "markdown",
   "metadata": {},
   "source": [
    "### Ligand: Convert gro (with hydrogens) to pdb"
   ]
  },
  {
   "cell_type": "code",
   "execution_count": null,
   "metadata": {
    "scrolled": true
   },
   "outputs": [],
   "source": [
    "# Convert gro (with hydrogens) to pdb (LIGAND)\n",
    "ligandFile_H = ligandName + '_complex_H.pdb'\n",
    "prop = {\n",
    "    'selection' : 'System'\n",
    "}\n",
    "\n",
    "# Create and launch bb\n",
    "gmx_trjconv_str(input_structure_path = output_acpype_gro,\n",
    "              input_top_path         = output_acpype_gro,\n",
    "              output_str_path        = ligandFile_H, \n",
    "              properties             = prop)"
   ]
  },
  {
   "cell_type": "markdown",
   "metadata": {},
   "source": [
    "### Concatenating both PDB files: Protein + Ligand"
   ]
  },
  {
   "cell_type": "code",
   "execution_count": null,
   "metadata": {},
   "outputs": [],
   "source": [
    "# Concatenating both PDB files: Protein + Ligand\n",
    "complexFile_H = pdbName + '_' + ligandName + '_complex_H.pdb'\n",
    "\n",
    "# Create and launch bb\n",
    "cat_pdb(input_structure1      = protein_H,\n",
    "        input_structure2      = ligandFile_H,\n",
    "        output_structure_path = complexFile_H);"
   ]
  },
  {
   "cell_type": "markdown",
   "metadata": {},
   "source": [
    "<a id=\"complextop\"></a>\n",
    "***\n",
    "## Create new protein-ligand complex topology file\n",
    "Building new **protein-ligand complex** GROMACS topology file with:\n",
    "- The new **protein system** topology generated from *Create Protein System Topology* step.\n",
    "- The new **ligand system** topology generated from *Create Ligand System Topology* step. \n",
    "\n",
    "NOTE: From this point on, the **protein-ligand complex structure and topology** generated can be used in a regular MD setup.\n",
    "***\n",
    "**Building Blocks** used:\n",
    " - [AppendLigand](https://biobb-md.readthedocs.io/en/latest/modules.html) from **biobb_md.gromacs_extra.append_ligand**  (NOTE: link should be updated with the documentation):\n",
    "     * This class takes a ligand ITP file and inserts it in a topology.\n",
    "This module automatizes the process of inserting a ligand ITP file in a GROMACS topology.\n",
    "***"
   ]
  },
  {
   "cell_type": "code",
   "execution_count": null,
   "metadata": {
    "scrolled": false
   },
   "outputs": [],
   "source": [
    "# AppendLigand: Append a ligand to a GROMACS topology\n",
    "# Import module\n",
    "from biobb_md.gromacs_extra.append_ligand import append_ligand\n",
    "\n",
    "# Create prop dict and inputs/outputs\n",
    "output_complex_top = pdbName + '_' + ligandName + '_complex.top.zip'\n",
    "\n",
    "posresifdef = \"POSRES_\" + ligandName.upper()\n",
    "prop = {\n",
    "    'posres_name': posresifdef\n",
    "}\n",
    "\n",
    "# Create and launch bb\n",
    "append_ligand(input_top_zip_path   = output_pdb2gmx_top_zip,\n",
    "             input_posres_itp_path = output_restraints_top,\n",
    "             input_itp_path        = output_acpype_itp, \n",
    "             output_top_zip_path   = output_complex_top,\n",
    "             properties            = prop)"
   ]
  },
  {
   "cell_type": "markdown",
   "metadata": {},
   "source": [
    "<a id=\"box\"></a>\n",
    "***\n",
    "## Create solvent box\n",
    "Define the unit cell for the **protein-ligand complex** to fill it with water molecules.<br>\n",
    "**Truncated octahedron** box is used for the unit cell. This box type is the one which best reflects the geometry of the solute/protein, in this case a **globular protein**, as it approximates a sphere. It is also convenient for the computational point of view, as it accumulates **less water molecules at the corners**, reducing the final number of water molecules in the system and making the simulation run faster.<br> A **protein to box** distance of **0.8 nm** is used, and the protein is **centered in the box**.  \n",
    "\n",
    "***\n",
    "**Building Blocks** used:\n",
    " - [Editconf](https://biobb-md.readthedocs.io/en/latest/gromacs.html#module-gromacs.editconf) from **biobb_md.gromacs.editconf**:\n",
    "     * The GROMACS solvate module generates a box around the selected structure.\n",
    "***"
   ]
  },
  {
   "cell_type": "code",
   "execution_count": null,
   "metadata": {
    "scrolled": true
   },
   "outputs": [],
   "source": [
    "# Editconf: Create solvent box\n",
    "# Import module\n",
    "from biobb_md.gromacs.editconf import editconf\n",
    "\n",
    "# Create prop dict and inputs/outputs\n",
    "output_editconf_gro = pdbName + '_'+ ligandName + '_complex_editconf.gro'\n",
    "\n",
    "prop = {\n",
    "    'box_type': 'octahedron',\n",
    "    'distance_to_molecule': 0.8\n",
    "}\n",
    "\n",
    "# Create and launch bb\n",
    "editconf(input_gro_path=complexFile_H, \n",
    "         output_gro_path=output_editconf_gro,\n",
    "         properties=prop)"
   ]
  },
  {
   "cell_type": "markdown",
   "metadata": {},
   "source": [
    "<a id=\"water\"></a>\n",
    "***\n",
    "## Fill the box with water molecules\n",
    "Fill the unit cell for the **protein-ligand complex** with water molecules.<br>\n",
    "The solvent type used is the default **Simple Point Charge water (SPC)**, a generic equilibrated 3-point solvent model. \n",
    "\n",
    "***\n",
    "**Building Blocks** used:\n",
    " - [Solvate](https://biobb-md.readthedocs.io/en/latest/gromacs.html#module-gromacs.solvate) from **biobb_md.gromacs.solvate**:\n",
    "     * The GROMACS solvate module, generates a box of solvent around the selected structure.\n",
    "***"
   ]
  },
  {
   "cell_type": "code",
   "execution_count": null,
   "metadata": {
    "scrolled": true
   },
   "outputs": [],
   "source": [
    "# Solvate: Fill the box with water molecules\n",
    "from biobb_md.gromacs.solvate import solvate\n",
    "\n",
    "# Create prop dict and inputs/outputs\n",
    "output_solvate_gro     = pdbName + '_' + ligandName + '_solvate.gro'\n",
    "output_solvate_top_zip = pdbName + '_' + ligandName + '_solvate_top.zip'\n",
    "\n",
    "# Create and launch bb\n",
    "solvate(input_solute_gro_path=output_editconf_gro,\n",
    "        output_gro_path=output_solvate_gro,\n",
    "        input_top_zip_path=output_complex_top,\n",
    "        output_top_zip_path=output_solvate_top_zip)"
   ]
  },
  {
   "cell_type": "markdown",
   "metadata": {},
   "source": [
    "### Visualizing 3D structure\n",
    "Visualizing the **protein-ligand complex** with the newly added **solvent box** using **NGL**<br>\n",
    "Note the **octahedral box** filled with **water molecules** surrounding the **protein structure**, which is **centered** right in the middle of the box."
   ]
  },
  {
   "cell_type": "code",
   "execution_count": null,
   "metadata": {
    "scrolled": true
   },
   "outputs": [],
   "source": [
    "#Show protein\n",
    "view = nglview.show_structure_file(output_solvate_gro)\n",
    "view.clear_representations()\n",
    "view.add_representation(repr_type='cartoon', selection='protein', color='sstruc')\n",
    "view.add_representation(repr_type='licorice', radius='.5', selection=ligandName)\n",
    "view.add_representation(repr_type='line', linewidth='1', selection='SOL', opacity='.3')\n",
    "view._remote_call('setSize', target='Widget', args=['','600px'])\n",
    "view.camera='orthographic'\n",
    "view"
   ]
  },
  {
   "cell_type": "markdown",
   "metadata": {},
   "source": [
    "<img src='images/ngl7.png' width=\"50%\" height=\"50%\"></img>"
   ]
  },
  {
   "cell_type": "markdown",
   "metadata": {},
   "source": [
    "<a id=\"ions\"></a>\n",
    "***\n",
    "## Adding ions\n",
    "Add ions to neutralize the **protein-ligand complex** and reach a desired ionic concentration.\n",
    "- [Step 1](#ionsStep1): Creating portable binary run file for ion generation\n",
    "- [Step 2](#ionsStep2): Adding ions to **neutralize** the system and reach a **0.05 molar ionic concentration**\n",
    "***\n",
    "**Building Blocks** used:\n",
    " - [Grompp](https://biobb-md.readthedocs.io/en/latest/gromacs.html#module-gromacs.grompp) from **biobb_md.gromacs.grompp**:\n",
    "     * The GROMACS preprocessor module needs to be fed with the input system and the dynamics parameters to create a portable binary run input file TPR.\n",
    "     \n",
    "     \n",
    " - [Genion](https://biobb-md.readthedocs.io/en/latest/gromacs.html#module-gromacs.genion) from **biobb_md.gromacs.genion**:\n",
    "     * The GROMACS genion module randomly replaces solvent molecules with monoatomic ions. The group of solvent molecules should be continuous and all molecules should have the same number of atoms.\n",
    "***"
   ]
  },
  {
   "cell_type": "markdown",
   "metadata": {},
   "source": [
    "<a id=\"ionsStep1\"></a>\n",
    "### Step 1: Creating portable binary run file for ion generation"
   ]
  },
  {
   "cell_type": "code",
   "execution_count": null,
   "metadata": {
    "scrolled": true
   },
   "outputs": [],
   "source": [
    "# Grompp: Creating portable binary run file for ion generation\n",
    "from biobb_md.gromacs.grompp import grompp\n",
    "\n",
    "# Create prop dict and inputs/outputs\n",
    "prop = {\n",
    "    'mdp':{\n",
    "        'nsteps':'5000'\n",
    "    },\n",
    "    'simulation_type':'minimization',\n",
    "    'maxwarn': 1\n",
    "}\n",
    "output_gppion_tpr = pdbName + '_' + ligandName + '_complex_gppion.tpr'\n",
    "\n",
    "# Create and launch bb\n",
    "grompp(input_gro_path=output_solvate_gro,\n",
    "       input_top_zip_path=output_solvate_top_zip, \n",
    "       output_tpr_path=output_gppion_tpr,\n",
    "       properties=prop);"
   ]
  },
  {
   "cell_type": "markdown",
   "metadata": {},
   "source": [
    "<a id=\"ionsStep2\"></a>\n",
    "### Step 2: Adding ions to neutralize the system and reach a 0.05 molar concentration\n",
    "Replace **solvent molecules** with **ions** to **neutralize** the system and reaching a **0.05 molar ionic concentration**"
   ]
  },
  {
   "cell_type": "code",
   "execution_count": null,
   "metadata": {
    "scrolled": true
   },
   "outputs": [],
   "source": [
    "# Genion: Adding ions to reach a 0.05 molar concentration\n",
    "from biobb_md.gromacs.genion import genion\n",
    "\n",
    "# Create prop dict and inputs/outputs\n",
    "prop={\n",
    "    'neutral':True,\n",
    "    'concentration':0.05\n",
    "}\n",
    "output_genion_gro = pdbName + '_' + ligandName+'_genion.gro'\n",
    "output_genion_top_zip = pdbName + '_' + ligandName+'_genion_top.zip'\n",
    "\n",
    "# Create and launch bb\n",
    "genion(input_tpr_path=output_gppion_tpr,\n",
    "       output_gro_path=output_genion_gro, \n",
    "       input_top_zip_path=output_solvate_top_zip,\n",
    "       output_top_zip_path=output_genion_top_zip, \n",
    "       properties=prop)"
   ]
  },
  {
   "cell_type": "markdown",
   "metadata": {},
   "source": [
    "### Visualizing 3D structure\n",
    "Visualizing the **protein-ligand complex** with the newly added **ionic concentration** using **NGL**"
   ]
  },
  {
   "cell_type": "code",
   "execution_count": null,
   "metadata": {
    "scrolled": false
   },
   "outputs": [],
   "source": [
    "#Show protein\n",
    "view = nglview.show_structure_file(output_genion_gro)\n",
    "view.clear_representations()\n",
    "view.add_representation(repr_type='cartoon', selection='protein', color='sstruc')\n",
    "view.add_representation(repr_type='licorice', radius='.5', selection=ligandName)\n",
    "\n",
    "view.add_representation(repr_type='line', linewidth='1', selection='SOL', opacity='.3')\n",
    "\n",
    "view.add_representation(repr_type='ball+stick', selection='NA')\n",
    "view.add_representation(repr_type='ball+stick', selection='CL')\n",
    "view._remote_call('setSize', target='Widget', args=['','400px'])\n",
    "view.camera='orthographic'\n",
    "view.center()\n",
    "view"
   ]
  },
  {
   "cell_type": "markdown",
   "metadata": {},
   "source": [
    "<img src='images/ngl8.png' width=\"50%\" height=\"50%\"></img>"
   ]
  },
  {
   "cell_type": "markdown",
   "metadata": {},
   "source": [
    "<a id=\"min\"></a>\n",
    "***\n",
    "## Energetically minimize the system\n",
    "Energetically minimize the **protein-ligand complex** till reaching a desired potential energy.\n",
    "- [Step 1](#emStep1): Creating portable binary run file for energy minimization\n",
    "- [Step 2](#emStep2): Energetically minimize the **protein-ligand complex** till reaching a force of 500 kJ mol-1 nm-1.\n",
    "- [Step 3](#emStep3): Checking **energy minimization** results. Plotting energy by time during the **minimization** process.\n",
    "***\n",
    "**Building Blocks** used:\n",
    " - [Grompp](https://biobb-md.readthedocs.io/en/latest/gromacs.html#module-gromacs.grompp) from **biobb_md.gromacs.grompp**:\n",
    "     * The GROMACS preprocessor module needs to be fed with the input system and the dynamics parameters to create a portable binary run input file TPR.\n",
    "     \n",
    "     \n",
    " - [Mdrun](https://biobb-md.readthedocs.io/en/latest/gromacs.html#module-gromacs.mdrun) from **biobb_md.gromacs.mdrun**:\n",
    "     * MDRun is the main computational chemistry engine within GROMACS. It performs Molecular Dynamics simulations, but it can also perform Stochastic Dynamics, Energy Minimization, test particle insertion or (re)calculation of energies.\n",
    "     \n",
    "     \n",
    " - [GMXEnergy](https://biobb-analysis.readthedocs.io/en/latest/gromacs.html#module-gromacs.gmx_energy) from **biobb_analysis.gromacs.gmx_energy**:\n",
    "     * GROMACS energy extracts energy components from an energy file.\n",
    "***"
   ]
  },
  {
   "cell_type": "markdown",
   "metadata": {},
   "source": [
    "<a id=\"emStep1\"></a>\n",
    "### Step 1: Creating portable binary run file for energy minimization\n",
    "Method used to run the **energy minimization** is a **steepest descent**, with a **maximum force of 500 KJ/mol\\*nm^2**, and a minimization **step size of 1fs**. The **maximum number of steps** to perform if the maximum force is not reached is **5,000 steps**. "
   ]
  },
  {
   "cell_type": "code",
   "execution_count": null,
   "metadata": {
    "scrolled": false
   },
   "outputs": [],
   "source": [
    "# Grompp: Creating portable binary run file for mdrun\n",
    "from biobb_md.gromacs.grompp import grompp\n",
    "\n",
    "# Create prop dict and inputs/outputs\n",
    "prop = {\n",
    "    'mdp':{\n",
    "        'nsteps':'5000',\n",
    "        'emstep': 0.01,\n",
    "        'emtol':'500'\n",
    "    },\n",
    "    'simulation_type':'minimization'\n",
    "}\n",
    "output_gppmin_tpr = pdbName + '_' + ligandName + '_gppmin.tpr'\n",
    "\n",
    "# Create and launch bb\n",
    "grompp(input_gro_path     = output_genion_gro,\n",
    "       input_top_zip_path = output_genion_top_zip,\n",
    "       output_tpr_path    = output_gppmin_tpr,\n",
    "       properties         = prop)"
   ]
  },
  {
   "cell_type": "markdown",
   "metadata": {},
   "source": [
    "<a id=\"emStep2\"></a>\n",
    "### Step 2: Running Energy Minimization\n",
    "Running **energy minimization** using the **tpr file** generated in the previous step."
   ]
  },
  {
   "cell_type": "code",
   "execution_count": null,
   "metadata": {},
   "outputs": [],
   "source": [
    "# Mdrun: Running minimization\n",
    "from biobb_md.gromacs.mdrun import mdrun\n",
    "\n",
    "# Create prop dict and inputs/outputs\n",
    "output_min_trr = pdbName+'_'+ligandName+'_min.trr'\n",
    "output_min_gro = pdbName+'_'+ligandName+'_min.gro'\n",
    "output_min_edr = pdbName+'_'+ligandName+'_min.edr'\n",
    "output_min_log = pdbName+'_'+ligandName+'_min.log'\n",
    "\n",
    "# Create and launch bb\n",
    "mdrun(input_tpr_path  = output_gppmin_tpr,\n",
    "      output_trr_path = output_min_trr, \n",
    "      output_gro_path = output_min_gro,\n",
    "      output_edr_path = output_min_edr, \n",
    "      output_log_path = output_min_log)"
   ]
  },
  {
   "cell_type": "markdown",
   "metadata": {},
   "source": [
    "<a id=\"emStep3\"></a>\n",
    "### Step 3: Checking Energy Minimization results\n",
    "Checking **energy minimization** results. Plotting **potential energy** by time during the minimization process. "
   ]
  },
  {
   "cell_type": "code",
   "execution_count": null,
   "metadata": {},
   "outputs": [],
   "source": [
    "# GMXEnergy: Getting system energy by time  \n",
    "from biobb_analysis.gromacs.gmx_energy import gmx_energy\n",
    "\n",
    "# Create prop dict and inputs/outputs\n",
    "output_min_ene_xvg = pdbName + '_' + ligandName + '_min_ene.xvg'\n",
    "prop = {\n",
    "    'terms':  [\"Potential\"]\n",
    "}\n",
    "\n",
    "# Create and launch bb\n",
    "gmx_energy(input_energy_path = output_min_edr, \n",
    "          output_xvg_path    = output_min_ene_xvg, \n",
    "          properties         = prop)"
   ]
  },
  {
   "cell_type": "code",
   "execution_count": null,
   "metadata": {},
   "outputs": [],
   "source": [
    "import plotly\n",
    "import plotly.graph_objs as go\n",
    "\n",
    "#Read data from file and filter energy values higher than 1000 Kj/mol^-1\n",
    "with open(output_min_ene_xvg,'r') as energy_file:\n",
    "    x,y = map(\n",
    "        list,\n",
    "        zip(*[\n",
    "            (float(line.split()[0]),float(line.split()[1]))\n",
    "            for line in energy_file \n",
    "            if not line.startswith((\"#\",\"@\")) \n",
    "            if float(line.split()[1]) < 1000 \n",
    "        ])\n",
    "    )\n",
    "\n",
    "plotly.offline.init_notebook_mode(connected=True)\n",
    "\n",
    "fig = ({\n",
    "    \"data\": [go.Scatter(x=x, y=y)],\n",
    "    \"layout\": go.Layout(title=\"Energy Minimization\",\n",
    "                        xaxis=dict(title = \"Energy Minimization Step\"),\n",
    "                        yaxis=dict(title = \"Potential Energy KJ/mol-1\")\n",
    "                       )\n",
    "})\n",
    "\n",
    "plotly.offline.iplot(fig)"
   ]
  },
  {
   "cell_type": "markdown",
   "metadata": {},
   "source": [
    "<img src='images/fig1.png' width=\"50%\" height=\"50%\"></img>"
   ]
  },
  {
   "cell_type": "markdown",
   "metadata": {},
   "source": [
    "<a id=\"nvt\"></a>\n",
    "***\n",
    "## Equilibrate the system (NVT)\n",
    "Equilibrate the **protein-ligand complex** system in NVT ensemble (constant Number of particles, Volume and Temperature). To avoid temperature coupling problems, a new *\"system\"* group will be created including the **protein** + the **ligand** to be assigned to a single thermostatting group.\n",
    "\n",
    "- [Step 1](#eqNVTStep1): Creating an index file with a new group including the **protein-ligand complex**.\n",
    "- [Step 2](#eqNVTStep3): Creating portable binary run file for system equilibration\n",
    "- [Step 3](#eqNVTStep3): Equilibrate the **protein-ligand complex** with NVT ensemble.\n",
    "- [Step 4](#eqNVTStep4): Checking **NVT Equilibration** results. Plotting **system temperature** by time during the **NVT equilibration** process. \n",
    "***\n",
    "**Building Blocks** used:\n",
    "- [MakeNdx](https://biobb-md.readthedocs.io/en/latest/gromacs.html#module-gromacs.make_ndx) from **biobb_md.gromacs.make_ndx**:\n",
    "    * The GROMACS make_ndx module, generates an index file using the atoms of the selection.\n",
    "    \n",
    "\n",
    "- [Grompp](https://biobb-md.readthedocs.io/en/latest/gromacs.html#module-gromacs.grompp) from **biobb_md.gromacs.grompp**:\n",
    "    * The GROMACS preprocessor module needs to be fed with the input system and the dynamics parameters to create a portable binary run input file TPR. \n",
    "    \n",
    "    \n",
    "- [Mdrun](https://biobb-md.readthedocs.io/en/latest/gromacs.html#module-gromacs.mdrun) from **biobb_md.gromacs.mdrun**:\n",
    "    * MDRun is the main computational chemistry engine within GROMACS. It performs Molecular Dynamics simulations, but it can also perform Stochastic Dynamics, Energy Minimization, test particle insertion or (re)calculation of energies.\n",
    "    \n",
    "    \n",
    "- [GMXEnergy](https://biobb-analysis.readthedocs.io/en/latest/gromacs.html#module-gromacs.gmx_energy) from **biobb_analysis.gromacs.gmx_energy**:\n",
    "    * GROMACS energy extracts energy components from an energy file. \n",
    "***"
   ]
  },
  {
   "cell_type": "markdown",
   "metadata": {},
   "source": [
    "<a id=\"eqNVTStep1\"></a>\n",
    "### Step 1: Creating an index file with a new group including the **protein-ligand complex**"
   ]
  },
  {
   "cell_type": "code",
   "execution_count": null,
   "metadata": {
    "scrolled": false
   },
   "outputs": [],
   "source": [
    "# MakeNdx: Creating index file with a new group (protein-ligand complex)\n",
    "from biobb_md.gromacs.make_ndx import make_ndx\n",
    "\n",
    "# Create prop dict and inputs/outputs\n",
    "output_complex_ndx = pdbName + '_' + ligandName + '_index.ndx'\n",
    "prop = {\n",
    "    'selection': \"\\\"Protein\\\"|\\\"Other\\\"\" \n",
    "}\n",
    "\n",
    "# Create and launch bb\n",
    "make_ndx(input_structure_path = output_min_gro,\n",
    "        output_ndx_path       = output_complex_ndx,\n",
    "        properties=prop)"
   ]
  },
  {
   "cell_type": "markdown",
   "metadata": {},
   "source": [
    "<a id=\"eqNVTStep2\"></a>\n",
    "### Step 2: Creating portable binary run file for system equilibration (NVT)\n",
    "Note that for the purposes of temperature coupling, the **protein-ligand complex** (*Protein_Other*) is considered as a single entity."
   ]
  },
  {
   "cell_type": "code",
   "execution_count": null,
   "metadata": {},
   "outputs": [],
   "source": [
    "# Grompp: Creating portable binary run file for NVT System Equilibration\n",
    "from biobb_md.gromacs.grompp import grompp\n",
    "\n",
    "# Create prop dict and inputs/outputs\n",
    "output_gppnvt_tpr = pdbName+'_'+ligandName+'gppnvt.tpr'\n",
    "prop = {\n",
    "    'mdp':{\n",
    "        'nsteps':'5000',\n",
    "        'tc-grps': 'Protein_Other Water_and_ions',\n",
    "        'Define': '-DPOSRES -D' + posresifdef\n",
    "    },\n",
    "    'simulation_type':'nvt'\n",
    "}\n",
    "\n",
    "# Create and launch bb\n",
    "grompp(input_gro_path     = output_min_gro,\n",
    "       input_top_zip_path = output_genion_top_zip,\n",
    "       input_ndx_path     = output_complex_ndx,\n",
    "       output_tpr_path    = output_gppnvt_tpr,\n",
    "       properties         = prop)"
   ]
  },
  {
   "cell_type": "markdown",
   "metadata": {},
   "source": [
    "<a id=\"eqNVTStep3\"></a>\n",
    "### Step 3: Running NVT equilibration"
   ]
  },
  {
   "cell_type": "code",
   "execution_count": null,
   "metadata": {
    "scrolled": false
   },
   "outputs": [],
   "source": [
    "# Mdrun: Running NVT System Equilibration \n",
    "from biobb_md.gromacs.mdrun import mdrun\n",
    "\n",
    "# Create prop dict and inputs/outputs\n",
    "output_nvt_trr = pdbName+'_'+ligandName+'_nvt.trr'\n",
    "output_nvt_gro = pdbName+'_'+ligandName+'_nvt.gro'\n",
    "output_nvt_edr = pdbName+'_'+ligandName+'_nvt.edr'\n",
    "output_nvt_log = pdbName+'_'+ligandName+'_nvt.log'\n",
    "output_nvt_cpt = pdbName+'_'+ligandName+'_nvt.cpt'\n",
    "\n",
    "# Create and launch bb\n",
    "mdrun(input_tpr_path=output_gppnvt_tpr,\n",
    "      output_trr_path=output_nvt_trr,\n",
    "      output_gro_path=output_nvt_gro,\n",
    "      output_edr_path=output_nvt_edr,\n",
    "      output_log_path=output_nvt_log,\n",
    "      output_cpt_path=output_nvt_cpt)"
   ]
  },
  {
   "cell_type": "markdown",
   "metadata": {},
   "source": [
    "<a id=\"eqNVTStep4\"></a>\n",
    "### Step 4: Checking NVT Equilibration results\n",
    "Checking **NVT Equilibration** results. Plotting **system temperature** by time during the NVT equilibration process. "
   ]
  },
  {
   "cell_type": "code",
   "execution_count": null,
   "metadata": {
    "scrolled": true
   },
   "outputs": [],
   "source": [
    "# GMXEnergy: Getting system temperature by time during NVT Equilibration  \n",
    "from biobb_analysis.gromacs.gmx_energy import gmx_energy\n",
    "\n",
    "# Create prop dict and inputs/outputs\n",
    "output_nvt_temp_xvg = pdbName + '_' + ligandName + '_nvt_temp.xvg'\n",
    "prop = {\n",
    "    'terms':  [\"Temperature\"]\n",
    "}\n",
    "\n",
    "# Create and launch bb\n",
    "gmx_energy(input_energy_path = output_nvt_edr, \n",
    "          output_xvg_path    =output_nvt_temp_xvg, \n",
    "          properties=prop)"
   ]
  },
  {
   "cell_type": "code",
   "execution_count": null,
   "metadata": {
    "scrolled": false
   },
   "outputs": [],
   "source": [
    "import plotly\n",
    "import plotly.graph_objs as go\n",
    "\n",
    "# Read temperature data from file \n",
    "with open(output_nvt_temp_xvg,'r') as temperature_file:\n",
    "    x,y = map(\n",
    "        list,\n",
    "        zip(*[\n",
    "            (float(line.split()[0]),float(line.split()[1]))\n",
    "            for line in temperature_file \n",
    "            if not line.startswith((\"#\",\"@\")) \n",
    "        ])\n",
    "    )\n",
    "\n",
    "plotly.offline.init_notebook_mode(connected=True)\n",
    "\n",
    "fig = ({\n",
    "    \"data\": [go.Scatter(x=x, y=y)],\n",
    "    \"layout\": go.Layout(title=\"Temperature during NVT Equilibration\",\n",
    "                        xaxis=dict(title = \"Time (ps)\"),\n",
    "                        yaxis=dict(title = \"Temperature (K)\")\n",
    "                       )\n",
    "})\n",
    "\n",
    "plotly.offline.iplot(fig)"
   ]
  },
  {
   "cell_type": "markdown",
   "metadata": {},
   "source": [
    "<img src='images/fig2.png' width=\"50%\" height=\"50%\"></img>"
   ]
  },
  {
   "cell_type": "markdown",
   "metadata": {},
   "source": [
    "<a id=\"npt\"></a>\n",
    "***\n",
    "## Equilibrate the system (NPT)\n",
    "Equilibrate the **protein-ligand complex** system in NPT ensemble (constant Number of particles, Pressure and Temperature) .\n",
    "- [Step 1](#eqNPTStep1): Creating portable binary run file for system equilibration\n",
    "- [Step 2](#eqNPTStep2): Equilibrate the **protein-ligand complex** with NPT ensemble.\n",
    "- [Step 3](#eqNPTStep3): Checking **NPT Equilibration** results. Plotting **system pressure and density** by time during the **NPT equilibration** process.\n",
    "***\n",
    "**Building Blocks** used:\n",
    " - [Grompp](https://biobb-md.readthedocs.io/en/latest/gromacs.html#module-gromacs.grompp) from **biobb_md.gromacs.grompp** \n",
    " - [Mdrun](https://biobb-md.readthedocs.io/en/latest/gromacs.html#module-gromacs.mdrun) from **biobb_md.gromacs.mdrun** \n",
    " - [GMXEnergy](https://biobb-analysis.readthedocs.io/en/latest/gromacs.html#module-gromacs.gmx_energy) from **biobb_analysis.gromacs.gmx_energy** \n",
    "***"
   ]
  },
  {
   "cell_type": "markdown",
   "metadata": {},
   "source": [
    "<a id=\"eqNPTStep1\"></a>\n",
    "### Step 1: Creating portable binary run file for system equilibration (NPT)"
   ]
  },
  {
   "cell_type": "code",
   "execution_count": null,
   "metadata": {
    "scrolled": true
   },
   "outputs": [],
   "source": [
    "# Grompp: Creating portable binary run file for (NPT) System Equilibration\n",
    "from biobb_md.gromacs.grompp import grompp\n",
    "\n",
    "# Create prop dict and inputs/outputs\n",
    "output_gppnpt_tpr = pdbName+'_'+ligandName+'_gppnpt.tpr'\n",
    "prop = {\n",
    "    'mdp':{\n",
    "        'type': 'npt',\n",
    "        'nsteps':'5000',\n",
    "        'tc-grps': 'Protein_Other Water_and_ions',\n",
    "        'Define': '-DPOSRES -D' + posresifdef\n",
    "    },\n",
    "    'simulation_type':'npt'\n",
    "}\n",
    "\n",
    "# Create and launch bb\n",
    "grompp(input_gro_path=output_nvt_gro,\n",
    "       input_top_zip_path=output_genion_top_zip,\n",
    "       input_ndx_path=output_complex_ndx,\n",
    "       output_tpr_path=output_gppnpt_tpr,\n",
    "       input_cpt_path=output_nvt_cpt,\n",
    "       properties=prop)"
   ]
  },
  {
   "cell_type": "markdown",
   "metadata": {},
   "source": [
    "<a id=\"eqNPTStep2\"></a>\n",
    "### Step 2: Running NPT equilibration"
   ]
  },
  {
   "cell_type": "code",
   "execution_count": null,
   "metadata": {
    "scrolled": true
   },
   "outputs": [],
   "source": [
    "# Mdrun: Running NPT System Equilibration\n",
    "from biobb_md.gromacs.mdrun import mdrun\n",
    "\n",
    "# Create prop dict and inputs/outputs\n",
    "output_npt_trr = pdbName+'_'+ligandName+'_npt.trr'\n",
    "output_npt_gro = pdbName+'_'+ligandName+'_npt.gro'\n",
    "output_npt_edr = pdbName+'_'+ligandName+'_npt.edr'\n",
    "output_npt_log = pdbName+'_'+ligandName+'_npt.log'\n",
    "output_npt_cpt = pdbName+'_'+ligandName+'_npt.cpt'\n",
    "\n",
    "# Create and launch bb\n",
    "mdrun(input_tpr_path=output_gppnpt_tpr,\n",
    "      output_trr_path=output_npt_trr,\n",
    "      output_gro_path=output_npt_gro,\n",
    "      output_edr_path=output_npt_edr,\n",
    "      output_log_path=output_npt_log,\n",
    "      output_cpt_path=output_npt_cpt)"
   ]
  },
  {
   "cell_type": "markdown",
   "metadata": {},
   "source": [
    "<a id=\"eqNPTStep3\"></a>\n",
    "### Step 3: Checking NPT Equilibration results\n",
    "Checking **NPT Equilibration** results. Plotting **system pressure and density** by time during the **NPT equilibration** process. "
   ]
  },
  {
   "cell_type": "code",
   "execution_count": null,
   "metadata": {
    "scrolled": true
   },
   "outputs": [],
   "source": [
    "# GMXEnergy: Getting system pressure and density by time during NPT Equilibration  \n",
    "from biobb_analysis.gromacs.gmx_energy import gmx_energy\n",
    "\n",
    "# Create prop dict and inputs/outputs\n",
    "output_npt_pd_xvg = pdbName+'_'+ligandName+'_npt_PD.xvg'\n",
    "prop = {\n",
    "    'terms':  [\"Pressure\",\"Density\"]\n",
    "}\n",
    "\n",
    "# Create and launch bb\n",
    "gmx_energy(input_energy_path=output_npt_edr, \n",
    "          output_xvg_path=output_npt_pd_xvg, \n",
    "          properties=prop)"
   ]
  },
  {
   "cell_type": "code",
   "execution_count": null,
   "metadata": {
    "scrolled": false
   },
   "outputs": [],
   "source": [
    "import plotly\n",
    "from plotly import subplots\n",
    "import plotly.graph_objs as go\n",
    "\n",
    "# Read pressure and density data from file \n",
    "with open(output_npt_pd_xvg,'r') as pd_file:\n",
    "    x,y,z = map(\n",
    "        list,\n",
    "        zip(*[\n",
    "            (float(line.split()[0]),float(line.split()[1]),float(line.split()[2]))\n",
    "            for line in pd_file \n",
    "            if not line.startswith((\"#\",\"@\")) \n",
    "        ])\n",
    "    )\n",
    "\n",
    "plotly.offline.init_notebook_mode(connected=True)\n",
    "\n",
    "trace1 = go.Scatter(\n",
    "    x=x,y=y\n",
    ")\n",
    "trace2 = go.Scatter(\n",
    "    x=x,y=z\n",
    ")\n",
    "\n",
    "fig = subplots.make_subplots(rows=1, cols=2, print_grid=False)\n",
    "\n",
    "fig.append_trace(trace1, 1, 1)\n",
    "fig.append_trace(trace2, 1, 2)\n",
    "\n",
    "fig['layout']['xaxis1'].update(title='Time (ps)')\n",
    "fig['layout']['xaxis2'].update(title='Time (ps)')\n",
    "fig['layout']['yaxis1'].update(title='Pressure (bar)')\n",
    "fig['layout']['yaxis2'].update(title='Density (Kg*m^-3)')\n",
    "\n",
    "fig['layout'].update(title='Pressure and Density during NPT Equilibration')\n",
    "fig['layout'].update(showlegend=False)\n",
    "\n",
    "plotly.offline.iplot(fig)"
   ]
  },
  {
   "cell_type": "markdown",
   "metadata": {},
   "source": [
    "<img src='images/fig3.png' width=\"50%\" height=\"50%\"></img>"
   ]
  },
  {
   "cell_type": "markdown",
   "metadata": {},
   "source": [
    "<a id=\"free\"></a>\n",
    "***\n",
    "## Free Molecular Dynamics Simulation\n",
    "Upon completion of the **two equilibration phases (NVT and NPT)**, the system is now well-equilibrated at the desired temperature and pressure. The **position restraints** can now be released. The last step of the **protein-ligand complex** MD setup is a short, **free MD simulation**, to ensure the robustness of the system. \n",
    "- [Step 1](#mdStep1): Creating portable binary run file to run a **free MD simulation**.\n",
    "- [Step 2](#mdStep2): Run short MD simulation of the **protein-ligand complex**.\n",
    "- [Step 3](#mdStep3): Checking results for the final step of the setup process, the **free MD run**. Plotting **Root Mean Square deviation (RMSd)** and **Radius of Gyration (Rgyr)** by time during the **free MD run** step. \n",
    "***\n",
    "**Building Blocks** used:\n",
    " - [Grompp](https://biobb-md.readthedocs.io/en/latest/gromacs.html#module-gromacs.grompp) from **biobb_md.gromacs.grompp** \n",
    " - [Mdrun](https://biobb-md.readthedocs.io/en/latest/gromacs.html#module-gromacs.mdrun) from **biobb_md.gromacs.mdrun** \n",
    " - [GMXRms](https://biobb-analysis.readthedocs.io/en/latest/gromacs.html#module-gromacs.gmx_rms) from **biobb_analysis.gromacs.gmx_rms**:\n",
    "     * Wrapper of the GROMACS rms module for performing a Root Mean Square deviation (RMSd) analysis from a given GROMACS compatible trajectory.\n",
    "     \n",
    "     \n",
    " - [GMXRgyr](https://biobb-analysis.readthedocs.io/en/latest/gromacs.html#module-gromacs.gmx_rgyr) from **biobb_analysis.gromacs.gmx_rgyr**:\n",
    "     * Wrapper of the GROMACS gyrate module for computing the radius of gyration (Rgyr) of a molecule about the x-, y- and z-axes, as a function of time, from a given GROMACS compatible trajectory.\n",
    "***"
   ]
  },
  {
   "cell_type": "markdown",
   "metadata": {},
   "source": [
    "<a id=\"mdStep1\"></a>\n",
    "### Step 1: Creating portable binary run file to run a free MD simulation"
   ]
  },
  {
   "cell_type": "code",
   "execution_count": null,
   "metadata": {
    "scrolled": true
   },
   "outputs": [],
   "source": [
    "# Grompp: Creating portable binary run file for mdrun\n",
    "from biobb_md.gromacs.grompp import grompp\n",
    "\n",
    "# Create prop dict and inputs/outputs\n",
    "prop = {\n",
    "    'mdp':{\n",
    "        #'nsteps':'500000' # 1 ns (500,000 steps x 2fs per step)\n",
    "        #'nsteps':'5000' # 10 ps (5,000 steps x 2fs per step)\n",
    "        'nsteps':'25000' # 50 ps (25,000 steps x 2fs per step)\n",
    "    },\n",
    "    'simulation_type':'free'\n",
    "}\n",
    "output_gppmd_tpr = pdbName+'_'+ligandName + '_gppmd.tpr'\n",
    "\n",
    "# Create and launch bb\n",
    "grompp(input_gro_path     = output_npt_gro,\n",
    "       input_top_zip_path = output_genion_top_zip,\n",
    "       output_tpr_path    = output_gppmd_tpr,\n",
    "       input_cpt_path     = output_npt_cpt,\n",
    "       properties         = prop)"
   ]
  },
  {
   "cell_type": "markdown",
   "metadata": {},
   "source": [
    "<a id=\"mdStep2\"></a>\n",
    "### Step 2: Running short free MD simulation"
   ]
  },
  {
   "cell_type": "code",
   "execution_count": null,
   "metadata": {
    "scrolled": false
   },
   "outputs": [],
   "source": [
    "# Mdrun: Running free dynamics\n",
    "from biobb_md.gromacs.mdrun import mdrun\n",
    "\n",
    "# Create prop dict and inputs/outputs\n",
    "output_md_trr = pdbName+'_'+ligandName+'_md.trr'\n",
    "output_md_gro = pdbName+'_'+ligandName+'_md.gro'\n",
    "output_md_edr = pdbName+'_'+ligandName+'_md.edr'\n",
    "output_md_log = pdbName+'_'+ligandName+'_md.log'\n",
    "output_md_cpt = pdbName+'_'+ligandName+'_md.cpt'\n",
    "\n",
    "# Create and launch bb\n",
    "mdrun(input_tpr_path=output_gppmd_tpr,\n",
    "      output_trr_path=output_md_trr,\n",
    "      output_gro_path=output_md_gro,\n",
    "      output_edr_path=output_md_edr,\n",
    "      output_log_path=output_md_log,\n",
    "      output_cpt_path=output_md_cpt)"
   ]
  },
  {
   "cell_type": "markdown",
   "metadata": {},
   "source": [
    "<a id=\"mdStep3\"></a>\n",
    "### Step 3: Checking free MD simulation results\n",
    "Checking results for the final step of the setup process, the **free MD run**. Plotting **Root Mean Square deviation (RMSd)** and **Radius of Gyration (Rgyr)** by time during the **free MD run** step. **RMSd** against the **experimental structure** (input structure of the pipeline) and against the **minimized and equilibrated structure** (output structure of the NPT equilibration step)."
   ]
  },
  {
   "cell_type": "code",
   "execution_count": null,
   "metadata": {
    "scrolled": false
   },
   "outputs": [],
   "source": [
    "# GMXRms: Computing Root Mean Square deviation to analyse structural stability \n",
    "#         RMSd against minimized and equilibrated snapshot (backbone atoms)   \n",
    "\n",
    "from biobb_analysis.gromacs.gmx_rms import gmx_rms\n",
    "\n",
    "# Create prop dict and inputs/outputs\n",
    "output_rms_first = pdbName+'_'+ligandName+'_rms_first.xvg'\n",
    "prop = {\n",
    "    'selection':  'Backbone'\n",
    "}\n",
    "\n",
    "# Create and launch bb\n",
    "gmx_rms(input_structure_path=output_gppmd_tpr,\n",
    "         input_traj_path=output_md_trr,\n",
    "         output_xvg_path=output_rms_first, \n",
    "          properties=prop)"
   ]
  },
  {
   "cell_type": "code",
   "execution_count": null,
   "metadata": {
    "scrolled": true
   },
   "outputs": [],
   "source": [
    "# GMXRms: Computing Root Mean Square deviation to analyse structural stability \n",
    "#         RMSd against experimental structure (backbone atoms)   \n",
    "\n",
    "from biobb_analysis.gromacs.gmx_rms import gmx_rms\n",
    "\n",
    "# Create prop dict and inputs/outputs\n",
    "output_rms_exp = pdbName+'_'+ligandName+'_rms_exp.xvg'\n",
    "prop = {\n",
    "    'selection':  'Backbone'\n",
    "}\n",
    "\n",
    "# Create and launch bb\n",
    "gmx_rms (input_structure_path=output_gppmin_tpr,\n",
    "         input_traj_path=output_md_trr,\n",
    "         output_xvg_path=output_rms_exp, \n",
    "         properties=prop)"
   ]
  },
  {
   "cell_type": "code",
   "execution_count": null,
   "metadata": {},
   "outputs": [],
   "source": [
    "import plotly\n",
    "import plotly.graph_objs as go\n",
    "\n",
    "# Read RMS vs first snapshot data from file \n",
    "with open(output_rms_first,'r') as rms_first_file:\n",
    "    x,y = map(\n",
    "        list,\n",
    "        zip(*[\n",
    "            (float(line.split()[0]),float(line.split()[1]))\n",
    "            for line in rms_first_file \n",
    "            if not line.startswith((\"#\",\"@\")) \n",
    "        ])\n",
    "    )\n",
    "\n",
    "# Read RMS vs experimental structure data from file \n",
    "with open(output_rms_exp,'r') as rms_exp_file:\n",
    "    x2,y2 = map(\n",
    "        list,\n",
    "        zip(*[\n",
    "            (float(line.split()[0]),float(line.split()[1]))\n",
    "            for line in rms_exp_file\n",
    "            if not line.startswith((\"#\",\"@\")) \n",
    "        ])\n",
    "    )\n",
    "    \n",
    "trace1 = go.Scatter(\n",
    "    x = x,\n",
    "    y = y,\n",
    "    name = 'RMSd vs first'\n",
    ")\n",
    "\n",
    "trace2 = go.Scatter(\n",
    "    x = x,\n",
    "    y = y2,\n",
    "    name = 'RMSd vs exp'\n",
    ")\n",
    "\n",
    "data = [trace1, trace2]\n",
    "\n",
    "plotly.offline.init_notebook_mode(connected=True)\n",
    "\n",
    "fig = ({\n",
    "    \"data\": data,\n",
    "    \"layout\": go.Layout(title=\"RMSd during free MD Simulation\",\n",
    "                        xaxis=dict(title = \"Time (ps)\"),\n",
    "                        yaxis=dict(title = \"RMSd (nm)\")\n",
    "                       )\n",
    "})\n",
    "\n",
    "plotly.offline.iplot(fig)"
   ]
  },
  {
   "cell_type": "markdown",
   "metadata": {},
   "source": [
    "<img src='images/fig4.png' width=\"50%\" height=\"50%\"></img>"
   ]
  },
  {
   "cell_type": "code",
   "execution_count": null,
   "metadata": {
    "scrolled": false
   },
   "outputs": [],
   "source": [
    "# GMXRgyr: Computing Radius of Gyration to measure the protein compactness during the free MD simulation \n",
    "\n",
    "from biobb_analysis.gromacs.gmx_rgyr import gmx_rgyr\n",
    "\n",
    "# Create prop dict and inputs/outputs\n",
    "output_rgyr = pdbName+'_'+ligandName+'_rgyr.xvg'\n",
    "prop = {\n",
    "    'selection':  'Backbone'\n",
    "}\n",
    "\n",
    "# Create and launch bb\n",
    "gmx_rgyr(input_structure_path=output_gppmin_tpr,\n",
    "         input_traj_path=output_md_trr,\n",
    "         output_xvg_path=output_rgyr, \n",
    "         properties=prop)"
   ]
  },
  {
   "cell_type": "code",
   "execution_count": null,
   "metadata": {
    "scrolled": false
   },
   "outputs": [],
   "source": [
    "import plotly\n",
    "import plotly.graph_objs as go\n",
    "\n",
    "# Read Rgyr data from file \n",
    "with open(output_rgyr,'r') as rgyr_file:\n",
    "    x,y = map(\n",
    "        list,\n",
    "        zip(*[\n",
    "            (float(line.split()[0]),float(line.split()[1]))\n",
    "            for line in rgyr_file \n",
    "            if not line.startswith((\"#\",\"@\")) \n",
    "        ])\n",
    "    )\n",
    "\n",
    "plotly.offline.init_notebook_mode(connected=True)\n",
    "\n",
    "fig = ({\n",
    "    \"data\": [go.Scatter(x=x, y=y)],\n",
    "    \"layout\": go.Layout(title=\"Radius of Gyration\",\n",
    "                        xaxis=dict(title = \"Time (ps)\"),\n",
    "                        yaxis=dict(title = \"Rgyr (nm)\")\n",
    "                       )\n",
    "})\n",
    "\n",
    "plotly.offline.iplot(fig)"
   ]
  },
  {
   "cell_type": "markdown",
   "metadata": {},
   "source": [
    "<img src='images/fig5.png' width=\"50%\" height=\"50%\"></img>"
   ]
  },
  {
   "cell_type": "markdown",
   "metadata": {},
   "source": [
    "<a id=\"post\"></a>\n",
    "***\n",
    "## Post-processing and Visualizing resulting 3D trajectory\n",
    "Post-processing and Visualizing the **protein-ligand complex system** MD setup **resulting trajectory** using **NGL**\n",
    "- [Step 1](#ppStep1): *Imaging* the resulting trajectory, **stripping out water molecules and ions** and **correcting periodicity issues**.\n",
    "- [Step 2](#ppStep2): Generating a *dry* structure, **removing water molecules and ions** from the final snapshot of the MD setup pipeline.\n",
    "- [Step 3](#ppStep3): Visualizing the *imaged* trajectory using the *dry* structure as a **topology**. \n",
    "***\n",
    "**Building Blocks** used:\n",
    " - [GMXImage](https://biobb-analysis.readthedocs.io/en/latest/gromacs.html#module-gromacs.gmx_image) from **biobb_analysis.gromacs.gmx_image**:\n",
    "     * Wrapper of the GROMACS trjconv module for correcting periodicity (image) from a given GROMACS compatible trajectory file.\n",
    "     \n",
    "     \n",
    " - [GMXTrjConvStr](https://biobb-analysis.readthedocs.io/en/latest/gromacs.html#module-gromacs.gmx_trjconv_str) from **biobb_analysis.gromacs.gmx_trjconv_str**:\n",
    "     * Wrapper of the GROMACS trjconv module for converting between GROMACS compatible structure file formats and/or extracting a selection of atoms.\n",
    "***"
   ]
  },
  {
   "cell_type": "markdown",
   "metadata": {},
   "source": [
    "<a id=\"ppStep1\"></a>\n",
    "### Step 1: *Imaging* the resulting trajectory.\n",
    "Stripping out **water molecules and ions** and **correcting periodicity issues**  "
   ]
  },
  {
   "cell_type": "code",
   "execution_count": null,
   "metadata": {
    "scrolled": true
   },
   "outputs": [],
   "source": [
    "# GMXImage: \"Imaging\" the resulting trajectory\n",
    "#           Removing water molecules and ions from the resulting structure\n",
    "from biobb_analysis.gromacs.gmx_image import gmx_image\n",
    "\n",
    "# Create prop dict and inputs/outputs\n",
    "output_imaged_traj = pdbName+'_imaged_traj.trr'\n",
    "prop = {\n",
    "    'center_selection':  'Protein_Other',\n",
    "    'output_selection': 'Protein_Other',\n",
    "    'pbc' : 'mol',\n",
    "    'center' : True\n",
    "}\n",
    "\n",
    "# Create and launch bb\n",
    "gmx_image (input_traj_path  = output_md_trr,\n",
    "           input_top_path   = output_gppmd_tpr,\n",
    "           input_index_path = output_complex_ndx,\n",
    "           output_traj_path = output_imaged_traj, \n",
    "           properties       = prop)"
   ]
  },
  {
   "cell_type": "markdown",
   "metadata": {},
   "source": [
    "<a id=\"ppStep2\"></a>\n",
    "### Step 2: Generating the output *dry* structure.\n",
    "**Removing water molecules and ions** from the resulting structure"
   ]
  },
  {
   "cell_type": "code",
   "execution_count": null,
   "metadata": {
    "scrolled": true
   },
   "outputs": [],
   "source": [
    "# GMXTrjConvStr: Converting and/or manipulating a structure\n",
    "#                Removing water molecules and ions from the resulting structure\n",
    "#                The \"dry\" structure will be used as a topology to visualize \n",
    "#                the \"imaged dry\" trajectory generated in the previous step.\n",
    "from biobb_analysis.gromacs.gmx_trjconv_str import gmx_trjconv_str\n",
    "\n",
    "# Create prop dict and inputs/outputs\n",
    "output_dry_gro = pdbName+'_md_dry.gro'\n",
    "prop = {\n",
    "    'selection':  'Protein_Other'\n",
    "}\n",
    "\n",
    "# Create and launch bb\n",
    "gmx_trjconv_str(input_structure_path = output_md_gro,\n",
    "                input_top_path       = output_gppmd_tpr,\n",
    "                input_index_path     = output_complex_ndx,\n",
    "                output_str_path      = output_dry_gro, \n",
    "                properties           = prop)"
   ]
  },
  {
   "cell_type": "markdown",
   "metadata": {},
   "source": [
    "<a id=\"ppStep3\"></a>\n",
    "### Step 3: Visualizing the generated dehydrated trajectory.\n",
    "Using the **imaged trajectory** (output of the [Post-processing step 1](#ppStep1)) with the **dry structure** (output of the [Post-processing step 2](#ppStep2)) as a topology."
   ]
  },
  {
   "cell_type": "code",
   "execution_count": null,
   "metadata": {
    "scrolled": false
   },
   "outputs": [],
   "source": [
    "# Show trajectory\n",
    "view = nglview.show_simpletraj(nglview.SimpletrajTrajectory(output_imaged_traj, output_dry_gro), gui=True)\n",
    "view"
   ]
  },
  {
   "cell_type": "markdown",
   "metadata": {},
   "source": [
    "<img src='images/trajectory.gif'></img>"
   ]
  },
  {
   "cell_type": "markdown",
   "metadata": {
    "variables": {
     "output_genion_top_zip": "3HTB_JZ4_genion_top.zip",
     "output_gppmd_tpr": "3HTB_JZ4_gppmd.tpr",
     "output_md_cpt": "3HTB_JZ4_md.cpt",
     "output_md_gro": "3HTB_JZ4_md.gro",
     "output_md_trr": "3HTB_JZ4_md.trr",
     "output_rgyr": "3HTB_JZ4_rgyr.xvg",
     "output_rms_exp": "3HTB_JZ4_rms_exp.xvg",
     "output_rms_first": "3HTB_JZ4_rms_first.xvg"
    }
   },
   "source": [
    "<a id=\"output\"></a>\n",
    "## Output files\n",
    "\n",
    "Important **Output files** generated:\n",
    " - {{output_md_gro}}: **Final structure** (snapshot) of the MD setup protocol.\n",
    " - {{output_md_trr}}: **Final trajectory** of the MD setup protocol.\n",
    " - {{output_md_cpt}}: **Final checkpoint file**, with information about the state of the simulation. It can be used to **restart** or **continue** a MD simulation.\n",
    " - {{output_gppmd_tpr}}: **Final tpr file**, GROMACS portable binary run input file. This file contains the starting structure of the **MD setup free MD simulation step**, together with the molecular topology and all the simulation parameters. It can be used to **extend** the simulation.\n",
    " - {{output_genion_top_zip}}: **Final topology** of the MD system. It is a compressed zip file including a **topology file** (.top) and a set of auxiliar **include topology** files (.itp).\n",
    "\n",
    "**Analysis** (MD setup check) output files generated:\n",
    " - {{output_rms_first}}: **Root Mean Square deviation (RMSd)** against **minimized and equilibrated structure** of the final **free MD run step**.\n",
    " - {{output_rms_exp}}: **Root Mean Square deviation (RMSd)** against **experimental structure** of the final **free MD run step**.\n",
    " - {{output_rgyr}}: **Radius of Gyration** of the final **free MD run step** of the **setup pipeline**.\n",
    " "
   ]
  }
 ],
 "metadata": {
  "anaconda-cloud": {},
  "kernelspec": {
   "display_name": "Python 3 (ipykernel)",
   "language": "python",
   "name": "python3"
  },
  "language_info": {
   "codemirror_mode": {
    "name": "ipython",
    "version": 3
   },
   "file_extension": ".py",
   "mimetype": "text/x-python",
   "name": "python",
   "nbconvert_exporter": "python",
   "pygments_lexer": "ipython3",
   "version": "3.7.12"
  },
  "toc": {
   "base_numbering": 1,
   "nav_menu": {},
   "number_sections": true,
   "sideBar": true,
   "skip_h1_title": true,
   "title_cell": "MD Setup",
   "title_sidebar": "Contents",
   "toc_cell": true,
   "toc_position": {
    "height": "397px",
    "left": "29px",
    "top": "86.5625px",
    "width": "394px"
   },
   "toc_section_display": true,
   "toc_window_display": true
  }
 },
 "nbformat": 4,
 "nbformat_minor": 2
}
