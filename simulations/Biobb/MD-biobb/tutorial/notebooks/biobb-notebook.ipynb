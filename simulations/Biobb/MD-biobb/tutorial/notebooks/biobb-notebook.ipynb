{
 "cells": [
  {
   "cell_type": "markdown",
   "metadata": {},
   "source": [
    "# Protein Ligand Complex MD Setup tutorial using BioExcel Building Blocks (biobb)"
   ]
  },
  {
   "cell_type": "markdown",
   "metadata": {},
   "source": [
    "## Introduction\n",
    "\n",
    "### Based on the official Gromacs tutorial: http://www.mdtutorials.com/gmx/complex/index.html\n",
    "***\n",
    "This tutorial aims to illustrate the process of **setting up a simulation system** containing a **protein in complex with a ligand**, step by step, using the **BioExcel Building Blocks library (biobb)**. The particular example used is the **T4 lysozyme** L99A/M102Q protein (PDB code 3HTB), in complex with the **2-propylphenol** small molecule (3-letter Code JZ4). \n",
    "***\n",
    "**Biobb modules** used:\n",
    "\n",
    " - [biobb_io](https://github.com/bioexcel/biobb_io): Tools to fetch biomolecular data from public databases.\n",
    " - [biobb_model](https://github.com/bioexcel/biobb_model): Tools to model macromolecular structures.\n",
    " - [biobb_chemistry](https://github.com/bioexcel/biobb_chemistry): Tools to manipulate chemical data.\n",
    " - [biobb_md](https://github.com/bioexcel/biobb_md): Tools to setup and run Molecular Dynamics simulations.\n",
    " - [biobb_analysis](https://github.com/bioexcel/biobb_analysis): Tools to analyse Molecular Dynamics trajectories.\n",
    " - [biobb_structure_utils](https://github.com/bioexcel/biobb_structure_utils):  Tools to modify or extract information from a PDB structure file.\n",
    " \n",
    "**Auxiliar libraries** used:\n",
    "\n",
    " - [nb_conda_kernels](https://github.com/Anaconda-Platform/nb_conda_kernels): Enables a Jupyter Notebook or JupyterLab application in one conda environment to access kernels for Python, R, and other languages found in other environments.\n",
    " - [nglview](http://nglviewer.org/#nglview): Jupyter/IPython widget to interactively view molecular structures and trajectories in notebooks.\n",
    " - [ipywidgets](https://github.com/jupyter-widgets/ipywidgets): Interactive HTML widgets for Jupyter notebooks and the IPython kernel.\n",
    " - [os](https://docs.python.org/3/library/os.html): Python miscellaneous operating system interfaces\n",
    " - [plotly](https://plot.ly/python/offline/): Python interactive graphing library integrated in Jupyter notebooks.\n",
    " - [simpletraj](https://github.com/arose/simpletraj): Lightweight coordinate-only trajectory reader based on code from GROMACS, MDAnalysis and VMD.\n",
    "\n",
    "\n",
    "### Conda Installation and Launch\n",
    "\n",
    "```console\n",
    "git clone https://github.com/bioexcel/biobb_wf_protein-complex_md_setup.git\n",
    "cd biobb_wf_protein-complex_md_setup\n",
    "conda env create -f conda_env/environment.yml\n",
    "conda activate biobb_Protein-Complex_MDsetup_tutorial\n",
    "jupyter-nbextension enable --py --user widgetsnbextension\n",
    "jupyter-nbextension enable --py --user nglview\n",
    "jupyter-notebook biobb_wf_protein-complex_md_setup/notebooks/biobb_Protein-Complex_MDsetup_tutorial.ipynb\n",
    "  ``` \n",
    "\n",
    "***\n",
    "### Pipeline steps:\n",
    " 1. [Introduction](#intro)\n",
    " 2. [Input Parameters](#input)\n",
    " 3. [Fetching PDB Structure](#fetch)\n",
    " 4. [Fix Protein Structure](#fix)\n",
    " 5. [Create Protein System Topology](#top)\n",
    " 6. [Create ligand system topology](#ligtop)\n",
    " 7. [Preparing Ligand Restraints](#restraints)\n",
    " 8. [Create new protein-ligand complex structure file](#complex)\n",
    " 9. [Create new protein-ligand complex topology file](#complextop)\n",
    " 10. [Create Solvent Box](#box)\n",
    " 11. [Fill the Box with Water Molecules](#water)\n",
    " 12. [Adding Ions](#ions)\n",
    " 13. [Energetically Minimize the System](#min)\n",
    " 14. [Equilibrate the System (NVT)](#nvt)\n",
    " 15. [Equilibrate the System (NPT)](#npt)\n",
    " 16. [Free Molecular Dynamics Simulation](#free)\n",
    " 17. [Post-processing and Visualizing Resulting 3D Trajectory](#post)\n",
    " 18. [Output Files](#output)\n",
    " 19. [Questions & Comments](#questions)\n",
    " \n",
    "***\n",
    "***\n",
    "<img src=\"https://bioexcel.eu/wp-content/uploads/2019/04/Bioexcell_logo_1080px_transp.png\" alt=\"Bioexcel2 logo\"\n",
    "\ttitle=\"Bioexcel2 logo\" width=\"400\" />\n",
    "***\n"
   ]
  },
  {
   "cell_type": "markdown",
   "metadata": {},
   "source": [
    "<a id=\"input\"></a>\n",
    "## Input parameters\n",
    "**Input parameters** needed:\n",
    " - **pdbCode**: PDB code of the protein-ligand complex structure (e.g. 3HTB)\n",
    " - **ligandCode**: Small molecule 3-letter code for the ligand structure (e.g. JZ4)\n",
    " - **mol_charge**: Charge of the small molecule, needed to add hydrogen atoms."
   ]
  },
  {
   "cell_type": "code",
   "execution_count": 1,
   "metadata": {
    "scrolled": true
   },
   "outputs": [
    {
     "data": {
      "application/vnd.jupyter.widget-view+json": {
       "model_id": "92d3c99c16ff45d88b6f28df20e3492a",
       "version_major": 2,
       "version_minor": 0
      },
      "text/plain": []
     },
     "metadata": {},
     "output_type": "display_data"
    }
   ],
   "source": [
    "import nglview\n",
    "import ipywidgets\n",
    "import os\n",
    "import zipfile\n",
    "\n",
    "pdbCode    = \"3HTB\"\n",
    "ligandCode = \"JZ4\"\n",
    "mol_charge = 0"
   ]
  },
  {
   "cell_type": "markdown",
   "metadata": {},
   "source": [
    "<a id=\"fetch\"></a>\n",
    "***\n",
    "## Fetching PDB structure\n",
    "Downloading **PDB structure** with the **protein-ligand complex** from the RCSB PDB database.<br>\n",
    "Alternatively, a PDB file can be used as starting structure. <br>\n",
    "Splitting the molecule in **three different files**: \n",
    "- **proteinFile**: Protein structure\n",
    "- **ligandFile**: Ligand structure\n",
    "- **complexFile**: Protein-ligand complex structure \n",
    "\n",
    "***\n",
    "**Building Blocks** used:\n",
    " - [Pdb](https://biobb-io.readthedocs.io/en/latest/api.html#module-api.pdb) from **biobb_io.api.pdb**\n",
    "***"
   ]
  },
  {
   "cell_type": "markdown",
   "metadata": {},
   "source": [
    "### Downloading PDB file "
   ]
  },
  {
   "cell_type": "code",
   "execution_count": 2,
   "metadata": {
    "scrolled": true
   },
   "outputs": [
    {
     "name": "stdout",
     "output_type": "stream",
     "text": [
      "2022-04-20 15:25:54,867 [MainThread  ] [INFO ]  Downloading: 3htb from: https://www.ebi.ac.uk/pdbe/entry-files/download/pdb3htb.ent\n"
     ]
    },
    {
     "name": "stderr",
     "output_type": "stream",
     "text": [
      "/opt/miniconda3/envs/biobb_env/lib/python3.7/site-packages/urllib3/connectionpool.py:1050: InsecureRequestWarning: Unverified HTTPS request is being made to host 'www.ebi.ac.uk'. Adding certificate verification is strongly advised. See: https://urllib3.readthedocs.io/en/1.26.x/advanced-usage.html#ssl-warnings\n",
      "  InsecureRequestWarning,\n"
     ]
    },
    {
     "name": "stdout",
     "output_type": "stream",
     "text": [
      "2022-04-20 15:25:55,962 [MainThread  ] [INFO ]  Writting pdb to: 3HTB.orig.pdb\n"
     ]
    },
    {
     "data": {
      "text/plain": [
       "0"
      ]
     },
     "execution_count": 2,
     "metadata": {},
     "output_type": "execute_result"
    }
   ],
   "source": [
    "# Downloading desired PDB file \n",
    "# Import module\n",
    "from biobb_io.api.pdb import pdb\n",
    "\n",
    "# Create properties dict and inputs/outputs\n",
    "downloaded_pdb = pdbCode + '.orig.pdb'\n",
    "prop = {\n",
    "    'pdb_code': pdbCode,\n",
    "    'filter': False\n",
    "}\n",
    "\n",
    "# Create and launch bb\n",
    "pdb (output_pdb_path=downloaded_pdb, properties=prop)"
   ]
  },
  {
   "cell_type": "markdown",
   "metadata": {},
   "source": [
    "### Extracting Protein, Ligand and Protein-Ligand Complex"
   ]
  },
  {
   "cell_type": "code",
   "execution_count": 3,
   "metadata": {
    "scrolled": true
   },
   "outputs": [
    {
     "name": "stdout",
     "output_type": "stream",
     "text": [
      ">>> Files: 3HTB.pdb JZ4.pdb 3HTB_JZ4.pdb\n",
      "\n",
      ">>> Extracting molecule...\n",
      "2022-04-20 15:26:08,007 [MainThread  ] [INFO ]  Creating 44b9c974-47d0-4b0a-a6fd-96ea32921ebf temporary folder\n",
      "2022-04-20 15:26:08,572 [MainThread  ] [INFO ]  check_structure -i /home/lg/repos/javerianaMD/simulation/md-biobb/tutorial/notebooks/3HTB.orig.pdb -o 3HTB.pdb --force_save --non_interactive command_list --list 44b9c974-47d0-4b0a-a6fd-96ea32921ebf/extract_prot.lst\n",
      "\n",
      "2022-04-20 15:26:08,573 [MainThread  ] [INFO ]  Exit code 0\n",
      "\n",
      "2022-04-20 15:26:08,574 [MainThread  ] [INFO ]  ===============================================================================\n",
      "=                   BioBB structure checking utility v3.8.1                   =\n",
      "=                 A. Hospital, P. Andrio, J.L. Gelpi 2018-21                  =\n",
      "===============================================================================\n",
      "\n",
      "Warning: sequence features only available in mmCIF format or with external fasta input\n",
      "Structure /home/lg/repos/javerianaMD/simulation/md-biobb/tutorial/notebooks/3HTB.orig.pdb loaded\n",
      " Title: 2-propylphenol in complex with t4 lysozyme l99a/m102q\n",
      " Experimental method: x-ray diffraction\n",
      " Keywords: hydrolase, glycosidase, bacteriolytic enzyme, antimicrobial\n",
      " Resolution (A): 1.81\n",
      "\n",
      " Num. models: 1\n",
      " Num. chains: 1 (A: Protein)\n",
      " Num. residues:  387\n",
      " Num. residues with ins. codes:  0\n",
      " Num. HETATM residues:  224\n",
      " Num. ligands or modified residues:  4\n",
      " Num. water mol.:  220\n",
      " Num. atoms:  1544\n",
      "Small mol ligands found\n",
      "PO4 A165\n",
      "PO4 A166\n",
      "JZ4 A167\n",
      "BME A168\n",
      "\n",
      "\n",
      "Step 1: ligands --remove All\n",
      "\n",
      "Running ligands. Options: --remove All\n",
      "4 Ligands detected\n",
      " PO4 A165\n",
      " PO4 A166\n",
      " JZ4 A167\n",
      " BME A168\n",
      "Ligands removed All (4)\n",
      "\n",
      "Step 2: water --remove Yes\n",
      "\n",
      "Running water. Options: --remove Yes\n",
      "220 Water molecules detected\n",
      "220 Water molecules removed\n",
      "Command list completed\n",
      "Final Num. models: 1\n",
      "Final Num. chains: 1 (A: Protein)\n",
      "Final Num. residues:  163\n",
      "Final Num. residues with ins. codes:  0\n",
      "Final Num. HETATM residues:  0\n",
      "Final Num. ligands or modified residues:  0\n",
      "Final Num. water mol.:  0\n",
      "Final Num. atoms:  1300\n",
      "Structure saved on 3HTB.pdb\n",
      "\n",
      "2022-04-20 15:26:08,575 [MainThread  ] [INFO ]  Removing 44b9c974-47d0-4b0a-a6fd-96ea32921ebf temporary folder\n",
      "\n",
      ">>> Extracting ligand...\n",
      "2022-04-20 15:26:08,648 [MainThread  ] [INFO ]  File JZ4.pdb created\n",
      "\n",
      ">>> Creating complex...\n",
      "2022-04-20 15:26:08,652 [MainThread  ] [INFO ]  File 3HTB_JZ4.pdb created\n"
     ]
    },
    {
     "data": {
      "text/plain": [
       "0"
      ]
     },
     "execution_count": 3,
     "metadata": {},
     "output_type": "execute_result"
    }
   ],
   "source": [
    "# Extracting Protein, Ligand and Protein-Ligand Complex to three different files\n",
    "# Import module\n",
    "from biobb_structure_utils.utils.extract_heteroatoms import extract_heteroatoms\n",
    "from biobb_structure_utils.utils.extract_molecule import extract_molecule\n",
    "from biobb_structure_utils.utils.cat_pdb import cat_pdb\n",
    "\n",
    "# Create inputs/outputs\n",
    "proteinFile = pdbCode     +'.pdb'\n",
    "ligandFile  = ligandCode  +'.pdb'\n",
    "complexFile = pdbCode+'_' + ligandCode + '.pdb'\n",
    "print (\">>> Files:\", proteinFile, ligandFile, complexFile)\n",
    "\n",
    "# Extract molecule\n",
    "print (\"\\n>>> Extracting molecule...\")\n",
    "extract_molecule(input_structure_path=downloaded_pdb,\n",
    "     output_molecule_path=proteinFile)\n",
    "\n",
    "# Extract ligand \n",
    "print (\"\\n>>> Extracting ligand...\")\n",
    "prop = {\n",
    "     'heteroatoms' : [{\"name\": \"JZ4\"}]\n",
    "}\n",
    "\n",
    "extract_heteroatoms(input_structure_path=downloaded_pdb,\n",
    "     output_heteroatom_path=ligandFile, properties=prop)\n",
    "\n",
    "\n",
    "# Create complex\n",
    "print (\"\\n>>> Creating complex...\")\n",
    "cat_pdb(input_structure1=proteinFile, input_structure2=ligandFile,\n",
    "       output_structure_path=complexFile)"
   ]
  },
  {
   "cell_type": "markdown",
   "metadata": {},
   "source": [
    "### Visualizing 3D structures\n",
    "Visualizing the generated **PDB structures** using **NGL**:  \n",
    "- **Protein structure** (Left)\n",
    "- **Ligand structure** (Center)\n",
    "- **Protein-ligand complex** (Right)  "
   ]
  },
  {
   "cell_type": "code",
   "execution_count": 4,
   "metadata": {
    "scrolled": false
   },
   "outputs": [
    {
     "data": {
      "application/vnd.jupyter.widget-view+json": {
       "model_id": "4b3eaf4ed70b429ab7f35a5367040a1b",
       "version_major": 2,
       "version_minor": 0
      },
      "text/plain": [
       "HBox(children=(NGLWidget(), NGLWidget(), NGLWidget()))"
      ]
     },
     "metadata": {},
     "output_type": "display_data"
    }
   ],
   "source": [
    "# Show structures: protein, ligand and protein-ligand complex\n",
    "view1 = nglview.show_structure_file(proteinFile)\n",
    "view1._remote_call('setSize', target='Widget', args=['350px','400px'])\n",
    "view1.camera='orthographic'\n",
    "view1\n",
    "view2 = nglview.show_structure_file(ligandFile)\n",
    "view2.add_representation(repr_type='ball+stick')\n",
    "view2._remote_call('setSize', target='Widget', args=['350px','400px'])\n",
    "view2.camera='orthographic'\n",
    "view2\n",
    "view3 = nglview.show_structure_file(complexFile)\n",
    "view3.add_representation(repr_type='licorice', radius='.5', selection=ligandCode)\n",
    "view3._remote_call('setSize', target='Widget', args=['350px','400px'])\n",
    "view3.camera='orthographic'\n",
    "view3\n",
    "ipywidgets.HBox([view1, view2, view3])"
   ]
  },
  {
   "cell_type": "markdown",
   "metadata": {},
   "source": [
    "<img src='images/ngl1.png' style='float: left;width:33%'></img><img src='images/ngl2.png' style='float: left;width:23%'></img><img src='images/ngl3.png' style='float: left;width:33%'></img>"
   ]
  },
  {
   "cell_type": "markdown",
   "metadata": {},
   "source": [
    "<a id=\"fix\"></a>\n",
    "***\n",
    "## Fix protein structure\n",
    "**Checking** and **fixing** (if needed) the protein structure:<br>\n",
    "- **Modeling** **missing side-chain atoms**, modifying incorrect **amide assignments**, choosing **alternative locations**.<br>\n",
    "- **Checking** for missing **backbone atoms**, **heteroatoms**, **modified residues** and possible **atomic clashes**.\n",
    "***\n",
    "**Building Blocks** used:\n",
    " - [FixSideChain](https://biobb-model.readthedocs.io/en/latest/model.html#module-model.fix_side_chain) from **biobb_model.model.fix_side_chain**\n",
    "\n",
    "Class to model the missing atoms in amino acid side chains of a PDB.\n",
    "Model the missing atoms in amino acid side chains of a PDB using biobb_structure_checking if the use_modeller property is added the Modeller suite will also be used to rebuild the missing atoms.\n",
    "***"
   ]
  },
  {
   "cell_type": "code",
   "execution_count": 5,
   "metadata": {
    "scrolled": true
   },
   "outputs": [
    {
     "name": "stdout",
     "output_type": "stream",
     "text": [
      "2022-04-20 15:26:22,181 [MainThread  ] [INFO ]  check_structure -i 3HTB.pdb -o 3HTB_fixed.pdb --force_save fixside --fix ALL\n",
      "\n",
      "2022-04-20 15:26:22,183 [MainThread  ] [INFO ]  Exit code 0\n",
      "\n",
      "2022-04-20 15:26:22,183 [MainThread  ] [INFO ]  ===============================================================================\n",
      "=                   BioBB structure checking utility v3.8.1                   =\n",
      "=                 A. Hospital, P. Andrio, J.L. Gelpi 2018-21                  =\n",
      "===============================================================================\n",
      "\n",
      "Warning: sequence features only available in mmCIF format or with external fasta input\n",
      "Structure 3HTB.pdb loaded\n",
      " Title: \n",
      " Experimental method: unknown\n",
      " Resolution (A): N.A.\n",
      "\n",
      " Num. models: 1\n",
      " Num. chains: 1 (A: Protein)\n",
      " Num. residues:  163\n",
      " Num. residues with ins. codes:  0\n",
      " Num. HETATM residues:  0\n",
      " Num. ligands or modified residues:  0\n",
      " Num. water mol.:  0\n",
      " Num. atoms:  1300\n",
      "\n",
      "Running fixside. Options: --fix ALL\n",
      "No residues with missing or unknown side chain atoms found\n",
      "Structure not modified, saving due to --force_save option\n",
      "Final Num. models: 1\n",
      "Final Num. chains: 1 (A: Protein)\n",
      "Final Num. residues:  163\n",
      "Final Num. residues with ins. codes:  0\n",
      "Final Num. HETATM residues:  0\n",
      "Final Num. ligands or modified residues:  0\n",
      "Final Num. water mol.:  0\n",
      "Final Num. atoms:  1300\n",
      "Structure saved on 3HTB_fixed.pdb\n",
      "\n",
      "2022-04-20 15:26:22,184 [MainThread  ] [INFO ]  Removed: []\n"
     ]
    },
    {
     "data": {
      "text/plain": [
       "0"
      ]
     },
     "execution_count": 5,
     "metadata": {},
     "output_type": "execute_result"
    }
   ],
   "source": [
    "# Check & Fix Protein Structure\n",
    "# Import module\n",
    "from biobb_model.model.fix_side_chain import fix_side_chain\n",
    "\n",
    "# Create prop dict and inputs/outputs\n",
    "fixed_pdb = pdbCode +  '_fixed.pdb'\n",
    "\n",
    "# Create and launch bb\n",
    "fix_side_chain(input_pdb_path=proteinFile, \n",
    "               output_pdb_path=fixed_pdb)"
   ]
  },
  {
   "cell_type": "code",
   "execution_count": 6,
   "metadata": {
    "scrolled": false
   },
   "outputs": [
    {
     "data": {
      "application/vnd.jupyter.widget-view+json": {
       "model_id": "f0f3fbe53f1a40d98d5621ede61e3447",
       "version_major": 2,
       "version_minor": 0
      },
      "text/plain": [
       "NGLWidget()"
      ]
     },
     "metadata": {},
     "output_type": "display_data"
    }
   ],
   "source": [
    "# Show structures: protein, ligand and protein-ligand complex\n",
    "view1 = nglview.show_structure_file(fixed_pdb, default_representation=False)\n",
    "view1._remote_call('setSize', target='Widget', args=['450px','500px'])\n",
    "view1.camera='orthographic'\n",
    "view1.add_licorice(\n",
    "    \"sidechainAttached \"\n",
    ")  # color=\"#FF0000\" or color=0xFF0000 would also work!\n",
    "view1.center()\n",
    "view1"
   ]
  },
  {
   "cell_type": "markdown",
   "metadata": {},
   "source": [
    "<a id=\"top\"></a>\n",
    "***\n",
    "## Create protein system topology\n",
    "**Building GROMACS topology** corresponding to the protein structure.<br>\n",
    "- Force field used in this tutorial is [**amber99sb-ildn**](https://dx.doi.org/10.1002%2Fprot.22711): AMBER **parm99** force field with **corrections on backbone** (sb) and **side-chain torsion potentials** (ildn). \n",
    "- Water molecules type used in this tutorial is [**spc/e**](https://pubs.acs.org/doi/abs/10.1021/j100308a038).<br>\n",
    "- Adding **hydrogen atoms** if missing. Automatically identifying **disulfide bridges**. <br>\n",
    "\n",
    "Generating two output files: \n",
    "- **GROMACS structure** (gro file)\n",
    "- **GROMACS topology** ZIP compressed file containing:\n",
    "    - *GROMACS topology top file* (top file)\n",
    "    - *GROMACS position restraint file/s* (itp file/s)\n",
    "    \n",
    "***\n",
    "**Building Blocks** used:\n",
    " - [Pdb2gmx](https://biobb-md.readthedocs.io/en/latest/gromacs.html#module-gromacs.pdb2gmx) from **biobb_md.gromacs.pdb2gmx**\n",
    "\n",
    "The GROMACS pdb2gmx module, reads a .pdb (or .gro) file, reads some database files, adds hydrogens to the molecules and generates coordinates in GROMACS (GROMOS), or optionally .pdb, format and a topology in GROMACS format. These files can subsequently be processed to generate a run input file.\n",
    "***"
   ]
  },
  {
   "cell_type": "code",
   "execution_count": 7,
   "metadata": {
    "scrolled": true
   },
   "outputs": [
    {
     "name": "stdout",
     "output_type": "stream",
     "text": [
      "2022-04-20 15:26:26,883 [MainThread  ] [INFO ]  GROMACS Pdb2gmx 20191 version detected\n",
      "2022-04-20 15:26:26,884 [MainThread  ] [INFO ]  Not using any container\n",
      "2022-04-20 15:26:27,422 [MainThread  ] [INFO ]  gmx -nobackup -nocopyright pdb2gmx -f 3HTB_fixed.pdb -o 3HTB_pdb2gmx.gro -p p2g.top -water spce -ff amber99sb-ildn -i posre.itp\n",
      "\n",
      "2022-04-20 15:26:27,423 [MainThread  ] [INFO ]  Exit code 0\n",
      "\n",
      "2022-04-20 15:26:27,424 [MainThread  ] [INFO ]  \n",
      "Using the Amber99sb-ildn force field in directory amber99sb-ildn.ff\n",
      "\n",
      "going to rename amber99sb-ildn.ff/aminoacids.r2b\n",
      "going to rename amber99sb-ildn.ff/dna.r2b\n",
      "going to rename amber99sb-ildn.ff/rna.r2b\n",
      "Reading 3HTB_fixed.pdb...\n",
      "Read '', 1364 atoms\n",
      "Analyzing pdb file\n",
      "Splitting chemical chains based on TER records or chain id changing.\n",
      "There are 1 chains and 0 blocks of water and 163 residues with 1364 atoms\n",
      "\n",
      "  chain  #res #atoms\n",
      "  1 'A'   163   1364  \n",
      "\n",
      "Reading residue database... (Amber99sb-ildn)\n",
      "Processing chain 1 'A' (1364 atoms, 163 residues)\n",
      "Identified residue MET1 as a starting terminus.\n",
      "Identified residue ASN163 as a ending terminus.\n",
      "Checking for duplicate atoms....\n",
      "Now there are 1300 atoms. Deleted 64 duplicates.\n",
      "Generating any missing hydrogen atoms and/or adding termini.\n",
      "Now there are 163 residues with 2614 atoms\n",
      "\t\t--------- PLEASE NOTE ------------\n",
      "You have successfully generated a topology from: 3HTB_fixed.pdb.\n",
      "The Amber99sb-ildn force field and the spce water model are used.\n",
      "\t\t--------- ETON ESAELP ------------\n",
      "\n",
      "2022-04-20 15:26:27,424 [MainThread  ] [INFO ]                       :-) GROMACS - gmx pdb2gmx, 2019.1 (-:\n",
      "\n",
      "Executable:   /opt/miniconda3/envs/biobb_env/bin/gmx\n",
      "Data prefix:  /opt/miniconda3/envs/biobb_env\n",
      "Working dir:  /home/lg/repos/javerianaMD/simulation/md-biobb/tutorial/notebooks\n",
      "Command line:\n",
      "  gmx -nobackup -nocopyright pdb2gmx -f 3HTB_fixed.pdb -o 3HTB_pdb2gmx.gro -p p2g.top -water spce -ff amber99sb-ildn -i posre.itp\n",
      "\n",
      "Opening force field file /opt/miniconda3/envs/biobb_env/share/gromacs/top/amber99sb-ildn.ff/aminoacids.r2b\n",
      "Opening force field file /opt/miniconda3/envs/biobb_env/share/gromacs/top/amber99sb-ildn.ff/dna.r2b\n",
      "Opening force field file /opt/miniconda3/envs/biobb_env/share/gromacs/top/amber99sb-ildn.ff/rna.r2b\n",
      "\n",
      "WARNING: there were 0 atoms with zero occupancy and 178 atoms with\n",
      "         occupancy unequal to one (out of 1364 atoms). Check your pdb file.\n",
      "\n",
      "Opening force field file /opt/miniconda3/envs/biobb_env/share/gromacs/top/amber99sb-ildn.ff/atomtypes.atp\n",
      "Atomtype 67\n",
      "Opening force field file /opt/miniconda3/envs/biobb_env/share/gromacs/top/amber99sb-ildn.ff/aminoacids.rtp\n",
      "Residue 93\n",
      "Sorting it all out...\n",
      "Opening force field file /opt/miniconda3/envs/biobb_env/share/gromacs/top/amber99sb-ildn.ff/dna.rtp\n",
      "Residue 109\n",
      "Sorting it all out...\n",
      "Opening force field file /opt/miniconda3/envs/biobb_env/share/gromacs/top/amber99sb-ildn.ff/rna.rtp\n",
      "Residue 125\n",
      "Sorting it all out...\n",
      "Opening force field file /opt/miniconda3/envs/biobb_env/share/gromacs/top/amber99sb-ildn.ff/aminoacids.hdb\n",
      "Opening force field file /opt/miniconda3/envs/biobb_env/share/gromacs/top/amber99sb-ildn.ff/dna.hdb\n",
      "Opening force field file /opt/miniconda3/envs/biobb_env/share/gromacs/top/amber99sb-ildn.ff/rna.hdb\n",
      "Opening force field file /opt/miniconda3/envs/biobb_env/share/gromacs/top/amber99sb-ildn.ff/aminoacids.n.tdb\n",
      "Opening force field file /opt/miniconda3/envs/biobb_env/share/gromacs/top/amber99sb-ildn.ff/aminoacids.c.tdb\n",
      "Analysing hydrogen-bonding network for automated assignment of histidine\n",
      " protonation. 273 donors and 248 acceptors were found.\n",
      "There are 347 hydrogen bonds\n",
      "Will use HISD for residue 31\n",
      "8 out of 8 lines of specbond.dat converted successfully\n",
      "Special Atom Distance matrix:\n",
      "                    MET1    MET6   HIS31   CYS54   CYS97  MET106\n",
      "                    SD10    SD56  NE2276   SG446   SG808   SD883\n",
      "    MET6    SD56   0.631\n",
      "   HIS31  NE2276   2.196   1.931\n",
      "   CYS54   SG446   2.781   2.718   1.052\n",
      "   CYS97   SG808   0.820   0.539   2.117   2.897\n",
      "  MET106   SD883   1.900   1.314   1.848   2.841   1.635\n",
      "  MET120   SD982   2.525   2.014   3.286   4.293   2.112   1.520\n",
      "Opening force field file /opt/miniconda3/envs/biobb_env/share/gromacs/top/amber99sb-ildn.ff/aminoacids.arn\n",
      "Opening force field file /opt/miniconda3/envs/biobb_env/share/gromacs/top/amber99sb-ildn.ff/dna.arn\n",
      "Opening force field file /opt/miniconda3/envs/biobb_env/share/gromacs/top/amber99sb-ildn.ff/rna.arn\n",
      "Making bonds...\n",
      "Number of bonds was 2635, now 2634\n",
      "Generating angles, dihedrals and pairs...\n",
      "Before cleaning: 6889 pairs\n",
      "Before cleaning: 7252 dihedrals\n",
      "Keeping all generated dihedrals\n",
      "Making cmap torsions...\n",
      "There are 7252 dihedrals,  522 impropers, 4751 angles\n",
      "          6847 pairs,     2634 bonds and     0 virtual sites\n",
      "Total mass 18512.384 a.m.u.\n",
      "Total charge 6.000 e\n",
      "Writing topology\n",
      "\n",
      "Writing coordinate file...\n",
      "\n",
      "GROMACS reminds you: \"Hmm, It *Does* Go Well With the Chicken\" (Beastie Boys)\n",
      "\n",
      "\n",
      "2022-04-20 15:26:27,425 [MainThread  ] [INFO ]  Compressing topology to: 3HTB_pdb2gmx_top.zip\n",
      "2022-04-20 15:26:27,427 [MainThread  ] [INFO ]  Ignored file amber99sb-ildn.ff/forcefield.itp\n",
      "2022-04-20 15:26:27,436 [MainThread  ] [INFO ]  Ignored file amber99sb-ildn.ff/spce.itp\n",
      "2022-04-20 15:26:27,437 [MainThread  ] [INFO ]  Ignored file amber99sb-ildn.ff/ions.itp\n",
      "2022-04-20 15:26:27,441 [MainThread  ] [INFO ]  Adding:\n",
      "2022-04-20 15:26:27,442 [MainThread  ] [INFO ]  ['p2g.top', 'posre.itp']\n",
      "2022-04-20 15:26:27,442 [MainThread  ] [INFO ]  to: /home/lg/repos/javerianaMD/simulation/md-biobb/tutorial/notebooks/3HTB_pdb2gmx_top.zip\n",
      "2022-04-20 15:26:27,444 [MainThread  ] [INFO ]  Removed: ['p2g.top', 'posre.itp']\n"
     ]
    },
    {
     "data": {
      "text/plain": [
       "0"
      ]
     },
     "execution_count": 7,
     "metadata": {},
     "output_type": "execute_result"
    }
   ],
   "source": [
    "# Create Protein system topology\n",
    "# Import module\n",
    "from biobb_md.gromacs.pdb2gmx import pdb2gmx\n",
    "\n",
    "# Create inputs/outputs\n",
    "output_pdb2gmx_gro     = pdbCode + '_pdb2gmx.gro'\n",
    "output_pdb2gmx_top_zip = pdbCode + '_pdb2gmx_top.zip'\n",
    "prop = {\n",
    "    'force_field' : 'amber99sb-ildn',\n",
    "    'water_type': 'spce'\n",
    "}\n",
    "\n",
    "# Create and launch bb\n",
    "pdb2gmx(input_pdb_path=fixed_pdb,\n",
    "        output_gro_path=output_pdb2gmx_gro,\n",
    "        output_top_zip_path=output_pdb2gmx_top_zip,\n",
    "        properties=prop)"
   ]
  },
  {
   "cell_type": "markdown",
   "metadata": {},
   "source": [
    "<a id=\"ligtop\"></a>\n",
    "***\n",
    "## Create ligand system topology\n",
    "**Building GROMACS topology** corresponding to the ligand structure.<br>\n",
    "Force field used in this tutorial step is **amberGAFF**: [General AMBER Force Field](http://ambermd.org/antechamber/gaff.html), designed for rational drug design.<br>\n",
    "- [Step 1](#ligandTopologyStep1): Add **hydrogen atoms** if missing.\n",
    "- [Step 2](#ligandTopologyStep2): **Energetically minimize the system** with the new hydrogen atoms. \n",
    "- [Step 3](#ligandTopologyStep3): Generate **ligand topology** (parameters). \n",
    "\n",
    "***\n",
    "**Building Blocks** used:\n",
    " - [ReduceAddHydrogens](https://biobb-chemistry.readthedocs.io/en/latest/ambertools.html#module-ambertools.reduce_add_hydrogens) from **biobb_chemistry.ambertools.reduce_add_hydrogens**: \n",
    "     * Module for adding hydrogens to a given structure.\n",
    " \n",
    " \n",
    " - [BabelMinimize](https://biobb-chemistry.readthedocs.io/en/latest/babelm.html#module-babelm.babel_minimize) from **biobb_chemistry.babelm.babel_minimize**:\n",
    "     * Energetically minimizes small molecules. \n",
    "     \n",
    " \n",
    " - [AcpypeParamsGMX](https://biobb-chemistry.readthedocs.io/en/latest/acpype.html#module-acpype.acpype_params_gmx) from **biobb_chemistry.acpype.acpype_params_gmx**:\n",
    "     * Acpype is a tool based in Python to use Antechamber to generate topologies for chemical compounds and to interface with others python applications like CCPN or ARIA\n",
    "***"
   ]
  },
  {
   "cell_type": "markdown",
   "metadata": {},
   "source": [
    "<a id=\"ligandTopologyStep1\"></a>\n",
    "### Step 1: Add **hydrogen atoms**"
   ]
  },
  {
   "cell_type": "code",
   "execution_count": 8,
   "metadata": {
    "scrolled": true
   },
   "outputs": [
    {
     "name": "stdout",
     "output_type": "stream",
     "text": [
      "2022-04-20 15:26:43,255 [MainThread  ] [INFO ]  Not using any container\n",
      "2022-04-20 15:26:43,356 [MainThread  ] [INFO ]  reduce -NUClear -OH -ROTNH3 -ALLALT JZ4.pdb > JZ4.reduce.H.pdb\n",
      "\n",
      "2022-04-20 15:26:43,358 [MainThread  ] [INFO ]  Exit code 0\n",
      "\n",
      "2022-04-20 15:26:43,359 [MainThread  ] [INFO ]  reduce: version 3.3 06/02/2016, Copyright 1997-2016, J. Michael Word\n",
      "Processing file: \"JZ4.pdb\"\n",
      "Database of HETATM connections: \"/opt/miniconda3/envs/biobb_env//dat/reduce_wwPDB_het_dict.txt\"\n",
      "VDW dot density = 16/A^2\n",
      "Orientation penalty scale = 1 (100%)\n",
      "Eliminate contacts within 3 bonds.\n",
      "Ignore atoms with |occupancy| <= 0.01 during adjustments.\n",
      "Waters ignored if B-Factor >= 40 or |occupancy| < 0.66\n",
      "Aromatic rings in amino acids accept hydrogen bonds.\n",
      "Building or keeping OH & SH Hydrogens.\n",
      "Rotating NH3 Hydrogens.\n",
      "Not processing Met methyls.\n",
      "WARNING: atom H13A from JZ4 will be treated as hydrogen\n",
      "WARNING: atom H14A from JZ4 will be treated as hydrogen\n",
      "WARNING: atom H13A from JZ4 will be treated as hydrogen\n",
      "WARNING: atom H13A from JZ4 will be treated as hydrogen\n",
      "WARNING: atom H14A from JZ4 will be treated as hydrogen\n",
      "WARNING: atom H14A from JZ4 will be treated as hydrogen\n",
      "WARNING: atom H14A from JZ4 will be treated as hydrogen\n",
      "WARNING: atom H14A from JZ4 will be treated as hydrogen\n",
      "WARNING: atom H13A from JZ4 will be treated as hydrogen\n",
      "WARNING: atom H13A from JZ4 will be treated as hydrogen\n",
      "WARNING: atom H14A from JZ4 will be treated as hydrogen\n",
      "WARNING: atom H13A from JZ4 will be treated as hydrogen\n",
      " Singles(size 1): A 167 JZ4 OAB \n",
      " orientation 1: A 167 JZ4 OAB :   rot  120: bump=0.000, HB=0.000, total=0.000\n",
      "Found 0 hydrogens (0 hets)\n",
      "Standardized 0 hydrogens (0 hets)\n",
      "Added 12 hydrogens (12 hets)\n",
      "Removed 0 hydrogens (0 hets)\n",
      "Adjusted 1 group(s)\n",
      "If you publish work which uses reduce, please cite:\n",
      "Word, et. al. (1999) J. Mol. Biol. 285, 1735-1747.\n",
      "For more information see http://kinemage.biochem.duke.edu\n",
      "\n"
     ]
    },
    {
     "data": {
      "text/plain": [
       "0"
      ]
     },
     "execution_count": 8,
     "metadata": {},
     "output_type": "execute_result"
    }
   ],
   "source": [
    "# Create Ligand system topology, STEP 1\n",
    "# Reduce_add_hydrogens: add Hydrogen atoms to a small molecule (using Reduce tool from Ambertools package)\n",
    "# Import module\n",
    "from biobb_chemistry.ambertools.reduce_add_hydrogens import reduce_add_hydrogens\n",
    "\n",
    "# Create prop dict and inputs/outputs\n",
    "output_reduce_h = ligandCode + '.reduce.H.pdb' \n",
    "prop = {\n",
    "    'nuclear' : 'true'\n",
    "}\n",
    "\n",
    "# Create and launch bb\n",
    "reduce_add_hydrogens(input_path=ligandFile,\n",
    "                   output_path=output_reduce_h,\n",
    "                   properties=prop)\n"
   ]
  },
  {
   "cell_type": "markdown",
   "metadata": {},
   "source": [
    "<a id=\"ligandTopologyStep2\"></a>\n",
    "### Step 2: **Energetically minimize the system** with the new hydrogen atoms. "
   ]
  },
  {
   "cell_type": "code",
   "execution_count": 9,
   "metadata": {
    "scrolled": true
   },
   "outputs": [
    {
     "name": "stdout",
     "output_type": "stream",
     "text": [
      "2022-04-20 15:26:54,270 [MainThread  ] [INFO ]  Hydrogens  is not correct, assigned default value: False\n",
      "2022-04-20 15:26:54,272 [MainThread  ] [INFO ]  Steps  is not correct, assigned default value: 2500\n",
      "2022-04-20 15:26:54,273 [MainThread  ] [INFO ]  Cut-off  is not correct, assigned default value: False\n",
      "2022-04-20 15:26:54,274 [MainThread  ] [INFO ]  Rvdw  is not correct, assigned default value: 6.0\n",
      "2022-04-20 15:26:54,276 [MainThread  ] [INFO ]  Rele  is not correct, assigned default value: 10.0\n",
      "2022-04-20 15:26:54,277 [MainThread  ] [INFO ]  Frequency  is not correct, assigned default value: 10\n",
      "2022-04-20 15:26:54,278 [MainThread  ] [INFO ]  Not using any container\n",
      "2022-04-20 15:26:54,758 [MainThread  ] [INFO ]  obminimize -c 1e-10 -sd -ff GAFF -ipdb JZ4.reduce.H.pdb -omol2 > JZ4.H.min.mol2\n",
      "\n",
      "2022-04-20 15:26:54,759 [MainThread  ] [INFO ]  Exit code 0\n",
      "\n",
      "2022-04-20 15:26:54,759 [MainThread  ] [INFO ]  \n",
      "A T O M   T Y P E S\n",
      "\n",
      "IDX\tTYPE\tRING\n",
      "1\tc3\tNO\n",
      "2\tca\tAR\n",
      "3\tca\tAR\n",
      "4\tca\tAR\n",
      "5\tca\tAR\n",
      "6\tca\tAR\n",
      "7\tca\tAR\n",
      "8\tc3\tNO\n",
      "9\tc3\tNO\n",
      "10\toh\tNO\n",
      "11\tho\tNO\n",
      "12\thc\tNO\n",
      "13\thc\tNO\n",
      "14\tha\tNO\n",
      "15\tha\tNO\n",
      "16\tha\tNO\n",
      "17\thc\tNO\n",
      "18\thc\tNO\n",
      "19\thc\tNO\n",
      "20\thc\tNO\n",
      "21\thc\tNO\n",
      "22\tha\tNO\n",
      "\n",
      "C H A R G E S\n",
      "\n",
      "IDX\tCHARGE\n",
      "1\t-0.064979\n",
      "2\t-0.061278\n",
      "3\t-0.058294\n",
      "4\t-0.019907\n",
      "5\t0.120013\n",
      "6\t-0.055115\n",
      "7\t-0.005954\n",
      "8\t-0.024481\n",
      "9\t-0.051799\n",
      "10\t-0.506496\n",
      "11\t0.292144\n",
      "12\t0.026577\n",
      "13\t0.031423\n",
      "14\t0.065403\n",
      "15\t0.061871\n",
      "16\t0.061769\n",
      "17\t0.022987\n",
      "18\t0.022987\n",
      "19\t0.022987\n",
      "20\t0.026577\n",
      "21\t0.031423\n",
      "22\t0.062142\n",
      "\n",
      "S E T T I N G   U P   C A L C U L A T I O N S\n",
      "\n",
      "SETTING UP BOND CALCULATIONS...\n",
      "SETTING UP ANGLE CALCULATIONS...\n",
      "SETTING UP TORSION CALCULATIONS...\n",
      "SETTING UP IMPROPER TORSION CALCULATIONS...\n",
      "SETTING UP VAN DER WAALS CALCULATIONS...\n",
      "SETTING UP ELECTROSTATIC CALCULATIONS...\n",
      "\n",
      "S T E E P E S T   D E S C E N T\n",
      "\n",
      "STEPS = 2500\n",
      "\n",
      "STEP n       E(n)         E(n-1)    \n",
      "------------------------------------\n",
      "    0      50.048      ----\n",
      "   10    36.21724    36.73363\n",
      "   20    32.62519    32.90050\n",
      "   30    30.42176    30.60740\n",
      "   40    28.84022    28.98002\n",
      "   50    27.60107    27.71398\n",
      "   60    26.57419    26.66957\n",
      "   70    25.69242    25.77532\n",
      "   80    24.91809    24.99145\n",
      "   90    24.22825    24.29392\n",
      "  100    23.60848    23.66758\n",
      "  110    23.04960    23.10303\n",
      "  120    22.54147    22.59027\n",
      "  130    22.07638    22.12112\n",
      "  140    21.64899    21.69018\n",
      "  150    21.25485    21.29289\n",
      "  160    20.89018    20.92542\n",
      "  170    20.55172    20.58448\n",
      "  180    20.23672    20.26724\n",
      "  190    19.94279    19.97131\n",
      "  200    19.66791    19.69460\n",
      "  210    19.41032    19.43536\n",
      "  220    19.16851    19.19203\n",
      "  230    18.94116    18.96329\n",
      "  240    18.72713    18.74797\n",
      "  250    18.52541    18.54506\n",
      "  260    18.33510    18.35365\n",
      "  270    18.15542    18.17293\n",
      "  280    17.98563    18.00219\n",
      "  290    17.82510    17.84076\n",
      "  300    17.67323    17.68805\n",
      "  310    17.52948    17.54351\n",
      "  320    17.39335    17.40664\n",
      "  330    17.26438    17.27697\n",
      "  340    17.14215    17.15408\n",
      "  350    17.02625    17.03757\n",
      "  360    16.91633    16.92707\n",
      "  370    16.81204    16.82223\n",
      "  380    16.71305    16.72272\n",
      "  390    16.61907    16.62825\n",
      "  400    16.52981    16.53853\n",
      "  410    16.44502    16.45331\n",
      "  420    16.36444    16.37232\n",
      "  430    16.28785    16.29534\n",
      "  440    16.21503    16.22215\n",
      "  450    16.14577    16.15255\n",
      "  460    16.07989    16.08634\n",
      "  470    16.01721    16.02334\n",
      "  480    15.95755    15.96338\n",
      "  490    15.90076    15.90631\n",
      "  500    15.84668    15.85198\n",
      "  510    15.79519    15.80023\n",
      "  520    15.74614    15.75094\n",
      "  530    15.69941    15.70398\n",
      "  540    15.65488    15.65924\n",
      "  550    15.61245    15.61660\n",
      "  560    15.57200    15.57596\n",
      "  570    15.53344    15.53721\n",
      "  580    15.49667    15.50027\n",
      "  590    15.46160    15.46504\n",
      "  600    15.42816    15.43144\n",
      "  610    15.39626    15.39939\n",
      "  620    15.36583    15.36881\n",
      "  630    15.33679    15.33963\n",
      "  640    15.30908    15.31179\n",
      "  650    15.28263    15.28522\n",
      "  660    15.25739    15.25986\n",
      "  670    15.23329    15.23565\n",
      "  680    15.21029    15.21254\n",
      "  690    15.18832    15.19047\n",
      "  700    15.16735    15.16940\n",
      "  710    15.14731    15.14928\n",
      "  720    15.12818    15.13005\n",
      "  730    15.10990    15.11169\n",
      "  740    15.09243    15.09415\n",
      "  750    15.07575    15.07738\n",
      "  760    15.05980    15.06137\n",
      "  770    15.04456    15.04606\n",
      "  780    15.03000    15.03143\n",
      "  790    15.01607    15.01744\n",
      "  800    15.00276    15.00406\n",
      "  810    14.99002    14.99127\n",
      "  820    14.97785    14.97904\n",
      "  830    14.96620    14.96734\n",
      "  840    14.95506    14.95615\n",
      "  850    14.94439    14.94544\n",
      "  860    14.93419    14.93519\n",
      "  870    14.92442    14.92538\n",
      "  880    14.91506    14.91598\n",
      "  890    14.90611    14.90699\n",
      "  900    14.89753    14.89837\n",
      "  910    14.88931    14.89011\n",
      "  920    14.88143    14.88220\n",
      "  930    14.87387    14.87462\n",
      "  940    14.86663    14.86734\n",
      "  950    14.85968    14.86037\n",
      "  960    14.85302    14.85367\n",
      "  970    14.84662    14.84725\n",
      "  980    14.84048    14.84108\n",
      "  990    14.83458    14.83516\n",
      " 1000    14.82891    14.82946\n",
      " 1010    14.82345    14.82399\n",
      " 1020    14.81821    14.81873\n",
      " 1030    14.81316    14.81366\n",
      " 1040    14.80830    14.80878\n",
      " 1050    14.80362    14.80408\n",
      " 1060    14.79911    14.79956\n",
      " 1070    14.79476    14.79519\n",
      " 1080    14.79056    14.79097\n",
      " 1090    14.78650    14.78690\n",
      " 1100    14.78258    14.78297\n",
      " 1110    14.77879    14.77916\n",
      " 1120    14.77512    14.77548\n",
      " 1130    14.77156    14.77191\n",
      " 1140    14.76817    14.76848\n",
      " 1150    14.76611    14.76628\n",
      " 1160    14.76451    14.76467\n",
      " 1170    14.76294    14.76309\n",
      " 1180    14.76141    14.76156\n",
      " 1190    14.75991    14.76006\n",
      " 1200    14.75845    14.75860\n",
      " 1210    14.75702    14.75716\n",
      " 1220    14.75562    14.75576\n",
      " 1230    14.75426    14.75439\n",
      " 1240    14.75292    14.75305\n",
      " 1250    14.75161    14.75174\n",
      " 1260    14.75032    14.75045\n",
      " 1270    14.74906    14.74919\n",
      " 1280    14.74783    14.74795\n",
      " 1290    14.74662    14.74674\n",
      " 1300    14.74544    14.74556\n",
      " 1310    14.74428    14.74439\n",
      " 1320    14.74314    14.74325\n",
      " 1330    14.74202    14.74213\n",
      " 1340    14.74092    14.74103\n",
      " 1350    14.73984    14.73994\n",
      " 1360    14.73878    14.73888\n",
      " 1370    14.73773    14.73784\n",
      " 1380    14.73671    14.73681\n",
      " 1390    14.73570    14.73580\n",
      " 1400    14.73470    14.73480\n",
      " 1410    14.73372    14.73382\n",
      " 1420    14.73276    14.73286\n",
      " 1430    14.73181    14.73191\n",
      " 1440    14.73088    14.73097\n",
      " 1450    14.72995    14.73004\n",
      " 1460    14.72904    14.72913\n",
      " 1470    14.72814    14.72823\n",
      " 1480    14.72725    14.72734\n",
      " 1490    14.72637    14.72646\n",
      " 1500    14.72551    14.72560\n",
      " 1510    14.72493    14.72498\n",
      " 1520    14.72451    14.72455\n",
      " 1530    14.72409    14.72413\n",
      " 1540    14.72367    14.72372\n",
      " 1550    14.72327    14.72331\n",
      " 1560    14.72287    14.72291\n",
      " 1570    14.72247    14.72251\n",
      " 1580    14.72208    14.72212\n",
      " 1590    14.72170    14.72173\n",
      " 1600    14.72132    14.72135\n",
      " 1610    14.72094    14.72098\n",
      " 1620    14.72057    14.72061\n",
      " 1630    14.72021    14.72024\n",
      " 1640    14.71985    14.71988\n",
      " 1650    14.71949    14.71953\n",
      " 1660    14.71914    14.71918\n",
      " 1670    14.71880    14.71883\n",
      " 1680    14.71845    14.71849\n",
      " 1690    14.71812    14.71815\n",
      " 1700    14.71778    14.71782\n",
      " 1710    14.71745    14.71749\n",
      " 1720    14.71713    14.71716\n",
      " 1730    14.71681    14.71684\n",
      " 1740    14.71649    14.71652\n",
      " 1750    14.71617    14.71621\n",
      " 1760    14.71586    14.71589\n",
      " 1770    14.71556    14.71559\n",
      " 1780    14.71525    14.71528\n",
      " 1790    14.71495    14.71498\n",
      " 1800    14.71466    14.71469\n",
      " 1810    14.71436    14.71439\n",
      " 1820    14.71407    14.71410\n",
      " 1830    14.71378    14.71381\n",
      " 1840    14.71350    14.71353\n",
      " 1850    14.71324    14.71326\n",
      " 1860    14.71307    14.71309\n",
      " 1870    14.71292    14.71294\n",
      " 1880    14.71278    14.71279\n",
      " 1890    14.71263    14.71265\n",
      " 1900    14.71249    14.71250\n",
      " 1910    14.71235    14.71236\n",
      " 1920    14.71221    14.71222\n",
      " 1930    14.71207    14.71208\n",
      " 1940    14.71193    14.71195\n",
      " 1950    14.71180    14.71181\n",
      " 1960    14.71167    14.71168\n",
      " 1970    14.71154    14.71155\n",
      " 1980    14.71141    14.71142\n",
      " 1990    14.71128    14.71129\n",
      " 2000    14.71115    14.71117\n",
      " 2010    14.71103    14.71104\n",
      " 2020    14.71091    14.71092\n",
      " 2030    14.71079    14.71080\n",
      " 2040    14.71067    14.71068\n",
      " 2050    14.71055    14.71057\n",
      " 2060    14.71044    14.71045\n",
      " 2070    14.71032    14.71034\n",
      " 2080    14.71021    14.71022\n",
      " 2090    14.71010    14.71011\n",
      " 2100    14.70999    14.71000\n",
      " 2110    14.70988    14.70989\n",
      " 2120    14.70978    14.70979\n",
      " 2130    14.70967    14.70968\n",
      " 2140    14.70957    14.70958\n",
      " 2150    14.70947    14.70948\n",
      " 2160    14.70937    14.70938\n",
      " 2170    14.70927    14.70928\n",
      " 2180    14.70917    14.70918\n",
      " 2190    14.70908    14.70909\n",
      " 2200    14.70900    14.70900\n",
      " 2210    14.70894    14.70895\n",
      " 2220    14.70889    14.70889\n",
      " 2230    14.70883    14.70884\n",
      " 2240    14.70878    14.70879\n",
      " 2250    14.70873    14.70874\n",
      " 2260    14.70868    14.70869\n",
      " 2270    14.70863    14.70864\n",
      " 2280    14.70858    14.70859\n",
      " 2290    14.70854    14.70854\n",
      " 2300    14.70849    14.70849\n",
      " 2310    14.70844    14.70845\n",
      " 2320    14.70840    14.70840\n",
      " 2330    14.70835    14.70836\n",
      " 2340    14.70831    14.70831\n",
      " 2350    14.70826    14.70827\n",
      " 2360    14.70822    14.70823\n",
      " 2370    14.70818    14.70818\n",
      " 2380    14.70814    14.70814\n",
      " 2390    14.70810    14.70810\n",
      " 2400    14.70806    14.70806\n",
      " 2410    14.70802    14.70802\n",
      " 2420    14.70798    14.70798\n",
      " 2430    14.70794    14.70794\n",
      " 2440    14.70790    14.70791\n",
      " 2450    14.70786    14.70787\n",
      " 2460    14.70783    14.70783\n",
      " 2470    14.70779    14.70779\n",
      " 2480    14.70775    14.70776\n",
      " 2490    14.70772    14.70772\n",
      " 2500    14.70768    14.70769\n",
      "Time: 0.425883seconds. Iterations per second: 5872.5\n",
      "\n"
     ]
    },
    {
     "data": {
      "text/plain": [
       "0"
      ]
     },
     "execution_count": 9,
     "metadata": {},
     "output_type": "execute_result"
    }
   ],
   "source": [
    "# Create Ligand system topology, STEP 2\n",
    "# Babel_minimize: Structure energy minimization of a small molecule after being modified adding hydrogen atoms\n",
    "# Import module\n",
    "from biobb_chemistry.babelm.babel_minimize import babel_minimize\n",
    "\n",
    "# Create prop dict and inputs/outputs\n",
    "output_babel_min = ligandCode + '.H.min.mol2'                              \n",
    "prop = {\n",
    "    'method' : 'sd',\n",
    "    'criteria' : '1e-10',\n",
    "    'force_field' : 'GAFF'\n",
    "}\n",
    "\n",
    "# Create and launch bb\n",
    "babel_minimize(input_path = output_reduce_h,\n",
    "              output_path = output_babel_min,\n",
    "              properties  = prop)"
   ]
  },
  {
   "cell_type": "markdown",
   "metadata": {},
   "source": [
    "### Visualizing 3D structures\n",
    "Visualizing the small molecule generated **PDB structures** using **NGL**:  \n",
    "- **Original Ligand Structure** (Left)\n",
    "- **Ligand Structure with hydrogen atoms added** (with Reduce program) (Center)\n",
    "- **Ligand Structure with hydrogen atoms added** (with Reduce program), **energy minimized** (with Open Babel) (Right) "
   ]
  },
  {
   "cell_type": "code",
   "execution_count": 10,
   "metadata": {},
   "outputs": [
    {
     "data": {
      "application/vnd.jupyter.widget-view+json": {
       "model_id": "475ec09143af43539ff195ed1edeca2d",
       "version_major": 2,
       "version_minor": 0
      },
      "text/plain": [
       "HBox(children=(NGLWidget(), NGLWidget(), NGLWidget()))"
      ]
     },
     "metadata": {},
     "output_type": "display_data"
    }
   ],
   "source": [
    "# Show different structures generated (for comparison)\n",
    "\n",
    "view1 = nglview.show_structure_file(ligandFile)\n",
    "view1.add_representation(repr_type='ball+stick')\n",
    "view1._remote_call('setSize', target='Widget', args=['350px','400px'])\n",
    "view1.camera='orthographic'\n",
    "view1\n",
    "view2 = nglview.show_structure_file(output_reduce_h)\n",
    "view2.add_representation(repr_type='ball+stick')\n",
    "view2._remote_call('setSize', target='Widget', args=['350px','400px'])\n",
    "view2.camera='orthographic'\n",
    "view2\n",
    "view3 = nglview.show_structure_file(output_babel_min)\n",
    "view3.add_representation(repr_type='ball+stick')\n",
    "view3._remote_call('setSize', target='Widget', args=['350px','400px'])\n",
    "view3.camera='orthographic'\n",
    "view3\n",
    "ipywidgets.HBox([view1, view2, view3])"
   ]
  },
  {
   "cell_type": "markdown",
   "metadata": {},
   "source": [
    "<img src='images/ngl4-ngl5-ngl6.png' style='float: left;width:70%'></img>"
   ]
  },
  {
   "cell_type": "markdown",
   "metadata": {},
   "source": [
    "<a id=\"ligandTopologyStep3\"></a>\n",
    "### Step 3: Generate **ligand topology** (parameters).\n",
    "We use here ACPYPE tool (http://www.biomedcentral.com/1756-0500/5/367), a wrapper script around the ANTECHAMBER software (http://ambermd.org/) to generate topologies for chemical compounds. Topologies files to be generated so far: CNS/XPLOR, GROMACS, CHARMM and AMBER. Topologies generated by acpype/Antechamber are based on General Amber Force Field (GAFF) and should be used only with compatible force fields like AMBER and its variants."
   ]
  },
  {
   "cell_type": "code",
   "execution_count": 11,
   "metadata": {
    "scrolled": false
   },
   "outputs": [
    {
     "name": "stdout",
     "output_type": "stream",
     "text": [
      "2022-04-20 15:28:03,882 [MainThread  ] [INFO ]  Running acpype, this execution can take a while\n",
      "2022-04-20 15:28:03,883 [MainThread  ] [INFO ]  Not using any container\n",
      "2022-04-20 15:28:05,600 [MainThread  ] [INFO ]  acpype -i /home/lg/repos/javerianaMD/simulation/md-biobb/tutorial/notebooks/JZ4.H.min.mol2 -b JZ4_params.IOtwE2 -n 0\n",
      "\n",
      "2022-04-20 15:28:05,602 [MainThread  ] [INFO ]  Exit code 0\n",
      "\n",
      "2022-04-20 15:28:05,602 [MainThread  ] [INFO ]  ========================================================================================\n",
      "| ACPYPE: AnteChamber PYthon Parser interfacE v. 2019-11-07T23:16:00CET (c) 2022 AWSdS |\n",
      "========================================================================================\n",
      "==> ... charge set to 0\n",
      "==> Executing Antechamber...\n",
      "==> * Antechamber OK *\n",
      "==> * Parmchk OK *\n",
      "==> Executing Tleap...\n",
      "++++++++++start_quote+++++++++++++++++++++++++++++++++++++++++++++++++++++++++++\n",
      "Checking 'JZ4'....\n",
      "Checking parameters for unit 'JZ4'.\n",
      "Checking for bond parameters.\n",
      "Checking for angle parameters.\n",
      "Unit is OK.\n",
      "++++++++++end_quote+++++++++++++++++++++++++++++++++++++++++++++++++++++++++++++\n",
      "==> * Tleap OK *\n",
      "==> Removing temporary files...\n",
      "==> Writing NEW PDB file\n",
      "\n",
      "==> Writing CNS/XPLOR files\n",
      "\n",
      "==> Writing GROMACS files\n",
      "\n",
      "==> Writing GMX dihedrals for GMX 4.5 and higher.\n",
      "\n",
      "==> Writing CHARMM files\n",
      "\n",
      "==> Writing pickle file JZ4_params.IOtwE2.pkl\n",
      "Total time of execution: 2s\n",
      "\n",
      "2022-04-20 15:28:05,604 [MainThread  ] [INFO ]  File JZ4_params.itp succesfully created\n",
      "2022-04-20 15:28:05,606 [MainThread  ] [INFO ]  File JZ4_params.gro succesfully created\n",
      "2022-04-20 15:28:05,607 [MainThread  ] [INFO ]  File JZ4_params.top succesfully created\n",
      "2022-04-20 15:28:05,609 [MainThread  ] [INFO ]  Removed temporary folder: JZ4_params.IOtwE2.acpype\n"
     ]
    },
    {
     "data": {
      "text/plain": [
       "0"
      ]
     },
     "execution_count": 11,
     "metadata": {},
     "output_type": "execute_result"
    }
   ],
   "source": [
    "# Create Ligand system topology, STEP 3\n",
    "# Acpype_params_gmx: Generation of topologies for GROMACS with ACPype\n",
    "# Import module\n",
    "from biobb_chemistry.acpype.acpype_params_gmx import acpype_params_gmx\n",
    "\n",
    "# Create prop dict and inputs/outputs\n",
    "output_acpype_gro = ligandCode + '_params.gro'\n",
    "output_acpype_itp = ligandCode + '_params.itp'\n",
    "output_acpype_top = ligandCode + '_params.top'\n",
    "output_acpype     = ligandCode + '_params'\n",
    "prop = {\n",
    "    'basename' : output_acpype,\n",
    "    'charge' : mol_charge\n",
    "}\n",
    "\n",
    "# Create and launch bb\n",
    "acpype_params_gmx(input_path=output_babel_min, \n",
    "                output_path_gro=output_acpype_gro,\n",
    "                output_path_itp=output_acpype_itp,\n",
    "                output_path_top=output_acpype_top,\n",
    "                properties=prop)"
   ]
  },
  {
   "cell_type": "markdown",
   "metadata": {},
   "source": [
    "<a id=\"restraints\"></a>\n",
    "***\n",
    "## Preparing Ligand Restraints\n",
    "- In subsequent steps of the pipeline, such as the equilibration stages of the **protein-ligand complex** system, it is recommended to apply some **restraints** to the small molecule, to avoid a possible change in position due to protein repulsion. \n",
    "\n",
    "- **Position restraints** will be applied to the ligand, using a **force constant of 1000 KJ/mol\\*nm^2** on the three coordinates: x, y and z. In this steps the **restriction files** will be created and integrated in the **ligand topology**.\n",
    "- [Step 1](#restraintsStep1): Creating an index file with a new group including just the **small molecule heavy atoms**.\n",
    "- [Step 2](#restraintsStep2): Generating the **position restraints** file.\n",
    "***\n",
    "**Building Blocks** used:\n",
    " - [MakeNdx](https://biobb-md.readthedocs.io/en/latest/gromacs.html#module-gromacs.make_ndx) from **biobb_md.gromacs.make_ndx**:\n",
    "     * The GROMACS make_ndx module, generates an index file using the atoms of the selection.\n",
    "     \n",
    "     \n",
    " - [Genrestr](https://biobb-md.readthedocs.io/en/latest/gromacs.html#module-gromacs.genrestr) from **biobb_md.gromacs.genrestr**:\n",
    "     * Wrapper of the GROMACS genrestr module. The GROMACS genrestr module, produces an #include file for a topology containing a list of atom numbers and three force constants for the x-, y-, and z-direction based on the contents of the -f file. A single isotropic force constant may be given on the command line instead of three components.\n",
    "***"
   ]
  },
  {
   "cell_type": "markdown",
   "metadata": {},
   "source": [
    "<a id=\"restraintsStep1\"></a>\n",
    "### Step 1: Creating an index file for the small molecule heavy atoms"
   ]
  },
  {
   "cell_type": "code",
   "execution_count": 85,
   "metadata": {
    "scrolled": true
   },
   "outputs": [
    {
     "name": "stdout",
     "output_type": "stream",
     "text": [
      "2022-04-18 16:50:41,959 [MainThread  ] [INFO ]  GROMACS MakeNdx 20191 version detected\n",
      "2022-04-18 16:50:41,960 [MainThread  ] [INFO ]  Not using any container\n",
      "2022-04-18 16:50:41,985 [MainThread  ] [INFO ]  echo -e '0 & ! a H*\\nq' | gmx -nobackup -nocopyright make_ndx -f JZ4_params.gro -o JZ4_index.ndx\n",
      "\n",
      "2022-04-18 16:50:41,986 [MainThread  ] [INFO ]  Exit code 0\n",
      "\n",
      "2022-04-18 16:50:41,987 [MainThread  ] [INFO ]  Going to read 0 old index file(s)\n",
      "Analysing residue names:\n",
      "There are:     1      Other residues\n",
      "Analysing residues not classified as Protein/DNA/RNA/Water and splitting into groups...\n",
      "\n",
      "  0 System              :    22 atoms\n",
      "  1 Other               :    22 atoms\n",
      "  2 JZ4                 :    22 atoms\n",
      "\n",
      " nr : group      '!': not  'name' nr name   'splitch' nr    Enter: list groups\n",
      " 'a': atom       '&': and  'del' nr         'splitres' nr   'l': list residues\n",
      " 't': atom type  '|': or   'keep' nr        'splitat' nr    'h': help\n",
      " 'r': residue              'res' nr         'chain' char\n",
      " \"name\": group             'case': case sensitive           'q': save and quit\n",
      " 'ri': residue index\n",
      "\n",
      "> \n",
      "Copied index group 0 'System'\n",
      "Found 12 atoms with name H*\n",
      "Complemented group: 10 atoms\n",
      "Merged two groups with AND: 22 10 -> 10\n",
      "\n",
      "  3 System_&_!H*        :    10 atoms\n",
      "\n",
      "> \n",
      "\n",
      "2022-04-18 16:50:41,988 [MainThread  ] [INFO ]                       :-) GROMACS - gmx make_ndx, 2019.1 (-:\n",
      "\n",
      "Executable:   /opt/miniconda3/envs/biobb_env/bin/gmx\n",
      "Data prefix:  /opt/miniconda3/envs/biobb_env\n",
      "Working dir:  /home/lg/repos/javerianaMD/biobb_md/notebooks\n",
      "Command line:\n",
      "  gmx -nobackup -nocopyright make_ndx -f JZ4_params.gro -o JZ4_index.ndx\n",
      "\n",
      "\n",
      "Reading structure file\n",
      "\n",
      "GROMACS reminds you: \"I know poetry is not dead, nor genius lost; nor has Mammon gained power over either, to bind or slay; they will both assert their existence, their presence, their liberty and strength again one day.\" (Jane Eyre in Jane Eyre by Charlotte Bronte)\n",
      "\n",
      "\n",
      "2022-04-18 16:50:41,989 [MainThread  ] [INFO ]  Removed: []\n"
     ]
    },
    {
     "data": {
      "text/plain": [
       "0"
      ]
     },
     "execution_count": 85,
     "metadata": {},
     "output_type": "execute_result"
    }
   ],
   "source": [
    "# MakeNdx: Creating index file with a new group (small molecule heavy atoms)\n",
    "from biobb_md.gromacs.make_ndx import make_ndx\n",
    "\n",
    "# Create prop dict and inputs/outputs\n",
    "output_ligand_ndx = ligandCode + '_index.ndx'\n",
    "prop = {\n",
    "    'selection': \"0 & ! a H*\"\n",
    "}\n",
    "\n",
    "# Create and launch bb\n",
    "make_ndx(input_structure_path=output_acpype_gro,\n",
    "        output_ndx_path=output_ligand_ndx,\n",
    "        properties=prop)"
   ]
  },
  {
   "cell_type": "markdown",
   "metadata": {},
   "source": [
    "<a id=\"restraintsStep2\"></a>\n",
    "### Step 2: Generating the position restraints file"
   ]
  },
  {
   "cell_type": "code",
   "execution_count": 86,
   "metadata": {
    "scrolled": true
   },
   "outputs": [
    {
     "name": "stdout",
     "output_type": "stream",
     "text": [
      "2022-04-18 16:51:00,078 [MainThread  ] [INFO ]  GROMACS Genrestr 20191 version detected\n",
      "2022-04-18 16:51:00,079 [MainThread  ] [INFO ]  Not using any container\n",
      "2022-04-18 16:51:00,099 [MainThread  ] [INFO ]  echo \"System\" | gmx -nobackup -nocopyright genrestr -f JZ4_params.gro -o JZ4_posres.itp -fc 1000 1000 1000 -n JZ4_index.ndx\n",
      "\n",
      "2022-04-18 16:51:00,101 [MainThread  ] [INFO ]  Exit code 0\n",
      "\n",
      "2022-04-18 16:51:00,101 [MainThread  ] [INFO ]  Select group to position restrain\n",
      "Selected 0: 'System'\n",
      "\n",
      "2022-04-18 16:51:00,103 [MainThread  ] [INFO ]                       :-) GROMACS - gmx genrestr, 2019.1 (-:\n",
      "\n",
      "Executable:   /opt/miniconda3/envs/biobb_env/bin/gmx\n",
      "Data prefix:  /opt/miniconda3/envs/biobb_env\n",
      "Working dir:  /home/lg/repos/javerianaMD/biobb_md/notebooks\n",
      "Command line:\n",
      "  gmx -nobackup -nocopyright genrestr -f JZ4_params.gro -o JZ4_posres.itp -fc 1000 1000 1000 -n JZ4_index.ndx\n",
      "\n",
      "\n",
      "Reading structure file\n",
      "Group     0 (         System) has    22 elements\n",
      "Group     1 (          Other) has    22 elements\n",
      "Group     2 (            JZ4) has    22 elements\n",
      "Group     3 (   System_&_!H*) has    10 elements\n",
      "Select a group: \n",
      "GROMACS reminds you: \"I try to identify myself with the atoms... I ask what I would do If I were a carbon atom or a sodium atom.\" (Linus Pauling)\n",
      "\n",
      "\n",
      "2022-04-18 16:51:00,104 [MainThread  ] [INFO ]  Removed: []\n"
     ]
    },
    {
     "data": {
      "text/plain": [
       "0"
      ]
     },
     "execution_count": 86,
     "metadata": {},
     "output_type": "execute_result"
    }
   ],
   "source": [
    "# Genrestr: Generating the position restraints file\n",
    "from biobb_md.gromacs.genrestr import genrestr\n",
    "\n",
    "# Create prop dict and inputs/outputs\n",
    "output_restraints_top = ligandCode + '_posres.itp'\n",
    "prop = {\n",
    "    'force_constants': \"1000 1000 1000\",\n",
    "    'restrained_group': \"System\"\n",
    "}\n",
    "\n",
    "# Create and launch bb\n",
    "genrestr(input_structure_path=output_acpype_gro,\n",
    "         input_ndx_path=output_ligand_ndx,\n",
    "         output_itp_path=output_restraints_top,\n",
    "         properties=prop)"
   ]
  },
  {
   "cell_type": "markdown",
   "metadata": {},
   "source": [
    "<a id=\"complex\"></a>\n",
    "***\n",
    "## Create new protein-ligand complex structure file\n",
    "Building new **protein-ligand complex** PDB file with:\n",
    "- The new **protein system** with fixed problems from *Fix Protein Structure* step and hydrogens atoms added from *Create Protein System Topology* step.\n",
    "- The new **ligand system** with hydrogens atoms added from *Create Ligand System Topology* step. \n",
    "\n",
    "This new structure is needed for **GROMACS** as it is **force field-compliant**, it **has all the new hydrogen atoms**, and the **atom names are matching the newly generated protein and ligand topologies**.\n",
    "***\n",
    "**Building Blocks** used:\n",
    " - [GMXTrjConvStr](https://biobb-analysis.readthedocs.io/en/latest/gromacs.html#module-gromacs.gmx_trjconv_str) from **biobb_analysis.gromacs.gmx_trjconv_str**:\n",
    "     * Wrapper of the GROMACS trjconv module for converting between GROMACS compatible structure file formats and/or extracting a selection of atoms. GROMACS trjconv module can convert trajectory files in many ways\n",
    "***"
   ]
  },
  {
   "cell_type": "code",
   "execution_count": 87,
   "metadata": {},
   "outputs": [
    {
     "name": "stdout",
     "output_type": "stream",
     "text": [
      "3HTB\n",
      "JZ4\n",
      "3HTB_pdb2gmx.gro\n",
      "JZ4_params.gro\n",
      "3HTB_JZ4_H.pdb\n"
     ]
    }
   ],
   "source": [
    "print (pdbCode)\n",
    "print (ligandCode)\n",
    "print (output_pdb2gmx_gro)\n",
    "print (output_acpype_gro)\n",
    "print (complexFile_H)"
   ]
  },
  {
   "cell_type": "code",
   "execution_count": 89,
   "metadata": {},
   "outputs": [
    {
     "name": "stdout",
     "output_type": "stream",
     "text": [
      "2022-04-18 16:53:46,705 [MainThread  ] [INFO ]  Not using any container\n",
      "2022-04-18 16:53:46,745 [MainThread  ] [INFO ]  echo \"System\" | gmx trjconv -f /home/lg/repos/javerianaMD/biobb_md/notebooks/3HTB_pdb2gmx.gro -s /home/lg/repos/javerianaMD/biobb_md/notebooks/3HTB_pdb2gmx.gro -o 3HTB_complex_H.pdb\n",
      "\n",
      "2022-04-18 16:53:46,746 [MainThread  ] [INFO ]  Exit code 0\n",
      "\n",
      "2022-04-18 16:53:46,747 [MainThread  ] [INFO ]  Note that major changes are planned in future for trjconv, to improve usability and utility.Select group for output\n",
      "Selected 0: 'System'\n",
      "\n",
      "2022-04-18 16:53:46,748 [MainThread  ] [INFO ]                       :-) GROMACS - gmx trjconv, 2019.1 (-:\n",
      "\n",
      "                            GROMACS is written by:\n",
      "     Emile Apol      Rossen Apostolov      Paul Bauer     Herman J.C. Berendsen\n",
      "    Par Bjelkmar      Christian Blau   Viacheslav Bolnykh     Kevin Boyd    \n",
      " Aldert van Buuren   Rudi van Drunen     Anton Feenstra       Alan Gray     \n",
      "  Gerrit Groenhof     Anca Hamuraru    Vincent Hindriksen  M. Eric Irrgang  \n",
      "  Aleksei Iupinov   Christoph Junghans     Joe Jordan     Dimitrios Karkoulis\n",
      "    Peter Kasson        Jiri Kraus      Carsten Kutzner      Per Larsson    \n",
      "  Justin A. Lemkul    Viveca Lindahl    Magnus Lundborg     Erik Marklund   \n",
      "    Pascal Merz     Pieter Meulenhoff    Teemu Murtola       Szilard Pall   \n",
      "    Sander Pronk      Roland Schulz      Michael Shirts    Alexey Shvetsov  \n",
      "   Alfons Sijbers     Peter Tieleman      Jon Vincent      Teemu Virolainen \n",
      " Christian Wennberg    Maarten Wolf   \n",
      "                           and the project leaders:\n",
      "        Mark Abraham, Berk Hess, Erik Lindahl, and David van der Spoel\n",
      "\n",
      "Copyright (c) 1991-2000, University of Groningen, The Netherlands.\n",
      "Copyright (c) 2001-2018, The GROMACS development team at\n",
      "Uppsala University, Stockholm University and\n",
      "the Royal Institute of Technology, Sweden.\n",
      "check out http://www.gromacs.org for more information.\n",
      "\n",
      "GROMACS is free software; you can redistribute it and/or modify it\n",
      "under the terms of the GNU Lesser General Public License\n",
      "as published by the Free Software Foundation; either version 2.1\n",
      "of the License, or (at your option) any later version.\n",
      "\n",
      "GROMACS:      gmx trjconv, version 2019.1\n",
      "Executable:   /opt/miniconda3/envs/biobb_env/bin/gmx\n",
      "Data prefix:  /opt/miniconda3/envs/biobb_env\n",
      "Working dir:  /home/lg/repos/javerianaMD/biobb_md/notebooks\n",
      "Command line:\n",
      "  gmx trjconv -f /home/lg/repos/javerianaMD/biobb_md/notebooks/3HTB_pdb2gmx.gro -s /home/lg/repos/javerianaMD/biobb_md/notebooks/3HTB_pdb2gmx.gro -o 3HTB_complex_H.pdb\n",
      "\n",
      "Will write pdb: Protein data bank file\n",
      "Group     0 (         System) has  2614 elements\n",
      "Group     1 (        Protein) has  2614 elements\n",
      "Group     2 (      Protein-H) has  1301 elements\n",
      "Group     3 (        C-alpha) has   163 elements\n",
      "Group     4 (       Backbone) has   489 elements\n",
      "Group     5 (      MainChain) has   653 elements\n",
      "Group     6 (   MainChain+Cb) has   805 elements\n",
      "Group     7 (    MainChain+H) has   815 elements\n",
      "Group     8 (      SideChain) has  1799 elements\n",
      "Group     9 (    SideChain-H) has   648 elements\n",
      "Select a group: Reading frames from gro file 'GRowing Old MAkes el Chrono Sweat', 2614 atoms.\n",
      "Reading frame       0 time    0.000   \n",
      "Precision of /home/lg/repos/javerianaMD/biobb_md/notebooks/3HTB_pdb2gmx.gro is 0.001 (nm)\n",
      "Last frame          0 time    0.000   \n",
      "\n",
      "\n",
      "GROMACS reminds you: \"Memory is like an orgasm. It’s a lot better if you don’t have to fake it.\" (Seymour Cray, on virtual memory)\n",
      "\n",
      "\n",
      "2022-04-18 16:53:46,752 [MainThread  ] [INFO ]  Not using any container\n",
      "2022-04-18 16:53:46,769 [MainThread  ] [INFO ]  echo \"System\" | gmx trjconv -f /home/lg/repos/javerianaMD/biobb_md/notebooks/JZ4_params.gro -s /home/lg/repos/javerianaMD/biobb_md/notebooks/JZ4_params.gro -o JZ4_complex_H.pdb\n",
      "\n",
      "2022-04-18 16:53:46,770 [MainThread  ] [INFO ]  Exit code 0\n",
      "\n",
      "2022-04-18 16:53:46,771 [MainThread  ] [INFO ]  Note that major changes are planned in future for trjconv, to improve usability and utility.Select group for output\n",
      "Selected 0: 'System'\n",
      "\n",
      "2022-04-18 16:53:46,772 [MainThread  ] [INFO ]                       :-) GROMACS - gmx trjconv, 2019.1 (-:\n",
      "\n",
      "                            GROMACS is written by:\n",
      "     Emile Apol      Rossen Apostolov      Paul Bauer     Herman J.C. Berendsen\n",
      "    Par Bjelkmar      Christian Blau   Viacheslav Bolnykh     Kevin Boyd    \n",
      " Aldert van Buuren   Rudi van Drunen     Anton Feenstra       Alan Gray     \n",
      "  Gerrit Groenhof     Anca Hamuraru    Vincent Hindriksen  M. Eric Irrgang  \n",
      "  Aleksei Iupinov   Christoph Junghans     Joe Jordan     Dimitrios Karkoulis\n",
      "    Peter Kasson        Jiri Kraus      Carsten Kutzner      Per Larsson    \n",
      "  Justin A. Lemkul    Viveca Lindahl    Magnus Lundborg     Erik Marklund   \n",
      "    Pascal Merz     Pieter Meulenhoff    Teemu Murtola       Szilard Pall   \n",
      "    Sander Pronk      Roland Schulz      Michael Shirts    Alexey Shvetsov  \n",
      "   Alfons Sijbers     Peter Tieleman      Jon Vincent      Teemu Virolainen \n",
      " Christian Wennberg    Maarten Wolf   \n",
      "                           and the project leaders:\n",
      "        Mark Abraham, Berk Hess, Erik Lindahl, and David van der Spoel\n",
      "\n",
      "Copyright (c) 1991-2000, University of Groningen, The Netherlands.\n",
      "Copyright (c) 2001-2018, The GROMACS development team at\n",
      "Uppsala University, Stockholm University and\n",
      "the Royal Institute of Technology, Sweden.\n",
      "check out http://www.gromacs.org for more information.\n",
      "\n",
      "GROMACS is free software; you can redistribute it and/or modify it\n",
      "under the terms of the GNU Lesser General Public License\n",
      "as published by the Free Software Foundation; either version 2.1\n",
      "of the License, or (at your option) any later version.\n",
      "\n",
      "GROMACS:      gmx trjconv, version 2019.1\n",
      "Executable:   /opt/miniconda3/envs/biobb_env/bin/gmx\n",
      "Data prefix:  /opt/miniconda3/envs/biobb_env\n",
      "Working dir:  /home/lg/repos/javerianaMD/biobb_md/notebooks\n",
      "Command line:\n",
      "  gmx trjconv -f /home/lg/repos/javerianaMD/biobb_md/notebooks/JZ4_params.gro -s /home/lg/repos/javerianaMD/biobb_md/notebooks/JZ4_params.gro -o JZ4_complex_H.pdb\n",
      "\n",
      "Will write pdb: Protein data bank file\n",
      "Group     0 (         System) has    22 elements\n",
      "Group     1 (          Other) has    22 elements\n",
      "Group     2 (            JZ4) has    22 elements\n",
      "Select a group: Reading frames from gro file 'JZ4_params_GMX.gro created by acpype (v: 2019-11-07T23:16:00CET) on Mon Apr 18 16:50:26 2022', 22 atoms.\n",
      "Reading frame       0 time    0.000   \n",
      "Precision of /home/lg/repos/javerianaMD/biobb_md/notebooks/JZ4_params.gro is 0.001 (nm)\n",
      "\n",
      "Back Off! I just backed up JZ4_complex_H.pdb to ./#JZ4_complex_H.pdb.1#\n",
      "Last frame          0 time    0.000   \n",
      "\n",
      "\n",
      "GROMACS reminds you: \"It's easy to remember: a half a kT is equal to five fourths of a kJ/mol.\" (Anders Gabrielsson)\n",
      "\n",
      "\n",
      "2022-04-18 16:53:46,779 [MainThread  ] [INFO ]  File 3HTB_JZ4_complex_H.pdb created\n"
     ]
    },
    {
     "data": {
      "text/plain": [
       "0"
      ]
     },
     "execution_count": 89,
     "metadata": {},
     "output_type": "execute_result"
    }
   ],
   "source": [
    "# biobb analysis module\n",
    "from biobb_analysis.gromacs.gmx_trjconv_str import gmx_trjconv_str\n",
    "from biobb_structure_utils.utils.cat_pdb import cat_pdb\n",
    "\n",
    "# Convert gro (with hydrogens) to pdb (PROTEIN)\n",
    "proteinFile_H = pdbCode + '_complex_H.pdb'\n",
    "prop = {\n",
    "    'selection' : 'System'\n",
    "}\n",
    "\n",
    "# Create and launch bb\n",
    "gmx_trjconv_str(input_structure_path=output_pdb2gmx_gro,\n",
    "              input_top_path=output_pdb2gmx_gro,\n",
    "              output_str_path=proteinFile_H, \n",
    "              properties=prop)\n",
    "\n",
    "# Convert gro (with hydrogens) to pdb (LIGAND)\n",
    "ligandFile_H = ligandCode + '_complex_H.pdb'\n",
    "prop = {\n",
    "    'selection' : 'System'\n",
    "}\n",
    "\n",
    "# Create and launch bb\n",
    "gmx_trjconv_str(input_structure_path=output_acpype_gro,\n",
    "              input_top_path=output_acpype_gro,\n",
    "              output_str_path=ligandFile_H, \n",
    "              properties=prop)\n",
    "\n",
    "\n",
    "# Concatenating both PDB files: Protein + Ligand\n",
    "complexFile_H = pdbCode + '_' + ligandCode + '_complex_H.pdb'\n",
    "\n",
    "# Create and launch bb\n",
    "cat_pdb(input_structure1=proteinFile_H,\n",
    "        input_structure2=ligandFile_H,\n",
    "        output_structure_path=complexFile_H)"
   ]
  },
  {
   "cell_type": "markdown",
   "metadata": {},
   "source": [
    "<a id=\"complextop\"></a>\n",
    "***\n",
    "## Create new protein-ligand complex topology file\n",
    "Building new **protein-ligand complex** GROMACS topology file with:\n",
    "- The new **protein system** topology generated from *Create Protein System Topology* step.\n",
    "- The new **ligand system** topology generated from *Create Ligand System Topology* step. \n",
    "\n",
    "NOTE: From this point on, the **protein-ligand complex structure and topology** generated can be used in a regular MD setup.\n",
    "***\n",
    "**Building Blocks** used:\n",
    " - [AppendLigand](https://biobb-md.readthedocs.io/en/latest/modules.html) from **biobb_md.gromacs_extra.append_ligand**  (NOTE: link should be updated with the documentation):\n",
    "     * This class takes a ligand ITP file and inserts it in a topology.\n",
    "This module automatizes the process of inserting a ligand ITP file in a GROMACS topology.\n",
    "***"
   ]
  },
  {
   "cell_type": "code",
   "execution_count": 90,
   "metadata": {
    "scrolled": false
   },
   "outputs": [
    {
     "name": "stdout",
     "output_type": "stream",
     "text": [
      "2022-04-18 17:07:24,718 [MainThread  ] [INFO ]  Extracting: /home/lg/repos/javerianaMD/biobb_md/notebooks/3HTB_pdb2gmx_top.zip\n",
      "2022-04-18 17:07:24,719 [MainThread  ] [INFO ]  to:\n",
      "2022-04-18 17:07:24,720 [MainThread  ] [INFO ]  ['f3db7596-a730-426d-8c73-c1998e993eb0/p2g.top', 'f3db7596-a730-426d-8c73-c1998e993eb0/posre.itp']\n",
      "2022-04-18 17:07:24,721 [MainThread  ] [INFO ]  Unzipping: \n",
      "2022-04-18 17:07:24,722 [MainThread  ] [INFO ]  3HTB_pdb2gmx_top.zip\n",
      "2022-04-18 17:07:24,723 [MainThread  ] [INFO ]  To: \n",
      "2022-04-18 17:07:24,725 [MainThread  ] [INFO ]  f3db7596-a730-426d-8c73-c1998e993eb0/p2g.top\n",
      "2022-04-18 17:07:24,726 [MainThread  ] [INFO ]  f3db7596-a730-426d-8c73-c1998e993eb0/posre.itp\n",
      "2022-04-18 17:07:24,758 [MainThread  ] [INFO ]  Compressing topology to: 3HTB_JZ4_complex.top.zip\n",
      "2022-04-18 17:07:24,759 [MainThread  ] [INFO ]  Ignored file f3db7596-a730-426d-8c73-c1998e993eb0/amber99sb-ildn.ff/forcefield.itp\n",
      "2022-04-18 17:07:24,772 [MainThread  ] [INFO ]  Ignored file f3db7596-a730-426d-8c73-c1998e993eb0/amber99sb-ildn.ff/spce.itp\n",
      "2022-04-18 17:07:24,773 [MainThread  ] [INFO ]  Ignored file f3db7596-a730-426d-8c73-c1998e993eb0/amber99sb-ildn.ff/ions.itp\n",
      "2022-04-18 17:07:24,777 [MainThread  ] [INFO ]  Adding:\n",
      "2022-04-18 17:07:24,778 [MainThread  ] [INFO ]  ['f3db7596-a730-426d-8c73-c1998e993eb0/JZ4_params.itp', 'f3db7596-a730-426d-8c73-c1998e993eb0/JZ4_posres.itp', 'f3db7596-a730-426d-8c73-c1998e993eb0/ligand.top', 'f3db7596-a730-426d-8c73-c1998e993eb0/posre.itp']\n",
      "2022-04-18 17:07:24,779 [MainThread  ] [INFO ]  to: /home/lg/repos/javerianaMD/biobb_md/notebooks/3HTB_JZ4_complex.top.zip\n",
      "2022-04-18 17:07:24,780 [MainThread  ] [INFO ]  Removed: ['f3db7596-a730-426d-8c73-c1998e993eb0']\n"
     ]
    },
    {
     "data": {
      "text/plain": [
       "0"
      ]
     },
     "execution_count": 90,
     "metadata": {},
     "output_type": "execute_result"
    }
   ],
   "source": [
    "# AppendLigand: Append a ligand to a GROMACS topology\n",
    "# Import module\n",
    "from biobb_md.gromacs_extra.append_ligand import append_ligand\n",
    "\n",
    "# Create prop dict and inputs/outputs\n",
    "output_complex_top = pdbCode + '_' + ligandCode + '_complex.top.zip'\n",
    "\n",
    "posresifdef = \"POSRES_\"+ligandCode.upper()\n",
    "prop = {\n",
    "    'posres_name': posresifdef\n",
    "}\n",
    "\n",
    "# Create and launch bb\n",
    "append_ligand(input_top_zip_path=output_pdb2gmx_top_zip,\n",
    "             input_posres_itp_path=output_restraints_top,\n",
    "             input_itp_path=output_acpype_itp, \n",
    "             output_top_zip_path=output_complex_top,\n",
    "             properties=prop)"
   ]
  },
  {
   "cell_type": "markdown",
   "metadata": {},
   "source": [
    "<a id=\"box\"></a>\n",
    "***\n",
    "## Create solvent box\n",
    "Define the unit cell for the **protein-ligand complex** to fill it with water molecules.<br>\n",
    "**Truncated octahedron** box is used for the unit cell. This box type is the one which best reflects the geometry of the solute/protein, in this case a **globular protein**, as it approximates a sphere. It is also convenient for the computational point of view, as it accumulates **less water molecules at the corners**, reducing the final number of water molecules in the system and making the simulation run faster.<br> A **protein to box** distance of **0.8 nm** is used, and the protein is **centered in the box**.  \n",
    "\n",
    "***\n",
    "**Building Blocks** used:\n",
    " - [Editconf](https://biobb-md.readthedocs.io/en/latest/gromacs.html#module-gromacs.editconf) from **biobb_md.gromacs.editconf**:\n",
    "     * The GROMACS solvate module generates a box around the selected structure.\n",
    "***"
   ]
  },
  {
   "cell_type": "code",
   "execution_count": 91,
   "metadata": {
    "scrolled": true
   },
   "outputs": [
    {
     "name": "stdout",
     "output_type": "stream",
     "text": [
      "2022-04-18 17:18:48,544 [MainThread  ] [INFO ]  GROMACS Editconf 20191 version detected\n",
      "2022-04-18 17:18:48,546 [MainThread  ] [INFO ]  Centering molecule in the box.\n",
      "2022-04-18 17:18:48,549 [MainThread  ] [INFO ]  Distance of the box to molecule:   0.80\n",
      "2022-04-18 17:18:48,550 [MainThread  ] [INFO ]  Box type: octahedron\n",
      "2022-04-18 17:18:48,551 [MainThread  ] [INFO ]  Not using any container\n",
      "2022-04-18 17:18:48,607 [MainThread  ] [INFO ]  gmx -nobackup -nocopyright editconf -f 3HTB_JZ4_complex_H.pdb -o 3HTB_JZ4_complex_editconf.gro -d 0.8 -bt octahedron -c\n",
      "\n",
      "2022-04-18 17:18:48,609 [MainThread  ] [INFO ]  Exit code 0\n",
      "\n",
      "2022-04-18 17:18:48,609 [MainThread  ] [INFO ]  Note that major changes are planned in future for editconf, to improve usability and utility.Read 2636 atoms\n",
      "Volume: 1322.64 nm^3, corresponds to roughly 595100 electrons\n",
      "No velocities found\n",
      "    system size :  4.069  4.192  5.073 (nm)\n",
      "    diameter    :  5.849               (nm)\n",
      "    center      :  2.241 -1.669 -0.935 (nm)\n",
      "    box vectors :  8.398 10.808 14.572 (nm)\n",
      "    box angles  :  90.00  90.00  90.00 (degrees)\n",
      "    box volume  :1322.64               (nm^3)\n",
      "    shift       :  1.483  6.937  3.976 (nm)\n",
      "new center      :  3.725  5.267  3.041 (nm)\n",
      "new box vectors :  7.449  7.449  7.449 (nm)\n",
      "new box angles  :  70.53 109.47  70.53 (degrees)\n",
      "new box volume  : 318.21               (nm^3)\n",
      "\n",
      "2022-04-18 17:18:48,610 [MainThread  ] [INFO ]                       :-) GROMACS - gmx editconf, 2019.1 (-:\n",
      "\n",
      "Executable:   /opt/miniconda3/envs/biobb_env/bin/gmx\n",
      "Data prefix:  /opt/miniconda3/envs/biobb_env\n",
      "Working dir:  /home/lg/repos/javerianaMD/biobb_md/notebooks\n",
      "Command line:\n",
      "  gmx -nobackup -nocopyright editconf -f 3HTB_JZ4_complex_H.pdb -o 3HTB_JZ4_complex_editconf.gro -d 0.8 -bt octahedron -c\n",
      "\n",
      "\n",
      "GROMACS reminds you: \"When I asked a younger colleague at the university how he had been able to change his research field several times within a decade or so, he answered: \"It's just a question of new software\"\" (Paul Verhaeghe)\n",
      "\n",
      "\n",
      "2022-04-18 17:18:48,612 [MainThread  ] [INFO ]  Removed: []\n"
     ]
    },
    {
     "data": {
      "text/plain": [
       "0"
      ]
     },
     "execution_count": 91,
     "metadata": {},
     "output_type": "execute_result"
    }
   ],
   "source": [
    "# Editconf: Create solvent box\n",
    "# Import module\n",
    "from biobb_md.gromacs.editconf import editconf\n",
    "\n",
    "# Create prop dict and inputs/outputs\n",
    "output_editconf_gro = pdbCode + '_'+ ligandCode + '_complex_editconf.gro'\n",
    "\n",
    "prop = {\n",
    "    'box_type': 'octahedron',\n",
    "    'distance_to_molecule': 0.8\n",
    "}\n",
    "\n",
    "# Create and launch bb\n",
    "editconf(input_gro_path=complexFile_H, \n",
    "         output_gro_path=output_editconf_gro,\n",
    "         properties=prop)"
   ]
  },
  {
   "cell_type": "markdown",
   "metadata": {},
   "source": [
    "<a id=\"water\"></a>\n",
    "***\n",
    "## Fill the box with water molecules\n",
    "Fill the unit cell for the **protein-ligand complex** with water molecules.<br>\n",
    "The solvent type used is the default **Simple Point Charge water (SPC)**, a generic equilibrated 3-point solvent model. \n",
    "\n",
    "***\n",
    "**Building Blocks** used:\n",
    " - [Solvate](https://biobb-md.readthedocs.io/en/latest/gromacs.html#module-gromacs.solvate) from **biobb_md.gromacs.solvate**:\n",
    "     * The GROMACS solvate module, generates a box of solvent around the selected structure.\n",
    "***"
   ]
  },
  {
   "cell_type": "code",
   "execution_count": 93,
   "metadata": {
    "scrolled": true
   },
   "outputs": [
    {
     "name": "stdout",
     "output_type": "stream",
     "text": [
      "2022-04-18 21:11:22,736 [MainThread  ] [INFO ]  GROMACS Solvate 20191 version detected\n",
      "2022-04-18 21:11:22,742 [MainThread  ] [INFO ]  Extracting: /home/lg/repos/javerianaMD/biobb_md/notebooks/3HTB_JZ4_complex.top.zip\n",
      "2022-04-18 21:11:22,743 [MainThread  ] [INFO ]  to:\n",
      "2022-04-18 21:11:22,746 [MainThread  ] [INFO ]  ['42bca799-53f7-416a-89e7-fdaf24dd3b65/JZ4_params.itp', '42bca799-53f7-416a-89e7-fdaf24dd3b65/JZ4_posres.itp', '42bca799-53f7-416a-89e7-fdaf24dd3b65/ligand.top', '42bca799-53f7-416a-89e7-fdaf24dd3b65/posre.itp']\n",
      "2022-04-18 21:11:22,748 [MainThread  ] [INFO ]  Unzipping: \n",
      "2022-04-18 21:11:22,750 [MainThread  ] [INFO ]  3HTB_JZ4_complex.top.zip\n",
      "2022-04-18 21:11:22,751 [MainThread  ] [INFO ]  To: \n",
      "2022-04-18 21:11:22,752 [MainThread  ] [INFO ]  42bca799-53f7-416a-89e7-fdaf24dd3b65/JZ4_params.itp\n",
      "2022-04-18 21:11:22,753 [MainThread  ] [INFO ]  42bca799-53f7-416a-89e7-fdaf24dd3b65/JZ4_posres.itp\n",
      "2022-04-18 21:11:22,755 [MainThread  ] [INFO ]  42bca799-53f7-416a-89e7-fdaf24dd3b65/ligand.top\n",
      "2022-04-18 21:11:22,756 [MainThread  ] [INFO ]  42bca799-53f7-416a-89e7-fdaf24dd3b65/posre.itp\n",
      "2022-04-18 21:11:22,757 [MainThread  ] [INFO ]  Not using any container\n",
      "2022-04-18 21:11:23,168 [MainThread  ] [INFO ]  gmx -nobackup -nocopyright solvate -cp 3HTB_JZ4_complex_editconf.gro -cs spc216.gro -o 3HTB_JZ4_solvate.gro -p 42bca799-53f7-416a-89e7-fdaf24dd3b65/ligand.top\n",
      "\n",
      "2022-04-18 21:11:23,170 [MainThread  ] [INFO ]  Exit code 0\n",
      "\n",
      "2022-04-18 21:11:23,170 [MainThread  ] [INFO ]  \n",
      "WARNING: Masses and atomic (Van der Waals) radii will be guessed\n",
      "         based on residue and atom names, since they could not be\n",
      "         definitively assigned from the information in your input\n",
      "         files. These guessed numbers might deviate from the mass\n",
      "         and radius of the atom type. Please check the output\n",
      "         files if necessary.\n",
      "\n",
      "NOTE: From version 5.0 gmx solvate uses the Van der Waals radii\n",
      "from the source below. This means the results may be different\n",
      "compared to previous GROMACS versions.\n",
      "\n",
      "++++ PLEASE READ AND CITE THE FOLLOWING REFERENCE ++++\n",
      "A. Bondi\n",
      "van der Waals Volumes and Radii\n",
      "J. Phys. Chem. 68 (1964) pp. 441-451\n",
      "-------- -------- --- Thank You --- -------- --------\n",
      "\n",
      "Adding line for 9531 solvent molecules with resname (SOL) to topology file (42bca799-53f7-416a-89e7-fdaf24dd3b65/ligand.top)\n",
      "\n",
      "2022-04-18 21:11:23,171 [MainThread  ] [INFO ]                       :-) GROMACS - gmx solvate, 2019.1 (-:\n",
      "\n",
      "Executable:   /opt/miniconda3/envs/biobb_env/bin/gmx\n",
      "Data prefix:  /opt/miniconda3/envs/biobb_env\n",
      "Working dir:  /home/lg/repos/javerianaMD/biobb_md/notebooks\n",
      "Command line:\n",
      "  gmx -nobackup -nocopyright solvate -cp 3HTB_JZ4_complex_editconf.gro -cs spc216.gro -o 3HTB_JZ4_solvate.gro -p 42bca799-53f7-416a-89e7-fdaf24dd3b65/ligand.top\n",
      "\n",
      "Reading solute configuration\n",
      "Reading solvent configuration\n",
      "\n",
      "Initialising inter-atomic distances...\n",
      "Generating solvent configuration\n",
      "Will generate new solvent configuration of 5x4x4 boxes\n",
      "Solvent box contains 36060 atoms in 12020 residues\n",
      "Removed 5094 solvent atoms due to solvent-solvent overlap\n",
      "Removed 2373 solvent atoms due to solute-solvent overlap\n",
      "Sorting configuration\n",
      "Found 1 molecule type:\n",
      "    SOL (   3 atoms):  9531 residues\n",
      "Generated solvent containing 28593 atoms in 9531 residues\n",
      "Writing generated configuration to 3HTB_JZ4_solvate.gro\n",
      "\n",
      "Output configuration contains 31229 atoms in 9695 residues\n",
      "Volume                 :     318.205 (nm^3)\n",
      "Density                :     1000.12 (g/l)\n",
      "Number of solvent molecules:   9531   \n",
      "\n",
      "Processing topology\n",
      "\n",
      "GROMACS reminds you: \"Is That a Real Poncho ?\" (F. Zappa)\n",
      "\n",
      "\n",
      "2022-04-18 21:11:23,172 [MainThread  ] [INFO ]  Compressing topology to: 3HTB_JZ4_solvate_top.zip\n",
      "2022-04-18 21:11:23,173 [MainThread  ] [INFO ]  Ignored file 42bca799-53f7-416a-89e7-fdaf24dd3b65/amber99sb-ildn.ff/forcefield.itp\n",
      "2022-04-18 21:11:23,187 [MainThread  ] [INFO ]  Ignored file 42bca799-53f7-416a-89e7-fdaf24dd3b65/amber99sb-ildn.ff/spce.itp\n",
      "2022-04-18 21:11:23,187 [MainThread  ] [INFO ]  Ignored file 42bca799-53f7-416a-89e7-fdaf24dd3b65/amber99sb-ildn.ff/ions.itp\n",
      "2022-04-18 21:11:23,192 [MainThread  ] [INFO ]  Adding:\n",
      "2022-04-18 21:11:23,192 [MainThread  ] [INFO ]  ['42bca799-53f7-416a-89e7-fdaf24dd3b65/JZ4_params.itp', '42bca799-53f7-416a-89e7-fdaf24dd3b65/JZ4_posres.itp', '42bca799-53f7-416a-89e7-fdaf24dd3b65/ligand.top', '42bca799-53f7-416a-89e7-fdaf24dd3b65/posre.itp']\n",
      "2022-04-18 21:11:23,194 [MainThread  ] [INFO ]  to: /home/lg/repos/javerianaMD/biobb_md/notebooks/3HTB_JZ4_solvate_top.zip\n",
      "2022-04-18 21:11:23,197 [MainThread  ] [INFO ]  Removed: ['42bca799-53f7-416a-89e7-fdaf24dd3b65']\n"
     ]
    },
    {
     "data": {
      "text/plain": [
       "0"
      ]
     },
     "execution_count": 93,
     "metadata": {},
     "output_type": "execute_result"
    }
   ],
   "source": [
    "# Solvate: Fill the box with water molecules\n",
    "from biobb_md.gromacs.solvate import solvate\n",
    "\n",
    "# Create prop dict and inputs/outputs\n",
    "output_solvate_gro     = pdbCode + '_' + ligandCode + '_solvate.gro'\n",
    "output_solvate_top_zip = pdbCode + '_' + ligandCode + '_solvate_top.zip'\n",
    "\n",
    "# Create and launch bb\n",
    "solvate(input_solute_gro_path=output_editconf_gro,\n",
    "        output_gro_path=output_solvate_gro,\n",
    "        input_top_zip_path=output_complex_top,\n",
    "        output_top_zip_path=output_solvate_top_zip)"
   ]
  },
  {
   "cell_type": "markdown",
   "metadata": {},
   "source": [
    "### Visualizing 3D structure\n",
    "Visualizing the **protein-ligand complex** with the newly added **solvent box** using **NGL**<br>\n",
    "Note the **octahedral box** filled with **water molecules** surrounding the **protein structure**, which is **centered** right in the middle of the box."
   ]
  },
  {
   "cell_type": "code",
   "execution_count": 94,
   "metadata": {
    "scrolled": true
   },
   "outputs": [
    {
     "data": {
      "application/vnd.jupyter.widget-view+json": {
       "model_id": "8ddceb0628854ca08b2b9b6d95cd6cd8",
       "version_major": 2,
       "version_minor": 0
      },
      "text/plain": [
       "NGLWidget()"
      ]
     },
     "metadata": {},
     "output_type": "display_data"
    }
   ],
   "source": [
    "#Show protein\n",
    "view = nglview.show_structure_file(output_solvate_gro)\n",
    "view.clear_representations()\n",
    "view.add_representation(repr_type='cartoon', selection='protein', color='sstruc')\n",
    "view.add_representation(repr_type='licorice', radius='.5', selection=ligandCode)\n",
    "view.add_representation(repr_type='line', linewidth='1', selection='SOL', opacity='.3')\n",
    "view._remote_call('setSize', target='Widget', args=['','600px'])\n",
    "view.camera='orthographic'\n",
    "view"
   ]
  },
  {
   "cell_type": "markdown",
   "metadata": {},
   "source": [
    "<img src='images/ngl7.png' width=\"50%\" height=\"50%\"></img>"
   ]
  },
  {
   "cell_type": "markdown",
   "metadata": {},
   "source": [
    "<a id=\"ions\"></a>\n",
    "***\n",
    "## Adding ions\n",
    "Add ions to neutralize the **protein-ligand complex** and reach a desired ionic concentration.\n",
    "- [Step 1](#ionsStep1): Creating portable binary run file for ion generation\n",
    "- [Step 2](#ionsStep2): Adding ions to **neutralize** the system and reach a **0.05 molar ionic concentration**\n",
    "***\n",
    "**Building Blocks** used:\n",
    " - [Grompp](https://biobb-md.readthedocs.io/en/latest/gromacs.html#module-gromacs.grompp) from **biobb_md.gromacs.grompp**:\n",
    "     * The GROMACS preprocessor module needs to be fed with the input system and the dynamics parameters to create a portable binary run input file TPR.\n",
    "     \n",
    "     \n",
    " - [Genion](https://biobb-md.readthedocs.io/en/latest/gromacs.html#module-gromacs.genion) from **biobb_md.gromacs.genion**:\n",
    "     * The GROMACS genion module randomly replaces solvent molecules with monoatomic ions. The group of solvent molecules should be continuous and all molecules should have the same number of atoms.\n",
    "***"
   ]
  },
  {
   "cell_type": "markdown",
   "metadata": {},
   "source": [
    "<a id=\"ionsStep1\"></a>\n",
    "### Step 1: Creating portable binary run file for ion generation"
   ]
  },
  {
   "cell_type": "code",
   "execution_count": 95,
   "metadata": {
    "scrolled": true
   },
   "outputs": [
    {
     "name": "stdout",
     "output_type": "stream",
     "text": [
      "2022-04-18 21:14:55,678 [MainThread  ] [INFO ]  GROMACS Grompp 20191 version detected\n",
      "2022-04-18 21:14:55,685 [MainThread  ] [INFO ]  Extracting: /home/lg/repos/javerianaMD/biobb_md/notebooks/3HTB_JZ4_solvate_top.zip\n",
      "2022-04-18 21:14:55,686 [MainThread  ] [INFO ]  to:\n",
      "2022-04-18 21:14:55,687 [MainThread  ] [INFO ]  ['f611baa5-511e-4fa6-a452-c30c626df993/JZ4_params.itp', 'f611baa5-511e-4fa6-a452-c30c626df993/JZ4_posres.itp', 'f611baa5-511e-4fa6-a452-c30c626df993/ligand.top', 'f611baa5-511e-4fa6-a452-c30c626df993/posre.itp']\n",
      "2022-04-18 21:14:55,692 [MainThread  ] [INFO ]  Unzipping: \n",
      "2022-04-18 21:14:55,693 [MainThread  ] [INFO ]  3HTB_JZ4_solvate_top.zip\n",
      "2022-04-18 21:14:55,694 [MainThread  ] [INFO ]  To: \n",
      "2022-04-18 21:14:55,695 [MainThread  ] [INFO ]  f611baa5-511e-4fa6-a452-c30c626df993/JZ4_params.itp\n",
      "2022-04-18 21:14:55,697 [MainThread  ] [INFO ]  f611baa5-511e-4fa6-a452-c30c626df993/JZ4_posres.itp\n",
      "2022-04-18 21:14:55,698 [MainThread  ] [INFO ]  f611baa5-511e-4fa6-a452-c30c626df993/ligand.top\n",
      "2022-04-18 21:14:55,699 [MainThread  ] [INFO ]  f611baa5-511e-4fa6-a452-c30c626df993/posre.itp\n",
      "2022-04-18 21:14:55,701 [MainThread  ] [INFO ]  Not using any container\n",
      "2022-04-18 21:14:56,001 [MainThread  ] [INFO ]  gmx -nobackup -nocopyright grompp -f 4486e05e-2b31-430c-96ed-8d146a25e3a5/grompp.mdp -c 3HTB_JZ4_solvate.gro -r 3HTB_JZ4_solvate.gro -p f611baa5-511e-4fa6-a452-c30c626df993/ligand.top -o 3HTB_JZ4_complex_gppion.tpr -po mdout.mdp -maxwarn 1\n",
      "\n",
      "2022-04-18 21:14:56,002 [MainThread  ] [INFO ]  Exit code 0\n",
      "\n",
      "2022-04-18 21:14:56,002 [MainThread  ] [INFO ]  \n",
      "++++ PLEASE READ AND CITE THE FOLLOWING REFERENCE ++++\n",
      "J. S. Hub, B. L. de Groot, H. Grubmueller, G. Groenhof\n",
      "Quantifying Artifacts in Ewald Simulations of Inhomogeneous Systems with a Net\n",
      "Charge\n",
      "J. Chem. Theory Comput. 10 (2014) pp. 381-393\n",
      "-------- -------- --- Thank You --- -------- --------\n",
      "\n",
      "Analysing residue names:\n",
      "There are:   163    Protein residues\n",
      "There are:     1      Other residues\n",
      "There are:  9531      Water residues\n",
      "Analysing Protein...\n",
      "Analysing residues not classified as Protein/DNA/RNA/Water and splitting into groups...\n",
      "Calculating fourier grid dimensions for X Y Z\n",
      "Using a fourier grid of 64x64x64, spacing 0.116 0.116 0.116\n",
      "This run will generate roughly 2 Mb of data\n",
      "\n",
      "2022-04-18 21:14:56,003 [MainThread  ] [INFO ]                        :-) GROMACS - gmx grompp, 2019.1 (-:\n",
      "\n",
      "Executable:   /opt/miniconda3/envs/biobb_env/bin/gmx\n",
      "Data prefix:  /opt/miniconda3/envs/biobb_env\n",
      "Working dir:  /home/lg/repos/javerianaMD/biobb_md/notebooks\n",
      "Command line:\n",
      "  gmx -nobackup -nocopyright grompp -f 4486e05e-2b31-430c-96ed-8d146a25e3a5/grompp.mdp -c 3HTB_JZ4_solvate.gro -r 3HTB_JZ4_solvate.gro -p f611baa5-511e-4fa6-a452-c30c626df993/ligand.top -o 3HTB_JZ4_complex_gppion.tpr -po mdout.mdp -maxwarn 1\n",
      "\n",
      "Setting the LD random seed to -295557471\n",
      "Generated 2556 of the 2556 non-bonded parameter combinations\n",
      "Generating 1-4 interactions: fudge = 0.5\n",
      "Generated 2556 of the 2556 1-4 parameter combinations\n",
      "Excluding 3 bonded neighbours molecule type 'Protein_chain_A'\n",
      "Excluding 3 bonded neighbours molecule type 'JZ4_params'\n",
      "Excluding 2 bonded neighbours molecule type 'SOL'\n",
      "\n",
      "NOTE 1 [file ligand.top, line 24863]:\n",
      "  System has non-zero total charge: 5.999999\n",
      "  Total charge should normally be an integer. See\n",
      "  http://www.gromacs.org/Documentation/Floating_Point_Arithmetic\n",
      "  for discussion on how close it should be to an integer.\n",
      "  \n",
      "\n",
      "\n",
      "\n",
      "WARNING 1 [file ligand.top, line 24863]:\n",
      "  You are using Ewald electrostatics in a system with net charge. This can\n",
      "  lead to severe artifacts, such as ions moving into regions with low\n",
      "  dielectric, due to the uniform background charge. We suggest to\n",
      "  neutralize your system with counter ions, possibly in combination with a\n",
      "  physiological salt concentration.\n",
      "\n",
      "Removing all charge groups because cutoff-scheme=Verlet\n",
      "Number of degrees of freedom in T-Coupling group rest is 65091.00\n",
      "Estimate for the relative computational load of the PME mesh part: 0.18\n",
      "\n",
      "There was 1 note\n",
      "\n",
      "There was 1 warning\n",
      "\n",
      "GROMACS reminds you: \"Physics isn't a religion. If it were, we'd have a much easier time raising money.\" (Leon Lederman)\n",
      "\n",
      "\n",
      "2022-04-18 21:14:56,005 [MainThread  ] [INFO ]  Removed: ['mdout.mdp', 'f611baa5-511e-4fa6-a452-c30c626df993', '4486e05e-2b31-430c-96ed-8d146a25e3a5']\n"
     ]
    },
    {
     "data": {
      "text/plain": [
       "0"
      ]
     },
     "execution_count": 95,
     "metadata": {},
     "output_type": "execute_result"
    }
   ],
   "source": [
    "# Grompp: Creating portable binary run file for ion generation\n",
    "from biobb_md.gromacs.grompp import grompp\n",
    "\n",
    "# Create prop dict and inputs/outputs\n",
    "prop = {\n",
    "    'mdp':{\n",
    "        'nsteps':'5000'\n",
    "    },\n",
    "    'simulation_type':'minimization',\n",
    "    'maxwarn': 1\n",
    "}\n",
    "output_gppion_tpr = pdbCode + '_' + ligandCode + '_complex_gppion.tpr'\n",
    "\n",
    "# Create and launch bb\n",
    "grompp(input_gro_path=output_solvate_gro,\n",
    "       input_top_zip_path=output_solvate_top_zip, \n",
    "       output_tpr_path=output_gppion_tpr,\n",
    "       properties=prop)"
   ]
  },
  {
   "cell_type": "markdown",
   "metadata": {},
   "source": [
    "<a id=\"ionsStep2\"></a>\n",
    "### Step 2: Adding ions to neutralize the system and reach a 0.05 molar concentration\n",
    "Replace **solvent molecules** with **ions** to **neutralize** the system and reaching a **0.05 molar ionic concentration**"
   ]
  },
  {
   "cell_type": "code",
   "execution_count": 104,
   "metadata": {
    "scrolled": true
   },
   "outputs": [
    {
     "name": "stdout",
     "output_type": "stream",
     "text": [
      "2022-04-18 21:23:11,024 [MainThread  ] [INFO ]  GROMACS Genion 20191 version detected\n",
      "2022-04-18 21:23:11,031 [MainThread  ] [INFO ]  Extracting: /home/lg/repos/javerianaMD/biobb_md/notebooks/3HTB_JZ4_solvate_top.zip\n",
      "2022-04-18 21:23:11,032 [MainThread  ] [INFO ]  to:\n",
      "2022-04-18 21:23:11,033 [MainThread  ] [INFO ]  ['ea755a23-b9d5-4311-a09f-bad6252e80cf/JZ4_params.itp', 'ea755a23-b9d5-4311-a09f-bad6252e80cf/JZ4_posres.itp', 'ea755a23-b9d5-4311-a09f-bad6252e80cf/ligand.top', 'ea755a23-b9d5-4311-a09f-bad6252e80cf/posre.itp']\n",
      "2022-04-18 21:23:11,034 [MainThread  ] [INFO ]  Unzipping: \n",
      "2022-04-18 21:23:11,034 [MainThread  ] [INFO ]  3HTB_JZ4_solvate_top.zip\n",
      "2022-04-18 21:23:11,035 [MainThread  ] [INFO ]  To: \n",
      "2022-04-18 21:23:11,036 [MainThread  ] [INFO ]  ea755a23-b9d5-4311-a09f-bad6252e80cf/JZ4_params.itp\n",
      "2022-04-18 21:23:11,037 [MainThread  ] [INFO ]  ea755a23-b9d5-4311-a09f-bad6252e80cf/JZ4_posres.itp\n",
      "2022-04-18 21:23:11,038 [MainThread  ] [INFO ]  ea755a23-b9d5-4311-a09f-bad6252e80cf/ligand.top\n",
      "2022-04-18 21:23:11,039 [MainThread  ] [INFO ]  ea755a23-b9d5-4311-a09f-bad6252e80cf/posre.itp\n",
      "2022-04-18 21:23:11,040 [MainThread  ] [INFO ]  To reach up 0.05 mol/litre concentration\n",
      "2022-04-18 21:23:11,040 [MainThread  ] [INFO ]  Not using any container\n",
      "2022-04-18 21:23:11,146 [MainThread  ] [INFO ]  echo \"SOL\" | gmx -nobackup -nocopyright genion -s 3HTB_JZ4_complex_gppion.tpr -o 3HTB_JZ4_genion.gro -p ea755a23-b9d5-4311-a09f-bad6252e80cf/ligand.top -neutral -conc 0.05 -seed 1993\n",
      "\n",
      "2022-04-18 21:23:11,148 [MainThread  ] [INFO ]  Exit code 0\n",
      "\n",
      "2022-04-18 21:23:11,148 [MainThread  ] [INFO ]  Will try to add 10 NA ions and 16 CL ions.\n",
      "Select a continuous group of solvent molecules\n",
      "Selected 15: 'SOL'\n",
      "\n",
      "Processing topology\n",
      "Replacing 26 solute molecules in topology file (ea755a23-b9d5-4311-a09f-bad6252e80cf/ligand.top)  by 10 NA and 16 CL ions.\n",
      "\n",
      "2022-04-18 21:23:11,149 [MainThread  ] [INFO ]                        :-) GROMACS - gmx genion, 2019.1 (-:\n",
      "\n",
      "Executable:   /opt/miniconda3/envs/biobb_env/bin/gmx\n",
      "Data prefix:  /opt/miniconda3/envs/biobb_env\n",
      "Working dir:  /home/lg/repos/javerianaMD/biobb_md/notebooks\n",
      "Command line:\n",
      "  gmx -nobackup -nocopyright genion -s 3HTB_JZ4_complex_gppion.tpr -o 3HTB_JZ4_genion.gro -p ea755a23-b9d5-4311-a09f-bad6252e80cf/ligand.top -neutral -conc 0.05 -seed 1993\n",
      "\n",
      "Reading file 3HTB_JZ4_complex_gppion.tpr, VERSION 2019.1 (single precision)\n",
      "Reading file 3HTB_JZ4_complex_gppion.tpr, VERSION 2019.1 (single precision)\n",
      "Group     0 (         System) has 31229 elements\n",
      "Group     1 (        Protein) has  2614 elements\n",
      "Group     2 (      Protein-H) has  1301 elements\n",
      "Group     3 (        C-alpha) has   163 elements\n",
      "Group     4 (       Backbone) has   489 elements\n",
      "Group     5 (      MainChain) has   653 elements\n",
      "Group     6 (   MainChain+Cb) has   805 elements\n",
      "Group     7 (    MainChain+H) has   815 elements\n",
      "Group     8 (      SideChain) has  1799 elements\n",
      "Group     9 (    SideChain-H) has   648 elements\n",
      "Group    10 (    Prot-Masses) has  2614 elements\n",
      "Group    11 (    non-Protein) has 28615 elements\n",
      "Group    12 (          Other) has    22 elements\n",
      "Group    13 (            JZ4) has    22 elements\n",
      "Group    14 (          Water) has 28593 elements\n",
      "Group    15 (            SOL) has 28593 elements\n",
      "Group    16 (      non-Water) has  2636 elements\n",
      "Select a group: Number of (3-atomic) solvent molecules: 9531\n",
      "Using random seed 1993.\n",
      "Replacing solvent molecule 6684 (atom 22688) with NA\n",
      "Replacing solvent molecule 3713 (atom 13775) with NA\n",
      "Replacing solvent molecule 6865 (atom 23231) with NA\n",
      "Replacing solvent molecule 6607 (atom 22457) with NA\n",
      "Replacing solvent molecule 2054 (atom 8798) with NA\n",
      "Replacing solvent molecule 3610 (atom 13466) with NA\n",
      "Replacing solvent molecule 2213 (atom 9275) with NA\n",
      "Replacing solvent molecule 2304 (atom 9548) with NA\n",
      "Replacing solvent molecule 1640 (atom 7556) with NA\n",
      "Replacing solvent molecule 2994 (atom 11618) with NA\n",
      "Replacing solvent molecule 905 (atom 5351) with CL\n",
      "Replacing solvent molecule 4068 (atom 14840) with CL\n",
      "Replacing solvent molecule 9064 (atom 29828) with CL\n",
      "Replacing solvent molecule 4558 (atom 16310) with CL\n",
      "Replacing solvent molecule 1900 (atom 8336) with CL\n",
      "Replacing solvent molecule 7505 (atom 25151) with CL\n",
      "Replacing solvent molecule 9184 (atom 30188) with CL\n",
      "Replacing solvent molecule 5771 (atom 19949) with CL\n",
      "Replacing solvent molecule 6751 (atom 22889) with CL\n",
      "Replacing solvent molecule 2902 (atom 11342) with CL\n",
      "Replacing solvent molecule 2024 (atom 8708) with CL\n",
      "Replacing solvent molecule 8521 (atom 28199) with CL\n",
      "Replacing solvent molecule 909 (atom 5363) with CL\n",
      "Replacing solvent molecule 3452 (atom 12992) with CL\n",
      "Replacing solvent molecule 3869 (atom 14243) with CL\n",
      "Replacing solvent molecule 4530 (atom 16226) with CL\n",
      "\n",
      "\n",
      "GROMACS reminds you: \"I Could Take You Home and Abuse You\" (Magnapop)\n",
      "\n",
      "\n",
      "2022-04-18 21:23:11,149 [MainThread  ] [INFO ]  Compressing topology to: 3HTB_JZ4_genion_top.zip\n",
      "2022-04-18 21:23:11,151 [MainThread  ] [INFO ]  Ignored file ea755a23-b9d5-4311-a09f-bad6252e80cf/amber99sb-ildn.ff/forcefield.itp\n",
      "2022-04-18 21:23:11,161 [MainThread  ] [INFO ]  Ignored file ea755a23-b9d5-4311-a09f-bad6252e80cf/amber99sb-ildn.ff/spce.itp\n",
      "2022-04-18 21:23:11,162 [MainThread  ] [INFO ]  Ignored file ea755a23-b9d5-4311-a09f-bad6252e80cf/amber99sb-ildn.ff/ions.itp\n",
      "2022-04-18 21:23:11,166 [MainThread  ] [INFO ]  Adding:\n",
      "2022-04-18 21:23:11,167 [MainThread  ] [INFO ]  ['ea755a23-b9d5-4311-a09f-bad6252e80cf/JZ4_params.itp', 'ea755a23-b9d5-4311-a09f-bad6252e80cf/JZ4_posres.itp', 'ea755a23-b9d5-4311-a09f-bad6252e80cf/ligand.top', 'ea755a23-b9d5-4311-a09f-bad6252e80cf/posre.itp']\n",
      "2022-04-18 21:23:11,168 [MainThread  ] [INFO ]  to: /home/lg/repos/javerianaMD/biobb_md/notebooks/3HTB_JZ4_genion_top.zip\n",
      "2022-04-18 21:23:11,169 [MainThread  ] [INFO ]  Removed: ['ea755a23-b9d5-4311-a09f-bad6252e80cf']\n"
     ]
    },
    {
     "data": {
      "text/plain": [
       "0"
      ]
     },
     "execution_count": 104,
     "metadata": {},
     "output_type": "execute_result"
    }
   ],
   "source": [
    "# Genion: Adding ions to reach a 0.05 molar concentration\n",
    "from biobb_md.gromacs.genion import genion\n",
    "\n",
    "# Create prop dict and inputs/outputs\n",
    "prop={\n",
    "    'neutral':True,\n",
    "    'concentration':0.05\n",
    "}\n",
    "output_genion_gro = pdbCode + '_' + ligandCode+'_genion.gro'\n",
    "output_genion_top_zip = pdbCode + '_' + ligandCode+'_genion_top.zip'\n",
    "\n",
    "# Create and launch bb\n",
    "genion(input_tpr_path=output_gppion_tpr,\n",
    "       output_gro_path=output_genion_gro, \n",
    "       input_top_zip_path=output_solvate_top_zip,\n",
    "       output_top_zip_path=output_genion_top_zip, \n",
    "       properties=prop)"
   ]
  },
  {
   "cell_type": "markdown",
   "metadata": {},
   "source": [
    "### Visualizing 3D structure\n",
    "Visualizing the **protein-ligand complex** with the newly added **ionic concentration** using **NGL**"
   ]
  },
  {
   "cell_type": "code",
   "execution_count": 103,
   "metadata": {
    "scrolled": false
   },
   "outputs": [
    {
     "data": {
      "application/vnd.jupyter.widget-view+json": {
       "model_id": "5e0f3f5116f84772b3ec4747bb3684d1",
       "version_major": 2,
       "version_minor": 0
      },
      "text/plain": [
       "NGLWidget()"
      ]
     },
     "metadata": {},
     "output_type": "display_data"
    }
   ],
   "source": [
    "#Show protein\n",
    "view = nglview.show_structure_file(output_genion_gro)\n",
    "view.clear_representations()\n",
    "view.add_representation(repr_type='cartoon', selection='protein', color='sstruc')\n",
    "view.add_representation(repr_type='licorice', radius='.5', selection=ligandCode)\n",
    "\n",
    "view.add_representation(repr_type='line', linewidth='1', selection='SOL', opacity='.3')\n",
    "\n",
    "view.add_representation(repr_type='ball+stick', selection='NA')\n",
    "view.add_representation(repr_type='ball+stick', selection='CL')\n",
    "view._remote_call('setSize', target='Widget', args=['','400px'])\n",
    "view.camera='orthographic'\n",
    "view.center()\n",
    "view"
   ]
  },
  {
   "cell_type": "markdown",
   "metadata": {},
   "source": [
    "<img src='images/ngl8.png' width=\"50%\" height=\"50%\"></img>"
   ]
  },
  {
   "cell_type": "markdown",
   "metadata": {},
   "source": [
    "<a id=\"min\"></a>\n",
    "***\n",
    "## Energetically minimize the system\n",
    "Energetically minimize the **protein-ligand complex** till reaching a desired potential energy.\n",
    "- [Step 1](#emStep1): Creating portable binary run file for energy minimization\n",
    "- [Step 2](#emStep2): Energetically minimize the **protein-ligand complex** till reaching a force of 500 kJ mol-1 nm-1.\n",
    "- [Step 3](#emStep3): Checking **energy minimization** results. Plotting energy by time during the **minimization** process.\n",
    "***\n",
    "**Building Blocks** used:\n",
    " - [Grompp](https://biobb-md.readthedocs.io/en/latest/gromacs.html#module-gromacs.grompp) from **biobb_md.gromacs.grompp**:\n",
    "     * The GROMACS preprocessor module needs to be fed with the input system and the dynamics parameters to create a portable binary run input file TPR.\n",
    "     \n",
    "     \n",
    " - [Mdrun](https://biobb-md.readthedocs.io/en/latest/gromacs.html#module-gromacs.mdrun) from **biobb_md.gromacs.mdrun**:\n",
    "     * MDRun is the main computational chemistry engine within GROMACS. It performs Molecular Dynamics simulations, but it can also perform Stochastic Dynamics, Energy Minimization, test particle insertion or (re)calculation of energies.\n",
    "     \n",
    "     \n",
    " - [GMXEnergy](https://biobb-analysis.readthedocs.io/en/latest/gromacs.html#module-gromacs.gmx_energy) from **biobb_analysis.gromacs.gmx_energy**:\n",
    "     * GROMACS energy extracts energy components from an energy file.\n",
    "***"
   ]
  },
  {
   "cell_type": "markdown",
   "metadata": {},
   "source": [
    "<a id=\"emStep1\"></a>\n",
    "### Step 1: Creating portable binary run file for energy minimization\n",
    "Method used to run the **energy minimization** is a **steepest descent**, with a **maximum force of 500 KJ/mol\\*nm^2**, and a minimization **step size of 1fs**. The **maximum number of steps** to perform if the maximum force is not reached is **5,000 steps**. "
   ]
  },
  {
   "cell_type": "code",
   "execution_count": 105,
   "metadata": {
    "scrolled": true
   },
   "outputs": [
    {
     "name": "stdout",
     "output_type": "stream",
     "text": [
      "2022-04-18 21:23:22,005 [MainThread  ] [INFO ]  GROMACS Grompp 20191 version detected\n",
      "2022-04-18 21:23:22,013 [MainThread  ] [INFO ]  Extracting: /home/lg/repos/javerianaMD/biobb_md/notebooks/3HTB_JZ4_genion_top.zip\n",
      "2022-04-18 21:23:22,013 [MainThread  ] [INFO ]  to:\n",
      "2022-04-18 21:23:22,014 [MainThread  ] [INFO ]  ['cee19a68-0f7c-4841-8123-fa04552c9d71/JZ4_params.itp', 'cee19a68-0f7c-4841-8123-fa04552c9d71/JZ4_posres.itp', 'cee19a68-0f7c-4841-8123-fa04552c9d71/ligand.top', 'cee19a68-0f7c-4841-8123-fa04552c9d71/posre.itp']\n",
      "2022-04-18 21:23:22,015 [MainThread  ] [INFO ]  Unzipping: \n",
      "2022-04-18 21:23:22,016 [MainThread  ] [INFO ]  3HTB_JZ4_genion_top.zip\n",
      "2022-04-18 21:23:22,018 [MainThread  ] [INFO ]  To: \n",
      "2022-04-18 21:23:22,019 [MainThread  ] [INFO ]  cee19a68-0f7c-4841-8123-fa04552c9d71/JZ4_params.itp\n",
      "2022-04-18 21:23:22,020 [MainThread  ] [INFO ]  cee19a68-0f7c-4841-8123-fa04552c9d71/JZ4_posres.itp\n",
      "2022-04-18 21:23:22,021 [MainThread  ] [INFO ]  cee19a68-0f7c-4841-8123-fa04552c9d71/ligand.top\n",
      "2022-04-18 21:23:22,022 [MainThread  ] [INFO ]  cee19a68-0f7c-4841-8123-fa04552c9d71/posre.itp\n",
      "2022-04-18 21:23:22,024 [MainThread  ] [INFO ]  Not using any container\n",
      "2022-04-18 21:23:22,333 [MainThread  ] [INFO ]  gmx -nobackup -nocopyright grompp -f b690d6f4-25fb-4710-84fe-cdb75380d096/grompp.mdp -c 3HTB_JZ4_genion.gro -r 3HTB_JZ4_genion.gro -p cee19a68-0f7c-4841-8123-fa04552c9d71/ligand.top -o 3HTB_JZ4_gppmin.tpr -po mdout.mdp -maxwarn 0\n",
      "\n",
      "2022-04-18 21:23:22,336 [MainThread  ] [INFO ]  Exit code 0\n",
      "\n",
      "2022-04-18 21:23:22,337 [MainThread  ] [INFO ]  Analysing residue names:\n",
      "There are:   163    Protein residues\n",
      "There are:     1      Other residues\n",
      "There are:  9505      Water residues\n",
      "There are:    26        Ion residues\n",
      "Analysing Protein...\n",
      "Analysing residues not classified as Protein/DNA/RNA/Water and splitting into groups...\n",
      "Analysing residues not classified as Protein/DNA/RNA/Water and splitting into groups...\n",
      "Calculating fourier grid dimensions for X Y Z\n",
      "Using a fourier grid of 64x64x64, spacing 0.116 0.116 0.116\n",
      "This run will generate roughly 2 Mb of data\n",
      "\n",
      "2022-04-18 21:23:22,337 [MainThread  ] [INFO ]                        :-) GROMACS - gmx grompp, 2019.1 (-:\n",
      "\n",
      "Executable:   /opt/miniconda3/envs/biobb_env/bin/gmx\n",
      "Data prefix:  /opt/miniconda3/envs/biobb_env\n",
      "Working dir:  /home/lg/repos/javerianaMD/biobb_md/notebooks\n",
      "Command line:\n",
      "  gmx -nobackup -nocopyright grompp -f b690d6f4-25fb-4710-84fe-cdb75380d096/grompp.mdp -c 3HTB_JZ4_genion.gro -r 3HTB_JZ4_genion.gro -p cee19a68-0f7c-4841-8123-fa04552c9d71/ligand.top -o 3HTB_JZ4_gppmin.tpr -po mdout.mdp -maxwarn 0\n",
      "\n",
      "Setting the LD random seed to 219709568\n",
      "Generated 2556 of the 2556 non-bonded parameter combinations\n",
      "Generating 1-4 interactions: fudge = 0.5\n",
      "Generated 2556 of the 2556 1-4 parameter combinations\n",
      "Excluding 3 bonded neighbours molecule type 'Protein_chain_A'\n",
      "Excluding 3 bonded neighbours molecule type 'JZ4_params'\n",
      "Excluding 2 bonded neighbours molecule type 'SOL'\n",
      "Excluding 1 bonded neighbours molecule type 'NA'\n",
      "Excluding 1 bonded neighbours molecule type 'CL'\n",
      "Removing all charge groups because cutoff-scheme=Verlet\n",
      "Number of degrees of freedom in T-Coupling group rest is 65013.00\n",
      "Estimate for the relative computational load of the PME mesh part: 0.18\n",
      "\n",
      "GROMACS reminds you: \"Dr Pauling, how do you have so many good ideas? Well David, I have a lot of ideas and throw away the bad ones.\" (Linus Pauling)\n",
      "\n",
      "\n",
      "2022-04-18 21:23:22,339 [MainThread  ] [INFO ]  Removed: ['mdout.mdp', 'cee19a68-0f7c-4841-8123-fa04552c9d71', 'b690d6f4-25fb-4710-84fe-cdb75380d096']\n"
     ]
    },
    {
     "data": {
      "text/plain": [
       "0"
      ]
     },
     "execution_count": 105,
     "metadata": {},
     "output_type": "execute_result"
    }
   ],
   "source": [
    "# Grompp: Creating portable binary run file for mdrun\n",
    "from biobb_md.gromacs.grompp import grompp\n",
    "\n",
    "# Create prop dict and inputs/outputs\n",
    "prop = {\n",
    "    'mdp':{\n",
    "        'nsteps':'5000',\n",
    "        'emstep': 0.01,\n",
    "        'emtol':'500'\n",
    "    },\n",
    "    'simulation_type':'minimization'\n",
    "}\n",
    "output_gppmin_tpr = pdbCode+'_'+ligandCode+'_gppmin.tpr'\n",
    "\n",
    "# Create and launch bb\n",
    "grompp(input_gro_path=output_genion_gro,\n",
    "       input_top_zip_path=output_genion_top_zip,\n",
    "       output_tpr_path=output_gppmin_tpr,\n",
    "       properties=prop)"
   ]
  },
  {
   "cell_type": "markdown",
   "metadata": {},
   "source": [
    "<a id=\"emStep2\"></a>\n",
    "### Step 2: Running Energy Minimization\n",
    "Running **energy minimization** using the **tpr file** generated in the previous step."
   ]
  },
  {
   "cell_type": "code",
   "execution_count": 107,
   "metadata": {
    "scrolled": true
   },
   "outputs": [
    {
     "name": "stdout",
     "output_type": "stream",
     "text": [
      "2022-04-18 21:24:22,278 [MainThread  ] [INFO ]  GROMACS Mdrun 20191 version detected\n",
      "2022-04-18 21:24:22,280 [MainThread  ] [INFO ]  Not using any container\n",
      "2022-04-18 21:26:00,627 [MainThread  ] [INFO ]  gmx -nobackup -nocopyright mdrun -s 3HTB_JZ4_gppmin.tpr -o 3HTB_JZ4_min.trr -c 3HTB_JZ4_min.gro -e 3HTB_JZ4_min.edr -g 3HTB_JZ4_min.log\n",
      "\n",
      "2022-04-18 21:26:00,628 [MainThread  ] [INFO ]  Exit code 0\n",
      "\n",
      "2022-04-18 21:26:00,629 [MainThread  ] [INFO ]                        :-) GROMACS - gmx mdrun, 2019.1 (-:\n",
      "\n",
      "Executable:   /opt/miniconda3/envs/biobb_env/bin/gmx\n",
      "Data prefix:  /opt/miniconda3/envs/biobb_env\n",
      "Working dir:  /home/lg/repos/javerianaMD/biobb_md/notebooks\n",
      "Command line:\n",
      "  gmx -nobackup -nocopyright mdrun -s 3HTB_JZ4_gppmin.tpr -o 3HTB_JZ4_min.trr -c 3HTB_JZ4_min.gro -e 3HTB_JZ4_min.edr -g 3HTB_JZ4_min.log\n",
      "\n",
      "Compiled SIMD: SSE2, but for this host/run AVX2_256 might be better (see log).\n",
      "The current CPU can measure timings more accurately than the code in\n",
      "gmx mdrun was configured to use. This might affect your simulation\n",
      "speed as accurate timings are needed for load-balancing.\n",
      "Please consider rebuilding gmx mdrun with the GMX_USE_RDTSCP=ON CMake option.\n",
      "Reading file 3HTB_JZ4_gppmin.tpr, VERSION 2019.1 (single precision)\n",
      "\n",
      "Using 1 MPI thread\n",
      "Using 4 OpenMP threads \n",
      "\n",
      "\n",
      "Steepest Descents:\n",
      "   Tolerance (Fmax)   =  5.00000e+02\n",
      "   Number of steps    =         5000\n",
      "\n",
      "writing lowest energy coordinates.\n",
      "\n",
      "Steepest Descents converged to Fmax < 500 in 1806 steps\n",
      "Potential Energy  = -5.4669525e+05\n",
      "Maximum force     =  4.7538245e+02 on atom 1462\n",
      "Norm of force     =  1.2270401e+01\n",
      "\n",
      "GROMACS reminds you: \"Take Your Medications and Preparations and Ram It Up Your Snout\" (F. Zappa)\n",
      "\n",
      "\n",
      "2022-04-18 21:26:00,629 [MainThread  ] [INFO ]  Removed: []\n"
     ]
    },
    {
     "data": {
      "text/plain": [
       "0"
      ]
     },
     "execution_count": 107,
     "metadata": {},
     "output_type": "execute_result"
    }
   ],
   "source": [
    "# Mdrun: Running minimization\n",
    "from biobb_md.gromacs.mdrun import mdrun\n",
    "\n",
    "# Create prop dict and inputs/outputs\n",
    "output_min_trr = pdbCode+'_'+ligandCode+'_min.trr'\n",
    "output_min_gro = pdbCode+'_'+ligandCode+'_min.gro'\n",
    "output_min_edr = pdbCode+'_'+ligandCode+'_min.edr'\n",
    "output_min_log = pdbCode+'_'+ligandCode+'_min.log'\n",
    "\n",
    "# Create and launch bb\n",
    "mdrun(input_tpr_path=output_gppmin_tpr,\n",
    "      output_trr_path=output_min_trr, \n",
    "      output_gro_path=output_min_gro,\n",
    "      output_edr_path=output_min_edr, \n",
    "      output_log_path=output_min_log)"
   ]
  },
  {
   "cell_type": "markdown",
   "metadata": {},
   "source": [
    "<a id=\"emStep3\"></a>\n",
    "### Step 3: Checking Energy Minimization results\n",
    "Checking **energy minimization** results. Plotting **potential energy** by time during the minimization process. "
   ]
  },
  {
   "cell_type": "code",
   "execution_count": 108,
   "metadata": {
    "scrolled": true
   },
   "outputs": [
    {
     "name": "stdout",
     "output_type": "stream",
     "text": [
      "2022-04-18 21:26:00,641 [MainThread  ] [INFO ]  Not using any container\n",
      "2022-04-18 21:26:00,662 [MainThread  ] [INFO ]  gmx energy -f /home/lg/repos/javerianaMD/biobb_md/notebooks/3HTB_JZ4_min.edr -o 3HTB_JZ4_min_ene.xvg -xvg none < a0eff958-0796-4b9a-b5c2-67aab17ebb89/instructions.in\n",
      "\n",
      "2022-04-18 21:26:00,663 [MainThread  ] [INFO ]  Exit code 0\n",
      "\n",
      "2022-04-18 21:26:00,664 [MainThread  ] [INFO ]  \n",
      "Statistics over 1806 steps [ 0.0000 through 1805.0000 ps ], 1 data sets\n",
      "All statistics are over 1429 points (frames)\n",
      "\n",
      "Energy                      Average   Err.Est.       RMSD  Tot-Drift\n",
      "-------------------------------------------------------------------------------\n",
      "Potential                   -530532       8600    22279.7   -56368.5  (kJ/mol)\n",
      "\n",
      "2022-04-18 21:26:00,665 [MainThread  ] [INFO ]                        :-) GROMACS - gmx energy, 2019.1 (-:\n",
      "\n",
      "                            GROMACS is written by:\n",
      "     Emile Apol      Rossen Apostolov      Paul Bauer     Herman J.C. Berendsen\n",
      "    Par Bjelkmar      Christian Blau   Viacheslav Bolnykh     Kevin Boyd    \n",
      " Aldert van Buuren   Rudi van Drunen     Anton Feenstra       Alan Gray     \n",
      "  Gerrit Groenhof     Anca Hamuraru    Vincent Hindriksen  M. Eric Irrgang  \n",
      "  Aleksei Iupinov   Christoph Junghans     Joe Jordan     Dimitrios Karkoulis\n",
      "    Peter Kasson        Jiri Kraus      Carsten Kutzner      Per Larsson    \n",
      "  Justin A. Lemkul    Viveca Lindahl    Magnus Lundborg     Erik Marklund   \n",
      "    Pascal Merz     Pieter Meulenhoff    Teemu Murtola       Szilard Pall   \n",
      "    Sander Pronk      Roland Schulz      Michael Shirts    Alexey Shvetsov  \n",
      "   Alfons Sijbers     Peter Tieleman      Jon Vincent      Teemu Virolainen \n",
      " Christian Wennberg    Maarten Wolf   \n",
      "                           and the project leaders:\n",
      "        Mark Abraham, Berk Hess, Erik Lindahl, and David van der Spoel\n",
      "\n",
      "Copyright (c) 1991-2000, University of Groningen, The Netherlands.\n",
      "Copyright (c) 2001-2018, The GROMACS development team at\n",
      "Uppsala University, Stockholm University and\n",
      "the Royal Institute of Technology, Sweden.\n",
      "check out http://www.gromacs.org for more information.\n",
      "\n",
      "GROMACS is free software; you can redistribute it and/or modify it\n",
      "under the terms of the GNU Lesser General Public License\n",
      "as published by the Free Software Foundation; either version 2.1\n",
      "of the License, or (at your option) any later version.\n",
      "\n",
      "GROMACS:      gmx energy, version 2019.1\n",
      "Executable:   /opt/miniconda3/envs/biobb_env/bin/gmx\n",
      "Data prefix:  /opt/miniconda3/envs/biobb_env\n",
      "Working dir:  /home/lg/repos/javerianaMD/biobb_md/notebooks\n",
      "Command line:\n",
      "  gmx energy -f /home/lg/repos/javerianaMD/biobb_md/notebooks/3HTB_JZ4_min.edr -o 3HTB_JZ4_min_ene.xvg -xvg none\n",
      "\n",
      "Opened /home/lg/repos/javerianaMD/biobb_md/notebooks/3HTB_JZ4_min.edr as single precision energy file\n",
      "\n",
      "Select the terms you want from the following list by\n",
      "selecting either (part of) the name or the number or a combination.\n",
      "End your selection with an empty line or a zero.\n",
      "-------------------------------------------------------------------\n",
      "  1  Bond             2  Angle            3  Proper-Dih.      4  Improper-Dih. \n",
      "  5  LJ-14            6  Coulomb-14       7  LJ-(SR)          8  Coulomb-(SR)  \n",
      "  9  Coul.-recip.    10  Position-Rest.  11  Potential       12  Pressure      \n",
      " 13  Vir-XX          14  Vir-XY          15  Vir-XZ          16  Vir-YX        \n",
      " 17  Vir-YY          18  Vir-YZ          19  Vir-ZX          20  Vir-ZY        \n",
      " 21  Vir-ZZ          22  Pres-XX         23  Pres-XY         24  Pres-XZ       \n",
      " 25  Pres-YX         26  Pres-YY         27  Pres-YZ         28  Pres-ZX       \n",
      " 29  Pres-ZY         30  Pres-ZZ         31  #Surf*SurfTen   32  T-rest        \n",
      "\n",
      "Last energy frame read 1428 time 1805.000         \n",
      "\n",
      "GROMACS reminds you: \"Confirmed\" (Star Trek)\n",
      "\n",
      "\n",
      "2022-04-18 21:26:00,666 [MainThread  ] [INFO ]  Removed: [PurePosixPath('a0eff958-0796-4b9a-b5c2-67aab17ebb89')]\n"
     ]
    },
    {
     "data": {
      "text/plain": [
       "0"
      ]
     },
     "execution_count": 108,
     "metadata": {},
     "output_type": "execute_result"
    }
   ],
   "source": [
    "# GMXEnergy: Getting system energy by time  \n",
    "from biobb_analysis.gromacs.gmx_energy import gmx_energy\n",
    "\n",
    "# Create prop dict and inputs/outputs\n",
    "output_min_ene_xvg = pdbCode + '_' + ligandCode + '_min_ene.xvg'\n",
    "prop = {\n",
    "    'terms':  [\"Potential\"]\n",
    "}\n",
    "\n",
    "# Create and launch bb\n",
    "gmx_energy(input_energy_path=output_min_edr, \n",
    "          output_xvg_path=output_min_ene_xvg, \n",
    "          properties=prop)"
   ]
  },
  {
   "cell_type": "code",
   "execution_count": 111,
   "metadata": {},
   "outputs": [
    {
     "data": {
      "text/html": [
       "        <script type=\"text/javascript\">\n",
       "        window.PlotlyConfig = {MathJaxConfig: 'local'};\n",
       "        if (window.MathJax) {MathJax.Hub.Config({SVG: {font: \"STIX-Web\"}});}\n",
       "        if (typeof require !== 'undefined') {\n",
       "        require.undef(\"plotly\");\n",
       "        requirejs.config({\n",
       "            paths: {\n",
       "                'plotly': ['https://cdn.plot.ly/plotly-2.11.1.min']\n",
       "            }\n",
       "        });\n",
       "        require(['plotly'], function(Plotly) {\n",
       "            window._Plotly = Plotly;\n",
       "        });\n",
       "        }\n",
       "        </script>\n",
       "        "
      ]
     },
     "metadata": {},
     "output_type": "display_data"
    },
    {
     "data": {
      "application/vnd.plotly.v1+json": {
       "config": {
        "linkText": "Export to plot.ly",
        "plotlyServerURL": "https://plot.ly",
        "showLink": false
       },
       "data": [
        {
         "type": "scatter",
         "x": [
          0,
          1,
          2,
          3,
          4,
          5,
          6,
          7,
          8,
          9,
          10,
          12,
          13,
          14,
          16,
          17,
          18,
          19,
          20,
          22,
          23,
          24,
          26,
          27,
          28,
          29,
          31,
          32,
          33,
          35,
          36,
          37,
          39,
          40,
          41,
          43,
          44,
          45,
          46,
          47,
          49,
          51,
          52,
          53,
          54,
          56,
          57,
          58,
          60,
          61,
          62,
          64,
          65,
          66,
          67,
          68,
          70,
          71,
          72,
          74,
          75,
          76,
          78,
          79,
          80,
          82,
          83,
          84,
          85,
          86,
          88,
          89,
          90,
          92,
          93,
          94,
          95,
          96,
          98,
          99,
          100,
          102,
          103,
          104,
          105,
          106,
          108,
          109,
          110,
          112,
          113,
          114,
          115,
          116,
          118,
          119,
          120,
          122,
          123,
          124,
          125,
          127,
          128,
          129,
          131,
          132,
          133,
          134,
          136,
          137,
          138,
          140,
          141,
          142,
          143,
          144,
          146,
          147,
          148,
          150,
          151,
          152,
          153,
          154,
          156,
          157,
          158,
          160,
          161,
          162,
          163,
          164,
          165,
          167,
          168,
          169,
          171,
          172,
          174,
          175,
          176,
          178,
          179,
          180,
          181,
          182,
          184,
          185,
          186,
          188,
          189,
          190,
          191,
          192,
          194,
          195,
          196,
          198,
          199,
          200,
          201,
          202,
          204,
          205,
          206,
          208,
          209,
          210,
          211,
          213,
          214,
          215,
          217,
          218,
          219,
          220,
          222,
          223,
          224,
          226,
          227,
          228,
          229,
          230,
          232,
          233,
          234,
          236,
          237,
          238,
          239,
          240,
          242,
          243,
          244,
          246,
          247,
          248,
          249,
          251,
          252,
          253,
          255,
          256,
          257,
          258,
          260,
          261,
          262,
          264,
          265,
          266,
          267,
          268,
          270,
          271,
          272,
          274,
          275,
          276,
          277,
          278,
          279,
          281,
          282,
          283,
          285,
          286,
          288,
          289,
          290,
          292,
          293,
          294,
          295,
          296,
          298,
          299,
          300,
          302,
          303,
          304,
          305,
          306,
          308,
          309,
          310,
          312,
          313,
          314,
          315,
          316,
          317,
          319,
          320,
          321,
          323,
          324,
          326,
          327,
          328,
          330,
          331,
          332,
          333,
          334,
          336,
          337,
          338,
          340,
          341,
          342,
          343,
          344,
          345,
          346,
          348,
          350,
          351,
          352,
          353,
          355,
          356,
          357,
          359,
          360,
          361,
          362,
          363,
          365,
          366,
          367,
          369,
          370,
          371,
          372,
          373,
          375,
          376,
          377,
          379,
          380,
          381,
          382,
          383,
          384,
          386,
          387,
          388,
          390,
          391,
          392,
          393,
          395,
          396,
          397,
          399,
          400,
          401,
          402,
          404,
          405,
          406,
          408,
          409,
          410,
          411,
          412,
          414,
          415,
          416,
          418,
          419,
          420,
          421,
          423,
          424,
          425,
          427,
          428,
          429,
          430,
          432,
          433,
          434,
          436,
          437,
          438,
          439,
          440,
          441,
          443,
          444,
          445,
          447,
          448,
          450,
          451,
          452,
          454,
          455,
          456,
          457,
          458,
          460,
          461,
          462,
          464,
          465,
          466,
          467,
          468,
          469,
          471,
          472,
          473,
          475,
          476,
          477,
          478,
          480,
          481,
          482,
          484,
          485,
          486,
          487,
          488,
          490,
          491,
          492,
          494,
          495,
          496,
          497,
          499,
          500,
          501,
          503,
          504,
          505,
          506,
          508,
          509,
          510,
          512,
          513,
          514,
          515,
          516,
          518,
          519,
          520,
          522,
          523,
          524,
          525,
          526,
          527,
          529,
          531,
          532,
          533,
          534,
          536,
          537,
          538,
          540,
          541,
          542,
          543,
          544,
          546,
          547,
          548,
          550,
          551,
          552,
          553,
          554,
          556,
          557,
          558,
          560,
          561,
          562,
          563,
          564,
          566,
          567,
          568,
          570,
          571,
          572,
          573,
          574,
          576,
          577,
          578,
          580,
          581,
          582,
          583,
          585,
          586,
          587,
          589,
          590,
          591,
          592,
          594,
          595,
          596,
          598,
          599,
          600,
          601,
          602,
          603,
          605,
          606,
          607,
          609,
          610,
          611,
          612,
          614,
          615,
          616,
          618,
          619,
          620,
          621,
          622,
          624,
          625,
          626,
          628,
          629,
          630,
          631,
          633,
          634,
          635,
          637,
          638,
          639,
          640,
          642,
          643,
          644,
          646,
          647,
          648,
          649,
          650,
          651,
          653,
          654,
          655,
          657,
          658,
          659,
          660,
          662,
          663,
          664,
          666,
          667,
          668,
          669,
          670,
          672,
          673,
          674,
          676,
          677,
          678,
          679,
          681,
          682,
          683,
          685,
          686,
          687,
          688,
          689,
          691,
          692,
          693,
          695,
          696,
          697,
          698,
          700,
          701,
          702,
          704,
          705,
          706,
          707,
          708,
          710,
          711,
          712,
          714,
          715,
          716,
          717,
          719,
          720,
          721,
          723,
          724,
          725,
          726,
          728,
          729,
          730,
          732,
          733,
          734,
          735,
          736,
          737,
          739,
          740,
          741,
          743,
          744,
          745,
          746,
          748,
          749,
          750,
          752,
          753,
          754,
          755,
          756,
          758,
          759,
          760,
          762,
          763,
          764,
          765,
          767,
          768,
          769,
          771,
          772,
          773,
          774,
          775,
          777,
          778,
          779,
          781,
          782,
          783,
          784,
          786,
          787,
          788,
          790,
          791,
          792,
          793,
          794,
          796,
          797,
          798,
          800,
          801,
          802,
          803,
          805,
          806,
          807,
          809,
          810,
          811,
          812,
          813,
          814,
          816,
          817,
          818,
          820,
          821,
          823,
          824,
          825,
          827,
          828,
          829,
          830,
          831,
          832,
          833,
          835,
          836,
          837,
          839,
          840,
          842,
          843,
          844,
          846,
          847,
          848,
          849,
          850,
          851,
          852,
          854,
          855,
          856,
          858,
          859,
          860,
          861,
          863,
          864,
          865,
          867,
          868,
          869,
          870,
          872,
          873,
          874,
          876,
          877,
          878,
          879,
          881,
          882,
          883,
          885,
          886,
          887,
          888,
          889,
          890,
          892,
          893,
          894,
          896,
          897,
          898,
          899,
          901,
          902,
          903,
          905,
          906,
          907,
          908,
          910,
          911,
          912,
          914,
          915,
          916,
          917,
          918,
          919,
          921,
          923,
          924,
          925,
          926,
          928,
          929,
          930,
          932,
          933,
          934,
          935,
          936,
          938,
          939,
          940,
          942,
          943,
          944,
          945,
          946,
          948,
          949,
          950,
          952,
          953,
          954,
          955,
          956,
          958,
          959,
          960,
          962,
          963,
          964,
          965,
          966,
          967,
          969,
          970,
          971,
          973,
          974,
          976,
          977,
          978,
          980,
          981,
          982,
          983,
          984,
          985,
          986,
          988,
          989,
          990,
          992,
          993,
          994,
          995,
          997,
          998,
          999,
          1001,
          1002,
          1003,
          1004,
          1006,
          1007,
          1008,
          1010,
          1011,
          1012,
          1013,
          1015,
          1016,
          1017,
          1019,
          1020,
          1021,
          1022,
          1023,
          1024,
          1026,
          1027,
          1028,
          1030,
          1031,
          1032,
          1033,
          1035,
          1036,
          1037,
          1039,
          1040,
          1041,
          1042,
          1043,
          1045,
          1046,
          1047,
          1049,
          1050,
          1051,
          1052,
          1054,
          1055,
          1056,
          1058,
          1059,
          1060,
          1061,
          1062,
          1064,
          1065,
          1066,
          1068,
          1069,
          1070,
          1071,
          1073,
          1074,
          1075,
          1077,
          1078,
          1079,
          1080,
          1081,
          1083,
          1084,
          1085,
          1087,
          1088,
          1089,
          1090,
          1092,
          1093,
          1094,
          1096,
          1097,
          1098,
          1099,
          1100,
          1102,
          1103,
          1104,
          1106,
          1107,
          1108,
          1109,
          1111,
          1112,
          1113,
          1115,
          1116,
          1117,
          1118,
          1119,
          1121,
          1122,
          1123,
          1125,
          1126,
          1127,
          1128,
          1130,
          1131,
          1132,
          1134,
          1135,
          1136,
          1137,
          1138,
          1140,
          1141,
          1142,
          1144,
          1145,
          1146,
          1147,
          1149,
          1150,
          1151,
          1153,
          1154,
          1155,
          1156,
          1157,
          1159,
          1160,
          1161,
          1163,
          1164,
          1165,
          1166,
          1168,
          1169,
          1170,
          1172,
          1173,
          1174,
          1175,
          1176,
          1177,
          1179,
          1180,
          1181,
          1183,
          1184,
          1185,
          1186,
          1188,
          1189,
          1190,
          1192,
          1193,
          1194,
          1195,
          1196,
          1198,
          1199,
          1200,
          1202,
          1203,
          1204,
          1205,
          1207,
          1208,
          1209,
          1211,
          1212,
          1213,
          1214,
          1215,
          1217,
          1218,
          1219,
          1221,
          1222,
          1223,
          1224,
          1226,
          1227,
          1228,
          1230,
          1231,
          1232,
          1233,
          1234,
          1236,
          1237,
          1238,
          1240,
          1241,
          1242,
          1243,
          1245,
          1246,
          1247,
          1249,
          1250,
          1251,
          1252,
          1253,
          1255,
          1256,
          1257,
          1259,
          1260,
          1261,
          1262,
          1264,
          1265,
          1266,
          1268,
          1269,
          1270,
          1271,
          1272,
          1274,
          1275,
          1276,
          1278,
          1279,
          1280,
          1281,
          1283,
          1284,
          1285,
          1287,
          1288,
          1289,
          1290,
          1291,
          1292,
          1294,
          1295,
          1296,
          1298,
          1299,
          1301,
          1302,
          1303,
          1305,
          1306,
          1307,
          1308,
          1309,
          1310,
          1311,
          1313,
          1314,
          1315,
          1317,
          1318,
          1319,
          1320,
          1322,
          1323,
          1324,
          1326,
          1327,
          1328,
          1329,
          1330,
          1331,
          1333,
          1335,
          1336,
          1337,
          1338,
          1340,
          1341,
          1342,
          1344,
          1345,
          1346,
          1348,
          1349,
          1350,
          1351,
          1352,
          1354,
          1355,
          1356,
          1358,
          1359,
          1360,
          1361,
          1362,
          1364,
          1365,
          1366,
          1368,
          1369,
          1370,
          1371,
          1372,
          1373,
          1375,
          1376,
          1377,
          1379,
          1380,
          1381,
          1382,
          1384,
          1385,
          1386,
          1388,
          1389,
          1390,
          1391,
          1392,
          1394,
          1395,
          1396,
          1398,
          1399,
          1400,
          1401,
          1403,
          1404,
          1405,
          1407,
          1408,
          1409,
          1410,
          1411,
          1412,
          1414,
          1415,
          1416,
          1418,
          1419,
          1421,
          1422,
          1423,
          1425,
          1426,
          1427,
          1428,
          1429,
          1430,
          1431,
          1433,
          1434,
          1435,
          1437,
          1438,
          1439,
          1440,
          1442,
          1443,
          1444,
          1446,
          1447,
          1448,
          1449,
          1451,
          1452,
          1453,
          1455,
          1456,
          1457,
          1458,
          1460,
          1461,
          1462,
          1464,
          1465,
          1466,
          1467,
          1468,
          1469,
          1471,
          1472,
          1473,
          1475,
          1476,
          1477,
          1478,
          1480,
          1481,
          1482,
          1484,
          1485,
          1486,
          1487,
          1489,
          1490,
          1491,
          1493,
          1494,
          1495,
          1496,
          1497,
          1498,
          1500,
          1501,
          1502,
          1504,
          1505,
          1506,
          1507,
          1509,
          1510,
          1511,
          1513,
          1514,
          1515,
          1516,
          1518,
          1519,
          1520,
          1522,
          1523,
          1524,
          1525,
          1526,
          1527,
          1529,
          1531,
          1532,
          1533,
          1534,
          1536,
          1537,
          1538,
          1540,
          1541,
          1542,
          1543,
          1544,
          1546,
          1547,
          1548,
          1550,
          1551,
          1552,
          1553,
          1554,
          1556,
          1557,
          1558,
          1560,
          1561,
          1562,
          1563,
          1564,
          1566,
          1567,
          1568,
          1570,
          1571,
          1572,
          1573,
          1575,
          1576,
          1577,
          1579,
          1580,
          1581,
          1582,
          1583,
          1584,
          1586,
          1587,
          1588,
          1590,
          1591,
          1592,
          1593,
          1595,
          1596,
          1597,
          1599,
          1600,
          1601,
          1602,
          1603,
          1605,
          1606,
          1607,
          1609,
          1610,
          1612,
          1613,
          1614,
          1616,
          1617,
          1618,
          1619,
          1620,
          1621,
          1622,
          1624,
          1625,
          1626,
          1628,
          1629,
          1630,
          1631,
          1633,
          1634,
          1635,
          1637,
          1638,
          1639,
          1640,
          1642,
          1643,
          1644,
          1646,
          1647,
          1648,
          1649,
          1650,
          1651,
          1653,
          1654,
          1655,
          1657,
          1658,
          1659,
          1660,
          1662,
          1663,
          1664,
          1666,
          1667,
          1668,
          1669,
          1671,
          1672,
          1673,
          1675,
          1676,
          1677,
          1678,
          1679,
          1680,
          1682,
          1684,
          1685,
          1686,
          1687,
          1689,
          1690,
          1691,
          1693,
          1694,
          1695,
          1696,
          1697,
          1699,
          1700,
          1701,
          1703,
          1704,
          1705,
          1706,
          1707,
          1709,
          1710,
          1711,
          1713,
          1714,
          1715,
          1716,
          1717,
          1719,
          1720,
          1721,
          1723,
          1724,
          1725,
          1726,
          1727,
          1728,
          1730,
          1731,
          1732,
          1734,
          1735,
          1737,
          1738,
          1739,
          1741,
          1742,
          1743,
          1744,
          1745,
          1746,
          1747,
          1749,
          1750,
          1751,
          1753,
          1754,
          1755,
          1756,
          1758,
          1759,
          1760,
          1762,
          1763,
          1764,
          1765,
          1767,
          1768,
          1769,
          1771,
          1772,
          1773,
          1774,
          1776,
          1777,
          1778,
          1780,
          1781,
          1782,
          1783,
          1784,
          1785,
          1787,
          1788,
          1789,
          1791,
          1792,
          1793,
          1794,
          1796,
          1797,
          1798,
          1800,
          1801,
          1802,
          1803,
          1805
         ],
         "y": [
          -266422.75,
          -309288.40625,
          -348015.0625,
          -376403.9375,
          -397867,
          -406589.0625,
          -413807.34375,
          -424192.25,
          -427684.96875,
          -430738.84375,
          -433108.21875,
          -437171.78125,
          -438830.75,
          -442347.75,
          -444176.875,
          -445642.4375,
          -447260.25,
          -447975.5,
          -449139.96875,
          -452045.84375,
          -453583.34375,
          -457530.4375,
          -458357.8125,
          -459259,
          -459613.5625,
          -460274.34375,
          -462630.5625,
          -463064.78125,
          -466102.84375,
          -466783.59375,
          -467173.4375,
          -467696.09375,
          -469281.84375,
          -470218.96875,
          -472202.65625,
          -472756.5625,
          -473164.28125,
          -473608.125,
          -473713.59375,
          -473928.46875,
          -475838.90625,
          -476600.4375,
          -477319.875,
          -477436.0625,
          -478252.34375,
          -478933.65625,
          -479182.125,
          -479991.90625,
          -480512.15625,
          -480822.1875,
          -481397.9375,
          -481900.4375,
          -482337.25,
          -482926.46875,
          -482945.75,
          -483616.78125,
          -484211.40625,
          -484337.6875,
          -485056.09375,
          -485490.625,
          -485694.96875,
          -486178.0625,
          -486615.96875,
          -486929.125,
          -487450.09375,
          -487790.46875,
          -488077.96875,
          -488449.96875,
          -488545.71875,
          -488929.875,
          -489448.0625,
          -489658.90625,
          -490315.40625,
          -490607.875,
          -490799.90625,
          -491089.21875,
          -491130.71875,
          -491382,
          -492046.84375,
          -492161.875,
          -492987.5625,
          -493225.71875,
          -493391.40625,
          -493607.03125,
          -493664.125,
          -493824.78125,
          -494515.78125,
          -494724.96875,
          -495548.5625,
          -495738.625,
          -495904.59375,
          -496052.625,
          -496137.75,
          -496207.96875,
          -496899.4375,
          -497224.53125,
          -498050.34375,
          -498200.46875,
          -498362.125,
          -498456.5,
          -498556.90625,
          -499052.3125,
          -499502.84375,
          -500133.3125,
          -500276.09375,
          -500454.15625,
          -500529.4375,
          -500697.4375,
          -501020,
          -501245.625,
          -501639.0625,
          -501794.71875,
          -501923.75,
          -502069.15625,
          -502145.71875,
          -502265.21875,
          -502611.6875,
          -502875.125,
          -503301.21875,
          -503436.09375,
          -503557.5,
          -503670.8125,
          -503748.90625,
          -503822.4375,
          -504196.84375,
          -504513.96875,
          -504976.96875,
          -505091.3125,
          -505207.09375,
          -505290.15625,
          -505370.75,
          -505397.4375,
          -505398.625,
          -505939.53125,
          -506013.5,
          -506728.0625,
          -506788.53125,
          -506918.84375,
          -507122.21875,
          -507282.375,
          -507532.6875,
          -507646.625,
          -507744.4375,
          -507855.3125,
          -507914.125,
          -508012.90625,
          -508240.875,
          -508425.4375,
          -508710.09375,
          -508812.84375,
          -508902.65625,
          -508994.90625,
          -509052.03125,
          -509118.84375,
          -509375.8125,
          -509594.5,
          -509916.71875,
          -510007.0625,
          -510094.8125,
          -510163.625,
          -510222.96875,
          -510255.5625,
          -510546.03125,
          -510815.4375,
          -511180.75,
          -511256.25,
          -511341.65625,
          -511388.1875,
          -511448.78125,
          -511673.40625,
          -511869.6875,
          -512168.96875,
          -512244.9375,
          -512333.375,
          -512377.34375,
          -512458.03125,
          -512629.46875,
          -512768.25,
          -512984.21875,
          -513065.28125,
          -513135.96875,
          -513209.40625,
          -513253.65625,
          -513308.65625,
          -513507.03125,
          -513672.53125,
          -513923.21875,
          -513995.15625,
          -514064.03125,
          -514119.84375,
          -514166.21875,
          -514193.5,
          -514422.09375,
          -514633.84375,
          -514923.84375,
          -514983.875,
          -515052.90625,
          -515089.3125,
          -515139.03125,
          -515318.46875,
          -515472.53125,
          -515712.1875,
          -515773.3125,
          -515843.90625,
          -515880.375,
          -515943.84375,
          -516084.25,
          -516199.34375,
          -516375.4375,
          -516441.875,
          -516499.65625,
          -516557.5,
          -516594.75,
          -516637.96875,
          -516800.6875,
          -516943.5625,
          -517151.0625,
          -517209.40625,
          -517266.1875,
          -517311.03125,
          -517350.5625,
          -517370.125,
          -517373.34375,
          -517628.21875,
          -517701.3125,
          -518045.59375,
          -518077.59375,
          -518146.46875,
          -518246.28125,
          -518328.6875,
          -518451.8125,
          -518512.21875,
          -518563.5,
          -518623.53125,
          -518654.53125,
          -518708.625,
          -518824.40625,
          -518921.5625,
          -519068.0625,
          -519123.75,
          -519172.1875,
          -519221.78125,
          -519254.15625,
          -519291.15625,
          -519427,
          -519550.78125,
          -519723.4375,
          -519773.125,
          -519822.1875,
          -519859.6875,
          -519895.0625,
          -519912.03125,
          -519916.65625,
          -520130,
          -520194.8125,
          -520481.8125,
          -520510.75,
          -520569.375,
          -520653.59375,
          -520727.03125,
          -520832.71875,
          -520884.34375,
          -520928.75,
          -520980.46875,
          -521008.125,
          -521054.28125,
          -521152.6875,
          -521242.84375,
          -521367.25,
          -521415.78125,
          -521458.46875,
          -521501.34375,
          -521530.625,
          -521562.1875,
          -521564.125,
          -521570.59375,
          -521782.9375,
          -521858.625,
          -521936.21875,
          -521943.15625,
          -522033.8125,
          -522100.03125,
          -522125.6875,
          -522205.375,
          -522262.0625,
          -522301.15625,
          -522365.625,
          -522369.625,
          -522437.59375,
          -522523.46875,
          -522546.6875,
          -522655.53125,
          -522705,
          -522737.65625,
          -522786.34375,
          -522797.28125,
          -522837.84375,
          -522949.46875,
          -522991.0625,
          -523138.65625,
          -523177.71875,
          -523215.5,
          -523244.625,
          -523272.09375,
          -523279.375,
          -523283.21875,
          -523467.875,
          -523476.53125,
          -523717.46875,
          -523743.1875,
          -523780.53125,
          -523785.09375,
          -523806.5,
          -523953.625,
          -523969.09375,
          -524166.28125,
          -524195,
          -524233.21875,
          -524243.875,
          -524272.53125,
          -524390.3125,
          -524424.125,
          -524577.3125,
          -524611.875,
          -524644.375,
          -524669.375,
          -524686.625,
          -524693.6875,
          -524836.75,
          -524908.5625,
          -525095.4375,
          -525122.0625,
          -525159.5,
          -525169,
          -525196.6875,
          -525306.375,
          -525343.125,
          -525489.9375,
          -525520.6875,
          -525554.9375,
          -525572.9375,
          -525599.1875,
          -525692.3125,
          -525759.875,
          -525879.125,
          -525912,
          -525944.6875,
          -525969.375,
          -525993,
          -526002.0625,
          -526004.25,
          -526152.4375,
          -526185.5625,
          -526385,
          -526403.8125,
          -526442.8125,
          -526502.4375,
          -526552.6875,
          -526627.5,
          -526661.9375,
          -526692.875,
          -526726.5,
          -526746.125,
          -526775.5625,
          -526845.625,
          -526913.8125,
          -527004.25,
          -527036.1875,
          -527066.4375,
          -527093.8125,
          -527116.25,
          -527133.25,
          -527138.5625,
          -527253,
          -527345.3125,
          -527498.1875,
          -527520,
          -527557.3125,
          -527560.875,
          -527595.8125,
          -527674.75,
          -527691.25,
          -527792.8125,
          -527824.6875,
          -527846.6875,
          -527874,
          -527883.1875,
          -527900.9375,
          -527999.375,
          -528030.1875,
          -528157.375,
          -528182.8125,
          -528209.4375,
          -528224.75,
          -528242.125,
          -528325.6875,
          -528397.0625,
          -528508.5625,
          -528533.8125,
          -528564.375,
          -528578.625,
          -528605.4375,
          -528670.0625,
          -528715,
          -528797.375,
          -528826.3125,
          -528851.125,
          -528876.125,
          -528892.75,
          -528909.1875,
          -528986.5,
          -529061.375,
          -529162.1875,
          -529187,
          -529215.3125,
          -529230.5,
          -529254.0625,
          -529255.125,
          -529263.125,
          -529378.875,
          -529425.0625,
          -529469.5,
          -529478.0625,
          -529531.4375,
          -529567.5625,
          -529586.5625,
          -529628.0625,
          -529662.375,
          -529690.3125,
          -529731.4375,
          -529734.4375,
          -529781.75,
          -529825.6875,
          -529840.0625,
          -529893.625,
          -529925.625,
          -529946.75,
          -529982.875,
          -529984.3125,
          -530022.625,
          -530076.625,
          -530089.5625,
          -530157.125,
          -530186.9375,
          -530205.4375,
          -530234.375,
          -530238.4375,
          -530266.125,
          -530331.875,
          -530348.875,
          -530434.3125,
          -530459.125,
          -530478.625,
          -530500.1875,
          -530510.125,
          -530523,
          -530604.375,
          -530638.8125,
          -530746.6875,
          -530766.5,
          -530790.4375,
          -530801.75,
          -530818.0625,
          -530885.875,
          -530933.5,
          -531022.4375,
          -531044.625,
          -531068.9375,
          -531082.5,
          -531102.375,
          -531157.3125,
          -531205.9375,
          -531276.6875,
          -531300.375,
          -531322.9375,
          -531341.375,
          -531358.0625,
          -531368.3125,
          -531372.375,
          -531461.125,
          -531506,
          -531623.4375,
          -531639.3125,
          -531665.875,
          -531668.75,
          -531691.375,
          -531755.8125,
          -531767.4375,
          -531850.75,
          -531872.3125,
          -531890.4375,
          -531907.625,
          -531916.5,
          -531925.1875,
          -532004.75,
          -532037.125,
          -532141.625,
          -532158.625,
          -532180.6875,
          -532189.1875,
          -532204.8125,
          -532267.875,
          -532297.3125,
          -532381,
          -532400.1875,
          -532420.875,
          -532433.375,
          -532449.5,
          -532502.8125,
          -532552.625,
          -532622.125,
          -532643.0625,
          -532663.9375,
          -532678.875,
          -532695.4375,
          -532700.9375,
          -532706.5625,
          -532790.0625,
          -532808.6875,
          -532918.875,
          -532933.25,
          -532955.6875,
          -532958.3125,
          -532976.1875,
          -533039.5,
          -533050.75,
          -533132.875,
          -533152.0625,
          -533168.9375,
          -533182.4375,
          -533191.6875,
          -533194.8125,
          -533273.5,
          -533313.4375,
          -533417.1875,
          -533430.375,
          -533452.5,
          -533455.6875,
          -533473.0625,
          -533531.9375,
          -533545,
          -533621.9375,
          -533640.625,
          -533657.1875,
          -533670.4375,
          -533680.75,
          -533682.375,
          -533755.9375,
          -533812.625,
          -533912.625,
          -533925.5,
          -533948.5,
          -533949.625,
          -533970.375,
          -534022,
          -534030.625,
          -534097.5,
          -534116.75,
          -534131.25,
          -534146.4375,
          -534152.5,
          -534162.125,
          -534226.625,
          -534250,
          -534335.375,
          -534350.25,
          -534367.875,
          -534375.1875,
          -534388.4375,
          -534440.8125,
          -534469.5,
          -534538.6875,
          -534554.6875,
          -534572.25,
          -534582.6875,
          -534596.5,
          -534641.1875,
          -534682.375,
          -534740.3125,
          -534757.125,
          -534774.875,
          -534788.25,
          -534801.875,
          -534806.3125,
          -534812.25,
          -534879.875,
          -534897.125,
          -534987.5,
          -535000,
          -535017.875,
          -535021.25,
          -535035.1875,
          -535088.0625,
          -535100.125,
          -535169,
          -535185.4375,
          -535199.5625,
          -535210.375,
          -535219.125,
          -535221.4375,
          -535287.625,
          -535327.125,
          -535413.875,
          -535425.625,
          -535445.3125,
          -535446.9375,
          -535463,
          -535511.125,
          -535520.6875,
          -535583.5,
          -535598.875,
          -535612.9375,
          -535624.1875,
          -535632.25,
          -535635.8125,
          -535696.5625,
          -535733.6875,
          -535814.4375,
          -535826.0625,
          -535844.3125,
          -535846.6875,
          -535862.6875,
          -535907,
          -535917,
          -535974.6875,
          -535990.125,
          -536002.375,
          -536015.1875,
          -536021.8125,
          -536027.75,
          -536082.125,
          -536112.5,
          -536184.8125,
          -536195.8125,
          -536213.0625,
          -536218.0625,
          -536230.4375,
          -536273.5625,
          -536291.5,
          -536347.75,
          -536361.5625,
          -536376.4375,
          -536386.1875,
          -536396.375,
          -536398.125,
          -536399.1875,
          -536468.8125,
          -536471.75,
          -536564.1875,
          -536572.125,
          -536588.375,
          -536617.4375,
          -536643.6875,
          -536681.3125,
          -536696.5625,
          -536710.875,
          -536724.3125,
          -536734.4375,
          -536744.3125,
          -536748.125,
          -536748.75,
          -536813.75,
          -536825.1875,
          -536912.8125,
          -536920.75,
          -536936.9375,
          -536963.375,
          -536987.0625,
          -537021,
          -537035.25,
          -537048.8125,
          -537062.875,
          -537072.4375,
          -537083.5,
          -537085.125,
          -537089.4375,
          -537148.3125,
          -537152.375,
          -537231.25,
          -537240.25,
          -537254.5,
          -537256.1875,
          -537265.5,
          -537311.8125,
          -537319.5625,
          -537381.625,
          -537393.5,
          -537405.25,
          -537412.25,
          -537421,
          -537460.875,
          -537487.8125,
          -537540.875,
          -537553.0625,
          -537566.5,
          -537573.5625,
          -537584.75,
          -537617.1875,
          -537645.4375,
          -537689.3125,
          -537701.8125,
          -537714.875,
          -537724.3125,
          -537734.6875,
          -537738.0625,
          -537742.625,
          -537793.625,
          -537805.0625,
          -537872.625,
          -537881.8125,
          -537894.875,
          -537898.1875,
          -537908.0625,
          -537947.8125,
          -537960.1875,
          -538013.6875,
          -538025.375,
          -538037.0625,
          -538044.5,
          -538052.5,
          -538087.5625,
          -538118.3125,
          -538164.375,
          -538176.4375,
          -538188.9375,
          -538196.5625,
          -538207.5,
          -538207.6875,
          -538212.5625,
          -538265,
          -538286.625,
          -538306.4375,
          -538310.5625,
          -538334.5625,
          -538352.1875,
          -538361.25,
          -538381.125,
          -538397,
          -538409.8125,
          -538428.1875,
          -538431,
          -538451.25,
          -538472.75,
          -538481.1875,
          -538507.125,
          -538522.3125,
          -538532.1875,
          -538547.625,
          -538551,
          -538566.1875,
          -538592.875,
          -538602.75,
          -538636.375,
          -538650.1875,
          -538659.375,
          -538672.125,
          -538677.3125,
          -538686.125,
          -538719.6875,
          -538737.6875,
          -538781.375,
          -538792.375,
          -538803.4375,
          -538811.1875,
          -538820.125,
          -538821.8125,
          -538823.1875,
          -538876.5625,
          -538879.75,
          -538950.375,
          -538957.375,
          -538970.625,
          -538992.6875,
          -539013.5625,
          -539042.5,
          -539054.8125,
          -539066.1875,
          -539077.25,
          -539085.25,
          -539093.375,
          -539096.3125,
          -539097.5625,
          -539147.875,
          -539155.5,
          -539222.4375,
          -539229.5,
          -539241.9375,
          -539242.5625,
          -539252,
          -539290,
          -539291.875,
          -539342.1875,
          -539352,
          -539361.125,
          -539367.6875,
          -539372.75,
          -539407.3125,
          -539438,
          -539483.9375,
          -539493.5625,
          -539505.8125,
          -539509.75,
          -539520.9375,
          -539547.6875,
          -539564.375,
          -539598.8125,
          -539609.8125,
          -539619.75,
          -539628.9375,
          -539636.0625,
          -539640.625,
          -539641.9375,
          -539686.625,
          -539703.75,
          -539762.625,
          -539770.0625,
          -539782.5,
          -539782.875,
          -539793.5,
          -539825.75,
          -539831.125,
          -539872.875,
          -539883.4375,
          -539891.9375,
          -539899.5625,
          -539904.5,
          -539906.625,
          -539948.125,
          -539968.0625,
          -540023.125,
          -540030.875,
          -540042.875,
          -540043.9375,
          -540054.25,
          -540084.25,
          -540090.625,
          -540130.4375,
          -540140.375,
          -540148.6875,
          -540156.125,
          -540161.3125,
          -540163.375,
          -540201.9375,
          -540224.625,
          -540275.875,
          -540282.6875,
          -540294.3125,
          -540296.375,
          -540306.25,
          -540334.75,
          -540342,
          -540379.4375,
          -540389.125,
          -540397.75,
          -540405.5625,
          -540410.875,
          -540413.4375,
          -540449.25,
          -540472.875,
          -540520.625,
          -540527.8125,
          -540538.9375,
          -540541.75,
          -540551.375,
          -540578.125,
          -540587.5,
          -540622,
          -540631.9375,
          -540640.5,
          -540647.875,
          -540652.5625,
          -540656.125,
          -540689.6875,
          -540715.0625,
          -540760.0625,
          -540767.625,
          -540778.5,
          -540781.3125,
          -540790.5,
          -540815.5,
          -540825.4375,
          -540858.875,
          -540867.5625,
          -540876.3125,
          -540883.0625,
          -540888.5,
          -540892.3125,
          -540923.5,
          -540949.0625,
          -540991.0625,
          -540998.875,
          -541009.375,
          -541012.625,
          -541021.5,
          -541045.375,
          -541056.8125,
          -541088.1875,
          -541097.4375,
          -541105.5625,
          -541113.0625,
          -541119.1875,
          -541122.5625,
          -541152.125,
          -541180.8125,
          -541220.125,
          -541228.0625,
          -541238.25,
          -541242,
          -541250.875,
          -541272.75,
          -541284.6875,
          -541313.3125,
          -541322.5,
          -541330.625,
          -541338.6875,
          -541344,
          -541348.5,
          -541375.6875,
          -541402.9375,
          -541439.0625,
          -541446.5,
          -541456,
          -541460.9375,
          -541468.9375,
          -541489.5625,
          -541503.9375,
          -541531.3125,
          -541540.1875,
          -541548.8125,
          -541555.875,
          -541562.1875,
          -541565.625,
          -541567.0625,
          -541601.875,
          -541619.8125,
          -541666.75,
          -541672.8125,
          -541682.375,
          -541683.375,
          -541692.125,
          -541717.5,
          -541721.3125,
          -541755.875,
          -541764.25,
          -541770.875,
          -541777.3125,
          -541781.0625,
          -541783.0625,
          -541815.75,
          -541832.375,
          -541875.5,
          -541882,
          -541891.4375,
          -541893.125,
          -541901.125,
          -541925.1875,
          -541931.125,
          -541963.875,
          -541971.625,
          -541979,
          -541985.125,
          -541989.5625,
          -541991.5,
          -542022.6875,
          -542043.125,
          -542083.3125,
          -542089.9375,
          -542099.375,
          -542101.625,
          -542109.9375,
          -542131.9375,
          -542139.0625,
          -542168.8125,
          -542176.625,
          -542184.4375,
          -542190.125,
          -542194.625,
          -542197.5625,
          -542225.625,
          -542245.8125,
          -542283.25,
          -542290,
          -542298.8125,
          -542301.8125,
          -542309.75,
          -542331.1875,
          -542339.6875,
          -542367.6875,
          -542375.1875,
          -542383.4375,
          -542388.9375,
          -542393.875,
          -542396.875,
          -542423.75,
          -542448,
          -542483.875,
          -542490.125,
          -542499.5,
          -542501.5625,
          -542509.625,
          -542529.8125,
          -542538.75,
          -542564.75,
          -542573.1875,
          -542580.3125,
          -542586.75,
          -542590.625,
          -542594.1875,
          -542619.5625,
          -542641.375,
          -542674.3125,
          -542681.1875,
          -542689.125,
          -542692.9375,
          -542699.875,
          -542719.125,
          -542730.625,
          -542755.6875,
          -542763.625,
          -542770.5,
          -542776.9375,
          -542782.0625,
          -542785.3125,
          -542785.6875,
          -542818.0625,
          -542830.625,
          -542872.6875,
          -542878.125,
          -542886.8125,
          -542900.0625,
          -542913.8125,
          -542930.8125,
          -542938.4375,
          -542946.0625,
          -542954.125,
          -542959,
          -542965.375,
          -542967.9375,
          -542970.75,
          -542999.5,
          -543006.5625,
          -543045.3125,
          -543050.875,
          -543058.625,
          -543060.5,
          -543067.0625,
          -543088.8125,
          -543096.9375,
          -543126.9375,
          -543133.9375,
          -543140.5625,
          -543145.1875,
          -543149.4375,
          -543149.625,
          -543149.6875,
          -543187.3125,
          -543200.5625,
          -543215.0625,
          -543215.1875,
          -543232.0625,
          -543242.75,
          -543246.25,
          -543258.5,
          -543269.5,
          -543276.5625,
          -543289.125,
          -543297.3125,
          -543305.5625,
          -543314.0625,
          -543318.0625,
          -543327.875,
          -543340.75,
          -543350,
          -543365.125,
          -543373.125,
          -543380.1875,
          -543387.6875,
          -543392,
          -543399.625,
          -543414.8125,
          -543427.375,
          -543447.5,
          -543455.125,
          -543461.1875,
          -543468.375,
          -543473.375,
          -543477.375,
          -543478.6875,
          -543505.0625,
          -543525.125,
          -543560.5625,
          -543565.8125,
          -543574.3125,
          -543575.5,
          -543582.8125,
          -543601.9375,
          -543607.5625,
          -543632.5,
          -543639.4375,
          -543645.875,
          -543651.3125,
          -543654.5,
          -543657.375,
          -543681.4375,
          -543697.625,
          -543730,
          -543735.4375,
          -543743.5,
          -543746.25,
          -543752.5,
          -543770.6875,
          -543778.5625,
          -543803.4375,
          -543809.875,
          -543815.8125,
          -543820.875,
          -543825.6875,
          -543827.5625,
          -543827.625,
          -543859.0625,
          -543867.3125,
          -543909.0625,
          -543913.3125,
          -543921.8125,
          -543934.1875,
          -543944.5,
          -543960.5625,
          -543967.9375,
          -543974.9375,
          -543981.75,
          -543985.8125,
          -543992,
          -543992.1875,
          -543995.25,
          -544023.3125,
          -544024.8125,
          -544062.625,
          -544067.125,
          -544074.125,
          -544075.8125,
          -544079.9375,
          -544102.9375,
          -544108.0625,
          -544138.0625,
          -544143.875,
          -544150.0625,
          -544153.6875,
          -544158.125,
          -544176.875,
          -544191,
          -544217.1875,
          -544223,
          -544229.1875,
          -544233.3125,
          -544239.125,
          -544254.9375,
          -544270,
          -544290.625,
          -544297.5,
          -544304.4375,
          -544309.3125,
          -544314.75,
          -544316.5625,
          -544319.3125,
          -544344.5,
          -544352.0625,
          -544384.9375,
          -544389.9375,
          -544397.3125,
          -544398.375,
          -544403.6875,
          -544424.0625,
          -544430.125,
          -544456.5,
          -544462.4375,
          -544468.0625,
          -544471.8125,
          -544476.375,
          -544493.375,
          -544511.9375,
          -544534.9375,
          -544541.0625,
          -544547.5,
          -544551.3125,
          -544557.375,
          -544558.0625,
          -544560.75,
          -544586.375,
          -544587.1875,
          -544622.375,
          -544627,
          -544632.625,
          -544634.25,
          -544638.375,
          -544660.125,
          -544666.375,
          -544694.25,
          -544700.125,
          -544706.5625,
          -544709.4375,
          -544713.375,
          -544731.625,
          -544743.9375,
          -544768.125,
          -544773.25,
          -544780.6875,
          -544783.5625,
          -544788.6875,
          -544788.75,
          -544790.6875,
          -544818.6875,
          -544828.9375,
          -544839.625,
          -544841.125,
          -544854.3125,
          -544862.9375,
          -544867.375,
          -544878,
          -544886.3125,
          -544892,
          -544901.875,
          -544902.0625,
          -544912.9375,
          -544924,
          -544927.9375,
          -544941.875,
          -544948.9375,
          -544954.5625,
          -544962.25,
          -544963.8125,
          -544971.3125,
          -544985.5,
          -544989.875,
          -545008.1875,
          -545014.5,
          -545019.8125,
          -545026.125,
          -545028.5,
          -545032.875,
          -545051.0625,
          -545060.4375,
          -545084.0625,
          -545090.4375,
          -545095.4375,
          -545099.3125,
          -545104,
          -545119.25,
          -545134.5,
          -545154.5625,
          -545160.875,
          -545167.375,
          -545170.75,
          -545176.125,
          -545177.25,
          -545179.375,
          -545203,
          -545207.125,
          -545238.75,
          -545243.0625,
          -545249.5,
          -545251.125,
          -545255.75,
          -545274.1875,
          -545280.1875,
          -545304.5625,
          -545309.625,
          -545315.1875,
          -545319,
          -545322.3125,
          -545322.625,
          -545346.0625,
          -545366.6875,
          -545398.6875,
          -545402.1875,
          -545410.125,
          -545419,
          -545428.625,
          -545440.375,
          -545446.4375,
          -545452.5625,
          -545459.125,
          -545463.25,
          -545468.5625,
          -545470,
          -545473.6875,
          -545494.375,
          -545498,
          -545525.375,
          -545530.5625,
          -545535.6875,
          -545538.8125,
          -545542.6875,
          -545559.75,
          -545569.875,
          -545592.6875,
          -545598,
          -545603.5625,
          -545606.6875,
          -545611.5,
          -545625.9375,
          -545639.0625,
          -545658.6875,
          -545664.5625,
          -545670.125,
          -545673.5625,
          -545678.6875,
          -545680.25,
          -545682.375,
          -545704.75,
          -545707.9375,
          -545738.25,
          -545742.4375,
          -545748.0625,
          -545749.6875,
          -545753.6875,
          -545771.5625,
          -545777.9375,
          -545801.875,
          -545806.5625,
          -545812.8125,
          -545815.5,
          -545819.375,
          -545834.5,
          -545847.3125,
          -545868.375,
          -545873.375,
          -545879.375,
          -545882.6875,
          -545887.25,
          -545888.4375,
          -545890.1875,
          -545914,
          -545923.9375,
          -545932.875,
          -545934.3125,
          -545945.6875,
          -545953.625,
          -545957.875,
          -545966.875,
          -545974,
          -545979.75,
          -545988.375,
          -545989.25,
          -545999.0625,
          -546008.5,
          -546012.4375,
          -546024.8125,
          -546031.125,
          -546035.9375,
          -546042.6875,
          -546043.9375,
          -546051.375,
          -546064.0625,
          -546067.625,
          -546083.25,
          -546089.375,
          -546093.875,
          -546099.375,
          -546101.5625,
          -546105.6875,
          -546121.9375,
          -546129.625,
          -546149.6875,
          -546154.875,
          -546160.75,
          -546164.1875,
          -546167.6875,
          -546167.9375,
          -546168.375,
          -546193.6875,
          -546194.375,
          -546228.6875,
          -546231.6875,
          -546238.0625,
          -546248.375,
          -546257.375,
          -546271.375,
          -546277.3125,
          -546282.25,
          -546287.125,
          -546290.8125,
          -546294.9375,
          -546295.625,
          -546296.625,
          -546320.25,
          -546322.125,
          -546354.6875,
          -546357.625,
          -546363.125,
          -546363.25,
          -546368,
          -546385.9375,
          -546386.625,
          -546411,
          -546415.625,
          -546420.0625,
          -546423.1875,
          -546425.9375,
          -546442.3125,
          -546455.3125,
          -546477.75,
          -546482.1875,
          -546487.5,
          -546489.4375,
          -546494.8125,
          -546507.75,
          -546516,
          -546533.5625,
          -546538.75,
          -546543.8125,
          -546547.75,
          -546552,
          -546552.75,
          -546553.6875,
          -546575.3125,
          -546581.3125,
          -546611,
          -546614.25,
          -546620,
          -546620.0625,
          -546624.4375,
          -546641.3125,
          -546643.375,
          -546665.25,
          -546669.875,
          -546674.375,
          -546677.375,
          -546679.875,
          -546695.25
         ]
        }
       ],
       "layout": {
        "template": {
         "data": {
          "bar": [
           {
            "error_x": {
             "color": "#2a3f5f"
            },
            "error_y": {
             "color": "#2a3f5f"
            },
            "marker": {
             "line": {
              "color": "#E5ECF6",
              "width": 0.5
             },
             "pattern": {
              "fillmode": "overlay",
              "size": 10,
              "solidity": 0.2
             }
            },
            "type": "bar"
           }
          ],
          "barpolar": [
           {
            "marker": {
             "line": {
              "color": "#E5ECF6",
              "width": 0.5
             },
             "pattern": {
              "fillmode": "overlay",
              "size": 10,
              "solidity": 0.2
             }
            },
            "type": "barpolar"
           }
          ],
          "carpet": [
           {
            "aaxis": {
             "endlinecolor": "#2a3f5f",
             "gridcolor": "white",
             "linecolor": "white",
             "minorgridcolor": "white",
             "startlinecolor": "#2a3f5f"
            },
            "baxis": {
             "endlinecolor": "#2a3f5f",
             "gridcolor": "white",
             "linecolor": "white",
             "minorgridcolor": "white",
             "startlinecolor": "#2a3f5f"
            },
            "type": "carpet"
           }
          ],
          "choropleth": [
           {
            "colorbar": {
             "outlinewidth": 0,
             "ticks": ""
            },
            "type": "choropleth"
           }
          ],
          "contour": [
           {
            "colorbar": {
             "outlinewidth": 0,
             "ticks": ""
            },
            "colorscale": [
             [
              0,
              "#0d0887"
             ],
             [
              0.1111111111111111,
              "#46039f"
             ],
             [
              0.2222222222222222,
              "#7201a8"
             ],
             [
              0.3333333333333333,
              "#9c179e"
             ],
             [
              0.4444444444444444,
              "#bd3786"
             ],
             [
              0.5555555555555556,
              "#d8576b"
             ],
             [
              0.6666666666666666,
              "#ed7953"
             ],
             [
              0.7777777777777778,
              "#fb9f3a"
             ],
             [
              0.8888888888888888,
              "#fdca26"
             ],
             [
              1,
              "#f0f921"
             ]
            ],
            "type": "contour"
           }
          ],
          "contourcarpet": [
           {
            "colorbar": {
             "outlinewidth": 0,
             "ticks": ""
            },
            "type": "contourcarpet"
           }
          ],
          "heatmap": [
           {
            "colorbar": {
             "outlinewidth": 0,
             "ticks": ""
            },
            "colorscale": [
             [
              0,
              "#0d0887"
             ],
             [
              0.1111111111111111,
              "#46039f"
             ],
             [
              0.2222222222222222,
              "#7201a8"
             ],
             [
              0.3333333333333333,
              "#9c179e"
             ],
             [
              0.4444444444444444,
              "#bd3786"
             ],
             [
              0.5555555555555556,
              "#d8576b"
             ],
             [
              0.6666666666666666,
              "#ed7953"
             ],
             [
              0.7777777777777778,
              "#fb9f3a"
             ],
             [
              0.8888888888888888,
              "#fdca26"
             ],
             [
              1,
              "#f0f921"
             ]
            ],
            "type": "heatmap"
           }
          ],
          "heatmapgl": [
           {
            "colorbar": {
             "outlinewidth": 0,
             "ticks": ""
            },
            "colorscale": [
             [
              0,
              "#0d0887"
             ],
             [
              0.1111111111111111,
              "#46039f"
             ],
             [
              0.2222222222222222,
              "#7201a8"
             ],
             [
              0.3333333333333333,
              "#9c179e"
             ],
             [
              0.4444444444444444,
              "#bd3786"
             ],
             [
              0.5555555555555556,
              "#d8576b"
             ],
             [
              0.6666666666666666,
              "#ed7953"
             ],
             [
              0.7777777777777778,
              "#fb9f3a"
             ],
             [
              0.8888888888888888,
              "#fdca26"
             ],
             [
              1,
              "#f0f921"
             ]
            ],
            "type": "heatmapgl"
           }
          ],
          "histogram": [
           {
            "marker": {
             "pattern": {
              "fillmode": "overlay",
              "size": 10,
              "solidity": 0.2
             }
            },
            "type": "histogram"
           }
          ],
          "histogram2d": [
           {
            "colorbar": {
             "outlinewidth": 0,
             "ticks": ""
            },
            "colorscale": [
             [
              0,
              "#0d0887"
             ],
             [
              0.1111111111111111,
              "#46039f"
             ],
             [
              0.2222222222222222,
              "#7201a8"
             ],
             [
              0.3333333333333333,
              "#9c179e"
             ],
             [
              0.4444444444444444,
              "#bd3786"
             ],
             [
              0.5555555555555556,
              "#d8576b"
             ],
             [
              0.6666666666666666,
              "#ed7953"
             ],
             [
              0.7777777777777778,
              "#fb9f3a"
             ],
             [
              0.8888888888888888,
              "#fdca26"
             ],
             [
              1,
              "#f0f921"
             ]
            ],
            "type": "histogram2d"
           }
          ],
          "histogram2dcontour": [
           {
            "colorbar": {
             "outlinewidth": 0,
             "ticks": ""
            },
            "colorscale": [
             [
              0,
              "#0d0887"
             ],
             [
              0.1111111111111111,
              "#46039f"
             ],
             [
              0.2222222222222222,
              "#7201a8"
             ],
             [
              0.3333333333333333,
              "#9c179e"
             ],
             [
              0.4444444444444444,
              "#bd3786"
             ],
             [
              0.5555555555555556,
              "#d8576b"
             ],
             [
              0.6666666666666666,
              "#ed7953"
             ],
             [
              0.7777777777777778,
              "#fb9f3a"
             ],
             [
              0.8888888888888888,
              "#fdca26"
             ],
             [
              1,
              "#f0f921"
             ]
            ],
            "type": "histogram2dcontour"
           }
          ],
          "mesh3d": [
           {
            "colorbar": {
             "outlinewidth": 0,
             "ticks": ""
            },
            "type": "mesh3d"
           }
          ],
          "parcoords": [
           {
            "line": {
             "colorbar": {
              "outlinewidth": 0,
              "ticks": ""
             }
            },
            "type": "parcoords"
           }
          ],
          "pie": [
           {
            "automargin": true,
            "type": "pie"
           }
          ],
          "scatter": [
           {
            "fillpattern": {
             "fillmode": "overlay",
             "size": 10,
             "solidity": 0.2
            },
            "type": "scatter"
           }
          ],
          "scatter3d": [
           {
            "line": {
             "colorbar": {
              "outlinewidth": 0,
              "ticks": ""
             }
            },
            "marker": {
             "colorbar": {
              "outlinewidth": 0,
              "ticks": ""
             }
            },
            "type": "scatter3d"
           }
          ],
          "scattercarpet": [
           {
            "marker": {
             "colorbar": {
              "outlinewidth": 0,
              "ticks": ""
             }
            },
            "type": "scattercarpet"
           }
          ],
          "scattergeo": [
           {
            "marker": {
             "colorbar": {
              "outlinewidth": 0,
              "ticks": ""
             }
            },
            "type": "scattergeo"
           }
          ],
          "scattergl": [
           {
            "marker": {
             "colorbar": {
              "outlinewidth": 0,
              "ticks": ""
             }
            },
            "type": "scattergl"
           }
          ],
          "scattermapbox": [
           {
            "marker": {
             "colorbar": {
              "outlinewidth": 0,
              "ticks": ""
             }
            },
            "type": "scattermapbox"
           }
          ],
          "scatterpolar": [
           {
            "marker": {
             "colorbar": {
              "outlinewidth": 0,
              "ticks": ""
             }
            },
            "type": "scatterpolar"
           }
          ],
          "scatterpolargl": [
           {
            "marker": {
             "colorbar": {
              "outlinewidth": 0,
              "ticks": ""
             }
            },
            "type": "scatterpolargl"
           }
          ],
          "scatterternary": [
           {
            "marker": {
             "colorbar": {
              "outlinewidth": 0,
              "ticks": ""
             }
            },
            "type": "scatterternary"
           }
          ],
          "surface": [
           {
            "colorbar": {
             "outlinewidth": 0,
             "ticks": ""
            },
            "colorscale": [
             [
              0,
              "#0d0887"
             ],
             [
              0.1111111111111111,
              "#46039f"
             ],
             [
              0.2222222222222222,
              "#7201a8"
             ],
             [
              0.3333333333333333,
              "#9c179e"
             ],
             [
              0.4444444444444444,
              "#bd3786"
             ],
             [
              0.5555555555555556,
              "#d8576b"
             ],
             [
              0.6666666666666666,
              "#ed7953"
             ],
             [
              0.7777777777777778,
              "#fb9f3a"
             ],
             [
              0.8888888888888888,
              "#fdca26"
             ],
             [
              1,
              "#f0f921"
             ]
            ],
            "type": "surface"
           }
          ],
          "table": [
           {
            "cells": {
             "fill": {
              "color": "#EBF0F8"
             },
             "line": {
              "color": "white"
             }
            },
            "header": {
             "fill": {
              "color": "#C8D4E3"
             },
             "line": {
              "color": "white"
             }
            },
            "type": "table"
           }
          ]
         },
         "layout": {
          "annotationdefaults": {
           "arrowcolor": "#2a3f5f",
           "arrowhead": 0,
           "arrowwidth": 1
          },
          "autotypenumbers": "strict",
          "coloraxis": {
           "colorbar": {
            "outlinewidth": 0,
            "ticks": ""
           }
          },
          "colorscale": {
           "diverging": [
            [
             0,
             "#8e0152"
            ],
            [
             0.1,
             "#c51b7d"
            ],
            [
             0.2,
             "#de77ae"
            ],
            [
             0.3,
             "#f1b6da"
            ],
            [
             0.4,
             "#fde0ef"
            ],
            [
             0.5,
             "#f7f7f7"
            ],
            [
             0.6,
             "#e6f5d0"
            ],
            [
             0.7,
             "#b8e186"
            ],
            [
             0.8,
             "#7fbc41"
            ],
            [
             0.9,
             "#4d9221"
            ],
            [
             1,
             "#276419"
            ]
           ],
           "sequential": [
            [
             0,
             "#0d0887"
            ],
            [
             0.1111111111111111,
             "#46039f"
            ],
            [
             0.2222222222222222,
             "#7201a8"
            ],
            [
             0.3333333333333333,
             "#9c179e"
            ],
            [
             0.4444444444444444,
             "#bd3786"
            ],
            [
             0.5555555555555556,
             "#d8576b"
            ],
            [
             0.6666666666666666,
             "#ed7953"
            ],
            [
             0.7777777777777778,
             "#fb9f3a"
            ],
            [
             0.8888888888888888,
             "#fdca26"
            ],
            [
             1,
             "#f0f921"
            ]
           ],
           "sequentialminus": [
            [
             0,
             "#0d0887"
            ],
            [
             0.1111111111111111,
             "#46039f"
            ],
            [
             0.2222222222222222,
             "#7201a8"
            ],
            [
             0.3333333333333333,
             "#9c179e"
            ],
            [
             0.4444444444444444,
             "#bd3786"
            ],
            [
             0.5555555555555556,
             "#d8576b"
            ],
            [
             0.6666666666666666,
             "#ed7953"
            ],
            [
             0.7777777777777778,
             "#fb9f3a"
            ],
            [
             0.8888888888888888,
             "#fdca26"
            ],
            [
             1,
             "#f0f921"
            ]
           ]
          },
          "colorway": [
           "#636efa",
           "#EF553B",
           "#00cc96",
           "#ab63fa",
           "#FFA15A",
           "#19d3f3",
           "#FF6692",
           "#B6E880",
           "#FF97FF",
           "#FECB52"
          ],
          "font": {
           "color": "#2a3f5f"
          },
          "geo": {
           "bgcolor": "white",
           "lakecolor": "white",
           "landcolor": "#E5ECF6",
           "showlakes": true,
           "showland": true,
           "subunitcolor": "white"
          },
          "hoverlabel": {
           "align": "left"
          },
          "hovermode": "closest",
          "mapbox": {
           "style": "light"
          },
          "paper_bgcolor": "white",
          "plot_bgcolor": "#E5ECF6",
          "polar": {
           "angularaxis": {
            "gridcolor": "white",
            "linecolor": "white",
            "ticks": ""
           },
           "bgcolor": "#E5ECF6",
           "radialaxis": {
            "gridcolor": "white",
            "linecolor": "white",
            "ticks": ""
           }
          },
          "scene": {
           "xaxis": {
            "backgroundcolor": "#E5ECF6",
            "gridcolor": "white",
            "gridwidth": 2,
            "linecolor": "white",
            "showbackground": true,
            "ticks": "",
            "zerolinecolor": "white"
           },
           "yaxis": {
            "backgroundcolor": "#E5ECF6",
            "gridcolor": "white",
            "gridwidth": 2,
            "linecolor": "white",
            "showbackground": true,
            "ticks": "",
            "zerolinecolor": "white"
           },
           "zaxis": {
            "backgroundcolor": "#E5ECF6",
            "gridcolor": "white",
            "gridwidth": 2,
            "linecolor": "white",
            "showbackground": true,
            "ticks": "",
            "zerolinecolor": "white"
           }
          },
          "shapedefaults": {
           "line": {
            "color": "#2a3f5f"
           }
          },
          "ternary": {
           "aaxis": {
            "gridcolor": "white",
            "linecolor": "white",
            "ticks": ""
           },
           "baxis": {
            "gridcolor": "white",
            "linecolor": "white",
            "ticks": ""
           },
           "bgcolor": "#E5ECF6",
           "caxis": {
            "gridcolor": "white",
            "linecolor": "white",
            "ticks": ""
           }
          },
          "title": {
           "x": 0.05
          },
          "xaxis": {
           "automargin": true,
           "gridcolor": "white",
           "linecolor": "white",
           "ticks": "",
           "title": {
            "standoff": 15
           },
           "zerolinecolor": "white",
           "zerolinewidth": 2
          },
          "yaxis": {
           "automargin": true,
           "gridcolor": "white",
           "linecolor": "white",
           "ticks": "",
           "title": {
            "standoff": 15
           },
           "zerolinecolor": "white",
           "zerolinewidth": 2
          }
         }
        },
        "title": {
         "text": "Energy Minimization"
        },
        "xaxis": {
         "title": {
          "text": "Energy Minimization Step"
         }
        },
        "yaxis": {
         "title": {
          "text": "Potential Energy KJ/mol-1"
         }
        }
       }
      },
      "text/html": [
       "<div>                            <div id=\"74920ec8-d31d-4643-b7ef-9c57b1791a23\" class=\"plotly-graph-div\" style=\"height:525px; width:100%;\"></div>            <script type=\"text/javascript\">                require([\"plotly\"], function(Plotly) {                    window.PLOTLYENV=window.PLOTLYENV || {};                                    if (document.getElementById(\"74920ec8-d31d-4643-b7ef-9c57b1791a23\")) {                    Plotly.newPlot(                        \"74920ec8-d31d-4643-b7ef-9c57b1791a23\",                        [{\"x\":[0.0,1.0,2.0,3.0,4.0,5.0,6.0,7.0,8.0,9.0,10.0,12.0,13.0,14.0,16.0,17.0,18.0,19.0,20.0,22.0,23.0,24.0,26.0,27.0,28.0,29.0,31.0,32.0,33.0,35.0,36.0,37.0,39.0,40.0,41.0,43.0,44.0,45.0,46.0,47.0,49.0,51.0,52.0,53.0,54.0,56.0,57.0,58.0,60.0,61.0,62.0,64.0,65.0,66.0,67.0,68.0,70.0,71.0,72.0,74.0,75.0,76.0,78.0,79.0,80.0,82.0,83.0,84.0,85.0,86.0,88.0,89.0,90.0,92.0,93.0,94.0,95.0,96.0,98.0,99.0,100.0,102.0,103.0,104.0,105.0,106.0,108.0,109.0,110.0,112.0,113.0,114.0,115.0,116.0,118.0,119.0,120.0,122.0,123.0,124.0,125.0,127.0,128.0,129.0,131.0,132.0,133.0,134.0,136.0,137.0,138.0,140.0,141.0,142.0,143.0,144.0,146.0,147.0,148.0,150.0,151.0,152.0,153.0,154.0,156.0,157.0,158.0,160.0,161.0,162.0,163.0,164.0,165.0,167.0,168.0,169.0,171.0,172.0,174.0,175.0,176.0,178.0,179.0,180.0,181.0,182.0,184.0,185.0,186.0,188.0,189.0,190.0,191.0,192.0,194.0,195.0,196.0,198.0,199.0,200.0,201.0,202.0,204.0,205.0,206.0,208.0,209.0,210.0,211.0,213.0,214.0,215.0,217.0,218.0,219.0,220.0,222.0,223.0,224.0,226.0,227.0,228.0,229.0,230.0,232.0,233.0,234.0,236.0,237.0,238.0,239.0,240.0,242.0,243.0,244.0,246.0,247.0,248.0,249.0,251.0,252.0,253.0,255.0,256.0,257.0,258.0,260.0,261.0,262.0,264.0,265.0,266.0,267.0,268.0,270.0,271.0,272.0,274.0,275.0,276.0,277.0,278.0,279.0,281.0,282.0,283.0,285.0,286.0,288.0,289.0,290.0,292.0,293.0,294.0,295.0,296.0,298.0,299.0,300.0,302.0,303.0,304.0,305.0,306.0,308.0,309.0,310.0,312.0,313.0,314.0,315.0,316.0,317.0,319.0,320.0,321.0,323.0,324.0,326.0,327.0,328.0,330.0,331.0,332.0,333.0,334.0,336.0,337.0,338.0,340.0,341.0,342.0,343.0,344.0,345.0,346.0,348.0,350.0,351.0,352.0,353.0,355.0,356.0,357.0,359.0,360.0,361.0,362.0,363.0,365.0,366.0,367.0,369.0,370.0,371.0,372.0,373.0,375.0,376.0,377.0,379.0,380.0,381.0,382.0,383.0,384.0,386.0,387.0,388.0,390.0,391.0,392.0,393.0,395.0,396.0,397.0,399.0,400.0,401.0,402.0,404.0,405.0,406.0,408.0,409.0,410.0,411.0,412.0,414.0,415.0,416.0,418.0,419.0,420.0,421.0,423.0,424.0,425.0,427.0,428.0,429.0,430.0,432.0,433.0,434.0,436.0,437.0,438.0,439.0,440.0,441.0,443.0,444.0,445.0,447.0,448.0,450.0,451.0,452.0,454.0,455.0,456.0,457.0,458.0,460.0,461.0,462.0,464.0,465.0,466.0,467.0,468.0,469.0,471.0,472.0,473.0,475.0,476.0,477.0,478.0,480.0,481.0,482.0,484.0,485.0,486.0,487.0,488.0,490.0,491.0,492.0,494.0,495.0,496.0,497.0,499.0,500.0,501.0,503.0,504.0,505.0,506.0,508.0,509.0,510.0,512.0,513.0,514.0,515.0,516.0,518.0,519.0,520.0,522.0,523.0,524.0,525.0,526.0,527.0,529.0,531.0,532.0,533.0,534.0,536.0,537.0,538.0,540.0,541.0,542.0,543.0,544.0,546.0,547.0,548.0,550.0,551.0,552.0,553.0,554.0,556.0,557.0,558.0,560.0,561.0,562.0,563.0,564.0,566.0,567.0,568.0,570.0,571.0,572.0,573.0,574.0,576.0,577.0,578.0,580.0,581.0,582.0,583.0,585.0,586.0,587.0,589.0,590.0,591.0,592.0,594.0,595.0,596.0,598.0,599.0,600.0,601.0,602.0,603.0,605.0,606.0,607.0,609.0,610.0,611.0,612.0,614.0,615.0,616.0,618.0,619.0,620.0,621.0,622.0,624.0,625.0,626.0,628.0,629.0,630.0,631.0,633.0,634.0,635.0,637.0,638.0,639.0,640.0,642.0,643.0,644.0,646.0,647.0,648.0,649.0,650.0,651.0,653.0,654.0,655.0,657.0,658.0,659.0,660.0,662.0,663.0,664.0,666.0,667.0,668.0,669.0,670.0,672.0,673.0,674.0,676.0,677.0,678.0,679.0,681.0,682.0,683.0,685.0,686.0,687.0,688.0,689.0,691.0,692.0,693.0,695.0,696.0,697.0,698.0,700.0,701.0,702.0,704.0,705.0,706.0,707.0,708.0,710.0,711.0,712.0,714.0,715.0,716.0,717.0,719.0,720.0,721.0,723.0,724.0,725.0,726.0,728.0,729.0,730.0,732.0,733.0,734.0,735.0,736.0,737.0,739.0,740.0,741.0,743.0,744.0,745.0,746.0,748.0,749.0,750.0,752.0,753.0,754.0,755.0,756.0,758.0,759.0,760.0,762.0,763.0,764.0,765.0,767.0,768.0,769.0,771.0,772.0,773.0,774.0,775.0,777.0,778.0,779.0,781.0,782.0,783.0,784.0,786.0,787.0,788.0,790.0,791.0,792.0,793.0,794.0,796.0,797.0,798.0,800.0,801.0,802.0,803.0,805.0,806.0,807.0,809.0,810.0,811.0,812.0,813.0,814.0,816.0,817.0,818.0,820.0,821.0,823.0,824.0,825.0,827.0,828.0,829.0,830.0,831.0,832.0,833.0,835.0,836.0,837.0,839.0,840.0,842.0,843.0,844.0,846.0,847.0,848.0,849.0,850.0,851.0,852.0,854.0,855.0,856.0,858.0,859.0,860.0,861.0,863.0,864.0,865.0,867.0,868.0,869.0,870.0,872.0,873.0,874.0,876.0,877.0,878.0,879.0,881.0,882.0,883.0,885.0,886.0,887.0,888.0,889.0,890.0,892.0,893.0,894.0,896.0,897.0,898.0,899.0,901.0,902.0,903.0,905.0,906.0,907.0,908.0,910.0,911.0,912.0,914.0,915.0,916.0,917.0,918.0,919.0,921.0,923.0,924.0,925.0,926.0,928.0,929.0,930.0,932.0,933.0,934.0,935.0,936.0,938.0,939.0,940.0,942.0,943.0,944.0,945.0,946.0,948.0,949.0,950.0,952.0,953.0,954.0,955.0,956.0,958.0,959.0,960.0,962.0,963.0,964.0,965.0,966.0,967.0,969.0,970.0,971.0,973.0,974.0,976.0,977.0,978.0,980.0,981.0,982.0,983.0,984.0,985.0,986.0,988.0,989.0,990.0,992.0,993.0,994.0,995.0,997.0,998.0,999.0,1001.0,1002.0,1003.0,1004.0,1006.0,1007.0,1008.0,1010.0,1011.0,1012.0,1013.0,1015.0,1016.0,1017.0,1019.0,1020.0,1021.0,1022.0,1023.0,1024.0,1026.0,1027.0,1028.0,1030.0,1031.0,1032.0,1033.0,1035.0,1036.0,1037.0,1039.0,1040.0,1041.0,1042.0,1043.0,1045.0,1046.0,1047.0,1049.0,1050.0,1051.0,1052.0,1054.0,1055.0,1056.0,1058.0,1059.0,1060.0,1061.0,1062.0,1064.0,1065.0,1066.0,1068.0,1069.0,1070.0,1071.0,1073.0,1074.0,1075.0,1077.0,1078.0,1079.0,1080.0,1081.0,1083.0,1084.0,1085.0,1087.0,1088.0,1089.0,1090.0,1092.0,1093.0,1094.0,1096.0,1097.0,1098.0,1099.0,1100.0,1102.0,1103.0,1104.0,1106.0,1107.0,1108.0,1109.0,1111.0,1112.0,1113.0,1115.0,1116.0,1117.0,1118.0,1119.0,1121.0,1122.0,1123.0,1125.0,1126.0,1127.0,1128.0,1130.0,1131.0,1132.0,1134.0,1135.0,1136.0,1137.0,1138.0,1140.0,1141.0,1142.0,1144.0,1145.0,1146.0,1147.0,1149.0,1150.0,1151.0,1153.0,1154.0,1155.0,1156.0,1157.0,1159.0,1160.0,1161.0,1163.0,1164.0,1165.0,1166.0,1168.0,1169.0,1170.0,1172.0,1173.0,1174.0,1175.0,1176.0,1177.0,1179.0,1180.0,1181.0,1183.0,1184.0,1185.0,1186.0,1188.0,1189.0,1190.0,1192.0,1193.0,1194.0,1195.0,1196.0,1198.0,1199.0,1200.0,1202.0,1203.0,1204.0,1205.0,1207.0,1208.0,1209.0,1211.0,1212.0,1213.0,1214.0,1215.0,1217.0,1218.0,1219.0,1221.0,1222.0,1223.0,1224.0,1226.0,1227.0,1228.0,1230.0,1231.0,1232.0,1233.0,1234.0,1236.0,1237.0,1238.0,1240.0,1241.0,1242.0,1243.0,1245.0,1246.0,1247.0,1249.0,1250.0,1251.0,1252.0,1253.0,1255.0,1256.0,1257.0,1259.0,1260.0,1261.0,1262.0,1264.0,1265.0,1266.0,1268.0,1269.0,1270.0,1271.0,1272.0,1274.0,1275.0,1276.0,1278.0,1279.0,1280.0,1281.0,1283.0,1284.0,1285.0,1287.0,1288.0,1289.0,1290.0,1291.0,1292.0,1294.0,1295.0,1296.0,1298.0,1299.0,1301.0,1302.0,1303.0,1305.0,1306.0,1307.0,1308.0,1309.0,1310.0,1311.0,1313.0,1314.0,1315.0,1317.0,1318.0,1319.0,1320.0,1322.0,1323.0,1324.0,1326.0,1327.0,1328.0,1329.0,1330.0,1331.0,1333.0,1335.0,1336.0,1337.0,1338.0,1340.0,1341.0,1342.0,1344.0,1345.0,1346.0,1348.0,1349.0,1350.0,1351.0,1352.0,1354.0,1355.0,1356.0,1358.0,1359.0,1360.0,1361.0,1362.0,1364.0,1365.0,1366.0,1368.0,1369.0,1370.0,1371.0,1372.0,1373.0,1375.0,1376.0,1377.0,1379.0,1380.0,1381.0,1382.0,1384.0,1385.0,1386.0,1388.0,1389.0,1390.0,1391.0,1392.0,1394.0,1395.0,1396.0,1398.0,1399.0,1400.0,1401.0,1403.0,1404.0,1405.0,1407.0,1408.0,1409.0,1410.0,1411.0,1412.0,1414.0,1415.0,1416.0,1418.0,1419.0,1421.0,1422.0,1423.0,1425.0,1426.0,1427.0,1428.0,1429.0,1430.0,1431.0,1433.0,1434.0,1435.0,1437.0,1438.0,1439.0,1440.0,1442.0,1443.0,1444.0,1446.0,1447.0,1448.0,1449.0,1451.0,1452.0,1453.0,1455.0,1456.0,1457.0,1458.0,1460.0,1461.0,1462.0,1464.0,1465.0,1466.0,1467.0,1468.0,1469.0,1471.0,1472.0,1473.0,1475.0,1476.0,1477.0,1478.0,1480.0,1481.0,1482.0,1484.0,1485.0,1486.0,1487.0,1489.0,1490.0,1491.0,1493.0,1494.0,1495.0,1496.0,1497.0,1498.0,1500.0,1501.0,1502.0,1504.0,1505.0,1506.0,1507.0,1509.0,1510.0,1511.0,1513.0,1514.0,1515.0,1516.0,1518.0,1519.0,1520.0,1522.0,1523.0,1524.0,1525.0,1526.0,1527.0,1529.0,1531.0,1532.0,1533.0,1534.0,1536.0,1537.0,1538.0,1540.0,1541.0,1542.0,1543.0,1544.0,1546.0,1547.0,1548.0,1550.0,1551.0,1552.0,1553.0,1554.0,1556.0,1557.0,1558.0,1560.0,1561.0,1562.0,1563.0,1564.0,1566.0,1567.0,1568.0,1570.0,1571.0,1572.0,1573.0,1575.0,1576.0,1577.0,1579.0,1580.0,1581.0,1582.0,1583.0,1584.0,1586.0,1587.0,1588.0,1590.0,1591.0,1592.0,1593.0,1595.0,1596.0,1597.0,1599.0,1600.0,1601.0,1602.0,1603.0,1605.0,1606.0,1607.0,1609.0,1610.0,1612.0,1613.0,1614.0,1616.0,1617.0,1618.0,1619.0,1620.0,1621.0,1622.0,1624.0,1625.0,1626.0,1628.0,1629.0,1630.0,1631.0,1633.0,1634.0,1635.0,1637.0,1638.0,1639.0,1640.0,1642.0,1643.0,1644.0,1646.0,1647.0,1648.0,1649.0,1650.0,1651.0,1653.0,1654.0,1655.0,1657.0,1658.0,1659.0,1660.0,1662.0,1663.0,1664.0,1666.0,1667.0,1668.0,1669.0,1671.0,1672.0,1673.0,1675.0,1676.0,1677.0,1678.0,1679.0,1680.0,1682.0,1684.0,1685.0,1686.0,1687.0,1689.0,1690.0,1691.0,1693.0,1694.0,1695.0,1696.0,1697.0,1699.0,1700.0,1701.0,1703.0,1704.0,1705.0,1706.0,1707.0,1709.0,1710.0,1711.0,1713.0,1714.0,1715.0,1716.0,1717.0,1719.0,1720.0,1721.0,1723.0,1724.0,1725.0,1726.0,1727.0,1728.0,1730.0,1731.0,1732.0,1734.0,1735.0,1737.0,1738.0,1739.0,1741.0,1742.0,1743.0,1744.0,1745.0,1746.0,1747.0,1749.0,1750.0,1751.0,1753.0,1754.0,1755.0,1756.0,1758.0,1759.0,1760.0,1762.0,1763.0,1764.0,1765.0,1767.0,1768.0,1769.0,1771.0,1772.0,1773.0,1774.0,1776.0,1777.0,1778.0,1780.0,1781.0,1782.0,1783.0,1784.0,1785.0,1787.0,1788.0,1789.0,1791.0,1792.0,1793.0,1794.0,1796.0,1797.0,1798.0,1800.0,1801.0,1802.0,1803.0,1805.0],\"y\":[-266422.75,-309288.40625,-348015.0625,-376403.9375,-397867.0,-406589.0625,-413807.34375,-424192.25,-427684.96875,-430738.84375,-433108.21875,-437171.78125,-438830.75,-442347.75,-444176.875,-445642.4375,-447260.25,-447975.5,-449139.96875,-452045.84375,-453583.34375,-457530.4375,-458357.8125,-459259.0,-459613.5625,-460274.34375,-462630.5625,-463064.78125,-466102.84375,-466783.59375,-467173.4375,-467696.09375,-469281.84375,-470218.96875,-472202.65625,-472756.5625,-473164.28125,-473608.125,-473713.59375,-473928.46875,-475838.90625,-476600.4375,-477319.875,-477436.0625,-478252.34375,-478933.65625,-479182.125,-479991.90625,-480512.15625,-480822.1875,-481397.9375,-481900.4375,-482337.25,-482926.46875,-482945.75,-483616.78125,-484211.40625,-484337.6875,-485056.09375,-485490.625,-485694.96875,-486178.0625,-486615.96875,-486929.125,-487450.09375,-487790.46875,-488077.96875,-488449.96875,-488545.71875,-488929.875,-489448.0625,-489658.90625,-490315.40625,-490607.875,-490799.90625,-491089.21875,-491130.71875,-491382.0,-492046.84375,-492161.875,-492987.5625,-493225.71875,-493391.40625,-493607.03125,-493664.125,-493824.78125,-494515.78125,-494724.96875,-495548.5625,-495738.625,-495904.59375,-496052.625,-496137.75,-496207.96875,-496899.4375,-497224.53125,-498050.34375,-498200.46875,-498362.125,-498456.5,-498556.90625,-499052.3125,-499502.84375,-500133.3125,-500276.09375,-500454.15625,-500529.4375,-500697.4375,-501020.0,-501245.625,-501639.0625,-501794.71875,-501923.75,-502069.15625,-502145.71875,-502265.21875,-502611.6875,-502875.125,-503301.21875,-503436.09375,-503557.5,-503670.8125,-503748.90625,-503822.4375,-504196.84375,-504513.96875,-504976.96875,-505091.3125,-505207.09375,-505290.15625,-505370.75,-505397.4375,-505398.625,-505939.53125,-506013.5,-506728.0625,-506788.53125,-506918.84375,-507122.21875,-507282.375,-507532.6875,-507646.625,-507744.4375,-507855.3125,-507914.125,-508012.90625,-508240.875,-508425.4375,-508710.09375,-508812.84375,-508902.65625,-508994.90625,-509052.03125,-509118.84375,-509375.8125,-509594.5,-509916.71875,-510007.0625,-510094.8125,-510163.625,-510222.96875,-510255.5625,-510546.03125,-510815.4375,-511180.75,-511256.25,-511341.65625,-511388.1875,-511448.78125,-511673.40625,-511869.6875,-512168.96875,-512244.9375,-512333.375,-512377.34375,-512458.03125,-512629.46875,-512768.25,-512984.21875,-513065.28125,-513135.96875,-513209.40625,-513253.65625,-513308.65625,-513507.03125,-513672.53125,-513923.21875,-513995.15625,-514064.03125,-514119.84375,-514166.21875,-514193.5,-514422.09375,-514633.84375,-514923.84375,-514983.875,-515052.90625,-515089.3125,-515139.03125,-515318.46875,-515472.53125,-515712.1875,-515773.3125,-515843.90625,-515880.375,-515943.84375,-516084.25,-516199.34375,-516375.4375,-516441.875,-516499.65625,-516557.5,-516594.75,-516637.96875,-516800.6875,-516943.5625,-517151.0625,-517209.40625,-517266.1875,-517311.03125,-517350.5625,-517370.125,-517373.34375,-517628.21875,-517701.3125,-518045.59375,-518077.59375,-518146.46875,-518246.28125,-518328.6875,-518451.8125,-518512.21875,-518563.5,-518623.53125,-518654.53125,-518708.625,-518824.40625,-518921.5625,-519068.0625,-519123.75,-519172.1875,-519221.78125,-519254.15625,-519291.15625,-519427.0,-519550.78125,-519723.4375,-519773.125,-519822.1875,-519859.6875,-519895.0625,-519912.03125,-519916.65625,-520130.0,-520194.8125,-520481.8125,-520510.75,-520569.375,-520653.59375,-520727.03125,-520832.71875,-520884.34375,-520928.75,-520980.46875,-521008.125,-521054.28125,-521152.6875,-521242.84375,-521367.25,-521415.78125,-521458.46875,-521501.34375,-521530.625,-521562.1875,-521564.125,-521570.59375,-521782.9375,-521858.625,-521936.21875,-521943.15625,-522033.8125,-522100.03125,-522125.6875,-522205.375,-522262.0625,-522301.15625,-522365.625,-522369.625,-522437.59375,-522523.46875,-522546.6875,-522655.53125,-522705.0,-522737.65625,-522786.34375,-522797.28125,-522837.84375,-522949.46875,-522991.0625,-523138.65625,-523177.71875,-523215.5,-523244.625,-523272.09375,-523279.375,-523283.21875,-523467.875,-523476.53125,-523717.46875,-523743.1875,-523780.53125,-523785.09375,-523806.5,-523953.625,-523969.09375,-524166.28125,-524195.0,-524233.21875,-524243.875,-524272.53125,-524390.3125,-524424.125,-524577.3125,-524611.875,-524644.375,-524669.375,-524686.625,-524693.6875,-524836.75,-524908.5625,-525095.4375,-525122.0625,-525159.5,-525169.0,-525196.6875,-525306.375,-525343.125,-525489.9375,-525520.6875,-525554.9375,-525572.9375,-525599.1875,-525692.3125,-525759.875,-525879.125,-525912.0,-525944.6875,-525969.375,-525993.0,-526002.0625,-526004.25,-526152.4375,-526185.5625,-526385.0,-526403.8125,-526442.8125,-526502.4375,-526552.6875,-526627.5,-526661.9375,-526692.875,-526726.5,-526746.125,-526775.5625,-526845.625,-526913.8125,-527004.25,-527036.1875,-527066.4375,-527093.8125,-527116.25,-527133.25,-527138.5625,-527253.0,-527345.3125,-527498.1875,-527520.0,-527557.3125,-527560.875,-527595.8125,-527674.75,-527691.25,-527792.8125,-527824.6875,-527846.6875,-527874.0,-527883.1875,-527900.9375,-527999.375,-528030.1875,-528157.375,-528182.8125,-528209.4375,-528224.75,-528242.125,-528325.6875,-528397.0625,-528508.5625,-528533.8125,-528564.375,-528578.625,-528605.4375,-528670.0625,-528715.0,-528797.375,-528826.3125,-528851.125,-528876.125,-528892.75,-528909.1875,-528986.5,-529061.375,-529162.1875,-529187.0,-529215.3125,-529230.5,-529254.0625,-529255.125,-529263.125,-529378.875,-529425.0625,-529469.5,-529478.0625,-529531.4375,-529567.5625,-529586.5625,-529628.0625,-529662.375,-529690.3125,-529731.4375,-529734.4375,-529781.75,-529825.6875,-529840.0625,-529893.625,-529925.625,-529946.75,-529982.875,-529984.3125,-530022.625,-530076.625,-530089.5625,-530157.125,-530186.9375,-530205.4375,-530234.375,-530238.4375,-530266.125,-530331.875,-530348.875,-530434.3125,-530459.125,-530478.625,-530500.1875,-530510.125,-530523.0,-530604.375,-530638.8125,-530746.6875,-530766.5,-530790.4375,-530801.75,-530818.0625,-530885.875,-530933.5,-531022.4375,-531044.625,-531068.9375,-531082.5,-531102.375,-531157.3125,-531205.9375,-531276.6875,-531300.375,-531322.9375,-531341.375,-531358.0625,-531368.3125,-531372.375,-531461.125,-531506.0,-531623.4375,-531639.3125,-531665.875,-531668.75,-531691.375,-531755.8125,-531767.4375,-531850.75,-531872.3125,-531890.4375,-531907.625,-531916.5,-531925.1875,-532004.75,-532037.125,-532141.625,-532158.625,-532180.6875,-532189.1875,-532204.8125,-532267.875,-532297.3125,-532381.0,-532400.1875,-532420.875,-532433.375,-532449.5,-532502.8125,-532552.625,-532622.125,-532643.0625,-532663.9375,-532678.875,-532695.4375,-532700.9375,-532706.5625,-532790.0625,-532808.6875,-532918.875,-532933.25,-532955.6875,-532958.3125,-532976.1875,-533039.5,-533050.75,-533132.875,-533152.0625,-533168.9375,-533182.4375,-533191.6875,-533194.8125,-533273.5,-533313.4375,-533417.1875,-533430.375,-533452.5,-533455.6875,-533473.0625,-533531.9375,-533545.0,-533621.9375,-533640.625,-533657.1875,-533670.4375,-533680.75,-533682.375,-533755.9375,-533812.625,-533912.625,-533925.5,-533948.5,-533949.625,-533970.375,-534022.0,-534030.625,-534097.5,-534116.75,-534131.25,-534146.4375,-534152.5,-534162.125,-534226.625,-534250.0,-534335.375,-534350.25,-534367.875,-534375.1875,-534388.4375,-534440.8125,-534469.5,-534538.6875,-534554.6875,-534572.25,-534582.6875,-534596.5,-534641.1875,-534682.375,-534740.3125,-534757.125,-534774.875,-534788.25,-534801.875,-534806.3125,-534812.25,-534879.875,-534897.125,-534987.5,-535000.0,-535017.875,-535021.25,-535035.1875,-535088.0625,-535100.125,-535169.0,-535185.4375,-535199.5625,-535210.375,-535219.125,-535221.4375,-535287.625,-535327.125,-535413.875,-535425.625,-535445.3125,-535446.9375,-535463.0,-535511.125,-535520.6875,-535583.5,-535598.875,-535612.9375,-535624.1875,-535632.25,-535635.8125,-535696.5625,-535733.6875,-535814.4375,-535826.0625,-535844.3125,-535846.6875,-535862.6875,-535907.0,-535917.0,-535974.6875,-535990.125,-536002.375,-536015.1875,-536021.8125,-536027.75,-536082.125,-536112.5,-536184.8125,-536195.8125,-536213.0625,-536218.0625,-536230.4375,-536273.5625,-536291.5,-536347.75,-536361.5625,-536376.4375,-536386.1875,-536396.375,-536398.125,-536399.1875,-536468.8125,-536471.75,-536564.1875,-536572.125,-536588.375,-536617.4375,-536643.6875,-536681.3125,-536696.5625,-536710.875,-536724.3125,-536734.4375,-536744.3125,-536748.125,-536748.75,-536813.75,-536825.1875,-536912.8125,-536920.75,-536936.9375,-536963.375,-536987.0625,-537021.0,-537035.25,-537048.8125,-537062.875,-537072.4375,-537083.5,-537085.125,-537089.4375,-537148.3125,-537152.375,-537231.25,-537240.25,-537254.5,-537256.1875,-537265.5,-537311.8125,-537319.5625,-537381.625,-537393.5,-537405.25,-537412.25,-537421.0,-537460.875,-537487.8125,-537540.875,-537553.0625,-537566.5,-537573.5625,-537584.75,-537617.1875,-537645.4375,-537689.3125,-537701.8125,-537714.875,-537724.3125,-537734.6875,-537738.0625,-537742.625,-537793.625,-537805.0625,-537872.625,-537881.8125,-537894.875,-537898.1875,-537908.0625,-537947.8125,-537960.1875,-538013.6875,-538025.375,-538037.0625,-538044.5,-538052.5,-538087.5625,-538118.3125,-538164.375,-538176.4375,-538188.9375,-538196.5625,-538207.5,-538207.6875,-538212.5625,-538265.0,-538286.625,-538306.4375,-538310.5625,-538334.5625,-538352.1875,-538361.25,-538381.125,-538397.0,-538409.8125,-538428.1875,-538431.0,-538451.25,-538472.75,-538481.1875,-538507.125,-538522.3125,-538532.1875,-538547.625,-538551.0,-538566.1875,-538592.875,-538602.75,-538636.375,-538650.1875,-538659.375,-538672.125,-538677.3125,-538686.125,-538719.6875,-538737.6875,-538781.375,-538792.375,-538803.4375,-538811.1875,-538820.125,-538821.8125,-538823.1875,-538876.5625,-538879.75,-538950.375,-538957.375,-538970.625,-538992.6875,-539013.5625,-539042.5,-539054.8125,-539066.1875,-539077.25,-539085.25,-539093.375,-539096.3125,-539097.5625,-539147.875,-539155.5,-539222.4375,-539229.5,-539241.9375,-539242.5625,-539252.0,-539290.0,-539291.875,-539342.1875,-539352.0,-539361.125,-539367.6875,-539372.75,-539407.3125,-539438.0,-539483.9375,-539493.5625,-539505.8125,-539509.75,-539520.9375,-539547.6875,-539564.375,-539598.8125,-539609.8125,-539619.75,-539628.9375,-539636.0625,-539640.625,-539641.9375,-539686.625,-539703.75,-539762.625,-539770.0625,-539782.5,-539782.875,-539793.5,-539825.75,-539831.125,-539872.875,-539883.4375,-539891.9375,-539899.5625,-539904.5,-539906.625,-539948.125,-539968.0625,-540023.125,-540030.875,-540042.875,-540043.9375,-540054.25,-540084.25,-540090.625,-540130.4375,-540140.375,-540148.6875,-540156.125,-540161.3125,-540163.375,-540201.9375,-540224.625,-540275.875,-540282.6875,-540294.3125,-540296.375,-540306.25,-540334.75,-540342.0,-540379.4375,-540389.125,-540397.75,-540405.5625,-540410.875,-540413.4375,-540449.25,-540472.875,-540520.625,-540527.8125,-540538.9375,-540541.75,-540551.375,-540578.125,-540587.5,-540622.0,-540631.9375,-540640.5,-540647.875,-540652.5625,-540656.125,-540689.6875,-540715.0625,-540760.0625,-540767.625,-540778.5,-540781.3125,-540790.5,-540815.5,-540825.4375,-540858.875,-540867.5625,-540876.3125,-540883.0625,-540888.5,-540892.3125,-540923.5,-540949.0625,-540991.0625,-540998.875,-541009.375,-541012.625,-541021.5,-541045.375,-541056.8125,-541088.1875,-541097.4375,-541105.5625,-541113.0625,-541119.1875,-541122.5625,-541152.125,-541180.8125,-541220.125,-541228.0625,-541238.25,-541242.0,-541250.875,-541272.75,-541284.6875,-541313.3125,-541322.5,-541330.625,-541338.6875,-541344.0,-541348.5,-541375.6875,-541402.9375,-541439.0625,-541446.5,-541456.0,-541460.9375,-541468.9375,-541489.5625,-541503.9375,-541531.3125,-541540.1875,-541548.8125,-541555.875,-541562.1875,-541565.625,-541567.0625,-541601.875,-541619.8125,-541666.75,-541672.8125,-541682.375,-541683.375,-541692.125,-541717.5,-541721.3125,-541755.875,-541764.25,-541770.875,-541777.3125,-541781.0625,-541783.0625,-541815.75,-541832.375,-541875.5,-541882.0,-541891.4375,-541893.125,-541901.125,-541925.1875,-541931.125,-541963.875,-541971.625,-541979.0,-541985.125,-541989.5625,-541991.5,-542022.6875,-542043.125,-542083.3125,-542089.9375,-542099.375,-542101.625,-542109.9375,-542131.9375,-542139.0625,-542168.8125,-542176.625,-542184.4375,-542190.125,-542194.625,-542197.5625,-542225.625,-542245.8125,-542283.25,-542290.0,-542298.8125,-542301.8125,-542309.75,-542331.1875,-542339.6875,-542367.6875,-542375.1875,-542383.4375,-542388.9375,-542393.875,-542396.875,-542423.75,-542448.0,-542483.875,-542490.125,-542499.5,-542501.5625,-542509.625,-542529.8125,-542538.75,-542564.75,-542573.1875,-542580.3125,-542586.75,-542590.625,-542594.1875,-542619.5625,-542641.375,-542674.3125,-542681.1875,-542689.125,-542692.9375,-542699.875,-542719.125,-542730.625,-542755.6875,-542763.625,-542770.5,-542776.9375,-542782.0625,-542785.3125,-542785.6875,-542818.0625,-542830.625,-542872.6875,-542878.125,-542886.8125,-542900.0625,-542913.8125,-542930.8125,-542938.4375,-542946.0625,-542954.125,-542959.0,-542965.375,-542967.9375,-542970.75,-542999.5,-543006.5625,-543045.3125,-543050.875,-543058.625,-543060.5,-543067.0625,-543088.8125,-543096.9375,-543126.9375,-543133.9375,-543140.5625,-543145.1875,-543149.4375,-543149.625,-543149.6875,-543187.3125,-543200.5625,-543215.0625,-543215.1875,-543232.0625,-543242.75,-543246.25,-543258.5,-543269.5,-543276.5625,-543289.125,-543297.3125,-543305.5625,-543314.0625,-543318.0625,-543327.875,-543340.75,-543350.0,-543365.125,-543373.125,-543380.1875,-543387.6875,-543392.0,-543399.625,-543414.8125,-543427.375,-543447.5,-543455.125,-543461.1875,-543468.375,-543473.375,-543477.375,-543478.6875,-543505.0625,-543525.125,-543560.5625,-543565.8125,-543574.3125,-543575.5,-543582.8125,-543601.9375,-543607.5625,-543632.5,-543639.4375,-543645.875,-543651.3125,-543654.5,-543657.375,-543681.4375,-543697.625,-543730.0,-543735.4375,-543743.5,-543746.25,-543752.5,-543770.6875,-543778.5625,-543803.4375,-543809.875,-543815.8125,-543820.875,-543825.6875,-543827.5625,-543827.625,-543859.0625,-543867.3125,-543909.0625,-543913.3125,-543921.8125,-543934.1875,-543944.5,-543960.5625,-543967.9375,-543974.9375,-543981.75,-543985.8125,-543992.0,-543992.1875,-543995.25,-544023.3125,-544024.8125,-544062.625,-544067.125,-544074.125,-544075.8125,-544079.9375,-544102.9375,-544108.0625,-544138.0625,-544143.875,-544150.0625,-544153.6875,-544158.125,-544176.875,-544191.0,-544217.1875,-544223.0,-544229.1875,-544233.3125,-544239.125,-544254.9375,-544270.0,-544290.625,-544297.5,-544304.4375,-544309.3125,-544314.75,-544316.5625,-544319.3125,-544344.5,-544352.0625,-544384.9375,-544389.9375,-544397.3125,-544398.375,-544403.6875,-544424.0625,-544430.125,-544456.5,-544462.4375,-544468.0625,-544471.8125,-544476.375,-544493.375,-544511.9375,-544534.9375,-544541.0625,-544547.5,-544551.3125,-544557.375,-544558.0625,-544560.75,-544586.375,-544587.1875,-544622.375,-544627.0,-544632.625,-544634.25,-544638.375,-544660.125,-544666.375,-544694.25,-544700.125,-544706.5625,-544709.4375,-544713.375,-544731.625,-544743.9375,-544768.125,-544773.25,-544780.6875,-544783.5625,-544788.6875,-544788.75,-544790.6875,-544818.6875,-544828.9375,-544839.625,-544841.125,-544854.3125,-544862.9375,-544867.375,-544878.0,-544886.3125,-544892.0,-544901.875,-544902.0625,-544912.9375,-544924.0,-544927.9375,-544941.875,-544948.9375,-544954.5625,-544962.25,-544963.8125,-544971.3125,-544985.5,-544989.875,-545008.1875,-545014.5,-545019.8125,-545026.125,-545028.5,-545032.875,-545051.0625,-545060.4375,-545084.0625,-545090.4375,-545095.4375,-545099.3125,-545104.0,-545119.25,-545134.5,-545154.5625,-545160.875,-545167.375,-545170.75,-545176.125,-545177.25,-545179.375,-545203.0,-545207.125,-545238.75,-545243.0625,-545249.5,-545251.125,-545255.75,-545274.1875,-545280.1875,-545304.5625,-545309.625,-545315.1875,-545319.0,-545322.3125,-545322.625,-545346.0625,-545366.6875,-545398.6875,-545402.1875,-545410.125,-545419.0,-545428.625,-545440.375,-545446.4375,-545452.5625,-545459.125,-545463.25,-545468.5625,-545470.0,-545473.6875,-545494.375,-545498.0,-545525.375,-545530.5625,-545535.6875,-545538.8125,-545542.6875,-545559.75,-545569.875,-545592.6875,-545598.0,-545603.5625,-545606.6875,-545611.5,-545625.9375,-545639.0625,-545658.6875,-545664.5625,-545670.125,-545673.5625,-545678.6875,-545680.25,-545682.375,-545704.75,-545707.9375,-545738.25,-545742.4375,-545748.0625,-545749.6875,-545753.6875,-545771.5625,-545777.9375,-545801.875,-545806.5625,-545812.8125,-545815.5,-545819.375,-545834.5,-545847.3125,-545868.375,-545873.375,-545879.375,-545882.6875,-545887.25,-545888.4375,-545890.1875,-545914.0,-545923.9375,-545932.875,-545934.3125,-545945.6875,-545953.625,-545957.875,-545966.875,-545974.0,-545979.75,-545988.375,-545989.25,-545999.0625,-546008.5,-546012.4375,-546024.8125,-546031.125,-546035.9375,-546042.6875,-546043.9375,-546051.375,-546064.0625,-546067.625,-546083.25,-546089.375,-546093.875,-546099.375,-546101.5625,-546105.6875,-546121.9375,-546129.625,-546149.6875,-546154.875,-546160.75,-546164.1875,-546167.6875,-546167.9375,-546168.375,-546193.6875,-546194.375,-546228.6875,-546231.6875,-546238.0625,-546248.375,-546257.375,-546271.375,-546277.3125,-546282.25,-546287.125,-546290.8125,-546294.9375,-546295.625,-546296.625,-546320.25,-546322.125,-546354.6875,-546357.625,-546363.125,-546363.25,-546368.0,-546385.9375,-546386.625,-546411.0,-546415.625,-546420.0625,-546423.1875,-546425.9375,-546442.3125,-546455.3125,-546477.75,-546482.1875,-546487.5,-546489.4375,-546494.8125,-546507.75,-546516.0,-546533.5625,-546538.75,-546543.8125,-546547.75,-546552.0,-546552.75,-546553.6875,-546575.3125,-546581.3125,-546611.0,-546614.25,-546620.0,-546620.0625,-546624.4375,-546641.3125,-546643.375,-546665.25,-546669.875,-546674.375,-546677.375,-546679.875,-546695.25],\"type\":\"scatter\"}],                        {\"template\":{\"data\":{\"barpolar\":[{\"marker\":{\"line\":{\"color\":\"#E5ECF6\",\"width\":0.5},\"pattern\":{\"fillmode\":\"overlay\",\"size\":10,\"solidity\":0.2}},\"type\":\"barpolar\"}],\"bar\":[{\"error_x\":{\"color\":\"#2a3f5f\"},\"error_y\":{\"color\":\"#2a3f5f\"},\"marker\":{\"line\":{\"color\":\"#E5ECF6\",\"width\":0.5},\"pattern\":{\"fillmode\":\"overlay\",\"size\":10,\"solidity\":0.2}},\"type\":\"bar\"}],\"carpet\":[{\"aaxis\":{\"endlinecolor\":\"#2a3f5f\",\"gridcolor\":\"white\",\"linecolor\":\"white\",\"minorgridcolor\":\"white\",\"startlinecolor\":\"#2a3f5f\"},\"baxis\":{\"endlinecolor\":\"#2a3f5f\",\"gridcolor\":\"white\",\"linecolor\":\"white\",\"minorgridcolor\":\"white\",\"startlinecolor\":\"#2a3f5f\"},\"type\":\"carpet\"}],\"choropleth\":[{\"colorbar\":{\"outlinewidth\":0,\"ticks\":\"\"},\"type\":\"choropleth\"}],\"contourcarpet\":[{\"colorbar\":{\"outlinewidth\":0,\"ticks\":\"\"},\"type\":\"contourcarpet\"}],\"contour\":[{\"colorbar\":{\"outlinewidth\":0,\"ticks\":\"\"},\"colorscale\":[[0.0,\"#0d0887\"],[0.1111111111111111,\"#46039f\"],[0.2222222222222222,\"#7201a8\"],[0.3333333333333333,\"#9c179e\"],[0.4444444444444444,\"#bd3786\"],[0.5555555555555556,\"#d8576b\"],[0.6666666666666666,\"#ed7953\"],[0.7777777777777778,\"#fb9f3a\"],[0.8888888888888888,\"#fdca26\"],[1.0,\"#f0f921\"]],\"type\":\"contour\"}],\"heatmapgl\":[{\"colorbar\":{\"outlinewidth\":0,\"ticks\":\"\"},\"colorscale\":[[0.0,\"#0d0887\"],[0.1111111111111111,\"#46039f\"],[0.2222222222222222,\"#7201a8\"],[0.3333333333333333,\"#9c179e\"],[0.4444444444444444,\"#bd3786\"],[0.5555555555555556,\"#d8576b\"],[0.6666666666666666,\"#ed7953\"],[0.7777777777777778,\"#fb9f3a\"],[0.8888888888888888,\"#fdca26\"],[1.0,\"#f0f921\"]],\"type\":\"heatmapgl\"}],\"heatmap\":[{\"colorbar\":{\"outlinewidth\":0,\"ticks\":\"\"},\"colorscale\":[[0.0,\"#0d0887\"],[0.1111111111111111,\"#46039f\"],[0.2222222222222222,\"#7201a8\"],[0.3333333333333333,\"#9c179e\"],[0.4444444444444444,\"#bd3786\"],[0.5555555555555556,\"#d8576b\"],[0.6666666666666666,\"#ed7953\"],[0.7777777777777778,\"#fb9f3a\"],[0.8888888888888888,\"#fdca26\"],[1.0,\"#f0f921\"]],\"type\":\"heatmap\"}],\"histogram2dcontour\":[{\"colorbar\":{\"outlinewidth\":0,\"ticks\":\"\"},\"colorscale\":[[0.0,\"#0d0887\"],[0.1111111111111111,\"#46039f\"],[0.2222222222222222,\"#7201a8\"],[0.3333333333333333,\"#9c179e\"],[0.4444444444444444,\"#bd3786\"],[0.5555555555555556,\"#d8576b\"],[0.6666666666666666,\"#ed7953\"],[0.7777777777777778,\"#fb9f3a\"],[0.8888888888888888,\"#fdca26\"],[1.0,\"#f0f921\"]],\"type\":\"histogram2dcontour\"}],\"histogram2d\":[{\"colorbar\":{\"outlinewidth\":0,\"ticks\":\"\"},\"colorscale\":[[0.0,\"#0d0887\"],[0.1111111111111111,\"#46039f\"],[0.2222222222222222,\"#7201a8\"],[0.3333333333333333,\"#9c179e\"],[0.4444444444444444,\"#bd3786\"],[0.5555555555555556,\"#d8576b\"],[0.6666666666666666,\"#ed7953\"],[0.7777777777777778,\"#fb9f3a\"],[0.8888888888888888,\"#fdca26\"],[1.0,\"#f0f921\"]],\"type\":\"histogram2d\"}],\"histogram\":[{\"marker\":{\"pattern\":{\"fillmode\":\"overlay\",\"size\":10,\"solidity\":0.2}},\"type\":\"histogram\"}],\"mesh3d\":[{\"colorbar\":{\"outlinewidth\":0,\"ticks\":\"\"},\"type\":\"mesh3d\"}],\"parcoords\":[{\"line\":{\"colorbar\":{\"outlinewidth\":0,\"ticks\":\"\"}},\"type\":\"parcoords\"}],\"pie\":[{\"automargin\":true,\"type\":\"pie\"}],\"scatter3d\":[{\"line\":{\"colorbar\":{\"outlinewidth\":0,\"ticks\":\"\"}},\"marker\":{\"colorbar\":{\"outlinewidth\":0,\"ticks\":\"\"}},\"type\":\"scatter3d\"}],\"scattercarpet\":[{\"marker\":{\"colorbar\":{\"outlinewidth\":0,\"ticks\":\"\"}},\"type\":\"scattercarpet\"}],\"scattergeo\":[{\"marker\":{\"colorbar\":{\"outlinewidth\":0,\"ticks\":\"\"}},\"type\":\"scattergeo\"}],\"scattergl\":[{\"marker\":{\"colorbar\":{\"outlinewidth\":0,\"ticks\":\"\"}},\"type\":\"scattergl\"}],\"scattermapbox\":[{\"marker\":{\"colorbar\":{\"outlinewidth\":0,\"ticks\":\"\"}},\"type\":\"scattermapbox\"}],\"scatterpolargl\":[{\"marker\":{\"colorbar\":{\"outlinewidth\":0,\"ticks\":\"\"}},\"type\":\"scatterpolargl\"}],\"scatterpolar\":[{\"marker\":{\"colorbar\":{\"outlinewidth\":0,\"ticks\":\"\"}},\"type\":\"scatterpolar\"}],\"scatter\":[{\"fillpattern\":{\"fillmode\":\"overlay\",\"size\":10,\"solidity\":0.2},\"type\":\"scatter\"}],\"scatterternary\":[{\"marker\":{\"colorbar\":{\"outlinewidth\":0,\"ticks\":\"\"}},\"type\":\"scatterternary\"}],\"surface\":[{\"colorbar\":{\"outlinewidth\":0,\"ticks\":\"\"},\"colorscale\":[[0.0,\"#0d0887\"],[0.1111111111111111,\"#46039f\"],[0.2222222222222222,\"#7201a8\"],[0.3333333333333333,\"#9c179e\"],[0.4444444444444444,\"#bd3786\"],[0.5555555555555556,\"#d8576b\"],[0.6666666666666666,\"#ed7953\"],[0.7777777777777778,\"#fb9f3a\"],[0.8888888888888888,\"#fdca26\"],[1.0,\"#f0f921\"]],\"type\":\"surface\"}],\"table\":[{\"cells\":{\"fill\":{\"color\":\"#EBF0F8\"},\"line\":{\"color\":\"white\"}},\"header\":{\"fill\":{\"color\":\"#C8D4E3\"},\"line\":{\"color\":\"white\"}},\"type\":\"table\"}]},\"layout\":{\"annotationdefaults\":{\"arrowcolor\":\"#2a3f5f\",\"arrowhead\":0,\"arrowwidth\":1},\"autotypenumbers\":\"strict\",\"coloraxis\":{\"colorbar\":{\"outlinewidth\":0,\"ticks\":\"\"}},\"colorscale\":{\"diverging\":[[0,\"#8e0152\"],[0.1,\"#c51b7d\"],[0.2,\"#de77ae\"],[0.3,\"#f1b6da\"],[0.4,\"#fde0ef\"],[0.5,\"#f7f7f7\"],[0.6,\"#e6f5d0\"],[0.7,\"#b8e186\"],[0.8,\"#7fbc41\"],[0.9,\"#4d9221\"],[1,\"#276419\"]],\"sequential\":[[0.0,\"#0d0887\"],[0.1111111111111111,\"#46039f\"],[0.2222222222222222,\"#7201a8\"],[0.3333333333333333,\"#9c179e\"],[0.4444444444444444,\"#bd3786\"],[0.5555555555555556,\"#d8576b\"],[0.6666666666666666,\"#ed7953\"],[0.7777777777777778,\"#fb9f3a\"],[0.8888888888888888,\"#fdca26\"],[1.0,\"#f0f921\"]],\"sequentialminus\":[[0.0,\"#0d0887\"],[0.1111111111111111,\"#46039f\"],[0.2222222222222222,\"#7201a8\"],[0.3333333333333333,\"#9c179e\"],[0.4444444444444444,\"#bd3786\"],[0.5555555555555556,\"#d8576b\"],[0.6666666666666666,\"#ed7953\"],[0.7777777777777778,\"#fb9f3a\"],[0.8888888888888888,\"#fdca26\"],[1.0,\"#f0f921\"]]},\"colorway\":[\"#636efa\",\"#EF553B\",\"#00cc96\",\"#ab63fa\",\"#FFA15A\",\"#19d3f3\",\"#FF6692\",\"#B6E880\",\"#FF97FF\",\"#FECB52\"],\"font\":{\"color\":\"#2a3f5f\"},\"geo\":{\"bgcolor\":\"white\",\"lakecolor\":\"white\",\"landcolor\":\"#E5ECF6\",\"showlakes\":true,\"showland\":true,\"subunitcolor\":\"white\"},\"hoverlabel\":{\"align\":\"left\"},\"hovermode\":\"closest\",\"mapbox\":{\"style\":\"light\"},\"paper_bgcolor\":\"white\",\"plot_bgcolor\":\"#E5ECF6\",\"polar\":{\"angularaxis\":{\"gridcolor\":\"white\",\"linecolor\":\"white\",\"ticks\":\"\"},\"bgcolor\":\"#E5ECF6\",\"radialaxis\":{\"gridcolor\":\"white\",\"linecolor\":\"white\",\"ticks\":\"\"}},\"scene\":{\"xaxis\":{\"backgroundcolor\":\"#E5ECF6\",\"gridcolor\":\"white\",\"gridwidth\":2,\"linecolor\":\"white\",\"showbackground\":true,\"ticks\":\"\",\"zerolinecolor\":\"white\"},\"yaxis\":{\"backgroundcolor\":\"#E5ECF6\",\"gridcolor\":\"white\",\"gridwidth\":2,\"linecolor\":\"white\",\"showbackground\":true,\"ticks\":\"\",\"zerolinecolor\":\"white\"},\"zaxis\":{\"backgroundcolor\":\"#E5ECF6\",\"gridcolor\":\"white\",\"gridwidth\":2,\"linecolor\":\"white\",\"showbackground\":true,\"ticks\":\"\",\"zerolinecolor\":\"white\"}},\"shapedefaults\":{\"line\":{\"color\":\"#2a3f5f\"}},\"ternary\":{\"aaxis\":{\"gridcolor\":\"white\",\"linecolor\":\"white\",\"ticks\":\"\"},\"baxis\":{\"gridcolor\":\"white\",\"linecolor\":\"white\",\"ticks\":\"\"},\"bgcolor\":\"#E5ECF6\",\"caxis\":{\"gridcolor\":\"white\",\"linecolor\":\"white\",\"ticks\":\"\"}},\"title\":{\"x\":0.05},\"xaxis\":{\"automargin\":true,\"gridcolor\":\"white\",\"linecolor\":\"white\",\"ticks\":\"\",\"title\":{\"standoff\":15},\"zerolinecolor\":\"white\",\"zerolinewidth\":2},\"yaxis\":{\"automargin\":true,\"gridcolor\":\"white\",\"linecolor\":\"white\",\"ticks\":\"\",\"title\":{\"standoff\":15},\"zerolinecolor\":\"white\",\"zerolinewidth\":2}}},\"title\":{\"text\":\"Energy Minimization\"},\"xaxis\":{\"title\":{\"text\":\"Energy Minimization Step\"}},\"yaxis\":{\"title\":{\"text\":\"Potential Energy KJ/mol-1\"}}},                        {\"responsive\": true}                    ).then(function(){\n",
       "                            \n",
       "var gd = document.getElementById('74920ec8-d31d-4643-b7ef-9c57b1791a23');\n",
       "var x = new MutationObserver(function (mutations, observer) {{\n",
       "        var display = window.getComputedStyle(gd).display;\n",
       "        if (!display || display === 'none') {{\n",
       "            console.log([gd, 'removed!']);\n",
       "            Plotly.purge(gd);\n",
       "            observer.disconnect();\n",
       "        }}\n",
       "}});\n",
       "\n",
       "// Listen for the removal of the full notebook cells\n",
       "var notebookContainer = gd.closest('#notebook-container');\n",
       "if (notebookContainer) {{\n",
       "    x.observe(notebookContainer, {childList: true});\n",
       "}}\n",
       "\n",
       "// Listen for the clearing of the current output cell\n",
       "var outputEl = gd.closest('.output');\n",
       "if (outputEl) {{\n",
       "    x.observe(outputEl, {childList: true});\n",
       "}}\n",
       "\n",
       "                        })                };                });            </script>        </div>"
      ]
     },
     "metadata": {},
     "output_type": "display_data"
    }
   ],
   "source": [
    "import plotly\n",
    "import plotly.graph_objs as go\n",
    "\n",
    "#Read data from file and filter energy values higher than 1000 Kj/mol^-1\n",
    "with open(output_min_ene_xvg,'r') as energy_file:\n",
    "    x,y = map(\n",
    "        list,\n",
    "        zip(*[\n",
    "            (float(line.split()[0]),float(line.split()[1]))\n",
    "            for line in energy_file \n",
    "            if not line.startswith((\"#\",\"@\")) \n",
    "            if float(line.split()[1]) < 1000 \n",
    "        ])\n",
    "    )\n",
    "\n",
    "plotly.offline.init_notebook_mode(connected=True)\n",
    "\n",
    "fig = ({\n",
    "    \"data\": [go.Scatter(x=x, y=y)],\n",
    "    \"layout\": go.Layout(title=\"Energy Minimization\",\n",
    "                        xaxis=dict(title = \"Energy Minimization Step\"),\n",
    "                        yaxis=dict(title = \"Potential Energy KJ/mol-1\")\n",
    "                       )\n",
    "})\n",
    "\n",
    "plotly.offline.iplot(fig)"
   ]
  },
  {
   "cell_type": "markdown",
   "metadata": {},
   "source": [
    "<img src='images/fig1.png' width=\"50%\" height=\"50%\"></img>"
   ]
  },
  {
   "cell_type": "markdown",
   "metadata": {},
   "source": [
    "<a id=\"nvt\"></a>\n",
    "***\n",
    "## Equilibrate the system (NVT)\n",
    "Equilibrate the **protein-ligand complex** system in NVT ensemble (constant Number of particles, Volume and Temperature). To avoid temperature coupling problems, a new *\"system\"* group will be created including the **protein** + the **ligand** to be assigned to a single thermostatting group.\n",
    "\n",
    "- [Step 1](#eqNVTStep1): Creating an index file with a new group including the **protein-ligand complex**.\n",
    "- [Step 2](#eqNVTStep3): Creating portable binary run file for system equilibration\n",
    "- [Step 3](#eqNVTStep3): Equilibrate the **protein-ligand complex** with NVT ensemble.\n",
    "- [Step 4](#eqNVTStep4): Checking **NVT Equilibration** results. Plotting **system temperature** by time during the **NVT equilibration** process. \n",
    "***\n",
    "**Building Blocks** used:\n",
    "- [MakeNdx](https://biobb-md.readthedocs.io/en/latest/gromacs.html#module-gromacs.make_ndx) from **biobb_md.gromacs.make_ndx**:\n",
    "    * The GROMACS make_ndx module, generates an index file using the atoms of the selection.\n",
    "    \n",
    "\n",
    "- [Grompp](https://biobb-md.readthedocs.io/en/latest/gromacs.html#module-gromacs.grompp) from **biobb_md.gromacs.grompp**:\n",
    "    * The GROMACS preprocessor module needs to be fed with the input system and the dynamics parameters to create a portable binary run input file TPR. \n",
    "    \n",
    "    \n",
    "- [Mdrun](https://biobb-md.readthedocs.io/en/latest/gromacs.html#module-gromacs.mdrun) from **biobb_md.gromacs.mdrun**:\n",
    "    * MDRun is the main computational chemistry engine within GROMACS. It performs Molecular Dynamics simulations, but it can also perform Stochastic Dynamics, Energy Minimization, test particle insertion or (re)calculation of energies.\n",
    "    \n",
    "    \n",
    "- [GMXEnergy](https://biobb-analysis.readthedocs.io/en/latest/gromacs.html#module-gromacs.gmx_energy) from **biobb_analysis.gromacs.gmx_energy**:\n",
    "    * GROMACS energy extracts energy components from an energy file. \n",
    "***"
   ]
  },
  {
   "cell_type": "markdown",
   "metadata": {},
   "source": [
    "<a id=\"eqNVTStep1\"></a>\n",
    "### Step 1: Creating an index file with a new group including the **protein-ligand complex**"
   ]
  },
  {
   "cell_type": "code",
   "execution_count": 112,
   "metadata": {
    "scrolled": false
   },
   "outputs": [
    {
     "name": "stdout",
     "output_type": "stream",
     "text": [
      "2022-04-18 23:18:40,729 [MainThread  ] [INFO ]  GROMACS MakeNdx 20191 version detected\n",
      "2022-04-18 23:18:40,730 [MainThread  ] [INFO ]  Not using any container\n",
      "2022-04-18 23:18:40,869 [MainThread  ] [INFO ]  echo -e '\"Protein\"|\"Other\"\\nq' | gmx -nobackup -nocopyright make_ndx -f 3HTB_JZ4_min.gro -o 3HTB_JZ4_index.ndx\n",
      "\n",
      "2022-04-18 23:18:40,871 [MainThread  ] [INFO ]  Exit code 0\n",
      "\n",
      "2022-04-18 23:18:40,871 [MainThread  ] [INFO ]  Going to read 0 old index file(s)\n",
      "Analysing residue names:\n",
      "There are:   163    Protein residues\n",
      "There are:     1      Other residues\n",
      "There are:  9505      Water residues\n",
      "There are:    26        Ion residues\n",
      "Analysing Protein...\n",
      "Analysing residues not classified as Protein/DNA/RNA/Water and splitting into groups...\n",
      "Analysing residues not classified as Protein/DNA/RNA/Water and splitting into groups...\n",
      "\n",
      "  0 System              : 31177 atoms\n",
      "  1 Protein             :  2614 atoms\n",
      "  2 Protein-H           :  1301 atoms\n",
      "  3 C-alpha             :   163 atoms\n",
      "  4 Backbone            :   489 atoms\n",
      "  5 MainChain           :   653 atoms\n",
      "  6 MainChain+Cb        :   805 atoms\n",
      "  7 MainChain+H         :   815 atoms\n",
      "  8 SideChain           :  1799 atoms\n",
      "  9 SideChain-H         :   648 atoms\n",
      " 10 Prot-Masses         :  2614 atoms\n",
      " 11 non-Protein         : 28563 atoms\n",
      " 12 Other               :    22 atoms\n",
      " 13 JZ4                 :    22 atoms\n",
      " 14 NA                  :    10 atoms\n",
      " 15 CL                  :    16 atoms\n",
      " 16 Water               : 28515 atoms\n",
      " 17 SOL                 : 28515 atoms\n",
      " 18 non-Water           :  2662 atoms\n",
      " 19 Ion                 :    26 atoms\n",
      " 20 JZ4                 :    22 atoms\n",
      " 21 NA                  :    10 atoms\n",
      " 22 CL                  :    16 atoms\n",
      " 23 Water_and_ions      : 28541 atoms\n",
      "\n",
      " nr : group      '!': not  'name' nr name   'splitch' nr    Enter: list groups\n",
      " 'a': atom       '&': and  'del' nr         'splitres' nr   'l': list residues\n",
      " 't': atom type  '|': or   'keep' nr        'splitat' nr    'h': help\n",
      " 'r': residue              'res' nr         'chain' char\n",
      " \"name\": group             'case': case sensitive           'q': save and quit\n",
      " 'ri': residue index\n",
      "\n",
      "> \n",
      "Copied index group 1 'Protein'\n",
      "Copied index group 12 'Other'\n",
      "Merged two groups with OR: 2614 22 -> 2636\n",
      "\n",
      " 24 Protein_Other       :  2636 atoms\n",
      "\n",
      "> \n",
      "\n",
      "2022-04-18 23:18:40,872 [MainThread  ] [INFO ]                       :-) GROMACS - gmx make_ndx, 2019.1 (-:\n",
      "\n",
      "Executable:   /opt/miniconda3/envs/biobb_env/bin/gmx\n",
      "Data prefix:  /opt/miniconda3/envs/biobb_env\n",
      "Working dir:  /home/lg/repos/javerianaMD/biobb_md/notebooks\n",
      "Command line:\n",
      "  gmx -nobackup -nocopyright make_ndx -f 3HTB_JZ4_min.gro -o 3HTB_JZ4_index.ndx\n",
      "\n",
      "\n",
      "Reading structure file\n",
      "\n",
      "GROMACS reminds you: \"...sometimes a scream is better than a thesis.\" (Ralph Waldo Emerson)\n",
      "\n",
      "\n",
      "2022-04-18 23:18:40,873 [MainThread  ] [INFO ]  Removed: []\n"
     ]
    },
    {
     "data": {
      "text/plain": [
       "0"
      ]
     },
     "execution_count": 112,
     "metadata": {},
     "output_type": "execute_result"
    }
   ],
   "source": [
    "# MakeNdx: Creating index file with a new group (protein-ligand complex)\n",
    "from biobb_md.gromacs.make_ndx import make_ndx\n",
    "\n",
    "# Create prop dict and inputs/outputs\n",
    "output_complex_ndx = pdbCode + '_' + ligandCode + '_index.ndx'\n",
    "prop = {\n",
    "    'selection': \"\\\"Protein\\\"|\\\"Other\\\"\" \n",
    "}\n",
    "\n",
    "# Create and launch bb\n",
    "make_ndx(input_structure_path=output_min_gro,\n",
    "        output_ndx_path=output_complex_ndx,\n",
    "        properties=prop)"
   ]
  },
  {
   "cell_type": "markdown",
   "metadata": {},
   "source": [
    "<a id=\"eqNVTStep2\"></a>\n",
    "### Step 2: Creating portable binary run file for system equilibration (NVT)\n",
    "Note that for the purposes of temperature coupling, the **protein-ligand complex** (*Protein_Other*) is considered as a single entity."
   ]
  },
  {
   "cell_type": "code",
   "execution_count": 113,
   "metadata": {
    "scrolled": true
   },
   "outputs": [
    {
     "name": "stdout",
     "output_type": "stream",
     "text": [
      "2022-04-18 23:20:37,374 [MainThread  ] [INFO ]  GROMACS Grompp 20191 version detected\n",
      "2022-04-18 23:20:37,380 [MainThread  ] [INFO ]  Extracting: /home/lg/repos/javerianaMD/biobb_md/notebooks/3HTB_JZ4_genion_top.zip\n",
      "2022-04-18 23:20:37,381 [MainThread  ] [INFO ]  to:\n",
      "2022-04-18 23:20:37,382 [MainThread  ] [INFO ]  ['5e38f2f1-21b2-4e01-9b43-77bc0385daa4/JZ4_params.itp', '5e38f2f1-21b2-4e01-9b43-77bc0385daa4/JZ4_posres.itp', '5e38f2f1-21b2-4e01-9b43-77bc0385daa4/ligand.top', '5e38f2f1-21b2-4e01-9b43-77bc0385daa4/posre.itp']\n",
      "2022-04-18 23:20:37,382 [MainThread  ] [INFO ]  Unzipping: \n",
      "2022-04-18 23:20:37,383 [MainThread  ] [INFO ]  3HTB_JZ4_genion_top.zip\n",
      "2022-04-18 23:20:37,384 [MainThread  ] [INFO ]  To: \n",
      "2022-04-18 23:20:37,385 [MainThread  ] [INFO ]  5e38f2f1-21b2-4e01-9b43-77bc0385daa4/JZ4_params.itp\n",
      "2022-04-18 23:20:37,385 [MainThread  ] [INFO ]  5e38f2f1-21b2-4e01-9b43-77bc0385daa4/JZ4_posres.itp\n",
      "2022-04-18 23:20:37,386 [MainThread  ] [INFO ]  5e38f2f1-21b2-4e01-9b43-77bc0385daa4/ligand.top\n",
      "2022-04-18 23:20:37,387 [MainThread  ] [INFO ]  5e38f2f1-21b2-4e01-9b43-77bc0385daa4/posre.itp\n",
      "2022-04-18 23:20:37,389 [MainThread  ] [INFO ]  Not using any container\n",
      "2022-04-18 23:20:37,784 [MainThread  ] [INFO ]  gmx -nobackup -nocopyright grompp -f 743872a5-2b5a-4e39-a737-a714d5910ebc/grompp.mdp -c 3HTB_JZ4_min.gro -r 3HTB_JZ4_min.gro -p 5e38f2f1-21b2-4e01-9b43-77bc0385daa4/ligand.top -o 3HTB_JZ4gppnvt.tpr -po mdout.mdp -maxwarn 0 -n 3HTB_JZ4_index.ndx\n",
      "\n",
      "2022-04-18 23:20:37,786 [MainThread  ] [INFO ]  Exit code 0\n",
      "\n",
      "2022-04-18 23:20:37,786 [MainThread  ] [INFO ]  turning H bonds into constraints...\n",
      "turning H bonds into constraints...\n",
      "turning H bonds into constraints...\n",
      "turning H bonds into constraints...\n",
      "turning H bonds into constraints...\n",
      "Determining Verlet buffer for a tolerance of 0.005 kJ/mol/ps at 300 K\n",
      "Calculated rlist for 1x1 atom pair-list as 1.034 nm, buffer size 0.034 nm\n",
      "Set rlist, assuming 4x4 atom pair-list, to 1.000 nm, buffer size 0.000 nm\n",
      "Note that mdrun will redetermine rlist based on the actual pair-list setup\n",
      "Calculating fourier grid dimensions for X Y Z\n",
      "Using a fourier grid of 64x64x64, spacing 0.116 0.116 0.116\n",
      "This run will generate roughly 11 Mb of data\n",
      "\n",
      "2022-04-18 23:20:37,787 [MainThread  ] [INFO ]                        :-) GROMACS - gmx grompp, 2019.1 (-:\n",
      "\n",
      "Executable:   /opt/miniconda3/envs/biobb_env/bin/gmx\n",
      "Data prefix:  /opt/miniconda3/envs/biobb_env\n",
      "Working dir:  /home/lg/repos/javerianaMD/biobb_md/notebooks\n",
      "Command line:\n",
      "  gmx -nobackup -nocopyright grompp -f 743872a5-2b5a-4e39-a737-a714d5910ebc/grompp.mdp -c 3HTB_JZ4_min.gro -r 3HTB_JZ4_min.gro -p 5e38f2f1-21b2-4e01-9b43-77bc0385daa4/ligand.top -o 3HTB_JZ4gppnvt.tpr -po mdout.mdp -maxwarn 0 -n 3HTB_JZ4_index.ndx\n",
      "\n",
      "Setting the LD random seed to -2097729166\n",
      "Generated 2556 of the 2556 non-bonded parameter combinations\n",
      "Generating 1-4 interactions: fudge = 0.5\n",
      "Generated 2556 of the 2556 1-4 parameter combinations\n",
      "Excluding 3 bonded neighbours molecule type 'Protein_chain_A'\n",
      "Excluding 3 bonded neighbours molecule type 'JZ4_params'\n",
      "Excluding 2 bonded neighbours molecule type 'SOL'\n",
      "Excluding 1 bonded neighbours molecule type 'NA'\n",
      "Excluding 1 bonded neighbours molecule type 'CL'\n",
      "Setting gen_seed to -386363035\n",
      "Velocities were taken from a Maxwell distribution at 300 K\n",
      "Removing all charge groups because cutoff-scheme=Verlet\n",
      "Number of degrees of freedom in T-Coupling group Protein_Other is 6582.69\n",
      "Number of degrees of freedom in T-Coupling group Water_and_ions is 57105.31\n",
      "Estimate for the relative computational load of the PME mesh part: 0.20\n",
      "\n",
      "GROMACS reminds you: \"A Protein is a Set Of Coordinates\" (A.P. Heiner)\n",
      "\n",
      "\n",
      "2022-04-18 23:20:37,788 [MainThread  ] [INFO ]  Removed: ['mdout.mdp', '5e38f2f1-21b2-4e01-9b43-77bc0385daa4', '743872a5-2b5a-4e39-a737-a714d5910ebc']\n"
     ]
    },
    {
     "data": {
      "text/plain": [
       "0"
      ]
     },
     "execution_count": 113,
     "metadata": {},
     "output_type": "execute_result"
    }
   ],
   "source": [
    "# Grompp: Creating portable binary run file for NVT System Equilibration\n",
    "from biobb_md.gromacs.grompp import grompp\n",
    "\n",
    "# Create prop dict and inputs/outputs\n",
    "output_gppnvt_tpr = pdbCode+'_'+ligandCode+'gppnvt.tpr'\n",
    "prop = {\n",
    "    'mdp':{\n",
    "        'nsteps':'5000',\n",
    "        'tc-grps': 'Protein_Other Water_and_ions',\n",
    "        'Define': '-DPOSRES -D' + posresifdef\n",
    "    },\n",
    "    'simulation_type':'nvt'\n",
    "}\n",
    "\n",
    "# Create and launch bb\n",
    "grompp(input_gro_path=output_min_gro,\n",
    "       input_top_zip_path=output_genion_top_zip,\n",
    "       input_ndx_path=output_complex_ndx,\n",
    "       output_tpr_path=output_gppnvt_tpr,\n",
    "       properties=prop)"
   ]
  },
  {
   "cell_type": "markdown",
   "metadata": {},
   "source": [
    "<a id=\"eqNVTStep3\"></a>\n",
    "### Step 3: Running NVT equilibration"
   ]
  },
  {
   "cell_type": "code",
   "execution_count": 115,
   "metadata": {
    "scrolled": false
   },
   "outputs": [
    {
     "name": "stdout",
     "output_type": "stream",
     "text": [
      "2022-04-18 23:47:51,121 [MainThread  ] [INFO ]  GROMACS Mdrun 20191 version detected\n",
      "2022-04-18 23:47:51,126 [MainThread  ] [INFO ]  Not using any container\n",
      "2022-04-18 23:50:02,033 [MainThread  ] [INFO ]  gmx -nobackup -nocopyright mdrun -s 3HTB_JZ4gppnvt.tpr -o 3HTB_JZ4_nvt.trr -c 3HTB_JZ4_nvt.gro -e 3HTB_JZ4_nvt.edr -g 3HTB_JZ4_nvt.log -cpo 3HTB_JZ4_nvt.cpt\n",
      "\n",
      "2022-04-18 23:50:02,035 [MainThread  ] [INFO ]  Exit code 0\n",
      "\n",
      "2022-04-18 23:50:02,035 [MainThread  ] [INFO ]                        :-) GROMACS - gmx mdrun, 2019.1 (-:\n",
      "\n",
      "Executable:   /opt/miniconda3/envs/biobb_env/bin/gmx\n",
      "Data prefix:  /opt/miniconda3/envs/biobb_env\n",
      "Working dir:  /home/lg/repos/javerianaMD/biobb_md/notebooks\n",
      "Command line:\n",
      "  gmx -nobackup -nocopyright mdrun -s 3HTB_JZ4gppnvt.tpr -o 3HTB_JZ4_nvt.trr -c 3HTB_JZ4_nvt.gro -e 3HTB_JZ4_nvt.edr -g 3HTB_JZ4_nvt.log -cpo 3HTB_JZ4_nvt.cpt\n",
      "\n",
      "Compiled SIMD: SSE2, but for this host/run AVX2_256 might be better (see log).\n",
      "The current CPU can measure timings more accurately than the code in\n",
      "gmx mdrun was configured to use. This might affect your simulation\n",
      "speed as accurate timings are needed for load-balancing.\n",
      "Please consider rebuilding gmx mdrun with the GMX_USE_RDTSCP=ON CMake option.\n",
      "Reading file 3HTB_JZ4gppnvt.tpr, VERSION 2019.1 (single precision)\n",
      "Changing nstlist from 10 to 50, rlist from 1 to 1.112\n",
      "\n",
      "\n",
      "Using 1 MPI thread\n",
      "Using 4 OpenMP threads \n",
      "\n",
      "starting mdrun 'Protein in water'\n",
      "5000 steps,     10.0 ps.\n",
      "\n",
      "Writing final coordinates.\n",
      "\n",
      "               Core t (s)   Wall t (s)        (%)\n",
      "       Time:      508.967      127.245      400.0\n",
      "                 (ns/day)    (hour/ns)\n",
      "Performance:        6.791        3.534\n",
      "\n",
      "GROMACS reminds you: \"Cowardly refusing to create an empty archive\" (GNU tar)\n",
      "\n",
      "\n",
      "2022-04-18 23:50:02,036 [MainThread  ] [INFO ]  Removed: []\n"
     ]
    },
    {
     "data": {
      "text/plain": [
       "0"
      ]
     },
     "execution_count": 115,
     "metadata": {},
     "output_type": "execute_result"
    }
   ],
   "source": [
    "# Mdrun: Running NVT System Equilibration \n",
    "from biobb_md.gromacs.mdrun import mdrun\n",
    "\n",
    "# Create prop dict and inputs/outputs\n",
    "output_nvt_trr = pdbCode+'_'+ligandCode+'_nvt.trr'\n",
    "output_nvt_gro = pdbCode+'_'+ligandCode+'_nvt.gro'\n",
    "output_nvt_edr = pdbCode+'_'+ligandCode+'_nvt.edr'\n",
    "output_nvt_log = pdbCode+'_'+ligandCode+'_nvt.log'\n",
    "output_nvt_cpt = pdbCode+'_'+ligandCode+'_nvt.cpt'\n",
    "\n",
    "# Create and launch bb\n",
    "mdrun(input_tpr_path=output_gppnvt_tpr,\n",
    "      output_trr_path=output_nvt_trr,\n",
    "      output_gro_path=output_nvt_gro,\n",
    "      output_edr_path=output_nvt_edr,\n",
    "      output_log_path=output_nvt_log,\n",
    "      output_cpt_path=output_nvt_cpt)"
   ]
  },
  {
   "cell_type": "markdown",
   "metadata": {},
   "source": [
    "<a id=\"eqNVTStep4\"></a>\n",
    "### Step 4: Checking NVT Equilibration results\n",
    "Checking **NVT Equilibration** results. Plotting **system temperature** by time during the NVT equilibration process. "
   ]
  },
  {
   "cell_type": "code",
   "execution_count": 116,
   "metadata": {
    "scrolled": false
   },
   "outputs": [
    {
     "name": "stdout",
     "output_type": "stream",
     "text": [
      "2022-04-18 23:56:54,284 [MainThread  ] [INFO ]  Not using any container\n",
      "2022-04-18 23:56:54,302 [MainThread  ] [INFO ]  gmx energy -f /home/lg/repos/javerianaMD/biobb_md/notebooks/3HTB_JZ4_nvt.edr -o 3HTB_JZ4_nvt_temp.xvg -xvg none < 18f01f0f-84ef-4f7a-9d49-84e599e4d2e0/instructions.in\n",
      "\n",
      "2022-04-18 23:56:54,303 [MainThread  ] [INFO ]  Exit code 0\n",
      "\n",
      "2022-04-18 23:56:54,305 [MainThread  ] [INFO ]  \n",
      "Statistics over 5001 steps [ 0.0000 through 10.0000 ps ], 1 data sets\n",
      "All statistics are over 51 points\n",
      "\n",
      "Energy                      Average   Err.Est.       RMSD  Tot-Drift\n",
      "-------------------------------------------------------------------------------\n",
      "Temperature                 298.178        1.8    8.89853     9.6089  (K)\n",
      "\n",
      "2022-04-18 23:56:54,306 [MainThread  ] [INFO ]                        :-) GROMACS - gmx energy, 2019.1 (-:\n",
      "\n",
      "                            GROMACS is written by:\n",
      "     Emile Apol      Rossen Apostolov      Paul Bauer     Herman J.C. Berendsen\n",
      "    Par Bjelkmar      Christian Blau   Viacheslav Bolnykh     Kevin Boyd    \n",
      " Aldert van Buuren   Rudi van Drunen     Anton Feenstra       Alan Gray     \n",
      "  Gerrit Groenhof     Anca Hamuraru    Vincent Hindriksen  M. Eric Irrgang  \n",
      "  Aleksei Iupinov   Christoph Junghans     Joe Jordan     Dimitrios Karkoulis\n",
      "    Peter Kasson        Jiri Kraus      Carsten Kutzner      Per Larsson    \n",
      "  Justin A. Lemkul    Viveca Lindahl    Magnus Lundborg     Erik Marklund   \n",
      "    Pascal Merz     Pieter Meulenhoff    Teemu Murtola       Szilard Pall   \n",
      "    Sander Pronk      Roland Schulz      Michael Shirts    Alexey Shvetsov  \n",
      "   Alfons Sijbers     Peter Tieleman      Jon Vincent      Teemu Virolainen \n",
      " Christian Wennberg    Maarten Wolf   \n",
      "                           and the project leaders:\n",
      "        Mark Abraham, Berk Hess, Erik Lindahl, and David van der Spoel\n",
      "\n",
      "Copyright (c) 1991-2000, University of Groningen, The Netherlands.\n",
      "Copyright (c) 2001-2018, The GROMACS development team at\n",
      "Uppsala University, Stockholm University and\n",
      "the Royal Institute of Technology, Sweden.\n",
      "check out http://www.gromacs.org for more information.\n",
      "\n",
      "GROMACS is free software; you can redistribute it and/or modify it\n",
      "under the terms of the GNU Lesser General Public License\n",
      "as published by the Free Software Foundation; either version 2.1\n",
      "of the License, or (at your option) any later version.\n",
      "\n",
      "GROMACS:      gmx energy, version 2019.1\n",
      "Executable:   /opt/miniconda3/envs/biobb_env/bin/gmx\n",
      "Data prefix:  /opt/miniconda3/envs/biobb_env\n",
      "Working dir:  /home/lg/repos/javerianaMD/biobb_md/notebooks\n",
      "Command line:\n",
      "  gmx energy -f /home/lg/repos/javerianaMD/biobb_md/notebooks/3HTB_JZ4_nvt.edr -o 3HTB_JZ4_nvt_temp.xvg -xvg none\n",
      "\n",
      "Opened /home/lg/repos/javerianaMD/biobb_md/notebooks/3HTB_JZ4_nvt.edr as single precision energy file\n",
      "\n",
      "Select the terms you want from the following list by\n",
      "selecting either (part of) the name or the number or a combination.\n",
      "End your selection with an empty line or a zero.\n",
      "-------------------------------------------------------------------\n",
      "  1  Bond             2  Angle            3  Proper-Dih.      4  Improper-Dih. \n",
      "  5  LJ-14            6  Coulomb-14       7  LJ-(SR)          8  Disper.-corr. \n",
      "  9  Coulomb-(SR)    10  Coul.-recip.    11  Position-Rest.  12  Potential     \n",
      " 13  Kinetic-En.     14  Total-Energy    15  Conserved-En.   16  Temperature   \n",
      " 17  Pres.-DC        18  Pressure        19  Constr.-rmsd    20  Vir-XX        \n",
      " 21  Vir-XY          22  Vir-XZ          23  Vir-YX          24  Vir-YY        \n",
      " 25  Vir-YZ          26  Vir-ZX          27  Vir-ZY          28  Vir-ZZ        \n",
      " 29  Pres-XX         30  Pres-XY         31  Pres-XZ         32  Pres-YX       \n",
      " 33  Pres-YY         34  Pres-YZ         35  Pres-ZX         36  Pres-ZY       \n",
      " 37  Pres-ZZ                             38  #Surf*SurfTen                     \n",
      " 39  T-Protein_Other                     40  T-Water_and_ions                  \n",
      " 41  Lamb-Protein_Other                  42  Lamb-Water_and_ions               \n",
      "\n",
      "Last energy frame read 10 time   10.000           \n",
      "\n",
      "GROMACS reminds you: \"It's just the way this stuff is done\" (Built to Spill)\n",
      "\n",
      "\n",
      "2022-04-18 23:56:54,308 [MainThread  ] [INFO ]  Removed: [PurePosixPath('18f01f0f-84ef-4f7a-9d49-84e599e4d2e0')]\n"
     ]
    },
    {
     "data": {
      "text/plain": [
       "0"
      ]
     },
     "execution_count": 116,
     "metadata": {},
     "output_type": "execute_result"
    }
   ],
   "source": [
    "# GMXEnergy: Getting system temperature by time during NVT Equilibration  \n",
    "from biobb_analysis.gromacs.gmx_energy import gmx_energy\n",
    "\n",
    "# Create prop dict and inputs/outputs\n",
    "output_nvt_temp_xvg = pdbCode + '_' + ligandCode + '_nvt_temp.xvg'\n",
    "prop = {\n",
    "    'terms':  [\"Temperature\"]\n",
    "}\n",
    "\n",
    "# Create and launch bb\n",
    "gmx_energy(input_energy_path=output_nvt_edr, \n",
    "          output_xvg_path=output_nvt_temp_xvg, \n",
    "          properties=prop)"
   ]
  },
  {
   "cell_type": "code",
   "execution_count": 117,
   "metadata": {
    "scrolled": false
   },
   "outputs": [
    {
     "data": {
      "text/html": [
       "        <script type=\"text/javascript\">\n",
       "        window.PlotlyConfig = {MathJaxConfig: 'local'};\n",
       "        if (window.MathJax) {MathJax.Hub.Config({SVG: {font: \"STIX-Web\"}});}\n",
       "        if (typeof require !== 'undefined') {\n",
       "        require.undef(\"plotly\");\n",
       "        requirejs.config({\n",
       "            paths: {\n",
       "                'plotly': ['https://cdn.plot.ly/plotly-2.11.1.min']\n",
       "            }\n",
       "        });\n",
       "        require(['plotly'], function(Plotly) {\n",
       "            window._Plotly = Plotly;\n",
       "        });\n",
       "        }\n",
       "        </script>\n",
       "        "
      ]
     },
     "metadata": {},
     "output_type": "display_data"
    },
    {
     "data": {
      "application/vnd.plotly.v1+json": {
       "config": {
        "linkText": "Export to plot.ly",
        "plotlyServerURL": "https://plot.ly",
        "showLink": false
       },
       "data": [
        {
         "type": "scatter",
         "x": [
          0,
          1,
          2,
          3,
          4,
          5,
          6,
          7,
          8,
          9,
          10
         ],
         "y": [
          300.876709,
          297.622314,
          299.073669,
          301.20813,
          301.419617,
          300.771484,
          303.212524,
          302.754822,
          301.17627,
          298.723145,
          299.52359
         ]
        }
       ],
       "layout": {
        "template": {
         "data": {
          "bar": [
           {
            "error_x": {
             "color": "#2a3f5f"
            },
            "error_y": {
             "color": "#2a3f5f"
            },
            "marker": {
             "line": {
              "color": "#E5ECF6",
              "width": 0.5
             },
             "pattern": {
              "fillmode": "overlay",
              "size": 10,
              "solidity": 0.2
             }
            },
            "type": "bar"
           }
          ],
          "barpolar": [
           {
            "marker": {
             "line": {
              "color": "#E5ECF6",
              "width": 0.5
             },
             "pattern": {
              "fillmode": "overlay",
              "size": 10,
              "solidity": 0.2
             }
            },
            "type": "barpolar"
           }
          ],
          "carpet": [
           {
            "aaxis": {
             "endlinecolor": "#2a3f5f",
             "gridcolor": "white",
             "linecolor": "white",
             "minorgridcolor": "white",
             "startlinecolor": "#2a3f5f"
            },
            "baxis": {
             "endlinecolor": "#2a3f5f",
             "gridcolor": "white",
             "linecolor": "white",
             "minorgridcolor": "white",
             "startlinecolor": "#2a3f5f"
            },
            "type": "carpet"
           }
          ],
          "choropleth": [
           {
            "colorbar": {
             "outlinewidth": 0,
             "ticks": ""
            },
            "type": "choropleth"
           }
          ],
          "contour": [
           {
            "colorbar": {
             "outlinewidth": 0,
             "ticks": ""
            },
            "colorscale": [
             [
              0,
              "#0d0887"
             ],
             [
              0.1111111111111111,
              "#46039f"
             ],
             [
              0.2222222222222222,
              "#7201a8"
             ],
             [
              0.3333333333333333,
              "#9c179e"
             ],
             [
              0.4444444444444444,
              "#bd3786"
             ],
             [
              0.5555555555555556,
              "#d8576b"
             ],
             [
              0.6666666666666666,
              "#ed7953"
             ],
             [
              0.7777777777777778,
              "#fb9f3a"
             ],
             [
              0.8888888888888888,
              "#fdca26"
             ],
             [
              1,
              "#f0f921"
             ]
            ],
            "type": "contour"
           }
          ],
          "contourcarpet": [
           {
            "colorbar": {
             "outlinewidth": 0,
             "ticks": ""
            },
            "type": "contourcarpet"
           }
          ],
          "heatmap": [
           {
            "colorbar": {
             "outlinewidth": 0,
             "ticks": ""
            },
            "colorscale": [
             [
              0,
              "#0d0887"
             ],
             [
              0.1111111111111111,
              "#46039f"
             ],
             [
              0.2222222222222222,
              "#7201a8"
             ],
             [
              0.3333333333333333,
              "#9c179e"
             ],
             [
              0.4444444444444444,
              "#bd3786"
             ],
             [
              0.5555555555555556,
              "#d8576b"
             ],
             [
              0.6666666666666666,
              "#ed7953"
             ],
             [
              0.7777777777777778,
              "#fb9f3a"
             ],
             [
              0.8888888888888888,
              "#fdca26"
             ],
             [
              1,
              "#f0f921"
             ]
            ],
            "type": "heatmap"
           }
          ],
          "heatmapgl": [
           {
            "colorbar": {
             "outlinewidth": 0,
             "ticks": ""
            },
            "colorscale": [
             [
              0,
              "#0d0887"
             ],
             [
              0.1111111111111111,
              "#46039f"
             ],
             [
              0.2222222222222222,
              "#7201a8"
             ],
             [
              0.3333333333333333,
              "#9c179e"
             ],
             [
              0.4444444444444444,
              "#bd3786"
             ],
             [
              0.5555555555555556,
              "#d8576b"
             ],
             [
              0.6666666666666666,
              "#ed7953"
             ],
             [
              0.7777777777777778,
              "#fb9f3a"
             ],
             [
              0.8888888888888888,
              "#fdca26"
             ],
             [
              1,
              "#f0f921"
             ]
            ],
            "type": "heatmapgl"
           }
          ],
          "histogram": [
           {
            "marker": {
             "pattern": {
              "fillmode": "overlay",
              "size": 10,
              "solidity": 0.2
             }
            },
            "type": "histogram"
           }
          ],
          "histogram2d": [
           {
            "colorbar": {
             "outlinewidth": 0,
             "ticks": ""
            },
            "colorscale": [
             [
              0,
              "#0d0887"
             ],
             [
              0.1111111111111111,
              "#46039f"
             ],
             [
              0.2222222222222222,
              "#7201a8"
             ],
             [
              0.3333333333333333,
              "#9c179e"
             ],
             [
              0.4444444444444444,
              "#bd3786"
             ],
             [
              0.5555555555555556,
              "#d8576b"
             ],
             [
              0.6666666666666666,
              "#ed7953"
             ],
             [
              0.7777777777777778,
              "#fb9f3a"
             ],
             [
              0.8888888888888888,
              "#fdca26"
             ],
             [
              1,
              "#f0f921"
             ]
            ],
            "type": "histogram2d"
           }
          ],
          "histogram2dcontour": [
           {
            "colorbar": {
             "outlinewidth": 0,
             "ticks": ""
            },
            "colorscale": [
             [
              0,
              "#0d0887"
             ],
             [
              0.1111111111111111,
              "#46039f"
             ],
             [
              0.2222222222222222,
              "#7201a8"
             ],
             [
              0.3333333333333333,
              "#9c179e"
             ],
             [
              0.4444444444444444,
              "#bd3786"
             ],
             [
              0.5555555555555556,
              "#d8576b"
             ],
             [
              0.6666666666666666,
              "#ed7953"
             ],
             [
              0.7777777777777778,
              "#fb9f3a"
             ],
             [
              0.8888888888888888,
              "#fdca26"
             ],
             [
              1,
              "#f0f921"
             ]
            ],
            "type": "histogram2dcontour"
           }
          ],
          "mesh3d": [
           {
            "colorbar": {
             "outlinewidth": 0,
             "ticks": ""
            },
            "type": "mesh3d"
           }
          ],
          "parcoords": [
           {
            "line": {
             "colorbar": {
              "outlinewidth": 0,
              "ticks": ""
             }
            },
            "type": "parcoords"
           }
          ],
          "pie": [
           {
            "automargin": true,
            "type": "pie"
           }
          ],
          "scatter": [
           {
            "fillpattern": {
             "fillmode": "overlay",
             "size": 10,
             "solidity": 0.2
            },
            "type": "scatter"
           }
          ],
          "scatter3d": [
           {
            "line": {
             "colorbar": {
              "outlinewidth": 0,
              "ticks": ""
             }
            },
            "marker": {
             "colorbar": {
              "outlinewidth": 0,
              "ticks": ""
             }
            },
            "type": "scatter3d"
           }
          ],
          "scattercarpet": [
           {
            "marker": {
             "colorbar": {
              "outlinewidth": 0,
              "ticks": ""
             }
            },
            "type": "scattercarpet"
           }
          ],
          "scattergeo": [
           {
            "marker": {
             "colorbar": {
              "outlinewidth": 0,
              "ticks": ""
             }
            },
            "type": "scattergeo"
           }
          ],
          "scattergl": [
           {
            "marker": {
             "colorbar": {
              "outlinewidth": 0,
              "ticks": ""
             }
            },
            "type": "scattergl"
           }
          ],
          "scattermapbox": [
           {
            "marker": {
             "colorbar": {
              "outlinewidth": 0,
              "ticks": ""
             }
            },
            "type": "scattermapbox"
           }
          ],
          "scatterpolar": [
           {
            "marker": {
             "colorbar": {
              "outlinewidth": 0,
              "ticks": ""
             }
            },
            "type": "scatterpolar"
           }
          ],
          "scatterpolargl": [
           {
            "marker": {
             "colorbar": {
              "outlinewidth": 0,
              "ticks": ""
             }
            },
            "type": "scatterpolargl"
           }
          ],
          "scatterternary": [
           {
            "marker": {
             "colorbar": {
              "outlinewidth": 0,
              "ticks": ""
             }
            },
            "type": "scatterternary"
           }
          ],
          "surface": [
           {
            "colorbar": {
             "outlinewidth": 0,
             "ticks": ""
            },
            "colorscale": [
             [
              0,
              "#0d0887"
             ],
             [
              0.1111111111111111,
              "#46039f"
             ],
             [
              0.2222222222222222,
              "#7201a8"
             ],
             [
              0.3333333333333333,
              "#9c179e"
             ],
             [
              0.4444444444444444,
              "#bd3786"
             ],
             [
              0.5555555555555556,
              "#d8576b"
             ],
             [
              0.6666666666666666,
              "#ed7953"
             ],
             [
              0.7777777777777778,
              "#fb9f3a"
             ],
             [
              0.8888888888888888,
              "#fdca26"
             ],
             [
              1,
              "#f0f921"
             ]
            ],
            "type": "surface"
           }
          ],
          "table": [
           {
            "cells": {
             "fill": {
              "color": "#EBF0F8"
             },
             "line": {
              "color": "white"
             }
            },
            "header": {
             "fill": {
              "color": "#C8D4E3"
             },
             "line": {
              "color": "white"
             }
            },
            "type": "table"
           }
          ]
         },
         "layout": {
          "annotationdefaults": {
           "arrowcolor": "#2a3f5f",
           "arrowhead": 0,
           "arrowwidth": 1
          },
          "autotypenumbers": "strict",
          "coloraxis": {
           "colorbar": {
            "outlinewidth": 0,
            "ticks": ""
           }
          },
          "colorscale": {
           "diverging": [
            [
             0,
             "#8e0152"
            ],
            [
             0.1,
             "#c51b7d"
            ],
            [
             0.2,
             "#de77ae"
            ],
            [
             0.3,
             "#f1b6da"
            ],
            [
             0.4,
             "#fde0ef"
            ],
            [
             0.5,
             "#f7f7f7"
            ],
            [
             0.6,
             "#e6f5d0"
            ],
            [
             0.7,
             "#b8e186"
            ],
            [
             0.8,
             "#7fbc41"
            ],
            [
             0.9,
             "#4d9221"
            ],
            [
             1,
             "#276419"
            ]
           ],
           "sequential": [
            [
             0,
             "#0d0887"
            ],
            [
             0.1111111111111111,
             "#46039f"
            ],
            [
             0.2222222222222222,
             "#7201a8"
            ],
            [
             0.3333333333333333,
             "#9c179e"
            ],
            [
             0.4444444444444444,
             "#bd3786"
            ],
            [
             0.5555555555555556,
             "#d8576b"
            ],
            [
             0.6666666666666666,
             "#ed7953"
            ],
            [
             0.7777777777777778,
             "#fb9f3a"
            ],
            [
             0.8888888888888888,
             "#fdca26"
            ],
            [
             1,
             "#f0f921"
            ]
           ],
           "sequentialminus": [
            [
             0,
             "#0d0887"
            ],
            [
             0.1111111111111111,
             "#46039f"
            ],
            [
             0.2222222222222222,
             "#7201a8"
            ],
            [
             0.3333333333333333,
             "#9c179e"
            ],
            [
             0.4444444444444444,
             "#bd3786"
            ],
            [
             0.5555555555555556,
             "#d8576b"
            ],
            [
             0.6666666666666666,
             "#ed7953"
            ],
            [
             0.7777777777777778,
             "#fb9f3a"
            ],
            [
             0.8888888888888888,
             "#fdca26"
            ],
            [
             1,
             "#f0f921"
            ]
           ]
          },
          "colorway": [
           "#636efa",
           "#EF553B",
           "#00cc96",
           "#ab63fa",
           "#FFA15A",
           "#19d3f3",
           "#FF6692",
           "#B6E880",
           "#FF97FF",
           "#FECB52"
          ],
          "font": {
           "color": "#2a3f5f"
          },
          "geo": {
           "bgcolor": "white",
           "lakecolor": "white",
           "landcolor": "#E5ECF6",
           "showlakes": true,
           "showland": true,
           "subunitcolor": "white"
          },
          "hoverlabel": {
           "align": "left"
          },
          "hovermode": "closest",
          "mapbox": {
           "style": "light"
          },
          "paper_bgcolor": "white",
          "plot_bgcolor": "#E5ECF6",
          "polar": {
           "angularaxis": {
            "gridcolor": "white",
            "linecolor": "white",
            "ticks": ""
           },
           "bgcolor": "#E5ECF6",
           "radialaxis": {
            "gridcolor": "white",
            "linecolor": "white",
            "ticks": ""
           }
          },
          "scene": {
           "xaxis": {
            "backgroundcolor": "#E5ECF6",
            "gridcolor": "white",
            "gridwidth": 2,
            "linecolor": "white",
            "showbackground": true,
            "ticks": "",
            "zerolinecolor": "white"
           },
           "yaxis": {
            "backgroundcolor": "#E5ECF6",
            "gridcolor": "white",
            "gridwidth": 2,
            "linecolor": "white",
            "showbackground": true,
            "ticks": "",
            "zerolinecolor": "white"
           },
           "zaxis": {
            "backgroundcolor": "#E5ECF6",
            "gridcolor": "white",
            "gridwidth": 2,
            "linecolor": "white",
            "showbackground": true,
            "ticks": "",
            "zerolinecolor": "white"
           }
          },
          "shapedefaults": {
           "line": {
            "color": "#2a3f5f"
           }
          },
          "ternary": {
           "aaxis": {
            "gridcolor": "white",
            "linecolor": "white",
            "ticks": ""
           },
           "baxis": {
            "gridcolor": "white",
            "linecolor": "white",
            "ticks": ""
           },
           "bgcolor": "#E5ECF6",
           "caxis": {
            "gridcolor": "white",
            "linecolor": "white",
            "ticks": ""
           }
          },
          "title": {
           "x": 0.05
          },
          "xaxis": {
           "automargin": true,
           "gridcolor": "white",
           "linecolor": "white",
           "ticks": "",
           "title": {
            "standoff": 15
           },
           "zerolinecolor": "white",
           "zerolinewidth": 2
          },
          "yaxis": {
           "automargin": true,
           "gridcolor": "white",
           "linecolor": "white",
           "ticks": "",
           "title": {
            "standoff": 15
           },
           "zerolinecolor": "white",
           "zerolinewidth": 2
          }
         }
        },
        "title": {
         "text": "Temperature during NVT Equilibration"
        },
        "xaxis": {
         "title": {
          "text": "Time (ps)"
         }
        },
        "yaxis": {
         "title": {
          "text": "Temperature (K)"
         }
        }
       }
      },
      "text/html": [
       "<div>                            <div id=\"d8a6d626-1a5b-4d33-a0fc-d3cf86d45fae\" class=\"plotly-graph-div\" style=\"height:525px; width:100%;\"></div>            <script type=\"text/javascript\">                require([\"plotly\"], function(Plotly) {                    window.PLOTLYENV=window.PLOTLYENV || {};                                    if (document.getElementById(\"d8a6d626-1a5b-4d33-a0fc-d3cf86d45fae\")) {                    Plotly.newPlot(                        \"d8a6d626-1a5b-4d33-a0fc-d3cf86d45fae\",                        [{\"x\":[0.0,1.0,2.0,3.0,4.0,5.0,6.0,7.0,8.0,9.0,10.0],\"y\":[300.876709,297.622314,299.073669,301.20813,301.419617,300.771484,303.212524,302.754822,301.17627,298.723145,299.52359],\"type\":\"scatter\"}],                        {\"template\":{\"data\":{\"barpolar\":[{\"marker\":{\"line\":{\"color\":\"#E5ECF6\",\"width\":0.5},\"pattern\":{\"fillmode\":\"overlay\",\"size\":10,\"solidity\":0.2}},\"type\":\"barpolar\"}],\"bar\":[{\"error_x\":{\"color\":\"#2a3f5f\"},\"error_y\":{\"color\":\"#2a3f5f\"},\"marker\":{\"line\":{\"color\":\"#E5ECF6\",\"width\":0.5},\"pattern\":{\"fillmode\":\"overlay\",\"size\":10,\"solidity\":0.2}},\"type\":\"bar\"}],\"carpet\":[{\"aaxis\":{\"endlinecolor\":\"#2a3f5f\",\"gridcolor\":\"white\",\"linecolor\":\"white\",\"minorgridcolor\":\"white\",\"startlinecolor\":\"#2a3f5f\"},\"baxis\":{\"endlinecolor\":\"#2a3f5f\",\"gridcolor\":\"white\",\"linecolor\":\"white\",\"minorgridcolor\":\"white\",\"startlinecolor\":\"#2a3f5f\"},\"type\":\"carpet\"}],\"choropleth\":[{\"colorbar\":{\"outlinewidth\":0,\"ticks\":\"\"},\"type\":\"choropleth\"}],\"contourcarpet\":[{\"colorbar\":{\"outlinewidth\":0,\"ticks\":\"\"},\"type\":\"contourcarpet\"}],\"contour\":[{\"colorbar\":{\"outlinewidth\":0,\"ticks\":\"\"},\"colorscale\":[[0.0,\"#0d0887\"],[0.1111111111111111,\"#46039f\"],[0.2222222222222222,\"#7201a8\"],[0.3333333333333333,\"#9c179e\"],[0.4444444444444444,\"#bd3786\"],[0.5555555555555556,\"#d8576b\"],[0.6666666666666666,\"#ed7953\"],[0.7777777777777778,\"#fb9f3a\"],[0.8888888888888888,\"#fdca26\"],[1.0,\"#f0f921\"]],\"type\":\"contour\"}],\"heatmapgl\":[{\"colorbar\":{\"outlinewidth\":0,\"ticks\":\"\"},\"colorscale\":[[0.0,\"#0d0887\"],[0.1111111111111111,\"#46039f\"],[0.2222222222222222,\"#7201a8\"],[0.3333333333333333,\"#9c179e\"],[0.4444444444444444,\"#bd3786\"],[0.5555555555555556,\"#d8576b\"],[0.6666666666666666,\"#ed7953\"],[0.7777777777777778,\"#fb9f3a\"],[0.8888888888888888,\"#fdca26\"],[1.0,\"#f0f921\"]],\"type\":\"heatmapgl\"}],\"heatmap\":[{\"colorbar\":{\"outlinewidth\":0,\"ticks\":\"\"},\"colorscale\":[[0.0,\"#0d0887\"],[0.1111111111111111,\"#46039f\"],[0.2222222222222222,\"#7201a8\"],[0.3333333333333333,\"#9c179e\"],[0.4444444444444444,\"#bd3786\"],[0.5555555555555556,\"#d8576b\"],[0.6666666666666666,\"#ed7953\"],[0.7777777777777778,\"#fb9f3a\"],[0.8888888888888888,\"#fdca26\"],[1.0,\"#f0f921\"]],\"type\":\"heatmap\"}],\"histogram2dcontour\":[{\"colorbar\":{\"outlinewidth\":0,\"ticks\":\"\"},\"colorscale\":[[0.0,\"#0d0887\"],[0.1111111111111111,\"#46039f\"],[0.2222222222222222,\"#7201a8\"],[0.3333333333333333,\"#9c179e\"],[0.4444444444444444,\"#bd3786\"],[0.5555555555555556,\"#d8576b\"],[0.6666666666666666,\"#ed7953\"],[0.7777777777777778,\"#fb9f3a\"],[0.8888888888888888,\"#fdca26\"],[1.0,\"#f0f921\"]],\"type\":\"histogram2dcontour\"}],\"histogram2d\":[{\"colorbar\":{\"outlinewidth\":0,\"ticks\":\"\"},\"colorscale\":[[0.0,\"#0d0887\"],[0.1111111111111111,\"#46039f\"],[0.2222222222222222,\"#7201a8\"],[0.3333333333333333,\"#9c179e\"],[0.4444444444444444,\"#bd3786\"],[0.5555555555555556,\"#d8576b\"],[0.6666666666666666,\"#ed7953\"],[0.7777777777777778,\"#fb9f3a\"],[0.8888888888888888,\"#fdca26\"],[1.0,\"#f0f921\"]],\"type\":\"histogram2d\"}],\"histogram\":[{\"marker\":{\"pattern\":{\"fillmode\":\"overlay\",\"size\":10,\"solidity\":0.2}},\"type\":\"histogram\"}],\"mesh3d\":[{\"colorbar\":{\"outlinewidth\":0,\"ticks\":\"\"},\"type\":\"mesh3d\"}],\"parcoords\":[{\"line\":{\"colorbar\":{\"outlinewidth\":0,\"ticks\":\"\"}},\"type\":\"parcoords\"}],\"pie\":[{\"automargin\":true,\"type\":\"pie\"}],\"scatter3d\":[{\"line\":{\"colorbar\":{\"outlinewidth\":0,\"ticks\":\"\"}},\"marker\":{\"colorbar\":{\"outlinewidth\":0,\"ticks\":\"\"}},\"type\":\"scatter3d\"}],\"scattercarpet\":[{\"marker\":{\"colorbar\":{\"outlinewidth\":0,\"ticks\":\"\"}},\"type\":\"scattercarpet\"}],\"scattergeo\":[{\"marker\":{\"colorbar\":{\"outlinewidth\":0,\"ticks\":\"\"}},\"type\":\"scattergeo\"}],\"scattergl\":[{\"marker\":{\"colorbar\":{\"outlinewidth\":0,\"ticks\":\"\"}},\"type\":\"scattergl\"}],\"scattermapbox\":[{\"marker\":{\"colorbar\":{\"outlinewidth\":0,\"ticks\":\"\"}},\"type\":\"scattermapbox\"}],\"scatterpolargl\":[{\"marker\":{\"colorbar\":{\"outlinewidth\":0,\"ticks\":\"\"}},\"type\":\"scatterpolargl\"}],\"scatterpolar\":[{\"marker\":{\"colorbar\":{\"outlinewidth\":0,\"ticks\":\"\"}},\"type\":\"scatterpolar\"}],\"scatter\":[{\"fillpattern\":{\"fillmode\":\"overlay\",\"size\":10,\"solidity\":0.2},\"type\":\"scatter\"}],\"scatterternary\":[{\"marker\":{\"colorbar\":{\"outlinewidth\":0,\"ticks\":\"\"}},\"type\":\"scatterternary\"}],\"surface\":[{\"colorbar\":{\"outlinewidth\":0,\"ticks\":\"\"},\"colorscale\":[[0.0,\"#0d0887\"],[0.1111111111111111,\"#46039f\"],[0.2222222222222222,\"#7201a8\"],[0.3333333333333333,\"#9c179e\"],[0.4444444444444444,\"#bd3786\"],[0.5555555555555556,\"#d8576b\"],[0.6666666666666666,\"#ed7953\"],[0.7777777777777778,\"#fb9f3a\"],[0.8888888888888888,\"#fdca26\"],[1.0,\"#f0f921\"]],\"type\":\"surface\"}],\"table\":[{\"cells\":{\"fill\":{\"color\":\"#EBF0F8\"},\"line\":{\"color\":\"white\"}},\"header\":{\"fill\":{\"color\":\"#C8D4E3\"},\"line\":{\"color\":\"white\"}},\"type\":\"table\"}]},\"layout\":{\"annotationdefaults\":{\"arrowcolor\":\"#2a3f5f\",\"arrowhead\":0,\"arrowwidth\":1},\"autotypenumbers\":\"strict\",\"coloraxis\":{\"colorbar\":{\"outlinewidth\":0,\"ticks\":\"\"}},\"colorscale\":{\"diverging\":[[0,\"#8e0152\"],[0.1,\"#c51b7d\"],[0.2,\"#de77ae\"],[0.3,\"#f1b6da\"],[0.4,\"#fde0ef\"],[0.5,\"#f7f7f7\"],[0.6,\"#e6f5d0\"],[0.7,\"#b8e186\"],[0.8,\"#7fbc41\"],[0.9,\"#4d9221\"],[1,\"#276419\"]],\"sequential\":[[0.0,\"#0d0887\"],[0.1111111111111111,\"#46039f\"],[0.2222222222222222,\"#7201a8\"],[0.3333333333333333,\"#9c179e\"],[0.4444444444444444,\"#bd3786\"],[0.5555555555555556,\"#d8576b\"],[0.6666666666666666,\"#ed7953\"],[0.7777777777777778,\"#fb9f3a\"],[0.8888888888888888,\"#fdca26\"],[1.0,\"#f0f921\"]],\"sequentialminus\":[[0.0,\"#0d0887\"],[0.1111111111111111,\"#46039f\"],[0.2222222222222222,\"#7201a8\"],[0.3333333333333333,\"#9c179e\"],[0.4444444444444444,\"#bd3786\"],[0.5555555555555556,\"#d8576b\"],[0.6666666666666666,\"#ed7953\"],[0.7777777777777778,\"#fb9f3a\"],[0.8888888888888888,\"#fdca26\"],[1.0,\"#f0f921\"]]},\"colorway\":[\"#636efa\",\"#EF553B\",\"#00cc96\",\"#ab63fa\",\"#FFA15A\",\"#19d3f3\",\"#FF6692\",\"#B6E880\",\"#FF97FF\",\"#FECB52\"],\"font\":{\"color\":\"#2a3f5f\"},\"geo\":{\"bgcolor\":\"white\",\"lakecolor\":\"white\",\"landcolor\":\"#E5ECF6\",\"showlakes\":true,\"showland\":true,\"subunitcolor\":\"white\"},\"hoverlabel\":{\"align\":\"left\"},\"hovermode\":\"closest\",\"mapbox\":{\"style\":\"light\"},\"paper_bgcolor\":\"white\",\"plot_bgcolor\":\"#E5ECF6\",\"polar\":{\"angularaxis\":{\"gridcolor\":\"white\",\"linecolor\":\"white\",\"ticks\":\"\"},\"bgcolor\":\"#E5ECF6\",\"radialaxis\":{\"gridcolor\":\"white\",\"linecolor\":\"white\",\"ticks\":\"\"}},\"scene\":{\"xaxis\":{\"backgroundcolor\":\"#E5ECF6\",\"gridcolor\":\"white\",\"gridwidth\":2,\"linecolor\":\"white\",\"showbackground\":true,\"ticks\":\"\",\"zerolinecolor\":\"white\"},\"yaxis\":{\"backgroundcolor\":\"#E5ECF6\",\"gridcolor\":\"white\",\"gridwidth\":2,\"linecolor\":\"white\",\"showbackground\":true,\"ticks\":\"\",\"zerolinecolor\":\"white\"},\"zaxis\":{\"backgroundcolor\":\"#E5ECF6\",\"gridcolor\":\"white\",\"gridwidth\":2,\"linecolor\":\"white\",\"showbackground\":true,\"ticks\":\"\",\"zerolinecolor\":\"white\"}},\"shapedefaults\":{\"line\":{\"color\":\"#2a3f5f\"}},\"ternary\":{\"aaxis\":{\"gridcolor\":\"white\",\"linecolor\":\"white\",\"ticks\":\"\"},\"baxis\":{\"gridcolor\":\"white\",\"linecolor\":\"white\",\"ticks\":\"\"},\"bgcolor\":\"#E5ECF6\",\"caxis\":{\"gridcolor\":\"white\",\"linecolor\":\"white\",\"ticks\":\"\"}},\"title\":{\"x\":0.05},\"xaxis\":{\"automargin\":true,\"gridcolor\":\"white\",\"linecolor\":\"white\",\"ticks\":\"\",\"title\":{\"standoff\":15},\"zerolinecolor\":\"white\",\"zerolinewidth\":2},\"yaxis\":{\"automargin\":true,\"gridcolor\":\"white\",\"linecolor\":\"white\",\"ticks\":\"\",\"title\":{\"standoff\":15},\"zerolinecolor\":\"white\",\"zerolinewidth\":2}}},\"title\":{\"text\":\"Temperature during NVT Equilibration\"},\"xaxis\":{\"title\":{\"text\":\"Time (ps)\"}},\"yaxis\":{\"title\":{\"text\":\"Temperature (K)\"}}},                        {\"responsive\": true}                    ).then(function(){\n",
       "                            \n",
       "var gd = document.getElementById('d8a6d626-1a5b-4d33-a0fc-d3cf86d45fae');\n",
       "var x = new MutationObserver(function (mutations, observer) {{\n",
       "        var display = window.getComputedStyle(gd).display;\n",
       "        if (!display || display === 'none') {{\n",
       "            console.log([gd, 'removed!']);\n",
       "            Plotly.purge(gd);\n",
       "            observer.disconnect();\n",
       "        }}\n",
       "}});\n",
       "\n",
       "// Listen for the removal of the full notebook cells\n",
       "var notebookContainer = gd.closest('#notebook-container');\n",
       "if (notebookContainer) {{\n",
       "    x.observe(notebookContainer, {childList: true});\n",
       "}}\n",
       "\n",
       "// Listen for the clearing of the current output cell\n",
       "var outputEl = gd.closest('.output');\n",
       "if (outputEl) {{\n",
       "    x.observe(outputEl, {childList: true});\n",
       "}}\n",
       "\n",
       "                        })                };                });            </script>        </div>"
      ]
     },
     "metadata": {},
     "output_type": "display_data"
    }
   ],
   "source": [
    "import plotly\n",
    "import plotly.graph_objs as go\n",
    "\n",
    "# Read temperature data from file \n",
    "with open(output_nvt_temp_xvg,'r') as temperature_file:\n",
    "    x,y = map(\n",
    "        list,\n",
    "        zip(*[\n",
    "            (float(line.split()[0]),float(line.split()[1]))\n",
    "            for line in temperature_file \n",
    "            if not line.startswith((\"#\",\"@\")) \n",
    "        ])\n",
    "    )\n",
    "\n",
    "plotly.offline.init_notebook_mode(connected=True)\n",
    "\n",
    "fig = ({\n",
    "    \"data\": [go.Scatter(x=x, y=y)],\n",
    "    \"layout\": go.Layout(title=\"Temperature during NVT Equilibration\",\n",
    "                        xaxis=dict(title = \"Time (ps)\"),\n",
    "                        yaxis=dict(title = \"Temperature (K)\")\n",
    "                       )\n",
    "})\n",
    "\n",
    "plotly.offline.iplot(fig)"
   ]
  },
  {
   "cell_type": "markdown",
   "metadata": {},
   "source": [
    "<img src='images/fig2.png' width=\"50%\" height=\"50%\"></img>"
   ]
  },
  {
   "cell_type": "markdown",
   "metadata": {},
   "source": [
    "<a id=\"npt\"></a>\n",
    "***\n",
    "## Equilibrate the system (NPT)\n",
    "Equilibrate the **protein-ligand complex** system in NPT ensemble (constant Number of particles, Pressure and Temperature) .\n",
    "- [Step 1](#eqNPTStep1): Creating portable binary run file for system equilibration\n",
    "- [Step 2](#eqNPTStep2): Equilibrate the **protein-ligand complex** with NPT ensemble.\n",
    "- [Step 3](#eqNPTStep3): Checking **NPT Equilibration** results. Plotting **system pressure and density** by time during the **NPT equilibration** process.\n",
    "***\n",
    "**Building Blocks** used:\n",
    " - [Grompp](https://biobb-md.readthedocs.io/en/latest/gromacs.html#module-gromacs.grompp) from **biobb_md.gromacs.grompp** \n",
    " - [Mdrun](https://biobb-md.readthedocs.io/en/latest/gromacs.html#module-gromacs.mdrun) from **biobb_md.gromacs.mdrun** \n",
    " - [GMXEnergy](https://biobb-analysis.readthedocs.io/en/latest/gromacs.html#module-gromacs.gmx_energy) from **biobb_analysis.gromacs.gmx_energy** \n",
    "***"
   ]
  },
  {
   "cell_type": "markdown",
   "metadata": {},
   "source": [
    "<a id=\"eqNPTStep1\"></a>\n",
    "### Step 1: Creating portable binary run file for system equilibration (NPT)"
   ]
  },
  {
   "cell_type": "code",
   "execution_count": 118,
   "metadata": {
    "scrolled": true
   },
   "outputs": [
    {
     "name": "stdout",
     "output_type": "stream",
     "text": [
      "2022-04-19 00:04:22,642 [MainThread  ] [INFO ]  GROMACS Grompp 20191 version detected\n",
      "2022-04-19 00:04:22,662 [MainThread  ] [INFO ]  Extracting: /home/lg/repos/javerianaMD/biobb_md/notebooks/3HTB_JZ4_genion_top.zip\n",
      "2022-04-19 00:04:22,663 [MainThread  ] [INFO ]  to:\n",
      "2022-04-19 00:04:22,664 [MainThread  ] [INFO ]  ['501e33db-c4ed-4c40-9b54-dbaf3d7b3981/JZ4_params.itp', '501e33db-c4ed-4c40-9b54-dbaf3d7b3981/JZ4_posres.itp', '501e33db-c4ed-4c40-9b54-dbaf3d7b3981/ligand.top', '501e33db-c4ed-4c40-9b54-dbaf3d7b3981/posre.itp']\n",
      "2022-04-19 00:04:22,665 [MainThread  ] [INFO ]  Unzipping: \n",
      "2022-04-19 00:04:22,666 [MainThread  ] [INFO ]  3HTB_JZ4_genion_top.zip\n",
      "2022-04-19 00:04:22,667 [MainThread  ] [INFO ]  To: \n",
      "2022-04-19 00:04:22,668 [MainThread  ] [INFO ]  501e33db-c4ed-4c40-9b54-dbaf3d7b3981/JZ4_params.itp\n",
      "2022-04-19 00:04:22,669 [MainThread  ] [INFO ]  501e33db-c4ed-4c40-9b54-dbaf3d7b3981/JZ4_posres.itp\n",
      "2022-04-19 00:04:22,670 [MainThread  ] [INFO ]  501e33db-c4ed-4c40-9b54-dbaf3d7b3981/ligand.top\n",
      "2022-04-19 00:04:22,671 [MainThread  ] [INFO ]  501e33db-c4ed-4c40-9b54-dbaf3d7b3981/posre.itp\n",
      "2022-04-19 00:04:22,672 [MainThread  ] [INFO ]  Not using any container\n",
      "2022-04-19 00:04:23,712 [MainThread  ] [INFO ]  gmx -nobackup -nocopyright grompp -f 0158fb81-22b2-48ab-8382-d09079f155e9/grompp.mdp -c 3HTB_JZ4_nvt.gro -r 3HTB_JZ4_nvt.gro -p 501e33db-c4ed-4c40-9b54-dbaf3d7b3981/ligand.top -o 3HTB_JZ4_gppnpt.tpr -po mdout.mdp -maxwarn 0 -t 3HTB_JZ4_nvt.cpt -n 3HTB_JZ4_index.ndx\n",
      "\n",
      "2022-04-19 00:04:23,716 [MainThread  ] [INFO ]  Exit code 0\n",
      "\n",
      "2022-04-19 00:04:23,717 [MainThread  ] [INFO ]  turning H bonds into constraints...\n",
      "turning H bonds into constraints...\n",
      "turning H bonds into constraints...\n",
      "turning H bonds into constraints...\n",
      "turning H bonds into constraints...\n",
      "Determining Verlet buffer for a tolerance of 0.005 kJ/mol/ps at 300 K\n",
      "Calculated rlist for 1x1 atom pair-list as 1.034 nm, buffer size 0.034 nm\n",
      "Set rlist, assuming 4x4 atom pair-list, to 1.000 nm, buffer size 0.000 nm\n",
      "Note that mdrun will redetermine rlist based on the actual pair-list setup\n",
      "Calculating fourier grid dimensions for X Y Z\n",
      "Using a fourier grid of 64x64x64, spacing 0.116 0.116 0.116\n",
      "This run will generate roughly 11 Mb of data\n",
      "\n",
      "2022-04-19 00:04:23,718 [MainThread  ] [INFO ]                        :-) GROMACS - gmx grompp, 2019.1 (-:\n",
      "\n",
      "Executable:   /opt/miniconda3/envs/biobb_env/bin/gmx\n",
      "Data prefix:  /opt/miniconda3/envs/biobb_env\n",
      "Working dir:  /home/lg/repos/javerianaMD/biobb_md/notebooks\n",
      "Command line:\n",
      "  gmx -nobackup -nocopyright grompp -f 0158fb81-22b2-48ab-8382-d09079f155e9/grompp.mdp -c 3HTB_JZ4_nvt.gro -r 3HTB_JZ4_nvt.gro -p 501e33db-c4ed-4c40-9b54-dbaf3d7b3981/ligand.top -o 3HTB_JZ4_gppnpt.tpr -po mdout.mdp -maxwarn 0 -t 3HTB_JZ4_nvt.cpt -n 3HTB_JZ4_index.ndx\n",
      "\n",
      "Setting the LD random seed to -1559254732\n",
      "Generated 2556 of the 2556 non-bonded parameter combinations\n",
      "Generating 1-4 interactions: fudge = 0.5\n",
      "Generated 2556 of the 2556 1-4 parameter combinations\n",
      "Excluding 3 bonded neighbours molecule type 'Protein_chain_A'\n",
      "Excluding 3 bonded neighbours molecule type 'JZ4_params'\n",
      "Excluding 2 bonded neighbours molecule type 'SOL'\n",
      "Excluding 1 bonded neighbours molecule type 'NA'\n",
      "Excluding 1 bonded neighbours molecule type 'CL'\n",
      "Removing all charge groups because cutoff-scheme=Verlet\n",
      "\n",
      "NOTE 1 [file ligand.top, line 24865]:\n",
      "  You are combining position restraints with Parrinello-Rahman pressure\n",
      "  coupling, which can lead to instabilities. If you really want to combine\n",
      "  position restraints with pressure coupling, we suggest to use Berendsen\n",
      "  pressure coupling instead.\n",
      "\n",
      "The center of mass of the position restraint coord's is  3.723  5.272  3.047\n",
      "The center of mass of the position restraint coord's is  3.723  5.272  3.047\n",
      "Number of degrees of freedom in T-Coupling group Protein_Other is 6582.69\n",
      "Number of degrees of freedom in T-Coupling group Water_and_ions is 57105.31\n",
      "Reading Coordinates, Velocities and Box size from old trajectory\n",
      "Will read whole trajectory\n",
      "Last frame         -1 time   10.000   \n",
      "Using frame at t = 10 ps\n",
      "Starting time for run is 0 ps\n",
      "Estimate for the relative computational load of the PME mesh part: 0.20\n",
      "\n",
      "There was 1 note\n",
      "\n",
      "GROMACS reminds you: \"Don't Follow Me Home\" (Throwing Muses)\n",
      "\n",
      "\n",
      "2022-04-19 00:04:23,720 [MainThread  ] [INFO ]  Removed: ['mdout.mdp', '501e33db-c4ed-4c40-9b54-dbaf3d7b3981', '0158fb81-22b2-48ab-8382-d09079f155e9']\n"
     ]
    },
    {
     "data": {
      "text/plain": [
       "0"
      ]
     },
     "execution_count": 118,
     "metadata": {},
     "output_type": "execute_result"
    }
   ],
   "source": [
    "# Grompp: Creating portable binary run file for (NPT) System Equilibration\n",
    "from biobb_md.gromacs.grompp import grompp\n",
    "\n",
    "# Create prop dict and inputs/outputs\n",
    "output_gppnpt_tpr = pdbCode+'_'+ligandCode+'_gppnpt.tpr'\n",
    "prop = {\n",
    "    'mdp':{\n",
    "        'type': 'npt',\n",
    "        'nsteps':'5000',\n",
    "        'tc-grps': 'Protein_Other Water_and_ions',\n",
    "        'Define': '-DPOSRES -D' + posresifdef\n",
    "    },\n",
    "    'simulation_type':'npt'\n",
    "}\n",
    "\n",
    "# Create and launch bb\n",
    "grompp(input_gro_path=output_nvt_gro,\n",
    "       input_top_zip_path=output_genion_top_zip,\n",
    "       input_ndx_path=output_complex_ndx,\n",
    "       output_tpr_path=output_gppnpt_tpr,\n",
    "       input_cpt_path=output_nvt_cpt,\n",
    "       properties=prop)"
   ]
  },
  {
   "cell_type": "markdown",
   "metadata": {},
   "source": [
    "<a id=\"eqNPTStep2\"></a>\n",
    "### Step 2: Running NPT equilibration"
   ]
  },
  {
   "cell_type": "code",
   "execution_count": 119,
   "metadata": {
    "scrolled": true
   },
   "outputs": [
    {
     "name": "stdout",
     "output_type": "stream",
     "text": [
      "2022-04-19 00:05:54,597 [MainThread  ] [INFO ]  GROMACS Mdrun 20191 version detected\n",
      "2022-04-19 00:05:54,602 [MainThread  ] [INFO ]  Not using any container\n",
      "2022-04-19 00:08:17,541 [MainThread  ] [INFO ]  gmx -nobackup -nocopyright mdrun -s 3HTB_JZ4_gppnpt.tpr -o 3HTB_JZ4_npt.trr -c 3HTB_JZ4_npt.gro -e 3HTB_JZ4_npt.edr -g 3HTB_JZ4_npt.log -cpo 3HTB_JZ4_npt.cpt\n",
      "\n",
      "2022-04-19 00:08:17,542 [MainThread  ] [INFO ]  Exit code 0\n",
      "\n",
      "2022-04-19 00:08:17,543 [MainThread  ] [INFO ]                        :-) GROMACS - gmx mdrun, 2019.1 (-:\n",
      "\n",
      "Executable:   /opt/miniconda3/envs/biobb_env/bin/gmx\n",
      "Data prefix:  /opt/miniconda3/envs/biobb_env\n",
      "Working dir:  /home/lg/repos/javerianaMD/biobb_md/notebooks\n",
      "Command line:\n",
      "  gmx -nobackup -nocopyright mdrun -s 3HTB_JZ4_gppnpt.tpr -o 3HTB_JZ4_npt.trr -c 3HTB_JZ4_npt.gro -e 3HTB_JZ4_npt.edr -g 3HTB_JZ4_npt.log -cpo 3HTB_JZ4_npt.cpt\n",
      "\n",
      "Compiled SIMD: SSE2, but for this host/run AVX2_256 might be better (see log).\n",
      "The current CPU can measure timings more accurately than the code in\n",
      "gmx mdrun was configured to use. This might affect your simulation\n",
      "speed as accurate timings are needed for load-balancing.\n",
      "Please consider rebuilding gmx mdrun with the GMX_USE_RDTSCP=ON CMake option.\n",
      "Reading file 3HTB_JZ4_gppnpt.tpr, VERSION 2019.1 (single precision)\n",
      "Changing nstlist from 10 to 50, rlist from 1 to 1.112\n",
      "\n",
      "\n",
      "Using 1 MPI thread\n",
      "Using 4 OpenMP threads \n",
      "\n",
      "starting mdrun 'Protein in water'\n",
      "5000 steps,     10.0 ps.\n",
      "\n",
      "Writing final coordinates.\n",
      "\n",
      "               Core t (s)   Wall t (s)        (%)\n",
      "       Time:      565.062      141.266      400.0\n",
      "                 (ns/day)    (hour/ns)\n",
      "Performance:        6.117        3.923\n",
      "\n",
      "GROMACS reminds you: \"Wedged as we are between two eternities of idleness, there is no excuse for being idle now\" (Anthony Burgess)\n",
      "\n",
      "\n",
      "2022-04-19 00:08:17,544 [MainThread  ] [INFO ]  Removed: []\n"
     ]
    },
    {
     "data": {
      "text/plain": [
       "0"
      ]
     },
     "execution_count": 119,
     "metadata": {},
     "output_type": "execute_result"
    }
   ],
   "source": [
    "# Mdrun: Running NPT System Equilibration\n",
    "from biobb_md.gromacs.mdrun import mdrun\n",
    "\n",
    "# Create prop dict and inputs/outputs\n",
    "output_npt_trr = pdbCode+'_'+ligandCode+'_npt.trr'\n",
    "output_npt_gro = pdbCode+'_'+ligandCode+'_npt.gro'\n",
    "output_npt_edr = pdbCode+'_'+ligandCode+'_npt.edr'\n",
    "output_npt_log = pdbCode+'_'+ligandCode+'_npt.log'\n",
    "output_npt_cpt = pdbCode+'_'+ligandCode+'_npt.cpt'\n",
    "\n",
    "# Create and launch bb\n",
    "mdrun(input_tpr_path=output_gppnpt_tpr,\n",
    "      output_trr_path=output_npt_trr,\n",
    "      output_gro_path=output_npt_gro,\n",
    "      output_edr_path=output_npt_edr,\n",
    "      output_log_path=output_npt_log,\n",
    "      output_cpt_path=output_npt_cpt)"
   ]
  },
  {
   "cell_type": "markdown",
   "metadata": {},
   "source": [
    "<a id=\"eqNPTStep3\"></a>\n",
    "### Step 3: Checking NPT Equilibration results\n",
    "Checking **NPT Equilibration** results. Plotting **system pressure and density** by time during the **NPT equilibration** process. "
   ]
  },
  {
   "cell_type": "code",
   "execution_count": 120,
   "metadata": {
    "scrolled": true
   },
   "outputs": [
    {
     "name": "stdout",
     "output_type": "stream",
     "text": [
      "2022-04-19 00:09:06,154 [MainThread  ] [INFO ]  Not using any container\n",
      "2022-04-19 00:09:06,273 [MainThread  ] [INFO ]  gmx energy -f /home/lg/repos/javerianaMD/biobb_md/notebooks/3HTB_JZ4_npt.edr -o 3HTB_JZ4_npt_PD.xvg -xvg none < dd5752e2-5820-4d13-bc17-c6802da76711/instructions.in\n",
      "\n",
      "2022-04-19 00:09:06,276 [MainThread  ] [INFO ]  Exit code 0\n",
      "\n",
      "2022-04-19 00:09:06,277 [MainThread  ] [INFO ]  \n",
      "Statistics over 5001 steps [ 0.0000 through 10.0000 ps ], 2 data sets\n",
      "All statistics are over 51 points\n",
      "\n",
      "Energy                      Average   Err.Est.       RMSD  Tot-Drift\n",
      "-------------------------------------------------------------------------------\n",
      "Pressure                   -2.70674         24    214.153     111.76  (bar)\n",
      "Density                     1025.71        2.3    6.47818    14.3198  (kg/m^3)\n",
      "\n",
      "2022-04-19 00:09:06,279 [MainThread  ] [INFO ]                        :-) GROMACS - gmx energy, 2019.1 (-:\n",
      "\n",
      "                            GROMACS is written by:\n",
      "     Emile Apol      Rossen Apostolov      Paul Bauer     Herman J.C. Berendsen\n",
      "    Par Bjelkmar      Christian Blau   Viacheslav Bolnykh     Kevin Boyd    \n",
      " Aldert van Buuren   Rudi van Drunen     Anton Feenstra       Alan Gray     \n",
      "  Gerrit Groenhof     Anca Hamuraru    Vincent Hindriksen  M. Eric Irrgang  \n",
      "  Aleksei Iupinov   Christoph Junghans     Joe Jordan     Dimitrios Karkoulis\n",
      "    Peter Kasson        Jiri Kraus      Carsten Kutzner      Per Larsson    \n",
      "  Justin A. Lemkul    Viveca Lindahl    Magnus Lundborg     Erik Marklund   \n",
      "    Pascal Merz     Pieter Meulenhoff    Teemu Murtola       Szilard Pall   \n",
      "    Sander Pronk      Roland Schulz      Michael Shirts    Alexey Shvetsov  \n",
      "   Alfons Sijbers     Peter Tieleman      Jon Vincent      Teemu Virolainen \n",
      " Christian Wennberg    Maarten Wolf   \n",
      "                           and the project leaders:\n",
      "        Mark Abraham, Berk Hess, Erik Lindahl, and David van der Spoel\n",
      "\n",
      "Copyright (c) 1991-2000, University of Groningen, The Netherlands.\n",
      "Copyright (c) 2001-2018, The GROMACS development team at\n",
      "Uppsala University, Stockholm University and\n",
      "the Royal Institute of Technology, Sweden.\n",
      "check out http://www.gromacs.org for more information.\n",
      "\n",
      "GROMACS is free software; you can redistribute it and/or modify it\n",
      "under the terms of the GNU Lesser General Public License\n",
      "as published by the Free Software Foundation; either version 2.1\n",
      "of the License, or (at your option) any later version.\n",
      "\n",
      "GROMACS:      gmx energy, version 2019.1\n",
      "Executable:   /opt/miniconda3/envs/biobb_env/bin/gmx\n",
      "Data prefix:  /opt/miniconda3/envs/biobb_env\n",
      "Working dir:  /home/lg/repos/javerianaMD/biobb_md/notebooks\n",
      "Command line:\n",
      "  gmx energy -f /home/lg/repos/javerianaMD/biobb_md/notebooks/3HTB_JZ4_npt.edr -o 3HTB_JZ4_npt_PD.xvg -xvg none\n",
      "\n",
      "Opened /home/lg/repos/javerianaMD/biobb_md/notebooks/3HTB_JZ4_npt.edr as single precision energy file\n",
      "\n",
      "Select the terms you want from the following list by\n",
      "selecting either (part of) the name or the number or a combination.\n",
      "End your selection with an empty line or a zero.\n",
      "-------------------------------------------------------------------\n",
      "  1  Bond             2  Angle            3  Proper-Dih.      4  Improper-Dih. \n",
      "  5  LJ-14            6  Coulomb-14       7  LJ-(SR)          8  Disper.-corr. \n",
      "  9  Coulomb-(SR)    10  Coul.-recip.    11  Position-Rest.  12  Potential     \n",
      " 13  Kinetic-En.     14  Total-Energy    15  Conserved-En.   16  Temperature   \n",
      " 17  Pres.-DC        18  Pressure        19  Constr.-rmsd    20  Box-X         \n",
      " 21  Box-Y           22  Box-Z           23  Volume          24  Density       \n",
      " 25  pV              26  Enthalpy        27  Vir-XX          28  Vir-XY        \n",
      " 29  Vir-XZ          30  Vir-YX          31  Vir-YY          32  Vir-YZ        \n",
      " 33  Vir-ZX          34  Vir-ZY          35  Vir-ZZ          36  Pres-XX       \n",
      " 37  Pres-XY         38  Pres-XZ         39  Pres-YX         40  Pres-YY       \n",
      " 41  Pres-YZ         42  Pres-ZX         43  Pres-ZY         44  Pres-ZZ       \n",
      " 45  #Surf*SurfTen   46  Box-Vel-XX      47  Box-Vel-YY      48  Box-Vel-ZZ    \n",
      " 49  T-Protein_Other                     50  T-Water_and_ions                  \n",
      " 51  Lamb-Protein_Other                  52  Lamb-Water_and_ions               \n",
      "\n",
      "Last energy frame read 10 time   10.000           \n",
      "\n",
      "GROMACS reminds you: \"The best model of a cat is another cat..., specially the same cat.\" (Arturo Rosenblueth)\n",
      "\n",
      "\n",
      "2022-04-19 00:09:06,281 [MainThread  ] [INFO ]  Removed: [PurePosixPath('dd5752e2-5820-4d13-bc17-c6802da76711')]\n"
     ]
    },
    {
     "data": {
      "text/plain": [
       "0"
      ]
     },
     "execution_count": 120,
     "metadata": {},
     "output_type": "execute_result"
    }
   ],
   "source": [
    "# GMXEnergy: Getting system pressure and density by time during NPT Equilibration  \n",
    "from biobb_analysis.gromacs.gmx_energy import gmx_energy\n",
    "\n",
    "# Create prop dict and inputs/outputs\n",
    "output_npt_pd_xvg = pdbCode+'_'+ligandCode+'_npt_PD.xvg'\n",
    "prop = {\n",
    "    'terms':  [\"Pressure\",\"Density\"]\n",
    "}\n",
    "\n",
    "# Create and launch bb\n",
    "gmx_energy(input_energy_path=output_npt_edr, \n",
    "          output_xvg_path=output_npt_pd_xvg, \n",
    "          properties=prop)"
   ]
  },
  {
   "cell_type": "code",
   "execution_count": 121,
   "metadata": {
    "scrolled": false
   },
   "outputs": [
    {
     "data": {
      "text/html": [
       "        <script type=\"text/javascript\">\n",
       "        window.PlotlyConfig = {MathJaxConfig: 'local'};\n",
       "        if (window.MathJax) {MathJax.Hub.Config({SVG: {font: \"STIX-Web\"}});}\n",
       "        if (typeof require !== 'undefined') {\n",
       "        require.undef(\"plotly\");\n",
       "        requirejs.config({\n",
       "            paths: {\n",
       "                'plotly': ['https://cdn.plot.ly/plotly-2.11.1.min']\n",
       "            }\n",
       "        });\n",
       "        require(['plotly'], function(Plotly) {\n",
       "            window._Plotly = Plotly;\n",
       "        });\n",
       "        }\n",
       "        </script>\n",
       "        "
      ]
     },
     "metadata": {},
     "output_type": "display_data"
    },
    {
     "data": {
      "application/vnd.plotly.v1+json": {
       "config": {
        "linkText": "Export to plot.ly",
        "plotlyServerURL": "https://plot.ly",
        "showLink": false
       },
       "data": [
        {
         "type": "scatter",
         "x": [
          0,
          1,
          2,
          3,
          4,
          5,
          6,
          7,
          8,
          9,
          10
         ],
         "xaxis": "x",
         "y": [
          -698.281433,
          -101.706619,
          -97.272079,
          -98.941895,
          -35.729095,
          32.67337,
          230.562775,
          -200.127777,
          -289.809875,
          160.34935,
          137.178375
         ],
         "yaxis": "y"
        },
        {
         "type": "scatter",
         "x": [
          0,
          1,
          2,
          3,
          4,
          5,
          6,
          7,
          8,
          9,
          10
         ],
         "xaxis": "x2",
         "y": [
          995.065735,
          1023.102539,
          1021.707275,
          1021.340149,
          1026.617798,
          1034.109375,
          1029.94397,
          1025.587646,
          1026.474609,
          1030.875977,
          1030.34082
         ],
         "yaxis": "y2"
        }
       ],
       "layout": {
        "showlegend": false,
        "template": {
         "data": {
          "bar": [
           {
            "error_x": {
             "color": "#2a3f5f"
            },
            "error_y": {
             "color": "#2a3f5f"
            },
            "marker": {
             "line": {
              "color": "#E5ECF6",
              "width": 0.5
             },
             "pattern": {
              "fillmode": "overlay",
              "size": 10,
              "solidity": 0.2
             }
            },
            "type": "bar"
           }
          ],
          "barpolar": [
           {
            "marker": {
             "line": {
              "color": "#E5ECF6",
              "width": 0.5
             },
             "pattern": {
              "fillmode": "overlay",
              "size": 10,
              "solidity": 0.2
             }
            },
            "type": "barpolar"
           }
          ],
          "carpet": [
           {
            "aaxis": {
             "endlinecolor": "#2a3f5f",
             "gridcolor": "white",
             "linecolor": "white",
             "minorgridcolor": "white",
             "startlinecolor": "#2a3f5f"
            },
            "baxis": {
             "endlinecolor": "#2a3f5f",
             "gridcolor": "white",
             "linecolor": "white",
             "minorgridcolor": "white",
             "startlinecolor": "#2a3f5f"
            },
            "type": "carpet"
           }
          ],
          "choropleth": [
           {
            "colorbar": {
             "outlinewidth": 0,
             "ticks": ""
            },
            "type": "choropleth"
           }
          ],
          "contour": [
           {
            "colorbar": {
             "outlinewidth": 0,
             "ticks": ""
            },
            "colorscale": [
             [
              0,
              "#0d0887"
             ],
             [
              0.1111111111111111,
              "#46039f"
             ],
             [
              0.2222222222222222,
              "#7201a8"
             ],
             [
              0.3333333333333333,
              "#9c179e"
             ],
             [
              0.4444444444444444,
              "#bd3786"
             ],
             [
              0.5555555555555556,
              "#d8576b"
             ],
             [
              0.6666666666666666,
              "#ed7953"
             ],
             [
              0.7777777777777778,
              "#fb9f3a"
             ],
             [
              0.8888888888888888,
              "#fdca26"
             ],
             [
              1,
              "#f0f921"
             ]
            ],
            "type": "contour"
           }
          ],
          "contourcarpet": [
           {
            "colorbar": {
             "outlinewidth": 0,
             "ticks": ""
            },
            "type": "contourcarpet"
           }
          ],
          "heatmap": [
           {
            "colorbar": {
             "outlinewidth": 0,
             "ticks": ""
            },
            "colorscale": [
             [
              0,
              "#0d0887"
             ],
             [
              0.1111111111111111,
              "#46039f"
             ],
             [
              0.2222222222222222,
              "#7201a8"
             ],
             [
              0.3333333333333333,
              "#9c179e"
             ],
             [
              0.4444444444444444,
              "#bd3786"
             ],
             [
              0.5555555555555556,
              "#d8576b"
             ],
             [
              0.6666666666666666,
              "#ed7953"
             ],
             [
              0.7777777777777778,
              "#fb9f3a"
             ],
             [
              0.8888888888888888,
              "#fdca26"
             ],
             [
              1,
              "#f0f921"
             ]
            ],
            "type": "heatmap"
           }
          ],
          "heatmapgl": [
           {
            "colorbar": {
             "outlinewidth": 0,
             "ticks": ""
            },
            "colorscale": [
             [
              0,
              "#0d0887"
             ],
             [
              0.1111111111111111,
              "#46039f"
             ],
             [
              0.2222222222222222,
              "#7201a8"
             ],
             [
              0.3333333333333333,
              "#9c179e"
             ],
             [
              0.4444444444444444,
              "#bd3786"
             ],
             [
              0.5555555555555556,
              "#d8576b"
             ],
             [
              0.6666666666666666,
              "#ed7953"
             ],
             [
              0.7777777777777778,
              "#fb9f3a"
             ],
             [
              0.8888888888888888,
              "#fdca26"
             ],
             [
              1,
              "#f0f921"
             ]
            ],
            "type": "heatmapgl"
           }
          ],
          "histogram": [
           {
            "marker": {
             "pattern": {
              "fillmode": "overlay",
              "size": 10,
              "solidity": 0.2
             }
            },
            "type": "histogram"
           }
          ],
          "histogram2d": [
           {
            "colorbar": {
             "outlinewidth": 0,
             "ticks": ""
            },
            "colorscale": [
             [
              0,
              "#0d0887"
             ],
             [
              0.1111111111111111,
              "#46039f"
             ],
             [
              0.2222222222222222,
              "#7201a8"
             ],
             [
              0.3333333333333333,
              "#9c179e"
             ],
             [
              0.4444444444444444,
              "#bd3786"
             ],
             [
              0.5555555555555556,
              "#d8576b"
             ],
             [
              0.6666666666666666,
              "#ed7953"
             ],
             [
              0.7777777777777778,
              "#fb9f3a"
             ],
             [
              0.8888888888888888,
              "#fdca26"
             ],
             [
              1,
              "#f0f921"
             ]
            ],
            "type": "histogram2d"
           }
          ],
          "histogram2dcontour": [
           {
            "colorbar": {
             "outlinewidth": 0,
             "ticks": ""
            },
            "colorscale": [
             [
              0,
              "#0d0887"
             ],
             [
              0.1111111111111111,
              "#46039f"
             ],
             [
              0.2222222222222222,
              "#7201a8"
             ],
             [
              0.3333333333333333,
              "#9c179e"
             ],
             [
              0.4444444444444444,
              "#bd3786"
             ],
             [
              0.5555555555555556,
              "#d8576b"
             ],
             [
              0.6666666666666666,
              "#ed7953"
             ],
             [
              0.7777777777777778,
              "#fb9f3a"
             ],
             [
              0.8888888888888888,
              "#fdca26"
             ],
             [
              1,
              "#f0f921"
             ]
            ],
            "type": "histogram2dcontour"
           }
          ],
          "mesh3d": [
           {
            "colorbar": {
             "outlinewidth": 0,
             "ticks": ""
            },
            "type": "mesh3d"
           }
          ],
          "parcoords": [
           {
            "line": {
             "colorbar": {
              "outlinewidth": 0,
              "ticks": ""
             }
            },
            "type": "parcoords"
           }
          ],
          "pie": [
           {
            "automargin": true,
            "type": "pie"
           }
          ],
          "scatter": [
           {
            "fillpattern": {
             "fillmode": "overlay",
             "size": 10,
             "solidity": 0.2
            },
            "type": "scatter"
           }
          ],
          "scatter3d": [
           {
            "line": {
             "colorbar": {
              "outlinewidth": 0,
              "ticks": ""
             }
            },
            "marker": {
             "colorbar": {
              "outlinewidth": 0,
              "ticks": ""
             }
            },
            "type": "scatter3d"
           }
          ],
          "scattercarpet": [
           {
            "marker": {
             "colorbar": {
              "outlinewidth": 0,
              "ticks": ""
             }
            },
            "type": "scattercarpet"
           }
          ],
          "scattergeo": [
           {
            "marker": {
             "colorbar": {
              "outlinewidth": 0,
              "ticks": ""
             }
            },
            "type": "scattergeo"
           }
          ],
          "scattergl": [
           {
            "marker": {
             "colorbar": {
              "outlinewidth": 0,
              "ticks": ""
             }
            },
            "type": "scattergl"
           }
          ],
          "scattermapbox": [
           {
            "marker": {
             "colorbar": {
              "outlinewidth": 0,
              "ticks": ""
             }
            },
            "type": "scattermapbox"
           }
          ],
          "scatterpolar": [
           {
            "marker": {
             "colorbar": {
              "outlinewidth": 0,
              "ticks": ""
             }
            },
            "type": "scatterpolar"
           }
          ],
          "scatterpolargl": [
           {
            "marker": {
             "colorbar": {
              "outlinewidth": 0,
              "ticks": ""
             }
            },
            "type": "scatterpolargl"
           }
          ],
          "scatterternary": [
           {
            "marker": {
             "colorbar": {
              "outlinewidth": 0,
              "ticks": ""
             }
            },
            "type": "scatterternary"
           }
          ],
          "surface": [
           {
            "colorbar": {
             "outlinewidth": 0,
             "ticks": ""
            },
            "colorscale": [
             [
              0,
              "#0d0887"
             ],
             [
              0.1111111111111111,
              "#46039f"
             ],
             [
              0.2222222222222222,
              "#7201a8"
             ],
             [
              0.3333333333333333,
              "#9c179e"
             ],
             [
              0.4444444444444444,
              "#bd3786"
             ],
             [
              0.5555555555555556,
              "#d8576b"
             ],
             [
              0.6666666666666666,
              "#ed7953"
             ],
             [
              0.7777777777777778,
              "#fb9f3a"
             ],
             [
              0.8888888888888888,
              "#fdca26"
             ],
             [
              1,
              "#f0f921"
             ]
            ],
            "type": "surface"
           }
          ],
          "table": [
           {
            "cells": {
             "fill": {
              "color": "#EBF0F8"
             },
             "line": {
              "color": "white"
             }
            },
            "header": {
             "fill": {
              "color": "#C8D4E3"
             },
             "line": {
              "color": "white"
             }
            },
            "type": "table"
           }
          ]
         },
         "layout": {
          "annotationdefaults": {
           "arrowcolor": "#2a3f5f",
           "arrowhead": 0,
           "arrowwidth": 1
          },
          "autotypenumbers": "strict",
          "coloraxis": {
           "colorbar": {
            "outlinewidth": 0,
            "ticks": ""
           }
          },
          "colorscale": {
           "diverging": [
            [
             0,
             "#8e0152"
            ],
            [
             0.1,
             "#c51b7d"
            ],
            [
             0.2,
             "#de77ae"
            ],
            [
             0.3,
             "#f1b6da"
            ],
            [
             0.4,
             "#fde0ef"
            ],
            [
             0.5,
             "#f7f7f7"
            ],
            [
             0.6,
             "#e6f5d0"
            ],
            [
             0.7,
             "#b8e186"
            ],
            [
             0.8,
             "#7fbc41"
            ],
            [
             0.9,
             "#4d9221"
            ],
            [
             1,
             "#276419"
            ]
           ],
           "sequential": [
            [
             0,
             "#0d0887"
            ],
            [
             0.1111111111111111,
             "#46039f"
            ],
            [
             0.2222222222222222,
             "#7201a8"
            ],
            [
             0.3333333333333333,
             "#9c179e"
            ],
            [
             0.4444444444444444,
             "#bd3786"
            ],
            [
             0.5555555555555556,
             "#d8576b"
            ],
            [
             0.6666666666666666,
             "#ed7953"
            ],
            [
             0.7777777777777778,
             "#fb9f3a"
            ],
            [
             0.8888888888888888,
             "#fdca26"
            ],
            [
             1,
             "#f0f921"
            ]
           ],
           "sequentialminus": [
            [
             0,
             "#0d0887"
            ],
            [
             0.1111111111111111,
             "#46039f"
            ],
            [
             0.2222222222222222,
             "#7201a8"
            ],
            [
             0.3333333333333333,
             "#9c179e"
            ],
            [
             0.4444444444444444,
             "#bd3786"
            ],
            [
             0.5555555555555556,
             "#d8576b"
            ],
            [
             0.6666666666666666,
             "#ed7953"
            ],
            [
             0.7777777777777778,
             "#fb9f3a"
            ],
            [
             0.8888888888888888,
             "#fdca26"
            ],
            [
             1,
             "#f0f921"
            ]
           ]
          },
          "colorway": [
           "#636efa",
           "#EF553B",
           "#00cc96",
           "#ab63fa",
           "#FFA15A",
           "#19d3f3",
           "#FF6692",
           "#B6E880",
           "#FF97FF",
           "#FECB52"
          ],
          "font": {
           "color": "#2a3f5f"
          },
          "geo": {
           "bgcolor": "white",
           "lakecolor": "white",
           "landcolor": "#E5ECF6",
           "showlakes": true,
           "showland": true,
           "subunitcolor": "white"
          },
          "hoverlabel": {
           "align": "left"
          },
          "hovermode": "closest",
          "mapbox": {
           "style": "light"
          },
          "paper_bgcolor": "white",
          "plot_bgcolor": "#E5ECF6",
          "polar": {
           "angularaxis": {
            "gridcolor": "white",
            "linecolor": "white",
            "ticks": ""
           },
           "bgcolor": "#E5ECF6",
           "radialaxis": {
            "gridcolor": "white",
            "linecolor": "white",
            "ticks": ""
           }
          },
          "scene": {
           "xaxis": {
            "backgroundcolor": "#E5ECF6",
            "gridcolor": "white",
            "gridwidth": 2,
            "linecolor": "white",
            "showbackground": true,
            "ticks": "",
            "zerolinecolor": "white"
           },
           "yaxis": {
            "backgroundcolor": "#E5ECF6",
            "gridcolor": "white",
            "gridwidth": 2,
            "linecolor": "white",
            "showbackground": true,
            "ticks": "",
            "zerolinecolor": "white"
           },
           "zaxis": {
            "backgroundcolor": "#E5ECF6",
            "gridcolor": "white",
            "gridwidth": 2,
            "linecolor": "white",
            "showbackground": true,
            "ticks": "",
            "zerolinecolor": "white"
           }
          },
          "shapedefaults": {
           "line": {
            "color": "#2a3f5f"
           }
          },
          "ternary": {
           "aaxis": {
            "gridcolor": "white",
            "linecolor": "white",
            "ticks": ""
           },
           "baxis": {
            "gridcolor": "white",
            "linecolor": "white",
            "ticks": ""
           },
           "bgcolor": "#E5ECF6",
           "caxis": {
            "gridcolor": "white",
            "linecolor": "white",
            "ticks": ""
           }
          },
          "title": {
           "x": 0.05
          },
          "xaxis": {
           "automargin": true,
           "gridcolor": "white",
           "linecolor": "white",
           "ticks": "",
           "title": {
            "standoff": 15
           },
           "zerolinecolor": "white",
           "zerolinewidth": 2
          },
          "yaxis": {
           "automargin": true,
           "gridcolor": "white",
           "linecolor": "white",
           "ticks": "",
           "title": {
            "standoff": 15
           },
           "zerolinecolor": "white",
           "zerolinewidth": 2
          }
         }
        },
        "title": {
         "text": "Pressure and Density during NPT Equilibration"
        },
        "xaxis": {
         "anchor": "y",
         "domain": [
          0,
          0.45
         ],
         "title": {
          "text": "Time (ps)"
         }
        },
        "xaxis2": {
         "anchor": "y2",
         "domain": [
          0.55,
          1
         ],
         "title": {
          "text": "Time (ps)"
         }
        },
        "yaxis": {
         "anchor": "x",
         "domain": [
          0,
          1
         ],
         "title": {
          "text": "Pressure (bar)"
         }
        },
        "yaxis2": {
         "anchor": "x2",
         "domain": [
          0,
          1
         ],
         "title": {
          "text": "Density (Kg*m^-3)"
         }
        }
       }
      },
      "text/html": [
       "<div>                            <div id=\"823be64f-eed9-4330-ae30-7a1aa64211bb\" class=\"plotly-graph-div\" style=\"height:525px; width:100%;\"></div>            <script type=\"text/javascript\">                require([\"plotly\"], function(Plotly) {                    window.PLOTLYENV=window.PLOTLYENV || {};                                    if (document.getElementById(\"823be64f-eed9-4330-ae30-7a1aa64211bb\")) {                    Plotly.newPlot(                        \"823be64f-eed9-4330-ae30-7a1aa64211bb\",                        [{\"x\":[0.0,1.0,2.0,3.0,4.0,5.0,6.0,7.0,8.0,9.0,10.0],\"xaxis\":\"x\",\"y\":[-698.281433,-101.706619,-97.272079,-98.941895,-35.729095,32.67337,230.562775,-200.127777,-289.809875,160.34935,137.178375],\"yaxis\":\"y\",\"type\":\"scatter\"},{\"x\":[0.0,1.0,2.0,3.0,4.0,5.0,6.0,7.0,8.0,9.0,10.0],\"xaxis\":\"x2\",\"y\":[995.065735,1023.102539,1021.707275,1021.340149,1026.617798,1034.109375,1029.94397,1025.587646,1026.474609,1030.875977,1030.34082],\"yaxis\":\"y2\",\"type\":\"scatter\"}],                        {\"showlegend\":false,\"template\":{\"data\":{\"barpolar\":[{\"marker\":{\"line\":{\"color\":\"#E5ECF6\",\"width\":0.5},\"pattern\":{\"fillmode\":\"overlay\",\"size\":10,\"solidity\":0.2}},\"type\":\"barpolar\"}],\"bar\":[{\"error_x\":{\"color\":\"#2a3f5f\"},\"error_y\":{\"color\":\"#2a3f5f\"},\"marker\":{\"line\":{\"color\":\"#E5ECF6\",\"width\":0.5},\"pattern\":{\"fillmode\":\"overlay\",\"size\":10,\"solidity\":0.2}},\"type\":\"bar\"}],\"carpet\":[{\"aaxis\":{\"endlinecolor\":\"#2a3f5f\",\"gridcolor\":\"white\",\"linecolor\":\"white\",\"minorgridcolor\":\"white\",\"startlinecolor\":\"#2a3f5f\"},\"baxis\":{\"endlinecolor\":\"#2a3f5f\",\"gridcolor\":\"white\",\"linecolor\":\"white\",\"minorgridcolor\":\"white\",\"startlinecolor\":\"#2a3f5f\"},\"type\":\"carpet\"}],\"choropleth\":[{\"colorbar\":{\"outlinewidth\":0,\"ticks\":\"\"},\"type\":\"choropleth\"}],\"contourcarpet\":[{\"colorbar\":{\"outlinewidth\":0,\"ticks\":\"\"},\"type\":\"contourcarpet\"}],\"contour\":[{\"colorbar\":{\"outlinewidth\":0,\"ticks\":\"\"},\"colorscale\":[[0.0,\"#0d0887\"],[0.1111111111111111,\"#46039f\"],[0.2222222222222222,\"#7201a8\"],[0.3333333333333333,\"#9c179e\"],[0.4444444444444444,\"#bd3786\"],[0.5555555555555556,\"#d8576b\"],[0.6666666666666666,\"#ed7953\"],[0.7777777777777778,\"#fb9f3a\"],[0.8888888888888888,\"#fdca26\"],[1.0,\"#f0f921\"]],\"type\":\"contour\"}],\"heatmapgl\":[{\"colorbar\":{\"outlinewidth\":0,\"ticks\":\"\"},\"colorscale\":[[0.0,\"#0d0887\"],[0.1111111111111111,\"#46039f\"],[0.2222222222222222,\"#7201a8\"],[0.3333333333333333,\"#9c179e\"],[0.4444444444444444,\"#bd3786\"],[0.5555555555555556,\"#d8576b\"],[0.6666666666666666,\"#ed7953\"],[0.7777777777777778,\"#fb9f3a\"],[0.8888888888888888,\"#fdca26\"],[1.0,\"#f0f921\"]],\"type\":\"heatmapgl\"}],\"heatmap\":[{\"colorbar\":{\"outlinewidth\":0,\"ticks\":\"\"},\"colorscale\":[[0.0,\"#0d0887\"],[0.1111111111111111,\"#46039f\"],[0.2222222222222222,\"#7201a8\"],[0.3333333333333333,\"#9c179e\"],[0.4444444444444444,\"#bd3786\"],[0.5555555555555556,\"#d8576b\"],[0.6666666666666666,\"#ed7953\"],[0.7777777777777778,\"#fb9f3a\"],[0.8888888888888888,\"#fdca26\"],[1.0,\"#f0f921\"]],\"type\":\"heatmap\"}],\"histogram2dcontour\":[{\"colorbar\":{\"outlinewidth\":0,\"ticks\":\"\"},\"colorscale\":[[0.0,\"#0d0887\"],[0.1111111111111111,\"#46039f\"],[0.2222222222222222,\"#7201a8\"],[0.3333333333333333,\"#9c179e\"],[0.4444444444444444,\"#bd3786\"],[0.5555555555555556,\"#d8576b\"],[0.6666666666666666,\"#ed7953\"],[0.7777777777777778,\"#fb9f3a\"],[0.8888888888888888,\"#fdca26\"],[1.0,\"#f0f921\"]],\"type\":\"histogram2dcontour\"}],\"histogram2d\":[{\"colorbar\":{\"outlinewidth\":0,\"ticks\":\"\"},\"colorscale\":[[0.0,\"#0d0887\"],[0.1111111111111111,\"#46039f\"],[0.2222222222222222,\"#7201a8\"],[0.3333333333333333,\"#9c179e\"],[0.4444444444444444,\"#bd3786\"],[0.5555555555555556,\"#d8576b\"],[0.6666666666666666,\"#ed7953\"],[0.7777777777777778,\"#fb9f3a\"],[0.8888888888888888,\"#fdca26\"],[1.0,\"#f0f921\"]],\"type\":\"histogram2d\"}],\"histogram\":[{\"marker\":{\"pattern\":{\"fillmode\":\"overlay\",\"size\":10,\"solidity\":0.2}},\"type\":\"histogram\"}],\"mesh3d\":[{\"colorbar\":{\"outlinewidth\":0,\"ticks\":\"\"},\"type\":\"mesh3d\"}],\"parcoords\":[{\"line\":{\"colorbar\":{\"outlinewidth\":0,\"ticks\":\"\"}},\"type\":\"parcoords\"}],\"pie\":[{\"automargin\":true,\"type\":\"pie\"}],\"scatter3d\":[{\"line\":{\"colorbar\":{\"outlinewidth\":0,\"ticks\":\"\"}},\"marker\":{\"colorbar\":{\"outlinewidth\":0,\"ticks\":\"\"}},\"type\":\"scatter3d\"}],\"scattercarpet\":[{\"marker\":{\"colorbar\":{\"outlinewidth\":0,\"ticks\":\"\"}},\"type\":\"scattercarpet\"}],\"scattergeo\":[{\"marker\":{\"colorbar\":{\"outlinewidth\":0,\"ticks\":\"\"}},\"type\":\"scattergeo\"}],\"scattergl\":[{\"marker\":{\"colorbar\":{\"outlinewidth\":0,\"ticks\":\"\"}},\"type\":\"scattergl\"}],\"scattermapbox\":[{\"marker\":{\"colorbar\":{\"outlinewidth\":0,\"ticks\":\"\"}},\"type\":\"scattermapbox\"}],\"scatterpolargl\":[{\"marker\":{\"colorbar\":{\"outlinewidth\":0,\"ticks\":\"\"}},\"type\":\"scatterpolargl\"}],\"scatterpolar\":[{\"marker\":{\"colorbar\":{\"outlinewidth\":0,\"ticks\":\"\"}},\"type\":\"scatterpolar\"}],\"scatter\":[{\"fillpattern\":{\"fillmode\":\"overlay\",\"size\":10,\"solidity\":0.2},\"type\":\"scatter\"}],\"scatterternary\":[{\"marker\":{\"colorbar\":{\"outlinewidth\":0,\"ticks\":\"\"}},\"type\":\"scatterternary\"}],\"surface\":[{\"colorbar\":{\"outlinewidth\":0,\"ticks\":\"\"},\"colorscale\":[[0.0,\"#0d0887\"],[0.1111111111111111,\"#46039f\"],[0.2222222222222222,\"#7201a8\"],[0.3333333333333333,\"#9c179e\"],[0.4444444444444444,\"#bd3786\"],[0.5555555555555556,\"#d8576b\"],[0.6666666666666666,\"#ed7953\"],[0.7777777777777778,\"#fb9f3a\"],[0.8888888888888888,\"#fdca26\"],[1.0,\"#f0f921\"]],\"type\":\"surface\"}],\"table\":[{\"cells\":{\"fill\":{\"color\":\"#EBF0F8\"},\"line\":{\"color\":\"white\"}},\"header\":{\"fill\":{\"color\":\"#C8D4E3\"},\"line\":{\"color\":\"white\"}},\"type\":\"table\"}]},\"layout\":{\"annotationdefaults\":{\"arrowcolor\":\"#2a3f5f\",\"arrowhead\":0,\"arrowwidth\":1},\"autotypenumbers\":\"strict\",\"coloraxis\":{\"colorbar\":{\"outlinewidth\":0,\"ticks\":\"\"}},\"colorscale\":{\"diverging\":[[0,\"#8e0152\"],[0.1,\"#c51b7d\"],[0.2,\"#de77ae\"],[0.3,\"#f1b6da\"],[0.4,\"#fde0ef\"],[0.5,\"#f7f7f7\"],[0.6,\"#e6f5d0\"],[0.7,\"#b8e186\"],[0.8,\"#7fbc41\"],[0.9,\"#4d9221\"],[1,\"#276419\"]],\"sequential\":[[0.0,\"#0d0887\"],[0.1111111111111111,\"#46039f\"],[0.2222222222222222,\"#7201a8\"],[0.3333333333333333,\"#9c179e\"],[0.4444444444444444,\"#bd3786\"],[0.5555555555555556,\"#d8576b\"],[0.6666666666666666,\"#ed7953\"],[0.7777777777777778,\"#fb9f3a\"],[0.8888888888888888,\"#fdca26\"],[1.0,\"#f0f921\"]],\"sequentialminus\":[[0.0,\"#0d0887\"],[0.1111111111111111,\"#46039f\"],[0.2222222222222222,\"#7201a8\"],[0.3333333333333333,\"#9c179e\"],[0.4444444444444444,\"#bd3786\"],[0.5555555555555556,\"#d8576b\"],[0.6666666666666666,\"#ed7953\"],[0.7777777777777778,\"#fb9f3a\"],[0.8888888888888888,\"#fdca26\"],[1.0,\"#f0f921\"]]},\"colorway\":[\"#636efa\",\"#EF553B\",\"#00cc96\",\"#ab63fa\",\"#FFA15A\",\"#19d3f3\",\"#FF6692\",\"#B6E880\",\"#FF97FF\",\"#FECB52\"],\"font\":{\"color\":\"#2a3f5f\"},\"geo\":{\"bgcolor\":\"white\",\"lakecolor\":\"white\",\"landcolor\":\"#E5ECF6\",\"showlakes\":true,\"showland\":true,\"subunitcolor\":\"white\"},\"hoverlabel\":{\"align\":\"left\"},\"hovermode\":\"closest\",\"mapbox\":{\"style\":\"light\"},\"paper_bgcolor\":\"white\",\"plot_bgcolor\":\"#E5ECF6\",\"polar\":{\"angularaxis\":{\"gridcolor\":\"white\",\"linecolor\":\"white\",\"ticks\":\"\"},\"bgcolor\":\"#E5ECF6\",\"radialaxis\":{\"gridcolor\":\"white\",\"linecolor\":\"white\",\"ticks\":\"\"}},\"scene\":{\"xaxis\":{\"backgroundcolor\":\"#E5ECF6\",\"gridcolor\":\"white\",\"gridwidth\":2,\"linecolor\":\"white\",\"showbackground\":true,\"ticks\":\"\",\"zerolinecolor\":\"white\"},\"yaxis\":{\"backgroundcolor\":\"#E5ECF6\",\"gridcolor\":\"white\",\"gridwidth\":2,\"linecolor\":\"white\",\"showbackground\":true,\"ticks\":\"\",\"zerolinecolor\":\"white\"},\"zaxis\":{\"backgroundcolor\":\"#E5ECF6\",\"gridcolor\":\"white\",\"gridwidth\":2,\"linecolor\":\"white\",\"showbackground\":true,\"ticks\":\"\",\"zerolinecolor\":\"white\"}},\"shapedefaults\":{\"line\":{\"color\":\"#2a3f5f\"}},\"ternary\":{\"aaxis\":{\"gridcolor\":\"white\",\"linecolor\":\"white\",\"ticks\":\"\"},\"baxis\":{\"gridcolor\":\"white\",\"linecolor\":\"white\",\"ticks\":\"\"},\"bgcolor\":\"#E5ECF6\",\"caxis\":{\"gridcolor\":\"white\",\"linecolor\":\"white\",\"ticks\":\"\"}},\"title\":{\"x\":0.05},\"xaxis\":{\"automargin\":true,\"gridcolor\":\"white\",\"linecolor\":\"white\",\"ticks\":\"\",\"title\":{\"standoff\":15},\"zerolinecolor\":\"white\",\"zerolinewidth\":2},\"yaxis\":{\"automargin\":true,\"gridcolor\":\"white\",\"linecolor\":\"white\",\"ticks\":\"\",\"title\":{\"standoff\":15},\"zerolinecolor\":\"white\",\"zerolinewidth\":2}}},\"title\":{\"text\":\"Pressure and Density during NPT Equilibration\"},\"xaxis\":{\"anchor\":\"y\",\"domain\":[0.0,0.45],\"title\":{\"text\":\"Time (ps)\"}},\"yaxis\":{\"anchor\":\"x\",\"domain\":[0.0,1.0],\"title\":{\"text\":\"Pressure (bar)\"}},\"xaxis2\":{\"anchor\":\"y2\",\"domain\":[0.55,1.0],\"title\":{\"text\":\"Time (ps)\"}},\"yaxis2\":{\"anchor\":\"x2\",\"domain\":[0.0,1.0],\"title\":{\"text\":\"Density (Kg*m^-3)\"}}},                        {\"responsive\": true}                    ).then(function(){\n",
       "                            \n",
       "var gd = document.getElementById('823be64f-eed9-4330-ae30-7a1aa64211bb');\n",
       "var x = new MutationObserver(function (mutations, observer) {{\n",
       "        var display = window.getComputedStyle(gd).display;\n",
       "        if (!display || display === 'none') {{\n",
       "            console.log([gd, 'removed!']);\n",
       "            Plotly.purge(gd);\n",
       "            observer.disconnect();\n",
       "        }}\n",
       "}});\n",
       "\n",
       "// Listen for the removal of the full notebook cells\n",
       "var notebookContainer = gd.closest('#notebook-container');\n",
       "if (notebookContainer) {{\n",
       "    x.observe(notebookContainer, {childList: true});\n",
       "}}\n",
       "\n",
       "// Listen for the clearing of the current output cell\n",
       "var outputEl = gd.closest('.output');\n",
       "if (outputEl) {{\n",
       "    x.observe(outputEl, {childList: true});\n",
       "}}\n",
       "\n",
       "                        })                };                });            </script>        </div>"
      ]
     },
     "metadata": {},
     "output_type": "display_data"
    }
   ],
   "source": [
    "import plotly\n",
    "from plotly import subplots\n",
    "import plotly.graph_objs as go\n",
    "\n",
    "# Read pressure and density data from file \n",
    "with open(output_npt_pd_xvg,'r') as pd_file:\n",
    "    x,y,z = map(\n",
    "        list,\n",
    "        zip(*[\n",
    "            (float(line.split()[0]),float(line.split()[1]),float(line.split()[2]))\n",
    "            for line in pd_file \n",
    "            if not line.startswith((\"#\",\"@\")) \n",
    "        ])\n",
    "    )\n",
    "\n",
    "plotly.offline.init_notebook_mode(connected=True)\n",
    "\n",
    "trace1 = go.Scatter(\n",
    "    x=x,y=y\n",
    ")\n",
    "trace2 = go.Scatter(\n",
    "    x=x,y=z\n",
    ")\n",
    "\n",
    "fig = subplots.make_subplots(rows=1, cols=2, print_grid=False)\n",
    "\n",
    "fig.append_trace(trace1, 1, 1)\n",
    "fig.append_trace(trace2, 1, 2)\n",
    "\n",
    "fig['layout']['xaxis1'].update(title='Time (ps)')\n",
    "fig['layout']['xaxis2'].update(title='Time (ps)')\n",
    "fig['layout']['yaxis1'].update(title='Pressure (bar)')\n",
    "fig['layout']['yaxis2'].update(title='Density (Kg*m^-3)')\n",
    "\n",
    "fig['layout'].update(title='Pressure and Density during NPT Equilibration')\n",
    "fig['layout'].update(showlegend=False)\n",
    "\n",
    "plotly.offline.iplot(fig)"
   ]
  },
  {
   "cell_type": "markdown",
   "metadata": {},
   "source": [
    "<img src='images/fig3.png' width=\"50%\" height=\"50%\"></img>"
   ]
  },
  {
   "cell_type": "markdown",
   "metadata": {},
   "source": [
    "<a id=\"free\"></a>\n",
    "***\n",
    "## Free Molecular Dynamics Simulation\n",
    "Upon completion of the **two equilibration phases (NVT and NPT)**, the system is now well-equilibrated at the desired temperature and pressure. The **position restraints** can now be released. The last step of the **protein-ligand complex** MD setup is a short, **free MD simulation**, to ensure the robustness of the system. \n",
    "- [Step 1](#mdStep1): Creating portable binary run file to run a **free MD simulation**.\n",
    "- [Step 2](#mdStep2): Run short MD simulation of the **protein-ligand complex**.\n",
    "- [Step 3](#mdStep3): Checking results for the final step of the setup process, the **free MD run**. Plotting **Root Mean Square deviation (RMSd)** and **Radius of Gyration (Rgyr)** by time during the **free MD run** step. \n",
    "***\n",
    "**Building Blocks** used:\n",
    " - [Grompp](https://biobb-md.readthedocs.io/en/latest/gromacs.html#module-gromacs.grompp) from **biobb_md.gromacs.grompp** \n",
    " - [Mdrun](https://biobb-md.readthedocs.io/en/latest/gromacs.html#module-gromacs.mdrun) from **biobb_md.gromacs.mdrun** \n",
    " - [GMXRms](https://biobb-analysis.readthedocs.io/en/latest/gromacs.html#module-gromacs.gmx_rms) from **biobb_analysis.gromacs.gmx_rms**:\n",
    "     * Wrapper of the GROMACS rms module for performing a Root Mean Square deviation (RMSd) analysis from a given GROMACS compatible trajectory.\n",
    "     \n",
    "     \n",
    " - [GMXRgyr](https://biobb-analysis.readthedocs.io/en/latest/gromacs.html#module-gromacs.gmx_rgyr) from **biobb_analysis.gromacs.gmx_rgyr**:\n",
    "     * Wrapper of the GROMACS gyrate module for computing the radius of gyration (Rgyr) of a molecule about the x-, y- and z-axes, as a function of time, from a given GROMACS compatible trajectory.\n",
    "***"
   ]
  },
  {
   "cell_type": "markdown",
   "metadata": {},
   "source": [
    "<a id=\"mdStep1\"></a>\n",
    "### Step 1: Creating portable binary run file to run a free MD simulation"
   ]
  },
  {
   "cell_type": "code",
   "execution_count": 122,
   "metadata": {
    "scrolled": true
   },
   "outputs": [
    {
     "name": "stdout",
     "output_type": "stream",
     "text": [
      "2022-04-19 00:13:06,171 [MainThread  ] [INFO ]  GROMACS Grompp 20191 version detected\n",
      "2022-04-19 00:13:06,182 [MainThread  ] [INFO ]  Extracting: /home/lg/repos/javerianaMD/biobb_md/notebooks/3HTB_JZ4_genion_top.zip\n",
      "2022-04-19 00:13:06,186 [MainThread  ] [INFO ]  to:\n",
      "2022-04-19 00:13:06,189 [MainThread  ] [INFO ]  ['d68d6e33-785b-433b-971e-09d7d061e490/JZ4_params.itp', 'd68d6e33-785b-433b-971e-09d7d061e490/JZ4_posres.itp', 'd68d6e33-785b-433b-971e-09d7d061e490/ligand.top', 'd68d6e33-785b-433b-971e-09d7d061e490/posre.itp']\n",
      "2022-04-19 00:13:06,193 [MainThread  ] [INFO ]  Unzipping: \n",
      "2022-04-19 00:13:06,197 [MainThread  ] [INFO ]  3HTB_JZ4_genion_top.zip\n",
      "2022-04-19 00:13:06,201 [MainThread  ] [INFO ]  To: \n",
      "2022-04-19 00:13:06,202 [MainThread  ] [INFO ]  d68d6e33-785b-433b-971e-09d7d061e490/JZ4_params.itp\n",
      "2022-04-19 00:13:06,204 [MainThread  ] [INFO ]  d68d6e33-785b-433b-971e-09d7d061e490/JZ4_posres.itp\n",
      "2022-04-19 00:13:06,206 [MainThread  ] [INFO ]  d68d6e33-785b-433b-971e-09d7d061e490/ligand.top\n",
      "2022-04-19 00:13:06,207 [MainThread  ] [INFO ]  d68d6e33-785b-433b-971e-09d7d061e490/posre.itp\n",
      "2022-04-19 00:13:06,209 [MainThread  ] [INFO ]  Not using any container\n",
      "2022-04-19 00:13:06,769 [MainThread  ] [INFO ]  gmx -nobackup -nocopyright grompp -f 90dfdc3b-c702-41ab-aa58-f038021f0123/grompp.mdp -c 3HTB_JZ4_npt.gro -r 3HTB_JZ4_npt.gro -p d68d6e33-785b-433b-971e-09d7d061e490/ligand.top -o 3HTB_JZ4_gppmd.tpr -po mdout.mdp -maxwarn 0 -t 3HTB_JZ4_npt.cpt\n",
      "\n",
      "2022-04-19 00:13:06,771 [MainThread  ] [INFO ]  Exit code 0\n",
      "\n",
      "2022-04-19 00:13:06,775 [MainThread  ] [INFO ]  turning H bonds into constraints...\n",
      "turning H bonds into constraints...\n",
      "turning H bonds into constraints...\n",
      "turning H bonds into constraints...\n",
      "turning H bonds into constraints...\n",
      "Analysing residue names:\n",
      "There are:   163    Protein residues\n",
      "There are:     1      Other residues\n",
      "There are:  9505      Water residues\n",
      "There are:    26        Ion residues\n",
      "Analysing Protein...\n",
      "Analysing residues not classified as Protein/DNA/RNA/Water and splitting into groups...\n",
      "Analysing residues not classified as Protein/DNA/RNA/Water and splitting into groups...\n",
      "Determining Verlet buffer for a tolerance of 0.005 kJ/mol/ps at 300 K\n",
      "Calculated rlist for 1x1 atom pair-list as 1.035 nm, buffer size 0.035 nm\n",
      "Set rlist, assuming 4x4 atom pair-list, to 1.000 nm, buffer size 0.000 nm\n",
      "Note that mdrun will redetermine rlist based on the actual pair-list setup\n",
      "Calculating fourier grid dimensions for X Y Z\n",
      "Using a fourier grid of 64x64x64, spacing 0.115 0.115 0.115\n",
      "This run will generate roughly 11 Mb of data\n",
      "\n",
      "2022-04-19 00:13:06,776 [MainThread  ] [INFO ]                        :-) GROMACS - gmx grompp, 2019.1 (-:\n",
      "\n",
      "Executable:   /opt/miniconda3/envs/biobb_env/bin/gmx\n",
      "Data prefix:  /opt/miniconda3/envs/biobb_env\n",
      "Working dir:  /home/lg/repos/javerianaMD/biobb_md/notebooks\n",
      "Command line:\n",
      "  gmx -nobackup -nocopyright grompp -f 90dfdc3b-c702-41ab-aa58-f038021f0123/grompp.mdp -c 3HTB_JZ4_npt.gro -r 3HTB_JZ4_npt.gro -p d68d6e33-785b-433b-971e-09d7d061e490/ligand.top -o 3HTB_JZ4_gppmd.tpr -po mdout.mdp -maxwarn 0 -t 3HTB_JZ4_npt.cpt\n",
      "\n",
      "Setting the LD random seed to 148782509\n",
      "Generated 2556 of the 2556 non-bonded parameter combinations\n",
      "Generating 1-4 interactions: fudge = 0.5\n",
      "Generated 2556 of the 2556 1-4 parameter combinations\n",
      "Excluding 3 bonded neighbours molecule type 'Protein_chain_A'\n",
      "Excluding 3 bonded neighbours molecule type 'JZ4_params'\n",
      "Excluding 2 bonded neighbours molecule type 'SOL'\n",
      "Excluding 1 bonded neighbours molecule type 'NA'\n",
      "Excluding 1 bonded neighbours molecule type 'CL'\n",
      "Removing all charge groups because cutoff-scheme=Verlet\n",
      "Number of degrees of freedom in T-Coupling group Protein is 6528.69\n",
      "Number of degrees of freedom in T-Coupling group non-Protein is 57159.31\n",
      "Reading Coordinates, Velocities and Box size from old trajectory\n",
      "Will read whole trajectory\n",
      "Last frame         -1 time   10.000   \n",
      "Using frame at t = 10 ps\n",
      "Starting time for run is 0 ps\n",
      "Estimate for the relative computational load of the PME mesh part: 0.20\n",
      "\n",
      "GROMACS reminds you: \"Your Country Raised You, Your Country Fed You, and Just Like Any Other Country it Will Break You\" (Gogol Bordello)\n",
      "\n",
      "\n",
      "2022-04-19 00:13:06,780 [MainThread  ] [INFO ]  Removed: ['mdout.mdp', 'd68d6e33-785b-433b-971e-09d7d061e490', '90dfdc3b-c702-41ab-aa58-f038021f0123']\n"
     ]
    },
    {
     "data": {
      "text/plain": [
       "0"
      ]
     },
     "execution_count": 122,
     "metadata": {},
     "output_type": "execute_result"
    }
   ],
   "source": [
    "# Grompp: Creating portable binary run file for mdrun\n",
    "from biobb_md.gromacs.grompp import grompp\n",
    "\n",
    "# Create prop dict and inputs/outputs\n",
    "prop = {\n",
    "    'mdp':{\n",
    "        #'nsteps':'500000' # 1 ns (500,000 steps x 2fs per step)\n",
    "        #'nsteps':'5000' # 10 ps (5,000 steps x 2fs per step)\n",
    "        'nsteps':'25000' # 50 ps (25,000 steps x 2fs per step)\n",
    "    },\n",
    "    'simulation_type':'free'\n",
    "}\n",
    "output_gppmd_tpr = pdbCode+'_'+ligandCode + '_gppmd.tpr'\n",
    "\n",
    "# Create and launch bb\n",
    "grompp(input_gro_path=output_npt_gro,\n",
    "       input_top_zip_path=output_genion_top_zip,\n",
    "       output_tpr_path=output_gppmd_tpr,\n",
    "       input_cpt_path=output_npt_cpt,\n",
    "       properties=prop)"
   ]
  },
  {
   "cell_type": "markdown",
   "metadata": {},
   "source": [
    "<a id=\"mdStep2\"></a>\n",
    "### Step 2: Running short free MD simulation"
   ]
  },
  {
   "cell_type": "code",
   "execution_count": 123,
   "metadata": {
    "scrolled": false
   },
   "outputs": [
    {
     "name": "stdout",
     "output_type": "stream",
     "text": [
      "2022-04-19 00:14:16,372 [MainThread  ] [INFO ]  GROMACS Mdrun 20191 version detected\n",
      "2022-04-19 00:14:16,373 [MainThread  ] [INFO ]  Not using any container\n",
      "2022-04-19 00:38:00,767 [MainThread  ] [INFO ]  gmx -nobackup -nocopyright mdrun -s 3HTB_JZ4_gppmd.tpr -o 3HTB_JZ4_md.trr -c 3HTB_JZ4_md.gro -e 3HTB_JZ4_md.edr -g 3HTB_JZ4_md.log -cpo 3HTB_JZ4_md.cpt\n",
      "\n",
      "2022-04-19 00:38:00,773 [MainThread  ] [INFO ]  Exit code 0\n",
      "\n",
      "2022-04-19 00:38:00,779 [MainThread  ] [INFO ]                        :-) GROMACS - gmx mdrun, 2019.1 (-:\n",
      "\n",
      "Executable:   /opt/miniconda3/envs/biobb_env/bin/gmx\n",
      "Data prefix:  /opt/miniconda3/envs/biobb_env\n",
      "Working dir:  /home/lg/repos/javerianaMD/biobb_md/notebooks\n",
      "Command line:\n",
      "  gmx -nobackup -nocopyright mdrun -s 3HTB_JZ4_gppmd.tpr -o 3HTB_JZ4_md.trr -c 3HTB_JZ4_md.gro -e 3HTB_JZ4_md.edr -g 3HTB_JZ4_md.log -cpo 3HTB_JZ4_md.cpt\n",
      "\n",
      "Compiled SIMD: SSE2, but for this host/run AVX2_256 might be better (see log).\n",
      "The current CPU can measure timings more accurately than the code in\n",
      "gmx mdrun was configured to use. This might affect your simulation\n",
      "speed as accurate timings are needed for load-balancing.\n",
      "Please consider rebuilding gmx mdrun with the GMX_USE_RDTSCP=ON CMake option.\n",
      "Reading file 3HTB_JZ4_gppmd.tpr, VERSION 2019.1 (single precision)\n",
      "Changing nstlist from 10 to 50, rlist from 1 to 1.114\n",
      "\n",
      "\n",
      "Using 1 MPI thread\n",
      "Using 4 OpenMP threads \n",
      "\n",
      "starting mdrun 'Protein in water'\n",
      "25000 steps,     50.0 ps.\n",
      "\n",
      "Writing final coordinates.\n",
      "\n",
      "               Core t (s)   Wall t (s)        (%)\n",
      "       Time:     5691.705     1422.927      400.0\n",
      "                 (ns/day)    (hour/ns)\n",
      "Performance:        3.036        7.905\n",
      "\n",
      "GROMACS reminds you: \"Space May Be the Final Frontier, But It's Made in a Hollywood Basement\" (Red Hot Chili Peppers)\n",
      "\n",
      "\n",
      "2022-04-19 00:38:00,781 [MainThread  ] [INFO ]  Removed: []\n"
     ]
    },
    {
     "data": {
      "text/plain": [
       "0"
      ]
     },
     "execution_count": 123,
     "metadata": {},
     "output_type": "execute_result"
    }
   ],
   "source": [
    "# Mdrun: Running free dynamics\n",
    "from biobb_md.gromacs.mdrun import mdrun\n",
    "\n",
    "# Create prop dict and inputs/outputs\n",
    "output_md_trr = pdbCode+'_'+ligandCode+'_md.trr'\n",
    "output_md_gro = pdbCode+'_'+ligandCode+'_md.gro'\n",
    "output_md_edr = pdbCode+'_'+ligandCode+'_md.edr'\n",
    "output_md_log = pdbCode+'_'+ligandCode+'_md.log'\n",
    "output_md_cpt = pdbCode+'_'+ligandCode+'_md.cpt'\n",
    "\n",
    "# Create and launch bb\n",
    "mdrun(input_tpr_path=output_gppmd_tpr,\n",
    "      output_trr_path=output_md_trr,\n",
    "      output_gro_path=output_md_gro,\n",
    "      output_edr_path=output_md_edr,\n",
    "      output_log_path=output_md_log,\n",
    "      output_cpt_path=output_md_cpt)"
   ]
  },
  {
   "cell_type": "markdown",
   "metadata": {},
   "source": [
    "<a id=\"mdStep3\"></a>\n",
    "### Step 3: Checking free MD simulation results\n",
    "Checking results for the final step of the setup process, the **free MD run**. Plotting **Root Mean Square deviation (RMSd)** and **Radius of Gyration (Rgyr)** by time during the **free MD run** step. **RMSd** against the **experimental structure** (input structure of the pipeline) and against the **minimized and equilibrated structure** (output structure of the NPT equilibration step)."
   ]
  },
  {
   "cell_type": "code",
   "execution_count": 126,
   "metadata": {
    "scrolled": false
   },
   "outputs": [
    {
     "name": "stdout",
     "output_type": "stream",
     "text": [
      "2022-04-19 08:58:30,332 [MainThread  ] [INFO ]  Not using any container\n",
      "2022-04-19 08:58:30,471 [MainThread  ] [INFO ]  echo 'Backbone Backbone' | gmx rms -s /home/lg/repos/javerianaMD/biobb_md/notebooks/3HTB_JZ4_gppmd.tpr -f /home/lg/repos/javerianaMD/biobb_md/notebooks/3HTB_JZ4_md.trr -o 3HTB_JZ4_rms_first.xvg -xvg none\n",
      "\n",
      "2022-04-19 08:58:30,472 [MainThread  ] [INFO ]  Exit code 0\n",
      "\n",
      "2022-04-19 08:58:30,473 [MainThread  ] [INFO ]  Selected 4: 'Backbone'\n",
      "Selected 4: 'Backbone'\n",
      "\n",
      "2022-04-19 08:58:30,474 [MainThread  ] [INFO ]                         :-) GROMACS - gmx rms, 2019.1 (-:\n",
      "\n",
      "                            GROMACS is written by:\n",
      "     Emile Apol      Rossen Apostolov      Paul Bauer     Herman J.C. Berendsen\n",
      "    Par Bjelkmar      Christian Blau   Viacheslav Bolnykh     Kevin Boyd    \n",
      " Aldert van Buuren   Rudi van Drunen     Anton Feenstra       Alan Gray     \n",
      "  Gerrit Groenhof     Anca Hamuraru    Vincent Hindriksen  M. Eric Irrgang  \n",
      "  Aleksei Iupinov   Christoph Junghans     Joe Jordan     Dimitrios Karkoulis\n",
      "    Peter Kasson        Jiri Kraus      Carsten Kutzner      Per Larsson    \n",
      "  Justin A. Lemkul    Viveca Lindahl    Magnus Lundborg     Erik Marklund   \n",
      "    Pascal Merz     Pieter Meulenhoff    Teemu Murtola       Szilard Pall   \n",
      "    Sander Pronk      Roland Schulz      Michael Shirts    Alexey Shvetsov  \n",
      "   Alfons Sijbers     Peter Tieleman      Jon Vincent      Teemu Virolainen \n",
      " Christian Wennberg    Maarten Wolf   \n",
      "                           and the project leaders:\n",
      "        Mark Abraham, Berk Hess, Erik Lindahl, and David van der Spoel\n",
      "\n",
      "Copyright (c) 1991-2000, University of Groningen, The Netherlands.\n",
      "Copyright (c) 2001-2018, The GROMACS development team at\n",
      "Uppsala University, Stockholm University and\n",
      "the Royal Institute of Technology, Sweden.\n",
      "check out http://www.gromacs.org for more information.\n",
      "\n",
      "GROMACS is free software; you can redistribute it and/or modify it\n",
      "under the terms of the GNU Lesser General Public License\n",
      "as published by the Free Software Foundation; either version 2.1\n",
      "of the License, or (at your option) any later version.\n",
      "\n",
      "GROMACS:      gmx rms, version 2019.1\n",
      "Executable:   /opt/miniconda3/envs/biobb_env/bin/gmx\n",
      "Data prefix:  /opt/miniconda3/envs/biobb_env\n",
      "Working dir:  /home/lg/repos/javerianaMD/biobb_md/notebooks\n",
      "Command line:\n",
      "  gmx rms -s /home/lg/repos/javerianaMD/biobb_md/notebooks/3HTB_JZ4_gppmd.tpr -f /home/lg/repos/javerianaMD/biobb_md/notebooks/3HTB_JZ4_md.trr -o 3HTB_JZ4_rms_first.xvg -xvg none\n",
      "\n",
      "Reading file /home/lg/repos/javerianaMD/biobb_md/notebooks/3HTB_JZ4_gppmd.tpr, VERSION 2019.1 (single precision)\n",
      "Reading file /home/lg/repos/javerianaMD/biobb_md/notebooks/3HTB_JZ4_gppmd.tpr, VERSION 2019.1 (single precision)\n",
      "Select group for least squares fit\n",
      "Group     0 (         System) has 31177 elements\n",
      "Group     1 (        Protein) has  2614 elements\n",
      "Group     2 (      Protein-H) has  1301 elements\n",
      "Group     3 (        C-alpha) has   163 elements\n",
      "Group     4 (       Backbone) has   489 elements\n",
      "Group     5 (      MainChain) has   653 elements\n",
      "Group     6 (   MainChain+Cb) has   805 elements\n",
      "Group     7 (    MainChain+H) has   815 elements\n",
      "Group     8 (      SideChain) has  1799 elements\n",
      "Group     9 (    SideChain-H) has   648 elements\n",
      "Group    10 (    Prot-Masses) has  2614 elements\n",
      "Group    11 (    non-Protein) has 28563 elements\n",
      "Group    12 (          Other) has    22 elements\n",
      "Group    13 (            JZ4) has    22 elements\n",
      "Group    14 (             NA) has    10 elements\n",
      "Group    15 (             CL) has    16 elements\n",
      "Group    16 (          Water) has 28515 elements\n",
      "Group    17 (            SOL) has 28515 elements\n",
      "Group    18 (      non-Water) has  2662 elements\n",
      "Group    19 (            Ion) has    26 elements\n",
      "Group    20 (            JZ4) has    22 elements\n",
      "Group    21 (             NA) has    10 elements\n",
      "Group    22 (             CL) has    16 elements\n",
      "Group    23 ( Water_and_ions) has 28541 elements\n",
      "Select a group: Select group for RMSD calculation\n",
      "Group     0 (         System) has 31177 elements\n",
      "Group     1 (        Protein) has  2614 elements\n",
      "Group     2 (      Protein-H) has  1301 elements\n",
      "Group     3 (        C-alpha) has   163 elements\n",
      "Group     4 (       Backbone) has   489 elements\n",
      "Group     5 (      MainChain) has   653 elements\n",
      "Group     6 (   MainChain+Cb) has   805 elements\n",
      "Group     7 (    MainChain+H) has   815 elements\n",
      "Group     8 (      SideChain) has  1799 elements\n",
      "Group     9 (    SideChain-H) has   648 elements\n",
      "Group    10 (    Prot-Masses) has  2614 elements\n",
      "Group    11 (    non-Protein) has 28563 elements\n",
      "Group    12 (          Other) has    22 elements\n",
      "Group    13 (            JZ4) has    22 elements\n",
      "Group    14 (             NA) has    10 elements\n",
      "Group    15 (             CL) has    16 elements\n",
      "Group    16 (          Water) has 28515 elements\n",
      "Group    17 (            SOL) has 28515 elements\n",
      "Group    18 (      non-Water) has  2662 elements\n",
      "Group    19 (            Ion) has    26 elements\n",
      "Group    20 (            JZ4) has    22 elements\n",
      "Group    21 (             NA) has    10 elements\n",
      "Group    22 (             CL) has    16 elements\n",
      "Group    23 ( Water_and_ions) has 28541 elements\n",
      "Select a group: trr version: GMX_trn_file (single precision)\n",
      "Last frame          5 time   50.000   \n",
      "\n",
      "GROMACS reminds you: \"Only entropy comes easy.\" (Anton Chekov)\n",
      "\n",
      "\n"
     ]
    },
    {
     "data": {
      "text/plain": [
       "0"
      ]
     },
     "execution_count": 126,
     "metadata": {},
     "output_type": "execute_result"
    }
   ],
   "source": [
    "# GMXRms: Computing Root Mean Square deviation to analyse structural stability \n",
    "#         RMSd against minimized and equilibrated snapshot (backbone atoms)   \n",
    "\n",
    "from biobb_analysis.gromacs.gmx_rms import gmx_rms\n",
    "\n",
    "# Create prop dict and inputs/outputs\n",
    "output_rms_first = pdbCode+'_'+ligandCode+'_rms_first.xvg'\n",
    "prop = {\n",
    "    'selection':  'Backbone'\n",
    "}\n",
    "\n",
    "# Create and launch bb\n",
    "gmx_rms(input_structure_path=output_gppmd_tpr,\n",
    "         input_traj_path=output_md_trr,\n",
    "         output_xvg_path=output_rms_first, \n",
    "          properties=prop)"
   ]
  },
  {
   "cell_type": "code",
   "execution_count": 127,
   "metadata": {
    "scrolled": true
   },
   "outputs": [
    {
     "name": "stdout",
     "output_type": "stream",
     "text": [
      "2022-04-19 08:58:36,839 [MainThread  ] [INFO ]  Not using any container\n",
      "2022-04-19 08:58:36,976 [MainThread  ] [INFO ]  echo 'Backbone Backbone' | gmx rms -s /home/lg/repos/javerianaMD/biobb_md/notebooks/3HTB_JZ4_gppmin.tpr -f /home/lg/repos/javerianaMD/biobb_md/notebooks/3HTB_JZ4_md.trr -o 3HTB_JZ4_rms_exp.xvg -xvg none\n",
      "\n",
      "2022-04-19 08:58:36,977 [MainThread  ] [INFO ]  Exit code 0\n",
      "\n",
      "2022-04-19 08:58:36,978 [MainThread  ] [INFO ]  Selected 4: 'Backbone'\n",
      "Selected 4: 'Backbone'\n",
      "\n",
      "2022-04-19 08:58:36,978 [MainThread  ] [INFO ]                         :-) GROMACS - gmx rms, 2019.1 (-:\n",
      "\n",
      "                            GROMACS is written by:\n",
      "     Emile Apol      Rossen Apostolov      Paul Bauer     Herman J.C. Berendsen\n",
      "    Par Bjelkmar      Christian Blau   Viacheslav Bolnykh     Kevin Boyd    \n",
      " Aldert van Buuren   Rudi van Drunen     Anton Feenstra       Alan Gray     \n",
      "  Gerrit Groenhof     Anca Hamuraru    Vincent Hindriksen  M. Eric Irrgang  \n",
      "  Aleksei Iupinov   Christoph Junghans     Joe Jordan     Dimitrios Karkoulis\n",
      "    Peter Kasson        Jiri Kraus      Carsten Kutzner      Per Larsson    \n",
      "  Justin A. Lemkul    Viveca Lindahl    Magnus Lundborg     Erik Marklund   \n",
      "    Pascal Merz     Pieter Meulenhoff    Teemu Murtola       Szilard Pall   \n",
      "    Sander Pronk      Roland Schulz      Michael Shirts    Alexey Shvetsov  \n",
      "   Alfons Sijbers     Peter Tieleman      Jon Vincent      Teemu Virolainen \n",
      " Christian Wennberg    Maarten Wolf   \n",
      "                           and the project leaders:\n",
      "        Mark Abraham, Berk Hess, Erik Lindahl, and David van der Spoel\n",
      "\n",
      "Copyright (c) 1991-2000, University of Groningen, The Netherlands.\n",
      "Copyright (c) 2001-2018, The GROMACS development team at\n",
      "Uppsala University, Stockholm University and\n",
      "the Royal Institute of Technology, Sweden.\n",
      "check out http://www.gromacs.org for more information.\n",
      "\n",
      "GROMACS is free software; you can redistribute it and/or modify it\n",
      "under the terms of the GNU Lesser General Public License\n",
      "as published by the Free Software Foundation; either version 2.1\n",
      "of the License, or (at your option) any later version.\n",
      "\n",
      "GROMACS:      gmx rms, version 2019.1\n",
      "Executable:   /opt/miniconda3/envs/biobb_env/bin/gmx\n",
      "Data prefix:  /opt/miniconda3/envs/biobb_env\n",
      "Working dir:  /home/lg/repos/javerianaMD/biobb_md/notebooks\n",
      "Command line:\n",
      "  gmx rms -s /home/lg/repos/javerianaMD/biobb_md/notebooks/3HTB_JZ4_gppmin.tpr -f /home/lg/repos/javerianaMD/biobb_md/notebooks/3HTB_JZ4_md.trr -o 3HTB_JZ4_rms_exp.xvg -xvg none\n",
      "\n",
      "Reading file /home/lg/repos/javerianaMD/biobb_md/notebooks/3HTB_JZ4_gppmin.tpr, VERSION 2019.1 (single precision)\n",
      "Reading file /home/lg/repos/javerianaMD/biobb_md/notebooks/3HTB_JZ4_gppmin.tpr, VERSION 2019.1 (single precision)\n",
      "Select group for least squares fit\n",
      "Group     0 (         System) has 31177 elements\n",
      "Group     1 (        Protein) has  2614 elements\n",
      "Group     2 (      Protein-H) has  1301 elements\n",
      "Group     3 (        C-alpha) has   163 elements\n",
      "Group     4 (       Backbone) has   489 elements\n",
      "Group     5 (      MainChain) has   653 elements\n",
      "Group     6 (   MainChain+Cb) has   805 elements\n",
      "Group     7 (    MainChain+H) has   815 elements\n",
      "Group     8 (      SideChain) has  1799 elements\n",
      "Group     9 (    SideChain-H) has   648 elements\n",
      "Group    10 (    Prot-Masses) has  2614 elements\n",
      "Group    11 (    non-Protein) has 28563 elements\n",
      "Group    12 (          Other) has    22 elements\n",
      "Group    13 (            JZ4) has    22 elements\n",
      "Group    14 (             NA) has    10 elements\n",
      "Group    15 (             CL) has    16 elements\n",
      "Group    16 (          Water) has 28515 elements\n",
      "Group    17 (            SOL) has 28515 elements\n",
      "Group    18 (      non-Water) has  2662 elements\n",
      "Group    19 (            Ion) has    26 elements\n",
      "Group    20 (            JZ4) has    22 elements\n",
      "Group    21 (             NA) has    10 elements\n",
      "Group    22 (             CL) has    16 elements\n",
      "Group    23 ( Water_and_ions) has 28541 elements\n",
      "Select a group: Select group for RMSD calculation\n",
      "Group     0 (         System) has 31177 elements\n",
      "Group     1 (        Protein) has  2614 elements\n",
      "Group     2 (      Protein-H) has  1301 elements\n",
      "Group     3 (        C-alpha) has   163 elements\n",
      "Group     4 (       Backbone) has   489 elements\n",
      "Group     5 (      MainChain) has   653 elements\n",
      "Group     6 (   MainChain+Cb) has   805 elements\n",
      "Group     7 (    MainChain+H) has   815 elements\n",
      "Group     8 (      SideChain) has  1799 elements\n",
      "Group     9 (    SideChain-H) has   648 elements\n",
      "Group    10 (    Prot-Masses) has  2614 elements\n",
      "Group    11 (    non-Protein) has 28563 elements\n",
      "Group    12 (          Other) has    22 elements\n",
      "Group    13 (            JZ4) has    22 elements\n",
      "Group    14 (             NA) has    10 elements\n",
      "Group    15 (             CL) has    16 elements\n",
      "Group    16 (          Water) has 28515 elements\n",
      "Group    17 (            SOL) has 28515 elements\n",
      "Group    18 (      non-Water) has  2662 elements\n",
      "Group    19 (            Ion) has    26 elements\n",
      "Group    20 (            JZ4) has    22 elements\n",
      "Group    21 (             NA) has    10 elements\n",
      "Group    22 (             CL) has    16 elements\n",
      "Group    23 ( Water_and_ions) has 28541 elements\n",
      "Select a group: trr version: GMX_trn_file (single precision)\n",
      "Last frame          5 time   50.000   \n",
      "\n",
      "Back Off! I just backed up 3HTB_JZ4_rms_exp.xvg to ./#3HTB_JZ4_rms_exp.xvg.1#\n",
      "\n",
      "GROMACS reminds you: \"We All Get the Flu, We All Get Aids\" (LIVE)\n",
      "\n",
      "\n"
     ]
    },
    {
     "data": {
      "text/plain": [
       "0"
      ]
     },
     "execution_count": 127,
     "metadata": {},
     "output_type": "execute_result"
    }
   ],
   "source": [
    "# GMXRms: Computing Root Mean Square deviation to analyse structural stability \n",
    "#         RMSd against experimental structure (backbone atoms)   \n",
    "\n",
    "from biobb_analysis.gromacs.gmx_rms import gmx_rms\n",
    "\n",
    "# Create prop dict and inputs/outputs\n",
    "output_rms_exp = pdbCode+'_'+ligandCode+'_rms_exp.xvg'\n",
    "prop = {\n",
    "    'selection':  'Backbone'\n",
    "}\n",
    "\n",
    "# Create and launch bb\n",
    "gmx_rms (input_structure_path=output_gppmin_tpr,\n",
    "         input_traj_path=output_md_trr,\n",
    "         output_xvg_path=output_rms_exp, \n",
    "         properties=prop)"
   ]
  },
  {
   "cell_type": "code",
   "execution_count": 128,
   "metadata": {
    "scrolled": true
   },
   "outputs": [
    {
     "data": {
      "text/html": [
       "        <script type=\"text/javascript\">\n",
       "        window.PlotlyConfig = {MathJaxConfig: 'local'};\n",
       "        if (window.MathJax) {MathJax.Hub.Config({SVG: {font: \"STIX-Web\"}});}\n",
       "        if (typeof require !== 'undefined') {\n",
       "        require.undef(\"plotly\");\n",
       "        requirejs.config({\n",
       "            paths: {\n",
       "                'plotly': ['https://cdn.plot.ly/plotly-2.11.1.min']\n",
       "            }\n",
       "        });\n",
       "        require(['plotly'], function(Plotly) {\n",
       "            window._Plotly = Plotly;\n",
       "        });\n",
       "        }\n",
       "        </script>\n",
       "        "
      ]
     },
     "metadata": {},
     "output_type": "display_data"
    },
    {
     "data": {
      "application/vnd.plotly.v1+json": {
       "config": {
        "linkText": "Export to plot.ly",
        "plotlyServerURL": "https://plot.ly",
        "showLink": false
       },
       "data": [
        {
         "name": "RMSd vs first",
         "type": "scatter",
         "x": [
          0,
          10,
          20,
          30,
          40,
          50
         ],
         "y": [
          1e-07,
          0.0639149,
          0.0525421,
          0.0552806,
          0.0555447,
          0.054841
         ]
        },
        {
         "name": "RMSd vs exp",
         "type": "scatter",
         "x": [
          0,
          10,
          20,
          30,
          40,
          50
         ],
         "y": [
          0.031923,
          0.0713284,
          0.0610834,
          0.0637342,
          0.0628875,
          0.058974
         ]
        }
       ],
       "layout": {
        "template": {
         "data": {
          "bar": [
           {
            "error_x": {
             "color": "#2a3f5f"
            },
            "error_y": {
             "color": "#2a3f5f"
            },
            "marker": {
             "line": {
              "color": "#E5ECF6",
              "width": 0.5
             },
             "pattern": {
              "fillmode": "overlay",
              "size": 10,
              "solidity": 0.2
             }
            },
            "type": "bar"
           }
          ],
          "barpolar": [
           {
            "marker": {
             "line": {
              "color": "#E5ECF6",
              "width": 0.5
             },
             "pattern": {
              "fillmode": "overlay",
              "size": 10,
              "solidity": 0.2
             }
            },
            "type": "barpolar"
           }
          ],
          "carpet": [
           {
            "aaxis": {
             "endlinecolor": "#2a3f5f",
             "gridcolor": "white",
             "linecolor": "white",
             "minorgridcolor": "white",
             "startlinecolor": "#2a3f5f"
            },
            "baxis": {
             "endlinecolor": "#2a3f5f",
             "gridcolor": "white",
             "linecolor": "white",
             "minorgridcolor": "white",
             "startlinecolor": "#2a3f5f"
            },
            "type": "carpet"
           }
          ],
          "choropleth": [
           {
            "colorbar": {
             "outlinewidth": 0,
             "ticks": ""
            },
            "type": "choropleth"
           }
          ],
          "contour": [
           {
            "colorbar": {
             "outlinewidth": 0,
             "ticks": ""
            },
            "colorscale": [
             [
              0,
              "#0d0887"
             ],
             [
              0.1111111111111111,
              "#46039f"
             ],
             [
              0.2222222222222222,
              "#7201a8"
             ],
             [
              0.3333333333333333,
              "#9c179e"
             ],
             [
              0.4444444444444444,
              "#bd3786"
             ],
             [
              0.5555555555555556,
              "#d8576b"
             ],
             [
              0.6666666666666666,
              "#ed7953"
             ],
             [
              0.7777777777777778,
              "#fb9f3a"
             ],
             [
              0.8888888888888888,
              "#fdca26"
             ],
             [
              1,
              "#f0f921"
             ]
            ],
            "type": "contour"
           }
          ],
          "contourcarpet": [
           {
            "colorbar": {
             "outlinewidth": 0,
             "ticks": ""
            },
            "type": "contourcarpet"
           }
          ],
          "heatmap": [
           {
            "colorbar": {
             "outlinewidth": 0,
             "ticks": ""
            },
            "colorscale": [
             [
              0,
              "#0d0887"
             ],
             [
              0.1111111111111111,
              "#46039f"
             ],
             [
              0.2222222222222222,
              "#7201a8"
             ],
             [
              0.3333333333333333,
              "#9c179e"
             ],
             [
              0.4444444444444444,
              "#bd3786"
             ],
             [
              0.5555555555555556,
              "#d8576b"
             ],
             [
              0.6666666666666666,
              "#ed7953"
             ],
             [
              0.7777777777777778,
              "#fb9f3a"
             ],
             [
              0.8888888888888888,
              "#fdca26"
             ],
             [
              1,
              "#f0f921"
             ]
            ],
            "type": "heatmap"
           }
          ],
          "heatmapgl": [
           {
            "colorbar": {
             "outlinewidth": 0,
             "ticks": ""
            },
            "colorscale": [
             [
              0,
              "#0d0887"
             ],
             [
              0.1111111111111111,
              "#46039f"
             ],
             [
              0.2222222222222222,
              "#7201a8"
             ],
             [
              0.3333333333333333,
              "#9c179e"
             ],
             [
              0.4444444444444444,
              "#bd3786"
             ],
             [
              0.5555555555555556,
              "#d8576b"
             ],
             [
              0.6666666666666666,
              "#ed7953"
             ],
             [
              0.7777777777777778,
              "#fb9f3a"
             ],
             [
              0.8888888888888888,
              "#fdca26"
             ],
             [
              1,
              "#f0f921"
             ]
            ],
            "type": "heatmapgl"
           }
          ],
          "histogram": [
           {
            "marker": {
             "pattern": {
              "fillmode": "overlay",
              "size": 10,
              "solidity": 0.2
             }
            },
            "type": "histogram"
           }
          ],
          "histogram2d": [
           {
            "colorbar": {
             "outlinewidth": 0,
             "ticks": ""
            },
            "colorscale": [
             [
              0,
              "#0d0887"
             ],
             [
              0.1111111111111111,
              "#46039f"
             ],
             [
              0.2222222222222222,
              "#7201a8"
             ],
             [
              0.3333333333333333,
              "#9c179e"
             ],
             [
              0.4444444444444444,
              "#bd3786"
             ],
             [
              0.5555555555555556,
              "#d8576b"
             ],
             [
              0.6666666666666666,
              "#ed7953"
             ],
             [
              0.7777777777777778,
              "#fb9f3a"
             ],
             [
              0.8888888888888888,
              "#fdca26"
             ],
             [
              1,
              "#f0f921"
             ]
            ],
            "type": "histogram2d"
           }
          ],
          "histogram2dcontour": [
           {
            "colorbar": {
             "outlinewidth": 0,
             "ticks": ""
            },
            "colorscale": [
             [
              0,
              "#0d0887"
             ],
             [
              0.1111111111111111,
              "#46039f"
             ],
             [
              0.2222222222222222,
              "#7201a8"
             ],
             [
              0.3333333333333333,
              "#9c179e"
             ],
             [
              0.4444444444444444,
              "#bd3786"
             ],
             [
              0.5555555555555556,
              "#d8576b"
             ],
             [
              0.6666666666666666,
              "#ed7953"
             ],
             [
              0.7777777777777778,
              "#fb9f3a"
             ],
             [
              0.8888888888888888,
              "#fdca26"
             ],
             [
              1,
              "#f0f921"
             ]
            ],
            "type": "histogram2dcontour"
           }
          ],
          "mesh3d": [
           {
            "colorbar": {
             "outlinewidth": 0,
             "ticks": ""
            },
            "type": "mesh3d"
           }
          ],
          "parcoords": [
           {
            "line": {
             "colorbar": {
              "outlinewidth": 0,
              "ticks": ""
             }
            },
            "type": "parcoords"
           }
          ],
          "pie": [
           {
            "automargin": true,
            "type": "pie"
           }
          ],
          "scatter": [
           {
            "fillpattern": {
             "fillmode": "overlay",
             "size": 10,
             "solidity": 0.2
            },
            "type": "scatter"
           }
          ],
          "scatter3d": [
           {
            "line": {
             "colorbar": {
              "outlinewidth": 0,
              "ticks": ""
             }
            },
            "marker": {
             "colorbar": {
              "outlinewidth": 0,
              "ticks": ""
             }
            },
            "type": "scatter3d"
           }
          ],
          "scattercarpet": [
           {
            "marker": {
             "colorbar": {
              "outlinewidth": 0,
              "ticks": ""
             }
            },
            "type": "scattercarpet"
           }
          ],
          "scattergeo": [
           {
            "marker": {
             "colorbar": {
              "outlinewidth": 0,
              "ticks": ""
             }
            },
            "type": "scattergeo"
           }
          ],
          "scattergl": [
           {
            "marker": {
             "colorbar": {
              "outlinewidth": 0,
              "ticks": ""
             }
            },
            "type": "scattergl"
           }
          ],
          "scattermapbox": [
           {
            "marker": {
             "colorbar": {
              "outlinewidth": 0,
              "ticks": ""
             }
            },
            "type": "scattermapbox"
           }
          ],
          "scatterpolar": [
           {
            "marker": {
             "colorbar": {
              "outlinewidth": 0,
              "ticks": ""
             }
            },
            "type": "scatterpolar"
           }
          ],
          "scatterpolargl": [
           {
            "marker": {
             "colorbar": {
              "outlinewidth": 0,
              "ticks": ""
             }
            },
            "type": "scatterpolargl"
           }
          ],
          "scatterternary": [
           {
            "marker": {
             "colorbar": {
              "outlinewidth": 0,
              "ticks": ""
             }
            },
            "type": "scatterternary"
           }
          ],
          "surface": [
           {
            "colorbar": {
             "outlinewidth": 0,
             "ticks": ""
            },
            "colorscale": [
             [
              0,
              "#0d0887"
             ],
             [
              0.1111111111111111,
              "#46039f"
             ],
             [
              0.2222222222222222,
              "#7201a8"
             ],
             [
              0.3333333333333333,
              "#9c179e"
             ],
             [
              0.4444444444444444,
              "#bd3786"
             ],
             [
              0.5555555555555556,
              "#d8576b"
             ],
             [
              0.6666666666666666,
              "#ed7953"
             ],
             [
              0.7777777777777778,
              "#fb9f3a"
             ],
             [
              0.8888888888888888,
              "#fdca26"
             ],
             [
              1,
              "#f0f921"
             ]
            ],
            "type": "surface"
           }
          ],
          "table": [
           {
            "cells": {
             "fill": {
              "color": "#EBF0F8"
             },
             "line": {
              "color": "white"
             }
            },
            "header": {
             "fill": {
              "color": "#C8D4E3"
             },
             "line": {
              "color": "white"
             }
            },
            "type": "table"
           }
          ]
         },
         "layout": {
          "annotationdefaults": {
           "arrowcolor": "#2a3f5f",
           "arrowhead": 0,
           "arrowwidth": 1
          },
          "autotypenumbers": "strict",
          "coloraxis": {
           "colorbar": {
            "outlinewidth": 0,
            "ticks": ""
           }
          },
          "colorscale": {
           "diverging": [
            [
             0,
             "#8e0152"
            ],
            [
             0.1,
             "#c51b7d"
            ],
            [
             0.2,
             "#de77ae"
            ],
            [
             0.3,
             "#f1b6da"
            ],
            [
             0.4,
             "#fde0ef"
            ],
            [
             0.5,
             "#f7f7f7"
            ],
            [
             0.6,
             "#e6f5d0"
            ],
            [
             0.7,
             "#b8e186"
            ],
            [
             0.8,
             "#7fbc41"
            ],
            [
             0.9,
             "#4d9221"
            ],
            [
             1,
             "#276419"
            ]
           ],
           "sequential": [
            [
             0,
             "#0d0887"
            ],
            [
             0.1111111111111111,
             "#46039f"
            ],
            [
             0.2222222222222222,
             "#7201a8"
            ],
            [
             0.3333333333333333,
             "#9c179e"
            ],
            [
             0.4444444444444444,
             "#bd3786"
            ],
            [
             0.5555555555555556,
             "#d8576b"
            ],
            [
             0.6666666666666666,
             "#ed7953"
            ],
            [
             0.7777777777777778,
             "#fb9f3a"
            ],
            [
             0.8888888888888888,
             "#fdca26"
            ],
            [
             1,
             "#f0f921"
            ]
           ],
           "sequentialminus": [
            [
             0,
             "#0d0887"
            ],
            [
             0.1111111111111111,
             "#46039f"
            ],
            [
             0.2222222222222222,
             "#7201a8"
            ],
            [
             0.3333333333333333,
             "#9c179e"
            ],
            [
             0.4444444444444444,
             "#bd3786"
            ],
            [
             0.5555555555555556,
             "#d8576b"
            ],
            [
             0.6666666666666666,
             "#ed7953"
            ],
            [
             0.7777777777777778,
             "#fb9f3a"
            ],
            [
             0.8888888888888888,
             "#fdca26"
            ],
            [
             1,
             "#f0f921"
            ]
           ]
          },
          "colorway": [
           "#636efa",
           "#EF553B",
           "#00cc96",
           "#ab63fa",
           "#FFA15A",
           "#19d3f3",
           "#FF6692",
           "#B6E880",
           "#FF97FF",
           "#FECB52"
          ],
          "font": {
           "color": "#2a3f5f"
          },
          "geo": {
           "bgcolor": "white",
           "lakecolor": "white",
           "landcolor": "#E5ECF6",
           "showlakes": true,
           "showland": true,
           "subunitcolor": "white"
          },
          "hoverlabel": {
           "align": "left"
          },
          "hovermode": "closest",
          "mapbox": {
           "style": "light"
          },
          "paper_bgcolor": "white",
          "plot_bgcolor": "#E5ECF6",
          "polar": {
           "angularaxis": {
            "gridcolor": "white",
            "linecolor": "white",
            "ticks": ""
           },
           "bgcolor": "#E5ECF6",
           "radialaxis": {
            "gridcolor": "white",
            "linecolor": "white",
            "ticks": ""
           }
          },
          "scene": {
           "xaxis": {
            "backgroundcolor": "#E5ECF6",
            "gridcolor": "white",
            "gridwidth": 2,
            "linecolor": "white",
            "showbackground": true,
            "ticks": "",
            "zerolinecolor": "white"
           },
           "yaxis": {
            "backgroundcolor": "#E5ECF6",
            "gridcolor": "white",
            "gridwidth": 2,
            "linecolor": "white",
            "showbackground": true,
            "ticks": "",
            "zerolinecolor": "white"
           },
           "zaxis": {
            "backgroundcolor": "#E5ECF6",
            "gridcolor": "white",
            "gridwidth": 2,
            "linecolor": "white",
            "showbackground": true,
            "ticks": "",
            "zerolinecolor": "white"
           }
          },
          "shapedefaults": {
           "line": {
            "color": "#2a3f5f"
           }
          },
          "ternary": {
           "aaxis": {
            "gridcolor": "white",
            "linecolor": "white",
            "ticks": ""
           },
           "baxis": {
            "gridcolor": "white",
            "linecolor": "white",
            "ticks": ""
           },
           "bgcolor": "#E5ECF6",
           "caxis": {
            "gridcolor": "white",
            "linecolor": "white",
            "ticks": ""
           }
          },
          "title": {
           "x": 0.05
          },
          "xaxis": {
           "automargin": true,
           "gridcolor": "white",
           "linecolor": "white",
           "ticks": "",
           "title": {
            "standoff": 15
           },
           "zerolinecolor": "white",
           "zerolinewidth": 2
          },
          "yaxis": {
           "automargin": true,
           "gridcolor": "white",
           "linecolor": "white",
           "ticks": "",
           "title": {
            "standoff": 15
           },
           "zerolinecolor": "white",
           "zerolinewidth": 2
          }
         }
        },
        "title": {
         "text": "RMSd during free MD Simulation"
        },
        "xaxis": {
         "title": {
          "text": "Time (ps)"
         }
        },
        "yaxis": {
         "title": {
          "text": "RMSd (nm)"
         }
        }
       }
      },
      "text/html": [
       "<div>                            <div id=\"b0440479-ec1b-49e5-93ef-bc0e2ef17c12\" class=\"plotly-graph-div\" style=\"height:525px; width:100%;\"></div>            <script type=\"text/javascript\">                require([\"plotly\"], function(Plotly) {                    window.PLOTLYENV=window.PLOTLYENV || {};                                    if (document.getElementById(\"b0440479-ec1b-49e5-93ef-bc0e2ef17c12\")) {                    Plotly.newPlot(                        \"b0440479-ec1b-49e5-93ef-bc0e2ef17c12\",                        [{\"name\":\"RMSd vs first\",\"x\":[0.0,10.0,20.0,30.0,40.0,50.0],\"y\":[1e-07,0.0639149,0.0525421,0.0552806,0.0555447,0.054841],\"type\":\"scatter\"},{\"name\":\"RMSd vs exp\",\"x\":[0.0,10.0,20.0,30.0,40.0,50.0],\"y\":[0.031923,0.0713284,0.0610834,0.0637342,0.0628875,0.058974],\"type\":\"scatter\"}],                        {\"template\":{\"data\":{\"barpolar\":[{\"marker\":{\"line\":{\"color\":\"#E5ECF6\",\"width\":0.5},\"pattern\":{\"fillmode\":\"overlay\",\"size\":10,\"solidity\":0.2}},\"type\":\"barpolar\"}],\"bar\":[{\"error_x\":{\"color\":\"#2a3f5f\"},\"error_y\":{\"color\":\"#2a3f5f\"},\"marker\":{\"line\":{\"color\":\"#E5ECF6\",\"width\":0.5},\"pattern\":{\"fillmode\":\"overlay\",\"size\":10,\"solidity\":0.2}},\"type\":\"bar\"}],\"carpet\":[{\"aaxis\":{\"endlinecolor\":\"#2a3f5f\",\"gridcolor\":\"white\",\"linecolor\":\"white\",\"minorgridcolor\":\"white\",\"startlinecolor\":\"#2a3f5f\"},\"baxis\":{\"endlinecolor\":\"#2a3f5f\",\"gridcolor\":\"white\",\"linecolor\":\"white\",\"minorgridcolor\":\"white\",\"startlinecolor\":\"#2a3f5f\"},\"type\":\"carpet\"}],\"choropleth\":[{\"colorbar\":{\"outlinewidth\":0,\"ticks\":\"\"},\"type\":\"choropleth\"}],\"contourcarpet\":[{\"colorbar\":{\"outlinewidth\":0,\"ticks\":\"\"},\"type\":\"contourcarpet\"}],\"contour\":[{\"colorbar\":{\"outlinewidth\":0,\"ticks\":\"\"},\"colorscale\":[[0.0,\"#0d0887\"],[0.1111111111111111,\"#46039f\"],[0.2222222222222222,\"#7201a8\"],[0.3333333333333333,\"#9c179e\"],[0.4444444444444444,\"#bd3786\"],[0.5555555555555556,\"#d8576b\"],[0.6666666666666666,\"#ed7953\"],[0.7777777777777778,\"#fb9f3a\"],[0.8888888888888888,\"#fdca26\"],[1.0,\"#f0f921\"]],\"type\":\"contour\"}],\"heatmapgl\":[{\"colorbar\":{\"outlinewidth\":0,\"ticks\":\"\"},\"colorscale\":[[0.0,\"#0d0887\"],[0.1111111111111111,\"#46039f\"],[0.2222222222222222,\"#7201a8\"],[0.3333333333333333,\"#9c179e\"],[0.4444444444444444,\"#bd3786\"],[0.5555555555555556,\"#d8576b\"],[0.6666666666666666,\"#ed7953\"],[0.7777777777777778,\"#fb9f3a\"],[0.8888888888888888,\"#fdca26\"],[1.0,\"#f0f921\"]],\"type\":\"heatmapgl\"}],\"heatmap\":[{\"colorbar\":{\"outlinewidth\":0,\"ticks\":\"\"},\"colorscale\":[[0.0,\"#0d0887\"],[0.1111111111111111,\"#46039f\"],[0.2222222222222222,\"#7201a8\"],[0.3333333333333333,\"#9c179e\"],[0.4444444444444444,\"#bd3786\"],[0.5555555555555556,\"#d8576b\"],[0.6666666666666666,\"#ed7953\"],[0.7777777777777778,\"#fb9f3a\"],[0.8888888888888888,\"#fdca26\"],[1.0,\"#f0f921\"]],\"type\":\"heatmap\"}],\"histogram2dcontour\":[{\"colorbar\":{\"outlinewidth\":0,\"ticks\":\"\"},\"colorscale\":[[0.0,\"#0d0887\"],[0.1111111111111111,\"#46039f\"],[0.2222222222222222,\"#7201a8\"],[0.3333333333333333,\"#9c179e\"],[0.4444444444444444,\"#bd3786\"],[0.5555555555555556,\"#d8576b\"],[0.6666666666666666,\"#ed7953\"],[0.7777777777777778,\"#fb9f3a\"],[0.8888888888888888,\"#fdca26\"],[1.0,\"#f0f921\"]],\"type\":\"histogram2dcontour\"}],\"histogram2d\":[{\"colorbar\":{\"outlinewidth\":0,\"ticks\":\"\"},\"colorscale\":[[0.0,\"#0d0887\"],[0.1111111111111111,\"#46039f\"],[0.2222222222222222,\"#7201a8\"],[0.3333333333333333,\"#9c179e\"],[0.4444444444444444,\"#bd3786\"],[0.5555555555555556,\"#d8576b\"],[0.6666666666666666,\"#ed7953\"],[0.7777777777777778,\"#fb9f3a\"],[0.8888888888888888,\"#fdca26\"],[1.0,\"#f0f921\"]],\"type\":\"histogram2d\"}],\"histogram\":[{\"marker\":{\"pattern\":{\"fillmode\":\"overlay\",\"size\":10,\"solidity\":0.2}},\"type\":\"histogram\"}],\"mesh3d\":[{\"colorbar\":{\"outlinewidth\":0,\"ticks\":\"\"},\"type\":\"mesh3d\"}],\"parcoords\":[{\"line\":{\"colorbar\":{\"outlinewidth\":0,\"ticks\":\"\"}},\"type\":\"parcoords\"}],\"pie\":[{\"automargin\":true,\"type\":\"pie\"}],\"scatter3d\":[{\"line\":{\"colorbar\":{\"outlinewidth\":0,\"ticks\":\"\"}},\"marker\":{\"colorbar\":{\"outlinewidth\":0,\"ticks\":\"\"}},\"type\":\"scatter3d\"}],\"scattercarpet\":[{\"marker\":{\"colorbar\":{\"outlinewidth\":0,\"ticks\":\"\"}},\"type\":\"scattercarpet\"}],\"scattergeo\":[{\"marker\":{\"colorbar\":{\"outlinewidth\":0,\"ticks\":\"\"}},\"type\":\"scattergeo\"}],\"scattergl\":[{\"marker\":{\"colorbar\":{\"outlinewidth\":0,\"ticks\":\"\"}},\"type\":\"scattergl\"}],\"scattermapbox\":[{\"marker\":{\"colorbar\":{\"outlinewidth\":0,\"ticks\":\"\"}},\"type\":\"scattermapbox\"}],\"scatterpolargl\":[{\"marker\":{\"colorbar\":{\"outlinewidth\":0,\"ticks\":\"\"}},\"type\":\"scatterpolargl\"}],\"scatterpolar\":[{\"marker\":{\"colorbar\":{\"outlinewidth\":0,\"ticks\":\"\"}},\"type\":\"scatterpolar\"}],\"scatter\":[{\"fillpattern\":{\"fillmode\":\"overlay\",\"size\":10,\"solidity\":0.2},\"type\":\"scatter\"}],\"scatterternary\":[{\"marker\":{\"colorbar\":{\"outlinewidth\":0,\"ticks\":\"\"}},\"type\":\"scatterternary\"}],\"surface\":[{\"colorbar\":{\"outlinewidth\":0,\"ticks\":\"\"},\"colorscale\":[[0.0,\"#0d0887\"],[0.1111111111111111,\"#46039f\"],[0.2222222222222222,\"#7201a8\"],[0.3333333333333333,\"#9c179e\"],[0.4444444444444444,\"#bd3786\"],[0.5555555555555556,\"#d8576b\"],[0.6666666666666666,\"#ed7953\"],[0.7777777777777778,\"#fb9f3a\"],[0.8888888888888888,\"#fdca26\"],[1.0,\"#f0f921\"]],\"type\":\"surface\"}],\"table\":[{\"cells\":{\"fill\":{\"color\":\"#EBF0F8\"},\"line\":{\"color\":\"white\"}},\"header\":{\"fill\":{\"color\":\"#C8D4E3\"},\"line\":{\"color\":\"white\"}},\"type\":\"table\"}]},\"layout\":{\"annotationdefaults\":{\"arrowcolor\":\"#2a3f5f\",\"arrowhead\":0,\"arrowwidth\":1},\"autotypenumbers\":\"strict\",\"coloraxis\":{\"colorbar\":{\"outlinewidth\":0,\"ticks\":\"\"}},\"colorscale\":{\"diverging\":[[0,\"#8e0152\"],[0.1,\"#c51b7d\"],[0.2,\"#de77ae\"],[0.3,\"#f1b6da\"],[0.4,\"#fde0ef\"],[0.5,\"#f7f7f7\"],[0.6,\"#e6f5d0\"],[0.7,\"#b8e186\"],[0.8,\"#7fbc41\"],[0.9,\"#4d9221\"],[1,\"#276419\"]],\"sequential\":[[0.0,\"#0d0887\"],[0.1111111111111111,\"#46039f\"],[0.2222222222222222,\"#7201a8\"],[0.3333333333333333,\"#9c179e\"],[0.4444444444444444,\"#bd3786\"],[0.5555555555555556,\"#d8576b\"],[0.6666666666666666,\"#ed7953\"],[0.7777777777777778,\"#fb9f3a\"],[0.8888888888888888,\"#fdca26\"],[1.0,\"#f0f921\"]],\"sequentialminus\":[[0.0,\"#0d0887\"],[0.1111111111111111,\"#46039f\"],[0.2222222222222222,\"#7201a8\"],[0.3333333333333333,\"#9c179e\"],[0.4444444444444444,\"#bd3786\"],[0.5555555555555556,\"#d8576b\"],[0.6666666666666666,\"#ed7953\"],[0.7777777777777778,\"#fb9f3a\"],[0.8888888888888888,\"#fdca26\"],[1.0,\"#f0f921\"]]},\"colorway\":[\"#636efa\",\"#EF553B\",\"#00cc96\",\"#ab63fa\",\"#FFA15A\",\"#19d3f3\",\"#FF6692\",\"#B6E880\",\"#FF97FF\",\"#FECB52\"],\"font\":{\"color\":\"#2a3f5f\"},\"geo\":{\"bgcolor\":\"white\",\"lakecolor\":\"white\",\"landcolor\":\"#E5ECF6\",\"showlakes\":true,\"showland\":true,\"subunitcolor\":\"white\"},\"hoverlabel\":{\"align\":\"left\"},\"hovermode\":\"closest\",\"mapbox\":{\"style\":\"light\"},\"paper_bgcolor\":\"white\",\"plot_bgcolor\":\"#E5ECF6\",\"polar\":{\"angularaxis\":{\"gridcolor\":\"white\",\"linecolor\":\"white\",\"ticks\":\"\"},\"bgcolor\":\"#E5ECF6\",\"radialaxis\":{\"gridcolor\":\"white\",\"linecolor\":\"white\",\"ticks\":\"\"}},\"scene\":{\"xaxis\":{\"backgroundcolor\":\"#E5ECF6\",\"gridcolor\":\"white\",\"gridwidth\":2,\"linecolor\":\"white\",\"showbackground\":true,\"ticks\":\"\",\"zerolinecolor\":\"white\"},\"yaxis\":{\"backgroundcolor\":\"#E5ECF6\",\"gridcolor\":\"white\",\"gridwidth\":2,\"linecolor\":\"white\",\"showbackground\":true,\"ticks\":\"\",\"zerolinecolor\":\"white\"},\"zaxis\":{\"backgroundcolor\":\"#E5ECF6\",\"gridcolor\":\"white\",\"gridwidth\":2,\"linecolor\":\"white\",\"showbackground\":true,\"ticks\":\"\",\"zerolinecolor\":\"white\"}},\"shapedefaults\":{\"line\":{\"color\":\"#2a3f5f\"}},\"ternary\":{\"aaxis\":{\"gridcolor\":\"white\",\"linecolor\":\"white\",\"ticks\":\"\"},\"baxis\":{\"gridcolor\":\"white\",\"linecolor\":\"white\",\"ticks\":\"\"},\"bgcolor\":\"#E5ECF6\",\"caxis\":{\"gridcolor\":\"white\",\"linecolor\":\"white\",\"ticks\":\"\"}},\"title\":{\"x\":0.05},\"xaxis\":{\"automargin\":true,\"gridcolor\":\"white\",\"linecolor\":\"white\",\"ticks\":\"\",\"title\":{\"standoff\":15},\"zerolinecolor\":\"white\",\"zerolinewidth\":2},\"yaxis\":{\"automargin\":true,\"gridcolor\":\"white\",\"linecolor\":\"white\",\"ticks\":\"\",\"title\":{\"standoff\":15},\"zerolinecolor\":\"white\",\"zerolinewidth\":2}}},\"title\":{\"text\":\"RMSd during free MD Simulation\"},\"xaxis\":{\"title\":{\"text\":\"Time (ps)\"}},\"yaxis\":{\"title\":{\"text\":\"RMSd (nm)\"}}},                        {\"responsive\": true}                    ).then(function(){\n",
       "                            \n",
       "var gd = document.getElementById('b0440479-ec1b-49e5-93ef-bc0e2ef17c12');\n",
       "var x = new MutationObserver(function (mutations, observer) {{\n",
       "        var display = window.getComputedStyle(gd).display;\n",
       "        if (!display || display === 'none') {{\n",
       "            console.log([gd, 'removed!']);\n",
       "            Plotly.purge(gd);\n",
       "            observer.disconnect();\n",
       "        }}\n",
       "}});\n",
       "\n",
       "// Listen for the removal of the full notebook cells\n",
       "var notebookContainer = gd.closest('#notebook-container');\n",
       "if (notebookContainer) {{\n",
       "    x.observe(notebookContainer, {childList: true});\n",
       "}}\n",
       "\n",
       "// Listen for the clearing of the current output cell\n",
       "var outputEl = gd.closest('.output');\n",
       "if (outputEl) {{\n",
       "    x.observe(outputEl, {childList: true});\n",
       "}}\n",
       "\n",
       "                        })                };                });            </script>        </div>"
      ]
     },
     "metadata": {},
     "output_type": "display_data"
    }
   ],
   "source": [
    "import plotly\n",
    "import plotly.graph_objs as go\n",
    "\n",
    "# Read RMS vs first snapshot data from file \n",
    "with open(output_rms_first,'r') as rms_first_file:\n",
    "    x,y = map(\n",
    "        list,\n",
    "        zip(*[\n",
    "            (float(line.split()[0]),float(line.split()[1]))\n",
    "            for line in rms_first_file \n",
    "            if not line.startswith((\"#\",\"@\")) \n",
    "        ])\n",
    "    )\n",
    "\n",
    "# Read RMS vs experimental structure data from file \n",
    "with open(output_rms_exp,'r') as rms_exp_file:\n",
    "    x2,y2 = map(\n",
    "        list,\n",
    "        zip(*[\n",
    "            (float(line.split()[0]),float(line.split()[1]))\n",
    "            for line in rms_exp_file\n",
    "            if not line.startswith((\"#\",\"@\")) \n",
    "        ])\n",
    "    )\n",
    "    \n",
    "trace1 = go.Scatter(\n",
    "    x = x,\n",
    "    y = y,\n",
    "    name = 'RMSd vs first'\n",
    ")\n",
    "\n",
    "trace2 = go.Scatter(\n",
    "    x = x,\n",
    "    y = y2,\n",
    "    name = 'RMSd vs exp'\n",
    ")\n",
    "\n",
    "data = [trace1, trace2]\n",
    "\n",
    "plotly.offline.init_notebook_mode(connected=True)\n",
    "\n",
    "fig = ({\n",
    "    \"data\": data,\n",
    "    \"layout\": go.Layout(title=\"RMSd during free MD Simulation\",\n",
    "                        xaxis=dict(title = \"Time (ps)\"),\n",
    "                        yaxis=dict(title = \"RMSd (nm)\")\n",
    "                       )\n",
    "})\n",
    "\n",
    "plotly.offline.iplot(fig)"
   ]
  },
  {
   "cell_type": "markdown",
   "metadata": {},
   "source": [
    "<img src='images/fig4.png' width=\"50%\" height=\"50%\"></img>"
   ]
  },
  {
   "cell_type": "code",
   "execution_count": 129,
   "metadata": {
    "scrolled": false
   },
   "outputs": [
    {
     "name": "stdout",
     "output_type": "stream",
     "text": [
      "2022-04-19 09:03:05,041 [MainThread  ] [INFO ]  Not using any container\n",
      "2022-04-19 09:03:05,151 [MainThread  ] [INFO ]  echo \"Backbone\" | gmx gyrate -s /home/lg/repos/javerianaMD/biobb_md/notebooks/3HTB_JZ4_gppmin.tpr -f /home/lg/repos/javerianaMD/biobb_md/notebooks/3HTB_JZ4_md.trr -o 3HTB_JZ4_rgyr.xvg -xvg none\n",
      "\n",
      "2022-04-19 09:03:05,153 [MainThread  ] [INFO ]  Exit code 0\n",
      "\n",
      "2022-04-19 09:03:05,153 [MainThread  ] [INFO ]  Selected 4: 'Backbone'\n",
      "\n",
      "2022-04-19 09:03:05,155 [MainThread  ] [INFO ]                        :-) GROMACS - gmx gyrate, 2019.1 (-:\n",
      "\n",
      "                            GROMACS is written by:\n",
      "     Emile Apol      Rossen Apostolov      Paul Bauer     Herman J.C. Berendsen\n",
      "    Par Bjelkmar      Christian Blau   Viacheslav Bolnykh     Kevin Boyd    \n",
      " Aldert van Buuren   Rudi van Drunen     Anton Feenstra       Alan Gray     \n",
      "  Gerrit Groenhof     Anca Hamuraru    Vincent Hindriksen  M. Eric Irrgang  \n",
      "  Aleksei Iupinov   Christoph Junghans     Joe Jordan     Dimitrios Karkoulis\n",
      "    Peter Kasson        Jiri Kraus      Carsten Kutzner      Per Larsson    \n",
      "  Justin A. Lemkul    Viveca Lindahl    Magnus Lundborg     Erik Marklund   \n",
      "    Pascal Merz     Pieter Meulenhoff    Teemu Murtola       Szilard Pall   \n",
      "    Sander Pronk      Roland Schulz      Michael Shirts    Alexey Shvetsov  \n",
      "   Alfons Sijbers     Peter Tieleman      Jon Vincent      Teemu Virolainen \n",
      " Christian Wennberg    Maarten Wolf   \n",
      "                           and the project leaders:\n",
      "        Mark Abraham, Berk Hess, Erik Lindahl, and David van der Spoel\n",
      "\n",
      "Copyright (c) 1991-2000, University of Groningen, The Netherlands.\n",
      "Copyright (c) 2001-2018, The GROMACS development team at\n",
      "Uppsala University, Stockholm University and\n",
      "the Royal Institute of Technology, Sweden.\n",
      "check out http://www.gromacs.org for more information.\n",
      "\n",
      "GROMACS is free software; you can redistribute it and/or modify it\n",
      "under the terms of the GNU Lesser General Public License\n",
      "as published by the Free Software Foundation; either version 2.1\n",
      "of the License, or (at your option) any later version.\n",
      "\n",
      "GROMACS:      gmx gyrate, version 2019.1\n",
      "Executable:   /opt/miniconda3/envs/biobb_env/bin/gmx\n",
      "Data prefix:  /opt/miniconda3/envs/biobb_env\n",
      "Working dir:  /home/lg/repos/javerianaMD/biobb_md/notebooks\n",
      "Command line:\n",
      "  gmx gyrate -s /home/lg/repos/javerianaMD/biobb_md/notebooks/3HTB_JZ4_gppmin.tpr -f /home/lg/repos/javerianaMD/biobb_md/notebooks/3HTB_JZ4_md.trr -o 3HTB_JZ4_rgyr.xvg -xvg none\n",
      "\n",
      "Reading file /home/lg/repos/javerianaMD/biobb_md/notebooks/3HTB_JZ4_gppmin.tpr, VERSION 2019.1 (single precision)\n",
      "Reading file /home/lg/repos/javerianaMD/biobb_md/notebooks/3HTB_JZ4_gppmin.tpr, VERSION 2019.1 (single precision)\n",
      "Group     0 (         System) has 31177 elements\n",
      "Group     1 (        Protein) has  2614 elements\n",
      "Group     2 (      Protein-H) has  1301 elements\n",
      "Group     3 (        C-alpha) has   163 elements\n",
      "Group     4 (       Backbone) has   489 elements\n",
      "Group     5 (      MainChain) has   653 elements\n",
      "Group     6 (   MainChain+Cb) has   805 elements\n",
      "Group     7 (    MainChain+H) has   815 elements\n",
      "Group     8 (      SideChain) has  1799 elements\n",
      "Group     9 (    SideChain-H) has   648 elements\n",
      "Group    10 (    Prot-Masses) has  2614 elements\n",
      "Group    11 (    non-Protein) has 28563 elements\n",
      "Group    12 (          Other) has    22 elements\n",
      "Group    13 (            JZ4) has    22 elements\n",
      "Group    14 (             NA) has    10 elements\n",
      "Group    15 (             CL) has    16 elements\n",
      "Group    16 (          Water) has 28515 elements\n",
      "Group    17 (            SOL) has 28515 elements\n",
      "Group    18 (      non-Water) has  2662 elements\n",
      "Group    19 (            Ion) has    26 elements\n",
      "Group    20 (            JZ4) has    22 elements\n",
      "Group    21 (             NA) has    10 elements\n",
      "Group    22 (             CL) has    16 elements\n",
      "Group    23 ( Water_and_ions) has 28541 elements\n",
      "Select a group: trr version: GMX_trn_file (single precision)\n",
      "Last frame          5 time   50.000   \n",
      "\n",
      "GROMACS reminds you: \"Torture numbers, and they'll confess to anything.\" (Greg Easterbrook)\n",
      "\n",
      "\n"
     ]
    },
    {
     "data": {
      "text/plain": [
       "0"
      ]
     },
     "execution_count": 129,
     "metadata": {},
     "output_type": "execute_result"
    }
   ],
   "source": [
    "# GMXRgyr: Computing Radius of Gyration to measure the protein compactness during the free MD simulation \n",
    "\n",
    "from biobb_analysis.gromacs.gmx_rgyr import gmx_rgyr\n",
    "\n",
    "# Create prop dict and inputs/outputs\n",
    "output_rgyr = pdbCode+'_'+ligandCode+'_rgyr.xvg'\n",
    "prop = {\n",
    "    'selection':  'Backbone'\n",
    "}\n",
    "\n",
    "# Create and launch bb\n",
    "gmx_rgyr(input_structure_path=output_gppmin_tpr,\n",
    "         input_traj_path=output_md_trr,\n",
    "         output_xvg_path=output_rgyr, \n",
    "         properties=prop)"
   ]
  },
  {
   "cell_type": "code",
   "execution_count": 130,
   "metadata": {
    "scrolled": false
   },
   "outputs": [
    {
     "data": {
      "text/html": [
       "        <script type=\"text/javascript\">\n",
       "        window.PlotlyConfig = {MathJaxConfig: 'local'};\n",
       "        if (window.MathJax) {MathJax.Hub.Config({SVG: {font: \"STIX-Web\"}});}\n",
       "        if (typeof require !== 'undefined') {\n",
       "        require.undef(\"plotly\");\n",
       "        requirejs.config({\n",
       "            paths: {\n",
       "                'plotly': ['https://cdn.plot.ly/plotly-2.11.1.min']\n",
       "            }\n",
       "        });\n",
       "        require(['plotly'], function(Plotly) {\n",
       "            window._Plotly = Plotly;\n",
       "        });\n",
       "        }\n",
       "        </script>\n",
       "        "
      ]
     },
     "metadata": {},
     "output_type": "display_data"
    },
    {
     "data": {
      "application/vnd.plotly.v1+json": {
       "config": {
        "linkText": "Export to plot.ly",
        "plotlyServerURL": "https://plot.ly",
        "showLink": false
       },
       "data": [
        {
         "type": "scatter",
         "x": [
          0,
          10,
          20,
          30,
          40,
          50
         ],
         "y": [
          1.60936,
          1.63839,
          1.61892,
          1.62164,
          1.61639,
          1.62232
         ]
        }
       ],
       "layout": {
        "template": {
         "data": {
          "bar": [
           {
            "error_x": {
             "color": "#2a3f5f"
            },
            "error_y": {
             "color": "#2a3f5f"
            },
            "marker": {
             "line": {
              "color": "#E5ECF6",
              "width": 0.5
             },
             "pattern": {
              "fillmode": "overlay",
              "size": 10,
              "solidity": 0.2
             }
            },
            "type": "bar"
           }
          ],
          "barpolar": [
           {
            "marker": {
             "line": {
              "color": "#E5ECF6",
              "width": 0.5
             },
             "pattern": {
              "fillmode": "overlay",
              "size": 10,
              "solidity": 0.2
             }
            },
            "type": "barpolar"
           }
          ],
          "carpet": [
           {
            "aaxis": {
             "endlinecolor": "#2a3f5f",
             "gridcolor": "white",
             "linecolor": "white",
             "minorgridcolor": "white",
             "startlinecolor": "#2a3f5f"
            },
            "baxis": {
             "endlinecolor": "#2a3f5f",
             "gridcolor": "white",
             "linecolor": "white",
             "minorgridcolor": "white",
             "startlinecolor": "#2a3f5f"
            },
            "type": "carpet"
           }
          ],
          "choropleth": [
           {
            "colorbar": {
             "outlinewidth": 0,
             "ticks": ""
            },
            "type": "choropleth"
           }
          ],
          "contour": [
           {
            "colorbar": {
             "outlinewidth": 0,
             "ticks": ""
            },
            "colorscale": [
             [
              0,
              "#0d0887"
             ],
             [
              0.1111111111111111,
              "#46039f"
             ],
             [
              0.2222222222222222,
              "#7201a8"
             ],
             [
              0.3333333333333333,
              "#9c179e"
             ],
             [
              0.4444444444444444,
              "#bd3786"
             ],
             [
              0.5555555555555556,
              "#d8576b"
             ],
             [
              0.6666666666666666,
              "#ed7953"
             ],
             [
              0.7777777777777778,
              "#fb9f3a"
             ],
             [
              0.8888888888888888,
              "#fdca26"
             ],
             [
              1,
              "#f0f921"
             ]
            ],
            "type": "contour"
           }
          ],
          "contourcarpet": [
           {
            "colorbar": {
             "outlinewidth": 0,
             "ticks": ""
            },
            "type": "contourcarpet"
           }
          ],
          "heatmap": [
           {
            "colorbar": {
             "outlinewidth": 0,
             "ticks": ""
            },
            "colorscale": [
             [
              0,
              "#0d0887"
             ],
             [
              0.1111111111111111,
              "#46039f"
             ],
             [
              0.2222222222222222,
              "#7201a8"
             ],
             [
              0.3333333333333333,
              "#9c179e"
             ],
             [
              0.4444444444444444,
              "#bd3786"
             ],
             [
              0.5555555555555556,
              "#d8576b"
             ],
             [
              0.6666666666666666,
              "#ed7953"
             ],
             [
              0.7777777777777778,
              "#fb9f3a"
             ],
             [
              0.8888888888888888,
              "#fdca26"
             ],
             [
              1,
              "#f0f921"
             ]
            ],
            "type": "heatmap"
           }
          ],
          "heatmapgl": [
           {
            "colorbar": {
             "outlinewidth": 0,
             "ticks": ""
            },
            "colorscale": [
             [
              0,
              "#0d0887"
             ],
             [
              0.1111111111111111,
              "#46039f"
             ],
             [
              0.2222222222222222,
              "#7201a8"
             ],
             [
              0.3333333333333333,
              "#9c179e"
             ],
             [
              0.4444444444444444,
              "#bd3786"
             ],
             [
              0.5555555555555556,
              "#d8576b"
             ],
             [
              0.6666666666666666,
              "#ed7953"
             ],
             [
              0.7777777777777778,
              "#fb9f3a"
             ],
             [
              0.8888888888888888,
              "#fdca26"
             ],
             [
              1,
              "#f0f921"
             ]
            ],
            "type": "heatmapgl"
           }
          ],
          "histogram": [
           {
            "marker": {
             "pattern": {
              "fillmode": "overlay",
              "size": 10,
              "solidity": 0.2
             }
            },
            "type": "histogram"
           }
          ],
          "histogram2d": [
           {
            "colorbar": {
             "outlinewidth": 0,
             "ticks": ""
            },
            "colorscale": [
             [
              0,
              "#0d0887"
             ],
             [
              0.1111111111111111,
              "#46039f"
             ],
             [
              0.2222222222222222,
              "#7201a8"
             ],
             [
              0.3333333333333333,
              "#9c179e"
             ],
             [
              0.4444444444444444,
              "#bd3786"
             ],
             [
              0.5555555555555556,
              "#d8576b"
             ],
             [
              0.6666666666666666,
              "#ed7953"
             ],
             [
              0.7777777777777778,
              "#fb9f3a"
             ],
             [
              0.8888888888888888,
              "#fdca26"
             ],
             [
              1,
              "#f0f921"
             ]
            ],
            "type": "histogram2d"
           }
          ],
          "histogram2dcontour": [
           {
            "colorbar": {
             "outlinewidth": 0,
             "ticks": ""
            },
            "colorscale": [
             [
              0,
              "#0d0887"
             ],
             [
              0.1111111111111111,
              "#46039f"
             ],
             [
              0.2222222222222222,
              "#7201a8"
             ],
             [
              0.3333333333333333,
              "#9c179e"
             ],
             [
              0.4444444444444444,
              "#bd3786"
             ],
             [
              0.5555555555555556,
              "#d8576b"
             ],
             [
              0.6666666666666666,
              "#ed7953"
             ],
             [
              0.7777777777777778,
              "#fb9f3a"
             ],
             [
              0.8888888888888888,
              "#fdca26"
             ],
             [
              1,
              "#f0f921"
             ]
            ],
            "type": "histogram2dcontour"
           }
          ],
          "mesh3d": [
           {
            "colorbar": {
             "outlinewidth": 0,
             "ticks": ""
            },
            "type": "mesh3d"
           }
          ],
          "parcoords": [
           {
            "line": {
             "colorbar": {
              "outlinewidth": 0,
              "ticks": ""
             }
            },
            "type": "parcoords"
           }
          ],
          "pie": [
           {
            "automargin": true,
            "type": "pie"
           }
          ],
          "scatter": [
           {
            "fillpattern": {
             "fillmode": "overlay",
             "size": 10,
             "solidity": 0.2
            },
            "type": "scatter"
           }
          ],
          "scatter3d": [
           {
            "line": {
             "colorbar": {
              "outlinewidth": 0,
              "ticks": ""
             }
            },
            "marker": {
             "colorbar": {
              "outlinewidth": 0,
              "ticks": ""
             }
            },
            "type": "scatter3d"
           }
          ],
          "scattercarpet": [
           {
            "marker": {
             "colorbar": {
              "outlinewidth": 0,
              "ticks": ""
             }
            },
            "type": "scattercarpet"
           }
          ],
          "scattergeo": [
           {
            "marker": {
             "colorbar": {
              "outlinewidth": 0,
              "ticks": ""
             }
            },
            "type": "scattergeo"
           }
          ],
          "scattergl": [
           {
            "marker": {
             "colorbar": {
              "outlinewidth": 0,
              "ticks": ""
             }
            },
            "type": "scattergl"
           }
          ],
          "scattermapbox": [
           {
            "marker": {
             "colorbar": {
              "outlinewidth": 0,
              "ticks": ""
             }
            },
            "type": "scattermapbox"
           }
          ],
          "scatterpolar": [
           {
            "marker": {
             "colorbar": {
              "outlinewidth": 0,
              "ticks": ""
             }
            },
            "type": "scatterpolar"
           }
          ],
          "scatterpolargl": [
           {
            "marker": {
             "colorbar": {
              "outlinewidth": 0,
              "ticks": ""
             }
            },
            "type": "scatterpolargl"
           }
          ],
          "scatterternary": [
           {
            "marker": {
             "colorbar": {
              "outlinewidth": 0,
              "ticks": ""
             }
            },
            "type": "scatterternary"
           }
          ],
          "surface": [
           {
            "colorbar": {
             "outlinewidth": 0,
             "ticks": ""
            },
            "colorscale": [
             [
              0,
              "#0d0887"
             ],
             [
              0.1111111111111111,
              "#46039f"
             ],
             [
              0.2222222222222222,
              "#7201a8"
             ],
             [
              0.3333333333333333,
              "#9c179e"
             ],
             [
              0.4444444444444444,
              "#bd3786"
             ],
             [
              0.5555555555555556,
              "#d8576b"
             ],
             [
              0.6666666666666666,
              "#ed7953"
             ],
             [
              0.7777777777777778,
              "#fb9f3a"
             ],
             [
              0.8888888888888888,
              "#fdca26"
             ],
             [
              1,
              "#f0f921"
             ]
            ],
            "type": "surface"
           }
          ],
          "table": [
           {
            "cells": {
             "fill": {
              "color": "#EBF0F8"
             },
             "line": {
              "color": "white"
             }
            },
            "header": {
             "fill": {
              "color": "#C8D4E3"
             },
             "line": {
              "color": "white"
             }
            },
            "type": "table"
           }
          ]
         },
         "layout": {
          "annotationdefaults": {
           "arrowcolor": "#2a3f5f",
           "arrowhead": 0,
           "arrowwidth": 1
          },
          "autotypenumbers": "strict",
          "coloraxis": {
           "colorbar": {
            "outlinewidth": 0,
            "ticks": ""
           }
          },
          "colorscale": {
           "diverging": [
            [
             0,
             "#8e0152"
            ],
            [
             0.1,
             "#c51b7d"
            ],
            [
             0.2,
             "#de77ae"
            ],
            [
             0.3,
             "#f1b6da"
            ],
            [
             0.4,
             "#fde0ef"
            ],
            [
             0.5,
             "#f7f7f7"
            ],
            [
             0.6,
             "#e6f5d0"
            ],
            [
             0.7,
             "#b8e186"
            ],
            [
             0.8,
             "#7fbc41"
            ],
            [
             0.9,
             "#4d9221"
            ],
            [
             1,
             "#276419"
            ]
           ],
           "sequential": [
            [
             0,
             "#0d0887"
            ],
            [
             0.1111111111111111,
             "#46039f"
            ],
            [
             0.2222222222222222,
             "#7201a8"
            ],
            [
             0.3333333333333333,
             "#9c179e"
            ],
            [
             0.4444444444444444,
             "#bd3786"
            ],
            [
             0.5555555555555556,
             "#d8576b"
            ],
            [
             0.6666666666666666,
             "#ed7953"
            ],
            [
             0.7777777777777778,
             "#fb9f3a"
            ],
            [
             0.8888888888888888,
             "#fdca26"
            ],
            [
             1,
             "#f0f921"
            ]
           ],
           "sequentialminus": [
            [
             0,
             "#0d0887"
            ],
            [
             0.1111111111111111,
             "#46039f"
            ],
            [
             0.2222222222222222,
             "#7201a8"
            ],
            [
             0.3333333333333333,
             "#9c179e"
            ],
            [
             0.4444444444444444,
             "#bd3786"
            ],
            [
             0.5555555555555556,
             "#d8576b"
            ],
            [
             0.6666666666666666,
             "#ed7953"
            ],
            [
             0.7777777777777778,
             "#fb9f3a"
            ],
            [
             0.8888888888888888,
             "#fdca26"
            ],
            [
             1,
             "#f0f921"
            ]
           ]
          },
          "colorway": [
           "#636efa",
           "#EF553B",
           "#00cc96",
           "#ab63fa",
           "#FFA15A",
           "#19d3f3",
           "#FF6692",
           "#B6E880",
           "#FF97FF",
           "#FECB52"
          ],
          "font": {
           "color": "#2a3f5f"
          },
          "geo": {
           "bgcolor": "white",
           "lakecolor": "white",
           "landcolor": "#E5ECF6",
           "showlakes": true,
           "showland": true,
           "subunitcolor": "white"
          },
          "hoverlabel": {
           "align": "left"
          },
          "hovermode": "closest",
          "mapbox": {
           "style": "light"
          },
          "paper_bgcolor": "white",
          "plot_bgcolor": "#E5ECF6",
          "polar": {
           "angularaxis": {
            "gridcolor": "white",
            "linecolor": "white",
            "ticks": ""
           },
           "bgcolor": "#E5ECF6",
           "radialaxis": {
            "gridcolor": "white",
            "linecolor": "white",
            "ticks": ""
           }
          },
          "scene": {
           "xaxis": {
            "backgroundcolor": "#E5ECF6",
            "gridcolor": "white",
            "gridwidth": 2,
            "linecolor": "white",
            "showbackground": true,
            "ticks": "",
            "zerolinecolor": "white"
           },
           "yaxis": {
            "backgroundcolor": "#E5ECF6",
            "gridcolor": "white",
            "gridwidth": 2,
            "linecolor": "white",
            "showbackground": true,
            "ticks": "",
            "zerolinecolor": "white"
           },
           "zaxis": {
            "backgroundcolor": "#E5ECF6",
            "gridcolor": "white",
            "gridwidth": 2,
            "linecolor": "white",
            "showbackground": true,
            "ticks": "",
            "zerolinecolor": "white"
           }
          },
          "shapedefaults": {
           "line": {
            "color": "#2a3f5f"
           }
          },
          "ternary": {
           "aaxis": {
            "gridcolor": "white",
            "linecolor": "white",
            "ticks": ""
           },
           "baxis": {
            "gridcolor": "white",
            "linecolor": "white",
            "ticks": ""
           },
           "bgcolor": "#E5ECF6",
           "caxis": {
            "gridcolor": "white",
            "linecolor": "white",
            "ticks": ""
           }
          },
          "title": {
           "x": 0.05
          },
          "xaxis": {
           "automargin": true,
           "gridcolor": "white",
           "linecolor": "white",
           "ticks": "",
           "title": {
            "standoff": 15
           },
           "zerolinecolor": "white",
           "zerolinewidth": 2
          },
          "yaxis": {
           "automargin": true,
           "gridcolor": "white",
           "linecolor": "white",
           "ticks": "",
           "title": {
            "standoff": 15
           },
           "zerolinecolor": "white",
           "zerolinewidth": 2
          }
         }
        },
        "title": {
         "text": "Radius of Gyration"
        },
        "xaxis": {
         "title": {
          "text": "Time (ps)"
         }
        },
        "yaxis": {
         "title": {
          "text": "Rgyr (nm)"
         }
        }
       }
      },
      "text/html": [
       "<div>                            <div id=\"fd16385c-c9ab-469f-9222-249fc34d84ac\" class=\"plotly-graph-div\" style=\"height:525px; width:100%;\"></div>            <script type=\"text/javascript\">                require([\"plotly\"], function(Plotly) {                    window.PLOTLYENV=window.PLOTLYENV || {};                                    if (document.getElementById(\"fd16385c-c9ab-469f-9222-249fc34d84ac\")) {                    Plotly.newPlot(                        \"fd16385c-c9ab-469f-9222-249fc34d84ac\",                        [{\"x\":[0.0,10.0,20.0,30.0,40.0,50.0],\"y\":[1.60936,1.63839,1.61892,1.62164,1.61639,1.62232],\"type\":\"scatter\"}],                        {\"template\":{\"data\":{\"barpolar\":[{\"marker\":{\"line\":{\"color\":\"#E5ECF6\",\"width\":0.5},\"pattern\":{\"fillmode\":\"overlay\",\"size\":10,\"solidity\":0.2}},\"type\":\"barpolar\"}],\"bar\":[{\"error_x\":{\"color\":\"#2a3f5f\"},\"error_y\":{\"color\":\"#2a3f5f\"},\"marker\":{\"line\":{\"color\":\"#E5ECF6\",\"width\":0.5},\"pattern\":{\"fillmode\":\"overlay\",\"size\":10,\"solidity\":0.2}},\"type\":\"bar\"}],\"carpet\":[{\"aaxis\":{\"endlinecolor\":\"#2a3f5f\",\"gridcolor\":\"white\",\"linecolor\":\"white\",\"minorgridcolor\":\"white\",\"startlinecolor\":\"#2a3f5f\"},\"baxis\":{\"endlinecolor\":\"#2a3f5f\",\"gridcolor\":\"white\",\"linecolor\":\"white\",\"minorgridcolor\":\"white\",\"startlinecolor\":\"#2a3f5f\"},\"type\":\"carpet\"}],\"choropleth\":[{\"colorbar\":{\"outlinewidth\":0,\"ticks\":\"\"},\"type\":\"choropleth\"}],\"contourcarpet\":[{\"colorbar\":{\"outlinewidth\":0,\"ticks\":\"\"},\"type\":\"contourcarpet\"}],\"contour\":[{\"colorbar\":{\"outlinewidth\":0,\"ticks\":\"\"},\"colorscale\":[[0.0,\"#0d0887\"],[0.1111111111111111,\"#46039f\"],[0.2222222222222222,\"#7201a8\"],[0.3333333333333333,\"#9c179e\"],[0.4444444444444444,\"#bd3786\"],[0.5555555555555556,\"#d8576b\"],[0.6666666666666666,\"#ed7953\"],[0.7777777777777778,\"#fb9f3a\"],[0.8888888888888888,\"#fdca26\"],[1.0,\"#f0f921\"]],\"type\":\"contour\"}],\"heatmapgl\":[{\"colorbar\":{\"outlinewidth\":0,\"ticks\":\"\"},\"colorscale\":[[0.0,\"#0d0887\"],[0.1111111111111111,\"#46039f\"],[0.2222222222222222,\"#7201a8\"],[0.3333333333333333,\"#9c179e\"],[0.4444444444444444,\"#bd3786\"],[0.5555555555555556,\"#d8576b\"],[0.6666666666666666,\"#ed7953\"],[0.7777777777777778,\"#fb9f3a\"],[0.8888888888888888,\"#fdca26\"],[1.0,\"#f0f921\"]],\"type\":\"heatmapgl\"}],\"heatmap\":[{\"colorbar\":{\"outlinewidth\":0,\"ticks\":\"\"},\"colorscale\":[[0.0,\"#0d0887\"],[0.1111111111111111,\"#46039f\"],[0.2222222222222222,\"#7201a8\"],[0.3333333333333333,\"#9c179e\"],[0.4444444444444444,\"#bd3786\"],[0.5555555555555556,\"#d8576b\"],[0.6666666666666666,\"#ed7953\"],[0.7777777777777778,\"#fb9f3a\"],[0.8888888888888888,\"#fdca26\"],[1.0,\"#f0f921\"]],\"type\":\"heatmap\"}],\"histogram2dcontour\":[{\"colorbar\":{\"outlinewidth\":0,\"ticks\":\"\"},\"colorscale\":[[0.0,\"#0d0887\"],[0.1111111111111111,\"#46039f\"],[0.2222222222222222,\"#7201a8\"],[0.3333333333333333,\"#9c179e\"],[0.4444444444444444,\"#bd3786\"],[0.5555555555555556,\"#d8576b\"],[0.6666666666666666,\"#ed7953\"],[0.7777777777777778,\"#fb9f3a\"],[0.8888888888888888,\"#fdca26\"],[1.0,\"#f0f921\"]],\"type\":\"histogram2dcontour\"}],\"histogram2d\":[{\"colorbar\":{\"outlinewidth\":0,\"ticks\":\"\"},\"colorscale\":[[0.0,\"#0d0887\"],[0.1111111111111111,\"#46039f\"],[0.2222222222222222,\"#7201a8\"],[0.3333333333333333,\"#9c179e\"],[0.4444444444444444,\"#bd3786\"],[0.5555555555555556,\"#d8576b\"],[0.6666666666666666,\"#ed7953\"],[0.7777777777777778,\"#fb9f3a\"],[0.8888888888888888,\"#fdca26\"],[1.0,\"#f0f921\"]],\"type\":\"histogram2d\"}],\"histogram\":[{\"marker\":{\"pattern\":{\"fillmode\":\"overlay\",\"size\":10,\"solidity\":0.2}},\"type\":\"histogram\"}],\"mesh3d\":[{\"colorbar\":{\"outlinewidth\":0,\"ticks\":\"\"},\"type\":\"mesh3d\"}],\"parcoords\":[{\"line\":{\"colorbar\":{\"outlinewidth\":0,\"ticks\":\"\"}},\"type\":\"parcoords\"}],\"pie\":[{\"automargin\":true,\"type\":\"pie\"}],\"scatter3d\":[{\"line\":{\"colorbar\":{\"outlinewidth\":0,\"ticks\":\"\"}},\"marker\":{\"colorbar\":{\"outlinewidth\":0,\"ticks\":\"\"}},\"type\":\"scatter3d\"}],\"scattercarpet\":[{\"marker\":{\"colorbar\":{\"outlinewidth\":0,\"ticks\":\"\"}},\"type\":\"scattercarpet\"}],\"scattergeo\":[{\"marker\":{\"colorbar\":{\"outlinewidth\":0,\"ticks\":\"\"}},\"type\":\"scattergeo\"}],\"scattergl\":[{\"marker\":{\"colorbar\":{\"outlinewidth\":0,\"ticks\":\"\"}},\"type\":\"scattergl\"}],\"scattermapbox\":[{\"marker\":{\"colorbar\":{\"outlinewidth\":0,\"ticks\":\"\"}},\"type\":\"scattermapbox\"}],\"scatterpolargl\":[{\"marker\":{\"colorbar\":{\"outlinewidth\":0,\"ticks\":\"\"}},\"type\":\"scatterpolargl\"}],\"scatterpolar\":[{\"marker\":{\"colorbar\":{\"outlinewidth\":0,\"ticks\":\"\"}},\"type\":\"scatterpolar\"}],\"scatter\":[{\"fillpattern\":{\"fillmode\":\"overlay\",\"size\":10,\"solidity\":0.2},\"type\":\"scatter\"}],\"scatterternary\":[{\"marker\":{\"colorbar\":{\"outlinewidth\":0,\"ticks\":\"\"}},\"type\":\"scatterternary\"}],\"surface\":[{\"colorbar\":{\"outlinewidth\":0,\"ticks\":\"\"},\"colorscale\":[[0.0,\"#0d0887\"],[0.1111111111111111,\"#46039f\"],[0.2222222222222222,\"#7201a8\"],[0.3333333333333333,\"#9c179e\"],[0.4444444444444444,\"#bd3786\"],[0.5555555555555556,\"#d8576b\"],[0.6666666666666666,\"#ed7953\"],[0.7777777777777778,\"#fb9f3a\"],[0.8888888888888888,\"#fdca26\"],[1.0,\"#f0f921\"]],\"type\":\"surface\"}],\"table\":[{\"cells\":{\"fill\":{\"color\":\"#EBF0F8\"},\"line\":{\"color\":\"white\"}},\"header\":{\"fill\":{\"color\":\"#C8D4E3\"},\"line\":{\"color\":\"white\"}},\"type\":\"table\"}]},\"layout\":{\"annotationdefaults\":{\"arrowcolor\":\"#2a3f5f\",\"arrowhead\":0,\"arrowwidth\":1},\"autotypenumbers\":\"strict\",\"coloraxis\":{\"colorbar\":{\"outlinewidth\":0,\"ticks\":\"\"}},\"colorscale\":{\"diverging\":[[0,\"#8e0152\"],[0.1,\"#c51b7d\"],[0.2,\"#de77ae\"],[0.3,\"#f1b6da\"],[0.4,\"#fde0ef\"],[0.5,\"#f7f7f7\"],[0.6,\"#e6f5d0\"],[0.7,\"#b8e186\"],[0.8,\"#7fbc41\"],[0.9,\"#4d9221\"],[1,\"#276419\"]],\"sequential\":[[0.0,\"#0d0887\"],[0.1111111111111111,\"#46039f\"],[0.2222222222222222,\"#7201a8\"],[0.3333333333333333,\"#9c179e\"],[0.4444444444444444,\"#bd3786\"],[0.5555555555555556,\"#d8576b\"],[0.6666666666666666,\"#ed7953\"],[0.7777777777777778,\"#fb9f3a\"],[0.8888888888888888,\"#fdca26\"],[1.0,\"#f0f921\"]],\"sequentialminus\":[[0.0,\"#0d0887\"],[0.1111111111111111,\"#46039f\"],[0.2222222222222222,\"#7201a8\"],[0.3333333333333333,\"#9c179e\"],[0.4444444444444444,\"#bd3786\"],[0.5555555555555556,\"#d8576b\"],[0.6666666666666666,\"#ed7953\"],[0.7777777777777778,\"#fb9f3a\"],[0.8888888888888888,\"#fdca26\"],[1.0,\"#f0f921\"]]},\"colorway\":[\"#636efa\",\"#EF553B\",\"#00cc96\",\"#ab63fa\",\"#FFA15A\",\"#19d3f3\",\"#FF6692\",\"#B6E880\",\"#FF97FF\",\"#FECB52\"],\"font\":{\"color\":\"#2a3f5f\"},\"geo\":{\"bgcolor\":\"white\",\"lakecolor\":\"white\",\"landcolor\":\"#E5ECF6\",\"showlakes\":true,\"showland\":true,\"subunitcolor\":\"white\"},\"hoverlabel\":{\"align\":\"left\"},\"hovermode\":\"closest\",\"mapbox\":{\"style\":\"light\"},\"paper_bgcolor\":\"white\",\"plot_bgcolor\":\"#E5ECF6\",\"polar\":{\"angularaxis\":{\"gridcolor\":\"white\",\"linecolor\":\"white\",\"ticks\":\"\"},\"bgcolor\":\"#E5ECF6\",\"radialaxis\":{\"gridcolor\":\"white\",\"linecolor\":\"white\",\"ticks\":\"\"}},\"scene\":{\"xaxis\":{\"backgroundcolor\":\"#E5ECF6\",\"gridcolor\":\"white\",\"gridwidth\":2,\"linecolor\":\"white\",\"showbackground\":true,\"ticks\":\"\",\"zerolinecolor\":\"white\"},\"yaxis\":{\"backgroundcolor\":\"#E5ECF6\",\"gridcolor\":\"white\",\"gridwidth\":2,\"linecolor\":\"white\",\"showbackground\":true,\"ticks\":\"\",\"zerolinecolor\":\"white\"},\"zaxis\":{\"backgroundcolor\":\"#E5ECF6\",\"gridcolor\":\"white\",\"gridwidth\":2,\"linecolor\":\"white\",\"showbackground\":true,\"ticks\":\"\",\"zerolinecolor\":\"white\"}},\"shapedefaults\":{\"line\":{\"color\":\"#2a3f5f\"}},\"ternary\":{\"aaxis\":{\"gridcolor\":\"white\",\"linecolor\":\"white\",\"ticks\":\"\"},\"baxis\":{\"gridcolor\":\"white\",\"linecolor\":\"white\",\"ticks\":\"\"},\"bgcolor\":\"#E5ECF6\",\"caxis\":{\"gridcolor\":\"white\",\"linecolor\":\"white\",\"ticks\":\"\"}},\"title\":{\"x\":0.05},\"xaxis\":{\"automargin\":true,\"gridcolor\":\"white\",\"linecolor\":\"white\",\"ticks\":\"\",\"title\":{\"standoff\":15},\"zerolinecolor\":\"white\",\"zerolinewidth\":2},\"yaxis\":{\"automargin\":true,\"gridcolor\":\"white\",\"linecolor\":\"white\",\"ticks\":\"\",\"title\":{\"standoff\":15},\"zerolinecolor\":\"white\",\"zerolinewidth\":2}}},\"title\":{\"text\":\"Radius of Gyration\"},\"xaxis\":{\"title\":{\"text\":\"Time (ps)\"}},\"yaxis\":{\"title\":{\"text\":\"Rgyr (nm)\"}}},                        {\"responsive\": true}                    ).then(function(){\n",
       "                            \n",
       "var gd = document.getElementById('fd16385c-c9ab-469f-9222-249fc34d84ac');\n",
       "var x = new MutationObserver(function (mutations, observer) {{\n",
       "        var display = window.getComputedStyle(gd).display;\n",
       "        if (!display || display === 'none') {{\n",
       "            console.log([gd, 'removed!']);\n",
       "            Plotly.purge(gd);\n",
       "            observer.disconnect();\n",
       "        }}\n",
       "}});\n",
       "\n",
       "// Listen for the removal of the full notebook cells\n",
       "var notebookContainer = gd.closest('#notebook-container');\n",
       "if (notebookContainer) {{\n",
       "    x.observe(notebookContainer, {childList: true});\n",
       "}}\n",
       "\n",
       "// Listen for the clearing of the current output cell\n",
       "var outputEl = gd.closest('.output');\n",
       "if (outputEl) {{\n",
       "    x.observe(outputEl, {childList: true});\n",
       "}}\n",
       "\n",
       "                        })                };                });            </script>        </div>"
      ]
     },
     "metadata": {},
     "output_type": "display_data"
    }
   ],
   "source": [
    "import plotly\n",
    "import plotly.graph_objs as go\n",
    "\n",
    "# Read Rgyr data from file \n",
    "with open(output_rgyr,'r') as rgyr_file:\n",
    "    x,y = map(\n",
    "        list,\n",
    "        zip(*[\n",
    "            (float(line.split()[0]),float(line.split()[1]))\n",
    "            for line in rgyr_file \n",
    "            if not line.startswith((\"#\",\"@\")) \n",
    "        ])\n",
    "    )\n",
    "\n",
    "plotly.offline.init_notebook_mode(connected=True)\n",
    "\n",
    "fig = ({\n",
    "    \"data\": [go.Scatter(x=x, y=y)],\n",
    "    \"layout\": go.Layout(title=\"Radius of Gyration\",\n",
    "                        xaxis=dict(title = \"Time (ps)\"),\n",
    "                        yaxis=dict(title = \"Rgyr (nm)\")\n",
    "                       )\n",
    "})\n",
    "\n",
    "plotly.offline.iplot(fig)"
   ]
  },
  {
   "cell_type": "markdown",
   "metadata": {},
   "source": [
    "<img src='images/fig5.png' width=\"50%\" height=\"50%\"></img>"
   ]
  },
  {
   "cell_type": "markdown",
   "metadata": {},
   "source": [
    "<a id=\"post\"></a>\n",
    "***\n",
    "## Post-processing and Visualizing resulting 3D trajectory\n",
    "Post-processing and Visualizing the **protein-ligand complex system** MD setup **resulting trajectory** using **NGL**\n",
    "- [Step 1](#ppStep1): *Imaging* the resulting trajectory, **stripping out water molecules and ions** and **correcting periodicity issues**.\n",
    "- [Step 2](#ppStep2): Generating a *dry* structure, **removing water molecules and ions** from the final snapshot of the MD setup pipeline.\n",
    "- [Step 3](#ppStep3): Visualizing the *imaged* trajectory using the *dry* structure as a **topology**. \n",
    "***\n",
    "**Building Blocks** used:\n",
    " - [GMXImage](https://biobb-analysis.readthedocs.io/en/latest/gromacs.html#module-gromacs.gmx_image) from **biobb_analysis.gromacs.gmx_image**:\n",
    "     * Wrapper of the GROMACS trjconv module for correcting periodicity (image) from a given GROMACS compatible trajectory file.\n",
    "     \n",
    "     \n",
    " - [GMXTrjConvStr](https://biobb-analysis.readthedocs.io/en/latest/gromacs.html#module-gromacs.gmx_trjconv_str) from **biobb_analysis.gromacs.gmx_trjconv_str**:\n",
    "     * Wrapper of the GROMACS trjconv module for converting between GROMACS compatible structure file formats and/or extracting a selection of atoms.\n",
    "***"
   ]
  },
  {
   "cell_type": "markdown",
   "metadata": {},
   "source": [
    "<a id=\"ppStep1\"></a>\n",
    "### Step 1: *Imaging* the resulting trajectory.\n",
    "Stripping out **water molecules and ions** and **correcting periodicity issues**  "
   ]
  },
  {
   "cell_type": "code",
   "execution_count": 131,
   "metadata": {
    "scrolled": true
   },
   "outputs": [
    {
     "name": "stdout",
     "output_type": "stream",
     "text": [
      "2022-04-19 09:10:08,755 [MainThread  ] [INFO ]  Not using any container\n",
      "2022-04-19 09:10:08,895 [MainThread  ] [INFO ]  echo \"Protein_Other\" \"Protein_Other\" | gmx trjconv -f /home/lg/repos/javerianaMD/biobb_md/notebooks/3HTB_JZ4_md.trr -s /home/lg/repos/javerianaMD/biobb_md/notebooks/3HTB_JZ4_gppmd.tpr -fit none -o 3HTB_imaged_traj.trr -n /home/lg/repos/javerianaMD/biobb_md/notebooks/3HTB_JZ4_index.ndx -center -pbc mol -ur compact\n",
      "\n",
      "2022-04-19 09:10:08,896 [MainThread  ] [INFO ]  Exit code 0\n",
      "\n",
      "2022-04-19 09:10:08,897 [MainThread  ] [INFO ]  Note that major changes are planned in future for trjconv, to improve usability and utility.Select group for centering\n",
      "Selected 24: 'Protein_Other'\n",
      "Select group for output\n",
      "Selected 24: 'Protein_Other'\n",
      "\n",
      "2022-04-19 09:10:08,897 [MainThread  ] [INFO ]                       :-) GROMACS - gmx trjconv, 2019.1 (-:\n",
      "\n",
      "                            GROMACS is written by:\n",
      "     Emile Apol      Rossen Apostolov      Paul Bauer     Herman J.C. Berendsen\n",
      "    Par Bjelkmar      Christian Blau   Viacheslav Bolnykh     Kevin Boyd    \n",
      " Aldert van Buuren   Rudi van Drunen     Anton Feenstra       Alan Gray     \n",
      "  Gerrit Groenhof     Anca Hamuraru    Vincent Hindriksen  M. Eric Irrgang  \n",
      "  Aleksei Iupinov   Christoph Junghans     Joe Jordan     Dimitrios Karkoulis\n",
      "    Peter Kasson        Jiri Kraus      Carsten Kutzner      Per Larsson    \n",
      "  Justin A. Lemkul    Viveca Lindahl    Magnus Lundborg     Erik Marklund   \n",
      "    Pascal Merz     Pieter Meulenhoff    Teemu Murtola       Szilard Pall   \n",
      "    Sander Pronk      Roland Schulz      Michael Shirts    Alexey Shvetsov  \n",
      "   Alfons Sijbers     Peter Tieleman      Jon Vincent      Teemu Virolainen \n",
      " Christian Wennberg    Maarten Wolf   \n",
      "                           and the project leaders:\n",
      "        Mark Abraham, Berk Hess, Erik Lindahl, and David van der Spoel\n",
      "\n",
      "Copyright (c) 1991-2000, University of Groningen, The Netherlands.\n",
      "Copyright (c) 2001-2018, The GROMACS development team at\n",
      "Uppsala University, Stockholm University and\n",
      "the Royal Institute of Technology, Sweden.\n",
      "check out http://www.gromacs.org for more information.\n",
      "\n",
      "GROMACS is free software; you can redistribute it and/or modify it\n",
      "under the terms of the GNU Lesser General Public License\n",
      "as published by the Free Software Foundation; either version 2.1\n",
      "of the License, or (at your option) any later version.\n",
      "\n",
      "GROMACS:      gmx trjconv, version 2019.1\n",
      "Executable:   /opt/miniconda3/envs/biobb_env/bin/gmx\n",
      "Data prefix:  /opt/miniconda3/envs/biobb_env\n",
      "Working dir:  /home/lg/repos/javerianaMD/biobb_md/notebooks\n",
      "Command line:\n",
      "  gmx trjconv -f /home/lg/repos/javerianaMD/biobb_md/notebooks/3HTB_JZ4_md.trr -s /home/lg/repos/javerianaMD/biobb_md/notebooks/3HTB_JZ4_gppmd.tpr -fit none -o 3HTB_imaged_traj.trr -n /home/lg/repos/javerianaMD/biobb_md/notebooks/3HTB_JZ4_index.ndx -center -pbc mol -ur compact\n",
      "\n",
      "Will write trr: Trajectory in portable xdr format\n",
      "Reading file /home/lg/repos/javerianaMD/biobb_md/notebooks/3HTB_JZ4_gppmd.tpr, VERSION 2019.1 (single precision)\n",
      "Reading file /home/lg/repos/javerianaMD/biobb_md/notebooks/3HTB_JZ4_gppmd.tpr, VERSION 2019.1 (single precision)\n",
      "Group     0 (         System) has 31177 elements\n",
      "Group     1 (        Protein) has  2614 elements\n",
      "Group     2 (      Protein-H) has  1301 elements\n",
      "Group     3 (        C-alpha) has   163 elements\n",
      "Group     4 (       Backbone) has   489 elements\n",
      "Group     5 (      MainChain) has   653 elements\n",
      "Group     6 (   MainChain+Cb) has   805 elements\n",
      "Group     7 (    MainChain+H) has   815 elements\n",
      "Group     8 (      SideChain) has  1799 elements\n",
      "Group     9 (    SideChain-H) has   648 elements\n",
      "Group    10 (    Prot-Masses) has  2614 elements\n",
      "Group    11 (    non-Protein) has 28563 elements\n",
      "Group    12 (          Other) has    22 elements\n",
      "Group    13 (            JZ4) has    22 elements\n",
      "Group    14 (             NA) has    10 elements\n",
      "Group    15 (             CL) has    16 elements\n",
      "Group    16 (          Water) has 28515 elements\n",
      "Group    17 (            SOL) has 28515 elements\n",
      "Group    18 (      non-Water) has  2662 elements\n",
      "Group    19 (            Ion) has    26 elements\n",
      "Group    20 (            JZ4) has    22 elements\n",
      "Group    21 (             NA) has    10 elements\n",
      "Group    22 (             CL) has    16 elements\n",
      "Group    23 ( Water_and_ions) has 28541 elements\n",
      "Group    24 (  Protein_Other) has  2636 elements\n",
      "Select a group: Group     0 (         System) has 31177 elements\n",
      "Group     1 (        Protein) has  2614 elements\n",
      "Group     2 (      Protein-H) has  1301 elements\n",
      "Group     3 (        C-alpha) has   163 elements\n",
      "Group     4 (       Backbone) has   489 elements\n",
      "Group     5 (      MainChain) has   653 elements\n",
      "Group     6 (   MainChain+Cb) has   805 elements\n",
      "Group     7 (    MainChain+H) has   815 elements\n",
      "Group     8 (      SideChain) has  1799 elements\n",
      "Group     9 (    SideChain-H) has   648 elements\n",
      "Group    10 (    Prot-Masses) has  2614 elements\n",
      "Group    11 (    non-Protein) has 28563 elements\n",
      "Group    12 (          Other) has    22 elements\n",
      "Group    13 (            JZ4) has    22 elements\n",
      "Group    14 (             NA) has    10 elements\n",
      "Group    15 (             CL) has    16 elements\n",
      "Group    16 (          Water) has 28515 elements\n",
      "Group    17 (            SOL) has 28515 elements\n",
      "Group    18 (      non-Water) has  2662 elements\n",
      "Group    19 (            Ion) has    26 elements\n",
      "Group    20 (            JZ4) has    22 elements\n",
      "Group    21 (             NA) has    10 elements\n",
      "Group    22 (             CL) has    16 elements\n",
      "Group    23 ( Water_and_ions) has 28541 elements\n",
      "Group    24 (  Protein_Other) has  2636 elements\n",
      "Select a group: trr version: GMX_trn_file (single precision)\n",
      "Last frame          5 time   50.000    ->  frame      5 time   50.000      \n",
      "\n",
      "\n",
      "GROMACS reminds you: \"Why Do *You* Use Constraints ?\" (H.J.C. Berendsen)\n",
      "\n",
      "\n"
     ]
    },
    {
     "data": {
      "text/plain": [
       "0"
      ]
     },
     "execution_count": 131,
     "metadata": {},
     "output_type": "execute_result"
    }
   ],
   "source": [
    "# GMXImage: \"Imaging\" the resulting trajectory\n",
    "#           Removing water molecules and ions from the resulting structure\n",
    "from biobb_analysis.gromacs.gmx_image import gmx_image\n",
    "\n",
    "# Create prop dict and inputs/outputs\n",
    "output_imaged_traj = pdbCode+'_imaged_traj.trr'\n",
    "prop = {\n",
    "    'center_selection':  'Protein_Other',\n",
    "    'output_selection': 'Protein_Other',\n",
    "    'pbc' : 'mol',\n",
    "    'center' : True\n",
    "}\n",
    "\n",
    "# Create and launch bb\n",
    "gmx_image (input_traj_path  = output_md_trr,\n",
    "           input_top_path   = output_gppmd_tpr,\n",
    "           input_index_path = output_complex_ndx,\n",
    "           output_traj_path = output_imaged_traj, \n",
    "           properties       = prop)"
   ]
  },
  {
   "cell_type": "markdown",
   "metadata": {},
   "source": [
    "<a id=\"ppStep2\"></a>\n",
    "### Step 2: Generating the output *dry* structure.\n",
    "**Removing water molecules and ions** from the resulting structure"
   ]
  },
  {
   "cell_type": "code",
   "execution_count": 132,
   "metadata": {
    "scrolled": true
   },
   "outputs": [
    {
     "name": "stdout",
     "output_type": "stream",
     "text": [
      "2022-04-19 09:18:12,134 [MainThread  ] [INFO ]  Not using any container\n",
      "2022-04-19 09:18:12,281 [MainThread  ] [INFO ]  echo \"Protein_Other\" | gmx trjconv -f /home/lg/repos/javerianaMD/biobb_md/notebooks/3HTB_JZ4_md.gro -s /home/lg/repos/javerianaMD/biobb_md/notebooks/3HTB_JZ4_gppmd.tpr -o 3HTB_md_dry.gro -n /home/lg/repos/javerianaMD/biobb_md/notebooks/3HTB_JZ4_index.ndx\n",
      "\n",
      "2022-04-19 09:18:12,283 [MainThread  ] [INFO ]  Exit code 0\n",
      "\n",
      "2022-04-19 09:18:12,283 [MainThread  ] [INFO ]  Note that major changes are planned in future for trjconv, to improve usability and utility.Select group for output\n",
      "Selected 24: 'Protein_Other'\n",
      "\n",
      "2022-04-19 09:18:12,284 [MainThread  ] [INFO ]                       :-) GROMACS - gmx trjconv, 2019.1 (-:\n",
      "\n",
      "                            GROMACS is written by:\n",
      "     Emile Apol      Rossen Apostolov      Paul Bauer     Herman J.C. Berendsen\n",
      "    Par Bjelkmar      Christian Blau   Viacheslav Bolnykh     Kevin Boyd    \n",
      " Aldert van Buuren   Rudi van Drunen     Anton Feenstra       Alan Gray     \n",
      "  Gerrit Groenhof     Anca Hamuraru    Vincent Hindriksen  M. Eric Irrgang  \n",
      "  Aleksei Iupinov   Christoph Junghans     Joe Jordan     Dimitrios Karkoulis\n",
      "    Peter Kasson        Jiri Kraus      Carsten Kutzner      Per Larsson    \n",
      "  Justin A. Lemkul    Viveca Lindahl    Magnus Lundborg     Erik Marklund   \n",
      "    Pascal Merz     Pieter Meulenhoff    Teemu Murtola       Szilard Pall   \n",
      "    Sander Pronk      Roland Schulz      Michael Shirts    Alexey Shvetsov  \n",
      "   Alfons Sijbers     Peter Tieleman      Jon Vincent      Teemu Virolainen \n",
      " Christian Wennberg    Maarten Wolf   \n",
      "                           and the project leaders:\n",
      "        Mark Abraham, Berk Hess, Erik Lindahl, and David van der Spoel\n",
      "\n",
      "Copyright (c) 1991-2000, University of Groningen, The Netherlands.\n",
      "Copyright (c) 2001-2018, The GROMACS development team at\n",
      "Uppsala University, Stockholm University and\n",
      "the Royal Institute of Technology, Sweden.\n",
      "check out http://www.gromacs.org for more information.\n",
      "\n",
      "GROMACS is free software; you can redistribute it and/or modify it\n",
      "under the terms of the GNU Lesser General Public License\n",
      "as published by the Free Software Foundation; either version 2.1\n",
      "of the License, or (at your option) any later version.\n",
      "\n",
      "GROMACS:      gmx trjconv, version 2019.1\n",
      "Executable:   /opt/miniconda3/envs/biobb_env/bin/gmx\n",
      "Data prefix:  /opt/miniconda3/envs/biobb_env\n",
      "Working dir:  /home/lg/repos/javerianaMD/biobb_md/notebooks\n",
      "Command line:\n",
      "  gmx trjconv -f /home/lg/repos/javerianaMD/biobb_md/notebooks/3HTB_JZ4_md.gro -s /home/lg/repos/javerianaMD/biobb_md/notebooks/3HTB_JZ4_gppmd.tpr -o 3HTB_md_dry.gro -n /home/lg/repos/javerianaMD/biobb_md/notebooks/3HTB_JZ4_index.ndx\n",
      "\n",
      "Will write gro: Coordinate file in Gromos-87 format\n",
      "Reading file /home/lg/repos/javerianaMD/biobb_md/notebooks/3HTB_JZ4_gppmd.tpr, VERSION 2019.1 (single precision)\n",
      "Reading file /home/lg/repos/javerianaMD/biobb_md/notebooks/3HTB_JZ4_gppmd.tpr, VERSION 2019.1 (single precision)\n",
      "Group     0 (         System) has 31177 elements\n",
      "Group     1 (        Protein) has  2614 elements\n",
      "Group     2 (      Protein-H) has  1301 elements\n",
      "Group     3 (        C-alpha) has   163 elements\n",
      "Group     4 (       Backbone) has   489 elements\n",
      "Group     5 (      MainChain) has   653 elements\n",
      "Group     6 (   MainChain+Cb) has   805 elements\n",
      "Group     7 (    MainChain+H) has   815 elements\n",
      "Group     8 (      SideChain) has  1799 elements\n",
      "Group     9 (    SideChain-H) has   648 elements\n",
      "Group    10 (    Prot-Masses) has  2614 elements\n",
      "Group    11 (    non-Protein) has 28563 elements\n",
      "Group    12 (          Other) has    22 elements\n",
      "Group    13 (            JZ4) has    22 elements\n",
      "Group    14 (             NA) has    10 elements\n",
      "Group    15 (             CL) has    16 elements\n",
      "Group    16 (          Water) has 28515 elements\n",
      "Group    17 (            SOL) has 28515 elements\n",
      "Group    18 (      non-Water) has  2662 elements\n",
      "Group    19 (            Ion) has    26 elements\n",
      "Group    20 (            JZ4) has    22 elements\n",
      "Group    21 (             NA) has    10 elements\n",
      "Group    22 (             CL) has    16 elements\n",
      "Group    23 ( Water_and_ions) has 28541 elements\n",
      "Group    24 (  Protein_Other) has  2636 elements\n",
      "Select a group: Reading frames from gro file 'Protein in water', 31177 atoms.\n",
      "Reading frame       0 time    0.000   \n",
      "Precision of /home/lg/repos/javerianaMD/biobb_md/notebooks/3HTB_JZ4_md.gro is 0.001 (nm)\n",
      "Last frame          0 time    0.000   \n",
      "\n",
      "\n",
      "GROMACS reminds you: \"Carbohydrates is all they groove\" (Frank Zappa)\n",
      "\n",
      "\n"
     ]
    },
    {
     "data": {
      "text/plain": [
       "0"
      ]
     },
     "execution_count": 132,
     "metadata": {},
     "output_type": "execute_result"
    }
   ],
   "source": [
    "# GMXTrjConvStr: Converting and/or manipulating a structure\n",
    "#                Removing water molecules and ions from the resulting structure\n",
    "#                The \"dry\" structure will be used as a topology to visualize \n",
    "#                the \"imaged dry\" trajectory generated in the previous step.\n",
    "from biobb_analysis.gromacs.gmx_trjconv_str import gmx_trjconv_str\n",
    "\n",
    "# Create prop dict and inputs/outputs\n",
    "output_dry_gro = pdbCode+'_md_dry.gro'\n",
    "prop = {\n",
    "    'selection':  'Protein_Other'\n",
    "}\n",
    "\n",
    "# Create and launch bb\n",
    "gmx_trjconv_str(input_structure_path = output_md_gro,\n",
    "                input_top_path       = output_gppmd_tpr,\n",
    "                input_index_path     = output_complex_ndx,\n",
    "                output_str_path      = output_dry_gro, \n",
    "                properties           = prop)"
   ]
  },
  {
   "cell_type": "markdown",
   "metadata": {},
   "source": [
    "<a id=\"ppStep3\"></a>\n",
    "### Step 3: Visualizing the generated dehydrated trajectory.\n",
    "Using the **imaged trajectory** (output of the [Post-processing step 1](#ppStep1)) with the **dry structure** (output of the [Post-processing step 2](#ppStep2)) as a topology."
   ]
  },
  {
   "cell_type": "code",
   "execution_count": 134,
   "metadata": {
    "scrolled": false
   },
   "outputs": [
    {
     "data": {
      "application/vnd.jupyter.widget-view+json": {
       "model_id": "1f7524e4c9ef45d4a05c6575abbeed4b",
       "version_major": 2,
       "version_minor": 0
      },
      "text/plain": [
       "NGLWidget(max_frame=5)"
      ]
     },
     "metadata": {},
     "output_type": "display_data"
    },
    {
     "data": {
      "application/vnd.jupyter.widget-view+json": {
       "model_id": "0e06d7df022f42288e469f2d4e36d796",
       "version_major": 2,
       "version_minor": 0
      },
      "text/plain": [
       "Tab(children=(Box(children=(Box(children=(Box(children=(Label(value='step'), IntSlider(value=1, min=-100)), la…"
      ]
     },
     "metadata": {},
     "output_type": "display_data"
    }
   ],
   "source": [
    "# Show trajectory\n",
    "view = nglview.show_simpletraj(nglview.SimpletrajTrajectory(output_imaged_traj, output_dry_gro), gui=True)\n",
    "view"
   ]
  },
  {
   "cell_type": "markdown",
   "metadata": {},
   "source": [
    "<img src='images/trajectory.gif'></img>"
   ]
  },
  {
   "cell_type": "markdown",
   "metadata": {
    "variables": {
     "output_genion_top_zip": "3HTB_JZ4_genion_top.zip",
     "output_gppmd_tpr": "3HTB_JZ4_gppmd.tpr",
     "output_md_cpt": "3HTB_JZ4_md.cpt",
     "output_md_gro": "3HTB_JZ4_md.gro",
     "output_md_trr": "3HTB_JZ4_md.trr",
     "output_rgyr": "3HTB_JZ4_rgyr.xvg",
     "output_rms_exp": "3HTB_JZ4_rms_exp.xvg",
     "output_rms_first": "3HTB_JZ4_rms_first.xvg"
    }
   },
   "source": [
    "<a id=\"output\"></a>\n",
    "## Output files\n",
    "\n",
    "Important **Output files** generated:\n",
    " - {{output_md_gro}}: **Final structure** (snapshot) of the MD setup protocol.\n",
    " - {{output_md_trr}}: **Final trajectory** of the MD setup protocol.\n",
    " - {{output_md_cpt}}: **Final checkpoint file**, with information about the state of the simulation. It can be used to **restart** or **continue** a MD simulation.\n",
    " - {{output_gppmd_tpr}}: **Final tpr file**, GROMACS portable binary run input file. This file contains the starting structure of the **MD setup free MD simulation step**, together with the molecular topology and all the simulation parameters. It can be used to **extend** the simulation.\n",
    " - {{output_genion_top_zip}}: **Final topology** of the MD system. It is a compressed zip file including a **topology file** (.top) and a set of auxiliar **include topology** files (.itp).\n",
    "\n",
    "**Analysis** (MD setup check) output files generated:\n",
    " - {{output_rms_first}}: **Root Mean Square deviation (RMSd)** against **minimized and equilibrated structure** of the final **free MD run step**.\n",
    " - {{output_rms_exp}}: **Root Mean Square deviation (RMSd)** against **experimental structure** of the final **free MD run step**.\n",
    " - {{output_rgyr}}: **Radius of Gyration** of the final **free MD run step** of the **setup pipeline**.\n",
    " "
   ]
  },
  {
   "cell_type": "markdown",
   "metadata": {},
   "source": [
    "***\n",
    "<a id=\"questions\"></a>\n",
    "\n",
    "## Questions & Comments\n",
    "\n",
    "Questions, issues, suggestions and comments are really welcome!\n",
    "\n",
    "* GitHub issues:\n",
    "    * [https://github.com/bioexcel/biobb](https://github.com/bioexcel/biobb)\n",
    "\n",
    "* BioExcel forum:\n",
    "    * [https://ask.bioexcel.eu/c/BioExcel-Building-Blocks-library](https://ask.bioexcel.eu/c/BioExcel-Building-Blocks-library)\n"
   ]
  }
 ],
 "metadata": {
  "anaconda-cloud": {},
  "kernelspec": {
   "display_name": "Python 3 (ipykernel)",
   "language": "python",
   "name": "python3"
  },
  "language_info": {
   "codemirror_mode": {
    "name": "ipython",
    "version": 3
   },
   "file_extension": ".py",
   "mimetype": "text/x-python",
   "name": "python",
   "nbconvert_exporter": "python",
   "pygments_lexer": "ipython3",
   "version": "3.7.12"
  },
  "toc": {
   "base_numbering": 1,
   "nav_menu": {},
   "number_sections": true,
   "sideBar": true,
   "skip_h1_title": true,
   "title_cell": "Table of Contents",
   "title_sidebar": "Contents",
   "toc_cell": false,
   "toc_position": {
    "height": "397px",
    "left": "29px",
    "top": "86.5625px",
    "width": "394px"
   },
   "toc_section_display": true,
   "toc_window_display": false
  }
 },
 "nbformat": 4,
 "nbformat_minor": 2
}
