{
 "cells": [
  {
   "cell_type": "markdown",
   "metadata": {
    "tags": [],
    "toc": true
   },
   "source": [
    "<h1>Docking Bcl-2 with Genistein - Domains<span class=\"tocSkip\"></span></h1>\n",
    "<div class=\"toc\"><ul class=\"toc-item\"><li><span><a href=\"#Introduction\" data-toc-modified-id=\"Introduction-1\"><span class=\"toc-item-num\">1&nbsp;&nbsp;</span>Introduction</a></span><ul class=\"toc-item\"><li><span><a href=\"#Positions-of-the-Bcl-2-α-helices-and-homology-domains-(BH)\" data-toc-modified-id=\"Positions-of-the-Bcl-2-α-helices-and-homology-domains-(BH)-1.1\"><span class=\"toc-item-num\">1.1&nbsp;&nbsp;</span>Positions of the Bcl-2 α-helices and homology domains (BH)</a></span></li><li><span><a href=\"#Input-parameters\" data-toc-modified-id=\"Input-parameters-1.2\"><span class=\"toc-item-num\">1.2&nbsp;&nbsp;</span>Input parameters</a></span></li><li><span><a href=\"#Libraries\" data-toc-modified-id=\"Libraries-1.3\"><span class=\"toc-item-num\">1.3&nbsp;&nbsp;</span>Libraries</a></span></li></ul></li><li><span><a href=\"#Preparing-Receptor\" data-toc-modified-id=\"Preparing-Receptor-2\"><span class=\"toc-item-num\">2&nbsp;&nbsp;</span>Preparing Receptor</a></span><ul class=\"toc-item\"><li><span><a href=\"#Extract-and-check-Bcl-2-protein-from-complex\" data-toc-modified-id=\"Extract-and-check-Bcl-2-protein-from-complex-2.1\"><span class=\"toc-item-num\">2.1&nbsp;&nbsp;</span>Extract and check Bcl-2 protein from complex</a></span></li><li><span><a href=\"#Preparing-Target-Protein-for-Docking\" data-toc-modified-id=\"Preparing-Target-Protein-for-Docking-2.2\"><span class=\"toc-item-num\">2.2&nbsp;&nbsp;</span>Preparing Target Protein for Docking</a></span></li><li><span><a href=\"#Visualizing-target-protein\" data-toc-modified-id=\"Visualizing-target-protein-2.3\"><span class=\"toc-item-num\">2.3&nbsp;&nbsp;</span>Visualizing target protein</a></span></li></ul></li><li><span><a href=\"#Preparing-Box\" data-toc-modified-id=\"Preparing-Box-3\"><span class=\"toc-item-num\">3&nbsp;&nbsp;</span>Preparing Box</a></span><ul class=\"toc-item\"><li><span><a href=\"#Generating-Cavity-Box-from-Bcl-2-BH-domains\" data-toc-modified-id=\"Generating-Cavity-Box-from-Bcl-2-BH-domains-3.1\"><span class=\"toc-item-num\">3.1&nbsp;&nbsp;</span>Generating Cavity Box from Bcl-2 BH domains</a></span></li><li><span><a href=\"#Visualizing-binding-site-box-in-3D-structure\" data-toc-modified-id=\"Visualizing-binding-site-box-in-3D-structure-3.2\"><span class=\"toc-item-num\">3.2&nbsp;&nbsp;</span>Visualizing binding site box in 3D structure</a></span></li></ul></li><li><span><a href=\"#Preparing-Ligand\" data-toc-modified-id=\"Preparing-Ligand-4\"><span class=\"toc-item-num\">4&nbsp;&nbsp;</span>Preparing Ligand</a></span><ul class=\"toc-item\"><li><span><a href=\"#Converting-Ligand\" data-toc-modified-id=\"Converting-Ligand-4.1\"><span class=\"toc-item-num\">4.1&nbsp;&nbsp;</span>Converting Ligand</a></span></li><li><span><a href=\"#Preparing-ligand-for-Docking\" data-toc-modified-id=\"Preparing-ligand-for-Docking-4.2\"><span class=\"toc-item-num\">4.2&nbsp;&nbsp;</span>Preparing ligand for Docking</a></span></li><li><span><a href=\"#Visualizing-ligand\" data-toc-modified-id=\"Visualizing-ligand-4.3\"><span class=\"toc-item-num\">4.3&nbsp;&nbsp;</span>Visualizing ligand</a></span></li></ul></li><li><span><a href=\"#Running-the-Docking\" data-toc-modified-id=\"Running-the-Docking-5\"><span class=\"toc-item-num\">5&nbsp;&nbsp;</span>Running the Docking</a></span><ul class=\"toc-item\"><li><span><a href=\"#Visualizing-docking-output-poses\" data-toc-modified-id=\"Visualizing-docking-output-poses-5.1\"><span class=\"toc-item-num\">5.1&nbsp;&nbsp;</span>Visualizing docking output poses</a></span></li><li><span><a href=\"#Select-Docking-Pose\" data-toc-modified-id=\"Select-Docking-Pose-5.2\"><span class=\"toc-item-num\">5.2&nbsp;&nbsp;</span>Select Docking Pose</a></span></li></ul></li><li><span><a href=\"#Extracting-Results\" data-toc-modified-id=\"Extracting-Results-6\"><span class=\"toc-item-num\">6&nbsp;&nbsp;</span>Extracting Results</a></span><ul class=\"toc-item\"><li><span><a href=\"#Extract-a-Docking-Pose\" data-toc-modified-id=\"Extract-a-Docking-Pose-6.1\"><span class=\"toc-item-num\">6.1&nbsp;&nbsp;</span>Extract a Docking Pose</a></span></li><li><span><a href=\"#Converting-Ligand-Pose-to-PDB-format\" data-toc-modified-id=\"Converting-Ligand-Pose-to-PDB-format-6.2\"><span class=\"toc-item-num\">6.2&nbsp;&nbsp;</span>Converting Ligand Pose to PDB format</a></span></li><li><span><a href=\"#Superposing-Ligand-Pose-to-the-Target-Protein-Structure\" data-toc-modified-id=\"Superposing-Ligand-Pose-to-the-Target-Protein-Structure-6.3\"><span class=\"toc-item-num\">6.3&nbsp;&nbsp;</span>Superposing Ligand Pose to the Target Protein Structure</a></span></li><li><span><a href=\"#Visualizing-Protein-Ligand-Complex\" data-toc-modified-id=\"Visualizing-Protein-Ligand-Complex-6.4\"><span class=\"toc-item-num\">6.4&nbsp;&nbsp;</span>Visualizing Protein-Ligand Complex</a></span></li></ul></li></ul></div>"
   ]
  },
  {
   "cell_type": "markdown",
   "metadata": {},
   "source": [
    "## Introduction"
   ]
  },
  {
   "cell_type": "markdown",
   "metadata": {},
   "source": [
    "This notebook illustrates the process of **protein-ligand docking** with the Bcl-2-Bax complex (PDB id:2XA0) as initial structure for Bcl-2. All the heteroatoms and Bax peptide were removed from the coordinate file, and Bcl-2 alone was used for docking study.\n",
    "\n",
    "The **active site cavity** (pocket) was defined taking the  hydrophobic groove on the Bcl-2 protein formed by the BH1–3 domains.\n",
    "\n",
    "Please note that **docking algorithms**, and in particular, **AutoDock Vina** are **non-deterministic**. That means that results obtained when running this workflow **could be diferent** from one running to another. "
   ]
  },
  {
   "cell_type": "markdown",
   "metadata": {},
   "source": [
    "### Positions of the Bcl-2 α-helices and homology domains (BH)\n",
    "<img src=\"images/Bcl-2_groove_domains_helices_positions.png\"></img>"
   ]
  },
  {
   "cell_type": "markdown",
   "metadata": {},
   "source": [
    "### Input parameters"
   ]
  },
  {
   "cell_type": "code",
   "execution_count": 102,
   "metadata": {},
   "outputs": [],
   "source": [
    "protein_file = \"inputs/2xa0.pdb\"      # Bcl-2-Bax complex\n",
    "ligand_file  = \"inputs/genistein.sdf\"       # Genistein Ligand\n",
    "groove_file  = \"inputs/groove_domains.pdb\" # Groove residues from HB1, HB2 and HB3\n",
    "\n",
    "pdb_protein  = \"pdb_protein.pdb\"      # Name of chainA structure from \"2xa0.pdb\" complex"
   ]
  },
  {
   "cell_type": "markdown",
   "metadata": {},
   "source": [
    "<img src=\"images/2xa0-Genistein.png\" width=\"90%\">"
   ]
  },
  {
   "cell_type": "markdown",
   "metadata": {},
   "source": [
    "### Libraries"
   ]
  },
  {
   "cell_type": "code",
   "execution_count": null,
   "metadata": {},
   "outputs": [],
   "source": [
    "import nglview\n",
    "import ipywidgets"
   ]
  },
  {
   "cell_type": "markdown",
   "metadata": {},
   "source": [
    "## Preparing Receptor"
   ]
  },
  {
   "cell_type": "markdown",
   "metadata": {},
   "source": [
    "### Extract and check Bcl-2 protein from complex\n",
    "Extract **protein structure** from the **Bcl-2 complex**. Removing **any extra molecule** (ligands, ions, water molecules). <br><br>\n",
    "The **protein structure** will be used as a **target** in the **protein-ligand docking process**. \n",
    "***\n",
    "**Building Blocks** used:\n",
    " - [extract_chain](https://biobb-structure-utils.readthedocs.io/en/latest/utils.html#module-utils.extract_chain) from **biobb_structure_utils.utils.extract_chain**\n",
    " - [extract_molecule](https://biobb-structure-utils.readthedocs.io/en/latest/utils.html#module-utils.extract_molecule):\n",
    "     * Performs a checking of the quality of a 3D structure intended to facilitate the setup of molecular dynamics simulation of protein or nucleic acids systems.\n",
    "***"
   ]
  },
  {
   "cell_type": "code",
   "execution_count": 34,
   "metadata": {},
   "outputs": [
    {
     "name": "stdout",
     "output_type": "stream",
     "text": [
      "2022-04-27 14:07:32,005 [MainThread  ] [INFO ]  check_structure -i /home/lg/repos/javerianaMD/simulation/dk-biobb/inputs/2xa0.pdb -o protein_chainA.pdb --force_save chains --select A\n",
      "\n",
      "2022-04-27 14:07:32,006 [MainThread  ] [INFO ]  Exit code 0\n",
      "\n",
      "2022-04-27 14:07:32,007 [MainThread  ] [INFO ]  ===============================================================================\n",
      "=                   BioBB structure checking utility v3.8.1                   =\n",
      "=                 A. Hospital, P. Andrio, J.L. Gelpi 2018-21                  =\n",
      "===============================================================================\n",
      "\n",
      "Warning: sequence features only available in mmCIF format or with external fasta input\n",
      "Structure /home/lg/repos/javerianaMD/simulation/dk-biobb/inputs/2xa0.pdb loaded\n",
      " Title: crystal structure of bcl-2 in complex with a bax bh3 peptide\n",
      " Experimental method: x-ray diffraction\n",
      " Keywords: apoptosis, cell death\n",
      " Resolution (A): 2.7\n",
      "\n",
      " Num. models: 1\n",
      " Num. chains: 4 (A: Protein, B: Protein, C: Protein, D: Protein)\n",
      " Num. residues:  347\n",
      " Num. residues with ins. codes:  0\n",
      " Num. HETATM residues:  21\n",
      " Num. ligands or modified residues:  0\n",
      " Num. water mol.:  21\n",
      " Num. atoms:  2733\n",
      "\n",
      "Running chains. Options: --select A\n",
      "4 Chain(s) detected\n",
      " A: Protein\n",
      " B: Protein\n",
      " C: Protein\n",
      " D: Protein\n",
      "Selecting chain(s) A\n",
      "Final Num. models: 1\n",
      "Final Num. chains: 1 (A: Protein)\n",
      "Final Num. residues:  147\n",
      "Final Num. residues with ins. codes:  0\n",
      "Final Num. HETATM residues:  10\n",
      "Final Num. ligands or modified residues:  0\n",
      "Final Num. water mol.:  10\n",
      "Final Num. atoms:  1155\n",
      "Structure saved on protein_chainA.pdb\n",
      "\n",
      "2022-04-27 14:07:32,011 [MainThread  ] [INFO ]  Creating 80fbc59b-2f98-4797-b2d6-fb6713621bc3 temporary folder\n",
      "2022-04-27 14:07:32,381 [MainThread  ] [INFO ]  check_structure -i /home/lg/repos/javerianaMD/simulation/dk-biobb/protein_chainA.pdb -o pdb_protein.pdb --force_save --non_interactive command_list --list 80fbc59b-2f98-4797-b2d6-fb6713621bc3/extract_prot.lst\n",
      "\n",
      "2022-04-27 14:07:32,382 [MainThread  ] [INFO ]  Exit code 0\n",
      "\n",
      "2022-04-27 14:07:32,383 [MainThread  ] [INFO ]  ===============================================================================\n",
      "=                   BioBB structure checking utility v3.8.1                   =\n",
      "=                 A. Hospital, P. Andrio, J.L. Gelpi 2018-21                  =\n",
      "===============================================================================\n",
      "\n",
      "Warning: sequence features only available in mmCIF format or with external fasta input\n",
      "Structure /home/lg/repos/javerianaMD/simulation/dk-biobb/protein_chainA.pdb loaded\n",
      " Title: \n",
      " Experimental method: unknown\n",
      " Resolution (A): N.A.\n",
      "\n",
      " Num. models: 1\n",
      " Num. chains: 1 (A: Protein)\n",
      " Num. residues:  147\n",
      " Num. residues with ins. codes:  0\n",
      " Num. HETATM residues:  10\n",
      " Num. ligands or modified residues:  0\n",
      " Num. water mol.:  10\n",
      " Num. atoms:  1155\n",
      "\n",
      "\n",
      "Step 1: ligands --remove All\n",
      "\n",
      "Running ligands. Options: --remove All\n",
      "No ligands found\n",
      "\n",
      "Step 2: water --remove Yes\n",
      "\n",
      "Running water. Options: --remove Yes\n",
      "10 Water molecules detected\n",
      "10 Water molecules removed\n",
      "Command list completed\n",
      "Final Num. models: 1\n",
      "Final Num. chains: 1 (A: Protein)\n",
      "Final Num. residues:  137\n",
      "Final Num. residues with ins. codes:  0\n",
      "Final Num. HETATM residues:  0\n",
      "Final Num. ligands or modified residues:  0\n",
      "Final Num. water mol.:  0\n",
      "Final Num. atoms:  1145\n",
      "Structure saved on pdb_protein.pdb\n",
      "\n",
      "2022-04-27 14:07:32,384 [MainThread  ] [INFO ]  Removing 80fbc59b-2f98-4797-b2d6-fb6713621bc3 temporary folder\n"
     ]
    }
   ],
   "source": [
    "from biobb_structure_utils.utils.extract_chain import extract_chain\n",
    "from biobb_structure_utils.utils.extract_molecule import extract_molecule\n",
    "\n",
    "# Extracts the chain A structure\n",
    "protein_chainA  = \"protein_chainA.pdb\"\n",
    "prop = {\n",
    "    'chains': [ 'A']\n",
    "}\n",
    "extract_chain(input_structure_path = protein_file, \n",
    "            output_structure_path  = protein_chainA, \n",
    "            properties             = prop)\n",
    "\n",
    "# Extracts protein and performs a checking of the quality\n",
    "extract_molecule(input_structure_path = protein_chainA,\n",
    "                 output_molecule_path = pdb_protein);"
   ]
  },
  {
   "cell_type": "markdown",
   "metadata": {},
   "source": [
    "### Preparing Target Protein for Docking\n",
    "Preparing the **target protein** structure for the **docking procedure**. Converting the **PDB file** to a **PDBqt file**, needed by **AutoDock Vina**. Similarly to the previous step, the process adds **partial charges** and **atom types** to every target protein atom. In this case, however, we are not taking into account **receptor flexibility**, although **Autodock Vina** allows some limited flexibility of selected **receptor side chains** [(see the documentation)](https://autodock-vina.readthedocs.io/en/latest/docking_flexible.html).<br>\n",
    "\n",
    "***\n",
    "**Building Blocks** used:\n",
    " - [str_check_add_hydrogens](https://biobb-structure-utils.readthedocs.io/en/latest/utils.html#utils-str-check-add-hydrogens-module) from **biobb_structure_utils.utils.str_check_add_hydrogens**\n",
    "***"
   ]
  },
  {
   "cell_type": "code",
   "execution_count": 32,
   "metadata": {
    "scrolled": true
   },
   "outputs": [
    {
     "name": "stdout",
     "output_type": "stream",
     "text": [
      "2022-04-27 13:58:36,337 [MainThread  ] [INFO ]  check_structure -i /home/lg/repos/javerianaMD/simulation/dk-biobb/pdb_protein.pdb -o prep_receptor.pdbqt --force_save add_hydrogen --add_charges --add_mode auto\n",
      "\n",
      "2022-04-27 13:58:36,338 [MainThread  ] [INFO ]  Exit code 0\n",
      "\n",
      "2022-04-27 13:58:36,339 [MainThread  ] [INFO ]  ===============================================================================\n",
      "=                   BioBB structure checking utility v3.8.1                   =\n",
      "=                 A. Hospital, P. Andrio, J.L. Gelpi 2018-21                  =\n",
      "===============================================================================\n",
      "\n",
      "Warning: sequence features only available in mmCIF format or with external fasta input\n",
      "Structure /home/lg/repos/javerianaMD/simulation/dk-biobb/pdb_protein.pdb loaded\n",
      " Title: \n",
      " Experimental method: unknown\n",
      " Resolution (A): N.A.\n",
      "\n",
      " Num. models: 1\n",
      " Num. chains: 1 (A: Protein)\n",
      " Num. residues:  137\n",
      " Num. residues with ins. codes:  0\n",
      " Num. HETATM residues:  0\n",
      " Num. ligands or modified residues:  0\n",
      " Num. water mol.:  0\n",
      " Num. atoms:  1145\n",
      "\n",
      "Running add_hydrogen. Options: --add_charges --add_mode auto\n",
      "46 Residues requiring selection on adding H atoms\n",
      " CYS A158\n",
      " ASP A10,A31,A102,A103,A111,A140,A171,A191,A196\n",
      " GLU A13,A29,A114,A135,A136,A152,A160,A165,A179,A200\n",
      " HIS A20,A94,A120,A184,A186\n",
      " LYS A17,A22\n",
      " ARG A12,A26,A98,A106,A107,A109,A110,A127,A129,A139,A146,A164,A183\n",
      " TYR A18,A21,A28,A108,A180,A202\n",
      "WARNING: fixing side chains, override with --no_fix_side\n",
      "Running fixside. Options: --fix all\n",
      "No residues with missing or unknown side chain atoms found\n",
      "Selection: auto\n",
      "Replacing HIS A20 by HIE\n",
      "Replacing HIS A94 by HIE\n",
      "Replacing HIS A120 by HIE\n",
      "Replacing HIS A184 by HIE\n",
      "Replacing HIS A186 by HIE\n",
      "Updating partial charges and atom types\n",
      "Warning: OXT atom missing in CASP A31. Run backbone --add_atoms first\n",
      "Total assigned charge:      -3.22\n",
      "Final Num. models: 1\n",
      "Final Num. chains: 1 (A: Protein)\n",
      "Final Num. residues:  137\n",
      "Final Num. residues with ins. codes:  0\n",
      "Final Num. HETATM residues:  0\n",
      "Final Num. ligands or modified residues:  0\n",
      "Final Num. water mol.:  0\n",
      "Final Num. atoms:  2234\n",
      "Structure saved on prep_receptor.pdbqt\n",
      "\n"
     ]
    }
   ],
   "source": [
    "from biobb_structure_utils.utils.str_check_add_hydrogens import str_check_add_hydrogens\n",
    "\n",
    "prep_receptor = \"prep_receptor.pdbqt\"\n",
    "prop = {\n",
    "    \"charges\": True,\n",
    "    \"mode\": \"auto\"\n",
    "}\n",
    "\n",
    "str_check_add_hydrogens(input_structure_path  = pdb_protein,\n",
    "                        output_structure_path = prep_receptor,\n",
    "                        properties            = prop);"
   ]
  },
  {
   "cell_type": "markdown",
   "metadata": {},
   "source": [
    "### Visualizing target protein"
   ]
  },
  {
   "cell_type": "code",
   "execution_count": 103,
   "metadata": {
    "scrolled": true
   },
   "outputs": [
    {
     "data": {
      "application/vnd.jupyter.widget-view+json": {
       "model_id": "3dac01cf1f214fc793546f2ee85bb089",
       "version_major": 2,
       "version_minor": 0
      },
      "text/plain": [
       "NGLWidget()"
      ]
     },
     "metadata": {},
     "output_type": "display_data"
    }
   ],
   "source": [
    "# Visualizing 3D structure\n",
    "view = nglview.show_structure_file(prep_receptor, default=False)\n",
    "view.add_representation(repr_type   = 'cartoon', \n",
    "                        selection   = 'not het',\n",
    "                        colorScheme = 'atomindex')\n",
    "view.center()\n",
    "view"
   ]
  },
  {
   "cell_type": "markdown",
   "metadata": {},
   "source": [
    "<img src=\"images/2xa0_A.png\" width=25%>"
   ]
  },
  {
   "cell_type": "markdown",
   "metadata": {},
   "source": [
    "## Preparing Box"
   ]
  },
  {
   "cell_type": "markdown",
   "metadata": {},
   "source": [
    "### Generating Cavity Box from Bcl-2 BH domains\n",
    "- Generating a **box** surrounding the selected **protein cavity** (pocket), to be used in the **docking procedure**.\n",
    "- The pocket is defined in the hydrophobic groove made of BH1, BH2, and BH3 regions of the antiapoptotic family proteins.\n",
    "- The **box** is defining the region on the **surface** of the **protein target** where the **docking program** should explore a possible **ligand dock**.\n",
    "- An offset of **12 Angstroms** is used to generate a **big enough box** to fit the **small molecule** and its possible rotations.<br>\n",
    "\n",
    "***\n",
    "**Building Blocks** used:\n",
    " - [box](https://biobb-vs.readthedocs.io/en/latest/utils.html#module-utils.box) from **biobb_vs.utils.box**\n",
    "***"
   ]
  },
  {
   "cell_type": "code",
   "execution_count": 76,
   "metadata": {
    "scrolled": true
   },
   "outputs": [
    {
     "name": "stdout",
     "output_type": "stream",
     "text": [
      "2022-04-27 17:14:05,707 [MainThread  ] [INFO ]  Loading residue PDB selection from inputs/2xa0_A_groove_domains.pdb\n",
      "2022-04-27 17:14:05,710 [MainThread  ] [INFO ]  Binding site center (Angstroms):     28.230   -19.599   -15.996\n",
      "2022-04-27 17:14:05,711 [MainThread  ] [INFO ]  Adding 12.0 Angstroms offset\n",
      "2022-04-27 17:14:05,712 [MainThread  ] [INFO ]  Binding site size (Angstroms):       26.367    22.956    26.581\n",
      "2022-04-27 17:14:05,713 [MainThread  ] [INFO ]  Volume (cubic Angstroms): 128718\n",
      "2022-04-27 17:14:05,714 [MainThread  ] [INFO ]  Adding box coordinates\n",
      "2022-04-27 17:14:05,715 [MainThread  ] [INFO ]  Saving output PDB file (with box setting annotations): box.pdb\n"
     ]
    }
   ],
   "source": [
    "# Groove residues instead to pqr pocket:\"fpocket_pocket\"\n",
    "from biobb_vs.utils.box import box\n",
    "\n",
    "groove_pdb = \"inputs/2xa0_A_groove_domains.pdb\"\n",
    "output_box = \"box.pdb\"\n",
    "prop = {\n",
    "    \"offset\": 12,\n",
    "    \"box_coordinates\": True\n",
    "}\n",
    "\n",
    "box (input_pdb_path  = groove_pdb,\n",
    "     output_pdb_path = output_box,\n",
    "     properties      = prop);"
   ]
  },
  {
   "cell_type": "markdown",
   "metadata": {},
   "source": [
    "### Visualizing binding site box in 3D structure\n",
    "Visualizing the **protein structure**, the **selected cavity**, and the **generated box**."
   ]
  },
  {
   "cell_type": "code",
   "execution_count": 77,
   "metadata": {
    "scrolled": true
   },
   "outputs": [
    {
     "data": {
      "application/vnd.jupyter.widget-view+json": {
       "model_id": "238ce87d03a943faa7f31494f57d0402",
       "version_major": 2,
       "version_minor": 0
      },
      "text/plain": [
       "NGLWidget()"
      ]
     },
     "metadata": {},
     "output_type": "display_data"
    }
   ],
   "source": [
    "view = nglview.NGLWidget()\n",
    "s = view.add_component(pdb_protein)\n",
    "b = view.add_component(output_box)\n",
    "p = view.add_component(groove_pdb)\n",
    "p.clear()\n",
    "\n",
    "atomPair = [\n",
    "    [ \"9999:Z.ZN1\", \"9999:Z.ZN2\" ], [ \"9999:Z.ZN2\", \"9999:Z.ZN4\" ],\n",
    "    [ \"9999:Z.ZN4\", \"9999:Z.ZN3\" ], [ \"9999:Z.ZN3\", \"9999:Z.ZN1\" ],\n",
    "    \n",
    "    [ \"9999:Z.ZN5\", \"9999:Z.ZN6\" ], [ \"9999:Z.ZN6\", \"9999:Z.ZN8\" ],\n",
    "    [ \"9999:Z.ZN8\", \"9999:Z.ZN7\" ], [ \"9999:Z.ZN7\", \"9999:Z.ZN5\" ],\n",
    "    \n",
    "    [ \"9999:Z.ZN1\", \"9999:Z.ZN5\" ], [ \"9999:Z.ZN2\", \"9999:Z.ZN6\" ],\n",
    "    [ \"9999:Z.ZN3\", \"9999:Z.ZN7\" ], [ \"9999:Z.ZN4\", \"9999:Z.ZN8\" ]\n",
    "]\n",
    "\n",
    "# structure\n",
    "s.add_representation(repr_type='cartoon', selection='not het', color='#cccccc', opacity=.2)\n",
    "# ligands box\n",
    "b.add_representation(repr_type='ball+stick', selection='9999', color='pink', aspectRatio = 8)\n",
    "# lines box\n",
    "b.add_representation(repr_type='distance', atomPair= atomPair, labelVisible=False, color= 'yellow')\n",
    "\n",
    "# pocket\n",
    "p.add_surface(component=1, color='skyblue', surfaceType= 'av',lowResolution= True,\n",
    "              smooth=1, contour=True, opacity=0.4, useWorker= True, wrap= True)\n",
    "\n",
    "view.center()\n",
    "view._remote_call('setSize', target='Widget', args=['','600px'])\n",
    "view"
   ]
  },
  {
   "cell_type": "markdown",
   "metadata": {},
   "source": [
    "## Preparing Ligand"
   ]
  },
  {
   "cell_type": "markdown",
   "metadata": {},
   "source": [
    "### Converting Ligand \n",
    "Converting the **ligand** to be used in the **docking procedure**, from **SDF** format to **PDB** format using the **OpenBabel chemoinformatics** tool. <br>\n",
    "\n",
    "***\n",
    "**Building Blocks** used:\n",
    " - [babel_convert](https://biobb-chemistry.readthedocs.io/en/latest/babelm.html#module-babelm.babel_convert) from **biobb_chemistry.babelm.babel_convert**\n",
    "***"
   ]
  },
  {
   "cell_type": "code",
   "execution_count": 78,
   "metadata": {
    "scrolled": true
   },
   "outputs": [
    {
     "name": "stdout",
     "output_type": "stream",
     "text": [
      "2022-04-27 17:14:45,448 [MainThread  ] [INFO ]  Value  is not compatible as a coordinates value\n",
      "2022-04-27 17:14:45,449 [MainThread  ] [INFO ]  Not using any container\n",
      "2022-04-27 17:14:45,493 [MainThread  ] [INFO ]  obabel -isdf inputs/genistein.sdf -opdb -Oligand.pdb  \n",
      "\n",
      "2022-04-27 17:14:45,494 [MainThread  ] [INFO ]  Exit code 0\n",
      "\n",
      "2022-04-27 17:14:45,495 [MainThread  ] [INFO ]  1 molecule converted\n",
      "\n"
     ]
    }
   ],
   "source": [
    "from biobb_chemistry.babelm.babel_convert import babel_convert\n",
    "\n",
    "ligand = \"ligand.pdb\"\n",
    "prop = {\n",
    "    \"input_format\": \"sdf\",\n",
    "    \"output_format\": \"pdb\",\n",
    "    \"obabel_path\": \"obabel\"\n",
    "}\n",
    "\n",
    "babel_convert(input_path = ligand_file,\n",
    "             output_path = ligand,\n",
    "             properties  = prop);"
   ]
  },
  {
   "cell_type": "markdown",
   "metadata": {},
   "source": [
    "### Preparing ligand for Docking\n",
    "Preparing the **small molecule** structure for the **docking procedure**. Converting the **PDB file** to a **PDBQT file** format (AutoDock PDBQT: Protein Data Bank, with Partial Charges (Q), & Atom Types (T)), needed by **AutoDock Vina**. <br><br>\n",
    "The process adds **partial charges** and **atom types** to every atom. Besides, the **ligand flexibility** is also defined in the information contained in the file. The concept of **\"torsion tree\"** is used to represent the **rigid and rotatable** pieces of the **ligand**. A rigid piece (**\"root\"**) is defined, with zero or more rotatable pieces (**\"branches\"**), hanging from the root, and defining the **rotatable bonds**.\n",
    "***\n",
    "**Building Blocks** used:\n",
    " - [babel_convert](https://biobb-chemistry.readthedocs.io/en/latest/babelm.html#module-babelm.babel_convert) from **biobb_chemistry.babelm.babel_convert**\n",
    "***"
   ]
  },
  {
   "cell_type": "code",
   "execution_count": 79,
   "metadata": {},
   "outputs": [
    {
     "name": "stdout",
     "output_type": "stream",
     "text": [
      "2022-04-27 17:14:46,844 [MainThread  ] [INFO ]  Value  is not compatible as a coordinates value\n",
      "2022-04-27 17:14:46,845 [MainThread  ] [INFO ]  Not using any container\n",
      "2022-04-27 17:14:46,899 [MainThread  ] [INFO ]  obabel -ipdb ligand.pdb -opdbqt -Oprep_ligand.pdbqt  \n",
      "\n",
      "2022-04-27 17:14:46,901 [MainThread  ] [INFO ]  Exit code 0\n",
      "\n",
      "2022-04-27 17:14:46,903 [MainThread  ] [INFO ]  1 molecule converted\n",
      "\n"
     ]
    }
   ],
   "source": [
    "from biobb_chemistry.babelm.babel_convert import babel_convert\n",
    "\n",
    "prep_ligand = \"prep_ligand.pdbqt\"\n",
    "prop = {\n",
    "    \"input_format\": \"pdb\",\n",
    "    \"output_format\": \"pdbqt\",\n",
    "    \"obabel_path\": \"obabel\"\n",
    "}\n",
    "\n",
    "babel_convert(input_path = ligand,\n",
    "            output_path = prep_ligand,\n",
    "            properties=prop);"
   ]
  },
  {
   "cell_type": "markdown",
   "metadata": {},
   "source": [
    "### Visualizing ligand\n",
    "Visualizing the **ligand** to be docked to the **target protein**:\n",
    "- **Left panel**: **PDB-formatted** file, with all hydrogen atoms.\n",
    "- **Right panel**: **PDBqt-formatted** file (AutoDock Vina-compatible), with **united atom model** (only polar hydrogens are placed in the structures to correctly type heavy atoms as hydrogen bond donors).\n"
   ]
  },
  {
   "cell_type": "code",
   "execution_count": 105,
   "metadata": {
    "scrolled": true
   },
   "outputs": [
    {
     "data": {
      "application/vnd.jupyter.widget-view+json": {
       "model_id": "2f8d9556c320455aafc0f13f699f2517",
       "version_major": 2,
       "version_minor": 0
      },
      "text/plain": [
       "HBox(children=(NGLWidget(), NGLWidget()))"
      ]
     },
     "metadata": {},
     "output_type": "display_data"
    }
   ],
   "source": [
    "from ipywidgets import HBox\n",
    "\n",
    "v0 = nglview.show_structure_file(ligand)\n",
    "v1 = nglview.show_structure_file(prep_ligand)\n",
    "\n",
    "v0._set_size('500px', '')\n",
    "v1._set_size('500px', '')\n",
    "\n",
    "def on_change(change):\n",
    "    v1._set_camera_orientation(change['new'])\n",
    "    \n",
    "v0.observe(on_change, ['_camera_orientation'])\n",
    "\n",
    "HBox([v0, v1])"
   ]
  },
  {
   "cell_type": "markdown",
   "metadata": {},
   "source": [
    "<a id=\"docking\"></a>\n",
    "***\n",
    "## Running the Docking\n",
    "Running the **docking process** with the prepared files:\n",
    "- **ligand**\n",
    "- **target protein**\n",
    "- **binding site box**<br>\n",
    "\n",
    "using **AutoDock Vina**. <br>\n",
    "\n",
    "***\n",
    "**Building Blocks** used:\n",
    " - [autodock_vina_run](https://biobb-vs.readthedocs.io/en/latest/vina.html#module-vina.autodock_vina_run) from **biobb_vs.vina.autodock_vina_run**\n",
    "***"
   ]
  },
  {
   "cell_type": "code",
   "execution_count": 82,
   "metadata": {},
   "outputs": [
    {
     "name": "stdout",
     "output_type": "stream",
     "text": [
      "2022-04-27 17:15:19,002 [MainThread  ] [INFO ]  Executing AutoDock Vina\n",
      "2022-04-27 17:15:19,003 [MainThread  ] [INFO ]  Not using any container\n",
      "2022-04-27 17:15:34,156 [MainThread  ] [INFO ]  vina --ligand prep_ligand.pdbqt --receptor prep_receptor.pdbqt --center_x=28.230 --center_y=-19.599 --center_z=-15.996 --size_x=26.367 --size_y=22.956 --size_z=26.581 --out output_vina.pdbqt --log output_vina.log\n",
      "\n",
      "2022-04-27 17:15:34,157 [MainThread  ] [INFO ]  Exit code 0\n",
      "\n",
      "2022-04-27 17:15:34,158 [MainThread  ] [INFO ]  #################################################################\n",
      "# If you used AutoDock Vina in your work, please cite:          #\n",
      "#                                                               #\n",
      "# O. Trott, A. J. Olson,                                        #\n",
      "# AutoDock Vina: improving the speed and accuracy of docking    #\n",
      "# with a new scoring function, efficient optimization and       #\n",
      "# multithreading, Journal of Computational Chemistry 31 (2010)  #\n",
      "# 455-461                                                       #\n",
      "#                                                               #\n",
      "# DOI 10.1002/jcc.21334                                         #\n",
      "#                                                               #\n",
      "# Please see http://vina.scripps.edu for more information.      #\n",
      "#################################################################\n",
      "\n",
      "Detected 4 CPUs\n",
      "Reading input ... done.\n",
      "Setting up the scoring function ... done.\n",
      "Analyzing the binding site ... done.\n",
      "Using random seed: -717034437\n",
      "Performing search ... \n",
      "0%   10   20   30   40   50   60   70   80   90   100%\n",
      "|----|----|----|----|----|----|----|----|----|----|\n",
      "***************************************************\n",
      "done.\n",
      "Refining results ... done.\n",
      "\n",
      "mode |   affinity | dist from best mode\n",
      "     | (kcal/mol) | rmsd l.b.| rmsd u.b.\n",
      "-----+------------+----------+----------\n",
      "   1         -6.7      0.000      0.000\n",
      "   2         -6.2      1.307      2.647\n",
      "   3         -6.2      1.426      6.763\n",
      "   4         -6.1      3.360      8.207\n",
      "   5         -6.1      2.915      6.787\n",
      "   6         -5.9      2.823      6.722\n",
      "   7         -5.8      2.139      7.886\n",
      "   8         -5.8      1.415      1.737\n",
      "   9         -5.7      7.228     10.424\n",
      "Writing output ... done.\n",
      "\n"
     ]
    }
   ],
   "source": [
    "from biobb_vs.vina.autodock_vina_run import autodock_vina_run\n",
    "\n",
    "output_vina_pdbqt = \"output_vina.pdbqt\"\n",
    "output_vina_log = \"output_vina.log\"\n",
    "\n",
    "autodock_vina_run(input_ligand_pdbqt_path   = prep_ligand,\n",
    "                  input_receptor_pdbqt_path = prep_receptor,\n",
    "             input_box_path = output_box,\n",
    "             output_pdbqt_path = output_vina_pdbqt,\n",
    "             output_log_path = output_vina_log);"
   ]
  },
  {
   "cell_type": "markdown",
   "metadata": {},
   "source": [
    "<a id=\"viewDocking\"></a>\n",
    "### Visualizing docking output poses\n",
    "Visualizing the generated **docking poses** for the **ligand**, using **NGL viewer**. <br>\n",
    "- **Left panel**: **Docking poses** displayed with atoms coloured by **partial charges** and **licorice** representation.\n",
    "- **Right panel**: **Docking poses** displayed with atoms coloured by **element** and **ball-and-stick** representation."
   ]
  },
  {
   "cell_type": "code",
   "execution_count": 84,
   "metadata": {
    "scrolled": true
   },
   "outputs": [
    {
     "data": {
      "application/vnd.jupyter.widget-view+json": {
       "model_id": "5ea1fca8cca740e3a176431a0c44f1af",
       "version_major": 2,
       "version_minor": 0
      },
      "text/plain": [
       "HBox(children=(NGLWidget(), NGLWidget()))"
      ]
     },
     "metadata": {},
     "output_type": "display_data"
    }
   ],
   "source": [
    "from ipywidgets import HBox\n",
    "\n",
    "models = 'all'\n",
    "\n",
    "v0 = nglview.show_structure_file(output_vina_pdbqt, default=False)\n",
    "v0.add_representation(repr_type='licorice', \n",
    "                        selection=models,\n",
    "                       colorScheme= 'partialCharge')\n",
    "v0.center()\n",
    "v1 = nglview.show_structure_file(output_vina_pdbqt, default=False)\n",
    "v1.add_representation(repr_type='ball+stick', \n",
    "                        selection=models)\n",
    "v1.center()\n",
    "\n",
    "v0._set_size('500px', '')\n",
    "v1._set_size('500px', '')\n",
    "\n",
    "def on_change(change):\n",
    "    v1._set_camera_orientation(change['new'])\n",
    "    \n",
    "v0.observe(on_change, ['_camera_orientation'])\n",
    "\n",
    "HBox([v0, v1])"
   ]
  },
  {
   "cell_type": "markdown",
   "metadata": {},
   "source": [
    "<a id=\"selectPose\"></a>\n",
    "### Select Docking Pose\n",
    "Select a specific **docking pose** from the output list for **visual inspection**.\n",
    "<br>\n",
    "Choose a **docking pose** from the **DropDown list**."
   ]
  },
  {
   "cell_type": "code",
   "execution_count": 85,
   "metadata": {},
   "outputs": [
    {
     "data": {
      "application/vnd.jupyter.widget-view+json": {
       "model_id": "a8889ed8514e45d383dec6d77d4f627e",
       "version_major": 2,
       "version_minor": 0
      },
      "text/plain": [
       "Dropdown(description='Sel. model:', options=(('model0', 0), ('model1', 1), ('model2', 2), ('model3', 3), ('mod…"
      ]
     },
     "metadata": {},
     "output_type": "display_data"
    }
   ],
   "source": [
    "from Bio.PDB import PDBParser\n",
    "parser = PDBParser(QUIET = True)\n",
    "structure = parser.get_structure(\"protein\", output_vina_pdbqt)\n",
    "models = []\n",
    "for i, m in enumerate(structure):\n",
    "    models.append(('model' + str(i), i))\n",
    "    \n",
    "mdsel = ipywidgets.Dropdown(\n",
    "    options=models,\n",
    "    description='Sel. model:',\n",
    "    disabled=False,\n",
    ")\n",
    "display(mdsel)"
   ]
  },
  {
   "cell_type": "markdown",
   "metadata": {},
   "source": [
    "## Extracting Results"
   ]
  },
  {
   "cell_type": "markdown",
   "metadata": {},
   "source": [
    "### Extract a Docking Pose\n",
    "Extract a specific **docking pose** from the **docking** outputs. <br>\n",
    "\n",
    "***\n",
    "**Building Blocks** used:\n",
    " - [extract_model_pdbqt](https://biobb-vs.readthedocs.io/en/latest/utils.html#module-utils.extract_model_pdbqt) from **biobb_vs.utils.extract_model_pdbqt**\n",
    "***"
   ]
  },
  {
   "cell_type": "code",
   "execution_count": 86,
   "metadata": {},
   "outputs": [
    {
     "name": "stdout",
     "output_type": "stream",
     "text": [
      "2022-04-27 17:16:12,609 [MainThread  ] [INFO ]  Saving model 1 to output_model.pdbqt\n"
     ]
    }
   ],
   "source": [
    "from biobb_vs.utils.extract_model_pdbqt import extract_model_pdbqt\n",
    "\n",
    "output_pdbqt_model = \"output_model.pdbqt\"\n",
    "prop = {\n",
    "    \"model\": mdsel.value + 1\n",
    "}\n",
    "\n",
    "extract_model_pdbqt(input_pdbqt_path  = output_vina_pdbqt,\n",
    "                    output_pdbqt_path = output_pdbqt_model,\n",
    "                    properties        = prop);"
   ]
  },
  {
   "cell_type": "markdown",
   "metadata": {},
   "source": [
    "### Converting Ligand Pose to PDB format\n",
    "Converting **ligand pose** to **PDB format**. <br>\n",
    "\n",
    "***\n",
    "**Building Blocks** used:\n",
    " - [babel_convert](https://biobb-chemistry.readthedocs.io/en/latest/babelm.html#module-babelm.babel_convert) from **biobb_chemistry.babelm.babel_convert**\n",
    "***"
   ]
  },
  {
   "cell_type": "code",
   "execution_count": 87,
   "metadata": {},
   "outputs": [
    {
     "name": "stdout",
     "output_type": "stream",
     "text": [
      "2022-04-27 17:16:14,221 [MainThread  ] [INFO ]  Value  is not compatible as a coordinates value\n",
      "2022-04-27 17:16:14,222 [MainThread  ] [INFO ]  Not using any container\n",
      "2022-04-27 17:16:14,264 [MainThread  ] [INFO ]  obabel -ipdbqt output_model.pdbqt -opdb -Ooutput_model.pdb  \n",
      "\n",
      "2022-04-27 17:16:14,265 [MainThread  ] [INFO ]  Exit code 0\n",
      "\n",
      "2022-04-27 17:16:14,267 [MainThread  ] [INFO ]  1 molecule converted\n",
      "\n"
     ]
    }
   ],
   "source": [
    "from biobb_chemistry.babelm.babel_convert import babel_convert\n",
    "\n",
    "output_pdb_model = \"output_model.pdb\"\n",
    "prop = {\n",
    "    \"input_format\": \"pdbqt\",\n",
    "    \"output_format\": \"pdb\",\n",
    "    \"obabel_path\": \"obabel\"\n",
    "}\n",
    "\n",
    "babel_convert(input_path  = output_pdbqt_model,\n",
    "              output_path = output_pdb_model,\n",
    "              properties  = prop);"
   ]
  },
  {
   "cell_type": "markdown",
   "metadata": {},
   "source": [
    "### Superposing Ligand Pose to the Target Protein Structure\n",
    "- Superposing **ligand pose** to the target **protein structure**, in order to see the **protein-ligand docking conformation**.\n",
    "\n",
    "- Building a new **PDB file** with both **target and ligand** (binding pose) structures. <br>\n",
    "\n",
    "***\n",
    "**Building Blocks** used:\n",
    " - [cat_pdb](https://biobb-structure-utils.readthedocs.io/en/latest/utils.html#module-utils.cat_pdb) from **biobb_structure_utils.utils.cat_pdb**\n",
    "***"
   ]
  },
  {
   "cell_type": "code",
   "execution_count": 88,
   "metadata": {
    "scrolled": true
   },
   "outputs": [
    {
     "name": "stdout",
     "output_type": "stream",
     "text": [
      "2022-04-27 17:16:24,128 [MainThread  ] [INFO ]  File output_structure.pdb created\n"
     ]
    }
   ],
   "source": [
    "from biobb_structure_utils.utils.cat_pdb import cat_pdb\n",
    "\n",
    "output_structure = \"output_structure.pdb\"\n",
    "\n",
    "cat_pdb(input_structure1 = pdb_protein,\n",
    "             input_structure2 = output_pdb_model,\n",
    "             output_structure_path = output_structure);"
   ]
  },
  {
   "cell_type": "markdown",
   "metadata": {},
   "source": [
    "<a id=\"viewFinal\"></a>\n",
    "### Visualizing Protein-Ligand Complex\n",
    "Visualizing and comparing the generated **protein-ligand** complex.\n",
    "- **Licorice, element-colored** representation: **Experimental pose**.\n",
    "- **Licorice, green-colored** representation: **Docking pose**.\n",
    "<br>\n",
    "\n",
    "Note that outputs from **AutoDock Vina** don't contain all the atoms, as the program works with a **united-atom representation** (i.e. only polar hydrogens)."
   ]
  },
  {
   "cell_type": "code",
   "execution_count": 99,
   "metadata": {
    "scrolled": true
   },
   "outputs": [
    {
     "data": {
      "application/vnd.jupyter.widget-view+json": {
       "model_id": "c78414c6a2964d3fb4cafc2b892427cb",
       "version_major": 2,
       "version_minor": 0
      },
      "text/plain": [
       "NGLWidget()"
      ]
     },
     "metadata": {},
     "output_type": "display_data"
    }
   ],
   "source": [
    "view = nglview.NGLWidget()\n",
    "\n",
    "# v1 = Protein Structure\n",
    "v1 = view.add_component(pdb_protein)\n",
    "\n",
    "v1.clear()\n",
    "# v2 = Docking result\n",
    "v2 = view.add_component(output_structure)\n",
    "v2.clear()\n",
    "v2.add_representation(repr_type='cartoon', colorScheme = 'sstruc')\n",
    "v2.add_representation(repr_type='licorice', radius=0.5, color= 'green', selection='UNL')\n",
    "\n",
    "view._remote_call('setSize', target='Widget', args=['','600px'])\n",
    "view\n",
    "\n",
    "# align reference and output\n",
    "code = \"\"\"\n",
    "var stage = this.stage;\n",
    "var clist_len = stage.compList.length;\n",
    "var i = 0;\n",
    "var s = [];\n",
    "for(i = 0; i <= clist_len; i++){\n",
    "    if(stage.compList[i] != undefined && stage.compList[i].structure != undefined) {        \n",
    "       s.push(stage.compList[i])\n",
    "    }\n",
    "}\n",
    "NGL.superpose(s[0].structure, s[1].structure, true, \".CA\")\n",
    "s[ 0 ].updateRepresentations({ position: true })\n",
    "s[ 0 ].autoView()\n",
    "\"\"\"\n",
    "\n",
    "view._execute_js_code(code)\n",
    "\n",
    "view"
   ]
  }
 ],
 "metadata": {
  "kernelspec": {
   "display_name": "Python 3 (ipykernel)",
   "language": "python",
   "name": "python3"
  },
  "language_info": {
   "codemirror_mode": {
    "name": "ipython",
    "version": 3
   },
   "file_extension": ".py",
   "mimetype": "text/x-python",
   "name": "python",
   "nbconvert_exporter": "python",
   "pygments_lexer": "ipython3",
   "version": "3.7.12"
  },
  "toc": {
   "base_numbering": 1,
   "nav_menu": {},
   "number_sections": true,
   "sideBar": true,
   "skip_h1_title": false,
   "title_cell": "Docking Bcl-2 with Genistein - Domains",
   "title_sidebar": "DockBiobb",
   "toc_cell": true,
   "toc_position": {
    "height": "calc(100% - 180px)",
    "left": "10px",
    "top": "150px",
    "width": "390.125px"
   },
   "toc_section_display": true,
   "toc_window_display": true
  }
 },
 "nbformat": 4,
 "nbformat_minor": 4
}
