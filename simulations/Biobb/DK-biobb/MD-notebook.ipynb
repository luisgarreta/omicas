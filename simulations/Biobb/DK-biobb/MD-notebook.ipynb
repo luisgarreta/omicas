{
 "cells": [
  {
   "cell_type": "markdown",
   "metadata": {},
   "source": [
    "# Protein Ligand Complex MD Setup using BioExcel Building Blocks (biobb) and Gromacs"
   ]
  },
  {
   "cell_type": "markdown",
   "metadata": {},
   "source": [
    "## Introduction\n",
    "\n",
    "***\n",
    "This notebook illustrate the process of **setting up a simulation system** containing a **protein (bcl-2, pdbcode 2xa0) in complex with a ligand (Genestein, Pubchem CID 5280961)**.\n",
    "\n",
    "We are using different open source tools wrapped into Python **BioExcel Building Blocks library (biobb)**. \n",
    "\n",
    "For molecular dynamics we are using the Gromacs MD tools wrapped into the biobb library.\n",
    "\n",
    "Based on the official Gromacs tutorial: http://www.mdtutorials.com/gmx/complex/index.html\n",
    "\n",
    "***\n",
    "**Biobb modules** used:\n",
    "\n",
    " - [biobb_io](https://github.com/bioexcel/biobb_io): Tools to fetch biomolecular data from public databases.\n",
    " - [biobb_model](https://github.com/bioexcel/biobb_model): Tools to model macromolecular structures.\n",
    " - [biobb_chemistry](https://github.com/bioexcel/biobb_chemistry): Tools to manipulate chemical data.\n",
    " - [biobb_md](https://github.com/bioexcel/biobb_md): Tools to setup and run Molecular Dynamics simulations.\n",
    " - [biobb_analysis](https://github.com/bioexcel/biobb_analysis): Tools to analyse Molecular Dynamics trajectories.\n",
    " - [biobb_structure_utils](https://github.com/bioexcel/biobb_structure_utils):  Tools to modify or extract information from a PDB structure file.\n",
    " \n",
    "**Auxiliar libraries** used:\n",
    "\n",
    " - [nb_conda_kernels](https://github.com/Anaconda-Platform/nb_conda_kernels): Enables a Jupyter Notebook or JupyterLab application in one conda environment to access kernels for Python, R, and other languages found in other environments.\n",
    " - [nglview](http://nglviewer.org/#nglview): Jupyter/IPython widget to interactively view molecular structures and trajectories in notebooks.\n",
    " - [ipywidgets](https://github.com/jupyter-widgets/ipywidgets): Interactive HTML widgets for Jupyter notebooks and the IPython kernel.\n",
    " - [os](https://docs.python.org/3/library/os.html): Python miscellaneous operating system interfaces\n",
    " - [plotly](https://plot.ly/python/offline/): Python interactive graphing library integrated in Jupyter notebooks.\n",
    " - [simpletraj](https://github.com/arose/simpletraj): Lightweight coordinate-only trajectory reader based on code from GROMACS, MDAnalysis and VMD.\n",
    "\n",
    "\n",
    "### Conda Installation and Launch\n",
    "\n",
    "```console\n",
    "git clone https://github.com/bioexcel/biobb_wf_protein-complex_md_setup.git\n",
    "cd biobb_wf_protein-complex_md_setup\n",
    "conda env create -f conda_env/environment.yml\n",
    "conda activate biobb_Protein-Complex_MDsetup_tutorial\n",
    "jupyter-nbextension enable --py --user widgetsnbextension\n",
    "jupyter-nbextension enable --py --user nglview\n",
    "jupyter-notebook biobb_wf_protein-complex_md_setup/notebooks/biobb_Protein-Complex_MDsetup_tutorial.ipynb\n",
    "  ``` \n",
    "\n",
    "***\n",
    "### Pipeline steps:\n",
    " 1. [Introduction](#intro)\n",
    " 2. [Input Parameters](#input)\n",
    " 3. [Extract Protein and Ligand Structures](#extract)\n",
    " 4. [Fix Protein Structure](#fix)\n",
    " 5. [Create Protein System Topology](#top)\n",
    " 6. [Create ligand system topology](#ligtop)\n",
    " 7. [Preparing Ligand Restraints](#restraints)\n",
    " 8. [Create new protein-ligand complex structure file](#complex)\n",
    " 9. [Create new protein-ligand complex topology file](#complextop)\n",
    " 10. [Create Solvent Box](#box)\n",
    " 11. [Fill the Box with Water Molecules](#water)\n",
    " 12. [Adding Ions](#ions)\n",
    " 13. [Energetically Minimize the System](#min)\n",
    " 14. [Equilibrate the System (NVT)](#nvt)\n",
    " 15. [Equilibrate the System (NPT)](#npt)\n",
    " 16. [Free Molecular Dynamics Simulation](#free)\n",
    " 17. [Post-processing and Visualizing Resulting 3D Trajectory](#post)\n",
    " 18. [Output Files](#output)"
   ]
  },
  {
   "cell_type": "markdown",
   "metadata": {},
   "source": [
    "<a id=\"input\"></a>\n",
    "## Input parameters\n",
    "**Input parameters** needed:\n",
    " - **dockedPdb**: PDB Complex resulting from docking process.\n",
    " - **pdbName**: PDB file of the protein-ligand complex structure resulting from docking process.\n",
    " - **ligandName**: Small molecule 3-letter code for the ligand structure (GEN for Genistein conformer).\n",
    " - **mol_charge**: Charge of the small molecule, needed to add hydrogen atoms."
   ]
  },
  {
   "cell_type": "code",
   "execution_count": 2,
   "metadata": {
    "scrolled": true
   },
   "outputs": [],
   "source": [
    "dockedPdb  = \"inputs/2xa0_A-Genistein.pdb\"\n",
    "pdbName    = \"protein\"\n",
    "ligandName = \"ligand\"\n",
    "ligandID   = \"GEN\"\n",
    "mol_charge = 0"
   ]
  },
  {
   "cell_type": "markdown",
   "metadata": {},
   "source": [
    "<a id=\"libraries\"></a>\n",
    "## Libraries and Functions"
   ]
  },
  {
   "cell_type": "code",
   "execution_count": 3,
   "metadata": {},
   "outputs": [],
   "source": [
    "import nglview\n",
    "import ipywidgets\n",
    "import os\n",
    "import zipfile"
   ]
  },
  {
   "cell_type": "code",
   "execution_count": 4,
   "metadata": {},
   "outputs": [
    {
     "data": {
      "application/vnd.jupyter.widget-view+json": {
       "model_id": "983901271de642fb976d4a2854fca721",
       "version_major": 2,
       "version_minor": 0
      },
      "text/plain": [
       "NGLWidget()"
      ]
     },
     "metadata": {},
     "output_type": "display_data"
    }
   ],
   "source": [
    "# Show protein-ligand complex\n",
    "nglview.show_structure_file(dockedPdb)"
   ]
  },
  {
   "cell_type": "markdown",
   "metadata": {},
   "source": [
    "<img src='images/img00.png' style='float: center;width:15%'></img>"
   ]
  },
  {
   "cell_type": "markdown",
   "metadata": {},
   "source": [
    "<a id=\"extract\"></a>\n",
    "## Extracting Protein, Ligand and Protein-Ligand Complex"
   ]
  },
  {
   "cell_type": "code",
   "execution_count": 5,
   "metadata": {
    "scrolled": true
   },
   "outputs": [
    {
     "name": "stdout",
     "output_type": "stream",
     "text": [
      ">>> Files: inputs/2xa0_A-Genistein.pdb GEN protein.pdb ligand.pdb protein_ligand.pdb\n"
     ]
    }
   ],
   "source": [
    "# Extracting Protein, Ligand and Protein-Ligand Complex to three different files\n",
    "# Import module\n",
    "from biobb_structure_utils.utils.extract_heteroatoms import extract_heteroatoms\n",
    "from biobb_structure_utils.utils.extract_molecule import extract_molecule\n",
    "from biobb_structure_utils.utils.cat_pdb import cat_pdb\n",
    "\n",
    "# Create inputs/outputs\n",
    "proteinFile = pdbName     +'.pdb'\n",
    "ligandFile  = ligandName  +'.pdb'\n",
    "complexFile = pdbName+'_' + ligandName + '.pdb'\n",
    "print (\">>> Files:\", dockedPdb, ligandID, proteinFile, ligandFile, complexFile)"
   ]
  },
  {
   "cell_type": "code",
   "execution_count": 6,
   "metadata": {
    "scrolled": true
   },
   "outputs": [
    {
     "name": "stdout",
     "output_type": "stream",
     "text": [
      "\n",
      ">>> Extracting molecule...\n",
      "2022-04-22 10:33:46,557 [MainThread  ] [INFO ]  Creating 7c67e2a7-be10-47c1-852f-55af11b17631 temporary folder\n",
      "2022-04-22 10:33:47,094 [MainThread  ] [INFO ]  check_structure -i /home/lg/repos/javerianaMD/simulation/md-biobb/inputs/2xa0_A-Genistein.pdb -o protein.pdb --force_save --non_interactive command_list --list 7c67e2a7-be10-47c1-852f-55af11b17631/extract_prot.lst\n",
      "\n",
      "2022-04-22 10:33:47,096 [MainThread  ] [INFO ]  Exit code 0\n",
      "\n",
      "2022-04-22 10:33:47,097 [MainThread  ] [INFO ]  ===============================================================================\n",
      "=                   BioBB structure checking utility v3.8.1                   =\n",
      "=                 A. Hospital, P. Andrio, J.L. Gelpi 2018-21                  =\n",
      "===============================================================================\n",
      "\n",
      "Warning: sequence features only available in mmCIF format or with external fasta input\n",
      "Structure /home/lg/repos/javerianaMD/simulation/md-biobb/inputs/2xa0_A-Genistein.pdb loaded\n",
      " Title: \n",
      " Experimental method: unknown\n",
      " Resolution (A): N.A.\n",
      "\n",
      " Num. models: 1\n",
      " Num. chains: 2 ( : Unknown (P:0.0% DNA:0.0% RNA:0.0% UNK:100.0%), A: Protein)\n",
      " Num. residues:  138\n",
      " Num. residues with ins. codes:  0\n",
      " Num. HETATM residues:  1\n",
      " Num. ligands or modified residues:  1\n",
      " Num. water mol.:  0\n",
      " Num. atoms:  1147\n",
      "Modified residues found\n",
      "GEN  0\n",
      "\n",
      "\n",
      "Step 1: ligands --remove All\n",
      "\n",
      "Running ligands. Options: --remove All\n",
      "1 Ligands detected\n",
      " GEN  0\n",
      "Ligands removed All (1)\n",
      "\n",
      "Step 2: water --remove Yes\n",
      "\n",
      "Running water. Options: --remove Yes\n",
      "No water molecules found\n",
      "Command list completed\n",
      "Final Num. models: 1\n",
      "Final Num. chains: 2 ( : Unknown (P:0.0% DNA:0.0% RNA:0.0% UNK:100.0%), A: Protein)\n",
      "Final Num. residues:  137\n",
      "Final Num. residues with ins. codes:  0\n",
      "Final Num. HETATM residues:  0\n",
      "Final Num. ligands or modified residues:  0\n",
      "Final Num. water mol.:  0\n",
      "Final Num. atoms:  1145\n",
      "Structure saved on protein.pdb\n",
      "\n",
      "2022-04-22 10:33:47,099 [MainThread  ] [INFO ]  Removing 7c67e2a7-be10-47c1-852f-55af11b17631 temporary folder\n",
      "\n",
      ">>> Extracting ligand...\n",
      "2022-04-22 10:33:47,137 [MainThread  ] [INFO ]  File ligand.pdb created\n",
      "\n",
      ">>> Creating complex...\n",
      "2022-04-22 10:33:47,142 [MainThread  ] [INFO ]  File protein_ligand.pdb created\n"
     ]
    },
    {
     "data": {
      "text/plain": [
       "0"
      ]
     },
     "execution_count": 6,
     "metadata": {},
     "output_type": "execute_result"
    }
   ],
   "source": [
    "# Extract molecule\n",
    "print (\"\\n>>> Extracting molecule...\")\n",
    "extract_molecule(input_structure_path=dockedPdb,\n",
    "     output_molecule_path=proteinFile)\n",
    "\n",
    "# Extract ligand \n",
    "print (\"\\n>>> Extracting ligand...\")\n",
    "prop = {\n",
    "     'heteroatoms' : [{\"name\": ligandID}]\n",
    "}\n",
    "\n",
    "extract_heteroatoms(input_structure_path=dockedPdb,\n",
    "     output_heteroatom_path=ligandFile, properties=prop)\n",
    "\n",
    "\n",
    "# Create complex\n",
    "print (\"\\n>>> Creating complex...\")\n",
    "cat_pdb(input_structure1=proteinFile, input_structure2=ligandFile,\n",
    "       output_structure_path=complexFile)"
   ]
  },
  {
   "cell_type": "markdown",
   "metadata": {},
   "source": [
    "### Visualizing 3D structures "
   ]
  },
  {
   "cell_type": "code",
   "execution_count": 7,
   "metadata": {
    "scrolled": false
   },
   "outputs": [
    {
     "data": {
      "application/vnd.jupyter.widget-view+json": {
       "model_id": "2763f59bd18e4400a28c87060ef7752c",
       "version_major": 2,
       "version_minor": 0
      },
      "text/plain": [
       "HBox(children=(NGLWidget(), NGLWidget(), NGLWidget()))"
      ]
     },
     "metadata": {},
     "output_type": "display_data"
    }
   ],
   "source": [
    "# Show structures: protein, ligand and protein-ligand complex\n",
    "view1 = nglview.show_structure_file(proteinFile)\n",
    "view1._remote_call('setSize', target='Widget', args=['350px','400px'])\n",
    "view1\n",
    "view2 = nglview.show_structure_file(ligandFile)\n",
    "view2.add_representation(repr_type='ball+stick')\n",
    "view2._remote_call('setSize', target='Widget', args=['350px','400px'])\n",
    "view2\n",
    "view3 = nglview.show_structure_file(complexFile)\n",
    "view3.add_representation(repr_type='licorice', radius='.5', selection=ligandName)\n",
    "view3._remote_call('setSize', target='Widget', args=['350px','400px'])\n",
    "view3\n",
    "ipywidgets.HBox([view1, view2, view3])"
   ]
  },
  {
   "cell_type": "markdown",
   "metadata": {},
   "source": [
    "<img src='images/img01.png' style='float: center;width:50%'></img>"
   ]
  },
  {
   "cell_type": "markdown",
   "metadata": {},
   "source": [
    "<a id=\"fix\"></a>\n",
    "***\n",
    "## Fix protein structure\n",
    "**Checking** and **fixing** (if needed) the protein structure:<br>\n",
    "- **Modeling** **missing side-chain atoms**, modifying incorrect **amide assignments**, choosing **alternative locations**.<br>\n",
    "- **Checking** for missing **backbone atoms**, **heteroatoms**, **modified residues** and possible **atomic clashes**.\n",
    "***\n",
    "**Building Blocks** used:\n",
    " - [FixSideChain](https://biobb-model.readthedocs.io/en/latest/model.html#module-model.fix_side_chain) from **biobb_model.model.fix_side_chain**\n",
    "\n",
    "Class to model the missing atoms in amino acid side chains of a PDB.\n",
    "Model the missing atoms in amino acid side chains of a PDB using biobb_structure_checking if the use_modeller property is added the Modeller suite will also be used to rebuild the missing atoms.\n",
    "***"
   ]
  },
  {
   "cell_type": "code",
   "execution_count": 8,
   "metadata": {},
   "outputs": [
    {
     "name": "stdout",
     "output_type": "stream",
     "text": [
      "2022-04-22 10:33:48,117 [MainThread  ] [INFO ]  check_structure -i protein.pdb -o protein_fixed.pdb --force_save fixside --fix ALL\n",
      "\n",
      "2022-04-22 10:33:48,119 [MainThread  ] [INFO ]  Exit code 0\n",
      "\n",
      "2022-04-22 10:33:48,120 [MainThread  ] [INFO ]  ===============================================================================\n",
      "=                   BioBB structure checking utility v3.8.1                   =\n",
      "=                 A. Hospital, P. Andrio, J.L. Gelpi 2018-21                  =\n",
      "===============================================================================\n",
      "\n",
      "Warning: sequence features only available in mmCIF format or with external fasta input\n",
      "Structure protein.pdb loaded\n",
      " Title: \n",
      " Experimental method: unknown\n",
      " Resolution (A): N.A.\n",
      "\n",
      " Num. models: 1\n",
      " Num. chains: 1 (A: Protein)\n",
      " Num. residues:  137\n",
      " Num. residues with ins. codes:  0\n",
      " Num. HETATM residues:  0\n",
      " Num. ligands or modified residues:  0\n",
      " Num. water mol.:  0\n",
      " Num. atoms:  1145\n",
      "\n",
      "Running fixside. Options: --fix ALL\n",
      "No residues with missing or unknown side chain atoms found\n",
      "Structure not modified, saving due to --force_save option\n",
      "Final Num. models: 1\n",
      "Final Num. chains: 1 (A: Protein)\n",
      "Final Num. residues:  137\n",
      "Final Num. residues with ins. codes:  0\n",
      "Final Num. HETATM residues:  0\n",
      "Final Num. ligands or modified residues:  0\n",
      "Final Num. water mol.:  0\n",
      "Final Num. atoms:  1145\n",
      "Structure saved on protein_fixed.pdb\n",
      "\n",
      "2022-04-22 10:33:48,121 [MainThread  ] [INFO ]  Removed: []\n"
     ]
    },
    {
     "data": {
      "text/plain": [
       "0"
      ]
     },
     "execution_count": 8,
     "metadata": {},
     "output_type": "execute_result"
    }
   ],
   "source": [
    "# Check & Fix Protein Structure\n",
    "# Import module\n",
    "from biobb_model.model.fix_side_chain import fix_side_chain\n",
    "\n",
    "# Create prop dict and inputs/outputs\n",
    "fixed_pdb = pdbName +  '_fixed.pdb'\n",
    "\n",
    "# Create and launch bb\n",
    "fix_side_chain(input_pdb_path=proteinFile, \n",
    "               output_pdb_path=fixed_pdb)"
   ]
  },
  {
   "cell_type": "code",
   "execution_count": 9,
   "metadata": {
    "scrolled": false
   },
   "outputs": [
    {
     "data": {
      "application/vnd.jupyter.widget-view+json": {
       "model_id": "71bd749c6bb44b9b9cd58bbbcc830453",
       "version_major": 2,
       "version_minor": 0
      },
      "text/plain": [
       "NGLWidget()"
      ]
     },
     "metadata": {},
     "output_type": "display_data"
    }
   ],
   "source": [
    "# Show structures: protein, ligand and protein-ligand complex\n",
    "view1 = nglview.show_structure_file(fixed_pdb, default_representation=False)\n",
    "view1.add_licorice(\n",
    "    \"sidechainAttached \"\n",
    ")  # color=\"#FF0000\" or color=0xFF0000 would also work!\n",
    "view1.center()\n",
    "view1"
   ]
  },
  {
   "cell_type": "markdown",
   "metadata": {},
   "source": [
    "<a id=\"top\"></a>\n",
    "***\n",
    "## Create protein system topology\n",
    "**Building GROMACS topology** corresponding to the protein structure.<br>\n",
    "- Force field used is [**amber99sb-ildn**](https://dx.doi.org/10.1002%2Fprot.22711): \n",
    "    * AMBER **parm99** force field with **corrections on backbone** (sb) and **side-chain torsion potentials** (ildn).<br>\n",
    "    \n",
    "- Water molecules type used is [**spc/e**](https://pubs.acs.org/doi/abs/10.1021/j100308a038).<br>\n",
    "- Adding **hydrogen atoms** if missing. Automatically identifying **disulfide bridges**. <br>\n",
    "\n",
    "Generating two output files: \n",
    "- **GROMACS structure** (gro file)\n",
    "- **GROMACS topology** ZIP compressed file containing:\n",
    "    - *GROMACS topology top file* (top file)\n",
    "    - *GROMACS position restraint file/s* (itp file/s)\n",
    "    \n",
    "***\n",
    "**Building Blocks** used:\n",
    " - [Pdb2gmx](https://biobb-md.readthedocs.io/en/latest/gromacs.html#module-gromacs.pdb2gmx) from **biobb_md.gromacs.pdb2gmx**\n",
    "\n",
    "The GROMACS pdb2gmx module, reads a .pdb (or .gro) file, reads some database files, adds hydrogens to the molecules and generates coordinates in GROMACS (GROMOS), or optionally .pdb, format and a topology in GROMACS format. These files can subsequently be processed to generate a run input file.\n",
    "\n",
    "***"
   ]
  },
  {
   "cell_type": "code",
   "execution_count": 10,
   "metadata": {
    "scrolled": true
   },
   "outputs": [
    {
     "name": "stdout",
     "output_type": "stream",
     "text": [
      "2022-04-22 10:33:48,273 [MainThread  ] [INFO ]  GROMACS Pdb2gmx 20191 version detected\n",
      "2022-04-22 10:33:48,275 [MainThread  ] [INFO ]  Not using any container\n",
      "2022-04-22 10:33:49,115 [MainThread  ] [INFO ]  gmx -nobackup -nocopyright pdb2gmx -f protein_fixed.pdb -o protein_pdb2gmx.gro -p p2g.top -water spce -ff amber99sb-ildn -i posre.itp\n",
      "\n",
      "2022-04-22 10:33:49,116 [MainThread  ] [INFO ]  Exit code 0\n",
      "\n",
      "2022-04-22 10:33:49,117 [MainThread  ] [INFO ]  \n",
      "Using the Amber99sb-ildn force field in directory amber99sb-ildn.ff\n",
      "\n",
      "going to rename amber99sb-ildn.ff/aminoacids.r2b\n",
      "going to rename amber99sb-ildn.ff/dna.r2b\n",
      "going to rename amber99sb-ildn.ff/rna.r2b\n",
      "Reading protein_fixed.pdb...\n",
      "Read '', 1145 atoms\n",
      "Analyzing pdb file\n",
      "Splitting chemical chains based on TER records or chain id changing.\n",
      "There are 1 chains and 0 blocks of water and 137 residues with 1145 atoms\n",
      "\n",
      "  chain  #res #atoms\n",
      "  1 'A'   137   1145  \n",
      "\n",
      "Reading residue database... (Amber99sb-ildn)\n",
      "Processing chain 1 'A' (1145 atoms, 137 residues)\n",
      "Identified residue ASP10 as a starting terminus.\n",
      "Identified residue MET206 as a ending terminus.\n",
      "Checking for duplicate atoms....\n",
      "Generating any missing hydrogen atoms and/or adding termini.\n",
      "Now there are 137 residues with 2232 atoms\n",
      "\t\t--------- PLEASE NOTE ------------\n",
      "You have successfully generated a topology from: protein_fixed.pdb.\n",
      "The Amber99sb-ildn force field and the spce water model are used.\n",
      "\t\t--------- ETON ESAELP ------------\n",
      "\n",
      "2022-04-22 10:33:49,118 [MainThread  ] [INFO ]                       :-) GROMACS - gmx pdb2gmx, 2019.1 (-:\n",
      "\n",
      "Executable:   /opt/miniconda3/envs/biobb_env/bin/gmx\n",
      "Data prefix:  /opt/miniconda3/envs/biobb_env\n",
      "Working dir:  /home/lg/repos/javerianaMD/simulation/md-biobb\n",
      "Command line:\n",
      "  gmx -nobackup -nocopyright pdb2gmx -f protein_fixed.pdb -o protein_pdb2gmx.gro -p p2g.top -water spce -ff amber99sb-ildn -i posre.itp\n",
      "\n",
      "Opening force field file /opt/miniconda3/envs/biobb_env/share/gromacs/top/amber99sb-ildn.ff/aminoacids.r2b\n",
      "Opening force field file /opt/miniconda3/envs/biobb_env/share/gromacs/top/amber99sb-ildn.ff/dna.r2b\n",
      "Opening force field file /opt/miniconda3/envs/biobb_env/share/gromacs/top/amber99sb-ildn.ff/rna.r2b\n",
      "All occupancies are one\n",
      "Opening force field file /opt/miniconda3/envs/biobb_env/share/gromacs/top/amber99sb-ildn.ff/atomtypes.atp\n",
      "Atomtype 67\n",
      "Opening force field file /opt/miniconda3/envs/biobb_env/share/gromacs/top/amber99sb-ildn.ff/aminoacids.rtp\n",
      "Residue 93\n",
      "Sorting it all out...\n",
      "Opening force field file /opt/miniconda3/envs/biobb_env/share/gromacs/top/amber99sb-ildn.ff/dna.rtp\n",
      "Residue 109\n",
      "Sorting it all out...\n",
      "Opening force field file /opt/miniconda3/envs/biobb_env/share/gromacs/top/amber99sb-ildn.ff/rna.rtp\n",
      "Residue 125\n",
      "Sorting it all out...\n",
      "Opening force field file /opt/miniconda3/envs/biobb_env/share/gromacs/top/amber99sb-ildn.ff/aminoacids.hdb\n",
      "Opening force field file /opt/miniconda3/envs/biobb_env/share/gromacs/top/amber99sb-ildn.ff/dna.hdb\n",
      "Opening force field file /opt/miniconda3/envs/biobb_env/share/gromacs/top/amber99sb-ildn.ff/rna.hdb\n",
      "Opening force field file /opt/miniconda3/envs/biobb_env/share/gromacs/top/amber99sb-ildn.ff/aminoacids.n.tdb\n",
      "Opening force field file /opt/miniconda3/envs/biobb_env/share/gromacs/top/amber99sb-ildn.ff/aminoacids.c.tdb\n",
      "Analysing hydrogen-bonding network for automated assignment of histidine\n",
      " protonation. 222 donors and 204 acceptors were found.\n",
      "There are 265 hydrogen bonds\n",
      "Will use HISE for residue 20\n",
      "Will use HISE for residue 94\n",
      "Will use HISE for residue 120\n",
      "Will use HISE for residue 184\n",
      "Will use HISE for residue 186\n",
      "8 out of 8 lines of specbond.dat converted successfully\n",
      "Special Atom Distance matrix:\n",
      "                   MET16   HIS20   HIS94  MET115  HIS120  MET157  CYS158\n",
      "                    SD58   NE298  NE2224   SD405  NE2445   SD741   SG748\n",
      "   HIS20   NE298   1.001\n",
      "   HIS94  NE2224   1.071   1.232\n",
      "  MET115   SD405   1.962   2.045   2.205\n",
      "  HIS120  NE2445   2.751   2.865   3.330   1.302\n",
      "  MET157   SD741   1.543   1.938   2.194   0.905   1.278\n",
      "  CYS158   SG748   0.947   1.214   1.650   1.164   1.823   0.731\n",
      "  MET166   SD812   1.924   2.082   2.792   1.645   1.299   1.024   1.158\n",
      "  MET177   SD899   0.912   1.466   1.416   1.149   2.031   0.801   0.572\n",
      "  HIS184  NE2965   1.848   2.720   2.297   2.014   2.534   1.506   1.792\n",
      "  HIS186  NE2983   1.759   2.563   1.594   2.576   3.535   2.345   2.225\n",
      "  MET206  SD1143   2.146   1.956   1.301   2.084   3.373   2.568   2.217\n",
      "                  MET166  MET177  HIS184  HIS186\n",
      "                   SD812   SD899  NE2965  NE2983\n",
      "  MET177   SD899   1.598\n",
      "  HIS184  NE2965   2.321   1.346\n",
      "  HIS186  NE2983   3.182   1.698   1.371\n",
      "  MET206  SD1143   3.294   1.977   2.872   2.271\n",
      "Opening force field file /opt/miniconda3/envs/biobb_env/share/gromacs/top/amber99sb-ildn.ff/aminoacids.arn\n",
      "Opening force field file /opt/miniconda3/envs/biobb_env/share/gromacs/top/amber99sb-ildn.ff/dna.arn\n",
      "Opening force field file /opt/miniconda3/envs/biobb_env/share/gromacs/top/amber99sb-ildn.ff/rna.arn\n",
      "Making bonds...\n",
      "Warning: Long Bond (390-392 = 1.8559 nm)\n",
      "Number of bonds was 2265, now 2264\n",
      "Generating angles, dihedrals and pairs...\n",
      "Before cleaning: 5857 pairs\n",
      "Before cleaning: 6144 dihedrals\n",
      "Keeping all generated dihedrals\n",
      "Making cmap torsions...\n",
      "There are 6144 dihedrals,  509 impropers, 4042 angles\n",
      "          5797 pairs,     2264 bonds and     0 virtual sites\n",
      "Total mass 16211.446 a.m.u.\n",
      "Total charge -4.000 e\n",
      "Writing topology\n",
      "\n",
      "Writing coordinate file...\n",
      "\n",
      "GROMACS reminds you: \"Teaching quantum computing is like teaching computer science at Hogwarts.\" (Thomas Sterling, ISC2018 keynote)\n",
      "\n",
      "\n",
      "2022-04-22 10:33:49,118 [MainThread  ] [INFO ]  Compressing topology to: protein_pdb2gmx_top.zip\n",
      "2022-04-22 10:33:49,120 [MainThread  ] [INFO ]  Ignored file amber99sb-ildn.ff/forcefield.itp\n",
      "2022-04-22 10:33:49,133 [MainThread  ] [INFO ]  Ignored file amber99sb-ildn.ff/spce.itp\n",
      "2022-04-22 10:33:49,134 [MainThread  ] [INFO ]  Ignored file amber99sb-ildn.ff/ions.itp\n",
      "2022-04-22 10:33:49,141 [MainThread  ] [INFO ]  Adding:\n",
      "2022-04-22 10:33:49,146 [MainThread  ] [INFO ]  ['p2g.top', 'posre.itp']\n",
      "2022-04-22 10:33:49,150 [MainThread  ] [INFO ]  to: /home/lg/repos/javerianaMD/simulation/md-biobb/protein_pdb2gmx_top.zip\n",
      "2022-04-22 10:33:49,153 [MainThread  ] [INFO ]  Removed: ['p2g.top', 'posre.itp']\n"
     ]
    },
    {
     "data": {
      "text/plain": [
       "0"
      ]
     },
     "execution_count": 10,
     "metadata": {},
     "output_type": "execute_result"
    }
   ],
   "source": [
    "# Create Protein system topology\n",
    "# Import module\n",
    "from biobb_md.gromacs.pdb2gmx import pdb2gmx\n",
    "\n",
    "# Create inputs/outputs\n",
    "output_pdb2gmx_gro     = pdbName + '_pdb2gmx.gro'\n",
    "output_pdb2gmx_top_zip = pdbName + '_pdb2gmx_top.zip'\n",
    "prop = {\n",
    "    'force_field' : 'amber99sb-ildn',\n",
    "    'water_type': 'spce'\n",
    "}\n",
    "\n",
    "# Create and launch bb\n",
    "pdb2gmx(input_pdb_path=fixed_pdb,\n",
    "        output_gro_path=output_pdb2gmx_gro,\n",
    "        output_top_zip_path=output_pdb2gmx_top_zip,\n",
    "        properties=prop)"
   ]
  },
  {
   "cell_type": "markdown",
   "metadata": {},
   "source": [
    "<a id=\"ligtop\"></a>\n",
    "***\n",
    "## Create ligand system topology\n",
    "- **Building GROMACS topology** corresponding to the ligand structure.<br>\n",
    "- Force field used is **amberGAFF**: [General AMBER Force Field](http://ambermd.org/antechamber/gaff.html), designed for rational drug design.<br>\n",
    "- [Step 1](#ligandTopologyStep1): Add **hydrogen atoms** if missing.\n",
    "- [Step 2](#ligandTopologyStep2): **Energetically minimize the system** with the new hydrogen atoms. \n",
    "- [Step 3](#ligandTopologyStep3): Generate **ligand topology** (parameters). \n",
    "\n",
    "***\n",
    "**Building Blocks** used:\n",
    " - [ReduceAddHydrogens](https://biobb-chemistry.readthedocs.io/en/latest/ambertools.html#module-ambertools.reduce_add_hydrogens) from **biobb_chemistry.ambertools.reduce_add_hydrogens**: \n",
    "     * Module for adding hydrogens to a given structure.\n",
    " \n",
    " \n",
    " - [BabelMinimize](https://biobb-chemistry.readthedocs.io/en/latest/babelm.html#module-babelm.babel_minimize) from **biobb_chemistry.babelm.babel_minimize**:\n",
    "     * Energetically minimizes small molecules. \n",
    "     \n",
    " \n",
    " - [AcpypeParamsGMX](https://biobb-chemistry.readthedocs.io/en/latest/acpype.html#module-acpype.acpype_params_gmx) from **biobb_chemistry.acpype.acpype_params_gmx**:\n",
    "     * Acpype is a tool based in Python to use Antechamber to generate topologies for chemical compounds and to interface with others python applications like CCPN or ARIA\n",
    "***"
   ]
  },
  {
   "cell_type": "markdown",
   "metadata": {},
   "source": [
    "<a id=\"ligandTopologyStep1\"></a>\n",
    "### Step 1: Add **hydrogen atoms**"
   ]
  },
  {
   "cell_type": "code",
   "execution_count": 11,
   "metadata": {
    "scrolled": true
   },
   "outputs": [
    {
     "name": "stdout",
     "output_type": "stream",
     "text": [
      "2022-04-22 10:33:49,171 [MainThread  ] [INFO ]  Not using any container\n",
      "2022-04-22 10:33:49,322 [MainThread  ] [INFO ]  reduce -NUClear -OH -ROTNH3 -ALLALT ligand.pdb > ligand_reduce_H.pdb\n",
      "\n",
      "2022-04-22 10:33:49,323 [MainThread  ] [INFO ]  Exit code 0\n",
      "\n",
      "2022-04-22 10:33:49,325 [MainThread  ] [INFO ]  reduce: version 3.3 06/02/2016, Copyright 1997-2016, J. Michael Word\n",
      "Processing file: \"ligand.pdb\"\n",
      "Database of HETATM connections: \"/opt/miniconda3/envs/biobb_env//dat/reduce_wwPDB_het_dict.txt\"\n",
      "VDW dot density = 16/A^2\n",
      "Orientation penalty scale = 1 (100%)\n",
      "Eliminate contacts within 3 bonds.\n",
      "Ignore atoms with |occupancy| <= 0.01 during adjustments.\n",
      "Waters ignored if B-Factor >= 40 or |occupancy| < 0.66\n",
      "Aromatic rings in amino acids accept hydrogen bonds.\n",
      "Building or keeping OH & SH Hydrogens.\n",
      "Rotating NH3 Hydrogens.\n",
      "Not processing Met methyls.\n",
      "Found 0 hydrogens (0 hets)\n",
      "Standardized 0 hydrogens (0 hets)\n",
      "Added 0 hydrogens (0 hets)\n",
      "Removed 0 hydrogens (0 hets)\n",
      "If you publish work which uses reduce, please cite:\n",
      "Word, et. al. (1999) J. Mol. Biol. 285, 1735-1747.\n",
      "For more information see http://kinemage.biochem.duke.edu\n",
      "\n"
     ]
    },
    {
     "data": {
      "text/plain": [
       "0"
      ]
     },
     "execution_count": 11,
     "metadata": {},
     "output_type": "execute_result"
    }
   ],
   "source": [
    "# Create Ligand system topology, STEP 1\n",
    "# Reduce_add_hydrogens: add Hydrogen atoms to a small molecule (using Reduce tool from Ambertools package)\n",
    "# Import module\n",
    "from biobb_chemistry.ambertools.reduce_add_hydrogens import reduce_add_hydrogens\n",
    "\n",
    "# Create prop dict and inputs/outputs\n",
    "output_reduce_h = ligandName + '_reduce_H.pdb' \n",
    "prop = {\n",
    "    'nuclear' : 'true'\n",
    "}\n",
    "\n",
    "# Create and launch bb\n",
    "reduce_add_hydrogens(input_path=ligandFile,\n",
    "                   output_path=output_reduce_h,\n",
    "                   properties=prop)\n"
   ]
  },
  {
   "cell_type": "markdown",
   "metadata": {},
   "source": [
    "<a id=\"ligandTopologyStep2\"></a>\n",
    "### Step 2: **Energetically minimize the system** with the new hydrogen atoms. "
   ]
  },
  {
   "cell_type": "code",
   "execution_count": 12,
   "metadata": {},
   "outputs": [
    {
     "name": "stdout",
     "output_type": "stream",
     "text": [
      "2022-04-22 10:33:49,339 [MainThread  ] [INFO ]  Hydrogens  is not correct, assigned default value: False\n",
      "2022-04-22 10:33:49,340 [MainThread  ] [INFO ]  Steps  is not correct, assigned default value: 2500\n",
      "2022-04-22 10:33:49,341 [MainThread  ] [INFO ]  Cut-off  is not correct, assigned default value: False\n",
      "2022-04-22 10:33:49,342 [MainThread  ] [INFO ]  Rvdw  is not correct, assigned default value: 6.0\n",
      "2022-04-22 10:33:49,344 [MainThread  ] [INFO ]  Rele  is not correct, assigned default value: 10.0\n",
      "2022-04-22 10:33:49,345 [MainThread  ] [INFO ]  Frequency  is not correct, assigned default value: 10\n",
      "2022-04-22 10:33:49,345 [MainThread  ] [INFO ]  Not using any container\n",
      "2022-04-22 10:33:49,947 [MainThread  ] [INFO ]  obminimize -c 1e-10 -sd -ff GAFF -ipdb ligand_reduce_H.pdb -omol2 > ligand.H.min.mol2\n",
      "\n",
      "2022-04-22 10:33:49,948 [MainThread  ] [INFO ]  Exit code 0\n",
      "\n",
      "2022-04-22 10:33:49,949 [MainThread  ] [INFO ]  \n",
      "A T O M   T Y P E S\n",
      "\n",
      "IDX\tTYPE\tRING\n",
      "1\tos\tAR\n",
      "2\to\tNO\n",
      "3\tcd\tAR\n",
      "4\tcd\tAR\n",
      "5\tcd\tAR\n",
      "6\tc\tAR\n",
      "7\tca\tAR\n",
      "8\tcc\tAR\n",
      "9\tca\tAR\n",
      "10\tca\tAR\n",
      "11\tca\tAR\n",
      "12\tcp\tAR\n",
      "13\tca\tAR\n",
      "14\tca\tAR\n",
      "15\tca\tAR\n",
      "16\tca\tAR\n",
      "17\tca\tAR\n",
      "18\toh\tNO\n",
      "19\toh\tNO\n",
      "20\toh\tNO\n",
      "\n",
      "C H A R G E S\n",
      "\n",
      "IDX\tCHARGE\n",
      "1\t-0.449991\n",
      "2\t-0.286250\n",
      "3\t0.112551\n",
      "4\t0.076714\n",
      "5\t0.154761\n",
      "6\t0.204653\n",
      "7\t0.204901\n",
      "8\t0.182614\n",
      "9\t0.079788\n",
      "10\t0.084319\n",
      "11\t0.201987\n",
      "12\t0.006351\n",
      "13\t0.003483\n",
      "14\t0.042031\n",
      "15\t0.195745\n",
      "16\t0.042031\n",
      "17\t0.003483\n",
      "18\t-0.286570\n",
      "19\t-0.286246\n",
      "20\t-0.286353\n",
      "\n",
      "S E T T I N G   U P   C A L C U L A T I O N S\n",
      "\n",
      "SETTING UP BOND CALCULATIONS...\n",
      "COULD NOT FIND PARAMETERS FOR BOND cd-cp, USING DEFAULT PARAMETERS\n",
      "SETTING UP ANGLE CALCULATIONS...\n",
      "COULD NOT FIND PARAMETERS FOR ANGLE c-cd-cp, USING DEFAULT PARAMETERS\n",
      "COULD NOT FIND PARAMETERS FOR ANGLE cc-cd-cp, USING DEFAULT PARAMETERS\n",
      "COULD NOT FIND PARAMETERS FOR ANGLE cd-ca-oh, USING DEFAULT PARAMETERS\n",
      "COULD NOT FIND PARAMETERS FOR ANGLE cd-cp-ca, USING DEFAULT PARAMETERS\n",
      "COULD NOT FIND PARAMETERS FOR ANGLE cd-cp-ca, USING DEFAULT PARAMETERS\n",
      "SETTING UP TORSION CALCULATIONS...\n",
      "COULD NOT FIND PARAMETERS FOR TORSION ca-ca-cd-cd, USING DEFAULT PARAMETERS\n",
      "COULD NOT FIND PARAMETERS FOR TORSION ca-ca-cd-os, USING DEFAULT PARAMETERS\n",
      "COULD NOT FIND PARAMETERS FOR TORSION ca-ca-cd-cd, USING DEFAULT PARAMETERS\n",
      "COULD NOT FIND PARAMETERS FOR TORSION ca-ca-cd-c, USING DEFAULT PARAMETERS\n",
      "COULD NOT FIND PARAMETERS FOR TORSION oh-ca-cd-cd, USING DEFAULT PARAMETERS\n",
      "COULD NOT FIND PARAMETERS FOR TORSION oh-ca-cd-c, USING DEFAULT PARAMETERS\n",
      "COULD NOT FIND PARAMETERS FOR TORSION ca-cd-os-cc, USING DEFAULT PARAMETERS\n",
      "COULD NOT FIND PARAMETERS FOR TORSION cd-cd-os-cc, USING DEFAULT PARAMETERS\n",
      "COULD NOT FIND PARAMETERS FOR TORSION cd-os-cc-cd, USING DEFAULT PARAMETERS\n",
      "COULD NOT FIND PARAMETERS FOR TORSION c-cd-cp-ca, USING DEFAULT PARAMETERS\n",
      "COULD NOT FIND PARAMETERS FOR TORSION c-cd-cp-ca, USING DEFAULT PARAMETERS\n",
      "COULD NOT FIND PARAMETERS FOR TORSION cc-cd-cp-ca, USING DEFAULT PARAMETERS\n",
      "COULD NOT FIND PARAMETERS FOR TORSION cc-cd-cp-ca, USING DEFAULT PARAMETERS\n",
      "SETTING UP IMPROPER TORSION CALCULATIONS...\n",
      "SETTING UP VAN DER WAALS CALCULATIONS...\n",
      "SETTING UP ELECTROSTATIC CALCULATIONS...\n",
      "\n",
      "S T E E P E S T   D E S C E N T\n",
      "\n",
      "STEPS = 2500\n",
      "\n",
      "STEP n       E(n)         E(n-1)    \n",
      "------------------------------------\n",
      "    0     412.187      ----\n",
      "   10    132.09476    133.92246\n",
      "   20    121.65039    122.34874\n",
      "   30    116.46266    116.87440\n",
      "   40    113.13260    113.41429\n",
      "   50    110.73675    110.94796\n",
      "   60    108.87144    109.04094\n",
      "   70    107.33220    107.47513\n",
      "   80    106.00810    106.13293\n",
      "   90    104.83544    104.94717\n",
      "  100    103.77557    103.87730\n",
      "  110    102.80373    102.89751\n",
      "  120    101.90335    101.99056\n",
      "  130    101.06288    101.14452\n",
      "  140    100.27402    100.35080\n",
      "  150    99.53061    99.60308\n",
      "  160    98.82799    98.89655\n",
      "  170    98.16249    98.22749\n",
      "  180    97.53121    97.59289\n",
      "  190    96.93172    96.99032\n",
      "  200    96.36200    96.41771\n",
      "  210    95.82028    95.87326\n",
      "  220    95.30500    95.35540\n",
      "  230    94.81474    94.86270\n",
      "  240    94.34821    94.39385\n",
      "  250    93.90419    93.94763\n",
      "  260    93.48156    93.52291\n",
      "  270    93.07924    93.11860\n",
      "  280    92.69622    92.73370\n",
      "  290    92.33152    92.36721\n",
      "  300    91.98423    92.01822\n",
      "  310    91.65347    91.68584\n",
      "  320    91.33839    91.36923\n",
      "  330    91.03820    91.06758\n",
      "  340    90.75213    90.78013\n",
      "  350    90.47945    90.50615\n",
      "  360    90.21948    90.24493\n",
      "  370    89.97155    89.99583\n",
      "  380    89.73505    89.75821\n",
      "  390    89.50937    89.53148\n",
      "  400    89.29396    89.31506\n",
      "  410    89.08828    89.10843\n",
      "  420    88.89183    88.91108\n",
      "  430    88.70413    88.72252\n",
      "  440    88.52472    88.54231\n",
      "  450    88.35318    88.37000\n",
      "  460    88.18911    88.20520\n",
      "  470    88.03211    88.04751\n",
      "  480    87.88183    87.89657\n",
      "  490    87.73793    87.75205\n",
      "  500    87.60007    87.61360\n",
      "  510    87.46796    87.48093\n",
      "  520    87.34131    87.35374\n",
      "  530    87.21983    87.23176\n",
      "  540    87.10328    87.11473\n",
      "  550    86.99141    87.00240\n",
      "  560    86.88399    86.89454\n",
      "  570    86.78079    86.79093\n",
      "  580    86.68162    86.69137\n",
      "  590    86.58627    86.59565\n",
      "  600    86.49457    86.50359\n",
      "  610    86.40633    86.41501\n",
      "  620    86.32140    86.32975\n",
      "  630    86.23961    86.24765\n",
      "  640    86.16081    86.16857\n",
      "  650    86.08487    86.09235\n",
      "  660    86.01166    86.01886\n",
      "  670    85.94104    85.94799\n",
      "  680    85.87290    85.87961\n",
      "  690    85.80712    85.81360\n",
      "  700    85.74360    85.74985\n",
      "  710    85.68223    85.68828\n",
      "  720    85.62292    85.62877\n",
      "  730    85.56558    85.57123\n",
      "  740    85.51012    85.51559\n",
      "  750    85.45646    85.46175\n",
      "  760    85.40451    85.40964\n",
      "  770    85.35422    85.35918\n",
      "  780    85.30549    85.31030\n",
      "  790    85.25828    85.26294\n",
      "  800    85.21251    85.21702\n",
      "  810    85.16812    85.17250\n",
      "  820    85.12506    85.12931\n",
      "  830    85.08327    85.08739\n",
      "  840    85.04270    85.04670\n",
      "  850    85.00329    85.00719\n",
      "  860    84.96502    84.96880\n",
      "  870    84.92781    84.93149\n",
      "  880    84.89165    84.89522\n",
      "  890    84.85648    84.85995\n",
      "  900    84.82226    84.82564\n",
      "  910    84.78896    84.79225\n",
      "  920    84.75654    84.75975\n",
      "  930    84.72498    84.72810\n",
      "  940    84.69423    84.69727\n",
      "  950    84.66427    84.66723\n",
      "  960    84.63506    84.63795\n",
      "  970    84.60658    84.60940\n",
      "  980    84.57881    84.58156\n",
      "  990    84.55171    84.55440\n",
      " 1000    84.52527    84.52789\n",
      " 1010    84.49945    84.50201\n",
      " 1020    84.47424    84.47674\n",
      " 1030    84.44962    84.45206\n",
      " 1040    84.42556    84.42795\n",
      " 1050    84.40205    84.40438\n",
      " 1060    84.37906    84.38134\n",
      " 1070    84.35658    84.35881\n",
      " 1080    84.33459    84.33677\n",
      " 1090    84.31308    84.31521\n",
      " 1100    84.29202    84.29411\n",
      " 1110    84.27141    84.27345\n",
      " 1120    84.25122    84.25322\n",
      " 1130    84.23144    84.23341\n",
      " 1140    84.21207    84.21399\n",
      " 1150    84.19308    84.19496\n",
      " 1160    84.17446    84.17631\n",
      " 1170    84.15685    84.15837\n",
      " 1180    84.14600    84.14693\n",
      " 1190    84.13677    84.13769\n",
      " 1200    84.12773    84.12862\n",
      " 1210    84.11885    84.11973\n",
      " 1220    84.11014    84.11100\n",
      " 1230    84.10159    84.10244\n",
      " 1240    84.09320    84.09403\n",
      " 1250    84.08496    84.08578\n",
      " 1260    84.07687    84.07767\n",
      " 1270    84.06893    84.06972\n",
      " 1280    84.06114    84.06192\n",
      " 1290    84.05349    84.05425\n",
      " 1300    84.04598    84.04673\n",
      " 1310    84.03861    84.03934\n",
      " 1320    84.03137    84.03209\n",
      " 1330    84.02426    84.02497\n",
      " 1340    84.01728    84.01797\n",
      " 1350    84.01042    84.01111\n",
      " 1360    84.00369    84.00436\n",
      " 1370    83.99708    83.99773\n",
      " 1380    83.99058    83.99122\n",
      " 1390    83.98420    83.98483\n",
      " 1400    83.97793    83.97855\n",
      " 1410    83.97177    83.97238\n",
      " 1420    83.96571    83.96632\n",
      " 1430    83.95977    83.96036\n",
      " 1440    83.95392    83.95450\n",
      " 1450    83.94818    83.94875\n",
      " 1460    83.94253    83.94309\n",
      " 1470    83.93698    83.93753\n",
      " 1480    83.93152    83.93206\n",
      " 1490    83.92616    83.92670\n",
      " 1500    83.92090    83.92142\n",
      " 1510    83.91573    83.91624\n",
      " 1520    83.91064    83.91115\n",
      " 1530    83.90569    83.90616\n",
      " 1540    83.90207    83.90235\n",
      " 1550    83.89939    83.89965\n",
      " 1560    83.89676    83.89702\n",
      " 1570    83.89418    83.89444\n",
      " 1580    83.89165    83.89190\n",
      " 1590    83.88916    83.88941\n",
      " 1600    83.88671    83.88696\n",
      " 1610    83.88431    83.88455\n",
      " 1620    83.88195    83.88218\n",
      " 1630    83.87963    83.87986\n",
      " 1640    83.87735    83.87758\n",
      " 1650    83.87512    83.87534\n",
      " 1660    83.87292    83.87314\n",
      " 1670    83.87076    83.87097\n",
      " 1680    83.86864    83.86885\n",
      " 1690    83.86656    83.86676\n",
      " 1700    83.86451    83.86472\n",
      " 1710    83.86250    83.86270\n",
      " 1720    83.86053    83.86073\n",
      " 1730    83.85859    83.85878\n",
      " 1740    83.85668    83.85687\n",
      " 1750    83.85481    83.85500\n",
      " 1760    83.85297    83.85316\n",
      " 1770    83.85117    83.85135\n",
      " 1780    83.84940    83.84957\n",
      " 1790    83.84766    83.84783\n",
      " 1800    83.84595    83.84612\n",
      " 1810    83.84428    83.84445\n",
      " 1820    83.84264    83.84280\n",
      " 1830    83.84103    83.84119\n",
      " 1840    83.83945    83.83960\n",
      " 1850    83.83789    83.83805\n",
      " 1860    83.83637    83.83652\n",
      " 1870    83.83487    83.83501\n",
      " 1880    83.83339    83.83353\n",
      " 1890    83.83194    83.83209\n",
      " 1900    83.83068    83.83078\n",
      " 1910    83.82980    83.82988\n",
      " 1920    83.82897    83.82905\n",
      " 1930    83.82815    83.82824\n",
      " 1940    83.82736    83.82743\n",
      " 1950    83.82657    83.82665\n",
      " 1960    83.82581    83.82588\n",
      " 1970    83.82506    83.82513\n",
      " 1980    83.82433    83.82440\n",
      " 1990    83.82362    83.82369\n",
      " 2000    83.82292    83.82299\n",
      " 2010    83.82224    83.82231\n",
      " 2020    83.82157    83.82164\n",
      " 2030    83.82092    83.82099\n",
      " 2040    83.82029    83.82035\n",
      " 2050    83.81967    83.81973\n",
      " 2060    83.81906    83.81912\n",
      " 2070    83.81846    83.81852\n",
      " 2080    83.81787    83.81793\n",
      " 2090    83.81730    83.81736\n",
      " 2100    83.81674    83.81680\n",
      " 2110    83.81619    83.81625\n",
      " 2120    83.81566    83.81571\n",
      " 2130    83.81513    83.81518\n",
      " 2140    83.81462    83.81467\n",
      " 2150    83.81411    83.81416\n",
      " 2160    83.81362    83.81367\n",
      " 2170    83.81314    83.81319\n",
      " 2180    83.81267    83.81272\n",
      " 2190    83.81221    83.81225\n",
      " 2200    83.81175    83.81179\n",
      " 2210    83.81130    83.81135\n",
      " 2220    83.81087    83.81091\n",
      " 2230    83.81044    83.81048\n",
      " 2240    83.81002    83.81006\n",
      " 2250    83.80961    83.80965\n",
      " 2260    83.80920    83.80924\n",
      " 2270    83.80880    83.80884\n",
      " 2280    83.80841    83.80845\n",
      " 2290    83.80802    83.80806\n",
      " 2300    83.80764    83.80768\n",
      " 2310    83.80727    83.80731\n",
      " 2320    83.80690    83.80694\n",
      " 2330    83.80658    83.80661\n",
      " 2340    83.80637    83.80639\n",
      " 2350    83.80616    83.80618\n",
      " 2360    83.80595    83.80597\n",
      " 2370    83.80575    83.80577\n",
      " 2380    83.80555    83.80557\n",
      " 2390    83.80535    83.80537\n",
      " 2400    83.80515    83.80517\n",
      " 2410    83.80496    83.80498\n",
      " 2420    83.80477    83.80479\n",
      " 2430    83.80458    83.80460\n",
      " 2440    83.80440    83.80442\n",
      " 2450    83.80422    83.80424\n",
      " 2460    83.80404    83.80406\n",
      " 2470    83.80386    83.80388\n",
      " 2480    83.80369    83.80371\n",
      " 2490    83.80352    83.80354\n",
      " 2500    83.80335    83.80337\n",
      "Time: 0.487988seconds. Iterations per second: 5125.13\n",
      "\n"
     ]
    },
    {
     "data": {
      "text/plain": [
       "0"
      ]
     },
     "execution_count": 12,
     "metadata": {},
     "output_type": "execute_result"
    }
   ],
   "source": [
    "# Create Ligand system topology, STEP 2\n",
    "# Babel_minimize: Structure energy minimization of a small molecule after being modified adding hydrogen atoms\n",
    "# Import module\n",
    "from biobb_chemistry.babelm.babel_minimize import babel_minimize\n",
    "\n",
    "# Create prop dict and inputs/outputs\n",
    "output_babel_min = ligandName + '.H.min.mol2'                              \n",
    "prop = {\n",
    "    'method' : 'sd',\n",
    "    'criteria' : '1e-10',\n",
    "    'force_field' : 'GAFF'\n",
    "}\n",
    "\n",
    "# Create and launch bb\n",
    "babel_minimize(input_path = output_reduce_h,\n",
    "              output_path = output_babel_min,\n",
    "              properties  = prop)"
   ]
  },
  {
   "cell_type": "markdown",
   "metadata": {},
   "source": [
    "### Visualizing 3D structures\n",
    "Visualizing the small molecule generated **PDB structures** using **NGL**:  \n",
    "- **Original Ligand Structure** (Left)\n",
    "- **Ligand Structure with hydrogen atoms added** (with Reduce program) (Center)\n",
    "- **Ligand Structure with hydrogen atoms added** (with Reduce program), **energy minimized** (with Open Babel) (Right) "
   ]
  },
  {
   "cell_type": "code",
   "execution_count": 13,
   "metadata": {},
   "outputs": [
    {
     "data": {
      "application/vnd.jupyter.widget-view+json": {
       "model_id": "6acba8194c7c4ad8ae9fcdc3eca50c22",
       "version_major": 2,
       "version_minor": 0
      },
      "text/plain": [
       "HBox(children=(NGLWidget(), NGLWidget(), NGLWidget()))"
      ]
     },
     "metadata": {},
     "output_type": "display_data"
    }
   ],
   "source": [
    "# Show different structures generated (for comparison)\n",
    "\n",
    "view1 = nglview.show_structure_file(ligandFile)\n",
    "view1.add_representation(repr_type='ball+stick')\n",
    "view1._remote_call('setSize', target='Widget', args=['350px','400px'])\n",
    "view1.camera='orthographic'\n",
    "view1\n",
    "view2 = nglview.show_structure_file(output_reduce_h)\n",
    "view2.add_representation(repr_type='ball+stick')\n",
    "view2._remote_call('setSize', target='Widget', args=['350px','400px'])\n",
    "view2.camera='orthographic'\n",
    "view2\n",
    "view3 = nglview.show_structure_file(output_babel_min)\n",
    "view3.add_representation(repr_type='ball+stick')\n",
    "view3._remote_call('setSize', target='Widget', args=['350px','400px'])\n",
    "view3.camera='orthographic'\n",
    "view3\n",
    "ipywidgets.HBox([view1, view2, view3])"
   ]
  },
  {
   "cell_type": "markdown",
   "metadata": {},
   "source": [
    "<img src='images/ngl4-ngl5-ngl6.png' style='float: left;width:70%'></img>"
   ]
  },
  {
   "cell_type": "markdown",
   "metadata": {},
   "source": [
    "<a id=\"ligandTopologyStep3\"></a>\n",
    "### Step 3: Generate **ligand topology** (parameters).\n",
    "We use here ACPYPE tool (http://www.biomedcentral.com/1756-0500/5/367), a wrapper script around the ANTECHAMBER software (http://ambermd.org/) to generate topologies for chemical compounds. Topologies files to be generated so far: CNS/XPLOR, GROMACS, CHARMM and AMBER. Topologies generated by acpype/Antechamber are based on General Amber Force Field (GAFF) and should be used only with compatible force fields like AMBER and its variants."
   ]
  },
  {
   "cell_type": "code",
   "execution_count": 14,
   "metadata": {
    "cell_style": "center",
    "scrolled": false
   },
   "outputs": [
    {
     "name": "stdout",
     "output_type": "stream",
     "text": [
      "2022-04-22 10:33:50,333 [MainThread  ] [INFO ]  Running acpype, this execution can take a while\n",
      "2022-04-22 10:33:50,334 [MainThread  ] [INFO ]  Not using any container\n",
      "2022-04-22 10:34:11,568 [MainThread  ] [INFO ]  acpype -i /home/lg/repos/javerianaMD/simulation/md-biobb/ligand.H.min.mol2 -b ligand_params.aKbnj2 -n 0\n",
      "\n",
      "2022-04-22 10:34:11,569 [MainThread  ] [INFO ]  Exit code 0\n",
      "\n",
      "2022-04-22 10:34:11,569 [MainThread  ] [INFO ]  ========================================================================================\n",
      "| ACPYPE: AnteChamber PYthon Parser interfacE v. 2019-11-07T23:16:00CET (c) 2022 AWSdS |\n",
      "========================================================================================\n",
      "==> ... charge set to 0\n",
      "==> Executing Antechamber...\n",
      "==> * Antechamber OK *\n",
      "==> * Parmchk OK *\n",
      "==> Executing Tleap...\n",
      "++++++++++start_quote+++++++++++++++++++++++++++++++++++++++++++++++++++++++++++\n",
      "Checking 'GEN'....\n",
      "Checking parameters for unit 'GEN'.\n",
      "Checking for bond parameters.\n",
      "Checking for angle parameters.\n",
      "Unit is OK.\n",
      "++++++++++end_quote+++++++++++++++++++++++++++++++++++++++++++++++++++++++++++++\n",
      "==> * Tleap OK *\n",
      "==> Removing temporary files...\n",
      "==> Writing NEW PDB file\n",
      "\n",
      "==> Writing CNS/XPLOR files\n",
      "\n",
      "==> Writing GROMACS files\n",
      "\n",
      "==> Writing GMX dihedrals for GMX 4.5 and higher.\n",
      "\n",
      "==> Writing CHARMM files\n",
      "\n",
      "==> Writing pickle file ligand_params.aKbnj2.pkl\n",
      "Total time of execution: 21s\n",
      "\n",
      "2022-04-22 10:34:11,571 [MainThread  ] [INFO ]  File ligand_params.gro succesfully created\n",
      "2022-04-22 10:34:11,577 [MainThread  ] [INFO ]  File ligand_params.top succesfully created\n",
      "2022-04-22 10:34:11,579 [MainThread  ] [INFO ]  File ligand_params.itp succesfully created\n",
      "2022-04-22 10:34:11,582 [MainThread  ] [INFO ]  Removed temporary folder: ligand_params.aKbnj2.acpype\n"
     ]
    }
   ],
   "source": [
    "# Create Ligand system topology, STEP 3\n",
    "# Acpype_params_gmx: Generation of topologies for GROMACS with ACPype\n",
    "# Import module\n",
    "from biobb_chemistry.acpype.acpype_params_gmx import acpype_params_gmx\n",
    "\n",
    "# Create prop dict and inputs/outputs\n",
    "output_acpype_gro = ligandName + '_params.gro'\n",
    "output_acpype_itp = ligandName + '_params.itp'\n",
    "output_acpype_top = ligandName + '_params.top'\n",
    "output_acpype     = ligandName + '_params'\n",
    "prop = {\n",
    "    'basename' : output_acpype,\n",
    "    'charge' : mol_charge\n",
    "}\n",
    "\n",
    "# Create and launch bb\n",
    "acpype_params_gmx(input_path=output_babel_min, \n",
    "                output_path_gro=output_acpype_gro,\n",
    "                output_path_itp=output_acpype_itp,\n",
    "                output_path_top=output_acpype_top,\n",
    "                properties=prop);"
   ]
  },
  {
   "cell_type": "markdown",
   "metadata": {},
   "source": [
    "<a id=\"restraints\"></a>\n",
    "***\n",
    "## Preparing Ligand Restraints\n",
    "- In subsequent steps of the pipeline, such as the equilibration stages of the **protein-ligand complex** system, it is recommended to apply some **restraints** to the small molecule, to avoid a possible change in position due to protein repulsion. \n",
    "\n",
    "- **Position restraints** will be applied to the ligand, using a **force constant of 1000 KJ/mol\\*nm^2** on the three coordinates: x, y and z. In this steps the **restriction files** will be created and integrated in the **ligand topology**.\n",
    "- [Step 1](#restraintsStep1): Creating an index file with a new group including just the **small molecule heavy atoms**.\n",
    "- [Step 2](#restraintsStep2): Generating the **position restraints** file.\n",
    "***\n",
    "**Building Blocks** used:\n",
    " - [MakeNdx](https://biobb-md.readthedocs.io/en/latest/gromacs.html#module-gromacs.make_ndx) from **biobb_md.gromacs.make_ndx**:\n",
    "     * The GROMACS make_ndx module, generates an index file using the atoms of the selection.\n",
    "     \n",
    "     \n",
    " - [Genrestr](https://biobb-md.readthedocs.io/en/latest/gromacs.html#module-gromacs.genrestr) from **biobb_md.gromacs.genrestr**:\n",
    "     * Wrapper of the GROMACS genrestr module. The GROMACS genrestr module, produces an #include file for a topology containing a list of atom numbers and three force constants for the x-, y-, and z-direction based on the contents of the -f file. A single isotropic force constant may be given on the command line instead of three components.\n",
    "***"
   ]
  },
  {
   "cell_type": "markdown",
   "metadata": {},
   "source": [
    "<a id=\"restraintsStep1\"></a>\n",
    "### Step 1: Creating an index file for the small molecule heavy atoms"
   ]
  },
  {
   "cell_type": "code",
   "execution_count": 15,
   "metadata": {
    "scrolled": false
   },
   "outputs": [
    {
     "name": "stdout",
     "output_type": "stream",
     "text": [
      "2022-04-22 10:34:11,614 [MainThread  ] [INFO ]  GROMACS MakeNdx 20191 version detected\n",
      "2022-04-22 10:34:11,616 [MainThread  ] [INFO ]  Not using any container\n",
      "2022-04-22 10:34:11,643 [MainThread  ] [INFO ]  echo -e '0 & ! a H*\\nq' | gmx -nobackup -nocopyright make_ndx -f ligand_params.gro -o ligand_index.ndx\n",
      "\n",
      "2022-04-22 10:34:11,646 [MainThread  ] [INFO ]  Exit code 0\n",
      "\n",
      "2022-04-22 10:34:11,649 [MainThread  ] [INFO ]  Going to read 0 old index file(s)\n",
      "Analysing residue names:\n",
      "There are:     1      Other residues\n",
      "Analysing residues not classified as Protein/DNA/RNA/Water and splitting into groups...\n",
      "\n",
      "  0 System              :    20 atoms\n",
      "  1 Other               :    20 atoms\n",
      "  2 GEN                 :    20 atoms\n",
      "\n",
      " nr : group      '!': not  'name' nr name   'splitch' nr    Enter: list groups\n",
      " 'a': atom       '&': and  'del' nr         'splitres' nr   'l': list residues\n",
      " 't': atom type  '|': or   'keep' nr        'splitat' nr    'h': help\n",
      " 'r': residue              'res' nr         'chain' char\n",
      " \"name\": group             'case': case sensitive           'q': save and quit\n",
      " 'ri': residue index\n",
      "\n",
      "> \n",
      "Copied index group 0 'System'\n",
      "Found 0 atoms with name H*\n",
      "\n",
      "  3 System              :    20 atoms\n",
      "\n",
      "> \n",
      "\n",
      "2022-04-22 10:34:11,650 [MainThread  ] [INFO ]                       :-) GROMACS - gmx make_ndx, 2019.1 (-:\n",
      "\n",
      "Executable:   /opt/miniconda3/envs/biobb_env/bin/gmx\n",
      "Data prefix:  /opt/miniconda3/envs/biobb_env\n",
      "Working dir:  /home/lg/repos/javerianaMD/simulation/md-biobb\n",
      "Command line:\n",
      "  gmx -nobackup -nocopyright make_ndx -f ligand_params.gro -o ligand_index.ndx\n",
      "\n",
      "\n",
      "Reading structure file\n",
      "\n",
      "GROMACS reminds you: \"We're Gonna Hit You Harder\" (Scoter)\n",
      "\n",
      "\n",
      "2022-04-22 10:34:11,651 [MainThread  ] [INFO ]  Removed: []\n"
     ]
    },
    {
     "data": {
      "text/plain": [
       "0"
      ]
     },
     "execution_count": 15,
     "metadata": {},
     "output_type": "execute_result"
    }
   ],
   "source": [
    "# MakeNdx: Creating index file with a new group (small molecule heavy atoms)\n",
    "from biobb_md.gromacs.make_ndx import make_ndx\n",
    "\n",
    "# Create prop dict and inputs/outputs\n",
    "output_ligand_ndx = ligandName + '_index.ndx'\n",
    "prop = {\n",
    "    'selection': \"0 & ! a H*\"\n",
    "}\n",
    "\n",
    "# Create and launch bb\n",
    "make_ndx(input_structure_path=output_acpype_gro,\n",
    "        output_ndx_path=output_ligand_ndx,\n",
    "        properties=prop)"
   ]
  },
  {
   "cell_type": "markdown",
   "metadata": {},
   "source": [
    "<a id=\"restraintsStep2\"></a>\n",
    "### Step 2: Generating the position restraints file"
   ]
  },
  {
   "cell_type": "code",
   "execution_count": 16,
   "metadata": {
    "scrolled": true
   },
   "outputs": [
    {
     "name": "stdout",
     "output_type": "stream",
     "text": [
      "2022-04-22 10:34:11,717 [MainThread  ] [INFO ]  GROMACS Genrestr 20191 version detected\n",
      "2022-04-22 10:34:11,719 [MainThread  ] [INFO ]  Not using any container\n",
      "2022-04-22 10:34:11,754 [MainThread  ] [INFO ]  echo \"0\" | gmx -nobackup -nocopyright genrestr -f ligand_params.gro -o ligand_posres.itp -fc 1000 1000 1000 -n ligand_index.ndx\n",
      "\n",
      "2022-04-22 10:34:11,758 [MainThread  ] [INFO ]  Exit code 0\n",
      "\n",
      "2022-04-22 10:34:11,759 [MainThread  ] [INFO ]  Select group to position restrain\n",
      "Selected 0: 'System'\n",
      "\n",
      "2022-04-22 10:34:11,765 [MainThread  ] [INFO ]                       :-) GROMACS - gmx genrestr, 2019.1 (-:\n",
      "\n",
      "Executable:   /opt/miniconda3/envs/biobb_env/bin/gmx\n",
      "Data prefix:  /opt/miniconda3/envs/biobb_env\n",
      "Working dir:  /home/lg/repos/javerianaMD/simulation/md-biobb\n",
      "Command line:\n",
      "  gmx -nobackup -nocopyright genrestr -f ligand_params.gro -o ligand_posres.itp -fc 1000 1000 1000 -n ligand_index.ndx\n",
      "\n",
      "\n",
      "Reading structure file\n",
      "Group     0 (         System) has    20 elements\n",
      "Group     1 (          Other) has    20 elements\n",
      "Group     2 (            GEN) has    20 elements\n",
      "Group     3 (         System) has    20 elements\n",
      "Select a group: \n",
      "GROMACS reminds you: \"Statistics: The only science that enables different experts using the same figures to draw different conclusions.\" (Evan Esar)\n",
      "\n",
      "\n",
      "2022-04-22 10:34:11,768 [MainThread  ] [INFO ]  Removed: []\n"
     ]
    },
    {
     "data": {
      "text/plain": [
       "0"
      ]
     },
     "execution_count": 16,
     "metadata": {},
     "output_type": "execute_result"
    }
   ],
   "source": [
    "# Genrestr: Generating the position restraints file\n",
    "from biobb_md.gromacs.genrestr import genrestr\n",
    "\n",
    "# Create prop dict and inputs/outputs\n",
    "output_restraints_top = ligandName + '_posres.itp'\n",
    "prop = {\n",
    "    'force_constants': \"1000 1000 1000\",\n",
    "    'restrained_group': \"0\"    # Modified from \"System\" to \"0\"\n",
    "}\n",
    "\n",
    "# Create and launch bb\n",
    "genrestr(input_structure_path=output_acpype_gro,\n",
    "         input_ndx_path=output_ligand_ndx,\n",
    "         output_itp_path=output_restraints_top,\n",
    "         properties=prop)"
   ]
  },
  {
   "cell_type": "markdown",
   "metadata": {},
   "source": [
    "<a id=\"complex\"></a>\n",
    "***\n",
    "## Create new protein-ligand complex structure file\n",
    "Building new **protein-ligand complex** PDB file with:\n",
    "- The new **protein system** with fixed problems from *Fix Protein Structure* step and hydrogens atoms added from *Create Protein System Topology* step.\n",
    "- The new **ligand system** with hydrogens atoms added from *Create Ligand System Topology* step. \n",
    "\n",
    "This new structure is needed for **GROMACS** as it is **force field-compliant**, it **has all the new hydrogen atoms**, and the **atom names are matching the newly generated protein and ligand topologies**.\n",
    "***\n",
    "**Building Blocks** used:\n",
    " - [GMXTrjConvStr](https://biobb-analysis.readthedocs.io/en/latest/gromacs.html#module-gromacs.gmx_trjconv_str) from **biobb_analysis.gromacs.gmx_trjconv_str**:\n",
    "     * Wrapper of the GROMACS trjconv module for converting between GROMACS compatible structure file formats and/or extracting a selection of atoms. GROMACS trjconv module can convert trajectory files in many ways\n",
    "***"
   ]
  },
  {
   "cell_type": "code",
   "execution_count": 17,
   "metadata": {},
   "outputs": [
    {
     "name": "stdout",
     "output_type": "stream",
     "text": [
      "protein\n",
      "ligand\n",
      "protein_pdb2gmx.gro\n",
      "ligand_params.gro\n"
     ]
    }
   ],
   "source": [
    "print (pdbName)\n",
    "print (ligandName)\n",
    "print (output_pdb2gmx_gro)\n",
    "print (output_acpype_gro)"
   ]
  },
  {
   "cell_type": "markdown",
   "metadata": {},
   "source": [
    "### Protein: Convert gro (with hydrogens) to pdb"
   ]
  },
  {
   "cell_type": "code",
   "execution_count": 18,
   "metadata": {
    "scrolled": true
   },
   "outputs": [
    {
     "name": "stdout",
     "output_type": "stream",
     "text": [
      "2022-04-22 10:34:11,802 [MainThread  ] [INFO ]  Not using any container\n",
      "2022-04-22 10:34:11,839 [MainThread  ] [INFO ]  echo \"System\" | gmx trjconv -f /home/lg/repos/javerianaMD/simulation/md-biobb/protein_pdb2gmx.gro -s /home/lg/repos/javerianaMD/simulation/md-biobb/protein_pdb2gmx.gro -o protein_complex_H.pdb\n",
      "\n",
      "2022-04-22 10:34:11,841 [MainThread  ] [INFO ]  Exit code 0\n",
      "\n",
      "2022-04-22 10:34:11,845 [MainThread  ] [INFO ]  Note that major changes are planned in future for trjconv, to improve usability and utility.Select group for output\n",
      "Selected 0: 'System'\n",
      "\n",
      "2022-04-22 10:34:11,846 [MainThread  ] [INFO ]                       :-) GROMACS - gmx trjconv, 2019.1 (-:\n",
      "\n",
      "                            GROMACS is written by:\n",
      "     Emile Apol      Rossen Apostolov      Paul Bauer     Herman J.C. Berendsen\n",
      "    Par Bjelkmar      Christian Blau   Viacheslav Bolnykh     Kevin Boyd    \n",
      " Aldert van Buuren   Rudi van Drunen     Anton Feenstra       Alan Gray     \n",
      "  Gerrit Groenhof     Anca Hamuraru    Vincent Hindriksen  M. Eric Irrgang  \n",
      "  Aleksei Iupinov   Christoph Junghans     Joe Jordan     Dimitrios Karkoulis\n",
      "    Peter Kasson        Jiri Kraus      Carsten Kutzner      Per Larsson    \n",
      "  Justin A. Lemkul    Viveca Lindahl    Magnus Lundborg     Erik Marklund   \n",
      "    Pascal Merz     Pieter Meulenhoff    Teemu Murtola       Szilard Pall   \n",
      "    Sander Pronk      Roland Schulz      Michael Shirts    Alexey Shvetsov  \n",
      "   Alfons Sijbers     Peter Tieleman      Jon Vincent      Teemu Virolainen \n",
      " Christian Wennberg    Maarten Wolf   \n",
      "                           and the project leaders:\n",
      "        Mark Abraham, Berk Hess, Erik Lindahl, and David van der Spoel\n",
      "\n",
      "Copyright (c) 1991-2000, University of Groningen, The Netherlands.\n",
      "Copyright (c) 2001-2018, The GROMACS development team at\n",
      "Uppsala University, Stockholm University and\n",
      "the Royal Institute of Technology, Sweden.\n",
      "check out http://www.gromacs.org for more information.\n",
      "\n",
      "GROMACS is free software; you can redistribute it and/or modify it\n",
      "under the terms of the GNU Lesser General Public License\n",
      "as published by the Free Software Foundation; either version 2.1\n",
      "of the License, or (at your option) any later version.\n",
      "\n",
      "GROMACS:      gmx trjconv, version 2019.1\n",
      "Executable:   /opt/miniconda3/envs/biobb_env/bin/gmx\n",
      "Data prefix:  /opt/miniconda3/envs/biobb_env\n",
      "Working dir:  /home/lg/repos/javerianaMD/simulation/md-biobb\n",
      "Command line:\n",
      "  gmx trjconv -f /home/lg/repos/javerianaMD/simulation/md-biobb/protein_pdb2gmx.gro -s /home/lg/repos/javerianaMD/simulation/md-biobb/protein_pdb2gmx.gro -o protein_complex_H.pdb\n",
      "\n",
      "Will write pdb: Protein data bank file\n",
      "Group     0 (         System) has  2232 elements\n",
      "Group     1 (        Protein) has  2232 elements\n",
      "Group     2 (      Protein-H) has  1145 elements\n",
      "Group     3 (        C-alpha) has   137 elements\n",
      "Group     4 (       Backbone) has   411 elements\n",
      "Group     5 (      MainChain) has   549 elements\n",
      "Group     6 (   MainChain+Cb) has   676 elements\n",
      "Group     7 (    MainChain+H) has   685 elements\n",
      "Group     8 (      SideChain) has  1547 elements\n",
      "Group     9 (    SideChain-H) has   596 elements\n",
      "Select a group: Reading frames from gro file 'Guyana Rwanda Oman Macau Angola Cameroon Senegal', 2232 atoms.\n",
      "Reading frame       0 time    0.000   \n",
      "Precision of /home/lg/repos/javerianaMD/simulation/md-biobb/protein_pdb2gmx.gro is 0.001 (nm)\n",
      "\n",
      "Back Off! I just backed up protein_complex_H.pdb to ./#protein_complex_H.pdb.1#\n",
      "Last frame          0 time    0.000   \n",
      "\n",
      "\n",
      "GROMACS reminds you: \"The Universe is Somewhere In Here\" (J.G.E.M. Fraaije)\n",
      "\n",
      "\n"
     ]
    },
    {
     "data": {
      "text/plain": [
       "0"
      ]
     },
     "execution_count": 18,
     "metadata": {},
     "output_type": "execute_result"
    }
   ],
   "source": [
    "# biobb analysis module\n",
    "from biobb_analysis.gromacs.gmx_trjconv_str import gmx_trjconv_str\n",
    "from biobb_structure_utils.utils.cat_pdb import cat_pdb\n",
    "\n",
    "# Convert gro (with hydrogens) to pdb (PROTEIN)\n",
    "proteinFile_H = pdbName + '_complex_H.pdb'\n",
    "prop = {\n",
    "    'selection' : 'System'\n",
    "}\n",
    "\n",
    "# Create and launch bb\n",
    "gmx_trjconv_str(input_structure_path = output_pdb2gmx_gro,\n",
    "                input_top_path       = output_pdb2gmx_gro,\n",
    "                output_str_path      = proteinFile_H, \n",
    "                properties           = prop)"
   ]
  },
  {
   "cell_type": "markdown",
   "metadata": {},
   "source": [
    "### Ligand: Convert gro (with hydrogens) to pdb"
   ]
  },
  {
   "cell_type": "code",
   "execution_count": 19,
   "metadata": {
    "scrolled": true
   },
   "outputs": [
    {
     "name": "stdout",
     "output_type": "stream",
     "text": [
      "2022-04-22 10:34:11,863 [MainThread  ] [INFO ]  Not using any container\n",
      "2022-04-22 10:34:11,883 [MainThread  ] [INFO ]  echo \"System\" | gmx trjconv -f /home/lg/repos/javerianaMD/simulation/md-biobb/ligand_params.gro -s /home/lg/repos/javerianaMD/simulation/md-biobb/ligand_params.gro -o ligand_complex_H.pdb\n",
      "\n",
      "2022-04-22 10:34:11,885 [MainThread  ] [INFO ]  Exit code 0\n",
      "\n",
      "2022-04-22 10:34:11,887 [MainThread  ] [INFO ]  Note that major changes are planned in future for trjconv, to improve usability and utility.Select group for output\n",
      "Selected 0: 'System'\n",
      "\n",
      "2022-04-22 10:34:11,891 [MainThread  ] [INFO ]                       :-) GROMACS - gmx trjconv, 2019.1 (-:\n",
      "\n",
      "                            GROMACS is written by:\n",
      "     Emile Apol      Rossen Apostolov      Paul Bauer     Herman J.C. Berendsen\n",
      "    Par Bjelkmar      Christian Blau   Viacheslav Bolnykh     Kevin Boyd    \n",
      " Aldert van Buuren   Rudi van Drunen     Anton Feenstra       Alan Gray     \n",
      "  Gerrit Groenhof     Anca Hamuraru    Vincent Hindriksen  M. Eric Irrgang  \n",
      "  Aleksei Iupinov   Christoph Junghans     Joe Jordan     Dimitrios Karkoulis\n",
      "    Peter Kasson        Jiri Kraus      Carsten Kutzner      Per Larsson    \n",
      "  Justin A. Lemkul    Viveca Lindahl    Magnus Lundborg     Erik Marklund   \n",
      "    Pascal Merz     Pieter Meulenhoff    Teemu Murtola       Szilard Pall   \n",
      "    Sander Pronk      Roland Schulz      Michael Shirts    Alexey Shvetsov  \n",
      "   Alfons Sijbers     Peter Tieleman      Jon Vincent      Teemu Virolainen \n",
      " Christian Wennberg    Maarten Wolf   \n",
      "                           and the project leaders:\n",
      "        Mark Abraham, Berk Hess, Erik Lindahl, and David van der Spoel\n",
      "\n",
      "Copyright (c) 1991-2000, University of Groningen, The Netherlands.\n",
      "Copyright (c) 2001-2018, The GROMACS development team at\n",
      "Uppsala University, Stockholm University and\n",
      "the Royal Institute of Technology, Sweden.\n",
      "check out http://www.gromacs.org for more information.\n",
      "\n",
      "GROMACS is free software; you can redistribute it and/or modify it\n",
      "under the terms of the GNU Lesser General Public License\n",
      "as published by the Free Software Foundation; either version 2.1\n",
      "of the License, or (at your option) any later version.\n",
      "\n",
      "GROMACS:      gmx trjconv, version 2019.1\n",
      "Executable:   /opt/miniconda3/envs/biobb_env/bin/gmx\n",
      "Data prefix:  /opt/miniconda3/envs/biobb_env\n",
      "Working dir:  /home/lg/repos/javerianaMD/simulation/md-biobb\n",
      "Command line:\n",
      "  gmx trjconv -f /home/lg/repos/javerianaMD/simulation/md-biobb/ligand_params.gro -s /home/lg/repos/javerianaMD/simulation/md-biobb/ligand_params.gro -o ligand_complex_H.pdb\n",
      "\n",
      "Will write pdb: Protein data bank file\n",
      "Group     0 (         System) has    20 elements\n",
      "Group     1 (          Other) has    20 elements\n",
      "Group     2 (            GEN) has    20 elements\n",
      "Select a group: Reading frames from gro file 'ligand_params_GMX.gro created by acpype (v: 2019-11-07T23:16:00CET) on Fri Apr 22 10:33:50 2022', 20 atoms.\n",
      "Reading frame       0 time    0.000   \n",
      "Precision of /home/lg/repos/javerianaMD/simulation/md-biobb/ligand_params.gro is 0.001 (nm)\n",
      "\n",
      "Back Off! I just backed up ligand_complex_H.pdb to ./#ligand_complex_H.pdb.1#\n",
      "Last frame          0 time    0.000   \n",
      "\n",
      "\n",
      "GROMACS reminds you: \"'Nay. We are but men.' Rock!\" (Tenacious D)\n",
      "\n",
      "\n"
     ]
    },
    {
     "data": {
      "text/plain": [
       "0"
      ]
     },
     "execution_count": 19,
     "metadata": {},
     "output_type": "execute_result"
    }
   ],
   "source": [
    "# Convert gro (with hydrogens) to pdb (LIGAND)\n",
    "ligandFile_H = ligandName + '_complex_H.pdb'\n",
    "prop = {\n",
    "    'selection' : 'System'\n",
    "}\n",
    "\n",
    "# Create and launch bb\n",
    "gmx_trjconv_str(input_structure_path = output_acpype_gro,\n",
    "              input_top_path         = output_acpype_gro,\n",
    "              output_str_path        = ligandFile_H, \n",
    "              properties             = prop)"
   ]
  },
  {
   "cell_type": "markdown",
   "metadata": {},
   "source": [
    "### Concatenating both PDB files: Protein + Ligand"
   ]
  },
  {
   "cell_type": "code",
   "execution_count": 20,
   "metadata": {},
   "outputs": [
    {
     "name": "stdout",
     "output_type": "stream",
     "text": [
      "2022-04-22 10:34:11,918 [MainThread  ] [INFO ]  File protein_ligand_complex_H.pdb created\n"
     ]
    }
   ],
   "source": [
    "# Concatenating both PDB files: Protein + Ligand\n",
    "complexFile_H = pdbName + '_' + ligandName + '_complex_H.pdb'\n",
    "\n",
    "# Create and launch bb\n",
    "cat_pdb(input_structure1      = proteinFile_H,\n",
    "        input_structure2      = ligandFile_H,\n",
    "        output_structure_path = complexFile_H);"
   ]
  },
  {
   "cell_type": "markdown",
   "metadata": {},
   "source": [
    "<a id=\"complextop\"></a>\n",
    "***\n",
    "## Create new protein-ligand complex topology file\n",
    "Building new **protein-ligand complex** GROMACS topology file with:\n",
    "- The new **protein system** topology generated from *Create Protein System Topology* step.\n",
    "- The new **ligand system** topology generated from *Create Ligand System Topology* step. \n",
    "\n",
    "NOTE: From this point on, the **protein-ligand complex structure and topology** generated can be used in a regular MD setup.\n",
    "***\n",
    "**Building Blocks** used:\n",
    " - [AppendLigand](https://biobb-md.readthedocs.io/en/latest/modules.html) from **biobb_md.gromacs_extra.append_ligand**  (NOTE: link should be updated with the documentation):\n",
    "     * This class takes a ligand ITP file and inserts it in a topology.\n",
    "This module automatizes the process of inserting a ligand ITP file in a GROMACS topology.\n",
    "***"
   ]
  },
  {
   "cell_type": "code",
   "execution_count": 21,
   "metadata": {
    "scrolled": false
   },
   "outputs": [
    {
     "name": "stdout",
     "output_type": "stream",
     "text": [
      "2022-04-22 10:34:11,941 [MainThread  ] [INFO ]  Extracting: /home/lg/repos/javerianaMD/simulation/md-biobb/protein_pdb2gmx_top.zip\n",
      "2022-04-22 10:34:11,943 [MainThread  ] [INFO ]  to:\n",
      "2022-04-22 10:34:11,944 [MainThread  ] [INFO ]  ['1a8b7906-7cf0-4af4-a781-6f5f7f13f998/p2g.top', '1a8b7906-7cf0-4af4-a781-6f5f7f13f998/posre.itp']\n",
      "2022-04-22 10:34:11,945 [MainThread  ] [INFO ]  Unzipping: \n",
      "2022-04-22 10:34:11,946 [MainThread  ] [INFO ]  protein_pdb2gmx_top.zip\n",
      "2022-04-22 10:34:11,951 [MainThread  ] [INFO ]  To: \n",
      "2022-04-22 10:34:11,952 [MainThread  ] [INFO ]  1a8b7906-7cf0-4af4-a781-6f5f7f13f998/p2g.top\n",
      "2022-04-22 10:34:11,953 [MainThread  ] [INFO ]  1a8b7906-7cf0-4af4-a781-6f5f7f13f998/posre.itp\n",
      "2022-04-22 10:34:11,999 [MainThread  ] [INFO ]  Compressing topology to: protein_ligand_complex.top.zip\n",
      "2022-04-22 10:34:12,001 [MainThread  ] [INFO ]  Ignored file 1a8b7906-7cf0-4af4-a781-6f5f7f13f998/amber99sb-ildn.ff/forcefield.itp\n",
      "2022-04-22 10:34:12,022 [MainThread  ] [INFO ]  Ignored file 1a8b7906-7cf0-4af4-a781-6f5f7f13f998/amber99sb-ildn.ff/spce.itp\n",
      "2022-04-22 10:34:12,024 [MainThread  ] [INFO ]  Ignored file 1a8b7906-7cf0-4af4-a781-6f5f7f13f998/amber99sb-ildn.ff/ions.itp\n",
      "2022-04-22 10:34:12,032 [MainThread  ] [INFO ]  Adding:\n",
      "2022-04-22 10:34:12,037 [MainThread  ] [INFO ]  ['1a8b7906-7cf0-4af4-a781-6f5f7f13f998/ligand.top', '1a8b7906-7cf0-4af4-a781-6f5f7f13f998/ligand_params.itp', '1a8b7906-7cf0-4af4-a781-6f5f7f13f998/ligand_posres.itp', '1a8b7906-7cf0-4af4-a781-6f5f7f13f998/posre.itp']\n",
      "2022-04-22 10:34:12,039 [MainThread  ] [INFO ]  to: /home/lg/repos/javerianaMD/simulation/md-biobb/protein_ligand_complex.top.zip\n",
      "2022-04-22 10:34:12,041 [MainThread  ] [INFO ]  Removed: ['1a8b7906-7cf0-4af4-a781-6f5f7f13f998']\n"
     ]
    },
    {
     "data": {
      "text/plain": [
       "0"
      ]
     },
     "execution_count": 21,
     "metadata": {},
     "output_type": "execute_result"
    }
   ],
   "source": [
    "# AppendLigand: Append a ligand to a GROMACS topology\n",
    "# Import module\n",
    "from biobb_md.gromacs_extra.append_ligand import append_ligand\n",
    "\n",
    "# Create prop dict and inputs/outputs\n",
    "output_complex_top = pdbName + '_' + ligandName + '_complex.top.zip'\n",
    "\n",
    "posresifdef = \"POSRES_\" + ligandName.upper()\n",
    "prop = {\n",
    "    'posres_name': posresifdef\n",
    "}\n",
    "\n",
    "# Create and launch bb\n",
    "append_ligand(input_top_zip_path   = output_pdb2gmx_top_zip,\n",
    "             input_posres_itp_path = output_restraints_top,\n",
    "             input_itp_path        = output_acpype_itp, \n",
    "             output_top_zip_path   = output_complex_top,\n",
    "             properties            = prop)"
   ]
  },
  {
   "cell_type": "markdown",
   "metadata": {},
   "source": [
    "<a id=\"box\"></a>\n",
    "***\n",
    "## Create solvent box\n",
    "Define the unit cell for the **protein-ligand complex** to fill it with water molecules.<br>\n",
    "**Truncated octahedron** box is used for the unit cell. This box type is the one which best reflects the geometry of the solute/protein, in this case a **globular protein**, as it approximates a sphere. It is also convenient for the computational point of view, as it accumulates **less water molecules at the corners**, reducing the final number of water molecules in the system and making the simulation run faster.<br> A **protein to box** distance of **0.8 nm** is used, and the protein is **centered in the box**.  \n",
    "\n",
    "***\n",
    "**Building Blocks** used:\n",
    " - [Editconf](https://biobb-md.readthedocs.io/en/latest/gromacs.html#module-gromacs.editconf) from **biobb_md.gromacs.editconf**:\n",
    "     * The GROMACS solvate module generates a box around the selected structure.\n",
    "***"
   ]
  },
  {
   "cell_type": "code",
   "execution_count": 22,
   "metadata": {
    "scrolled": true
   },
   "outputs": [
    {
     "name": "stdout",
     "output_type": "stream",
     "text": [
      "2022-04-22 10:34:12,071 [MainThread  ] [INFO ]  GROMACS Editconf 20191 version detected\n",
      "2022-04-22 10:34:12,072 [MainThread  ] [INFO ]  Centering molecule in the box.\n",
      "2022-04-22 10:34:12,074 [MainThread  ] [INFO ]  Distance of the box to molecule:   0.80\n",
      "2022-04-22 10:34:12,075 [MainThread  ] [INFO ]  Box type: octahedron\n",
      "2022-04-22 10:34:12,076 [MainThread  ] [INFO ]  Not using any container\n",
      "2022-04-22 10:34:12,120 [MainThread  ] [INFO ]  gmx -nobackup -nocopyright editconf -f protein_ligand_complex_H.pdb -o protein_ligand_complex_editconf.gro -d 0.8 -bt octahedron -c\n",
      "\n",
      "2022-04-22 10:34:12,122 [MainThread  ] [INFO ]  Exit code 0\n",
      "\n",
      "2022-04-22 10:34:12,124 [MainThread  ] [INFO ]  Note that major changes are planned in future for editconf, to improve usability and utility.Read 2252 atoms\n",
      "Volume: 2534.49 nm^3, corresponds to roughly 1140500 electrons\n",
      "No velocities found\n",
      "    system size :  4.104  3.681  3.525 (nm)\n",
      "    diameter    :  4.778               (nm)\n",
      "    center      :  3.365 -1.411 -1.427 (nm)\n",
      "    box vectors : 17.478  9.286 15.616 (nm)\n",
      "    box angles  :  90.00  90.00  90.00 (degrees)\n",
      "    box volume  :2534.49               (nm^3)\n",
      "    shift       : -0.176  5.921  4.031 (nm)\n",
      "new center      :  3.189  4.510  2.604 (nm)\n",
      "new box vectors :  6.378  6.378  6.378 (nm)\n",
      "new box angles  :  70.53 109.47  70.53 (degrees)\n",
      "new box volume  : 199.68               (nm^3)\n",
      "\n",
      "2022-04-22 10:34:12,125 [MainThread  ] [INFO ]                       :-) GROMACS - gmx editconf, 2019.1 (-:\n",
      "\n",
      "Executable:   /opt/miniconda3/envs/biobb_env/bin/gmx\n",
      "Data prefix:  /opt/miniconda3/envs/biobb_env\n",
      "Working dir:  /home/lg/repos/javerianaMD/simulation/md-biobb\n",
      "Command line:\n",
      "  gmx -nobackup -nocopyright editconf -f protein_ligand_complex_H.pdb -o protein_ligand_complex_editconf.gro -d 0.8 -bt octahedron -c\n",
      "\n",
      "\n",
      "GROMACS reminds you: \"What If None Of Your Dreams Come True ?\" (E. Costello)\n",
      "\n",
      "\n",
      "2022-04-22 10:34:12,127 [MainThread  ] [INFO ]  Removed: []\n"
     ]
    },
    {
     "data": {
      "text/plain": [
       "0"
      ]
     },
     "execution_count": 22,
     "metadata": {},
     "output_type": "execute_result"
    }
   ],
   "source": [
    "# Editconf: Create solvent box\n",
    "# Import module\n",
    "from biobb_md.gromacs.editconf import editconf\n",
    "\n",
    "# Create prop dict and inputs/outputs\n",
    "output_editconf_gro = pdbName + '_'+ ligandName + '_complex_editconf.gro'\n",
    "\n",
    "prop = {\n",
    "    'box_type': 'octahedron',\n",
    "    'distance_to_molecule': 0.8\n",
    "}\n",
    "\n",
    "# Create and launch bb\n",
    "editconf(input_gro_path=complexFile_H, \n",
    "         output_gro_path=output_editconf_gro,\n",
    "         properties=prop)"
   ]
  },
  {
   "cell_type": "markdown",
   "metadata": {},
   "source": [
    "<a id=\"water\"></a>\n",
    "***\n",
    "## Fill the box with water molecules\n",
    "Fill the unit cell for the **protein-ligand complex** with water molecules.<br>\n",
    "The solvent type used is the default **Simple Point Charge water (SPC)**, a generic equilibrated 3-point solvent model. \n",
    "\n",
    "***\n",
    "**Building Blocks** used:\n",
    " - [Solvate](https://biobb-md.readthedocs.io/en/latest/gromacs.html#module-gromacs.solvate) from **biobb_md.gromacs.solvate**:\n",
    "     * The GROMACS solvate module, generates a box of solvent around the selected structure.\n",
    "***"
   ]
  },
  {
   "cell_type": "code",
   "execution_count": 23,
   "metadata": {
    "scrolled": true
   },
   "outputs": [
    {
     "name": "stdout",
     "output_type": "stream",
     "text": [
      "2022-04-22 10:34:12,179 [MainThread  ] [INFO ]  GROMACS Solvate 20191 version detected\n",
      "2022-04-22 10:34:12,188 [MainThread  ] [INFO ]  Extracting: /home/lg/repos/javerianaMD/simulation/md-biobb/protein_ligand_complex.top.zip\n",
      "2022-04-22 10:34:12,189 [MainThread  ] [INFO ]  to:\n",
      "2022-04-22 10:34:12,189 [MainThread  ] [INFO ]  ['d53f7d18-be23-40f0-a0a8-f880691cfa56/ligand.top', 'd53f7d18-be23-40f0-a0a8-f880691cfa56/ligand_params.itp', 'd53f7d18-be23-40f0-a0a8-f880691cfa56/ligand_posres.itp', 'd53f7d18-be23-40f0-a0a8-f880691cfa56/posre.itp']\n",
      "2022-04-22 10:34:12,190 [MainThread  ] [INFO ]  Unzipping: \n",
      "2022-04-22 10:34:12,191 [MainThread  ] [INFO ]  protein_ligand_complex.top.zip\n",
      "2022-04-22 10:34:12,191 [MainThread  ] [INFO ]  To: \n",
      "2022-04-22 10:34:12,192 [MainThread  ] [INFO ]  d53f7d18-be23-40f0-a0a8-f880691cfa56/ligand.top\n",
      "2022-04-22 10:34:12,193 [MainThread  ] [INFO ]  d53f7d18-be23-40f0-a0a8-f880691cfa56/ligand_params.itp\n",
      "2022-04-22 10:34:12,194 [MainThread  ] [INFO ]  d53f7d18-be23-40f0-a0a8-f880691cfa56/ligand_posres.itp\n",
      "2022-04-22 10:34:12,194 [MainThread  ] [INFO ]  d53f7d18-be23-40f0-a0a8-f880691cfa56/posre.itp\n",
      "2022-04-22 10:34:12,195 [MainThread  ] [INFO ]  Not using any container\n",
      "2022-04-22 10:34:12,616 [MainThread  ] [INFO ]  gmx -nobackup -nocopyright solvate -cp protein_ligand_complex_editconf.gro -cs spc216.gro -o protein_ligand_solvate.gro -p d53f7d18-be23-40f0-a0a8-f880691cfa56/ligand.top\n",
      "\n",
      "2022-04-22 10:34:12,618 [MainThread  ] [INFO ]  Exit code 0\n",
      "\n",
      "2022-04-22 10:34:12,619 [MainThread  ] [INFO ]  \n",
      "WARNING: Masses and atomic (Van der Waals) radii will be guessed\n",
      "         based on residue and atom names, since they could not be\n",
      "         definitively assigned from the information in your input\n",
      "         files. These guessed numbers might deviate from the mass\n",
      "         and radius of the atom type. Please check the output\n",
      "         files if necessary.\n",
      "\n",
      "NOTE: From version 5.0 gmx solvate uses the Van der Waals radii\n",
      "from the source below. This means the results may be different\n",
      "compared to previous GROMACS versions.\n",
      "\n",
      "++++ PLEASE READ AND CITE THE FOLLOWING REFERENCE ++++\n",
      "A. Bondi\n",
      "van der Waals Volumes and Radii\n",
      "J. Phys. Chem. 68 (1964) pp. 441-451\n",
      "-------- -------- --- Thank You --- -------- --------\n",
      "\n",
      "Adding line for 5808 solvent molecules with resname (SOL) to topology file (d53f7d18-be23-40f0-a0a8-f880691cfa56/ligand.top)\n",
      "\n",
      "2022-04-22 10:34:12,621 [MainThread  ] [INFO ]                       :-) GROMACS - gmx solvate, 2019.1 (-:\n",
      "\n",
      "Executable:   /opt/miniconda3/envs/biobb_env/bin/gmx\n",
      "Data prefix:  /opt/miniconda3/envs/biobb_env\n",
      "Working dir:  /home/lg/repos/javerianaMD/simulation/md-biobb\n",
      "Command line:\n",
      "  gmx -nobackup -nocopyright solvate -cp protein_ligand_complex_editconf.gro -cs spc216.gro -o protein_ligand_solvate.gro -p d53f7d18-be23-40f0-a0a8-f880691cfa56/ligand.top\n",
      "\n",
      "Reading solute configuration\n",
      "Reading solvent configuration\n",
      "\n",
      "Initialising inter-atomic distances...\n",
      "Generating solvent configuration\n",
      "Will generate new solvent configuration of 4x4x3 boxes\n",
      "Solvent box contains 23373 atoms in 7791 residues\n",
      "Removed 3840 solvent atoms due to solvent-solvent overlap\n",
      "Removed 2109 solvent atoms due to solute-solvent overlap\n",
      "Sorting configuration\n",
      "Found 1 molecule type:\n",
      "    SOL (   3 atoms):  5808 residues\n",
      "Generated solvent containing 17424 atoms in 5808 residues\n",
      "Writing generated configuration to protein_ligand_solvate.gro\n",
      "\n",
      "Output configuration contains 19676 atoms in 5946 residues\n",
      "Volume                 :     199.684 (nm^3)\n",
      "Density                :     1016.12 (g/l)\n",
      "Number of solvent molecules:   5808   \n",
      "\n",
      "Processing topology\n",
      "\n",
      "GROMACS reminds you: \"Just Because the Sun Wants a Place In the Sky\" (F. Zappa)\n",
      "\n",
      "\n",
      "2022-04-22 10:34:12,622 [MainThread  ] [INFO ]  Compressing topology to: protein_ligand_solvate_top.zip\n",
      "2022-04-22 10:34:12,623 [MainThread  ] [INFO ]  Ignored file d53f7d18-be23-40f0-a0a8-f880691cfa56/amber99sb-ildn.ff/forcefield.itp\n",
      "2022-04-22 10:34:12,648 [MainThread  ] [INFO ]  Ignored file d53f7d18-be23-40f0-a0a8-f880691cfa56/amber99sb-ildn.ff/spce.itp\n",
      "2022-04-22 10:34:12,649 [MainThread  ] [INFO ]  Ignored file d53f7d18-be23-40f0-a0a8-f880691cfa56/amber99sb-ildn.ff/ions.itp\n",
      "2022-04-22 10:34:12,665 [MainThread  ] [INFO ]  Adding:\n",
      "2022-04-22 10:34:12,667 [MainThread  ] [INFO ]  ['d53f7d18-be23-40f0-a0a8-f880691cfa56/ligand.top', 'd53f7d18-be23-40f0-a0a8-f880691cfa56/ligand_params.itp', 'd53f7d18-be23-40f0-a0a8-f880691cfa56/ligand_posres.itp', 'd53f7d18-be23-40f0-a0a8-f880691cfa56/posre.itp']\n",
      "2022-04-22 10:34:12,668 [MainThread  ] [INFO ]  to: /home/lg/repos/javerianaMD/simulation/md-biobb/protein_ligand_solvate_top.zip\n",
      "2022-04-22 10:34:12,670 [MainThread  ] [INFO ]  Removed: ['d53f7d18-be23-40f0-a0a8-f880691cfa56']\n"
     ]
    },
    {
     "data": {
      "text/plain": [
       "0"
      ]
     },
     "execution_count": 23,
     "metadata": {},
     "output_type": "execute_result"
    }
   ],
   "source": [
    "# Solvate: Fill the box with water molecules\n",
    "from biobb_md.gromacs.solvate import solvate\n",
    "\n",
    "# Create prop dict and inputs/outputs\n",
    "output_solvate_gro     = pdbName + '_' + ligandName + '_solvate.gro'\n",
    "output_solvate_top_zip = pdbName + '_' + ligandName + '_solvate_top.zip'\n",
    "\n",
    "# Create and launch bb\n",
    "solvate(input_solute_gro_path=output_editconf_gro,\n",
    "        output_gro_path=output_solvate_gro,\n",
    "        input_top_zip_path=output_complex_top,\n",
    "        output_top_zip_path=output_solvate_top_zip)"
   ]
  },
  {
   "cell_type": "markdown",
   "metadata": {},
   "source": [
    "### Visualizing 3D structure\n",
    "Visualizing the **protein-ligand complex** with the newly added **solvent box** using **NGL**<br>\n",
    "Note the **octahedral box** filled with **water molecules** surrounding the **protein structure**, which is **centered** right in the middle of the box."
   ]
  },
  {
   "cell_type": "code",
   "execution_count": 24,
   "metadata": {
    "scrolled": true
   },
   "outputs": [
    {
     "data": {
      "application/vnd.jupyter.widget-view+json": {
       "model_id": "749b9a68490a4af2ad183eac72366f71",
       "version_major": 2,
       "version_minor": 0
      },
      "text/plain": [
       "NGLWidget()"
      ]
     },
     "metadata": {},
     "output_type": "display_data"
    }
   ],
   "source": [
    "#Show protein\n",
    "view = nglview.show_structure_file(output_solvate_gro)\n",
    "view.clear_representations()\n",
    "view.add_representation(repr_type='cartoon', selection='protein', color='sstruc')\n",
    "view.add_representation(repr_type='licorice', radius='.5', selection=ligandName)\n",
    "view.add_representation(repr_type='line', linewidth='1', selection='SOL', opacity='.3')\n",
    "view._remote_call('setSize', target='Widget', args=['','600px'])\n",
    "view.camera='orthographic'\n",
    "view"
   ]
  },
  {
   "cell_type": "markdown",
   "metadata": {},
   "source": [
    "<img src='images/ngl7.png' width=\"50%\" height=\"50%\"></img>"
   ]
  },
  {
   "cell_type": "markdown",
   "metadata": {},
   "source": [
    "<a id=\"ions\"></a>\n",
    "***\n",
    "## Adding ions\n",
    "Add ions to neutralize the **protein-ligand complex** and reach a desired ionic concentration.\n",
    "- [Step 1](#ionsStep1): Creating portable binary run file for ion generation\n",
    "- [Step 2](#ionsStep2): Adding ions to **neutralize** the system and reach a **0.05 molar ionic concentration**\n",
    "***\n",
    "**Building Blocks** used:\n",
    " - [Grompp](https://biobb-md.readthedocs.io/en/latest/gromacs.html#module-gromacs.grompp) from **biobb_md.gromacs.grompp**:\n",
    "     * The GROMACS preprocessor module needs to be fed with the input system and the dynamics parameters to create a portable binary run input file TPR.\n",
    "     \n",
    "     \n",
    " - [Genion](https://biobb-md.readthedocs.io/en/latest/gromacs.html#module-gromacs.genion) from **biobb_md.gromacs.genion**:\n",
    "     * The GROMACS genion module randomly replaces solvent molecules with monoatomic ions. The group of solvent molecules should be continuous and all molecules should have the same number of atoms.\n",
    "***"
   ]
  },
  {
   "cell_type": "markdown",
   "metadata": {},
   "source": [
    "<a id=\"ionsStep1\"></a>\n",
    "### Step 1: Creating portable binary run file for ion generation"
   ]
  },
  {
   "cell_type": "code",
   "execution_count": 25,
   "metadata": {
    "scrolled": true
   },
   "outputs": [
    {
     "name": "stdout",
     "output_type": "stream",
     "text": [
      "2022-04-22 10:34:13,016 [MainThread  ] [INFO ]  GROMACS Grompp 20191 version detected\n",
      "2022-04-22 10:34:13,022 [MainThread  ] [INFO ]  Extracting: /home/lg/repos/javerianaMD/simulation/md-biobb/protein_ligand_solvate_top.zip\n",
      "2022-04-22 10:34:13,023 [MainThread  ] [INFO ]  to:\n",
      "2022-04-22 10:34:13,024 [MainThread  ] [INFO ]  ['2c79ed34-df5e-4296-81b4-9169dff81815/ligand.top', '2c79ed34-df5e-4296-81b4-9169dff81815/ligand_params.itp', '2c79ed34-df5e-4296-81b4-9169dff81815/ligand_posres.itp', '2c79ed34-df5e-4296-81b4-9169dff81815/posre.itp']\n",
      "2022-04-22 10:34:13,025 [MainThread  ] [INFO ]  Unzipping: \n",
      "2022-04-22 10:34:13,026 [MainThread  ] [INFO ]  protein_ligand_solvate_top.zip\n",
      "2022-04-22 10:34:13,027 [MainThread  ] [INFO ]  To: \n",
      "2022-04-22 10:34:13,028 [MainThread  ] [INFO ]  2c79ed34-df5e-4296-81b4-9169dff81815/ligand.top\n",
      "2022-04-22 10:34:13,028 [MainThread  ] [INFO ]  2c79ed34-df5e-4296-81b4-9169dff81815/ligand_params.itp\n",
      "2022-04-22 10:34:13,029 [MainThread  ] [INFO ]  2c79ed34-df5e-4296-81b4-9169dff81815/ligand_posres.itp\n",
      "2022-04-22 10:34:13,030 [MainThread  ] [INFO ]  2c79ed34-df5e-4296-81b4-9169dff81815/posre.itp\n",
      "2022-04-22 10:34:13,031 [MainThread  ] [INFO ]  Not using any container\n",
      "2022-04-22 10:34:13,539 [MainThread  ] [INFO ]  gmx -nobackup -nocopyright grompp -f 527f45cd-c6fe-4c6b-ac6b-81253fbb9268/grompp.mdp -c protein_ligand_solvate.gro -r protein_ligand_solvate.gro -p 2c79ed34-df5e-4296-81b4-9169dff81815/ligand.top -o protein_ligand_complex_gppion.tpr -po mdout.mdp -maxwarn 1\n",
      "\n",
      "2022-04-22 10:34:13,540 [MainThread  ] [INFO ]  Exit code 0\n",
      "\n",
      "2022-04-22 10:34:13,541 [MainThread  ] [INFO ]  \n",
      "++++ PLEASE READ AND CITE THE FOLLOWING REFERENCE ++++\n",
      "J. S. Hub, B. L. de Groot, H. Grubmueller, G. Groenhof\n",
      "Quantifying Artifacts in Ewald Simulations of Inhomogeneous Systems with a Net\n",
      "Charge\n",
      "J. Chem. Theory Comput. 10 (2014) pp. 381-393\n",
      "-------- -------- --- Thank You --- -------- --------\n",
      "\n",
      "Analysing residue names:\n",
      "There are:   137    Protein residues\n",
      "There are:     1      Other residues\n",
      "There are:  5808      Water residues\n",
      "Analysing Protein...\n",
      "Analysing residues not classified as Protein/DNA/RNA/Water and splitting into groups...\n",
      "Calculating fourier grid dimensions for X Y Z\n",
      "Using a fourier grid of 56x56x56, spacing 0.114 0.114 0.114\n",
      "This run will generate roughly 2 Mb of data\n",
      "\n",
      "2022-04-22 10:34:13,542 [MainThread  ] [INFO ]                        :-) GROMACS - gmx grompp, 2019.1 (-:\n",
      "\n",
      "Executable:   /opt/miniconda3/envs/biobb_env/bin/gmx\n",
      "Data prefix:  /opt/miniconda3/envs/biobb_env\n",
      "Working dir:  /home/lg/repos/javerianaMD/simulation/md-biobb\n",
      "Command line:\n",
      "  gmx -nobackup -nocopyright grompp -f 527f45cd-c6fe-4c6b-ac6b-81253fbb9268/grompp.mdp -c protein_ligand_solvate.gro -r protein_ligand_solvate.gro -p 2c79ed34-df5e-4296-81b4-9169dff81815/ligand.top -o protein_ligand_complex_gppion.tpr -po mdout.mdp -maxwarn 1\n",
      "\n",
      "Setting the LD random seed to 1238351143\n",
      "Generated 2485 of the 2485 non-bonded parameter combinations\n",
      "Generating 1-4 interactions: fudge = 0.5\n",
      "Generated 2485 of the 2485 1-4 parameter combinations\n",
      "Excluding 3 bonded neighbours molecule type 'Protein_chain_A'\n",
      "Excluding 3 bonded neighbours molecule type 'ligand_params'\n",
      "Excluding 2 bonded neighbours molecule type 'SOL'\n",
      "\n",
      "NOTE 1 [file ligand.top, line 21205]:\n",
      "  System has non-zero total charge: -3.999997\n",
      "  Total charge should normally be an integer. See\n",
      "  http://www.gromacs.org/Documentation/Floating_Point_Arithmetic\n",
      "  for discussion on how close it should be to an integer.\n",
      "  \n",
      "\n",
      "\n",
      "\n",
      "WARNING 1 [file ligand.top, line 21205]:\n",
      "  You are using Ewald electrostatics in a system with net charge. This can\n",
      "  lead to severe artifacts, such as ions moving into regions with low\n",
      "  dielectric, due to the uniform background charge. We suggest to\n",
      "  neutralize your system with counter ions, possibly in combination with a\n",
      "  physiological salt concentration.\n",
      "\n",
      "Removing all charge groups because cutoff-scheme=Verlet\n",
      "Number of degrees of freedom in T-Coupling group rest is 41601.00\n",
      "Estimate for the relative computational load of the PME mesh part: 0.18\n",
      "\n",
      "There was 1 note\n",
      "\n",
      "There was 1 warning\n",
      "\n",
      "GROMACS reminds you: \"Occams Razor is the scientific principle that, all things being equal, the simplest explanation is always the dog ate my homework.\" (Greg Tamblyn)\n",
      "\n",
      "\n",
      "2022-04-22 10:34:13,544 [MainThread  ] [INFO ]  Removed: ['mdout.mdp', '2c79ed34-df5e-4296-81b4-9169dff81815', '527f45cd-c6fe-4c6b-ac6b-81253fbb9268']\n"
     ]
    }
   ],
   "source": [
    "# Grompp: Creating portable binary run file for ion generation\n",
    "from biobb_md.gromacs.grompp import grompp\n",
    "\n",
    "# Create prop dict and inputs/outputs\n",
    "prop = {\n",
    "    'mdp':{\n",
    "        'nsteps':'5000'\n",
    "    },\n",
    "    'simulation_type':'minimization',\n",
    "    'maxwarn': 1\n",
    "}\n",
    "output_gppion_tpr = pdbName + '_' + ligandName + '_complex_gppion.tpr'\n",
    "\n",
    "# Create and launch bb\n",
    "grompp(input_gro_path=output_solvate_gro,\n",
    "       input_top_zip_path=output_solvate_top_zip, \n",
    "       output_tpr_path=output_gppion_tpr,\n",
    "       properties=prop);"
   ]
  },
  {
   "cell_type": "markdown",
   "metadata": {},
   "source": [
    "<a id=\"ionsStep2\"></a>\n",
    "### Step 2: Adding ions to neutralize the system and reach a 0.05 molar concentration\n",
    "Replace **solvent molecules** with **ions** to **neutralize** the system and reaching a **0.05 molar ionic concentration**"
   ]
  },
  {
   "cell_type": "code",
   "execution_count": 26,
   "metadata": {
    "scrolled": true
   },
   "outputs": [
    {
     "name": "stdout",
     "output_type": "stream",
     "text": [
      "2022-04-22 10:34:13,625 [MainThread  ] [INFO ]  GROMACS Genion 20191 version detected\n",
      "2022-04-22 10:34:13,633 [MainThread  ] [INFO ]  Extracting: /home/lg/repos/javerianaMD/simulation/md-biobb/protein_ligand_solvate_top.zip\n",
      "2022-04-22 10:34:13,636 [MainThread  ] [INFO ]  to:\n",
      "2022-04-22 10:34:13,637 [MainThread  ] [INFO ]  ['3797d416-513a-4c8d-9b71-f38a9d9f9f26/ligand.top', '3797d416-513a-4c8d-9b71-f38a9d9f9f26/ligand_params.itp', '3797d416-513a-4c8d-9b71-f38a9d9f9f26/ligand_posres.itp', '3797d416-513a-4c8d-9b71-f38a9d9f9f26/posre.itp']\n",
      "2022-04-22 10:34:13,638 [MainThread  ] [INFO ]  Unzipping: \n",
      "2022-04-22 10:34:13,646 [MainThread  ] [INFO ]  protein_ligand_solvate_top.zip\n",
      "2022-04-22 10:34:13,648 [MainThread  ] [INFO ]  To: \n",
      "2022-04-22 10:34:13,651 [MainThread  ] [INFO ]  3797d416-513a-4c8d-9b71-f38a9d9f9f26/ligand.top\n",
      "2022-04-22 10:34:13,652 [MainThread  ] [INFO ]  3797d416-513a-4c8d-9b71-f38a9d9f9f26/ligand_params.itp\n",
      "2022-04-22 10:34:13,653 [MainThread  ] [INFO ]  3797d416-513a-4c8d-9b71-f38a9d9f9f26/ligand_posres.itp\n",
      "2022-04-22 10:34:13,662 [MainThread  ] [INFO ]  3797d416-513a-4c8d-9b71-f38a9d9f9f26/posre.itp\n",
      "2022-04-22 10:34:13,662 [MainThread  ] [INFO ]  To reach up 0.05 mol/litre concentration\n",
      "2022-04-22 10:34:13,663 [MainThread  ] [INFO ]  Not using any container\n",
      "2022-04-22 10:34:13,869 [MainThread  ] [INFO ]  echo \"SOL\" | gmx -nobackup -nocopyright genion -s protein_ligand_complex_gppion.tpr -o protein_ligand_genion.gro -p 3797d416-513a-4c8d-9b71-f38a9d9f9f26/ligand.top -neutral -conc 0.05 -seed 1993\n",
      "\n",
      "2022-04-22 10:34:13,870 [MainThread  ] [INFO ]  Exit code 0\n",
      "\n",
      "2022-04-22 10:34:13,871 [MainThread  ] [INFO ]  Will try to add 10 NA ions and 6 CL ions.\n",
      "Select a continuous group of solvent molecules\n",
      "Selected 15: 'SOL'\n",
      "\n",
      "Processing topology\n",
      "Replacing 16 solute molecules in topology file (3797d416-513a-4c8d-9b71-f38a9d9f9f26/ligand.top)  by 10 NA and 6 CL ions.\n",
      "\n",
      "2022-04-22 10:34:13,872 [MainThread  ] [INFO ]                        :-) GROMACS - gmx genion, 2019.1 (-:\n",
      "\n",
      "Executable:   /opt/miniconda3/envs/biobb_env/bin/gmx\n",
      "Data prefix:  /opt/miniconda3/envs/biobb_env\n",
      "Working dir:  /home/lg/repos/javerianaMD/simulation/md-biobb\n",
      "Command line:\n",
      "  gmx -nobackup -nocopyright genion -s protein_ligand_complex_gppion.tpr -o protein_ligand_genion.gro -p 3797d416-513a-4c8d-9b71-f38a9d9f9f26/ligand.top -neutral -conc 0.05 -seed 1993\n",
      "\n",
      "Reading file protein_ligand_complex_gppion.tpr, VERSION 2019.1 (single precision)\n",
      "Reading file protein_ligand_complex_gppion.tpr, VERSION 2019.1 (single precision)\n",
      "Group     0 (         System) has 19676 elements\n",
      "Group     1 (        Protein) has  2232 elements\n",
      "Group     2 (      Protein-H) has  1145 elements\n",
      "Group     3 (        C-alpha) has   137 elements\n",
      "Group     4 (       Backbone) has   411 elements\n",
      "Group     5 (      MainChain) has   549 elements\n",
      "Group     6 (   MainChain+Cb) has   676 elements\n",
      "Group     7 (    MainChain+H) has   685 elements\n",
      "Group     8 (      SideChain) has  1547 elements\n",
      "Group     9 (    SideChain-H) has   596 elements\n",
      "Group    10 (    Prot-Masses) has  2232 elements\n",
      "Group    11 (    non-Protein) has 17444 elements\n",
      "Group    12 (          Other) has    20 elements\n",
      "Group    13 (            GEN) has    20 elements\n",
      "Group    14 (          Water) has 17424 elements\n",
      "Group    15 (            SOL) has 17424 elements\n",
      "Group    16 (      non-Water) has  2252 elements\n",
      "Select a group: Number of (3-atomic) solvent molecules: 5808\n",
      "Using random seed 1993.\n",
      "Replacing solvent molecule 5758 (atom 19526) with NA\n",
      "Replacing solvent molecule 3713 (atom 13391) with NA\n",
      "Replacing solvent molecule 294 (atom 3134) with NA\n",
      "Replacing solvent molecule 378 (atom 3386) with NA\n",
      "Replacing solvent molecule 2054 (atom 8414) with NA\n",
      "Replacing solvent molecule 3314 (atom 12194) with NA\n",
      "Replacing solvent molecule 2213 (atom 8891) with NA\n",
      "Replacing solvent molecule 2304 (atom 9164) with NA\n",
      "Replacing solvent molecule 1640 (atom 7172) with NA\n",
      "Replacing solvent molecule 2994 (atom 11234) with NA\n",
      "Replacing solvent molecule 905 (atom 4967) with CL\n",
      "Replacing solvent molecule 1587 (atom 7013) with CL\n",
      "Replacing solvent molecule 2779 (atom 10589) with CL\n",
      "Replacing solvent molecule 3952 (atom 14108) with CL\n",
      "Replacing solvent molecule 1900 (atom 7952) with CL\n",
      "Replacing solvent molecule 4536 (atom 15860) with CL\n",
      "\n",
      "\n",
      "GROMACS reminds you: \"Don't Follow Me Home\" (Throwing Muses)\n",
      "\n",
      "\n",
      "2022-04-22 10:34:13,873 [MainThread  ] [INFO ]  Compressing topology to: protein_ligand_genion_top.zip\n",
      "2022-04-22 10:34:13,874 [MainThread  ] [INFO ]  Ignored file 3797d416-513a-4c8d-9b71-f38a9d9f9f26/amber99sb-ildn.ff/forcefield.itp\n",
      "2022-04-22 10:34:13,910 [MainThread  ] [INFO ]  Ignored file 3797d416-513a-4c8d-9b71-f38a9d9f9f26/amber99sb-ildn.ff/spce.itp\n",
      "2022-04-22 10:34:13,913 [MainThread  ] [INFO ]  Ignored file 3797d416-513a-4c8d-9b71-f38a9d9f9f26/amber99sb-ildn.ff/ions.itp\n",
      "2022-04-22 10:34:13,920 [MainThread  ] [INFO ]  Adding:\n",
      "2022-04-22 10:34:13,921 [MainThread  ] [INFO ]  ['3797d416-513a-4c8d-9b71-f38a9d9f9f26/ligand.top', '3797d416-513a-4c8d-9b71-f38a9d9f9f26/ligand_params.itp', '3797d416-513a-4c8d-9b71-f38a9d9f9f26/ligand_posres.itp', '3797d416-513a-4c8d-9b71-f38a9d9f9f26/posre.itp']\n",
      "2022-04-22 10:34:13,922 [MainThread  ] [INFO ]  to: /home/lg/repos/javerianaMD/simulation/md-biobb/protein_ligand_genion_top.zip\n",
      "2022-04-22 10:34:13,923 [MainThread  ] [INFO ]  Removed: ['3797d416-513a-4c8d-9b71-f38a9d9f9f26']\n"
     ]
    },
    {
     "data": {
      "text/plain": [
       "0"
      ]
     },
     "execution_count": 26,
     "metadata": {},
     "output_type": "execute_result"
    }
   ],
   "source": [
    "# Genion: Adding ions to reach a 0.05 molar concentration\n",
    "from biobb_md.gromacs.genion import genion\n",
    "\n",
    "# Create prop dict and inputs/outputs\n",
    "prop={\n",
    "    'neutral':True,\n",
    "    'concentration':0.05\n",
    "}\n",
    "output_genion_gro = pdbName + '_' + ligandName+'_genion.gro'\n",
    "output_genion_top_zip = pdbName + '_' + ligandName+'_genion_top.zip'\n",
    "\n",
    "# Create and launch bb\n",
    "genion(input_tpr_path=output_gppion_tpr,\n",
    "       output_gro_path=output_genion_gro, \n",
    "       input_top_zip_path=output_solvate_top_zip,\n",
    "       output_top_zip_path=output_genion_top_zip, \n",
    "       properties=prop)"
   ]
  },
  {
   "cell_type": "markdown",
   "metadata": {},
   "source": [
    "### Visualizing 3D structure\n",
    "Visualizing the **protein-ligand complex** with the newly added **ionic concentration** using **NGL**"
   ]
  },
  {
   "cell_type": "code",
   "execution_count": 27,
   "metadata": {
    "scrolled": false
   },
   "outputs": [
    {
     "data": {
      "application/vnd.jupyter.widget-view+json": {
       "model_id": "a4a57117803443d38d0c5c49d693ffb5",
       "version_major": 2,
       "version_minor": 0
      },
      "text/plain": [
       "NGLWidget()"
      ]
     },
     "metadata": {},
     "output_type": "display_data"
    }
   ],
   "source": [
    "#Show protein\n",
    "view = nglview.show_structure_file(output_genion_gro)\n",
    "view.clear_representations()\n",
    "view.add_representation(repr_type='cartoon', selection='protein', color='sstruc')\n",
    "view.add_representation(repr_type='licorice', radius='.5', selection=ligandName)\n",
    "\n",
    "view.add_representation(repr_type='line', linewidth='1', selection='SOL', opacity='.3')\n",
    "\n",
    "view.add_representation(repr_type='ball+stick', selection='NA')\n",
    "view.add_representation(repr_type='ball+stick', selection='CL')\n",
    "view._remote_call('setSize', target='Widget', args=['','400px'])\n",
    "view.camera='orthographic'\n",
    "view.center()\n",
    "view"
   ]
  },
  {
   "cell_type": "markdown",
   "metadata": {},
   "source": [
    "<img src='images/ngl8.png' width=\"50%\" height=\"50%\"></img>"
   ]
  },
  {
   "cell_type": "markdown",
   "metadata": {},
   "source": [
    "<a id=\"min\"></a>\n",
    "***\n",
    "## Energetically minimize the system\n",
    "Energetically minimize the **protein-ligand complex** till reaching a desired potential energy.\n",
    "- [Step 1](#emStep1): Creating portable binary run file for energy minimization\n",
    "- [Step 2](#emStep2): Energetically minimize the **protein-ligand complex** till reaching a force of 500 kJ mol-1 nm-1.\n",
    "- [Step 3](#emStep3): Checking **energy minimization** results. Plotting energy by time during the **minimization** process.\n",
    "***\n",
    "**Building Blocks** used:\n",
    " - [Grompp](https://biobb-md.readthedocs.io/en/latest/gromacs.html#module-gromacs.grompp) from **biobb_md.gromacs.grompp**:\n",
    "     * The GROMACS preprocessor module needs to be fed with the input system and the dynamics parameters to create a portable binary run input file TPR.\n",
    "     \n",
    "     \n",
    " - [Mdrun](https://biobb-md.readthedocs.io/en/latest/gromacs.html#module-gromacs.mdrun) from **biobb_md.gromacs.mdrun**:\n",
    "     * MDRun is the main computational chemistry engine within GROMACS. It performs Molecular Dynamics simulations, but it can also perform Stochastic Dynamics, Energy Minimization, test particle insertion or (re)calculation of energies.\n",
    "     \n",
    "     \n",
    " - [GMXEnergy](https://biobb-analysis.readthedocs.io/en/latest/gromacs.html#module-gromacs.gmx_energy) from **biobb_analysis.gromacs.gmx_energy**:\n",
    "     * GROMACS energy extracts energy components from an energy file.\n",
    "***"
   ]
  },
  {
   "cell_type": "markdown",
   "metadata": {},
   "source": [
    "<a id=\"emStep1\"></a>\n",
    "### Step 1: Creating portable binary run file for energy minimization\n",
    "Method used to run the **energy minimization** is a **steepest descent**, with a **maximum force of 500 KJ/mol\\*nm^2**, and a minimization **step size of 1fs**. The **maximum number of steps** to perform if the maximum force is not reached is **5,000 steps**. "
   ]
  },
  {
   "cell_type": "code",
   "execution_count": 28,
   "metadata": {
    "scrolled": false
   },
   "outputs": [
    {
     "name": "stdout",
     "output_type": "stream",
     "text": [
      "2022-04-22 10:34:14,322 [MainThread  ] [INFO ]  GROMACS Grompp 20191 version detected\n",
      "2022-04-22 10:34:14,326 [MainThread  ] [INFO ]  Extracting: /home/lg/repos/javerianaMD/simulation/md-biobb/protein_ligand_genion_top.zip\n",
      "2022-04-22 10:34:14,327 [MainThread  ] [INFO ]  to:\n",
      "2022-04-22 10:34:14,327 [MainThread  ] [INFO ]  ['a4b947b3-ccea-46a9-8f68-8aa6327b8a6e/ligand.top', 'a4b947b3-ccea-46a9-8f68-8aa6327b8a6e/ligand_params.itp', 'a4b947b3-ccea-46a9-8f68-8aa6327b8a6e/ligand_posres.itp', 'a4b947b3-ccea-46a9-8f68-8aa6327b8a6e/posre.itp']\n",
      "2022-04-22 10:34:14,328 [MainThread  ] [INFO ]  Unzipping: \n",
      "2022-04-22 10:34:14,329 [MainThread  ] [INFO ]  protein_ligand_genion_top.zip\n",
      "2022-04-22 10:34:14,329 [MainThread  ] [INFO ]  To: \n",
      "2022-04-22 10:34:14,330 [MainThread  ] [INFO ]  a4b947b3-ccea-46a9-8f68-8aa6327b8a6e/ligand.top\n",
      "2022-04-22 10:34:14,331 [MainThread  ] [INFO ]  a4b947b3-ccea-46a9-8f68-8aa6327b8a6e/ligand_params.itp\n",
      "2022-04-22 10:34:14,332 [MainThread  ] [INFO ]  a4b947b3-ccea-46a9-8f68-8aa6327b8a6e/ligand_posres.itp\n",
      "2022-04-22 10:34:14,332 [MainThread  ] [INFO ]  a4b947b3-ccea-46a9-8f68-8aa6327b8a6e/posre.itp\n",
      "2022-04-22 10:34:14,333 [MainThread  ] [INFO ]  Not using any container\n",
      "2022-04-22 10:34:14,810 [MainThread  ] [INFO ]  gmx -nobackup -nocopyright grompp -f 61c11f15-4db1-4bfb-8dd5-e94268619122/grompp.mdp -c protein_ligand_genion.gro -r protein_ligand_genion.gro -p a4b947b3-ccea-46a9-8f68-8aa6327b8a6e/ligand.top -o protein_ligand_gppmin.tpr -po mdout.mdp -maxwarn 0\n",
      "\n",
      "2022-04-22 10:34:14,811 [MainThread  ] [INFO ]  Exit code 0\n",
      "\n",
      "2022-04-22 10:34:14,812 [MainThread  ] [INFO ]  Analysing residue names:\n",
      "There are:   137    Protein residues\n",
      "There are:     1      Other residues\n",
      "There are:  5792      Water residues\n",
      "There are:    16        Ion residues\n",
      "Analysing Protein...\n",
      "Analysing residues not classified as Protein/DNA/RNA/Water and splitting into groups...\n",
      "Analysing residues not classified as Protein/DNA/RNA/Water and splitting into groups...\n",
      "Calculating fourier grid dimensions for X Y Z\n",
      "Using a fourier grid of 56x56x56, spacing 0.114 0.114 0.114\n",
      "This run will generate roughly 2 Mb of data\n",
      "\n",
      "2022-04-22 10:34:14,819 [MainThread  ] [INFO ]                        :-) GROMACS - gmx grompp, 2019.1 (-:\n",
      "\n",
      "Executable:   /opt/miniconda3/envs/biobb_env/bin/gmx\n",
      "Data prefix:  /opt/miniconda3/envs/biobb_env\n",
      "Working dir:  /home/lg/repos/javerianaMD/simulation/md-biobb\n",
      "Command line:\n",
      "  gmx -nobackup -nocopyright grompp -f 61c11f15-4db1-4bfb-8dd5-e94268619122/grompp.mdp -c protein_ligand_genion.gro -r protein_ligand_genion.gro -p a4b947b3-ccea-46a9-8f68-8aa6327b8a6e/ligand.top -o protein_ligand_gppmin.tpr -po mdout.mdp -maxwarn 0\n",
      "\n",
      "Setting the LD random seed to 878753113\n",
      "Generated 2485 of the 2485 non-bonded parameter combinations\n",
      "Generating 1-4 interactions: fudge = 0.5\n",
      "Generated 2485 of the 2485 1-4 parameter combinations\n",
      "Excluding 3 bonded neighbours molecule type 'Protein_chain_A'\n",
      "Excluding 3 bonded neighbours molecule type 'ligand_params'\n",
      "Excluding 2 bonded neighbours molecule type 'SOL'\n",
      "Excluding 1 bonded neighbours molecule type 'NA'\n",
      "Excluding 1 bonded neighbours molecule type 'CL'\n",
      "Removing all charge groups because cutoff-scheme=Verlet\n",
      "Number of degrees of freedom in T-Coupling group rest is 41553.00\n",
      "Estimate for the relative computational load of the PME mesh part: 0.18\n",
      "\n",
      "GROMACS reminds you: \"I believe in miracles cause I'm one\" (The Ramones)\n",
      "\n",
      "\n",
      "2022-04-22 10:34:14,822 [MainThread  ] [INFO ]  Removed: ['mdout.mdp', 'a4b947b3-ccea-46a9-8f68-8aa6327b8a6e', '61c11f15-4db1-4bfb-8dd5-e94268619122']\n"
     ]
    },
    {
     "data": {
      "text/plain": [
       "0"
      ]
     },
     "execution_count": 28,
     "metadata": {},
     "output_type": "execute_result"
    }
   ],
   "source": [
    "# Grompp: Creating portable binary run file for mdrun\n",
    "from biobb_md.gromacs.grompp import grompp\n",
    "\n",
    "# Create prop dict and inputs/outputs\n",
    "prop = {\n",
    "    'mdp':{\n",
    "        'nsteps':'5000',\n",
    "        'emstep': 0.01,\n",
    "        'emtol':'500'\n",
    "    },\n",
    "    'simulation_type':'minimization'\n",
    "}\n",
    "output_gppmin_tpr = pdbName + '_' + ligandName + '_gppmin.tpr'\n",
    "\n",
    "# Create and launch bb\n",
    "grompp(input_gro_path     = output_genion_gro,\n",
    "       input_top_zip_path = output_genion_top_zip,\n",
    "       output_tpr_path    = output_gppmin_tpr,\n",
    "       properties         = prop)"
   ]
  },
  {
   "cell_type": "markdown",
   "metadata": {},
   "source": [
    "<a id=\"emStep2\"></a>\n",
    "### Step 2: Running Energy Minimization\n",
    "Running **energy minimization** using the **tpr file** generated in the previous step."
   ]
  },
  {
   "cell_type": "code",
   "execution_count": 29,
   "metadata": {},
   "outputs": [
    {
     "name": "stdout",
     "output_type": "stream",
     "text": [
      "2022-04-22 10:34:14,852 [MainThread  ] [INFO ]  GROMACS Mdrun 20191 version detected\n",
      "2022-04-22 10:34:14,853 [MainThread  ] [INFO ]  Not using any container\n",
      "2022-04-22 10:35:25,417 [MainThread  ] [INFO ]  gmx -nobackup -nocopyright mdrun -s protein_ligand_gppmin.tpr -o protein_ligand_min.trr -c protein_ligand_min.gro -e protein_ligand_min.edr -g protein_ligand_min.log\n",
      "\n",
      "2022-04-22 10:35:25,418 [MainThread  ] [INFO ]  Exit code 0\n",
      "\n",
      "2022-04-22 10:35:25,419 [MainThread  ] [INFO ]                        :-) GROMACS - gmx mdrun, 2019.1 (-:\n",
      "\n",
      "Executable:   /opt/miniconda3/envs/biobb_env/bin/gmx\n",
      "Data prefix:  /opt/miniconda3/envs/biobb_env\n",
      "Working dir:  /home/lg/repos/javerianaMD/simulation/md-biobb\n",
      "Command line:\n",
      "  gmx -nobackup -nocopyright mdrun -s protein_ligand_gppmin.tpr -o protein_ligand_min.trr -c protein_ligand_min.gro -e protein_ligand_min.edr -g protein_ligand_min.log\n",
      "\n",
      "Compiled SIMD: SSE2, but for this host/run AVX2_256 might be better (see log).\n",
      "The current CPU can measure timings more accurately than the code in\n",
      "gmx mdrun was configured to use. This might affect your simulation\n",
      "speed as accurate timings are needed for load-balancing.\n",
      "Please consider rebuilding gmx mdrun with the GMX_USE_RDTSCP=ON CMake option.\n",
      "Reading file protein_ligand_gppmin.tpr, VERSION 2019.1 (single precision)\n",
      "\n",
      "Using 1 MPI thread\n",
      "Using 4 OpenMP threads \n",
      "\n",
      "\n",
      "Steepest Descents:\n",
      "   Tolerance (Fmax)   =  5.00000e+02\n",
      "   Number of steps    =         5000\n",
      "\n",
      "WARNING: Listed nonbonded interaction between particles 390 and 396\n",
      "at distance 2.088 which is larger than the table limit 2.050 nm.\n",
      "\n",
      "This is likely either a 1,4 interaction, or a listed interaction inside\n",
      "a smaller molecule you are decoupling during a free energy calculation.\n",
      "Since interactions at distances beyond the table cannot be computed,\n",
      "they are skipped until they are inside the table limit again. You will\n",
      "only see this message once, even if it occurs for several interactions.\n",
      "\n",
      "IMPORTANT: This should not happen in a stable simulation, so there is\n",
      "probably something wrong with your system. Only change the table-extension\n",
      "distance in the mdp file if you are really sure that is the reason.\n",
      "\n",
      "\n",
      "\n",
      "step 16: One or more water molecules can not be settled.\n",
      "Check for bad contacts and/or reduce the timestep if appropriate.\n",
      "Wrote pdb files with previous and current coordinates\n",
      "\n",
      "writing lowest energy coordinates.\n",
      "\n",
      "Steepest Descents converged to Fmax < 500 in 1454 steps\n",
      "Potential Energy  = -3.2040634e+05\n",
      "Maximum force     =  4.7741373e+02 on atom 2245\n",
      "Norm of force     =  2.2395745e+01\n",
      "\n",
      "GROMACS reminds you: \"Here's Another Useful Quote\" (S. Boot)\n",
      "\n",
      "\n",
      "2022-04-22 10:35:25,420 [MainThread  ] [INFO ]  Removed: []\n"
     ]
    },
    {
     "data": {
      "text/plain": [
       "0"
      ]
     },
     "execution_count": 29,
     "metadata": {},
     "output_type": "execute_result"
    }
   ],
   "source": [
    "# Mdrun: Running minimization\n",
    "from biobb_md.gromacs.mdrun import mdrun\n",
    "\n",
    "# Create prop dict and inputs/outputs\n",
    "output_min_trr = pdbName+'_'+ligandName+'_min.trr'\n",
    "output_min_gro = pdbName+'_'+ligandName+'_min.gro'\n",
    "output_min_edr = pdbName+'_'+ligandName+'_min.edr'\n",
    "output_min_log = pdbName+'_'+ligandName+'_min.log'\n",
    "\n",
    "# Create and launch bb\n",
    "mdrun(input_tpr_path  = output_gppmin_tpr,\n",
    "      output_trr_path = output_min_trr, \n",
    "      output_gro_path = output_min_gro,\n",
    "      output_edr_path = output_min_edr, \n",
    "      output_log_path = output_min_log)"
   ]
  },
  {
   "cell_type": "markdown",
   "metadata": {},
   "source": [
    "<a id=\"emStep3\"></a>\n",
    "### Step 3: Checking Energy Minimization results\n",
    "Checking **energy minimization** results. Plotting **potential energy** by time during the minimization process. "
   ]
  },
  {
   "cell_type": "code",
   "execution_count": 30,
   "metadata": {},
   "outputs": [
    {
     "name": "stdout",
     "output_type": "stream",
     "text": [
      "2022-04-22 10:35:25,440 [MainThread  ] [INFO ]  Not using any container\n",
      "2022-04-22 10:35:25,461 [MainThread  ] [INFO ]  gmx energy -f /home/lg/repos/javerianaMD/simulation/md-biobb/protein_ligand_min.edr -o protein_ligand_min_ene.xvg -xvg none < 32cc51a2-53ea-4a3b-8945-2fd2ffdf7def/instructions.in\n",
      "\n",
      "2022-04-22 10:35:25,469 [MainThread  ] [INFO ]  Exit code 0\n",
      "\n",
      "2022-04-22 10:35:25,470 [MainThread  ] [INFO ]  \n",
      "Statistics over 1454 steps [ 0.0000 through 1453.0000 ps ], 1 data sets\n",
      "All statistics are over 1150 points (frames)\n",
      "\n",
      "Energy                      Average   Err.Est.       RMSD  Tot-Drift\n",
      "-------------------------------------------------------------------------------\n",
      "Potential                   -292857      18000    75481.1    -114387  (kJ/mol)\n",
      "\n",
      "2022-04-22 10:35:25,471 [MainThread  ] [INFO ]                        :-) GROMACS - gmx energy, 2019.1 (-:\n",
      "\n",
      "                            GROMACS is written by:\n",
      "     Emile Apol      Rossen Apostolov      Paul Bauer     Herman J.C. Berendsen\n",
      "    Par Bjelkmar      Christian Blau   Viacheslav Bolnykh     Kevin Boyd    \n",
      " Aldert van Buuren   Rudi van Drunen     Anton Feenstra       Alan Gray     \n",
      "  Gerrit Groenhof     Anca Hamuraru    Vincent Hindriksen  M. Eric Irrgang  \n",
      "  Aleksei Iupinov   Christoph Junghans     Joe Jordan     Dimitrios Karkoulis\n",
      "    Peter Kasson        Jiri Kraus      Carsten Kutzner      Per Larsson    \n",
      "  Justin A. Lemkul    Viveca Lindahl    Magnus Lundborg     Erik Marklund   \n",
      "    Pascal Merz     Pieter Meulenhoff    Teemu Murtola       Szilard Pall   \n",
      "    Sander Pronk      Roland Schulz      Michael Shirts    Alexey Shvetsov  \n",
      "   Alfons Sijbers     Peter Tieleman      Jon Vincent      Teemu Virolainen \n",
      " Christian Wennberg    Maarten Wolf   \n",
      "                           and the project leaders:\n",
      "        Mark Abraham, Berk Hess, Erik Lindahl, and David van der Spoel\n",
      "\n",
      "Copyright (c) 1991-2000, University of Groningen, The Netherlands.\n",
      "Copyright (c) 2001-2018, The GROMACS development team at\n",
      "Uppsala University, Stockholm University and\n",
      "the Royal Institute of Technology, Sweden.\n",
      "check out http://www.gromacs.org for more information.\n",
      "\n",
      "GROMACS is free software; you can redistribute it and/or modify it\n",
      "under the terms of the GNU Lesser General Public License\n",
      "as published by the Free Software Foundation; either version 2.1\n",
      "of the License, or (at your option) any later version.\n",
      "\n",
      "GROMACS:      gmx energy, version 2019.1\n",
      "Executable:   /opt/miniconda3/envs/biobb_env/bin/gmx\n",
      "Data prefix:  /opt/miniconda3/envs/biobb_env\n",
      "Working dir:  /home/lg/repos/javerianaMD/simulation/md-biobb\n",
      "Command line:\n",
      "  gmx energy -f /home/lg/repos/javerianaMD/simulation/md-biobb/protein_ligand_min.edr -o protein_ligand_min_ene.xvg -xvg none\n",
      "\n",
      "Opened /home/lg/repos/javerianaMD/simulation/md-biobb/protein_ligand_min.edr as single precision energy file\n",
      "\n",
      "Select the terms you want from the following list by\n",
      "selecting either (part of) the name or the number or a combination.\n",
      "End your selection with an empty line or a zero.\n",
      "-------------------------------------------------------------------\n",
      "  1  Bond             2  Angle            3  Proper-Dih.      4  Improper-Dih. \n",
      "  5  LJ-14            6  Coulomb-14       7  LJ-(SR)          8  Coulomb-(SR)  \n",
      "  9  Coul.-recip.    10  Position-Rest.  11  Potential       12  Pressure      \n",
      " 13  Vir-XX          14  Vir-XY          15  Vir-XZ          16  Vir-YX        \n",
      " 17  Vir-YY          18  Vir-YZ          19  Vir-ZX          20  Vir-ZY        \n",
      " 21  Vir-ZZ          22  Pres-XX         23  Pres-XY         24  Pres-XZ       \n",
      " 25  Pres-YX         26  Pres-YY         27  Pres-YZ         28  Pres-ZX       \n",
      " 29  Pres-ZY         30  Pres-ZZ         31  #Surf*SurfTen   32  T-rest        \n",
      "\n",
      "\n",
      "Back Off! I just backed up protein_ligand_min_ene.xvg to ./#protein_ligand_min_ene.xvg.1#\n",
      "Last energy frame read 1149 time 1453.000         \n",
      "\n",
      "GROMACS reminds you: \"Physics is like sex: sure, it may give some practical results, but that’s not why we do it\" (Richard P. Feynman)\n",
      "\n",
      "\n",
      "2022-04-22 10:35:25,473 [MainThread  ] [INFO ]  Removed: [PurePosixPath('32cc51a2-53ea-4a3b-8945-2fd2ffdf7def')]\n"
     ]
    },
    {
     "data": {
      "text/plain": [
       "0"
      ]
     },
     "execution_count": 30,
     "metadata": {},
     "output_type": "execute_result"
    }
   ],
   "source": [
    "# GMXEnergy: Getting system energy by time  \n",
    "from biobb_analysis.gromacs.gmx_energy import gmx_energy\n",
    "\n",
    "# Create prop dict and inputs/outputs\n",
    "output_min_ene_xvg = pdbName + '_' + ligandName + '_min_ene.xvg'\n",
    "prop = {\n",
    "    'terms':  [\"Potential\"]\n",
    "}\n",
    "\n",
    "# Create and launch bb\n",
    "gmx_energy(input_energy_path = output_min_edr, \n",
    "          output_xvg_path    = output_min_ene_xvg, \n",
    "          properties         = prop)"
   ]
  },
  {
   "cell_type": "code",
   "execution_count": 31,
   "metadata": {},
   "outputs": [
    {
     "data": {
      "text/html": [
       "        <script type=\"text/javascript\">\n",
       "        window.PlotlyConfig = {MathJaxConfig: 'local'};\n",
       "        if (window.MathJax) {MathJax.Hub.Config({SVG: {font: \"STIX-Web\"}});}\n",
       "        if (typeof require !== 'undefined') {\n",
       "        require.undef(\"plotly\");\n",
       "        requirejs.config({\n",
       "            paths: {\n",
       "                'plotly': ['https://cdn.plot.ly/plotly-2.11.1.min']\n",
       "            }\n",
       "        });\n",
       "        require(['plotly'], function(Plotly) {\n",
       "            window._Plotly = Plotly;\n",
       "        });\n",
       "        }\n",
       "        </script>\n",
       "        "
      ]
     },
     "metadata": {},
     "output_type": "display_data"
    },
    {
     "data": {
      "application/vnd.plotly.v1+json": {
       "config": {
        "linkText": "Export to plot.ly",
        "plotlyServerURL": "https://plot.ly",
        "showLink": false
       },
       "data": [
        {
         "type": "scatter",
         "x": [
          15,
          17,
          18,
          19,
          20,
          22,
          23,
          24,
          25,
          27,
          28,
          29,
          31,
          32,
          33,
          34,
          36,
          38,
          39,
          40,
          42,
          43,
          45,
          46,
          47,
          48,
          50,
          51,
          52,
          53,
          55,
          56,
          57,
          58,
          59,
          61,
          62,
          63,
          65,
          67,
          68,
          69,
          70,
          72,
          73,
          74,
          76,
          77,
          78,
          80,
          81,
          82,
          84,
          85,
          86,
          87,
          88,
          90,
          91,
          92,
          94,
          95,
          96,
          97,
          98,
          100,
          101,
          102,
          104,
          105,
          106,
          108,
          109,
          110,
          112,
          113,
          114,
          115,
          116,
          118,
          119,
          120,
          122,
          123,
          124,
          125,
          126,
          128,
          129,
          130,
          132,
          133,
          134,
          136,
          137,
          138,
          140,
          141,
          142,
          143,
          144,
          146,
          147,
          148,
          150,
          151,
          152,
          153,
          154,
          156,
          157,
          158,
          160,
          161,
          162,
          164,
          165,
          166,
          168,
          169,
          170,
          171,
          172,
          174,
          175,
          176,
          178,
          179,
          180,
          181,
          182,
          184,
          185,
          186,
          188,
          189,
          190,
          192,
          193,
          194,
          196,
          197,
          198,
          199,
          200,
          202,
          203,
          204,
          206,
          207,
          208,
          209,
          210,
          212,
          213,
          214,
          216,
          217,
          218,
          220,
          221,
          222,
          224,
          225,
          226,
          227,
          228,
          230,
          231,
          232,
          234,
          235,
          236,
          237,
          238,
          240,
          241,
          242,
          244,
          245,
          246,
          248,
          249,
          250,
          252,
          253,
          254,
          255,
          256,
          258,
          259,
          260,
          262,
          263,
          264,
          265,
          266,
          268,
          269,
          270,
          272,
          273,
          274,
          276,
          277,
          278,
          280,
          281,
          282,
          283,
          284,
          286,
          287,
          288,
          290,
          291,
          292,
          293,
          294,
          296,
          297,
          298,
          300,
          301,
          302,
          304,
          305,
          306,
          307,
          308,
          310,
          311,
          312,
          314,
          315,
          316,
          317,
          318,
          320,
          321,
          322,
          324,
          325,
          326,
          327,
          329,
          330,
          331,
          333,
          334,
          335,
          336,
          337,
          339,
          340,
          341,
          343,
          344,
          345,
          346,
          347,
          349,
          350,
          351,
          353,
          354,
          355,
          357,
          358,
          359,
          361,
          362,
          363,
          364,
          365,
          367,
          368,
          369,
          371,
          372,
          373,
          374,
          375,
          377,
          378,
          379,
          381,
          382,
          383,
          385,
          386,
          387,
          388,
          389,
          391,
          392,
          393,
          395,
          396,
          397,
          398,
          399,
          401,
          402,
          403,
          405,
          406,
          407,
          408,
          410,
          411,
          412,
          414,
          415,
          416,
          417,
          418,
          420,
          421,
          422,
          424,
          425,
          426,
          428,
          429,
          430,
          432,
          433,
          434,
          435,
          436,
          438,
          439,
          440,
          442,
          443,
          444,
          445,
          446,
          448,
          449,
          450,
          452,
          453,
          454,
          456,
          457,
          458,
          459,
          460,
          462,
          463,
          464,
          466,
          467,
          468,
          469,
          470,
          471,
          473,
          474,
          475,
          477,
          478,
          479,
          480,
          481,
          483,
          485,
          486,
          487,
          488,
          490,
          491,
          492,
          494,
          495,
          496,
          497,
          498,
          499,
          501,
          502,
          503,
          505,
          506,
          507,
          508,
          509,
          511,
          512,
          513,
          515,
          516,
          517,
          518,
          519,
          521,
          523,
          524,
          525,
          526,
          528,
          529,
          530,
          532,
          533,
          534,
          535,
          536,
          537,
          538,
          540,
          541,
          542,
          544,
          545,
          547,
          548,
          549,
          551,
          552,
          553,
          554,
          555,
          557,
          558,
          559,
          561,
          562,
          563,
          564,
          565,
          567,
          568,
          569,
          571,
          572,
          573,
          575,
          576,
          577,
          578,
          579,
          581,
          582,
          583,
          585,
          586,
          587,
          588,
          589,
          591,
          592,
          593,
          595,
          596,
          597,
          598,
          600,
          601,
          602,
          604,
          605,
          606,
          607,
          608,
          610,
          611,
          612,
          614,
          615,
          616,
          617,
          618,
          620,
          621,
          622,
          624,
          625,
          626,
          627,
          628,
          630,
          631,
          632,
          634,
          635,
          636,
          637,
          638,
          640,
          641,
          642,
          644,
          645,
          646,
          647,
          648,
          650,
          652,
          653,
          654,
          655,
          657,
          658,
          659,
          661,
          662,
          663,
          664,
          665,
          667,
          668,
          669,
          671,
          672,
          673,
          674,
          675,
          676,
          678,
          679,
          680,
          682,
          683,
          684,
          685,
          686,
          688,
          689,
          690,
          692,
          693,
          694,
          695,
          697,
          698,
          699,
          701,
          702,
          703,
          704,
          706,
          707,
          708,
          710,
          711,
          712,
          714,
          715,
          716,
          718,
          719,
          720,
          721,
          722,
          724,
          725,
          726,
          728,
          729,
          730,
          731,
          732,
          734,
          735,
          736,
          738,
          739,
          740,
          741,
          742,
          744,
          745,
          746,
          748,
          749,
          750,
          751,
          752,
          754,
          755,
          756,
          758,
          759,
          760,
          761,
          762,
          764,
          765,
          766,
          768,
          769,
          770,
          771,
          773,
          774,
          775,
          777,
          778,
          779,
          780,
          782,
          783,
          784,
          786,
          787,
          788,
          789,
          790,
          792,
          793,
          794,
          796,
          797,
          798,
          799,
          800,
          802,
          803,
          804,
          806,
          807,
          808,
          809,
          810,
          812,
          813,
          814,
          816,
          817,
          818,
          819,
          821,
          822,
          823,
          825,
          826,
          827,
          828,
          830,
          831,
          832,
          834,
          835,
          836,
          837,
          838,
          840,
          841,
          842,
          844,
          845,
          846,
          847,
          848,
          850,
          851,
          852,
          854,
          855,
          856,
          857,
          859,
          860,
          861,
          863,
          864,
          865,
          866,
          868,
          869,
          870,
          872,
          873,
          874,
          875,
          876,
          878,
          879,
          880,
          882,
          883,
          884,
          885,
          886,
          888,
          889,
          890,
          892,
          893,
          894,
          895,
          897,
          898,
          899,
          901,
          902,
          903,
          904,
          906,
          907,
          908,
          910,
          911,
          912,
          913,
          914,
          915,
          916,
          918,
          920,
          921,
          922,
          923,
          925,
          926,
          927,
          929,
          930,
          931,
          932,
          933,
          935,
          936,
          937,
          939,
          940,
          941,
          942,
          943,
          945,
          946,
          947,
          949,
          950,
          951,
          952,
          953,
          954,
          956,
          957,
          958,
          960,
          961,
          962,
          963,
          965,
          966,
          967,
          969,
          970,
          971,
          972,
          974,
          975,
          976,
          978,
          979,
          980,
          981,
          982,
          984,
          985,
          986,
          988,
          989,
          990,
          991,
          993,
          994,
          995,
          997,
          998,
          999,
          1000,
          1002,
          1003,
          1004,
          1006,
          1007,
          1008,
          1009,
          1010,
          1011,
          1013,
          1014,
          1015,
          1017,
          1018,
          1019,
          1020,
          1022,
          1023,
          1024,
          1026,
          1027,
          1028,
          1029,
          1030,
          1032,
          1033,
          1034,
          1036,
          1037,
          1038,
          1039,
          1041,
          1042,
          1043,
          1045,
          1046,
          1047,
          1048,
          1050,
          1051,
          1052,
          1054,
          1055,
          1056,
          1057,
          1058,
          1060,
          1061,
          1062,
          1064,
          1065,
          1066,
          1067,
          1069,
          1070,
          1071,
          1073,
          1074,
          1075,
          1076,
          1077,
          1078,
          1080,
          1081,
          1082,
          1084,
          1085,
          1086,
          1087,
          1089,
          1090,
          1091,
          1093,
          1094,
          1095,
          1096,
          1098,
          1099,
          1100,
          1102,
          1103,
          1104,
          1105,
          1106,
          1107,
          1109,
          1110,
          1111,
          1113,
          1114,
          1116,
          1117,
          1118,
          1120,
          1121,
          1122,
          1123,
          1124,
          1125,
          1126,
          1128,
          1130,
          1131,
          1132,
          1133,
          1135,
          1136,
          1137,
          1139,
          1140,
          1141,
          1142,
          1143,
          1145,
          1146,
          1147,
          1149,
          1150,
          1151,
          1152,
          1153,
          1155,
          1156,
          1157,
          1159,
          1160,
          1161,
          1162,
          1163,
          1165,
          1166,
          1167,
          1169,
          1170,
          1171,
          1172,
          1174,
          1175,
          1176,
          1178,
          1179,
          1180,
          1181,
          1182,
          1183,
          1185,
          1186,
          1187,
          1189,
          1190,
          1191,
          1192,
          1194,
          1195,
          1196,
          1198,
          1199,
          1200,
          1201,
          1202,
          1204,
          1205,
          1206,
          1208,
          1209,
          1210,
          1211,
          1212,
          1214,
          1215,
          1216,
          1218,
          1219,
          1220,
          1221,
          1223,
          1224,
          1225,
          1227,
          1228,
          1229,
          1230,
          1232,
          1233,
          1234,
          1236,
          1237,
          1238,
          1240,
          1241,
          1242,
          1244,
          1245,
          1246,
          1247,
          1248,
          1250,
          1251,
          1252,
          1254,
          1255,
          1256,
          1257,
          1258,
          1260,
          1261,
          1262,
          1264,
          1265,
          1266,
          1267,
          1268,
          1270,
          1271,
          1272,
          1274,
          1275,
          1276,
          1277,
          1278,
          1280,
          1281,
          1282,
          1284,
          1285,
          1286,
          1287,
          1288,
          1290,
          1291,
          1292,
          1294,
          1295,
          1296,
          1298,
          1299,
          1300,
          1301,
          1302,
          1304,
          1305,
          1306,
          1308,
          1309,
          1310,
          1311,
          1312,
          1314,
          1315,
          1316,
          1318,
          1319,
          1320,
          1321,
          1322,
          1324,
          1325,
          1326,
          1328,
          1330,
          1331,
          1332,
          1333,
          1334,
          1335,
          1336,
          1338,
          1339,
          1340,
          1342,
          1343,
          1344,
          1346,
          1347,
          1348,
          1350,
          1351,
          1352,
          1353,
          1354,
          1356,
          1357,
          1358,
          1360,
          1361,
          1362,
          1363,
          1364,
          1366,
          1367,
          1368,
          1370,
          1371,
          1372,
          1373,
          1374,
          1375,
          1377,
          1378,
          1379,
          1381,
          1382,
          1383,
          1384,
          1386,
          1387,
          1388,
          1390,
          1391,
          1392,
          1393,
          1395,
          1396,
          1397,
          1399,
          1400,
          1401,
          1402,
          1404,
          1405,
          1406,
          1408,
          1409,
          1410,
          1411,
          1412,
          1413,
          1415,
          1416,
          1417,
          1419,
          1420,
          1421,
          1422,
          1424,
          1425,
          1426,
          1428,
          1429,
          1430,
          1431,
          1432,
          1434,
          1435,
          1436,
          1438,
          1439,
          1440,
          1441,
          1443,
          1444,
          1445,
          1447,
          1448,
          1449,
          1450,
          1451,
          1453
         ],
         "y": [
          -39551.109375,
          -50850.050781,
          -76979.679688,
          -79551.25,
          -107791.546875,
          -114713.296875,
          -134703.625,
          -145503.921875,
          -153232.28125,
          -163288.109375,
          -167239.421875,
          -173120.8125,
          -179220.828125,
          -179612.078125,
          -183453.6875,
          -185012.65625,
          -193645.765625,
          -196711.703125,
          -198682.578125,
          -201347,
          -203967.890625,
          -205942.09375,
          -208461.234375,
          -210509.46875,
          -211655.375,
          -213779.4375,
          -216194.109375,
          -217861.765625,
          -219041.421875,
          -220338.71875,
          -222970.375,
          -224882.140625,
          -226118.03125,
          -227068.828125,
          -227895.03125,
          -230164.515625,
          -231366.46875,
          -232988.875,
          -234287.84375,
          -235059.359375,
          -235913.421875,
          -236209.09375,
          -236970.828125,
          -238661.21875,
          -239098.015625,
          -241203.03125,
          -241927.5625,
          -242329.34375,
          -243035,
          -244104.515625,
          -244972.765625,
          -246262.515625,
          -246877.34375,
          -247361.875,
          -247982,
          -248186.375,
          -248793.90625,
          -249899.078125,
          -250316.53125,
          -251675.203125,
          -252210.8125,
          -252551.0625,
          -253085.375,
          -253140.078125,
          -253644.28125,
          -254836.65625,
          -254885.15625,
          -256389.5625,
          -256848.5,
          -257082.59375,
          -257517.71875,
          -258281.109375,
          -258841.484375,
          -259778.625,
          -260178.09375,
          -260488.71875,
          -260879.953125,
          -261015.21875,
          -261379.203125,
          -262194.78125,
          -262491.03125,
          -263503.96875,
          -263854.875,
          -264087.53125,
          -264424.21875,
          -264472.78125,
          -264769.96875,
          -265663.1875,
          -265702.96875,
          -266832.71875,
          -267134.125,
          -267303.03125,
          -267575.71875,
          -268145.34375,
          -268590.59375,
          -269291.125,
          -269564.46875,
          -269781.46875,
          -270042.15625,
          -270141.96875,
          -270374.40625,
          -270982.71875,
          -271209.90625,
          -271964.4375,
          -272206.125,
          -272371.15625,
          -272598.1875,
          -272633.71875,
          -272826.46875,
          -273490.6875,
          -273518.40625,
          -274356.09375,
          -274566.3125,
          -274688.15625,
          -274876.25,
          -275298,
          -275633,
          -276150.21875,
          -276347.46875,
          -276504.875,
          -276692.90625,
          -276765.1875,
          -276932.5625,
          -277382.71875,
          -277552.25,
          -278108.78125,
          -278286.9375,
          -278408.21875,
          -278577,
          -278602.28125,
          -278746.90625,
          -279238.59375,
          -279263.90625,
          -279881.03125,
          -280039.6875,
          -280130.75,
          -280274.90625,
          -280587.3125,
          -280836.84375,
          -281218.25,
          -281369.34375,
          -281489.28125,
          -281635.6875,
          -281690.21875,
          -281824.9375,
          -282157.59375,
          -282290.84375,
          -282700.4375,
          -282840.1875,
          -282934.75,
          -283070.625,
          -283090.59375,
          -283212.75,
          -283576.03125,
          -283609.5,
          -284062.46875,
          -284190.84375,
          -284263.25,
          -284384.90625,
          -284616.65625,
          -284809.34375,
          -285091.21875,
          -285213.4375,
          -285310.96875,
          -285432.90625,
          -285478.09375,
          -285595.78125,
          -285843.03125,
          -285955.4375,
          -286257.34375,
          -286373.0625,
          -286452.15625,
          -286568.96875,
          -286587.6875,
          -286700.25,
          -286968.96875,
          -287012.46875,
          -287344.40625,
          -287453.84375,
          -287515.25,
          -287624.84375,
          -287798.25,
          -287949.9375,
          -288158.3125,
          -288261,
          -288345.875,
          -288453.375,
          -288492.875,
          -288602.6875,
          -288786.28125,
          -288883.25,
          -289104.5625,
          -289204.9375,
          -289274.6875,
          -289380.8125,
          -289398.375,
          -289507.78125,
          -289705.53125,
          -289754.875,
          -289995.96875,
          -290093.1875,
          -290148.375,
          -290251.28125,
          -290380.96875,
          -290499.3125,
          -290652.4375,
          -290741.78125,
          -290820.625,
          -290918.59375,
          -290955.4375,
          -291061.90625,
          -291197.375,
          -291279.84375,
          -291440,
          -291528.375,
          -291595.0625,
          -291694.25,
          -291711.9375,
          -291821.875,
          -291965.84375,
          -292015.625,
          -292187.125,
          -292275.78125,
          -292328.5625,
          -292428.8125,
          -292525.90625,
          -292617.03125,
          -292728,
          -292742.5,
          -292860.5625,
          -292981.9375,
          -293029.15625,
          -293187.03125,
          -293264.25,
          -293322.5,
          -293395.875,
          -293427.90625,
          -293482.5,
          -293652.0625,
          -293804.4375,
          -294026.78125,
          -294087.96875,
          -294155.9375,
          -294191.59375,
          -294256.875,
          -294390.21875,
          -294484.3125,
          -294645.0625,
          -294712.59375,
          -294764.09375,
          -294833.78125,
          -294853.03125,
          -294922.28125,
          -295064.375,
          -295113.15625,
          -295285.5,
          -295352.5625,
          -295394.34375,
          -295464.84375,
          -295467.71875,
          -295539,
          -295693.25,
          -295705.40625,
          -295893.53125,
          -295960.375,
          -295991.6875,
          -296061.75,
          -296160.40625,
          -296232.65625,
          -296349.59375,
          -296412.03125,
          -296461.71875,
          -296530.59375,
          -296548.375,
          -296623.65625,
          -296727.03125,
          -296771.75,
          -296894,
          -296957.21875,
          -296998.53125,
          -297070.40625,
          -297073.25,
          -297154.09375,
          -297263.84375,
          -297284.375,
          -297414.78125,
          -297479.59375,
          -297510.90625,
          -297585.78125,
          -297657.90625,
          -297714.28125,
          -297796.375,
          -297798.125,
          -297884.0625,
          -297978.34375,
          -298002.03125,
          -298127.125,
          -298182.1875,
          -298221.71875,
          -298271.5625,
          -298293.5,
          -298325.8125,
          -298461.75,
          -298582.25,
          -298759.625,
          -298801.1875,
          -298851.5625,
          -298871.625,
          -298921.96875,
          -299023.78125,
          -299073.90625,
          -299196.125,
          -299246.9375,
          -299281.03125,
          -299334.875,
          -299340.4375,
          -299397.1875,
          -299505.1875,
          -299524.0625,
          -299654.25,
          -299706.03125,
          -299731.875,
          -299788.71875,
          -299857.875,
          -299912.78125,
          -299993.09375,
          -300041.71875,
          -300083.25,
          -300138.65625,
          -300154.25,
          -300217.625,
          -300288.5,
          -300324.28125,
          -300406.1875,
          -300456.375,
          -300492.75,
          -300552.25,
          -300555.5,
          -300626.0625,
          -300700.09375,
          -300720.375,
          -300805.59375,
          -300858.40625,
          -300887.375,
          -300951.3125,
          -301001.09375,
          -301042.78125,
          -301097.1875,
          -301110.71875,
          -301163.96875,
          -301239,
          -301281.875,
          -301381.84375,
          -301422.3125,
          -301458.03125,
          -301491.625,
          -301521.34375,
          -301536.96875,
          -301555.71875,
          -301684.46875,
          -301720.75,
          -301879.21875,
          -301915,
          -301941.03125,
          -301971.71875,
          -301973.65625,
          -301995.9375,
          -302136.0625,
          -302187.28125,
          -302238.3125,
          -302256.0625,
          -302309.53125,
          -302366.46875,
          -302405.9375,
          -302480.625,
          -302518.59375,
          -302552.84375,
          -302588.3125,
          -302613.8125,
          -302638.8125,
          -302652.96875,
          -302758,
          -302854.65625,
          -302981.65625,
          -303014.53125,
          -303042.78125,
          -303071.09375,
          -303082.71875,
          -303102.75,
          -303213.65625,
          -303240.59375,
          -303376.5,
          -303408.875,
          -303431.34375,
          -303460.15625,
          -303461.75,
          -303483.1875,
          -303604.4375,
          -303649.84375,
          -303694.71875,
          -303711,
          -303757.90625,
          -303807.78125,
          -303843.9375,
          -303908.90625,
          -303943.03125,
          -303973.625,
          -304005.65625,
          -304028.25,
          -304051.84375,
          -304063.78125,
          -304066.40625,
          -304192,
          -304279.03125,
          -304443.28125,
          -304462.1875,
          -304499.15625,
          -304548.375,
          -304590.125,
          -304647.6875,
          -304680.59375,
          -304708.96875,
          -304745.875,
          -304757.84375,
          -304798.5625,
          -304850.3125,
          -304878.84375,
          -304940.125,
          -304973.9375,
          -304998.78125,
          -305036.71875,
          -305042.625,
          -305085.09375,
          -305140.75,
          -305159.6875,
          -305226.09375,
          -305260.59375,
          -305281.09375,
          -305319.9375,
          -305357.90625,
          -305394.25,
          -305437.90625,
          -305444.3125,
          -305491.28125,
          -305538.5625,
          -305557.84375,
          -305619.03125,
          -305649.9375,
          -305673.46875,
          -305704.28125,
          -305716.6875,
          -305741.1875,
          -305806.6875,
          -305860.75,
          -305949.46875,
          -305975.21875,
          -306003.4375,
          -306018.9375,
          -306046.71875,
          -306099.75,
          -306144.03125,
          -306208.875,
          -306237.15625,
          -306260.15625,
          -306288.6875,
          -306300.09375,
          -306327.625,
          -306385.75,
          -306417.46875,
          -306488.78125,
          -306516.71875,
          -306537.0625,
          -306565.03125,
          -306572.59375,
          -306598.6875,
          -306663.375,
          -306684.5625,
          -306764.75,
          -306792.03125,
          -306810.5625,
          -306836.8125,
          -306841.0625,
          -306864.0625,
          -306937.46875,
          -306949.03125,
          -307041.09375,
          -307066.71875,
          -307083.1875,
          -307106.84375,
          -307109.0625,
          -307127.09375,
          -307211.625,
          -307212.875,
          -307320.3125,
          -307343.71875,
          -307359.375,
          -307378.59375,
          -307379.625,
          -307390.125,
          -307488.625,
          -307524.40625,
          -307560.4375,
          -307569.6875,
          -307609.59375,
          -307645.875,
          -307665.1875,
          -307710.6875,
          -307737.4375,
          -307759.53125,
          -307787.3125,
          -307798,
          -307823.625,
          -307871.5625,
          -307908.96875,
          -307973.65625,
          -307996.59375,
          -308019.4375,
          -308037.65625,
          -308057.34375,
          -308064.125,
          -308077.4375,
          -308153.90625,
          -308170.21875,
          -308267.40625,
          -308287.875,
          -308305.0625,
          -308321.53125,
          -308327.5,
          -308334.28125,
          -308422.9375,
          -308433.625,
          -308547,
          -308564.625,
          -308582.46875,
          -308592.875,
          -308599.625,
          -308675.96875,
          -308737,
          -308841.84375,
          -308857.28125,
          -308884.5625,
          -308885.6875,
          -308914.21875,
          -308965.28125,
          -308972.625,
          -309036.59375,
          -309060.6875,
          -309074.09375,
          -309099.03125,
          -309134.1875,
          -309166.90625,
          -309209.6875,
          -309232.15625,
          -309252.34375,
          -309275.71875,
          -309287.25,
          -309310.71875,
          -309349.34375,
          -309380.40625,
          -309428.4375,
          -309450.59375,
          -309468.8125,
          -309491.03125,
          -309501.125,
          -309522.125,
          -309565.9375,
          -309595.1875,
          -309650.25,
          -309671.375,
          -309688.4375,
          -309709.09375,
          -309717.90625,
          -309735.21875,
          -309785.96875,
          -309813.71875,
          -309877.875,
          -309897.84375,
          -309914.53125,
          -309932.09375,
          -309940.40625,
          -309953.4375,
          -310011.9375,
          -310040.0625,
          -310114.96875,
          -310133.125,
          -310149.875,
          -310163.8125,
          -310173.0625,
          -310179.125,
          -310248,
          -310278.8125,
          -310367.09375,
          -310382.90625,
          -310400.5625,
          -310409.71875,
          -310420.21875,
          -310476.9375,
          -310524.15625,
          -310601.34375,
          -310616.875,
          -310638.59375,
          -310644.875,
          -310666.1875,
          -310707.5625,
          -310725.9375,
          -310777.8125,
          -310797.84375,
          -310812.3125,
          -310831.46875,
          -310837.46875,
          -310854.15625,
          -310902.75,
          -310920.78125,
          -310982.9375,
          -311001.25,
          -311015.75,
          -311031.625,
          -311038.0625,
          -311048.96875,
          -311106.375,
          -311127.375,
          -311201.40625,
          -311217.4375,
          -311232.71875,
          -311244.28125,
          -311252.4375,
          -311255.8125,
          -311323.75,
          -311352.25,
          -311441.03125,
          -311454.125,
          -311471.1875,
          -311477.125,
          -311487.96875,
          -311542.3125,
          -311569.96875,
          -311643.375,
          -311657.5,
          -311675.96875,
          -311682.28125,
          -311699.0625,
          -311741.375,
          -311760.78125,
          -311814.625,
          -311831.8125,
          -311845.9375,
          -311861.3125,
          -311868.4375,
          -311879.6875,
          -311929.625,
          -311952.90625,
          -312017.78125,
          -312033.15625,
          -312047.8125,
          -312059.25,
          -312068.125,
          -312072.40625,
          -312132.25,
          -312165.4375,
          -312243.0625,
          -312256.21875,
          -312272.5625,
          -312278.9375,
          -312290.28125,
          -312337.84375,
          -312367.625,
          -312431,
          -312444.96875,
          -312462.15625,
          -312469.90625,
          -312485.3125,
          -312522.5625,
          -312546.40625,
          -312594.5625,
          -312611,
          -312624.9375,
          -312639.25,
          -312647.59375,
          -312657.90625,
          -312702.625,
          -312733.28125,
          -312790.84375,
          -312805.625,
          -312820.46875,
          -312831.375,
          -312841.21875,
          -312845.4375,
          -312898.375,
          -312944,
          -313013.375,
          -313025.84375,
          -313042.125,
          -313048.28125,
          -313060.75,
          -313101.90625,
          -313129.03125,
          -313183.6875,
          -313197.625,
          -313213.21875,
          -313221.96875,
          -313235.5,
          -313269.65625,
          -313300.84375,
          -313344.625,
          -313359.59375,
          -313373.75,
          -313387.15625,
          -313397,
          -313405.75,
          -313406.90625,
          -313406.96875,
          -313480.6875,
          -313505.65625,
          -313532.6875,
          -313533.90625,
          -313565.90625,
          -313587.625,
          -313595.5,
          -313621.6875,
          -313641.3125,
          -313654.375,
          -313677.28125,
          -313677.375,
          -313701.71875,
          -313730.875,
          -313737.09375,
          -313773.84375,
          -313790.96875,
          -313801.6875,
          -313819.125,
          -313821.875,
          -313836.875,
          -313874.625,
          -313887.40625,
          -313937.46875,
          -313951.375,
          -313964.21875,
          -313974.6875,
          -313983.4375,
          -313986.78125,
          -313987,
          -314052.1875,
          -314055.8125,
          -314142.28125,
          -314150.75,
          -314165.03125,
          -314165.9375,
          -314175.1875,
          -314225.4375,
          -314231.375,
          -314299,
          -314309.71875,
          -314323.3125,
          -314328.09375,
          -314337.84375,
          -314379.96875,
          -314395.21875,
          -314449.96875,
          -314462.78125,
          -314474.90625,
          -314483.90625,
          -314491.625,
          -314493.78125,
          -314544.9375,
          -314576.3125,
          -314643.78125,
          -314654.1875,
          -314668.625,
          -314672.09375,
          -314683.6875,
          -314722.28125,
          -314737.15625,
          -314788.53125,
          -314800.53125,
          -314813.28125,
          -314821.15625,
          -314830.84375,
          -314864.34375,
          -314895.90625,
          -314939.84375,
          -314952.34375,
          -314965.5,
          -314974.59375,
          -314984.75,
          -314988.75,
          -314991.46875,
          -315044.3125,
          -315062.40625,
          -315133.125,
          -315141.875,
          -315156.5,
          -315156.78125,
          -315169.625,
          -315208.375,
          -315211.0625,
          -315261.5625,
          -315274.0625,
          -315283.40625,
          -315293.625,
          -315296.96875,
          -315302.15625,
          -315350,
          -315359.40625,
          -315422.96875,
          -315432.5625,
          -315445.0625,
          -315449.375,
          -315457.1875,
          -315496.59375,
          -315515.15625,
          -315567.40625,
          -315578.03125,
          -315590.90625,
          -315596.5625,
          -315607.03125,
          -315639.03125,
          -315658.03125,
          -315699.78125,
          -315711.65625,
          -315723.125,
          -315732.1875,
          -315739.875,
          -315744.53125,
          -315783.53125,
          -315820.09375,
          -315871.71875,
          -315881.71875,
          -315894.96875,
          -315900.3125,
          -315911.0625,
          -315940.71875,
          -315960.375,
          -315999.625,
          -316011.375,
          -316022.625,
          -316031.25,
          -316039.9375,
          -316043.3125,
          -316046.625,
          -316094.53125,
          -316101.71875,
          -316165.25,
          -316173.71875,
          -316185.5,
          -316188,
          -316195.6875,
          -316233.84375,
          -316245.5625,
          -316296.0625,
          -316306,
          -316317.0625,
          -316322.59375,
          -316331.125,
          -316362.96875,
          -316382.96875,
          -316424.78125,
          -316436,
          -316446.71875,
          -316454.625,
          -316462.65625,
          -316464.46875,
          -316465.6875,
          -316516.96875,
          -316523.8125,
          -316591.8125,
          -316598.53125,
          -316611.28125,
          -316632.5625,
          -316651.1875,
          -316678.0625,
          -316689.71875,
          -316700.65625,
          -316711.625,
          -316718.875,
          -316727.875,
          -316729.0625,
          -316732.90625,
          -316779.4375,
          -316798.3125,
          -316816.125,
          -316819.96875,
          -316841.46875,
          -316856.90625,
          -316865.28125,
          -316883.5625,
          -316897.09375,
          -316908.71875,
          -316924.40625,
          -316927.40625,
          -316944.78125,
          -316963.9375,
          -316972.6875,
          -316996.96875,
          -317009.0625,
          -317018.65625,
          -317031.6875,
          -317035.4375,
          -317047.96875,
          -317072.21875,
          -317084.625,
          -317116.5,
          -317127.5,
          -317136.875,
          -317146.875,
          -317153.21875,
          -317159.0625,
          -317190,
          -317218.6875,
          -317259.34375,
          -317268.9375,
          -317280.46875,
          -317285.90625,
          -317296.21875,
          -317320.46875,
          -317339.03125,
          -317370.46875,
          -317381.4375,
          -317391.40625,
          -317400.1875,
          -317407.40625,
          -317412.90625,
          -317414.6875,
          -317454.71875,
          -317484.125,
          -317535.625,
          -317543.4375,
          -317554.6875,
          -317557.4375,
          -317566.625,
          -317596.3125,
          -317605.28125,
          -317644.28125,
          -317654.5,
          -317663.71875,
          -317670.875,
          -317676.4375,
          -317678.96875,
          -317716.4375,
          -317741.21875,
          -317783.78125,
          -317794,
          -317801.46875,
          -317809.28125,
          -317812,
          -317815.09375,
          -317856.125,
          -317864.09375,
          -317918.875,
          -317926,
          -317936.5,
          -317938.875,
          -317946.71875,
          -317978.59375,
          -317987.71875,
          -318030.46875,
          -318039.375,
          -318049.0625,
          -318054.46875,
          -318061.0625,
          -318089.34375,
          -318114.1875,
          -318138.5625,
          -318152.1875,
          -318157.6875,
          -318173.3125,
          -318187.875,
          -318198.625,
          -318216.75,
          -318227.625,
          -318238.03125,
          -318250.53125,
          -318255.78125,
          -318268.625,
          -318285.875,
          -318299.4375,
          -318321.5,
          -318332.125,
          -318341.5625,
          -318352.28125,
          -318358.15625,
          -318367.5625,
          -318388.6875,
          -318409.125,
          -318429.90625,
          -318441.9375,
          -318450.125,
          -318463.25,
          -318465.1875,
          -318478.5625,
          -318499.46875,
          -318506.90625,
          -318533.90625,
          -318544.625,
          -318552.53125,
          -318562.71875,
          -318566.15625,
          -318574.65625,
          -318601.25,
          -318613.09375,
          -318647.125,
          -318656.625,
          -318665.125,
          -318672.71875,
          -318677.90625,
          -318681.4375,
          -318713.96875,
          -318741.0625,
          -318753.875,
          -318774.84375,
          -318782.09375,
          -318809.15625,
          -318819.34375,
          -318827.1875,
          -318836.90625,
          -318840.53125,
          -318847.875,
          -318874.65625,
          -318890.84375,
          -318919.375,
          -318930.03125,
          -318936.15625,
          -318946.78125,
          -318948,
          -318956.3125,
          -318984.75,
          -318989.875,
          -319027.15625,
          -319035.9375,
          -319043.75,
          -319050.1875,
          -319054.375,
          -319055.59375,
          -319092,
          -319119.125,
          -319137.75,
          -319157.03125,
          -319166.59375,
          -319176.21875,
          -319185.125,
          -319193.03125,
          -319199.84375,
          -319204.53125,
          -319207.375,
          -319239,
          -319261.375,
          -319288.15625,
          -319300.875,
          -319303.9375,
          -319317.71875,
          -319333.15625,
          -319340.3125,
          -319359.125,
          -319369.40625,
          -319377.1875,
          -319388.0625,
          -319391.09375,
          -319401.59375,
          -319420.5625,
          -319429.40625,
          -319453.78125,
          -319463.21875,
          -319470.75,
          -319479.28125,
          -319483.5,
          -319489.84375,
          -319513.15625,
          -319529.5625,
          -319560.40625,
          -319568.46875,
          -319576.96875,
          -319582.78125,
          -319589.0625,
          -319590.3125,
          -319592.25,
          -319628.875,
          -319632.8125,
          -319681.40625,
          -319686.96875,
          -319695.6875,
          -319696.09375,
          -319702.71875,
          -319731.0625,
          -319733.21875,
          -319771.1875,
          -319778.375,
          -319785.3125,
          -319789.90625,
          -319794.09375,
          -319819.65625,
          -319840.8125,
          -319874.71875,
          -319881.5,
          -319890.28125,
          -319893.9375,
          -319901.5625,
          -319921.5625,
          -319934.46875,
          -319960.53125,
          -319968.5,
          -319976.34375,
          -319982.59375,
          -319988.15625,
          -319991.0625,
          -319992.5,
          -320025.4375,
          -320039.09375,
          -320082.625,
          -320087.84375,
          -320096.9375,
          -320097.46875,
          -320105.1875,
          -320129.1875,
          -320131.75,
          -320163.625,
          -320171.09375,
          -320177.59375,
          -320183.1875,
          -320186.5,
          -320188.1875,
          -320218.875,
          -320231.9375,
          -320273.1875,
          -320278.53125,
          -320287.34375,
          -320288.03125,
          -320295.625,
          -320318.4375,
          -320323.3125,
          -320352.96875,
          -320360.28125,
          -320366.59375,
          -320372.0625,
          -320375.84375,
          -320377.34375,
          -320406.34375
         ]
        }
       ],
       "layout": {
        "template": {
         "data": {
          "bar": [
           {
            "error_x": {
             "color": "#2a3f5f"
            },
            "error_y": {
             "color": "#2a3f5f"
            },
            "marker": {
             "line": {
              "color": "#E5ECF6",
              "width": 0.5
             },
             "pattern": {
              "fillmode": "overlay",
              "size": 10,
              "solidity": 0.2
             }
            },
            "type": "bar"
           }
          ],
          "barpolar": [
           {
            "marker": {
             "line": {
              "color": "#E5ECF6",
              "width": 0.5
             },
             "pattern": {
              "fillmode": "overlay",
              "size": 10,
              "solidity": 0.2
             }
            },
            "type": "barpolar"
           }
          ],
          "carpet": [
           {
            "aaxis": {
             "endlinecolor": "#2a3f5f",
             "gridcolor": "white",
             "linecolor": "white",
             "minorgridcolor": "white",
             "startlinecolor": "#2a3f5f"
            },
            "baxis": {
             "endlinecolor": "#2a3f5f",
             "gridcolor": "white",
             "linecolor": "white",
             "minorgridcolor": "white",
             "startlinecolor": "#2a3f5f"
            },
            "type": "carpet"
           }
          ],
          "choropleth": [
           {
            "colorbar": {
             "outlinewidth": 0,
             "ticks": ""
            },
            "type": "choropleth"
           }
          ],
          "contour": [
           {
            "colorbar": {
             "outlinewidth": 0,
             "ticks": ""
            },
            "colorscale": [
             [
              0,
              "#0d0887"
             ],
             [
              0.1111111111111111,
              "#46039f"
             ],
             [
              0.2222222222222222,
              "#7201a8"
             ],
             [
              0.3333333333333333,
              "#9c179e"
             ],
             [
              0.4444444444444444,
              "#bd3786"
             ],
             [
              0.5555555555555556,
              "#d8576b"
             ],
             [
              0.6666666666666666,
              "#ed7953"
             ],
             [
              0.7777777777777778,
              "#fb9f3a"
             ],
             [
              0.8888888888888888,
              "#fdca26"
             ],
             [
              1,
              "#f0f921"
             ]
            ],
            "type": "contour"
           }
          ],
          "contourcarpet": [
           {
            "colorbar": {
             "outlinewidth": 0,
             "ticks": ""
            },
            "type": "contourcarpet"
           }
          ],
          "heatmap": [
           {
            "colorbar": {
             "outlinewidth": 0,
             "ticks": ""
            },
            "colorscale": [
             [
              0,
              "#0d0887"
             ],
             [
              0.1111111111111111,
              "#46039f"
             ],
             [
              0.2222222222222222,
              "#7201a8"
             ],
             [
              0.3333333333333333,
              "#9c179e"
             ],
             [
              0.4444444444444444,
              "#bd3786"
             ],
             [
              0.5555555555555556,
              "#d8576b"
             ],
             [
              0.6666666666666666,
              "#ed7953"
             ],
             [
              0.7777777777777778,
              "#fb9f3a"
             ],
             [
              0.8888888888888888,
              "#fdca26"
             ],
             [
              1,
              "#f0f921"
             ]
            ],
            "type": "heatmap"
           }
          ],
          "heatmapgl": [
           {
            "colorbar": {
             "outlinewidth": 0,
             "ticks": ""
            },
            "colorscale": [
             [
              0,
              "#0d0887"
             ],
             [
              0.1111111111111111,
              "#46039f"
             ],
             [
              0.2222222222222222,
              "#7201a8"
             ],
             [
              0.3333333333333333,
              "#9c179e"
             ],
             [
              0.4444444444444444,
              "#bd3786"
             ],
             [
              0.5555555555555556,
              "#d8576b"
             ],
             [
              0.6666666666666666,
              "#ed7953"
             ],
             [
              0.7777777777777778,
              "#fb9f3a"
             ],
             [
              0.8888888888888888,
              "#fdca26"
             ],
             [
              1,
              "#f0f921"
             ]
            ],
            "type": "heatmapgl"
           }
          ],
          "histogram": [
           {
            "marker": {
             "pattern": {
              "fillmode": "overlay",
              "size": 10,
              "solidity": 0.2
             }
            },
            "type": "histogram"
           }
          ],
          "histogram2d": [
           {
            "colorbar": {
             "outlinewidth": 0,
             "ticks": ""
            },
            "colorscale": [
             [
              0,
              "#0d0887"
             ],
             [
              0.1111111111111111,
              "#46039f"
             ],
             [
              0.2222222222222222,
              "#7201a8"
             ],
             [
              0.3333333333333333,
              "#9c179e"
             ],
             [
              0.4444444444444444,
              "#bd3786"
             ],
             [
              0.5555555555555556,
              "#d8576b"
             ],
             [
              0.6666666666666666,
              "#ed7953"
             ],
             [
              0.7777777777777778,
              "#fb9f3a"
             ],
             [
              0.8888888888888888,
              "#fdca26"
             ],
             [
              1,
              "#f0f921"
             ]
            ],
            "type": "histogram2d"
           }
          ],
          "histogram2dcontour": [
           {
            "colorbar": {
             "outlinewidth": 0,
             "ticks": ""
            },
            "colorscale": [
             [
              0,
              "#0d0887"
             ],
             [
              0.1111111111111111,
              "#46039f"
             ],
             [
              0.2222222222222222,
              "#7201a8"
             ],
             [
              0.3333333333333333,
              "#9c179e"
             ],
             [
              0.4444444444444444,
              "#bd3786"
             ],
             [
              0.5555555555555556,
              "#d8576b"
             ],
             [
              0.6666666666666666,
              "#ed7953"
             ],
             [
              0.7777777777777778,
              "#fb9f3a"
             ],
             [
              0.8888888888888888,
              "#fdca26"
             ],
             [
              1,
              "#f0f921"
             ]
            ],
            "type": "histogram2dcontour"
           }
          ],
          "mesh3d": [
           {
            "colorbar": {
             "outlinewidth": 0,
             "ticks": ""
            },
            "type": "mesh3d"
           }
          ],
          "parcoords": [
           {
            "line": {
             "colorbar": {
              "outlinewidth": 0,
              "ticks": ""
             }
            },
            "type": "parcoords"
           }
          ],
          "pie": [
           {
            "automargin": true,
            "type": "pie"
           }
          ],
          "scatter": [
           {
            "fillpattern": {
             "fillmode": "overlay",
             "size": 10,
             "solidity": 0.2
            },
            "type": "scatter"
           }
          ],
          "scatter3d": [
           {
            "line": {
             "colorbar": {
              "outlinewidth": 0,
              "ticks": ""
             }
            },
            "marker": {
             "colorbar": {
              "outlinewidth": 0,
              "ticks": ""
             }
            },
            "type": "scatter3d"
           }
          ],
          "scattercarpet": [
           {
            "marker": {
             "colorbar": {
              "outlinewidth": 0,
              "ticks": ""
             }
            },
            "type": "scattercarpet"
           }
          ],
          "scattergeo": [
           {
            "marker": {
             "colorbar": {
              "outlinewidth": 0,
              "ticks": ""
             }
            },
            "type": "scattergeo"
           }
          ],
          "scattergl": [
           {
            "marker": {
             "colorbar": {
              "outlinewidth": 0,
              "ticks": ""
             }
            },
            "type": "scattergl"
           }
          ],
          "scattermapbox": [
           {
            "marker": {
             "colorbar": {
              "outlinewidth": 0,
              "ticks": ""
             }
            },
            "type": "scattermapbox"
           }
          ],
          "scatterpolar": [
           {
            "marker": {
             "colorbar": {
              "outlinewidth": 0,
              "ticks": ""
             }
            },
            "type": "scatterpolar"
           }
          ],
          "scatterpolargl": [
           {
            "marker": {
             "colorbar": {
              "outlinewidth": 0,
              "ticks": ""
             }
            },
            "type": "scatterpolargl"
           }
          ],
          "scatterternary": [
           {
            "marker": {
             "colorbar": {
              "outlinewidth": 0,
              "ticks": ""
             }
            },
            "type": "scatterternary"
           }
          ],
          "surface": [
           {
            "colorbar": {
             "outlinewidth": 0,
             "ticks": ""
            },
            "colorscale": [
             [
              0,
              "#0d0887"
             ],
             [
              0.1111111111111111,
              "#46039f"
             ],
             [
              0.2222222222222222,
              "#7201a8"
             ],
             [
              0.3333333333333333,
              "#9c179e"
             ],
             [
              0.4444444444444444,
              "#bd3786"
             ],
             [
              0.5555555555555556,
              "#d8576b"
             ],
             [
              0.6666666666666666,
              "#ed7953"
             ],
             [
              0.7777777777777778,
              "#fb9f3a"
             ],
             [
              0.8888888888888888,
              "#fdca26"
             ],
             [
              1,
              "#f0f921"
             ]
            ],
            "type": "surface"
           }
          ],
          "table": [
           {
            "cells": {
             "fill": {
              "color": "#EBF0F8"
             },
             "line": {
              "color": "white"
             }
            },
            "header": {
             "fill": {
              "color": "#C8D4E3"
             },
             "line": {
              "color": "white"
             }
            },
            "type": "table"
           }
          ]
         },
         "layout": {
          "annotationdefaults": {
           "arrowcolor": "#2a3f5f",
           "arrowhead": 0,
           "arrowwidth": 1
          },
          "autotypenumbers": "strict",
          "coloraxis": {
           "colorbar": {
            "outlinewidth": 0,
            "ticks": ""
           }
          },
          "colorscale": {
           "diverging": [
            [
             0,
             "#8e0152"
            ],
            [
             0.1,
             "#c51b7d"
            ],
            [
             0.2,
             "#de77ae"
            ],
            [
             0.3,
             "#f1b6da"
            ],
            [
             0.4,
             "#fde0ef"
            ],
            [
             0.5,
             "#f7f7f7"
            ],
            [
             0.6,
             "#e6f5d0"
            ],
            [
             0.7,
             "#b8e186"
            ],
            [
             0.8,
             "#7fbc41"
            ],
            [
             0.9,
             "#4d9221"
            ],
            [
             1,
             "#276419"
            ]
           ],
           "sequential": [
            [
             0,
             "#0d0887"
            ],
            [
             0.1111111111111111,
             "#46039f"
            ],
            [
             0.2222222222222222,
             "#7201a8"
            ],
            [
             0.3333333333333333,
             "#9c179e"
            ],
            [
             0.4444444444444444,
             "#bd3786"
            ],
            [
             0.5555555555555556,
             "#d8576b"
            ],
            [
             0.6666666666666666,
             "#ed7953"
            ],
            [
             0.7777777777777778,
             "#fb9f3a"
            ],
            [
             0.8888888888888888,
             "#fdca26"
            ],
            [
             1,
             "#f0f921"
            ]
           ],
           "sequentialminus": [
            [
             0,
             "#0d0887"
            ],
            [
             0.1111111111111111,
             "#46039f"
            ],
            [
             0.2222222222222222,
             "#7201a8"
            ],
            [
             0.3333333333333333,
             "#9c179e"
            ],
            [
             0.4444444444444444,
             "#bd3786"
            ],
            [
             0.5555555555555556,
             "#d8576b"
            ],
            [
             0.6666666666666666,
             "#ed7953"
            ],
            [
             0.7777777777777778,
             "#fb9f3a"
            ],
            [
             0.8888888888888888,
             "#fdca26"
            ],
            [
             1,
             "#f0f921"
            ]
           ]
          },
          "colorway": [
           "#636efa",
           "#EF553B",
           "#00cc96",
           "#ab63fa",
           "#FFA15A",
           "#19d3f3",
           "#FF6692",
           "#B6E880",
           "#FF97FF",
           "#FECB52"
          ],
          "font": {
           "color": "#2a3f5f"
          },
          "geo": {
           "bgcolor": "white",
           "lakecolor": "white",
           "landcolor": "#E5ECF6",
           "showlakes": true,
           "showland": true,
           "subunitcolor": "white"
          },
          "hoverlabel": {
           "align": "left"
          },
          "hovermode": "closest",
          "mapbox": {
           "style": "light"
          },
          "paper_bgcolor": "white",
          "plot_bgcolor": "#E5ECF6",
          "polar": {
           "angularaxis": {
            "gridcolor": "white",
            "linecolor": "white",
            "ticks": ""
           },
           "bgcolor": "#E5ECF6",
           "radialaxis": {
            "gridcolor": "white",
            "linecolor": "white",
            "ticks": ""
           }
          },
          "scene": {
           "xaxis": {
            "backgroundcolor": "#E5ECF6",
            "gridcolor": "white",
            "gridwidth": 2,
            "linecolor": "white",
            "showbackground": true,
            "ticks": "",
            "zerolinecolor": "white"
           },
           "yaxis": {
            "backgroundcolor": "#E5ECF6",
            "gridcolor": "white",
            "gridwidth": 2,
            "linecolor": "white",
            "showbackground": true,
            "ticks": "",
            "zerolinecolor": "white"
           },
           "zaxis": {
            "backgroundcolor": "#E5ECF6",
            "gridcolor": "white",
            "gridwidth": 2,
            "linecolor": "white",
            "showbackground": true,
            "ticks": "",
            "zerolinecolor": "white"
           }
          },
          "shapedefaults": {
           "line": {
            "color": "#2a3f5f"
           }
          },
          "ternary": {
           "aaxis": {
            "gridcolor": "white",
            "linecolor": "white",
            "ticks": ""
           },
           "baxis": {
            "gridcolor": "white",
            "linecolor": "white",
            "ticks": ""
           },
           "bgcolor": "#E5ECF6",
           "caxis": {
            "gridcolor": "white",
            "linecolor": "white",
            "ticks": ""
           }
          },
          "title": {
           "x": 0.05
          },
          "xaxis": {
           "automargin": true,
           "gridcolor": "white",
           "linecolor": "white",
           "ticks": "",
           "title": {
            "standoff": 15
           },
           "zerolinecolor": "white",
           "zerolinewidth": 2
          },
          "yaxis": {
           "automargin": true,
           "gridcolor": "white",
           "linecolor": "white",
           "ticks": "",
           "title": {
            "standoff": 15
           },
           "zerolinecolor": "white",
           "zerolinewidth": 2
          }
         }
        },
        "title": {
         "text": "Energy Minimization"
        },
        "xaxis": {
         "title": {
          "text": "Energy Minimization Step"
         }
        },
        "yaxis": {
         "title": {
          "text": "Potential Energy KJ/mol-1"
         }
        }
       }
      },
      "text/html": [
       "<div>                            <div id=\"ec1df0cb-9ce6-428e-b8c4-bfd0a81e9c26\" class=\"plotly-graph-div\" style=\"height:525px; width:100%;\"></div>            <script type=\"text/javascript\">                require([\"plotly\"], function(Plotly) {                    window.PLOTLYENV=window.PLOTLYENV || {};                                    if (document.getElementById(\"ec1df0cb-9ce6-428e-b8c4-bfd0a81e9c26\")) {                    Plotly.newPlot(                        \"ec1df0cb-9ce6-428e-b8c4-bfd0a81e9c26\",                        [{\"x\":[15.0,17.0,18.0,19.0,20.0,22.0,23.0,24.0,25.0,27.0,28.0,29.0,31.0,32.0,33.0,34.0,36.0,38.0,39.0,40.0,42.0,43.0,45.0,46.0,47.0,48.0,50.0,51.0,52.0,53.0,55.0,56.0,57.0,58.0,59.0,61.0,62.0,63.0,65.0,67.0,68.0,69.0,70.0,72.0,73.0,74.0,76.0,77.0,78.0,80.0,81.0,82.0,84.0,85.0,86.0,87.0,88.0,90.0,91.0,92.0,94.0,95.0,96.0,97.0,98.0,100.0,101.0,102.0,104.0,105.0,106.0,108.0,109.0,110.0,112.0,113.0,114.0,115.0,116.0,118.0,119.0,120.0,122.0,123.0,124.0,125.0,126.0,128.0,129.0,130.0,132.0,133.0,134.0,136.0,137.0,138.0,140.0,141.0,142.0,143.0,144.0,146.0,147.0,148.0,150.0,151.0,152.0,153.0,154.0,156.0,157.0,158.0,160.0,161.0,162.0,164.0,165.0,166.0,168.0,169.0,170.0,171.0,172.0,174.0,175.0,176.0,178.0,179.0,180.0,181.0,182.0,184.0,185.0,186.0,188.0,189.0,190.0,192.0,193.0,194.0,196.0,197.0,198.0,199.0,200.0,202.0,203.0,204.0,206.0,207.0,208.0,209.0,210.0,212.0,213.0,214.0,216.0,217.0,218.0,220.0,221.0,222.0,224.0,225.0,226.0,227.0,228.0,230.0,231.0,232.0,234.0,235.0,236.0,237.0,238.0,240.0,241.0,242.0,244.0,245.0,246.0,248.0,249.0,250.0,252.0,253.0,254.0,255.0,256.0,258.0,259.0,260.0,262.0,263.0,264.0,265.0,266.0,268.0,269.0,270.0,272.0,273.0,274.0,276.0,277.0,278.0,280.0,281.0,282.0,283.0,284.0,286.0,287.0,288.0,290.0,291.0,292.0,293.0,294.0,296.0,297.0,298.0,300.0,301.0,302.0,304.0,305.0,306.0,307.0,308.0,310.0,311.0,312.0,314.0,315.0,316.0,317.0,318.0,320.0,321.0,322.0,324.0,325.0,326.0,327.0,329.0,330.0,331.0,333.0,334.0,335.0,336.0,337.0,339.0,340.0,341.0,343.0,344.0,345.0,346.0,347.0,349.0,350.0,351.0,353.0,354.0,355.0,357.0,358.0,359.0,361.0,362.0,363.0,364.0,365.0,367.0,368.0,369.0,371.0,372.0,373.0,374.0,375.0,377.0,378.0,379.0,381.0,382.0,383.0,385.0,386.0,387.0,388.0,389.0,391.0,392.0,393.0,395.0,396.0,397.0,398.0,399.0,401.0,402.0,403.0,405.0,406.0,407.0,408.0,410.0,411.0,412.0,414.0,415.0,416.0,417.0,418.0,420.0,421.0,422.0,424.0,425.0,426.0,428.0,429.0,430.0,432.0,433.0,434.0,435.0,436.0,438.0,439.0,440.0,442.0,443.0,444.0,445.0,446.0,448.0,449.0,450.0,452.0,453.0,454.0,456.0,457.0,458.0,459.0,460.0,462.0,463.0,464.0,466.0,467.0,468.0,469.0,470.0,471.0,473.0,474.0,475.0,477.0,478.0,479.0,480.0,481.0,483.0,485.0,486.0,487.0,488.0,490.0,491.0,492.0,494.0,495.0,496.0,497.0,498.0,499.0,501.0,502.0,503.0,505.0,506.0,507.0,508.0,509.0,511.0,512.0,513.0,515.0,516.0,517.0,518.0,519.0,521.0,523.0,524.0,525.0,526.0,528.0,529.0,530.0,532.0,533.0,534.0,535.0,536.0,537.0,538.0,540.0,541.0,542.0,544.0,545.0,547.0,548.0,549.0,551.0,552.0,553.0,554.0,555.0,557.0,558.0,559.0,561.0,562.0,563.0,564.0,565.0,567.0,568.0,569.0,571.0,572.0,573.0,575.0,576.0,577.0,578.0,579.0,581.0,582.0,583.0,585.0,586.0,587.0,588.0,589.0,591.0,592.0,593.0,595.0,596.0,597.0,598.0,600.0,601.0,602.0,604.0,605.0,606.0,607.0,608.0,610.0,611.0,612.0,614.0,615.0,616.0,617.0,618.0,620.0,621.0,622.0,624.0,625.0,626.0,627.0,628.0,630.0,631.0,632.0,634.0,635.0,636.0,637.0,638.0,640.0,641.0,642.0,644.0,645.0,646.0,647.0,648.0,650.0,652.0,653.0,654.0,655.0,657.0,658.0,659.0,661.0,662.0,663.0,664.0,665.0,667.0,668.0,669.0,671.0,672.0,673.0,674.0,675.0,676.0,678.0,679.0,680.0,682.0,683.0,684.0,685.0,686.0,688.0,689.0,690.0,692.0,693.0,694.0,695.0,697.0,698.0,699.0,701.0,702.0,703.0,704.0,706.0,707.0,708.0,710.0,711.0,712.0,714.0,715.0,716.0,718.0,719.0,720.0,721.0,722.0,724.0,725.0,726.0,728.0,729.0,730.0,731.0,732.0,734.0,735.0,736.0,738.0,739.0,740.0,741.0,742.0,744.0,745.0,746.0,748.0,749.0,750.0,751.0,752.0,754.0,755.0,756.0,758.0,759.0,760.0,761.0,762.0,764.0,765.0,766.0,768.0,769.0,770.0,771.0,773.0,774.0,775.0,777.0,778.0,779.0,780.0,782.0,783.0,784.0,786.0,787.0,788.0,789.0,790.0,792.0,793.0,794.0,796.0,797.0,798.0,799.0,800.0,802.0,803.0,804.0,806.0,807.0,808.0,809.0,810.0,812.0,813.0,814.0,816.0,817.0,818.0,819.0,821.0,822.0,823.0,825.0,826.0,827.0,828.0,830.0,831.0,832.0,834.0,835.0,836.0,837.0,838.0,840.0,841.0,842.0,844.0,845.0,846.0,847.0,848.0,850.0,851.0,852.0,854.0,855.0,856.0,857.0,859.0,860.0,861.0,863.0,864.0,865.0,866.0,868.0,869.0,870.0,872.0,873.0,874.0,875.0,876.0,878.0,879.0,880.0,882.0,883.0,884.0,885.0,886.0,888.0,889.0,890.0,892.0,893.0,894.0,895.0,897.0,898.0,899.0,901.0,902.0,903.0,904.0,906.0,907.0,908.0,910.0,911.0,912.0,913.0,914.0,915.0,916.0,918.0,920.0,921.0,922.0,923.0,925.0,926.0,927.0,929.0,930.0,931.0,932.0,933.0,935.0,936.0,937.0,939.0,940.0,941.0,942.0,943.0,945.0,946.0,947.0,949.0,950.0,951.0,952.0,953.0,954.0,956.0,957.0,958.0,960.0,961.0,962.0,963.0,965.0,966.0,967.0,969.0,970.0,971.0,972.0,974.0,975.0,976.0,978.0,979.0,980.0,981.0,982.0,984.0,985.0,986.0,988.0,989.0,990.0,991.0,993.0,994.0,995.0,997.0,998.0,999.0,1000.0,1002.0,1003.0,1004.0,1006.0,1007.0,1008.0,1009.0,1010.0,1011.0,1013.0,1014.0,1015.0,1017.0,1018.0,1019.0,1020.0,1022.0,1023.0,1024.0,1026.0,1027.0,1028.0,1029.0,1030.0,1032.0,1033.0,1034.0,1036.0,1037.0,1038.0,1039.0,1041.0,1042.0,1043.0,1045.0,1046.0,1047.0,1048.0,1050.0,1051.0,1052.0,1054.0,1055.0,1056.0,1057.0,1058.0,1060.0,1061.0,1062.0,1064.0,1065.0,1066.0,1067.0,1069.0,1070.0,1071.0,1073.0,1074.0,1075.0,1076.0,1077.0,1078.0,1080.0,1081.0,1082.0,1084.0,1085.0,1086.0,1087.0,1089.0,1090.0,1091.0,1093.0,1094.0,1095.0,1096.0,1098.0,1099.0,1100.0,1102.0,1103.0,1104.0,1105.0,1106.0,1107.0,1109.0,1110.0,1111.0,1113.0,1114.0,1116.0,1117.0,1118.0,1120.0,1121.0,1122.0,1123.0,1124.0,1125.0,1126.0,1128.0,1130.0,1131.0,1132.0,1133.0,1135.0,1136.0,1137.0,1139.0,1140.0,1141.0,1142.0,1143.0,1145.0,1146.0,1147.0,1149.0,1150.0,1151.0,1152.0,1153.0,1155.0,1156.0,1157.0,1159.0,1160.0,1161.0,1162.0,1163.0,1165.0,1166.0,1167.0,1169.0,1170.0,1171.0,1172.0,1174.0,1175.0,1176.0,1178.0,1179.0,1180.0,1181.0,1182.0,1183.0,1185.0,1186.0,1187.0,1189.0,1190.0,1191.0,1192.0,1194.0,1195.0,1196.0,1198.0,1199.0,1200.0,1201.0,1202.0,1204.0,1205.0,1206.0,1208.0,1209.0,1210.0,1211.0,1212.0,1214.0,1215.0,1216.0,1218.0,1219.0,1220.0,1221.0,1223.0,1224.0,1225.0,1227.0,1228.0,1229.0,1230.0,1232.0,1233.0,1234.0,1236.0,1237.0,1238.0,1240.0,1241.0,1242.0,1244.0,1245.0,1246.0,1247.0,1248.0,1250.0,1251.0,1252.0,1254.0,1255.0,1256.0,1257.0,1258.0,1260.0,1261.0,1262.0,1264.0,1265.0,1266.0,1267.0,1268.0,1270.0,1271.0,1272.0,1274.0,1275.0,1276.0,1277.0,1278.0,1280.0,1281.0,1282.0,1284.0,1285.0,1286.0,1287.0,1288.0,1290.0,1291.0,1292.0,1294.0,1295.0,1296.0,1298.0,1299.0,1300.0,1301.0,1302.0,1304.0,1305.0,1306.0,1308.0,1309.0,1310.0,1311.0,1312.0,1314.0,1315.0,1316.0,1318.0,1319.0,1320.0,1321.0,1322.0,1324.0,1325.0,1326.0,1328.0,1330.0,1331.0,1332.0,1333.0,1334.0,1335.0,1336.0,1338.0,1339.0,1340.0,1342.0,1343.0,1344.0,1346.0,1347.0,1348.0,1350.0,1351.0,1352.0,1353.0,1354.0,1356.0,1357.0,1358.0,1360.0,1361.0,1362.0,1363.0,1364.0,1366.0,1367.0,1368.0,1370.0,1371.0,1372.0,1373.0,1374.0,1375.0,1377.0,1378.0,1379.0,1381.0,1382.0,1383.0,1384.0,1386.0,1387.0,1388.0,1390.0,1391.0,1392.0,1393.0,1395.0,1396.0,1397.0,1399.0,1400.0,1401.0,1402.0,1404.0,1405.0,1406.0,1408.0,1409.0,1410.0,1411.0,1412.0,1413.0,1415.0,1416.0,1417.0,1419.0,1420.0,1421.0,1422.0,1424.0,1425.0,1426.0,1428.0,1429.0,1430.0,1431.0,1432.0,1434.0,1435.0,1436.0,1438.0,1439.0,1440.0,1441.0,1443.0,1444.0,1445.0,1447.0,1448.0,1449.0,1450.0,1451.0,1453.0],\"y\":[-39551.109375,-50850.050781,-76979.679688,-79551.25,-107791.546875,-114713.296875,-134703.625,-145503.921875,-153232.28125,-163288.109375,-167239.421875,-173120.8125,-179220.828125,-179612.078125,-183453.6875,-185012.65625,-193645.765625,-196711.703125,-198682.578125,-201347.0,-203967.890625,-205942.09375,-208461.234375,-210509.46875,-211655.375,-213779.4375,-216194.109375,-217861.765625,-219041.421875,-220338.71875,-222970.375,-224882.140625,-226118.03125,-227068.828125,-227895.03125,-230164.515625,-231366.46875,-232988.875,-234287.84375,-235059.359375,-235913.421875,-236209.09375,-236970.828125,-238661.21875,-239098.015625,-241203.03125,-241927.5625,-242329.34375,-243035.0,-244104.515625,-244972.765625,-246262.515625,-246877.34375,-247361.875,-247982.0,-248186.375,-248793.90625,-249899.078125,-250316.53125,-251675.203125,-252210.8125,-252551.0625,-253085.375,-253140.078125,-253644.28125,-254836.65625,-254885.15625,-256389.5625,-256848.5,-257082.59375,-257517.71875,-258281.109375,-258841.484375,-259778.625,-260178.09375,-260488.71875,-260879.953125,-261015.21875,-261379.203125,-262194.78125,-262491.03125,-263503.96875,-263854.875,-264087.53125,-264424.21875,-264472.78125,-264769.96875,-265663.1875,-265702.96875,-266832.71875,-267134.125,-267303.03125,-267575.71875,-268145.34375,-268590.59375,-269291.125,-269564.46875,-269781.46875,-270042.15625,-270141.96875,-270374.40625,-270982.71875,-271209.90625,-271964.4375,-272206.125,-272371.15625,-272598.1875,-272633.71875,-272826.46875,-273490.6875,-273518.40625,-274356.09375,-274566.3125,-274688.15625,-274876.25,-275298.0,-275633.0,-276150.21875,-276347.46875,-276504.875,-276692.90625,-276765.1875,-276932.5625,-277382.71875,-277552.25,-278108.78125,-278286.9375,-278408.21875,-278577.0,-278602.28125,-278746.90625,-279238.59375,-279263.90625,-279881.03125,-280039.6875,-280130.75,-280274.90625,-280587.3125,-280836.84375,-281218.25,-281369.34375,-281489.28125,-281635.6875,-281690.21875,-281824.9375,-282157.59375,-282290.84375,-282700.4375,-282840.1875,-282934.75,-283070.625,-283090.59375,-283212.75,-283576.03125,-283609.5,-284062.46875,-284190.84375,-284263.25,-284384.90625,-284616.65625,-284809.34375,-285091.21875,-285213.4375,-285310.96875,-285432.90625,-285478.09375,-285595.78125,-285843.03125,-285955.4375,-286257.34375,-286373.0625,-286452.15625,-286568.96875,-286587.6875,-286700.25,-286968.96875,-287012.46875,-287344.40625,-287453.84375,-287515.25,-287624.84375,-287798.25,-287949.9375,-288158.3125,-288261.0,-288345.875,-288453.375,-288492.875,-288602.6875,-288786.28125,-288883.25,-289104.5625,-289204.9375,-289274.6875,-289380.8125,-289398.375,-289507.78125,-289705.53125,-289754.875,-289995.96875,-290093.1875,-290148.375,-290251.28125,-290380.96875,-290499.3125,-290652.4375,-290741.78125,-290820.625,-290918.59375,-290955.4375,-291061.90625,-291197.375,-291279.84375,-291440.0,-291528.375,-291595.0625,-291694.25,-291711.9375,-291821.875,-291965.84375,-292015.625,-292187.125,-292275.78125,-292328.5625,-292428.8125,-292525.90625,-292617.03125,-292728.0,-292742.5,-292860.5625,-292981.9375,-293029.15625,-293187.03125,-293264.25,-293322.5,-293395.875,-293427.90625,-293482.5,-293652.0625,-293804.4375,-294026.78125,-294087.96875,-294155.9375,-294191.59375,-294256.875,-294390.21875,-294484.3125,-294645.0625,-294712.59375,-294764.09375,-294833.78125,-294853.03125,-294922.28125,-295064.375,-295113.15625,-295285.5,-295352.5625,-295394.34375,-295464.84375,-295467.71875,-295539.0,-295693.25,-295705.40625,-295893.53125,-295960.375,-295991.6875,-296061.75,-296160.40625,-296232.65625,-296349.59375,-296412.03125,-296461.71875,-296530.59375,-296548.375,-296623.65625,-296727.03125,-296771.75,-296894.0,-296957.21875,-296998.53125,-297070.40625,-297073.25,-297154.09375,-297263.84375,-297284.375,-297414.78125,-297479.59375,-297510.90625,-297585.78125,-297657.90625,-297714.28125,-297796.375,-297798.125,-297884.0625,-297978.34375,-298002.03125,-298127.125,-298182.1875,-298221.71875,-298271.5625,-298293.5,-298325.8125,-298461.75,-298582.25,-298759.625,-298801.1875,-298851.5625,-298871.625,-298921.96875,-299023.78125,-299073.90625,-299196.125,-299246.9375,-299281.03125,-299334.875,-299340.4375,-299397.1875,-299505.1875,-299524.0625,-299654.25,-299706.03125,-299731.875,-299788.71875,-299857.875,-299912.78125,-299993.09375,-300041.71875,-300083.25,-300138.65625,-300154.25,-300217.625,-300288.5,-300324.28125,-300406.1875,-300456.375,-300492.75,-300552.25,-300555.5,-300626.0625,-300700.09375,-300720.375,-300805.59375,-300858.40625,-300887.375,-300951.3125,-301001.09375,-301042.78125,-301097.1875,-301110.71875,-301163.96875,-301239.0,-301281.875,-301381.84375,-301422.3125,-301458.03125,-301491.625,-301521.34375,-301536.96875,-301555.71875,-301684.46875,-301720.75,-301879.21875,-301915.0,-301941.03125,-301971.71875,-301973.65625,-301995.9375,-302136.0625,-302187.28125,-302238.3125,-302256.0625,-302309.53125,-302366.46875,-302405.9375,-302480.625,-302518.59375,-302552.84375,-302588.3125,-302613.8125,-302638.8125,-302652.96875,-302758.0,-302854.65625,-302981.65625,-303014.53125,-303042.78125,-303071.09375,-303082.71875,-303102.75,-303213.65625,-303240.59375,-303376.5,-303408.875,-303431.34375,-303460.15625,-303461.75,-303483.1875,-303604.4375,-303649.84375,-303694.71875,-303711.0,-303757.90625,-303807.78125,-303843.9375,-303908.90625,-303943.03125,-303973.625,-304005.65625,-304028.25,-304051.84375,-304063.78125,-304066.40625,-304192.0,-304279.03125,-304443.28125,-304462.1875,-304499.15625,-304548.375,-304590.125,-304647.6875,-304680.59375,-304708.96875,-304745.875,-304757.84375,-304798.5625,-304850.3125,-304878.84375,-304940.125,-304973.9375,-304998.78125,-305036.71875,-305042.625,-305085.09375,-305140.75,-305159.6875,-305226.09375,-305260.59375,-305281.09375,-305319.9375,-305357.90625,-305394.25,-305437.90625,-305444.3125,-305491.28125,-305538.5625,-305557.84375,-305619.03125,-305649.9375,-305673.46875,-305704.28125,-305716.6875,-305741.1875,-305806.6875,-305860.75,-305949.46875,-305975.21875,-306003.4375,-306018.9375,-306046.71875,-306099.75,-306144.03125,-306208.875,-306237.15625,-306260.15625,-306288.6875,-306300.09375,-306327.625,-306385.75,-306417.46875,-306488.78125,-306516.71875,-306537.0625,-306565.03125,-306572.59375,-306598.6875,-306663.375,-306684.5625,-306764.75,-306792.03125,-306810.5625,-306836.8125,-306841.0625,-306864.0625,-306937.46875,-306949.03125,-307041.09375,-307066.71875,-307083.1875,-307106.84375,-307109.0625,-307127.09375,-307211.625,-307212.875,-307320.3125,-307343.71875,-307359.375,-307378.59375,-307379.625,-307390.125,-307488.625,-307524.40625,-307560.4375,-307569.6875,-307609.59375,-307645.875,-307665.1875,-307710.6875,-307737.4375,-307759.53125,-307787.3125,-307798.0,-307823.625,-307871.5625,-307908.96875,-307973.65625,-307996.59375,-308019.4375,-308037.65625,-308057.34375,-308064.125,-308077.4375,-308153.90625,-308170.21875,-308267.40625,-308287.875,-308305.0625,-308321.53125,-308327.5,-308334.28125,-308422.9375,-308433.625,-308547.0,-308564.625,-308582.46875,-308592.875,-308599.625,-308675.96875,-308737.0,-308841.84375,-308857.28125,-308884.5625,-308885.6875,-308914.21875,-308965.28125,-308972.625,-309036.59375,-309060.6875,-309074.09375,-309099.03125,-309134.1875,-309166.90625,-309209.6875,-309232.15625,-309252.34375,-309275.71875,-309287.25,-309310.71875,-309349.34375,-309380.40625,-309428.4375,-309450.59375,-309468.8125,-309491.03125,-309501.125,-309522.125,-309565.9375,-309595.1875,-309650.25,-309671.375,-309688.4375,-309709.09375,-309717.90625,-309735.21875,-309785.96875,-309813.71875,-309877.875,-309897.84375,-309914.53125,-309932.09375,-309940.40625,-309953.4375,-310011.9375,-310040.0625,-310114.96875,-310133.125,-310149.875,-310163.8125,-310173.0625,-310179.125,-310248.0,-310278.8125,-310367.09375,-310382.90625,-310400.5625,-310409.71875,-310420.21875,-310476.9375,-310524.15625,-310601.34375,-310616.875,-310638.59375,-310644.875,-310666.1875,-310707.5625,-310725.9375,-310777.8125,-310797.84375,-310812.3125,-310831.46875,-310837.46875,-310854.15625,-310902.75,-310920.78125,-310982.9375,-311001.25,-311015.75,-311031.625,-311038.0625,-311048.96875,-311106.375,-311127.375,-311201.40625,-311217.4375,-311232.71875,-311244.28125,-311252.4375,-311255.8125,-311323.75,-311352.25,-311441.03125,-311454.125,-311471.1875,-311477.125,-311487.96875,-311542.3125,-311569.96875,-311643.375,-311657.5,-311675.96875,-311682.28125,-311699.0625,-311741.375,-311760.78125,-311814.625,-311831.8125,-311845.9375,-311861.3125,-311868.4375,-311879.6875,-311929.625,-311952.90625,-312017.78125,-312033.15625,-312047.8125,-312059.25,-312068.125,-312072.40625,-312132.25,-312165.4375,-312243.0625,-312256.21875,-312272.5625,-312278.9375,-312290.28125,-312337.84375,-312367.625,-312431.0,-312444.96875,-312462.15625,-312469.90625,-312485.3125,-312522.5625,-312546.40625,-312594.5625,-312611.0,-312624.9375,-312639.25,-312647.59375,-312657.90625,-312702.625,-312733.28125,-312790.84375,-312805.625,-312820.46875,-312831.375,-312841.21875,-312845.4375,-312898.375,-312944.0,-313013.375,-313025.84375,-313042.125,-313048.28125,-313060.75,-313101.90625,-313129.03125,-313183.6875,-313197.625,-313213.21875,-313221.96875,-313235.5,-313269.65625,-313300.84375,-313344.625,-313359.59375,-313373.75,-313387.15625,-313397.0,-313405.75,-313406.90625,-313406.96875,-313480.6875,-313505.65625,-313532.6875,-313533.90625,-313565.90625,-313587.625,-313595.5,-313621.6875,-313641.3125,-313654.375,-313677.28125,-313677.375,-313701.71875,-313730.875,-313737.09375,-313773.84375,-313790.96875,-313801.6875,-313819.125,-313821.875,-313836.875,-313874.625,-313887.40625,-313937.46875,-313951.375,-313964.21875,-313974.6875,-313983.4375,-313986.78125,-313987.0,-314052.1875,-314055.8125,-314142.28125,-314150.75,-314165.03125,-314165.9375,-314175.1875,-314225.4375,-314231.375,-314299.0,-314309.71875,-314323.3125,-314328.09375,-314337.84375,-314379.96875,-314395.21875,-314449.96875,-314462.78125,-314474.90625,-314483.90625,-314491.625,-314493.78125,-314544.9375,-314576.3125,-314643.78125,-314654.1875,-314668.625,-314672.09375,-314683.6875,-314722.28125,-314737.15625,-314788.53125,-314800.53125,-314813.28125,-314821.15625,-314830.84375,-314864.34375,-314895.90625,-314939.84375,-314952.34375,-314965.5,-314974.59375,-314984.75,-314988.75,-314991.46875,-315044.3125,-315062.40625,-315133.125,-315141.875,-315156.5,-315156.78125,-315169.625,-315208.375,-315211.0625,-315261.5625,-315274.0625,-315283.40625,-315293.625,-315296.96875,-315302.15625,-315350.0,-315359.40625,-315422.96875,-315432.5625,-315445.0625,-315449.375,-315457.1875,-315496.59375,-315515.15625,-315567.40625,-315578.03125,-315590.90625,-315596.5625,-315607.03125,-315639.03125,-315658.03125,-315699.78125,-315711.65625,-315723.125,-315732.1875,-315739.875,-315744.53125,-315783.53125,-315820.09375,-315871.71875,-315881.71875,-315894.96875,-315900.3125,-315911.0625,-315940.71875,-315960.375,-315999.625,-316011.375,-316022.625,-316031.25,-316039.9375,-316043.3125,-316046.625,-316094.53125,-316101.71875,-316165.25,-316173.71875,-316185.5,-316188.0,-316195.6875,-316233.84375,-316245.5625,-316296.0625,-316306.0,-316317.0625,-316322.59375,-316331.125,-316362.96875,-316382.96875,-316424.78125,-316436.0,-316446.71875,-316454.625,-316462.65625,-316464.46875,-316465.6875,-316516.96875,-316523.8125,-316591.8125,-316598.53125,-316611.28125,-316632.5625,-316651.1875,-316678.0625,-316689.71875,-316700.65625,-316711.625,-316718.875,-316727.875,-316729.0625,-316732.90625,-316779.4375,-316798.3125,-316816.125,-316819.96875,-316841.46875,-316856.90625,-316865.28125,-316883.5625,-316897.09375,-316908.71875,-316924.40625,-316927.40625,-316944.78125,-316963.9375,-316972.6875,-316996.96875,-317009.0625,-317018.65625,-317031.6875,-317035.4375,-317047.96875,-317072.21875,-317084.625,-317116.5,-317127.5,-317136.875,-317146.875,-317153.21875,-317159.0625,-317190.0,-317218.6875,-317259.34375,-317268.9375,-317280.46875,-317285.90625,-317296.21875,-317320.46875,-317339.03125,-317370.46875,-317381.4375,-317391.40625,-317400.1875,-317407.40625,-317412.90625,-317414.6875,-317454.71875,-317484.125,-317535.625,-317543.4375,-317554.6875,-317557.4375,-317566.625,-317596.3125,-317605.28125,-317644.28125,-317654.5,-317663.71875,-317670.875,-317676.4375,-317678.96875,-317716.4375,-317741.21875,-317783.78125,-317794.0,-317801.46875,-317809.28125,-317812.0,-317815.09375,-317856.125,-317864.09375,-317918.875,-317926.0,-317936.5,-317938.875,-317946.71875,-317978.59375,-317987.71875,-318030.46875,-318039.375,-318049.0625,-318054.46875,-318061.0625,-318089.34375,-318114.1875,-318138.5625,-318152.1875,-318157.6875,-318173.3125,-318187.875,-318198.625,-318216.75,-318227.625,-318238.03125,-318250.53125,-318255.78125,-318268.625,-318285.875,-318299.4375,-318321.5,-318332.125,-318341.5625,-318352.28125,-318358.15625,-318367.5625,-318388.6875,-318409.125,-318429.90625,-318441.9375,-318450.125,-318463.25,-318465.1875,-318478.5625,-318499.46875,-318506.90625,-318533.90625,-318544.625,-318552.53125,-318562.71875,-318566.15625,-318574.65625,-318601.25,-318613.09375,-318647.125,-318656.625,-318665.125,-318672.71875,-318677.90625,-318681.4375,-318713.96875,-318741.0625,-318753.875,-318774.84375,-318782.09375,-318809.15625,-318819.34375,-318827.1875,-318836.90625,-318840.53125,-318847.875,-318874.65625,-318890.84375,-318919.375,-318930.03125,-318936.15625,-318946.78125,-318948.0,-318956.3125,-318984.75,-318989.875,-319027.15625,-319035.9375,-319043.75,-319050.1875,-319054.375,-319055.59375,-319092.0,-319119.125,-319137.75,-319157.03125,-319166.59375,-319176.21875,-319185.125,-319193.03125,-319199.84375,-319204.53125,-319207.375,-319239.0,-319261.375,-319288.15625,-319300.875,-319303.9375,-319317.71875,-319333.15625,-319340.3125,-319359.125,-319369.40625,-319377.1875,-319388.0625,-319391.09375,-319401.59375,-319420.5625,-319429.40625,-319453.78125,-319463.21875,-319470.75,-319479.28125,-319483.5,-319489.84375,-319513.15625,-319529.5625,-319560.40625,-319568.46875,-319576.96875,-319582.78125,-319589.0625,-319590.3125,-319592.25,-319628.875,-319632.8125,-319681.40625,-319686.96875,-319695.6875,-319696.09375,-319702.71875,-319731.0625,-319733.21875,-319771.1875,-319778.375,-319785.3125,-319789.90625,-319794.09375,-319819.65625,-319840.8125,-319874.71875,-319881.5,-319890.28125,-319893.9375,-319901.5625,-319921.5625,-319934.46875,-319960.53125,-319968.5,-319976.34375,-319982.59375,-319988.15625,-319991.0625,-319992.5,-320025.4375,-320039.09375,-320082.625,-320087.84375,-320096.9375,-320097.46875,-320105.1875,-320129.1875,-320131.75,-320163.625,-320171.09375,-320177.59375,-320183.1875,-320186.5,-320188.1875,-320218.875,-320231.9375,-320273.1875,-320278.53125,-320287.34375,-320288.03125,-320295.625,-320318.4375,-320323.3125,-320352.96875,-320360.28125,-320366.59375,-320372.0625,-320375.84375,-320377.34375,-320406.34375],\"type\":\"scatter\"}],                        {\"template\":{\"data\":{\"barpolar\":[{\"marker\":{\"line\":{\"color\":\"#E5ECF6\",\"width\":0.5},\"pattern\":{\"fillmode\":\"overlay\",\"size\":10,\"solidity\":0.2}},\"type\":\"barpolar\"}],\"bar\":[{\"error_x\":{\"color\":\"#2a3f5f\"},\"error_y\":{\"color\":\"#2a3f5f\"},\"marker\":{\"line\":{\"color\":\"#E5ECF6\",\"width\":0.5},\"pattern\":{\"fillmode\":\"overlay\",\"size\":10,\"solidity\":0.2}},\"type\":\"bar\"}],\"carpet\":[{\"aaxis\":{\"endlinecolor\":\"#2a3f5f\",\"gridcolor\":\"white\",\"linecolor\":\"white\",\"minorgridcolor\":\"white\",\"startlinecolor\":\"#2a3f5f\"},\"baxis\":{\"endlinecolor\":\"#2a3f5f\",\"gridcolor\":\"white\",\"linecolor\":\"white\",\"minorgridcolor\":\"white\",\"startlinecolor\":\"#2a3f5f\"},\"type\":\"carpet\"}],\"choropleth\":[{\"colorbar\":{\"outlinewidth\":0,\"ticks\":\"\"},\"type\":\"choropleth\"}],\"contourcarpet\":[{\"colorbar\":{\"outlinewidth\":0,\"ticks\":\"\"},\"type\":\"contourcarpet\"}],\"contour\":[{\"colorbar\":{\"outlinewidth\":0,\"ticks\":\"\"},\"colorscale\":[[0.0,\"#0d0887\"],[0.1111111111111111,\"#46039f\"],[0.2222222222222222,\"#7201a8\"],[0.3333333333333333,\"#9c179e\"],[0.4444444444444444,\"#bd3786\"],[0.5555555555555556,\"#d8576b\"],[0.6666666666666666,\"#ed7953\"],[0.7777777777777778,\"#fb9f3a\"],[0.8888888888888888,\"#fdca26\"],[1.0,\"#f0f921\"]],\"type\":\"contour\"}],\"heatmapgl\":[{\"colorbar\":{\"outlinewidth\":0,\"ticks\":\"\"},\"colorscale\":[[0.0,\"#0d0887\"],[0.1111111111111111,\"#46039f\"],[0.2222222222222222,\"#7201a8\"],[0.3333333333333333,\"#9c179e\"],[0.4444444444444444,\"#bd3786\"],[0.5555555555555556,\"#d8576b\"],[0.6666666666666666,\"#ed7953\"],[0.7777777777777778,\"#fb9f3a\"],[0.8888888888888888,\"#fdca26\"],[1.0,\"#f0f921\"]],\"type\":\"heatmapgl\"}],\"heatmap\":[{\"colorbar\":{\"outlinewidth\":0,\"ticks\":\"\"},\"colorscale\":[[0.0,\"#0d0887\"],[0.1111111111111111,\"#46039f\"],[0.2222222222222222,\"#7201a8\"],[0.3333333333333333,\"#9c179e\"],[0.4444444444444444,\"#bd3786\"],[0.5555555555555556,\"#d8576b\"],[0.6666666666666666,\"#ed7953\"],[0.7777777777777778,\"#fb9f3a\"],[0.8888888888888888,\"#fdca26\"],[1.0,\"#f0f921\"]],\"type\":\"heatmap\"}],\"histogram2dcontour\":[{\"colorbar\":{\"outlinewidth\":0,\"ticks\":\"\"},\"colorscale\":[[0.0,\"#0d0887\"],[0.1111111111111111,\"#46039f\"],[0.2222222222222222,\"#7201a8\"],[0.3333333333333333,\"#9c179e\"],[0.4444444444444444,\"#bd3786\"],[0.5555555555555556,\"#d8576b\"],[0.6666666666666666,\"#ed7953\"],[0.7777777777777778,\"#fb9f3a\"],[0.8888888888888888,\"#fdca26\"],[1.0,\"#f0f921\"]],\"type\":\"histogram2dcontour\"}],\"histogram2d\":[{\"colorbar\":{\"outlinewidth\":0,\"ticks\":\"\"},\"colorscale\":[[0.0,\"#0d0887\"],[0.1111111111111111,\"#46039f\"],[0.2222222222222222,\"#7201a8\"],[0.3333333333333333,\"#9c179e\"],[0.4444444444444444,\"#bd3786\"],[0.5555555555555556,\"#d8576b\"],[0.6666666666666666,\"#ed7953\"],[0.7777777777777778,\"#fb9f3a\"],[0.8888888888888888,\"#fdca26\"],[1.0,\"#f0f921\"]],\"type\":\"histogram2d\"}],\"histogram\":[{\"marker\":{\"pattern\":{\"fillmode\":\"overlay\",\"size\":10,\"solidity\":0.2}},\"type\":\"histogram\"}],\"mesh3d\":[{\"colorbar\":{\"outlinewidth\":0,\"ticks\":\"\"},\"type\":\"mesh3d\"}],\"parcoords\":[{\"line\":{\"colorbar\":{\"outlinewidth\":0,\"ticks\":\"\"}},\"type\":\"parcoords\"}],\"pie\":[{\"automargin\":true,\"type\":\"pie\"}],\"scatter3d\":[{\"line\":{\"colorbar\":{\"outlinewidth\":0,\"ticks\":\"\"}},\"marker\":{\"colorbar\":{\"outlinewidth\":0,\"ticks\":\"\"}},\"type\":\"scatter3d\"}],\"scattercarpet\":[{\"marker\":{\"colorbar\":{\"outlinewidth\":0,\"ticks\":\"\"}},\"type\":\"scattercarpet\"}],\"scattergeo\":[{\"marker\":{\"colorbar\":{\"outlinewidth\":0,\"ticks\":\"\"}},\"type\":\"scattergeo\"}],\"scattergl\":[{\"marker\":{\"colorbar\":{\"outlinewidth\":0,\"ticks\":\"\"}},\"type\":\"scattergl\"}],\"scattermapbox\":[{\"marker\":{\"colorbar\":{\"outlinewidth\":0,\"ticks\":\"\"}},\"type\":\"scattermapbox\"}],\"scatterpolargl\":[{\"marker\":{\"colorbar\":{\"outlinewidth\":0,\"ticks\":\"\"}},\"type\":\"scatterpolargl\"}],\"scatterpolar\":[{\"marker\":{\"colorbar\":{\"outlinewidth\":0,\"ticks\":\"\"}},\"type\":\"scatterpolar\"}],\"scatter\":[{\"fillpattern\":{\"fillmode\":\"overlay\",\"size\":10,\"solidity\":0.2},\"type\":\"scatter\"}],\"scatterternary\":[{\"marker\":{\"colorbar\":{\"outlinewidth\":0,\"ticks\":\"\"}},\"type\":\"scatterternary\"}],\"surface\":[{\"colorbar\":{\"outlinewidth\":0,\"ticks\":\"\"},\"colorscale\":[[0.0,\"#0d0887\"],[0.1111111111111111,\"#46039f\"],[0.2222222222222222,\"#7201a8\"],[0.3333333333333333,\"#9c179e\"],[0.4444444444444444,\"#bd3786\"],[0.5555555555555556,\"#d8576b\"],[0.6666666666666666,\"#ed7953\"],[0.7777777777777778,\"#fb9f3a\"],[0.8888888888888888,\"#fdca26\"],[1.0,\"#f0f921\"]],\"type\":\"surface\"}],\"table\":[{\"cells\":{\"fill\":{\"color\":\"#EBF0F8\"},\"line\":{\"color\":\"white\"}},\"header\":{\"fill\":{\"color\":\"#C8D4E3\"},\"line\":{\"color\":\"white\"}},\"type\":\"table\"}]},\"layout\":{\"annotationdefaults\":{\"arrowcolor\":\"#2a3f5f\",\"arrowhead\":0,\"arrowwidth\":1},\"autotypenumbers\":\"strict\",\"coloraxis\":{\"colorbar\":{\"outlinewidth\":0,\"ticks\":\"\"}},\"colorscale\":{\"diverging\":[[0,\"#8e0152\"],[0.1,\"#c51b7d\"],[0.2,\"#de77ae\"],[0.3,\"#f1b6da\"],[0.4,\"#fde0ef\"],[0.5,\"#f7f7f7\"],[0.6,\"#e6f5d0\"],[0.7,\"#b8e186\"],[0.8,\"#7fbc41\"],[0.9,\"#4d9221\"],[1,\"#276419\"]],\"sequential\":[[0.0,\"#0d0887\"],[0.1111111111111111,\"#46039f\"],[0.2222222222222222,\"#7201a8\"],[0.3333333333333333,\"#9c179e\"],[0.4444444444444444,\"#bd3786\"],[0.5555555555555556,\"#d8576b\"],[0.6666666666666666,\"#ed7953\"],[0.7777777777777778,\"#fb9f3a\"],[0.8888888888888888,\"#fdca26\"],[1.0,\"#f0f921\"]],\"sequentialminus\":[[0.0,\"#0d0887\"],[0.1111111111111111,\"#46039f\"],[0.2222222222222222,\"#7201a8\"],[0.3333333333333333,\"#9c179e\"],[0.4444444444444444,\"#bd3786\"],[0.5555555555555556,\"#d8576b\"],[0.6666666666666666,\"#ed7953\"],[0.7777777777777778,\"#fb9f3a\"],[0.8888888888888888,\"#fdca26\"],[1.0,\"#f0f921\"]]},\"colorway\":[\"#636efa\",\"#EF553B\",\"#00cc96\",\"#ab63fa\",\"#FFA15A\",\"#19d3f3\",\"#FF6692\",\"#B6E880\",\"#FF97FF\",\"#FECB52\"],\"font\":{\"color\":\"#2a3f5f\"},\"geo\":{\"bgcolor\":\"white\",\"lakecolor\":\"white\",\"landcolor\":\"#E5ECF6\",\"showlakes\":true,\"showland\":true,\"subunitcolor\":\"white\"},\"hoverlabel\":{\"align\":\"left\"},\"hovermode\":\"closest\",\"mapbox\":{\"style\":\"light\"},\"paper_bgcolor\":\"white\",\"plot_bgcolor\":\"#E5ECF6\",\"polar\":{\"angularaxis\":{\"gridcolor\":\"white\",\"linecolor\":\"white\",\"ticks\":\"\"},\"bgcolor\":\"#E5ECF6\",\"radialaxis\":{\"gridcolor\":\"white\",\"linecolor\":\"white\",\"ticks\":\"\"}},\"scene\":{\"xaxis\":{\"backgroundcolor\":\"#E5ECF6\",\"gridcolor\":\"white\",\"gridwidth\":2,\"linecolor\":\"white\",\"showbackground\":true,\"ticks\":\"\",\"zerolinecolor\":\"white\"},\"yaxis\":{\"backgroundcolor\":\"#E5ECF6\",\"gridcolor\":\"white\",\"gridwidth\":2,\"linecolor\":\"white\",\"showbackground\":true,\"ticks\":\"\",\"zerolinecolor\":\"white\"},\"zaxis\":{\"backgroundcolor\":\"#E5ECF6\",\"gridcolor\":\"white\",\"gridwidth\":2,\"linecolor\":\"white\",\"showbackground\":true,\"ticks\":\"\",\"zerolinecolor\":\"white\"}},\"shapedefaults\":{\"line\":{\"color\":\"#2a3f5f\"}},\"ternary\":{\"aaxis\":{\"gridcolor\":\"white\",\"linecolor\":\"white\",\"ticks\":\"\"},\"baxis\":{\"gridcolor\":\"white\",\"linecolor\":\"white\",\"ticks\":\"\"},\"bgcolor\":\"#E5ECF6\",\"caxis\":{\"gridcolor\":\"white\",\"linecolor\":\"white\",\"ticks\":\"\"}},\"title\":{\"x\":0.05},\"xaxis\":{\"automargin\":true,\"gridcolor\":\"white\",\"linecolor\":\"white\",\"ticks\":\"\",\"title\":{\"standoff\":15},\"zerolinecolor\":\"white\",\"zerolinewidth\":2},\"yaxis\":{\"automargin\":true,\"gridcolor\":\"white\",\"linecolor\":\"white\",\"ticks\":\"\",\"title\":{\"standoff\":15},\"zerolinecolor\":\"white\",\"zerolinewidth\":2}}},\"title\":{\"text\":\"Energy Minimization\"},\"xaxis\":{\"title\":{\"text\":\"Energy Minimization Step\"}},\"yaxis\":{\"title\":{\"text\":\"Potential Energy KJ/mol-1\"}}},                        {\"responsive\": true}                    ).then(function(){\n",
       "                            \n",
       "var gd = document.getElementById('ec1df0cb-9ce6-428e-b8c4-bfd0a81e9c26');\n",
       "var x = new MutationObserver(function (mutations, observer) {{\n",
       "        var display = window.getComputedStyle(gd).display;\n",
       "        if (!display || display === 'none') {{\n",
       "            console.log([gd, 'removed!']);\n",
       "            Plotly.purge(gd);\n",
       "            observer.disconnect();\n",
       "        }}\n",
       "}});\n",
       "\n",
       "// Listen for the removal of the full notebook cells\n",
       "var notebookContainer = gd.closest('#notebook-container');\n",
       "if (notebookContainer) {{\n",
       "    x.observe(notebookContainer, {childList: true});\n",
       "}}\n",
       "\n",
       "// Listen for the clearing of the current output cell\n",
       "var outputEl = gd.closest('.output');\n",
       "if (outputEl) {{\n",
       "    x.observe(outputEl, {childList: true});\n",
       "}}\n",
       "\n",
       "                        })                };                });            </script>        </div>"
      ]
     },
     "metadata": {},
     "output_type": "display_data"
    }
   ],
   "source": [
    "import plotly\n",
    "import plotly.graph_objs as go\n",
    "\n",
    "#Read data from file and filter energy values higher than 1000 Kj/mol^-1\n",
    "with open(output_min_ene_xvg,'r') as energy_file:\n",
    "    x,y = map(\n",
    "        list,\n",
    "        zip(*[\n",
    "            (float(line.split()[0]),float(line.split()[1]))\n",
    "            for line in energy_file \n",
    "            if not line.startswith((\"#\",\"@\")) \n",
    "            if float(line.split()[1]) < 1000 \n",
    "        ])\n",
    "    )\n",
    "\n",
    "plotly.offline.init_notebook_mode(connected=True)\n",
    "\n",
    "fig = ({\n",
    "    \"data\": [go.Scatter(x=x, y=y)],\n",
    "    \"layout\": go.Layout(title=\"Energy Minimization\",\n",
    "                        xaxis=dict(title = \"Energy Minimization Step\"),\n",
    "                        yaxis=dict(title = \"Potential Energy KJ/mol-1\")\n",
    "                       )\n",
    "})\n",
    "\n",
    "plotly.offline.iplot(fig)"
   ]
  },
  {
   "cell_type": "markdown",
   "metadata": {},
   "source": [
    "<img src='images/fig1.png' width=\"50%\" height=\"50%\"></img>"
   ]
  },
  {
   "cell_type": "markdown",
   "metadata": {},
   "source": [
    "<a id=\"nvt\"></a>\n",
    "***\n",
    "## Equilibrate the system (NVT)\n",
    "Equilibrate the **protein-ligand complex** system in NVT ensemble (constant Number of particles, Volume and Temperature). To avoid temperature coupling problems, a new *\"system\"* group will be created including the **protein** + the **ligand** to be assigned to a single thermostatting group.\n",
    "\n",
    "- [Step 1](#eqNVTStep1): Creating an index file with a new group including the **protein-ligand complex**.\n",
    "- [Step 2](#eqNVTStep3): Creating portable binary run file for system equilibration\n",
    "- [Step 3](#eqNVTStep3): Equilibrate the **protein-ligand complex** with NVT ensemble.\n",
    "- [Step 4](#eqNVTStep4): Checking **NVT Equilibration** results. Plotting **system temperature** by time during the **NVT equilibration** process. \n",
    "***\n",
    "**Building Blocks** used:\n",
    "- [MakeNdx](https://biobb-md.readthedocs.io/en/latest/gromacs.html#module-gromacs.make_ndx) from **biobb_md.gromacs.make_ndx**:\n",
    "    * The GROMACS make_ndx module, generates an index file using the atoms of the selection.\n",
    "    \n",
    "\n",
    "- [Grompp](https://biobb-md.readthedocs.io/en/latest/gromacs.html#module-gromacs.grompp) from **biobb_md.gromacs.grompp**:\n",
    "    * The GROMACS preprocessor module needs to be fed with the input system and the dynamics parameters to create a portable binary run input file TPR. \n",
    "    \n",
    "    \n",
    "- [Mdrun](https://biobb-md.readthedocs.io/en/latest/gromacs.html#module-gromacs.mdrun) from **biobb_md.gromacs.mdrun**:\n",
    "    * MDRun is the main computational chemistry engine within GROMACS. It performs Molecular Dynamics simulations, but it can also perform Stochastic Dynamics, Energy Minimization, test particle insertion or (re)calculation of energies.\n",
    "    \n",
    "    \n",
    "- [GMXEnergy](https://biobb-analysis.readthedocs.io/en/latest/gromacs.html#module-gromacs.gmx_energy) from **biobb_analysis.gromacs.gmx_energy**:\n",
    "    * GROMACS energy extracts energy components from an energy file. \n",
    "***"
   ]
  },
  {
   "cell_type": "markdown",
   "metadata": {},
   "source": [
    "<a id=\"eqNVTStep1\"></a>\n",
    "### Step 1: Creating an index file with a new group including the **protein-ligand complex**"
   ]
  },
  {
   "cell_type": "code",
   "execution_count": 32,
   "metadata": {
    "scrolled": false
   },
   "outputs": [
    {
     "name": "stdout",
     "output_type": "stream",
     "text": [
      "2022-04-22 10:35:26,023 [MainThread  ] [INFO ]  GROMACS MakeNdx 20191 version detected\n",
      "2022-04-22 10:35:26,024 [MainThread  ] [INFO ]  Not using any container\n",
      "2022-04-22 10:35:26,137 [MainThread  ] [INFO ]  echo -e '\"Protein\"|\"Other\"\\nq' | gmx -nobackup -nocopyright make_ndx -f protein_ligand_min.gro -o protein_ligand_index.ndx\n",
      "\n",
      "2022-04-22 10:35:26,139 [MainThread  ] [INFO ]  Exit code 0\n",
      "\n",
      "2022-04-22 10:35:26,140 [MainThread  ] [INFO ]  Going to read 0 old index file(s)\n",
      "Analysing residue names:\n",
      "There are:   137    Protein residues\n",
      "There are:     1      Other residues\n",
      "There are:  5792      Water residues\n",
      "There are:    16        Ion residues\n",
      "Analysing Protein...\n",
      "Analysing residues not classified as Protein/DNA/RNA/Water and splitting into groups...\n",
      "Analysing residues not classified as Protein/DNA/RNA/Water and splitting into groups...\n",
      "\n",
      "  0 System              : 19644 atoms\n",
      "  1 Protein             :  2232 atoms\n",
      "  2 Protein-H           :  1145 atoms\n",
      "  3 C-alpha             :   137 atoms\n",
      "  4 Backbone            :   411 atoms\n",
      "  5 MainChain           :   549 atoms\n",
      "  6 MainChain+Cb        :   676 atoms\n",
      "  7 MainChain+H         :   685 atoms\n",
      "  8 SideChain           :  1547 atoms\n",
      "  9 SideChain-H         :   596 atoms\n",
      " 10 Prot-Masses         :  2232 atoms\n",
      " 11 non-Protein         : 17412 atoms\n",
      " 12 Other               :    20 atoms\n",
      " 13 GEN                 :    20 atoms\n",
      " 14 NA                  :    10 atoms\n",
      " 15 CL                  :     6 atoms\n",
      " 16 Water               : 17376 atoms\n",
      " 17 SOL                 : 17376 atoms\n",
      " 18 non-Water           :  2268 atoms\n",
      " 19 Ion                 :    16 atoms\n",
      " 20 GEN                 :    20 atoms\n",
      " 21 NA                  :    10 atoms\n",
      " 22 CL                  :     6 atoms\n",
      " 23 Water_and_ions      : 17392 atoms\n",
      "\n",
      " nr : group      '!': not  'name' nr name   'splitch' nr    Enter: list groups\n",
      " 'a': atom       '&': and  'del' nr         'splitres' nr   'l': list residues\n",
      " 't': atom type  '|': or   'keep' nr        'splitat' nr    'h': help\n",
      " 'r': residue              'res' nr         'chain' char\n",
      " \"name\": group             'case': case sensitive           'q': save and quit\n",
      " 'ri': residue index\n",
      "\n",
      "> \n",
      "Copied index group 1 'Protein'\n",
      "Copied index group 12 'Other'\n",
      "Merged two groups with OR: 2232 20 -> 2252\n",
      "\n",
      " 24 Protein_Other       :  2252 atoms\n",
      "\n",
      "> \n",
      "\n",
      "2022-04-22 10:35:26,142 [MainThread  ] [INFO ]                       :-) GROMACS - gmx make_ndx, 2019.1 (-:\n",
      "\n",
      "Executable:   /opt/miniconda3/envs/biobb_env/bin/gmx\n",
      "Data prefix:  /opt/miniconda3/envs/biobb_env\n",
      "Working dir:  /home/lg/repos/javerianaMD/simulation/md-biobb\n",
      "Command line:\n",
      "  gmx -nobackup -nocopyright make_ndx -f protein_ligand_min.gro -o protein_ligand_index.ndx\n",
      "\n",
      "\n",
      "Reading structure file\n",
      "\n",
      "GROMACS reminds you: \"Disturb the Peace of a John Q Citizen\" (Urban Dance Squad)\n",
      "\n",
      "\n",
      "2022-04-22 10:35:26,149 [MainThread  ] [INFO ]  Removed: []\n"
     ]
    },
    {
     "data": {
      "text/plain": [
       "0"
      ]
     },
     "execution_count": 32,
     "metadata": {},
     "output_type": "execute_result"
    }
   ],
   "source": [
    "# MakeNdx: Creating index file with a new group (protein-ligand complex)\n",
    "from biobb_md.gromacs.make_ndx import make_ndx\n",
    "\n",
    "# Create prop dict and inputs/outputs\n",
    "output_complex_ndx = pdbName + '_' + ligandName + '_index.ndx'\n",
    "prop = {\n",
    "    'selection': \"\\\"Protein\\\"|\\\"Other\\\"\" \n",
    "}\n",
    "\n",
    "# Create and launch bb\n",
    "make_ndx(input_structure_path = output_min_gro,\n",
    "        output_ndx_path       = output_complex_ndx,\n",
    "        properties=prop)"
   ]
  },
  {
   "cell_type": "markdown",
   "metadata": {},
   "source": [
    "<a id=\"eqNVTStep2\"></a>\n",
    "### Step 2: Creating portable binary run file for system equilibration (NVT)\n",
    "Note that for the purposes of temperature coupling, the **protein-ligand complex** (*Protein_Other*) is considered as a single entity."
   ]
  },
  {
   "cell_type": "code",
   "execution_count": 33,
   "metadata": {},
   "outputs": [
    {
     "name": "stdout",
     "output_type": "stream",
     "text": [
      "2022-04-22 10:35:26,203 [MainThread  ] [INFO ]  GROMACS Grompp 20191 version detected\n",
      "2022-04-22 10:35:26,209 [MainThread  ] [INFO ]  Extracting: /home/lg/repos/javerianaMD/simulation/md-biobb/protein_ligand_genion_top.zip\n",
      "2022-04-22 10:35:26,211 [MainThread  ] [INFO ]  to:\n",
      "2022-04-22 10:35:26,211 [MainThread  ] [INFO ]  ['09ebb7d8-19d7-4c2d-8c84-f20a10692ed8/ligand.top', '09ebb7d8-19d7-4c2d-8c84-f20a10692ed8/ligand_params.itp', '09ebb7d8-19d7-4c2d-8c84-f20a10692ed8/ligand_posres.itp', '09ebb7d8-19d7-4c2d-8c84-f20a10692ed8/posre.itp']\n",
      "2022-04-22 10:35:26,216 [MainThread  ] [INFO ]  Unzipping: \n",
      "2022-04-22 10:35:26,217 [MainThread  ] [INFO ]  protein_ligand_genion_top.zip\n",
      "2022-04-22 10:35:26,218 [MainThread  ] [INFO ]  To: \n",
      "2022-04-22 10:35:26,219 [MainThread  ] [INFO ]  09ebb7d8-19d7-4c2d-8c84-f20a10692ed8/ligand.top\n",
      "2022-04-22 10:35:26,221 [MainThread  ] [INFO ]  09ebb7d8-19d7-4c2d-8c84-f20a10692ed8/ligand_params.itp\n",
      "2022-04-22 10:35:26,221 [MainThread  ] [INFO ]  09ebb7d8-19d7-4c2d-8c84-f20a10692ed8/ligand_posres.itp\n",
      "2022-04-22 10:35:26,222 [MainThread  ] [INFO ]  09ebb7d8-19d7-4c2d-8c84-f20a10692ed8/posre.itp\n",
      "2022-04-22 10:35:26,223 [MainThread  ] [INFO ]  Not using any container\n",
      "2022-04-22 10:35:26,903 [MainThread  ] [INFO ]  gmx -nobackup -nocopyright grompp -f 3f255b47-f62d-4aac-8454-e0df7bb7c00a/grompp.mdp -c protein_ligand_min.gro -r protein_ligand_min.gro -p 09ebb7d8-19d7-4c2d-8c84-f20a10692ed8/ligand.top -o protein_ligandgppnvt.tpr -po mdout.mdp -maxwarn 0 -n protein_ligand_index.ndx\n",
      "\n",
      "2022-04-22 10:35:26,905 [MainThread  ] [INFO ]  Exit code 0\n",
      "\n",
      "2022-04-22 10:35:26,906 [MainThread  ] [INFO ]  turning H bonds into constraints...\n",
      "turning H bonds into constraints...\n",
      "turning H bonds into constraints...\n",
      "turning H bonds into constraints...\n",
      "turning H bonds into constraints...\n",
      "Determining Verlet buffer for a tolerance of 0.005 kJ/mol/ps at 300 K\n",
      "Calculated rlist for 1x1 atom pair-list as 1.034 nm, buffer size 0.034 nm\n",
      "Set rlist, assuming 4x4 atom pair-list, to 1.000 nm, buffer size 0.000 nm\n",
      "Note that mdrun will redetermine rlist based on the actual pair-list setup\n",
      "Calculating fourier grid dimensions for X Y Z\n",
      "Using a fourier grid of 56x56x56, spacing 0.114 0.114 0.114\n",
      "This run will generate roughly 7 Mb of data\n",
      "\n",
      "2022-04-22 10:35:26,907 [MainThread  ] [INFO ]                        :-) GROMACS - gmx grompp, 2019.1 (-:\n",
      "\n",
      "Executable:   /opt/miniconda3/envs/biobb_env/bin/gmx\n",
      "Data prefix:  /opt/miniconda3/envs/biobb_env\n",
      "Working dir:  /home/lg/repos/javerianaMD/simulation/md-biobb\n",
      "Command line:\n",
      "  gmx -nobackup -nocopyright grompp -f 3f255b47-f62d-4aac-8454-e0df7bb7c00a/grompp.mdp -c protein_ligand_min.gro -r protein_ligand_min.gro -p 09ebb7d8-19d7-4c2d-8c84-f20a10692ed8/ligand.top -o protein_ligandgppnvt.tpr -po mdout.mdp -maxwarn 0 -n protein_ligand_index.ndx\n",
      "\n",
      "Setting the LD random seed to -1163522945\n",
      "Generated 2485 of the 2485 non-bonded parameter combinations\n",
      "Generating 1-4 interactions: fudge = 0.5\n",
      "Generated 2485 of the 2485 1-4 parameter combinations\n",
      "Excluding 3 bonded neighbours molecule type 'Protein_chain_A'\n",
      "Excluding 3 bonded neighbours molecule type 'ligand_params'\n",
      "Excluding 2 bonded neighbours molecule type 'SOL'\n",
      "Excluding 1 bonded neighbours molecule type 'NA'\n",
      "Excluding 1 bonded neighbours molecule type 'CL'\n",
      "Setting gen_seed to 928303496\n",
      "Velocities were taken from a Maxwell distribution at 300 K\n",
      "Removing all charge groups because cutoff-scheme=Verlet\n",
      "\n",
      "NOTE 1 [file ligand.top, line 21207]:\n",
      "  The bond in molecule-type ligand_params between atoms 13 C10 and 14 C11\n",
      "  has an estimated oscillational period of 1.8e-02 ps, which is less than\n",
      "  10 times the time step of 2.0e-03 ps.\n",
      "  Maybe you forgot to change the constraints mdp option.\n",
      "\n",
      "Number of degrees of freedom in T-Coupling group Protein_Other is 5668.58\n",
      "Number of degrees of freedom in T-Coupling group Water_and_ions is 34797.42\n",
      "Estimate for the relative computational load of the PME mesh part: 0.20\n",
      "\n",
      "There was 1 note\n",
      "\n",
      "GROMACS reminds you: \"I have not failed. I've just found 10,000 ways that won't work\" (Thomas Alva Edison)\n",
      "\n",
      "\n",
      "2022-04-22 10:35:26,910 [MainThread  ] [INFO ]  Removed: ['mdout.mdp', '09ebb7d8-19d7-4c2d-8c84-f20a10692ed8', '3f255b47-f62d-4aac-8454-e0df7bb7c00a']\n"
     ]
    },
    {
     "data": {
      "text/plain": [
       "0"
      ]
     },
     "execution_count": 33,
     "metadata": {},
     "output_type": "execute_result"
    }
   ],
   "source": [
    "# Grompp: Creating portable binary run file for NVT System Equilibration\n",
    "from biobb_md.gromacs.grompp import grompp\n",
    "\n",
    "# Create prop dict and inputs/outputs\n",
    "output_gppnvt_tpr = pdbName+'_'+ligandName+'gppnvt.tpr'\n",
    "prop = {\n",
    "    'mdp':{\n",
    "        'nsteps':'5000',\n",
    "        'tc-grps': 'Protein_Other Water_and_ions',\n",
    "        'Define': '-DPOSRES -D' + posresifdef\n",
    "    },\n",
    "    'simulation_type':'nvt'\n",
    "}\n",
    "\n",
    "# Create and launch bb\n",
    "grompp(input_gro_path     = output_min_gro,\n",
    "       input_top_zip_path = output_genion_top_zip,\n",
    "       input_ndx_path     = output_complex_ndx,\n",
    "       output_tpr_path    = output_gppnvt_tpr,\n",
    "       properties         = prop)"
   ]
  },
  {
   "cell_type": "markdown",
   "metadata": {},
   "source": [
    "<a id=\"eqNVTStep3\"></a>\n",
    "### Step 3: Running NVT equilibration"
   ]
  },
  {
   "cell_type": "code",
   "execution_count": 34,
   "metadata": {
    "scrolled": false
   },
   "outputs": [
    {
     "name": "stdout",
     "output_type": "stream",
     "text": [
      "2022-04-22 10:35:26,957 [MainThread  ] [INFO ]  GROMACS Mdrun 20191 version detected\n",
      "2022-04-22 10:35:26,959 [MainThread  ] [INFO ]  Not using any container\n",
      "2022-04-22 10:37:11,856 [MainThread  ] [INFO ]  gmx -nobackup -nocopyright mdrun -s protein_ligandgppnvt.tpr -o protein_ligand_nvt.trr -c protein_ligand_nvt.gro -e protein_ligand_nvt.edr -g protein_ligand_nvt.log -cpo protein_ligand_nvt.cpt\n",
      "\n",
      "2022-04-22 10:37:11,857 [MainThread  ] [INFO ]  Exit code 0\n",
      "\n",
      "2022-04-22 10:37:11,858 [MainThread  ] [INFO ]                        :-) GROMACS - gmx mdrun, 2019.1 (-:\n",
      "\n",
      "Executable:   /opt/miniconda3/envs/biobb_env/bin/gmx\n",
      "Data prefix:  /opt/miniconda3/envs/biobb_env\n",
      "Working dir:  /home/lg/repos/javerianaMD/simulation/md-biobb\n",
      "Command line:\n",
      "  gmx -nobackup -nocopyright mdrun -s protein_ligandgppnvt.tpr -o protein_ligand_nvt.trr -c protein_ligand_nvt.gro -e protein_ligand_nvt.edr -g protein_ligand_nvt.log -cpo protein_ligand_nvt.cpt\n",
      "\n",
      "Compiled SIMD: SSE2, but for this host/run AVX2_256 might be better (see log).\n",
      "The current CPU can measure timings more accurately than the code in\n",
      "gmx mdrun was configured to use. This might affect your simulation\n",
      "speed as accurate timings are needed for load-balancing.\n",
      "Please consider rebuilding gmx mdrun with the GMX_USE_RDTSCP=ON CMake option.\n",
      "Reading file protein_ligandgppnvt.tpr, VERSION 2019.1 (single precision)\n",
      "Changing nstlist from 10 to 50, rlist from 1 to 1.11\n",
      "\n",
      "\n",
      "Using 1 MPI thread\n",
      "Using 4 OpenMP threads \n",
      "\n",
      "starting mdrun 'Protein in water'\n",
      "5000 steps,     10.0 ps.\n",
      "\n",
      "Writing final coordinates.\n",
      "\n",
      "               Core t (s)   Wall t (s)        (%)\n",
      "       Time:      414.324      103.581      400.0\n",
      "                 (ns/day)    (hour/ns)\n",
      "Performance:        8.343        2.877\n",
      "\n",
      "GROMACS reminds you: \"Uh-oh, We're In Trouble\" (Shampoo)\n",
      "\n",
      "\n",
      "2022-04-22 10:37:11,859 [MainThread  ] [INFO ]  Removed: []\n"
     ]
    },
    {
     "data": {
      "text/plain": [
       "0"
      ]
     },
     "execution_count": 34,
     "metadata": {},
     "output_type": "execute_result"
    }
   ],
   "source": [
    "# Mdrun: Running NVT System Equilibration \n",
    "from biobb_md.gromacs.mdrun import mdrun\n",
    "\n",
    "# Create prop dict and inputs/outputs\n",
    "output_nvt_trr = pdbName+'_'+ligandName+'_nvt.trr'\n",
    "output_nvt_gro = pdbName+'_'+ligandName+'_nvt.gro'\n",
    "output_nvt_edr = pdbName+'_'+ligandName+'_nvt.edr'\n",
    "output_nvt_log = pdbName+'_'+ligandName+'_nvt.log'\n",
    "output_nvt_cpt = pdbName+'_'+ligandName+'_nvt.cpt'\n",
    "\n",
    "# Create and launch bb\n",
    "mdrun(input_tpr_path=output_gppnvt_tpr,\n",
    "      output_trr_path=output_nvt_trr,\n",
    "      output_gro_path=output_nvt_gro,\n",
    "      output_edr_path=output_nvt_edr,\n",
    "      output_log_path=output_nvt_log,\n",
    "      output_cpt_path=output_nvt_cpt)"
   ]
  },
  {
   "cell_type": "markdown",
   "metadata": {},
   "source": [
    "<a id=\"eqNVTStep4\"></a>\n",
    "### Step 4: Checking NVT Equilibration results\n",
    "Checking **NVT Equilibration** results. Plotting **system temperature** by time during the NVT equilibration process. "
   ]
  },
  {
   "cell_type": "code",
   "execution_count": 35,
   "metadata": {
    "scrolled": true
   },
   "outputs": [
    {
     "name": "stdout",
     "output_type": "stream",
     "text": [
      "2022-04-22 10:37:11,872 [MainThread  ] [INFO ]  Not using any container\n",
      "2022-04-22 10:37:11,888 [MainThread  ] [INFO ]  gmx energy -f /home/lg/repos/javerianaMD/simulation/md-biobb/protein_ligand_nvt.edr -o protein_ligand_nvt_temp.xvg -xvg none < f2178399-1c4b-4e14-a24a-e5d6cb49a5d9/instructions.in\n",
      "\n",
      "2022-04-22 10:37:11,889 [MainThread  ] [INFO ]  Exit code 0\n",
      "\n",
      "2022-04-22 10:37:11,893 [MainThread  ] [INFO ]  \n",
      "Statistics over 5001 steps [ 0.0000 through 10.0000 ps ], 1 data sets\n",
      "All statistics are over 51 points\n",
      "\n",
      "Energy                      Average   Err.Est.       RMSD  Tot-Drift\n",
      "-------------------------------------------------------------------------------\n",
      "Temperature                 298.671        1.2     7.0413    7.43239  (K)\n",
      "\n",
      "2022-04-22 10:37:11,894 [MainThread  ] [INFO ]                        :-) GROMACS - gmx energy, 2019.1 (-:\n",
      "\n",
      "                            GROMACS is written by:\n",
      "     Emile Apol      Rossen Apostolov      Paul Bauer     Herman J.C. Berendsen\n",
      "    Par Bjelkmar      Christian Blau   Viacheslav Bolnykh     Kevin Boyd    \n",
      " Aldert van Buuren   Rudi van Drunen     Anton Feenstra       Alan Gray     \n",
      "  Gerrit Groenhof     Anca Hamuraru    Vincent Hindriksen  M. Eric Irrgang  \n",
      "  Aleksei Iupinov   Christoph Junghans     Joe Jordan     Dimitrios Karkoulis\n",
      "    Peter Kasson        Jiri Kraus      Carsten Kutzner      Per Larsson    \n",
      "  Justin A. Lemkul    Viveca Lindahl    Magnus Lundborg     Erik Marklund   \n",
      "    Pascal Merz     Pieter Meulenhoff    Teemu Murtola       Szilard Pall   \n",
      "    Sander Pronk      Roland Schulz      Michael Shirts    Alexey Shvetsov  \n",
      "   Alfons Sijbers     Peter Tieleman      Jon Vincent      Teemu Virolainen \n",
      " Christian Wennberg    Maarten Wolf   \n",
      "                           and the project leaders:\n",
      "        Mark Abraham, Berk Hess, Erik Lindahl, and David van der Spoel\n",
      "\n",
      "Copyright (c) 1991-2000, University of Groningen, The Netherlands.\n",
      "Copyright (c) 2001-2018, The GROMACS development team at\n",
      "Uppsala University, Stockholm University and\n",
      "the Royal Institute of Technology, Sweden.\n",
      "check out http://www.gromacs.org for more information.\n",
      "\n",
      "GROMACS is free software; you can redistribute it and/or modify it\n",
      "under the terms of the GNU Lesser General Public License\n",
      "as published by the Free Software Foundation; either version 2.1\n",
      "of the License, or (at your option) any later version.\n",
      "\n",
      "GROMACS:      gmx energy, version 2019.1\n",
      "Executable:   /opt/miniconda3/envs/biobb_env/bin/gmx\n",
      "Data prefix:  /opt/miniconda3/envs/biobb_env\n",
      "Working dir:  /home/lg/repos/javerianaMD/simulation/md-biobb\n",
      "Command line:\n",
      "  gmx energy -f /home/lg/repos/javerianaMD/simulation/md-biobb/protein_ligand_nvt.edr -o protein_ligand_nvt_temp.xvg -xvg none\n",
      "\n",
      "Opened /home/lg/repos/javerianaMD/simulation/md-biobb/protein_ligand_nvt.edr as single precision energy file\n",
      "\n",
      "Select the terms you want from the following list by\n",
      "selecting either (part of) the name or the number or a combination.\n",
      "End your selection with an empty line or a zero.\n",
      "-------------------------------------------------------------------\n",
      "  1  Bond             2  Angle            3  Proper-Dih.      4  Improper-Dih. \n",
      "  5  LJ-14            6  Coulomb-14       7  LJ-(SR)          8  Disper.-corr. \n",
      "  9  Coulomb-(SR)    10  Coul.-recip.    11  Position-Rest.  12  Potential     \n",
      " 13  Kinetic-En.     14  Total-Energy    15  Conserved-En.   16  Temperature   \n",
      " 17  Pres.-DC        18  Pressure        19  Constr.-rmsd    20  Vir-XX        \n",
      " 21  Vir-XY          22  Vir-XZ          23  Vir-YX          24  Vir-YY        \n",
      " 25  Vir-YZ          26  Vir-ZX          27  Vir-ZY          28  Vir-ZZ        \n",
      " 29  Pres-XX         30  Pres-XY         31  Pres-XZ         32  Pres-YX       \n",
      " 33  Pres-YY         34  Pres-YZ         35  Pres-ZX         36  Pres-ZY       \n",
      " 37  Pres-ZZ                             38  #Surf*SurfTen                     \n",
      " 39  T-Protein_Other                     40  T-Water_and_ions                  \n",
      " 41  Lamb-Protein_Other                  42  Lamb-Water_and_ions               \n",
      "\n",
      "\n",
      "Back Off! I just backed up protein_ligand_nvt_temp.xvg to ./#protein_ligand_nvt_temp.xvg.1#\n",
      "Last energy frame read 10 time   10.000           \n",
      "\n",
      "GROMACS reminds you: \"Meet Me At the Coffee Shop\" (Red Hot Chili Peppers)\n",
      "\n",
      "\n",
      "2022-04-22 10:37:11,895 [MainThread  ] [INFO ]  Removed: [PurePosixPath('f2178399-1c4b-4e14-a24a-e5d6cb49a5d9')]\n"
     ]
    },
    {
     "data": {
      "text/plain": [
       "0"
      ]
     },
     "execution_count": 35,
     "metadata": {},
     "output_type": "execute_result"
    }
   ],
   "source": [
    "# GMXEnergy: Getting system temperature by time during NVT Equilibration  \n",
    "from biobb_analysis.gromacs.gmx_energy import gmx_energy\n",
    "\n",
    "# Create prop dict and inputs/outputs\n",
    "output_nvt_temp_xvg = pdbName + '_' + ligandName + '_nvt_temp.xvg'\n",
    "prop = {\n",
    "    'terms':  [\"Temperature\"]\n",
    "}\n",
    "\n",
    "# Create and launch bb\n",
    "gmx_energy(input_energy_path = output_nvt_edr, \n",
    "          output_xvg_path    =output_nvt_temp_xvg, \n",
    "          properties=prop)"
   ]
  },
  {
   "cell_type": "code",
   "execution_count": 36,
   "metadata": {
    "scrolled": false
   },
   "outputs": [
    {
     "data": {
      "text/html": [
       "        <script type=\"text/javascript\">\n",
       "        window.PlotlyConfig = {MathJaxConfig: 'local'};\n",
       "        if (window.MathJax) {MathJax.Hub.Config({SVG: {font: \"STIX-Web\"}});}\n",
       "        if (typeof require !== 'undefined') {\n",
       "        require.undef(\"plotly\");\n",
       "        requirejs.config({\n",
       "            paths: {\n",
       "                'plotly': ['https://cdn.plot.ly/plotly-2.11.1.min']\n",
       "            }\n",
       "        });\n",
       "        require(['plotly'], function(Plotly) {\n",
       "            window._Plotly = Plotly;\n",
       "        });\n",
       "        }\n",
       "        </script>\n",
       "        "
      ]
     },
     "metadata": {},
     "output_type": "display_data"
    },
    {
     "data": {
      "application/vnd.plotly.v1+json": {
       "config": {
        "linkText": "Export to plot.ly",
        "plotlyServerURL": "https://plot.ly",
        "showLink": false
       },
       "data": [
        {
         "type": "scatter",
         "x": [
          0,
          1,
          2,
          3,
          4,
          5,
          6,
          7,
          8,
          9,
          10
         ],
         "y": [
          298.426544,
          299.052399,
          300.952942,
          298.865387,
          302.423798,
          302.591309,
          297.662445,
          302.472107,
          300.055542,
          303.643097,
          300.040955
         ]
        }
       ],
       "layout": {
        "template": {
         "data": {
          "bar": [
           {
            "error_x": {
             "color": "#2a3f5f"
            },
            "error_y": {
             "color": "#2a3f5f"
            },
            "marker": {
             "line": {
              "color": "#E5ECF6",
              "width": 0.5
             },
             "pattern": {
              "fillmode": "overlay",
              "size": 10,
              "solidity": 0.2
             }
            },
            "type": "bar"
           }
          ],
          "barpolar": [
           {
            "marker": {
             "line": {
              "color": "#E5ECF6",
              "width": 0.5
             },
             "pattern": {
              "fillmode": "overlay",
              "size": 10,
              "solidity": 0.2
             }
            },
            "type": "barpolar"
           }
          ],
          "carpet": [
           {
            "aaxis": {
             "endlinecolor": "#2a3f5f",
             "gridcolor": "white",
             "linecolor": "white",
             "minorgridcolor": "white",
             "startlinecolor": "#2a3f5f"
            },
            "baxis": {
             "endlinecolor": "#2a3f5f",
             "gridcolor": "white",
             "linecolor": "white",
             "minorgridcolor": "white",
             "startlinecolor": "#2a3f5f"
            },
            "type": "carpet"
           }
          ],
          "choropleth": [
           {
            "colorbar": {
             "outlinewidth": 0,
             "ticks": ""
            },
            "type": "choropleth"
           }
          ],
          "contour": [
           {
            "colorbar": {
             "outlinewidth": 0,
             "ticks": ""
            },
            "colorscale": [
             [
              0,
              "#0d0887"
             ],
             [
              0.1111111111111111,
              "#46039f"
             ],
             [
              0.2222222222222222,
              "#7201a8"
             ],
             [
              0.3333333333333333,
              "#9c179e"
             ],
             [
              0.4444444444444444,
              "#bd3786"
             ],
             [
              0.5555555555555556,
              "#d8576b"
             ],
             [
              0.6666666666666666,
              "#ed7953"
             ],
             [
              0.7777777777777778,
              "#fb9f3a"
             ],
             [
              0.8888888888888888,
              "#fdca26"
             ],
             [
              1,
              "#f0f921"
             ]
            ],
            "type": "contour"
           }
          ],
          "contourcarpet": [
           {
            "colorbar": {
             "outlinewidth": 0,
             "ticks": ""
            },
            "type": "contourcarpet"
           }
          ],
          "heatmap": [
           {
            "colorbar": {
             "outlinewidth": 0,
             "ticks": ""
            },
            "colorscale": [
             [
              0,
              "#0d0887"
             ],
             [
              0.1111111111111111,
              "#46039f"
             ],
             [
              0.2222222222222222,
              "#7201a8"
             ],
             [
              0.3333333333333333,
              "#9c179e"
             ],
             [
              0.4444444444444444,
              "#bd3786"
             ],
             [
              0.5555555555555556,
              "#d8576b"
             ],
             [
              0.6666666666666666,
              "#ed7953"
             ],
             [
              0.7777777777777778,
              "#fb9f3a"
             ],
             [
              0.8888888888888888,
              "#fdca26"
             ],
             [
              1,
              "#f0f921"
             ]
            ],
            "type": "heatmap"
           }
          ],
          "heatmapgl": [
           {
            "colorbar": {
             "outlinewidth": 0,
             "ticks": ""
            },
            "colorscale": [
             [
              0,
              "#0d0887"
             ],
             [
              0.1111111111111111,
              "#46039f"
             ],
             [
              0.2222222222222222,
              "#7201a8"
             ],
             [
              0.3333333333333333,
              "#9c179e"
             ],
             [
              0.4444444444444444,
              "#bd3786"
             ],
             [
              0.5555555555555556,
              "#d8576b"
             ],
             [
              0.6666666666666666,
              "#ed7953"
             ],
             [
              0.7777777777777778,
              "#fb9f3a"
             ],
             [
              0.8888888888888888,
              "#fdca26"
             ],
             [
              1,
              "#f0f921"
             ]
            ],
            "type": "heatmapgl"
           }
          ],
          "histogram": [
           {
            "marker": {
             "pattern": {
              "fillmode": "overlay",
              "size": 10,
              "solidity": 0.2
             }
            },
            "type": "histogram"
           }
          ],
          "histogram2d": [
           {
            "colorbar": {
             "outlinewidth": 0,
             "ticks": ""
            },
            "colorscale": [
             [
              0,
              "#0d0887"
             ],
             [
              0.1111111111111111,
              "#46039f"
             ],
             [
              0.2222222222222222,
              "#7201a8"
             ],
             [
              0.3333333333333333,
              "#9c179e"
             ],
             [
              0.4444444444444444,
              "#bd3786"
             ],
             [
              0.5555555555555556,
              "#d8576b"
             ],
             [
              0.6666666666666666,
              "#ed7953"
             ],
             [
              0.7777777777777778,
              "#fb9f3a"
             ],
             [
              0.8888888888888888,
              "#fdca26"
             ],
             [
              1,
              "#f0f921"
             ]
            ],
            "type": "histogram2d"
           }
          ],
          "histogram2dcontour": [
           {
            "colorbar": {
             "outlinewidth": 0,
             "ticks": ""
            },
            "colorscale": [
             [
              0,
              "#0d0887"
             ],
             [
              0.1111111111111111,
              "#46039f"
             ],
             [
              0.2222222222222222,
              "#7201a8"
             ],
             [
              0.3333333333333333,
              "#9c179e"
             ],
             [
              0.4444444444444444,
              "#bd3786"
             ],
             [
              0.5555555555555556,
              "#d8576b"
             ],
             [
              0.6666666666666666,
              "#ed7953"
             ],
             [
              0.7777777777777778,
              "#fb9f3a"
             ],
             [
              0.8888888888888888,
              "#fdca26"
             ],
             [
              1,
              "#f0f921"
             ]
            ],
            "type": "histogram2dcontour"
           }
          ],
          "mesh3d": [
           {
            "colorbar": {
             "outlinewidth": 0,
             "ticks": ""
            },
            "type": "mesh3d"
           }
          ],
          "parcoords": [
           {
            "line": {
             "colorbar": {
              "outlinewidth": 0,
              "ticks": ""
             }
            },
            "type": "parcoords"
           }
          ],
          "pie": [
           {
            "automargin": true,
            "type": "pie"
           }
          ],
          "scatter": [
           {
            "fillpattern": {
             "fillmode": "overlay",
             "size": 10,
             "solidity": 0.2
            },
            "type": "scatter"
           }
          ],
          "scatter3d": [
           {
            "line": {
             "colorbar": {
              "outlinewidth": 0,
              "ticks": ""
             }
            },
            "marker": {
             "colorbar": {
              "outlinewidth": 0,
              "ticks": ""
             }
            },
            "type": "scatter3d"
           }
          ],
          "scattercarpet": [
           {
            "marker": {
             "colorbar": {
              "outlinewidth": 0,
              "ticks": ""
             }
            },
            "type": "scattercarpet"
           }
          ],
          "scattergeo": [
           {
            "marker": {
             "colorbar": {
              "outlinewidth": 0,
              "ticks": ""
             }
            },
            "type": "scattergeo"
           }
          ],
          "scattergl": [
           {
            "marker": {
             "colorbar": {
              "outlinewidth": 0,
              "ticks": ""
             }
            },
            "type": "scattergl"
           }
          ],
          "scattermapbox": [
           {
            "marker": {
             "colorbar": {
              "outlinewidth": 0,
              "ticks": ""
             }
            },
            "type": "scattermapbox"
           }
          ],
          "scatterpolar": [
           {
            "marker": {
             "colorbar": {
              "outlinewidth": 0,
              "ticks": ""
             }
            },
            "type": "scatterpolar"
           }
          ],
          "scatterpolargl": [
           {
            "marker": {
             "colorbar": {
              "outlinewidth": 0,
              "ticks": ""
             }
            },
            "type": "scatterpolargl"
           }
          ],
          "scatterternary": [
           {
            "marker": {
             "colorbar": {
              "outlinewidth": 0,
              "ticks": ""
             }
            },
            "type": "scatterternary"
           }
          ],
          "surface": [
           {
            "colorbar": {
             "outlinewidth": 0,
             "ticks": ""
            },
            "colorscale": [
             [
              0,
              "#0d0887"
             ],
             [
              0.1111111111111111,
              "#46039f"
             ],
             [
              0.2222222222222222,
              "#7201a8"
             ],
             [
              0.3333333333333333,
              "#9c179e"
             ],
             [
              0.4444444444444444,
              "#bd3786"
             ],
             [
              0.5555555555555556,
              "#d8576b"
             ],
             [
              0.6666666666666666,
              "#ed7953"
             ],
             [
              0.7777777777777778,
              "#fb9f3a"
             ],
             [
              0.8888888888888888,
              "#fdca26"
             ],
             [
              1,
              "#f0f921"
             ]
            ],
            "type": "surface"
           }
          ],
          "table": [
           {
            "cells": {
             "fill": {
              "color": "#EBF0F8"
             },
             "line": {
              "color": "white"
             }
            },
            "header": {
             "fill": {
              "color": "#C8D4E3"
             },
             "line": {
              "color": "white"
             }
            },
            "type": "table"
           }
          ]
         },
         "layout": {
          "annotationdefaults": {
           "arrowcolor": "#2a3f5f",
           "arrowhead": 0,
           "arrowwidth": 1
          },
          "autotypenumbers": "strict",
          "coloraxis": {
           "colorbar": {
            "outlinewidth": 0,
            "ticks": ""
           }
          },
          "colorscale": {
           "diverging": [
            [
             0,
             "#8e0152"
            ],
            [
             0.1,
             "#c51b7d"
            ],
            [
             0.2,
             "#de77ae"
            ],
            [
             0.3,
             "#f1b6da"
            ],
            [
             0.4,
             "#fde0ef"
            ],
            [
             0.5,
             "#f7f7f7"
            ],
            [
             0.6,
             "#e6f5d0"
            ],
            [
             0.7,
             "#b8e186"
            ],
            [
             0.8,
             "#7fbc41"
            ],
            [
             0.9,
             "#4d9221"
            ],
            [
             1,
             "#276419"
            ]
           ],
           "sequential": [
            [
             0,
             "#0d0887"
            ],
            [
             0.1111111111111111,
             "#46039f"
            ],
            [
             0.2222222222222222,
             "#7201a8"
            ],
            [
             0.3333333333333333,
             "#9c179e"
            ],
            [
             0.4444444444444444,
             "#bd3786"
            ],
            [
             0.5555555555555556,
             "#d8576b"
            ],
            [
             0.6666666666666666,
             "#ed7953"
            ],
            [
             0.7777777777777778,
             "#fb9f3a"
            ],
            [
             0.8888888888888888,
             "#fdca26"
            ],
            [
             1,
             "#f0f921"
            ]
           ],
           "sequentialminus": [
            [
             0,
             "#0d0887"
            ],
            [
             0.1111111111111111,
             "#46039f"
            ],
            [
             0.2222222222222222,
             "#7201a8"
            ],
            [
             0.3333333333333333,
             "#9c179e"
            ],
            [
             0.4444444444444444,
             "#bd3786"
            ],
            [
             0.5555555555555556,
             "#d8576b"
            ],
            [
             0.6666666666666666,
             "#ed7953"
            ],
            [
             0.7777777777777778,
             "#fb9f3a"
            ],
            [
             0.8888888888888888,
             "#fdca26"
            ],
            [
             1,
             "#f0f921"
            ]
           ]
          },
          "colorway": [
           "#636efa",
           "#EF553B",
           "#00cc96",
           "#ab63fa",
           "#FFA15A",
           "#19d3f3",
           "#FF6692",
           "#B6E880",
           "#FF97FF",
           "#FECB52"
          ],
          "font": {
           "color": "#2a3f5f"
          },
          "geo": {
           "bgcolor": "white",
           "lakecolor": "white",
           "landcolor": "#E5ECF6",
           "showlakes": true,
           "showland": true,
           "subunitcolor": "white"
          },
          "hoverlabel": {
           "align": "left"
          },
          "hovermode": "closest",
          "mapbox": {
           "style": "light"
          },
          "paper_bgcolor": "white",
          "plot_bgcolor": "#E5ECF6",
          "polar": {
           "angularaxis": {
            "gridcolor": "white",
            "linecolor": "white",
            "ticks": ""
           },
           "bgcolor": "#E5ECF6",
           "radialaxis": {
            "gridcolor": "white",
            "linecolor": "white",
            "ticks": ""
           }
          },
          "scene": {
           "xaxis": {
            "backgroundcolor": "#E5ECF6",
            "gridcolor": "white",
            "gridwidth": 2,
            "linecolor": "white",
            "showbackground": true,
            "ticks": "",
            "zerolinecolor": "white"
           },
           "yaxis": {
            "backgroundcolor": "#E5ECF6",
            "gridcolor": "white",
            "gridwidth": 2,
            "linecolor": "white",
            "showbackground": true,
            "ticks": "",
            "zerolinecolor": "white"
           },
           "zaxis": {
            "backgroundcolor": "#E5ECF6",
            "gridcolor": "white",
            "gridwidth": 2,
            "linecolor": "white",
            "showbackground": true,
            "ticks": "",
            "zerolinecolor": "white"
           }
          },
          "shapedefaults": {
           "line": {
            "color": "#2a3f5f"
           }
          },
          "ternary": {
           "aaxis": {
            "gridcolor": "white",
            "linecolor": "white",
            "ticks": ""
           },
           "baxis": {
            "gridcolor": "white",
            "linecolor": "white",
            "ticks": ""
           },
           "bgcolor": "#E5ECF6",
           "caxis": {
            "gridcolor": "white",
            "linecolor": "white",
            "ticks": ""
           }
          },
          "title": {
           "x": 0.05
          },
          "xaxis": {
           "automargin": true,
           "gridcolor": "white",
           "linecolor": "white",
           "ticks": "",
           "title": {
            "standoff": 15
           },
           "zerolinecolor": "white",
           "zerolinewidth": 2
          },
          "yaxis": {
           "automargin": true,
           "gridcolor": "white",
           "linecolor": "white",
           "ticks": "",
           "title": {
            "standoff": 15
           },
           "zerolinecolor": "white",
           "zerolinewidth": 2
          }
         }
        },
        "title": {
         "text": "Temperature during NVT Equilibration"
        },
        "xaxis": {
         "title": {
          "text": "Time (ps)"
         }
        },
        "yaxis": {
         "title": {
          "text": "Temperature (K)"
         }
        }
       }
      },
      "text/html": [
       "<div>                            <div id=\"7484b8ab-b364-474d-a634-1e86839a7bf4\" class=\"plotly-graph-div\" style=\"height:525px; width:100%;\"></div>            <script type=\"text/javascript\">                require([\"plotly\"], function(Plotly) {                    window.PLOTLYENV=window.PLOTLYENV || {};                                    if (document.getElementById(\"7484b8ab-b364-474d-a634-1e86839a7bf4\")) {                    Plotly.newPlot(                        \"7484b8ab-b364-474d-a634-1e86839a7bf4\",                        [{\"x\":[0.0,1.0,2.0,3.0,4.0,5.0,6.0,7.0,8.0,9.0,10.0],\"y\":[298.426544,299.052399,300.952942,298.865387,302.423798,302.591309,297.662445,302.472107,300.055542,303.643097,300.040955],\"type\":\"scatter\"}],                        {\"template\":{\"data\":{\"barpolar\":[{\"marker\":{\"line\":{\"color\":\"#E5ECF6\",\"width\":0.5},\"pattern\":{\"fillmode\":\"overlay\",\"size\":10,\"solidity\":0.2}},\"type\":\"barpolar\"}],\"bar\":[{\"error_x\":{\"color\":\"#2a3f5f\"},\"error_y\":{\"color\":\"#2a3f5f\"},\"marker\":{\"line\":{\"color\":\"#E5ECF6\",\"width\":0.5},\"pattern\":{\"fillmode\":\"overlay\",\"size\":10,\"solidity\":0.2}},\"type\":\"bar\"}],\"carpet\":[{\"aaxis\":{\"endlinecolor\":\"#2a3f5f\",\"gridcolor\":\"white\",\"linecolor\":\"white\",\"minorgridcolor\":\"white\",\"startlinecolor\":\"#2a3f5f\"},\"baxis\":{\"endlinecolor\":\"#2a3f5f\",\"gridcolor\":\"white\",\"linecolor\":\"white\",\"minorgridcolor\":\"white\",\"startlinecolor\":\"#2a3f5f\"},\"type\":\"carpet\"}],\"choropleth\":[{\"colorbar\":{\"outlinewidth\":0,\"ticks\":\"\"},\"type\":\"choropleth\"}],\"contourcarpet\":[{\"colorbar\":{\"outlinewidth\":0,\"ticks\":\"\"},\"type\":\"contourcarpet\"}],\"contour\":[{\"colorbar\":{\"outlinewidth\":0,\"ticks\":\"\"},\"colorscale\":[[0.0,\"#0d0887\"],[0.1111111111111111,\"#46039f\"],[0.2222222222222222,\"#7201a8\"],[0.3333333333333333,\"#9c179e\"],[0.4444444444444444,\"#bd3786\"],[0.5555555555555556,\"#d8576b\"],[0.6666666666666666,\"#ed7953\"],[0.7777777777777778,\"#fb9f3a\"],[0.8888888888888888,\"#fdca26\"],[1.0,\"#f0f921\"]],\"type\":\"contour\"}],\"heatmapgl\":[{\"colorbar\":{\"outlinewidth\":0,\"ticks\":\"\"},\"colorscale\":[[0.0,\"#0d0887\"],[0.1111111111111111,\"#46039f\"],[0.2222222222222222,\"#7201a8\"],[0.3333333333333333,\"#9c179e\"],[0.4444444444444444,\"#bd3786\"],[0.5555555555555556,\"#d8576b\"],[0.6666666666666666,\"#ed7953\"],[0.7777777777777778,\"#fb9f3a\"],[0.8888888888888888,\"#fdca26\"],[1.0,\"#f0f921\"]],\"type\":\"heatmapgl\"}],\"heatmap\":[{\"colorbar\":{\"outlinewidth\":0,\"ticks\":\"\"},\"colorscale\":[[0.0,\"#0d0887\"],[0.1111111111111111,\"#46039f\"],[0.2222222222222222,\"#7201a8\"],[0.3333333333333333,\"#9c179e\"],[0.4444444444444444,\"#bd3786\"],[0.5555555555555556,\"#d8576b\"],[0.6666666666666666,\"#ed7953\"],[0.7777777777777778,\"#fb9f3a\"],[0.8888888888888888,\"#fdca26\"],[1.0,\"#f0f921\"]],\"type\":\"heatmap\"}],\"histogram2dcontour\":[{\"colorbar\":{\"outlinewidth\":0,\"ticks\":\"\"},\"colorscale\":[[0.0,\"#0d0887\"],[0.1111111111111111,\"#46039f\"],[0.2222222222222222,\"#7201a8\"],[0.3333333333333333,\"#9c179e\"],[0.4444444444444444,\"#bd3786\"],[0.5555555555555556,\"#d8576b\"],[0.6666666666666666,\"#ed7953\"],[0.7777777777777778,\"#fb9f3a\"],[0.8888888888888888,\"#fdca26\"],[1.0,\"#f0f921\"]],\"type\":\"histogram2dcontour\"}],\"histogram2d\":[{\"colorbar\":{\"outlinewidth\":0,\"ticks\":\"\"},\"colorscale\":[[0.0,\"#0d0887\"],[0.1111111111111111,\"#46039f\"],[0.2222222222222222,\"#7201a8\"],[0.3333333333333333,\"#9c179e\"],[0.4444444444444444,\"#bd3786\"],[0.5555555555555556,\"#d8576b\"],[0.6666666666666666,\"#ed7953\"],[0.7777777777777778,\"#fb9f3a\"],[0.8888888888888888,\"#fdca26\"],[1.0,\"#f0f921\"]],\"type\":\"histogram2d\"}],\"histogram\":[{\"marker\":{\"pattern\":{\"fillmode\":\"overlay\",\"size\":10,\"solidity\":0.2}},\"type\":\"histogram\"}],\"mesh3d\":[{\"colorbar\":{\"outlinewidth\":0,\"ticks\":\"\"},\"type\":\"mesh3d\"}],\"parcoords\":[{\"line\":{\"colorbar\":{\"outlinewidth\":0,\"ticks\":\"\"}},\"type\":\"parcoords\"}],\"pie\":[{\"automargin\":true,\"type\":\"pie\"}],\"scatter3d\":[{\"line\":{\"colorbar\":{\"outlinewidth\":0,\"ticks\":\"\"}},\"marker\":{\"colorbar\":{\"outlinewidth\":0,\"ticks\":\"\"}},\"type\":\"scatter3d\"}],\"scattercarpet\":[{\"marker\":{\"colorbar\":{\"outlinewidth\":0,\"ticks\":\"\"}},\"type\":\"scattercarpet\"}],\"scattergeo\":[{\"marker\":{\"colorbar\":{\"outlinewidth\":0,\"ticks\":\"\"}},\"type\":\"scattergeo\"}],\"scattergl\":[{\"marker\":{\"colorbar\":{\"outlinewidth\":0,\"ticks\":\"\"}},\"type\":\"scattergl\"}],\"scattermapbox\":[{\"marker\":{\"colorbar\":{\"outlinewidth\":0,\"ticks\":\"\"}},\"type\":\"scattermapbox\"}],\"scatterpolargl\":[{\"marker\":{\"colorbar\":{\"outlinewidth\":0,\"ticks\":\"\"}},\"type\":\"scatterpolargl\"}],\"scatterpolar\":[{\"marker\":{\"colorbar\":{\"outlinewidth\":0,\"ticks\":\"\"}},\"type\":\"scatterpolar\"}],\"scatter\":[{\"fillpattern\":{\"fillmode\":\"overlay\",\"size\":10,\"solidity\":0.2},\"type\":\"scatter\"}],\"scatterternary\":[{\"marker\":{\"colorbar\":{\"outlinewidth\":0,\"ticks\":\"\"}},\"type\":\"scatterternary\"}],\"surface\":[{\"colorbar\":{\"outlinewidth\":0,\"ticks\":\"\"},\"colorscale\":[[0.0,\"#0d0887\"],[0.1111111111111111,\"#46039f\"],[0.2222222222222222,\"#7201a8\"],[0.3333333333333333,\"#9c179e\"],[0.4444444444444444,\"#bd3786\"],[0.5555555555555556,\"#d8576b\"],[0.6666666666666666,\"#ed7953\"],[0.7777777777777778,\"#fb9f3a\"],[0.8888888888888888,\"#fdca26\"],[1.0,\"#f0f921\"]],\"type\":\"surface\"}],\"table\":[{\"cells\":{\"fill\":{\"color\":\"#EBF0F8\"},\"line\":{\"color\":\"white\"}},\"header\":{\"fill\":{\"color\":\"#C8D4E3\"},\"line\":{\"color\":\"white\"}},\"type\":\"table\"}]},\"layout\":{\"annotationdefaults\":{\"arrowcolor\":\"#2a3f5f\",\"arrowhead\":0,\"arrowwidth\":1},\"autotypenumbers\":\"strict\",\"coloraxis\":{\"colorbar\":{\"outlinewidth\":0,\"ticks\":\"\"}},\"colorscale\":{\"diverging\":[[0,\"#8e0152\"],[0.1,\"#c51b7d\"],[0.2,\"#de77ae\"],[0.3,\"#f1b6da\"],[0.4,\"#fde0ef\"],[0.5,\"#f7f7f7\"],[0.6,\"#e6f5d0\"],[0.7,\"#b8e186\"],[0.8,\"#7fbc41\"],[0.9,\"#4d9221\"],[1,\"#276419\"]],\"sequential\":[[0.0,\"#0d0887\"],[0.1111111111111111,\"#46039f\"],[0.2222222222222222,\"#7201a8\"],[0.3333333333333333,\"#9c179e\"],[0.4444444444444444,\"#bd3786\"],[0.5555555555555556,\"#d8576b\"],[0.6666666666666666,\"#ed7953\"],[0.7777777777777778,\"#fb9f3a\"],[0.8888888888888888,\"#fdca26\"],[1.0,\"#f0f921\"]],\"sequentialminus\":[[0.0,\"#0d0887\"],[0.1111111111111111,\"#46039f\"],[0.2222222222222222,\"#7201a8\"],[0.3333333333333333,\"#9c179e\"],[0.4444444444444444,\"#bd3786\"],[0.5555555555555556,\"#d8576b\"],[0.6666666666666666,\"#ed7953\"],[0.7777777777777778,\"#fb9f3a\"],[0.8888888888888888,\"#fdca26\"],[1.0,\"#f0f921\"]]},\"colorway\":[\"#636efa\",\"#EF553B\",\"#00cc96\",\"#ab63fa\",\"#FFA15A\",\"#19d3f3\",\"#FF6692\",\"#B6E880\",\"#FF97FF\",\"#FECB52\"],\"font\":{\"color\":\"#2a3f5f\"},\"geo\":{\"bgcolor\":\"white\",\"lakecolor\":\"white\",\"landcolor\":\"#E5ECF6\",\"showlakes\":true,\"showland\":true,\"subunitcolor\":\"white\"},\"hoverlabel\":{\"align\":\"left\"},\"hovermode\":\"closest\",\"mapbox\":{\"style\":\"light\"},\"paper_bgcolor\":\"white\",\"plot_bgcolor\":\"#E5ECF6\",\"polar\":{\"angularaxis\":{\"gridcolor\":\"white\",\"linecolor\":\"white\",\"ticks\":\"\"},\"bgcolor\":\"#E5ECF6\",\"radialaxis\":{\"gridcolor\":\"white\",\"linecolor\":\"white\",\"ticks\":\"\"}},\"scene\":{\"xaxis\":{\"backgroundcolor\":\"#E5ECF6\",\"gridcolor\":\"white\",\"gridwidth\":2,\"linecolor\":\"white\",\"showbackground\":true,\"ticks\":\"\",\"zerolinecolor\":\"white\"},\"yaxis\":{\"backgroundcolor\":\"#E5ECF6\",\"gridcolor\":\"white\",\"gridwidth\":2,\"linecolor\":\"white\",\"showbackground\":true,\"ticks\":\"\",\"zerolinecolor\":\"white\"},\"zaxis\":{\"backgroundcolor\":\"#E5ECF6\",\"gridcolor\":\"white\",\"gridwidth\":2,\"linecolor\":\"white\",\"showbackground\":true,\"ticks\":\"\",\"zerolinecolor\":\"white\"}},\"shapedefaults\":{\"line\":{\"color\":\"#2a3f5f\"}},\"ternary\":{\"aaxis\":{\"gridcolor\":\"white\",\"linecolor\":\"white\",\"ticks\":\"\"},\"baxis\":{\"gridcolor\":\"white\",\"linecolor\":\"white\",\"ticks\":\"\"},\"bgcolor\":\"#E5ECF6\",\"caxis\":{\"gridcolor\":\"white\",\"linecolor\":\"white\",\"ticks\":\"\"}},\"title\":{\"x\":0.05},\"xaxis\":{\"automargin\":true,\"gridcolor\":\"white\",\"linecolor\":\"white\",\"ticks\":\"\",\"title\":{\"standoff\":15},\"zerolinecolor\":\"white\",\"zerolinewidth\":2},\"yaxis\":{\"automargin\":true,\"gridcolor\":\"white\",\"linecolor\":\"white\",\"ticks\":\"\",\"title\":{\"standoff\":15},\"zerolinecolor\":\"white\",\"zerolinewidth\":2}}},\"title\":{\"text\":\"Temperature during NVT Equilibration\"},\"xaxis\":{\"title\":{\"text\":\"Time (ps)\"}},\"yaxis\":{\"title\":{\"text\":\"Temperature (K)\"}}},                        {\"responsive\": true}                    ).then(function(){\n",
       "                            \n",
       "var gd = document.getElementById('7484b8ab-b364-474d-a634-1e86839a7bf4');\n",
       "var x = new MutationObserver(function (mutations, observer) {{\n",
       "        var display = window.getComputedStyle(gd).display;\n",
       "        if (!display || display === 'none') {{\n",
       "            console.log([gd, 'removed!']);\n",
       "            Plotly.purge(gd);\n",
       "            observer.disconnect();\n",
       "        }}\n",
       "}});\n",
       "\n",
       "// Listen for the removal of the full notebook cells\n",
       "var notebookContainer = gd.closest('#notebook-container');\n",
       "if (notebookContainer) {{\n",
       "    x.observe(notebookContainer, {childList: true});\n",
       "}}\n",
       "\n",
       "// Listen for the clearing of the current output cell\n",
       "var outputEl = gd.closest('.output');\n",
       "if (outputEl) {{\n",
       "    x.observe(outputEl, {childList: true});\n",
       "}}\n",
       "\n",
       "                        })                };                });            </script>        </div>"
      ]
     },
     "metadata": {},
     "output_type": "display_data"
    }
   ],
   "source": [
    "import plotly\n",
    "import plotly.graph_objs as go\n",
    "\n",
    "# Read temperature data from file \n",
    "with open(output_nvt_temp_xvg,'r') as temperature_file:\n",
    "    x,y = map(\n",
    "        list,\n",
    "        zip(*[\n",
    "            (float(line.split()[0]),float(line.split()[1]))\n",
    "            for line in temperature_file \n",
    "            if not line.startswith((\"#\",\"@\")) \n",
    "        ])\n",
    "    )\n",
    "\n",
    "plotly.offline.init_notebook_mode(connected=True)\n",
    "\n",
    "fig = ({\n",
    "    \"data\": [go.Scatter(x=x, y=y)],\n",
    "    \"layout\": go.Layout(title=\"Temperature during NVT Equilibration\",\n",
    "                        xaxis=dict(title = \"Time (ps)\"),\n",
    "                        yaxis=dict(title = \"Temperature (K)\")\n",
    "                       )\n",
    "})\n",
    "\n",
    "plotly.offline.iplot(fig)"
   ]
  },
  {
   "cell_type": "markdown",
   "metadata": {},
   "source": [
    "<img src='images/fig2.png' width=\"50%\" height=\"50%\"></img>"
   ]
  },
  {
   "cell_type": "markdown",
   "metadata": {},
   "source": [
    "<a id=\"npt\"></a>\n",
    "***\n",
    "## Equilibrate the system (NPT)\n",
    "Equilibrate the **protein-ligand complex** system in NPT ensemble (constant Number of particles, Pressure and Temperature) .\n",
    "- [Step 1](#eqNPTStep1): Creating portable binary run file for system equilibration\n",
    "- [Step 2](#eqNPTStep2): Equilibrate the **protein-ligand complex** with NPT ensemble.\n",
    "- [Step 3](#eqNPTStep3): Checking **NPT Equilibration** results. Plotting **system pressure and density** by time during the **NPT equilibration** process.\n",
    "***\n",
    "**Building Blocks** used:\n",
    " - [Grompp](https://biobb-md.readthedocs.io/en/latest/gromacs.html#module-gromacs.grompp) from **biobb_md.gromacs.grompp** \n",
    " - [Mdrun](https://biobb-md.readthedocs.io/en/latest/gromacs.html#module-gromacs.mdrun) from **biobb_md.gromacs.mdrun** \n",
    " - [GMXEnergy](https://biobb-analysis.readthedocs.io/en/latest/gromacs.html#module-gromacs.gmx_energy) from **biobb_analysis.gromacs.gmx_energy** \n",
    "***"
   ]
  },
  {
   "cell_type": "markdown",
   "metadata": {},
   "source": [
    "<a id=\"eqNPTStep1\"></a>\n",
    "### Step 1: Creating portable binary run file for system equilibration (NPT)"
   ]
  },
  {
   "cell_type": "code",
   "execution_count": 37,
   "metadata": {
    "scrolled": true
   },
   "outputs": [
    {
     "name": "stdout",
     "output_type": "stream",
     "text": [
      "2022-04-22 10:37:11,994 [MainThread  ] [INFO ]  GROMACS Grompp 20191 version detected\n",
      "2022-04-22 10:37:12,001 [MainThread  ] [INFO ]  Extracting: /home/lg/repos/javerianaMD/simulation/md-biobb/protein_ligand_genion_top.zip\n",
      "2022-04-22 10:37:12,002 [MainThread  ] [INFO ]  to:\n",
      "2022-04-22 10:37:12,004 [MainThread  ] [INFO ]  ['58f16044-d8bc-4589-ad76-e7e0a1b5d6f2/ligand.top', '58f16044-d8bc-4589-ad76-e7e0a1b5d6f2/ligand_params.itp', '58f16044-d8bc-4589-ad76-e7e0a1b5d6f2/ligand_posres.itp', '58f16044-d8bc-4589-ad76-e7e0a1b5d6f2/posre.itp']\n",
      "2022-04-22 10:37:12,005 [MainThread  ] [INFO ]  Unzipping: \n",
      "2022-04-22 10:37:12,007 [MainThread  ] [INFO ]  protein_ligand_genion_top.zip\n",
      "2022-04-22 10:37:12,008 [MainThread  ] [INFO ]  To: \n",
      "2022-04-22 10:37:12,008 [MainThread  ] [INFO ]  58f16044-d8bc-4589-ad76-e7e0a1b5d6f2/ligand.top\n",
      "2022-04-22 10:37:12,009 [MainThread  ] [INFO ]  58f16044-d8bc-4589-ad76-e7e0a1b5d6f2/ligand_params.itp\n",
      "2022-04-22 10:37:12,011 [MainThread  ] [INFO ]  58f16044-d8bc-4589-ad76-e7e0a1b5d6f2/ligand_posres.itp\n",
      "2022-04-22 10:37:12,011 [MainThread  ] [INFO ]  58f16044-d8bc-4589-ad76-e7e0a1b5d6f2/posre.itp\n",
      "2022-04-22 10:37:12,013 [MainThread  ] [INFO ]  Not using any container\n",
      "2022-04-22 10:37:12,503 [MainThread  ] [INFO ]  gmx -nobackup -nocopyright grompp -f 33ecd0e5-bf09-46f1-89a4-0b86b7b68318/grompp.mdp -c protein_ligand_nvt.gro -r protein_ligand_nvt.gro -p 58f16044-d8bc-4589-ad76-e7e0a1b5d6f2/ligand.top -o protein_ligand_gppnpt.tpr -po mdout.mdp -maxwarn 0 -t protein_ligand_nvt.cpt -n protein_ligand_index.ndx\n",
      "\n",
      "2022-04-22 10:37:12,504 [MainThread  ] [INFO ]  Exit code 0\n",
      "\n",
      "2022-04-22 10:37:12,505 [MainThread  ] [INFO ]  turning H bonds into constraints...\n",
      "turning H bonds into constraints...\n",
      "turning H bonds into constraints...\n",
      "turning H bonds into constraints...\n",
      "turning H bonds into constraints...\n",
      "Determining Verlet buffer for a tolerance of 0.005 kJ/mol/ps at 300 K\n",
      "Calculated rlist for 1x1 atom pair-list as 1.034 nm, buffer size 0.034 nm\n",
      "Set rlist, assuming 4x4 atom pair-list, to 1.000 nm, buffer size 0.000 nm\n",
      "Note that mdrun will redetermine rlist based on the actual pair-list setup\n",
      "Calculating fourier grid dimensions for X Y Z\n",
      "Using a fourier grid of 56x56x56, spacing 0.114 0.114 0.114\n",
      "This run will generate roughly 7 Mb of data\n",
      "\n",
      "2022-04-22 10:37:12,507 [MainThread  ] [INFO ]                        :-) GROMACS - gmx grompp, 2019.1 (-:\n",
      "\n",
      "Executable:   /opt/miniconda3/envs/biobb_env/bin/gmx\n",
      "Data prefix:  /opt/miniconda3/envs/biobb_env\n",
      "Working dir:  /home/lg/repos/javerianaMD/simulation/md-biobb\n",
      "Command line:\n",
      "  gmx -nobackup -nocopyright grompp -f 33ecd0e5-bf09-46f1-89a4-0b86b7b68318/grompp.mdp -c protein_ligand_nvt.gro -r protein_ligand_nvt.gro -p 58f16044-d8bc-4589-ad76-e7e0a1b5d6f2/ligand.top -o protein_ligand_gppnpt.tpr -po mdout.mdp -maxwarn 0 -t protein_ligand_nvt.cpt -n protein_ligand_index.ndx\n",
      "\n",
      "Setting the LD random seed to -904556798\n",
      "Generated 2485 of the 2485 non-bonded parameter combinations\n",
      "Generating 1-4 interactions: fudge = 0.5\n",
      "Generated 2485 of the 2485 1-4 parameter combinations\n",
      "Excluding 3 bonded neighbours molecule type 'Protein_chain_A'\n",
      "Excluding 3 bonded neighbours molecule type 'ligand_params'\n",
      "Excluding 2 bonded neighbours molecule type 'SOL'\n",
      "Excluding 1 bonded neighbours molecule type 'NA'\n",
      "Excluding 1 bonded neighbours molecule type 'CL'\n",
      "Removing all charge groups because cutoff-scheme=Verlet\n",
      "\n",
      "NOTE 1 [file ligand.top, line 21207]:\n",
      "  You are combining position restraints with Parrinello-Rahman pressure\n",
      "  coupling, which can lead to instabilities. If you really want to combine\n",
      "  position restraints with pressure coupling, we suggest to use Berendsen\n",
      "  pressure coupling instead.\n",
      "\n",
      "The center of mass of the position restraint coord's is  3.177  4.491  2.600\n",
      "The center of mass of the position restraint coord's is  3.177  4.491  2.600\n",
      "\n",
      "NOTE 2 [file ligand.top, line 21207]:\n",
      "  The bond in molecule-type ligand_params between atoms 13 C10 and 14 C11\n",
      "  has an estimated oscillational period of 1.8e-02 ps, which is less than\n",
      "  10 times the time step of 2.0e-03 ps.\n",
      "  Maybe you forgot to change the constraints mdp option.\n",
      "\n",
      "Number of degrees of freedom in T-Coupling group Protein_Other is 5668.58\n",
      "Number of degrees of freedom in T-Coupling group Water_and_ions is 34797.42\n",
      "Reading Coordinates, Velocities and Box size from old trajectory\n",
      "Will read whole trajectory\n",
      "Last frame         -1 time   10.000   \n",
      "Using frame at t = 10 ps\n",
      "Starting time for run is 0 ps\n",
      "Estimate for the relative computational load of the PME mesh part: 0.20\n",
      "\n",
      "There were 2 notes\n",
      "\n",
      "GROMACS reminds you: \"May the Force Be With You\" (Star Wars)\n",
      "\n",
      "\n",
      "2022-04-22 10:37:12,509 [MainThread  ] [INFO ]  Removed: ['mdout.mdp', '58f16044-d8bc-4589-ad76-e7e0a1b5d6f2', '33ecd0e5-bf09-46f1-89a4-0b86b7b68318']\n"
     ]
    },
    {
     "data": {
      "text/plain": [
       "0"
      ]
     },
     "execution_count": 37,
     "metadata": {},
     "output_type": "execute_result"
    }
   ],
   "source": [
    "# Grompp: Creating portable binary run file for (NPT) System Equilibration\n",
    "from biobb_md.gromacs.grompp import grompp\n",
    "\n",
    "# Create prop dict and inputs/outputs\n",
    "output_gppnpt_tpr = pdbName+'_'+ligandName+'_gppnpt.tpr'\n",
    "prop = {\n",
    "    'mdp':{\n",
    "        'type': 'npt',\n",
    "        'nsteps':'5000',\n",
    "        'tc-grps': 'Protein_Other Water_and_ions',\n",
    "        'Define': '-DPOSRES -D' + posresifdef\n",
    "    },\n",
    "    'simulation_type':'npt'\n",
    "}\n",
    "\n",
    "# Create and launch bb\n",
    "grompp(input_gro_path=output_nvt_gro,\n",
    "       input_top_zip_path=output_genion_top_zip,\n",
    "       input_ndx_path=output_complex_ndx,\n",
    "       output_tpr_path=output_gppnpt_tpr,\n",
    "       input_cpt_path=output_nvt_cpt,\n",
    "       properties=prop)"
   ]
  },
  {
   "cell_type": "markdown",
   "metadata": {},
   "source": [
    "<a id=\"eqNPTStep2\"></a>\n",
    "### Step 2: Running NPT equilibration"
   ]
  },
  {
   "cell_type": "code",
   "execution_count": 38,
   "metadata": {
    "scrolled": true
   },
   "outputs": [
    {
     "name": "stdout",
     "output_type": "stream",
     "text": [
      "2022-04-22 10:37:12,541 [MainThread  ] [INFO ]  GROMACS Mdrun 20191 version detected\n",
      "2022-04-22 10:37:12,542 [MainThread  ] [INFO ]  Not using any container\n",
      "2022-04-22 10:39:01,763 [MainThread  ] [INFO ]  gmx -nobackup -nocopyright mdrun -s protein_ligand_gppnpt.tpr -o protein_ligand_npt.trr -c protein_ligand_npt.gro -e protein_ligand_npt.edr -g protein_ligand_npt.log -cpo protein_ligand_npt.cpt\n",
      "\n",
      "2022-04-22 10:39:01,764 [MainThread  ] [INFO ]  Exit code 0\n",
      "\n",
      "2022-04-22 10:39:01,765 [MainThread  ] [INFO ]                        :-) GROMACS - gmx mdrun, 2019.1 (-:\n",
      "\n",
      "Executable:   /opt/miniconda3/envs/biobb_env/bin/gmx\n",
      "Data prefix:  /opt/miniconda3/envs/biobb_env\n",
      "Working dir:  /home/lg/repos/javerianaMD/simulation/md-biobb\n",
      "Command line:\n",
      "  gmx -nobackup -nocopyright mdrun -s protein_ligand_gppnpt.tpr -o protein_ligand_npt.trr -c protein_ligand_npt.gro -e protein_ligand_npt.edr -g protein_ligand_npt.log -cpo protein_ligand_npt.cpt\n",
      "\n",
      "Compiled SIMD: SSE2, but for this host/run AVX2_256 might be better (see log).\n",
      "The current CPU can measure timings more accurately than the code in\n",
      "gmx mdrun was configured to use. This might affect your simulation\n",
      "speed as accurate timings are needed for load-balancing.\n",
      "Please consider rebuilding gmx mdrun with the GMX_USE_RDTSCP=ON CMake option.\n",
      "Reading file protein_ligand_gppnpt.tpr, VERSION 2019.1 (single precision)\n",
      "Changing nstlist from 10 to 50, rlist from 1 to 1.11\n",
      "\n",
      "\n",
      "Using 1 MPI thread\n",
      "Using 4 OpenMP threads \n",
      "\n",
      "starting mdrun 'Protein in water'\n",
      "5000 steps,     10.0 ps.\n",
      "\n",
      "Writing final coordinates.\n",
      "\n",
      "               Core t (s)   Wall t (s)        (%)\n",
      "       Time:      431.647      107.912      400.0\n",
      "                 (ns/day)    (hour/ns)\n",
      "Performance:        8.008        2.997\n",
      "\n",
      "GROMACS reminds you: \"We mathematicians are all a bit crazy.\" (Lev Landau)\n",
      "\n",
      "\n",
      "2022-04-22 10:39:01,765 [MainThread  ] [INFO ]  Removed: []\n"
     ]
    },
    {
     "data": {
      "text/plain": [
       "0"
      ]
     },
     "execution_count": 38,
     "metadata": {},
     "output_type": "execute_result"
    }
   ],
   "source": [
    "# Mdrun: Running NPT System Equilibration\n",
    "from biobb_md.gromacs.mdrun import mdrun\n",
    "\n",
    "# Create prop dict and inputs/outputs\n",
    "output_npt_trr = pdbName+'_'+ligandName+'_npt.trr'\n",
    "output_npt_gro = pdbName+'_'+ligandName+'_npt.gro'\n",
    "output_npt_edr = pdbName+'_'+ligandName+'_npt.edr'\n",
    "output_npt_log = pdbName+'_'+ligandName+'_npt.log'\n",
    "output_npt_cpt = pdbName+'_'+ligandName+'_npt.cpt'\n",
    "\n",
    "# Create and launch bb\n",
    "mdrun(input_tpr_path=output_gppnpt_tpr,\n",
    "      output_trr_path=output_npt_trr,\n",
    "      output_gro_path=output_npt_gro,\n",
    "      output_edr_path=output_npt_edr,\n",
    "      output_log_path=output_npt_log,\n",
    "      output_cpt_path=output_npt_cpt)"
   ]
  },
  {
   "cell_type": "markdown",
   "metadata": {},
   "source": [
    "<a id=\"eqNPTStep3\"></a>\n",
    "### Step 3: Checking NPT Equilibration results\n",
    "Checking **NPT Equilibration** results. Plotting **system pressure and density** by time during the **NPT equilibration** process. "
   ]
  },
  {
   "cell_type": "code",
   "execution_count": 39,
   "metadata": {
    "scrolled": true
   },
   "outputs": [
    {
     "name": "stdout",
     "output_type": "stream",
     "text": [
      "2022-04-22 10:39:01,782 [MainThread  ] [INFO ]  Not using any container\n",
      "2022-04-22 10:39:01,804 [MainThread  ] [INFO ]  gmx energy -f /home/lg/repos/javerianaMD/simulation/md-biobb/protein_ligand_npt.edr -o protein_ligand_npt_PD.xvg -xvg none < 5d1c8b1e-703d-4595-bf75-a52e6cec60c6/instructions.in\n",
      "\n",
      "2022-04-22 10:39:01,805 [MainThread  ] [INFO ]  Exit code 0\n",
      "\n",
      "2022-04-22 10:39:01,806 [MainThread  ] [INFO ]  \n",
      "Statistics over 5001 steps [ 0.0000 through 10.0000 ps ], 2 data sets\n",
      "All statistics are over 51 points\n",
      "\n",
      "Energy                      Average   Err.Est.       RMSD  Tot-Drift\n",
      "-------------------------------------------------------------------------------\n",
      "Pressure                    32.4553         19    244.506   -41.7307  (bar)\n",
      "Density                     1038.43          2    6.44433    12.6402  (kg/m^3)\n",
      "\n",
      "2022-04-22 10:39:01,807 [MainThread  ] [INFO ]                        :-) GROMACS - gmx energy, 2019.1 (-:\n",
      "\n",
      "                            GROMACS is written by:\n",
      "     Emile Apol      Rossen Apostolov      Paul Bauer     Herman J.C. Berendsen\n",
      "    Par Bjelkmar      Christian Blau   Viacheslav Bolnykh     Kevin Boyd    \n",
      " Aldert van Buuren   Rudi van Drunen     Anton Feenstra       Alan Gray     \n",
      "  Gerrit Groenhof     Anca Hamuraru    Vincent Hindriksen  M. Eric Irrgang  \n",
      "  Aleksei Iupinov   Christoph Junghans     Joe Jordan     Dimitrios Karkoulis\n",
      "    Peter Kasson        Jiri Kraus      Carsten Kutzner      Per Larsson    \n",
      "  Justin A. Lemkul    Viveca Lindahl    Magnus Lundborg     Erik Marklund   \n",
      "    Pascal Merz     Pieter Meulenhoff    Teemu Murtola       Szilard Pall   \n",
      "    Sander Pronk      Roland Schulz      Michael Shirts    Alexey Shvetsov  \n",
      "   Alfons Sijbers     Peter Tieleman      Jon Vincent      Teemu Virolainen \n",
      " Christian Wennberg    Maarten Wolf   \n",
      "                           and the project leaders:\n",
      "        Mark Abraham, Berk Hess, Erik Lindahl, and David van der Spoel\n",
      "\n",
      "Copyright (c) 1991-2000, University of Groningen, The Netherlands.\n",
      "Copyright (c) 2001-2018, The GROMACS development team at\n",
      "Uppsala University, Stockholm University and\n",
      "the Royal Institute of Technology, Sweden.\n",
      "check out http://www.gromacs.org for more information.\n",
      "\n",
      "GROMACS is free software; you can redistribute it and/or modify it\n",
      "under the terms of the GNU Lesser General Public License\n",
      "as published by the Free Software Foundation; either version 2.1\n",
      "of the License, or (at your option) any later version.\n",
      "\n",
      "GROMACS:      gmx energy, version 2019.1\n",
      "Executable:   /opt/miniconda3/envs/biobb_env/bin/gmx\n",
      "Data prefix:  /opt/miniconda3/envs/biobb_env\n",
      "Working dir:  /home/lg/repos/javerianaMD/simulation/md-biobb\n",
      "Command line:\n",
      "  gmx energy -f /home/lg/repos/javerianaMD/simulation/md-biobb/protein_ligand_npt.edr -o protein_ligand_npt_PD.xvg -xvg none\n",
      "\n",
      "Opened /home/lg/repos/javerianaMD/simulation/md-biobb/protein_ligand_npt.edr as single precision energy file\n",
      "\n",
      "Select the terms you want from the following list by\n",
      "selecting either (part of) the name or the number or a combination.\n",
      "End your selection with an empty line or a zero.\n",
      "-------------------------------------------------------------------\n",
      "  1  Bond             2  Angle            3  Proper-Dih.      4  Improper-Dih. \n",
      "  5  LJ-14            6  Coulomb-14       7  LJ-(SR)          8  Disper.-corr. \n",
      "  9  Coulomb-(SR)    10  Coul.-recip.    11  Position-Rest.  12  Potential     \n",
      " 13  Kinetic-En.     14  Total-Energy    15  Conserved-En.   16  Temperature   \n",
      " 17  Pres.-DC        18  Pressure        19  Constr.-rmsd    20  Box-X         \n",
      " 21  Box-Y           22  Box-Z           23  Volume          24  Density       \n",
      " 25  pV              26  Enthalpy        27  Vir-XX          28  Vir-XY        \n",
      " 29  Vir-XZ          30  Vir-YX          31  Vir-YY          32  Vir-YZ        \n",
      " 33  Vir-ZX          34  Vir-ZY          35  Vir-ZZ          36  Pres-XX       \n",
      " 37  Pres-XY         38  Pres-XZ         39  Pres-YX         40  Pres-YY       \n",
      " 41  Pres-YZ         42  Pres-ZX         43  Pres-ZY         44  Pres-ZZ       \n",
      " 45  #Surf*SurfTen   46  Box-Vel-XX      47  Box-Vel-YY      48  Box-Vel-ZZ    \n",
      " 49  T-Protein_Other                     50  T-Water_and_ions                  \n",
      " 51  Lamb-Protein_Other                  52  Lamb-Water_and_ions               \n",
      "\n",
      "\n",
      "Back Off! I just backed up protein_ligand_npt_PD.xvg to ./#protein_ligand_npt_PD.xvg.1#\n",
      "Last energy frame read 10 time   10.000           \n",
      "\n",
      "GROMACS reminds you: \"Science is the record of dead religions.\" (Oscar Wilde)\n",
      "\n",
      "\n",
      "2022-04-22 10:39:01,808 [MainThread  ] [INFO ]  Removed: [PurePosixPath('5d1c8b1e-703d-4595-bf75-a52e6cec60c6')]\n"
     ]
    },
    {
     "data": {
      "text/plain": [
       "0"
      ]
     },
     "execution_count": 39,
     "metadata": {},
     "output_type": "execute_result"
    }
   ],
   "source": [
    "# GMXEnergy: Getting system pressure and density by time during NPT Equilibration  \n",
    "from biobb_analysis.gromacs.gmx_energy import gmx_energy\n",
    "\n",
    "# Create prop dict and inputs/outputs\n",
    "output_npt_pd_xvg = pdbName+'_'+ligandName+'_npt_PD.xvg'\n",
    "prop = {\n",
    "    'terms':  [\"Pressure\",\"Density\"]\n",
    "}\n",
    "\n",
    "# Create and launch bb\n",
    "gmx_energy(input_energy_path=output_npt_edr, \n",
    "          output_xvg_path=output_npt_pd_xvg, \n",
    "          properties=prop)"
   ]
  },
  {
   "cell_type": "code",
   "execution_count": 40,
   "metadata": {
    "scrolled": false
   },
   "outputs": [
    {
     "data": {
      "text/html": [
       "        <script type=\"text/javascript\">\n",
       "        window.PlotlyConfig = {MathJaxConfig: 'local'};\n",
       "        if (window.MathJax) {MathJax.Hub.Config({SVG: {font: \"STIX-Web\"}});}\n",
       "        if (typeof require !== 'undefined') {\n",
       "        require.undef(\"plotly\");\n",
       "        requirejs.config({\n",
       "            paths: {\n",
       "                'plotly': ['https://cdn.plot.ly/plotly-2.11.1.min']\n",
       "            }\n",
       "        });\n",
       "        require(['plotly'], function(Plotly) {\n",
       "            window._Plotly = Plotly;\n",
       "        });\n",
       "        }\n",
       "        </script>\n",
       "        "
      ]
     },
     "metadata": {},
     "output_type": "display_data"
    },
    {
     "data": {
      "application/vnd.plotly.v1+json": {
       "config": {
        "linkText": "Export to plot.ly",
        "plotlyServerURL": "https://plot.ly",
        "showLink": false
       },
       "data": [
        {
         "type": "scatter",
         "x": [
          0,
          1,
          2,
          3,
          4,
          5,
          6,
          7,
          8,
          9,
          10
         ],
         "xaxis": "x",
         "y": [
          -399.999115,
          205.120361,
          105.574738,
          451.422852,
          372.54306,
          457.881622,
          23.064697,
          -24.223541,
          82.230042,
          -120.266891,
          -138.666931
         ],
         "yaxis": "y"
        },
        {
         "type": "scatter",
         "x": [
          0,
          1,
          2,
          3,
          4,
          5,
          6,
          7,
          8,
          9,
          10
         ],
         "xaxis": "x2",
         "y": [
          1008.372498,
          1033.538574,
          1039.734619,
          1044.119385,
          1037.449951,
          1041.144043,
          1037.623291,
          1042.639282,
          1041.811768,
          1041.292725,
          1043.227905
         ],
         "yaxis": "y2"
        }
       ],
       "layout": {
        "showlegend": false,
        "template": {
         "data": {
          "bar": [
           {
            "error_x": {
             "color": "#2a3f5f"
            },
            "error_y": {
             "color": "#2a3f5f"
            },
            "marker": {
             "line": {
              "color": "#E5ECF6",
              "width": 0.5
             },
             "pattern": {
              "fillmode": "overlay",
              "size": 10,
              "solidity": 0.2
             }
            },
            "type": "bar"
           }
          ],
          "barpolar": [
           {
            "marker": {
             "line": {
              "color": "#E5ECF6",
              "width": 0.5
             },
             "pattern": {
              "fillmode": "overlay",
              "size": 10,
              "solidity": 0.2
             }
            },
            "type": "barpolar"
           }
          ],
          "carpet": [
           {
            "aaxis": {
             "endlinecolor": "#2a3f5f",
             "gridcolor": "white",
             "linecolor": "white",
             "minorgridcolor": "white",
             "startlinecolor": "#2a3f5f"
            },
            "baxis": {
             "endlinecolor": "#2a3f5f",
             "gridcolor": "white",
             "linecolor": "white",
             "minorgridcolor": "white",
             "startlinecolor": "#2a3f5f"
            },
            "type": "carpet"
           }
          ],
          "choropleth": [
           {
            "colorbar": {
             "outlinewidth": 0,
             "ticks": ""
            },
            "type": "choropleth"
           }
          ],
          "contour": [
           {
            "colorbar": {
             "outlinewidth": 0,
             "ticks": ""
            },
            "colorscale": [
             [
              0,
              "#0d0887"
             ],
             [
              0.1111111111111111,
              "#46039f"
             ],
             [
              0.2222222222222222,
              "#7201a8"
             ],
             [
              0.3333333333333333,
              "#9c179e"
             ],
             [
              0.4444444444444444,
              "#bd3786"
             ],
             [
              0.5555555555555556,
              "#d8576b"
             ],
             [
              0.6666666666666666,
              "#ed7953"
             ],
             [
              0.7777777777777778,
              "#fb9f3a"
             ],
             [
              0.8888888888888888,
              "#fdca26"
             ],
             [
              1,
              "#f0f921"
             ]
            ],
            "type": "contour"
           }
          ],
          "contourcarpet": [
           {
            "colorbar": {
             "outlinewidth": 0,
             "ticks": ""
            },
            "type": "contourcarpet"
           }
          ],
          "heatmap": [
           {
            "colorbar": {
             "outlinewidth": 0,
             "ticks": ""
            },
            "colorscale": [
             [
              0,
              "#0d0887"
             ],
             [
              0.1111111111111111,
              "#46039f"
             ],
             [
              0.2222222222222222,
              "#7201a8"
             ],
             [
              0.3333333333333333,
              "#9c179e"
             ],
             [
              0.4444444444444444,
              "#bd3786"
             ],
             [
              0.5555555555555556,
              "#d8576b"
             ],
             [
              0.6666666666666666,
              "#ed7953"
             ],
             [
              0.7777777777777778,
              "#fb9f3a"
             ],
             [
              0.8888888888888888,
              "#fdca26"
             ],
             [
              1,
              "#f0f921"
             ]
            ],
            "type": "heatmap"
           }
          ],
          "heatmapgl": [
           {
            "colorbar": {
             "outlinewidth": 0,
             "ticks": ""
            },
            "colorscale": [
             [
              0,
              "#0d0887"
             ],
             [
              0.1111111111111111,
              "#46039f"
             ],
             [
              0.2222222222222222,
              "#7201a8"
             ],
             [
              0.3333333333333333,
              "#9c179e"
             ],
             [
              0.4444444444444444,
              "#bd3786"
             ],
             [
              0.5555555555555556,
              "#d8576b"
             ],
             [
              0.6666666666666666,
              "#ed7953"
             ],
             [
              0.7777777777777778,
              "#fb9f3a"
             ],
             [
              0.8888888888888888,
              "#fdca26"
             ],
             [
              1,
              "#f0f921"
             ]
            ],
            "type": "heatmapgl"
           }
          ],
          "histogram": [
           {
            "marker": {
             "pattern": {
              "fillmode": "overlay",
              "size": 10,
              "solidity": 0.2
             }
            },
            "type": "histogram"
           }
          ],
          "histogram2d": [
           {
            "colorbar": {
             "outlinewidth": 0,
             "ticks": ""
            },
            "colorscale": [
             [
              0,
              "#0d0887"
             ],
             [
              0.1111111111111111,
              "#46039f"
             ],
             [
              0.2222222222222222,
              "#7201a8"
             ],
             [
              0.3333333333333333,
              "#9c179e"
             ],
             [
              0.4444444444444444,
              "#bd3786"
             ],
             [
              0.5555555555555556,
              "#d8576b"
             ],
             [
              0.6666666666666666,
              "#ed7953"
             ],
             [
              0.7777777777777778,
              "#fb9f3a"
             ],
             [
              0.8888888888888888,
              "#fdca26"
             ],
             [
              1,
              "#f0f921"
             ]
            ],
            "type": "histogram2d"
           }
          ],
          "histogram2dcontour": [
           {
            "colorbar": {
             "outlinewidth": 0,
             "ticks": ""
            },
            "colorscale": [
             [
              0,
              "#0d0887"
             ],
             [
              0.1111111111111111,
              "#46039f"
             ],
             [
              0.2222222222222222,
              "#7201a8"
             ],
             [
              0.3333333333333333,
              "#9c179e"
             ],
             [
              0.4444444444444444,
              "#bd3786"
             ],
             [
              0.5555555555555556,
              "#d8576b"
             ],
             [
              0.6666666666666666,
              "#ed7953"
             ],
             [
              0.7777777777777778,
              "#fb9f3a"
             ],
             [
              0.8888888888888888,
              "#fdca26"
             ],
             [
              1,
              "#f0f921"
             ]
            ],
            "type": "histogram2dcontour"
           }
          ],
          "mesh3d": [
           {
            "colorbar": {
             "outlinewidth": 0,
             "ticks": ""
            },
            "type": "mesh3d"
           }
          ],
          "parcoords": [
           {
            "line": {
             "colorbar": {
              "outlinewidth": 0,
              "ticks": ""
             }
            },
            "type": "parcoords"
           }
          ],
          "pie": [
           {
            "automargin": true,
            "type": "pie"
           }
          ],
          "scatter": [
           {
            "fillpattern": {
             "fillmode": "overlay",
             "size": 10,
             "solidity": 0.2
            },
            "type": "scatter"
           }
          ],
          "scatter3d": [
           {
            "line": {
             "colorbar": {
              "outlinewidth": 0,
              "ticks": ""
             }
            },
            "marker": {
             "colorbar": {
              "outlinewidth": 0,
              "ticks": ""
             }
            },
            "type": "scatter3d"
           }
          ],
          "scattercarpet": [
           {
            "marker": {
             "colorbar": {
              "outlinewidth": 0,
              "ticks": ""
             }
            },
            "type": "scattercarpet"
           }
          ],
          "scattergeo": [
           {
            "marker": {
             "colorbar": {
              "outlinewidth": 0,
              "ticks": ""
             }
            },
            "type": "scattergeo"
           }
          ],
          "scattergl": [
           {
            "marker": {
             "colorbar": {
              "outlinewidth": 0,
              "ticks": ""
             }
            },
            "type": "scattergl"
           }
          ],
          "scattermapbox": [
           {
            "marker": {
             "colorbar": {
              "outlinewidth": 0,
              "ticks": ""
             }
            },
            "type": "scattermapbox"
           }
          ],
          "scatterpolar": [
           {
            "marker": {
             "colorbar": {
              "outlinewidth": 0,
              "ticks": ""
             }
            },
            "type": "scatterpolar"
           }
          ],
          "scatterpolargl": [
           {
            "marker": {
             "colorbar": {
              "outlinewidth": 0,
              "ticks": ""
             }
            },
            "type": "scatterpolargl"
           }
          ],
          "scatterternary": [
           {
            "marker": {
             "colorbar": {
              "outlinewidth": 0,
              "ticks": ""
             }
            },
            "type": "scatterternary"
           }
          ],
          "surface": [
           {
            "colorbar": {
             "outlinewidth": 0,
             "ticks": ""
            },
            "colorscale": [
             [
              0,
              "#0d0887"
             ],
             [
              0.1111111111111111,
              "#46039f"
             ],
             [
              0.2222222222222222,
              "#7201a8"
             ],
             [
              0.3333333333333333,
              "#9c179e"
             ],
             [
              0.4444444444444444,
              "#bd3786"
             ],
             [
              0.5555555555555556,
              "#d8576b"
             ],
             [
              0.6666666666666666,
              "#ed7953"
             ],
             [
              0.7777777777777778,
              "#fb9f3a"
             ],
             [
              0.8888888888888888,
              "#fdca26"
             ],
             [
              1,
              "#f0f921"
             ]
            ],
            "type": "surface"
           }
          ],
          "table": [
           {
            "cells": {
             "fill": {
              "color": "#EBF0F8"
             },
             "line": {
              "color": "white"
             }
            },
            "header": {
             "fill": {
              "color": "#C8D4E3"
             },
             "line": {
              "color": "white"
             }
            },
            "type": "table"
           }
          ]
         },
         "layout": {
          "annotationdefaults": {
           "arrowcolor": "#2a3f5f",
           "arrowhead": 0,
           "arrowwidth": 1
          },
          "autotypenumbers": "strict",
          "coloraxis": {
           "colorbar": {
            "outlinewidth": 0,
            "ticks": ""
           }
          },
          "colorscale": {
           "diverging": [
            [
             0,
             "#8e0152"
            ],
            [
             0.1,
             "#c51b7d"
            ],
            [
             0.2,
             "#de77ae"
            ],
            [
             0.3,
             "#f1b6da"
            ],
            [
             0.4,
             "#fde0ef"
            ],
            [
             0.5,
             "#f7f7f7"
            ],
            [
             0.6,
             "#e6f5d0"
            ],
            [
             0.7,
             "#b8e186"
            ],
            [
             0.8,
             "#7fbc41"
            ],
            [
             0.9,
             "#4d9221"
            ],
            [
             1,
             "#276419"
            ]
           ],
           "sequential": [
            [
             0,
             "#0d0887"
            ],
            [
             0.1111111111111111,
             "#46039f"
            ],
            [
             0.2222222222222222,
             "#7201a8"
            ],
            [
             0.3333333333333333,
             "#9c179e"
            ],
            [
             0.4444444444444444,
             "#bd3786"
            ],
            [
             0.5555555555555556,
             "#d8576b"
            ],
            [
             0.6666666666666666,
             "#ed7953"
            ],
            [
             0.7777777777777778,
             "#fb9f3a"
            ],
            [
             0.8888888888888888,
             "#fdca26"
            ],
            [
             1,
             "#f0f921"
            ]
           ],
           "sequentialminus": [
            [
             0,
             "#0d0887"
            ],
            [
             0.1111111111111111,
             "#46039f"
            ],
            [
             0.2222222222222222,
             "#7201a8"
            ],
            [
             0.3333333333333333,
             "#9c179e"
            ],
            [
             0.4444444444444444,
             "#bd3786"
            ],
            [
             0.5555555555555556,
             "#d8576b"
            ],
            [
             0.6666666666666666,
             "#ed7953"
            ],
            [
             0.7777777777777778,
             "#fb9f3a"
            ],
            [
             0.8888888888888888,
             "#fdca26"
            ],
            [
             1,
             "#f0f921"
            ]
           ]
          },
          "colorway": [
           "#636efa",
           "#EF553B",
           "#00cc96",
           "#ab63fa",
           "#FFA15A",
           "#19d3f3",
           "#FF6692",
           "#B6E880",
           "#FF97FF",
           "#FECB52"
          ],
          "font": {
           "color": "#2a3f5f"
          },
          "geo": {
           "bgcolor": "white",
           "lakecolor": "white",
           "landcolor": "#E5ECF6",
           "showlakes": true,
           "showland": true,
           "subunitcolor": "white"
          },
          "hoverlabel": {
           "align": "left"
          },
          "hovermode": "closest",
          "mapbox": {
           "style": "light"
          },
          "paper_bgcolor": "white",
          "plot_bgcolor": "#E5ECF6",
          "polar": {
           "angularaxis": {
            "gridcolor": "white",
            "linecolor": "white",
            "ticks": ""
           },
           "bgcolor": "#E5ECF6",
           "radialaxis": {
            "gridcolor": "white",
            "linecolor": "white",
            "ticks": ""
           }
          },
          "scene": {
           "xaxis": {
            "backgroundcolor": "#E5ECF6",
            "gridcolor": "white",
            "gridwidth": 2,
            "linecolor": "white",
            "showbackground": true,
            "ticks": "",
            "zerolinecolor": "white"
           },
           "yaxis": {
            "backgroundcolor": "#E5ECF6",
            "gridcolor": "white",
            "gridwidth": 2,
            "linecolor": "white",
            "showbackground": true,
            "ticks": "",
            "zerolinecolor": "white"
           },
           "zaxis": {
            "backgroundcolor": "#E5ECF6",
            "gridcolor": "white",
            "gridwidth": 2,
            "linecolor": "white",
            "showbackground": true,
            "ticks": "",
            "zerolinecolor": "white"
           }
          },
          "shapedefaults": {
           "line": {
            "color": "#2a3f5f"
           }
          },
          "ternary": {
           "aaxis": {
            "gridcolor": "white",
            "linecolor": "white",
            "ticks": ""
           },
           "baxis": {
            "gridcolor": "white",
            "linecolor": "white",
            "ticks": ""
           },
           "bgcolor": "#E5ECF6",
           "caxis": {
            "gridcolor": "white",
            "linecolor": "white",
            "ticks": ""
           }
          },
          "title": {
           "x": 0.05
          },
          "xaxis": {
           "automargin": true,
           "gridcolor": "white",
           "linecolor": "white",
           "ticks": "",
           "title": {
            "standoff": 15
           },
           "zerolinecolor": "white",
           "zerolinewidth": 2
          },
          "yaxis": {
           "automargin": true,
           "gridcolor": "white",
           "linecolor": "white",
           "ticks": "",
           "title": {
            "standoff": 15
           },
           "zerolinecolor": "white",
           "zerolinewidth": 2
          }
         }
        },
        "title": {
         "text": "Pressure and Density during NPT Equilibration"
        },
        "xaxis": {
         "anchor": "y",
         "domain": [
          0,
          0.45
         ],
         "title": {
          "text": "Time (ps)"
         }
        },
        "xaxis2": {
         "anchor": "y2",
         "domain": [
          0.55,
          1
         ],
         "title": {
          "text": "Time (ps)"
         }
        },
        "yaxis": {
         "anchor": "x",
         "domain": [
          0,
          1
         ],
         "title": {
          "text": "Pressure (bar)"
         }
        },
        "yaxis2": {
         "anchor": "x2",
         "domain": [
          0,
          1
         ],
         "title": {
          "text": "Density (Kg*m^-3)"
         }
        }
       }
      },
      "text/html": [
       "<div>                            <div id=\"c58e3d62-87cd-4e99-8a6d-a599a3a3d702\" class=\"plotly-graph-div\" style=\"height:525px; width:100%;\"></div>            <script type=\"text/javascript\">                require([\"plotly\"], function(Plotly) {                    window.PLOTLYENV=window.PLOTLYENV || {};                                    if (document.getElementById(\"c58e3d62-87cd-4e99-8a6d-a599a3a3d702\")) {                    Plotly.newPlot(                        \"c58e3d62-87cd-4e99-8a6d-a599a3a3d702\",                        [{\"x\":[0.0,1.0,2.0,3.0,4.0,5.0,6.0,7.0,8.0,9.0,10.0],\"xaxis\":\"x\",\"y\":[-399.999115,205.120361,105.574738,451.422852,372.54306,457.881622,23.064697,-24.223541,82.230042,-120.266891,-138.666931],\"yaxis\":\"y\",\"type\":\"scatter\"},{\"x\":[0.0,1.0,2.0,3.0,4.0,5.0,6.0,7.0,8.0,9.0,10.0],\"xaxis\":\"x2\",\"y\":[1008.372498,1033.538574,1039.734619,1044.119385,1037.449951,1041.144043,1037.623291,1042.639282,1041.811768,1041.292725,1043.227905],\"yaxis\":\"y2\",\"type\":\"scatter\"}],                        {\"showlegend\":false,\"template\":{\"data\":{\"barpolar\":[{\"marker\":{\"line\":{\"color\":\"#E5ECF6\",\"width\":0.5},\"pattern\":{\"fillmode\":\"overlay\",\"size\":10,\"solidity\":0.2}},\"type\":\"barpolar\"}],\"bar\":[{\"error_x\":{\"color\":\"#2a3f5f\"},\"error_y\":{\"color\":\"#2a3f5f\"},\"marker\":{\"line\":{\"color\":\"#E5ECF6\",\"width\":0.5},\"pattern\":{\"fillmode\":\"overlay\",\"size\":10,\"solidity\":0.2}},\"type\":\"bar\"}],\"carpet\":[{\"aaxis\":{\"endlinecolor\":\"#2a3f5f\",\"gridcolor\":\"white\",\"linecolor\":\"white\",\"minorgridcolor\":\"white\",\"startlinecolor\":\"#2a3f5f\"},\"baxis\":{\"endlinecolor\":\"#2a3f5f\",\"gridcolor\":\"white\",\"linecolor\":\"white\",\"minorgridcolor\":\"white\",\"startlinecolor\":\"#2a3f5f\"},\"type\":\"carpet\"}],\"choropleth\":[{\"colorbar\":{\"outlinewidth\":0,\"ticks\":\"\"},\"type\":\"choropleth\"}],\"contourcarpet\":[{\"colorbar\":{\"outlinewidth\":0,\"ticks\":\"\"},\"type\":\"contourcarpet\"}],\"contour\":[{\"colorbar\":{\"outlinewidth\":0,\"ticks\":\"\"},\"colorscale\":[[0.0,\"#0d0887\"],[0.1111111111111111,\"#46039f\"],[0.2222222222222222,\"#7201a8\"],[0.3333333333333333,\"#9c179e\"],[0.4444444444444444,\"#bd3786\"],[0.5555555555555556,\"#d8576b\"],[0.6666666666666666,\"#ed7953\"],[0.7777777777777778,\"#fb9f3a\"],[0.8888888888888888,\"#fdca26\"],[1.0,\"#f0f921\"]],\"type\":\"contour\"}],\"heatmapgl\":[{\"colorbar\":{\"outlinewidth\":0,\"ticks\":\"\"},\"colorscale\":[[0.0,\"#0d0887\"],[0.1111111111111111,\"#46039f\"],[0.2222222222222222,\"#7201a8\"],[0.3333333333333333,\"#9c179e\"],[0.4444444444444444,\"#bd3786\"],[0.5555555555555556,\"#d8576b\"],[0.6666666666666666,\"#ed7953\"],[0.7777777777777778,\"#fb9f3a\"],[0.8888888888888888,\"#fdca26\"],[1.0,\"#f0f921\"]],\"type\":\"heatmapgl\"}],\"heatmap\":[{\"colorbar\":{\"outlinewidth\":0,\"ticks\":\"\"},\"colorscale\":[[0.0,\"#0d0887\"],[0.1111111111111111,\"#46039f\"],[0.2222222222222222,\"#7201a8\"],[0.3333333333333333,\"#9c179e\"],[0.4444444444444444,\"#bd3786\"],[0.5555555555555556,\"#d8576b\"],[0.6666666666666666,\"#ed7953\"],[0.7777777777777778,\"#fb9f3a\"],[0.8888888888888888,\"#fdca26\"],[1.0,\"#f0f921\"]],\"type\":\"heatmap\"}],\"histogram2dcontour\":[{\"colorbar\":{\"outlinewidth\":0,\"ticks\":\"\"},\"colorscale\":[[0.0,\"#0d0887\"],[0.1111111111111111,\"#46039f\"],[0.2222222222222222,\"#7201a8\"],[0.3333333333333333,\"#9c179e\"],[0.4444444444444444,\"#bd3786\"],[0.5555555555555556,\"#d8576b\"],[0.6666666666666666,\"#ed7953\"],[0.7777777777777778,\"#fb9f3a\"],[0.8888888888888888,\"#fdca26\"],[1.0,\"#f0f921\"]],\"type\":\"histogram2dcontour\"}],\"histogram2d\":[{\"colorbar\":{\"outlinewidth\":0,\"ticks\":\"\"},\"colorscale\":[[0.0,\"#0d0887\"],[0.1111111111111111,\"#46039f\"],[0.2222222222222222,\"#7201a8\"],[0.3333333333333333,\"#9c179e\"],[0.4444444444444444,\"#bd3786\"],[0.5555555555555556,\"#d8576b\"],[0.6666666666666666,\"#ed7953\"],[0.7777777777777778,\"#fb9f3a\"],[0.8888888888888888,\"#fdca26\"],[1.0,\"#f0f921\"]],\"type\":\"histogram2d\"}],\"histogram\":[{\"marker\":{\"pattern\":{\"fillmode\":\"overlay\",\"size\":10,\"solidity\":0.2}},\"type\":\"histogram\"}],\"mesh3d\":[{\"colorbar\":{\"outlinewidth\":0,\"ticks\":\"\"},\"type\":\"mesh3d\"}],\"parcoords\":[{\"line\":{\"colorbar\":{\"outlinewidth\":0,\"ticks\":\"\"}},\"type\":\"parcoords\"}],\"pie\":[{\"automargin\":true,\"type\":\"pie\"}],\"scatter3d\":[{\"line\":{\"colorbar\":{\"outlinewidth\":0,\"ticks\":\"\"}},\"marker\":{\"colorbar\":{\"outlinewidth\":0,\"ticks\":\"\"}},\"type\":\"scatter3d\"}],\"scattercarpet\":[{\"marker\":{\"colorbar\":{\"outlinewidth\":0,\"ticks\":\"\"}},\"type\":\"scattercarpet\"}],\"scattergeo\":[{\"marker\":{\"colorbar\":{\"outlinewidth\":0,\"ticks\":\"\"}},\"type\":\"scattergeo\"}],\"scattergl\":[{\"marker\":{\"colorbar\":{\"outlinewidth\":0,\"ticks\":\"\"}},\"type\":\"scattergl\"}],\"scattermapbox\":[{\"marker\":{\"colorbar\":{\"outlinewidth\":0,\"ticks\":\"\"}},\"type\":\"scattermapbox\"}],\"scatterpolargl\":[{\"marker\":{\"colorbar\":{\"outlinewidth\":0,\"ticks\":\"\"}},\"type\":\"scatterpolargl\"}],\"scatterpolar\":[{\"marker\":{\"colorbar\":{\"outlinewidth\":0,\"ticks\":\"\"}},\"type\":\"scatterpolar\"}],\"scatter\":[{\"fillpattern\":{\"fillmode\":\"overlay\",\"size\":10,\"solidity\":0.2},\"type\":\"scatter\"}],\"scatterternary\":[{\"marker\":{\"colorbar\":{\"outlinewidth\":0,\"ticks\":\"\"}},\"type\":\"scatterternary\"}],\"surface\":[{\"colorbar\":{\"outlinewidth\":0,\"ticks\":\"\"},\"colorscale\":[[0.0,\"#0d0887\"],[0.1111111111111111,\"#46039f\"],[0.2222222222222222,\"#7201a8\"],[0.3333333333333333,\"#9c179e\"],[0.4444444444444444,\"#bd3786\"],[0.5555555555555556,\"#d8576b\"],[0.6666666666666666,\"#ed7953\"],[0.7777777777777778,\"#fb9f3a\"],[0.8888888888888888,\"#fdca26\"],[1.0,\"#f0f921\"]],\"type\":\"surface\"}],\"table\":[{\"cells\":{\"fill\":{\"color\":\"#EBF0F8\"},\"line\":{\"color\":\"white\"}},\"header\":{\"fill\":{\"color\":\"#C8D4E3\"},\"line\":{\"color\":\"white\"}},\"type\":\"table\"}]},\"layout\":{\"annotationdefaults\":{\"arrowcolor\":\"#2a3f5f\",\"arrowhead\":0,\"arrowwidth\":1},\"autotypenumbers\":\"strict\",\"coloraxis\":{\"colorbar\":{\"outlinewidth\":0,\"ticks\":\"\"}},\"colorscale\":{\"diverging\":[[0,\"#8e0152\"],[0.1,\"#c51b7d\"],[0.2,\"#de77ae\"],[0.3,\"#f1b6da\"],[0.4,\"#fde0ef\"],[0.5,\"#f7f7f7\"],[0.6,\"#e6f5d0\"],[0.7,\"#b8e186\"],[0.8,\"#7fbc41\"],[0.9,\"#4d9221\"],[1,\"#276419\"]],\"sequential\":[[0.0,\"#0d0887\"],[0.1111111111111111,\"#46039f\"],[0.2222222222222222,\"#7201a8\"],[0.3333333333333333,\"#9c179e\"],[0.4444444444444444,\"#bd3786\"],[0.5555555555555556,\"#d8576b\"],[0.6666666666666666,\"#ed7953\"],[0.7777777777777778,\"#fb9f3a\"],[0.8888888888888888,\"#fdca26\"],[1.0,\"#f0f921\"]],\"sequentialminus\":[[0.0,\"#0d0887\"],[0.1111111111111111,\"#46039f\"],[0.2222222222222222,\"#7201a8\"],[0.3333333333333333,\"#9c179e\"],[0.4444444444444444,\"#bd3786\"],[0.5555555555555556,\"#d8576b\"],[0.6666666666666666,\"#ed7953\"],[0.7777777777777778,\"#fb9f3a\"],[0.8888888888888888,\"#fdca26\"],[1.0,\"#f0f921\"]]},\"colorway\":[\"#636efa\",\"#EF553B\",\"#00cc96\",\"#ab63fa\",\"#FFA15A\",\"#19d3f3\",\"#FF6692\",\"#B6E880\",\"#FF97FF\",\"#FECB52\"],\"font\":{\"color\":\"#2a3f5f\"},\"geo\":{\"bgcolor\":\"white\",\"lakecolor\":\"white\",\"landcolor\":\"#E5ECF6\",\"showlakes\":true,\"showland\":true,\"subunitcolor\":\"white\"},\"hoverlabel\":{\"align\":\"left\"},\"hovermode\":\"closest\",\"mapbox\":{\"style\":\"light\"},\"paper_bgcolor\":\"white\",\"plot_bgcolor\":\"#E5ECF6\",\"polar\":{\"angularaxis\":{\"gridcolor\":\"white\",\"linecolor\":\"white\",\"ticks\":\"\"},\"bgcolor\":\"#E5ECF6\",\"radialaxis\":{\"gridcolor\":\"white\",\"linecolor\":\"white\",\"ticks\":\"\"}},\"scene\":{\"xaxis\":{\"backgroundcolor\":\"#E5ECF6\",\"gridcolor\":\"white\",\"gridwidth\":2,\"linecolor\":\"white\",\"showbackground\":true,\"ticks\":\"\",\"zerolinecolor\":\"white\"},\"yaxis\":{\"backgroundcolor\":\"#E5ECF6\",\"gridcolor\":\"white\",\"gridwidth\":2,\"linecolor\":\"white\",\"showbackground\":true,\"ticks\":\"\",\"zerolinecolor\":\"white\"},\"zaxis\":{\"backgroundcolor\":\"#E5ECF6\",\"gridcolor\":\"white\",\"gridwidth\":2,\"linecolor\":\"white\",\"showbackground\":true,\"ticks\":\"\",\"zerolinecolor\":\"white\"}},\"shapedefaults\":{\"line\":{\"color\":\"#2a3f5f\"}},\"ternary\":{\"aaxis\":{\"gridcolor\":\"white\",\"linecolor\":\"white\",\"ticks\":\"\"},\"baxis\":{\"gridcolor\":\"white\",\"linecolor\":\"white\",\"ticks\":\"\"},\"bgcolor\":\"#E5ECF6\",\"caxis\":{\"gridcolor\":\"white\",\"linecolor\":\"white\",\"ticks\":\"\"}},\"title\":{\"x\":0.05},\"xaxis\":{\"automargin\":true,\"gridcolor\":\"white\",\"linecolor\":\"white\",\"ticks\":\"\",\"title\":{\"standoff\":15},\"zerolinecolor\":\"white\",\"zerolinewidth\":2},\"yaxis\":{\"automargin\":true,\"gridcolor\":\"white\",\"linecolor\":\"white\",\"ticks\":\"\",\"title\":{\"standoff\":15},\"zerolinecolor\":\"white\",\"zerolinewidth\":2}}},\"title\":{\"text\":\"Pressure and Density during NPT Equilibration\"},\"xaxis\":{\"anchor\":\"y\",\"domain\":[0.0,0.45],\"title\":{\"text\":\"Time (ps)\"}},\"yaxis\":{\"anchor\":\"x\",\"domain\":[0.0,1.0],\"title\":{\"text\":\"Pressure (bar)\"}},\"xaxis2\":{\"anchor\":\"y2\",\"domain\":[0.55,1.0],\"title\":{\"text\":\"Time (ps)\"}},\"yaxis2\":{\"anchor\":\"x2\",\"domain\":[0.0,1.0],\"title\":{\"text\":\"Density (Kg*m^-3)\"}}},                        {\"responsive\": true}                    ).then(function(){\n",
       "                            \n",
       "var gd = document.getElementById('c58e3d62-87cd-4e99-8a6d-a599a3a3d702');\n",
       "var x = new MutationObserver(function (mutations, observer) {{\n",
       "        var display = window.getComputedStyle(gd).display;\n",
       "        if (!display || display === 'none') {{\n",
       "            console.log([gd, 'removed!']);\n",
       "            Plotly.purge(gd);\n",
       "            observer.disconnect();\n",
       "        }}\n",
       "}});\n",
       "\n",
       "// Listen for the removal of the full notebook cells\n",
       "var notebookContainer = gd.closest('#notebook-container');\n",
       "if (notebookContainer) {{\n",
       "    x.observe(notebookContainer, {childList: true});\n",
       "}}\n",
       "\n",
       "// Listen for the clearing of the current output cell\n",
       "var outputEl = gd.closest('.output');\n",
       "if (outputEl) {{\n",
       "    x.observe(outputEl, {childList: true});\n",
       "}}\n",
       "\n",
       "                        })                };                });            </script>        </div>"
      ]
     },
     "metadata": {},
     "output_type": "display_data"
    }
   ],
   "source": [
    "import plotly\n",
    "from plotly import subplots\n",
    "import plotly.graph_objs as go\n",
    "\n",
    "# Read pressure and density data from file \n",
    "with open(output_npt_pd_xvg,'r') as pd_file:\n",
    "    x,y,z = map(\n",
    "        list,\n",
    "        zip(*[\n",
    "            (float(line.split()[0]),float(line.split()[1]),float(line.split()[2]))\n",
    "            for line in pd_file \n",
    "            if not line.startswith((\"#\",\"@\")) \n",
    "        ])\n",
    "    )\n",
    "\n",
    "plotly.offline.init_notebook_mode(connected=True)\n",
    "\n",
    "trace1 = go.Scatter(\n",
    "    x=x,y=y\n",
    ")\n",
    "trace2 = go.Scatter(\n",
    "    x=x,y=z\n",
    ")\n",
    "\n",
    "fig = subplots.make_subplots(rows=1, cols=2, print_grid=False)\n",
    "\n",
    "fig.append_trace(trace1, 1, 1)\n",
    "fig.append_trace(trace2, 1, 2)\n",
    "\n",
    "fig['layout']['xaxis1'].update(title='Time (ps)')\n",
    "fig['layout']['xaxis2'].update(title='Time (ps)')\n",
    "fig['layout']['yaxis1'].update(title='Pressure (bar)')\n",
    "fig['layout']['yaxis2'].update(title='Density (Kg*m^-3)')\n",
    "\n",
    "fig['layout'].update(title='Pressure and Density during NPT Equilibration')\n",
    "fig['layout'].update(showlegend=False)\n",
    "\n",
    "plotly.offline.iplot(fig)"
   ]
  },
  {
   "cell_type": "markdown",
   "metadata": {},
   "source": [
    "<img src='images/fig3.png' width=\"50%\" height=\"50%\"></img>"
   ]
  },
  {
   "cell_type": "markdown",
   "metadata": {},
   "source": [
    "<a id=\"free\"></a>\n",
    "***\n",
    "## Free Molecular Dynamics Simulation\n",
    "Upon completion of the **two equilibration phases (NVT and NPT)**, the system is now well-equilibrated at the desired temperature and pressure. The **position restraints** can now be released. The last step of the **protein-ligand complex** MD setup is a short, **free MD simulation**, to ensure the robustness of the system. \n",
    "- [Step 1](#mdStep1): Creating portable binary run file to run a **free MD simulation**.\n",
    "- [Step 2](#mdStep2): Run short MD simulation of the **protein-ligand complex**.\n",
    "- [Step 3](#mdStep3): Checking results for the final step of the setup process, the **free MD run**. Plotting **Root Mean Square deviation (RMSd)** and **Radius of Gyration (Rgyr)** by time during the **free MD run** step. \n",
    "***\n",
    "**Building Blocks** used:\n",
    " - [Grompp](https://biobb-md.readthedocs.io/en/latest/gromacs.html#module-gromacs.grompp) from **biobb_md.gromacs.grompp** \n",
    " - [Mdrun](https://biobb-md.readthedocs.io/en/latest/gromacs.html#module-gromacs.mdrun) from **biobb_md.gromacs.mdrun** \n",
    " - [GMXRms](https://biobb-analysis.readthedocs.io/en/latest/gromacs.html#module-gromacs.gmx_rms) from **biobb_analysis.gromacs.gmx_rms**:\n",
    "     * Wrapper of the GROMACS rms module for performing a Root Mean Square deviation (RMSd) analysis from a given GROMACS compatible trajectory.\n",
    "     \n",
    "     \n",
    " - [GMXRgyr](https://biobb-analysis.readthedocs.io/en/latest/gromacs.html#module-gromacs.gmx_rgyr) from **biobb_analysis.gromacs.gmx_rgyr**:\n",
    "     * Wrapper of the GROMACS gyrate module for computing the radius of gyration (Rgyr) of a molecule about the x-, y- and z-axes, as a function of time, from a given GROMACS compatible trajectory.\n",
    "***"
   ]
  },
  {
   "cell_type": "markdown",
   "metadata": {},
   "source": [
    "<a id=\"mdStep1\"></a>\n",
    "### Step 1: Creating portable binary run file to run a free MD simulation"
   ]
  },
  {
   "cell_type": "code",
   "execution_count": 41,
   "metadata": {
    "scrolled": true
   },
   "outputs": [
    {
     "name": "stdout",
     "output_type": "stream",
     "text": [
      "2022-04-22 10:39:01,942 [MainThread  ] [INFO ]  GROMACS Grompp 20191 version detected\n",
      "2022-04-22 10:39:01,947 [MainThread  ] [INFO ]  Extracting: /home/lg/repos/javerianaMD/simulation/md-biobb/protein_ligand_genion_top.zip\n",
      "2022-04-22 10:39:01,948 [MainThread  ] [INFO ]  to:\n",
      "2022-04-22 10:39:01,949 [MainThread  ] [INFO ]  ['e407a8e2-2a38-4bca-867b-83869a553344/ligand.top', 'e407a8e2-2a38-4bca-867b-83869a553344/ligand_params.itp', 'e407a8e2-2a38-4bca-867b-83869a553344/ligand_posres.itp', 'e407a8e2-2a38-4bca-867b-83869a553344/posre.itp']\n",
      "2022-04-22 10:39:01,950 [MainThread  ] [INFO ]  Unzipping: \n",
      "2022-04-22 10:39:01,950 [MainThread  ] [INFO ]  protein_ligand_genion_top.zip\n",
      "2022-04-22 10:39:01,951 [MainThread  ] [INFO ]  To: \n",
      "2022-04-22 10:39:01,951 [MainThread  ] [INFO ]  e407a8e2-2a38-4bca-867b-83869a553344/ligand.top\n",
      "2022-04-22 10:39:01,952 [MainThread  ] [INFO ]  e407a8e2-2a38-4bca-867b-83869a553344/ligand_params.itp\n",
      "2022-04-22 10:39:01,953 [MainThread  ] [INFO ]  e407a8e2-2a38-4bca-867b-83869a553344/ligand_posres.itp\n",
      "2022-04-22 10:39:01,954 [MainThread  ] [INFO ]  e407a8e2-2a38-4bca-867b-83869a553344/posre.itp\n",
      "2022-04-22 10:39:01,955 [MainThread  ] [INFO ]  Not using any container\n",
      "2022-04-22 10:39:02,223 [MainThread  ] [INFO ]  gmx -nobackup -nocopyright grompp -f 4acb2374-b05e-4cc7-be02-16280fdaa131/grompp.mdp -c protein_ligand_npt.gro -r protein_ligand_npt.gro -p e407a8e2-2a38-4bca-867b-83869a553344/ligand.top -o protein_ligand_gppmd.tpr -po mdout.mdp -maxwarn 0 -t protein_ligand_npt.cpt\n",
      "\n",
      "2022-04-22 10:39:02,225 [MainThread  ] [INFO ]  Exit code 0\n",
      "\n",
      "2022-04-22 10:39:02,225 [MainThread  ] [INFO ]  turning H bonds into constraints...\n",
      "turning H bonds into constraints...\n",
      "turning H bonds into constraints...\n",
      "turning H bonds into constraints...\n",
      "turning H bonds into constraints...\n",
      "Analysing residue names:\n",
      "There are:   137    Protein residues\n",
      "There are:     1      Other residues\n",
      "There are:  5792      Water residues\n",
      "There are:    16        Ion residues\n",
      "Analysing Protein...\n",
      "Analysing residues not classified as Protein/DNA/RNA/Water and splitting into groups...\n",
      "Analysing residues not classified as Protein/DNA/RNA/Water and splitting into groups...\n",
      "Determining Verlet buffer for a tolerance of 0.005 kJ/mol/ps at 300 K\n",
      "Calculated rlist for 1x1 atom pair-list as 1.034 nm, buffer size 0.034 nm\n",
      "Set rlist, assuming 4x4 atom pair-list, to 1.000 nm, buffer size 0.000 nm\n",
      "Note that mdrun will redetermine rlist based on the actual pair-list setup\n",
      "Calculating fourier grid dimensions for X Y Z\n",
      "Using a fourier grid of 56x56x56, spacing 0.113 0.113 0.113\n",
      "This run will generate roughly 7 Mb of data\n",
      "\n",
      "2022-04-22 10:39:02,226 [MainThread  ] [INFO ]                        :-) GROMACS - gmx grompp, 2019.1 (-:\n",
      "\n",
      "Executable:   /opt/miniconda3/envs/biobb_env/bin/gmx\n",
      "Data prefix:  /opt/miniconda3/envs/biobb_env\n",
      "Working dir:  /home/lg/repos/javerianaMD/simulation/md-biobb\n",
      "Command line:\n",
      "  gmx -nobackup -nocopyright grompp -f 4acb2374-b05e-4cc7-be02-16280fdaa131/grompp.mdp -c protein_ligand_npt.gro -r protein_ligand_npt.gro -p e407a8e2-2a38-4bca-867b-83869a553344/ligand.top -o protein_ligand_gppmd.tpr -po mdout.mdp -maxwarn 0 -t protein_ligand_npt.cpt\n",
      "\n",
      "Setting the LD random seed to -888815832\n",
      "Generated 2485 of the 2485 non-bonded parameter combinations\n",
      "Generating 1-4 interactions: fudge = 0.5\n",
      "Generated 2485 of the 2485 1-4 parameter combinations\n",
      "Excluding 3 bonded neighbours molecule type 'Protein_chain_A'\n",
      "Excluding 3 bonded neighbours molecule type 'ligand_params'\n",
      "Excluding 2 bonded neighbours molecule type 'SOL'\n",
      "Excluding 1 bonded neighbours molecule type 'NA'\n",
      "Excluding 1 bonded neighbours molecule type 'CL'\n",
      "Removing all charge groups because cutoff-scheme=Verlet\n",
      "\n",
      "NOTE 1 [file ligand.top, line 21207]:\n",
      "  The bond in molecule-type ligand_params between atoms 13 C10 and 14 C11\n",
      "  has an estimated oscillational period of 1.8e-02 ps, which is less than\n",
      "  10 times the time step of 2.0e-03 ps.\n",
      "  Maybe you forgot to change the constraints mdp option.\n",
      "\n",
      "Number of degrees of freedom in T-Coupling group Protein is 5608.58\n",
      "Number of degrees of freedom in T-Coupling group non-Protein is 34857.41\n",
      "Reading Coordinates, Velocities and Box size from old trajectory\n",
      "Will read whole trajectory\n",
      "Last frame         -1 time   10.000   \n",
      "Using frame at t = 10 ps\n",
      "Starting time for run is 0 ps\n",
      "Estimate for the relative computational load of the PME mesh part: 0.20\n",
      "\n",
      "There was 1 note\n",
      "\n",
      "GROMACS reminds you: \"May the Force Be With You\" (Star Wars)\n",
      "\n",
      "\n",
      "2022-04-22 10:39:02,234 [MainThread  ] [INFO ]  Removed: ['mdout.mdp', 'e407a8e2-2a38-4bca-867b-83869a553344', '4acb2374-b05e-4cc7-be02-16280fdaa131']\n"
     ]
    },
    {
     "data": {
      "text/plain": [
       "0"
      ]
     },
     "execution_count": 41,
     "metadata": {},
     "output_type": "execute_result"
    }
   ],
   "source": [
    "# Grompp: Creating portable binary run file for mdrun\n",
    "from biobb_md.gromacs.grompp import grompp\n",
    "\n",
    "# Create prop dict and inputs/outputs\n",
    "prop = {\n",
    "    'mdp':{\n",
    "        #'nsteps':'500000' # 1 ns (500,000 steps x 2fs per step)\n",
    "        #'nsteps':'5000' # 10 ps (5,000 steps x 2fs per step)\n",
    "        'nsteps':'25000' # 50 ps (25,000 steps x 2fs per step)\n",
    "    },\n",
    "    'simulation_type':'free'\n",
    "}\n",
    "output_gppmd_tpr = pdbName+'_'+ligandName + '_gppmd.tpr'\n",
    "\n",
    "# Create and launch bb\n",
    "grompp(input_gro_path     = output_npt_gro,\n",
    "       input_top_zip_path = output_genion_top_zip,\n",
    "       output_tpr_path    = output_gppmd_tpr,\n",
    "       input_cpt_path     = output_npt_cpt,\n",
    "       properties         = prop)"
   ]
  },
  {
   "cell_type": "markdown",
   "metadata": {},
   "source": [
    "<a id=\"mdStep2\"></a>\n",
    "### Step 2: Running short free MD simulation"
   ]
  },
  {
   "cell_type": "code",
   "execution_count": 42,
   "metadata": {
    "scrolled": false
   },
   "outputs": [
    {
     "name": "stdout",
     "output_type": "stream",
     "text": [
      "2022-04-22 10:39:02,262 [MainThread  ] [INFO ]  GROMACS Mdrun 20191 version detected\n",
      "2022-04-22 10:39:02,263 [MainThread  ] [INFO ]  Not using any container\n",
      "2022-04-22 10:47:35,293 [MainThread  ] [INFO ]  gmx -nobackup -nocopyright mdrun -s protein_ligand_gppmd.tpr -o protein_ligand_md.trr -c protein_ligand_md.gro -e protein_ligand_md.edr -g protein_ligand_md.log -cpo protein_ligand_md.cpt\n",
      "\n",
      "2022-04-22 10:47:35,294 [MainThread  ] [INFO ]  Exit code 0\n",
      "\n",
      "2022-04-22 10:47:35,294 [MainThread  ] [INFO ]                        :-) GROMACS - gmx mdrun, 2019.1 (-:\n",
      "\n",
      "Executable:   /opt/miniconda3/envs/biobb_env/bin/gmx\n",
      "Data prefix:  /opt/miniconda3/envs/biobb_env\n",
      "Working dir:  /home/lg/repos/javerianaMD/simulation/md-biobb\n",
      "Command line:\n",
      "  gmx -nobackup -nocopyright mdrun -s protein_ligand_gppmd.tpr -o protein_ligand_md.trr -c protein_ligand_md.gro -e protein_ligand_md.edr -g protein_ligand_md.log -cpo protein_ligand_md.cpt\n",
      "\n",
      "Compiled SIMD: SSE2, but for this host/run AVX2_256 might be better (see log).\n",
      "The current CPU can measure timings more accurately than the code in\n",
      "gmx mdrun was configured to use. This might affect your simulation\n",
      "speed as accurate timings are needed for load-balancing.\n",
      "Please consider rebuilding gmx mdrun with the GMX_USE_RDTSCP=ON CMake option.\n",
      "Reading file protein_ligand_gppmd.tpr, VERSION 2019.1 (single precision)\n",
      "Changing nstlist from 10 to 50, rlist from 1 to 1.112\n",
      "\n",
      "\n",
      "Using 1 MPI thread\n",
      "Using 4 OpenMP threads \n",
      "\n",
      "starting mdrun 'Protein in water'\n",
      "25000 steps,     50.0 ps.\n",
      "\n",
      "Writing final coordinates.\n",
      "\n",
      "               Core t (s)   Wall t (s)        (%)\n",
      "       Time:     2045.932      511.483      400.0\n",
      "                 (ns/day)    (hour/ns)\n",
      "Performance:        8.446        2.841\n",
      "\n",
      "GROMACS reminds you: \"Computer science is no more about computers than astronomy is about telescopes\" (Edsger Dijkstra)\n",
      "\n",
      "\n",
      "2022-04-22 10:47:35,295 [MainThread  ] [INFO ]  Removed: []\n"
     ]
    },
    {
     "data": {
      "text/plain": [
       "0"
      ]
     },
     "execution_count": 42,
     "metadata": {},
     "output_type": "execute_result"
    }
   ],
   "source": [
    "# Mdrun: Running free dynamics\n",
    "from biobb_md.gromacs.mdrun import mdrun\n",
    "\n",
    "# Create prop dict and inputs/outputs\n",
    "output_md_trr = pdbName+'_'+ligandName+'_md.trr'\n",
    "output_md_gro = pdbName+'_'+ligandName+'_md.gro'\n",
    "output_md_edr = pdbName+'_'+ligandName+'_md.edr'\n",
    "output_md_log = pdbName+'_'+ligandName+'_md.log'\n",
    "output_md_cpt = pdbName+'_'+ligandName+'_md.cpt'\n",
    "\n",
    "# Create and launch bb\n",
    "mdrun(input_tpr_path=output_gppmd_tpr,\n",
    "      output_trr_path=output_md_trr,\n",
    "      output_gro_path=output_md_gro,\n",
    "      output_edr_path=output_md_edr,\n",
    "      output_log_path=output_md_log,\n",
    "      output_cpt_path=output_md_cpt)"
   ]
  },
  {
   "cell_type": "markdown",
   "metadata": {},
   "source": [
    "<a id=\"mdStep3\"></a>\n",
    "### Step 3: Checking free MD simulation results\n",
    "Checking results for the final step of the setup process, the **free MD run**. Plotting **Root Mean Square deviation (RMSd)** and **Radius of Gyration (Rgyr)** by time during the **free MD run** step. **RMSd** against the **experimental structure** (input structure of the pipeline) and against the **minimized and equilibrated structure** (output structure of the NPT equilibration step)."
   ]
  },
  {
   "cell_type": "code",
   "execution_count": 43,
   "metadata": {
    "scrolled": false
   },
   "outputs": [
    {
     "name": "stdout",
     "output_type": "stream",
     "text": [
      "2022-04-22 10:47:35,310 [MainThread  ] [INFO ]  Not using any container\n",
      "2022-04-22 10:47:35,396 [MainThread  ] [INFO ]  echo 'Backbone Backbone' | gmx rms -s /home/lg/repos/javerianaMD/simulation/md-biobb/protein_ligand_gppmd.tpr -f /home/lg/repos/javerianaMD/simulation/md-biobb/protein_ligand_md.trr -o protein_ligand_rms_first.xvg -xvg none\n",
      "\n",
      "2022-04-22 10:47:35,397 [MainThread  ] [INFO ]  Exit code 0\n",
      "\n",
      "2022-04-22 10:47:35,398 [MainThread  ] [INFO ]  Selected 4: 'Backbone'\n",
      "Selected 4: 'Backbone'\n",
      "\n",
      "2022-04-22 10:47:35,399 [MainThread  ] [INFO ]                         :-) GROMACS - gmx rms, 2019.1 (-:\n",
      "\n",
      "                            GROMACS is written by:\n",
      "     Emile Apol      Rossen Apostolov      Paul Bauer     Herman J.C. Berendsen\n",
      "    Par Bjelkmar      Christian Blau   Viacheslav Bolnykh     Kevin Boyd    \n",
      " Aldert van Buuren   Rudi van Drunen     Anton Feenstra       Alan Gray     \n",
      "  Gerrit Groenhof     Anca Hamuraru    Vincent Hindriksen  M. Eric Irrgang  \n",
      "  Aleksei Iupinov   Christoph Junghans     Joe Jordan     Dimitrios Karkoulis\n",
      "    Peter Kasson        Jiri Kraus      Carsten Kutzner      Per Larsson    \n",
      "  Justin A. Lemkul    Viveca Lindahl    Magnus Lundborg     Erik Marklund   \n",
      "    Pascal Merz     Pieter Meulenhoff    Teemu Murtola       Szilard Pall   \n",
      "    Sander Pronk      Roland Schulz      Michael Shirts    Alexey Shvetsov  \n",
      "   Alfons Sijbers     Peter Tieleman      Jon Vincent      Teemu Virolainen \n",
      " Christian Wennberg    Maarten Wolf   \n",
      "                           and the project leaders:\n",
      "        Mark Abraham, Berk Hess, Erik Lindahl, and David van der Spoel\n",
      "\n",
      "Copyright (c) 1991-2000, University of Groningen, The Netherlands.\n",
      "Copyright (c) 2001-2018, The GROMACS development team at\n",
      "Uppsala University, Stockholm University and\n",
      "the Royal Institute of Technology, Sweden.\n",
      "check out http://www.gromacs.org for more information.\n",
      "\n",
      "GROMACS is free software; you can redistribute it and/or modify it\n",
      "under the terms of the GNU Lesser General Public License\n",
      "as published by the Free Software Foundation; either version 2.1\n",
      "of the License, or (at your option) any later version.\n",
      "\n",
      "GROMACS:      gmx rms, version 2019.1\n",
      "Executable:   /opt/miniconda3/envs/biobb_env/bin/gmx\n",
      "Data prefix:  /opt/miniconda3/envs/biobb_env\n",
      "Working dir:  /home/lg/repos/javerianaMD/simulation/md-biobb\n",
      "Command line:\n",
      "  gmx rms -s /home/lg/repos/javerianaMD/simulation/md-biobb/protein_ligand_gppmd.tpr -f /home/lg/repos/javerianaMD/simulation/md-biobb/protein_ligand_md.trr -o protein_ligand_rms_first.xvg -xvg none\n",
      "\n",
      "Reading file /home/lg/repos/javerianaMD/simulation/md-biobb/protein_ligand_gppmd.tpr, VERSION 2019.1 (single precision)\n",
      "Reading file /home/lg/repos/javerianaMD/simulation/md-biobb/protein_ligand_gppmd.tpr, VERSION 2019.1 (single precision)\n",
      "Select group for least squares fit\n",
      "Group     0 (         System) has 19644 elements\n",
      "Group     1 (        Protein) has  2232 elements\n",
      "Group     2 (      Protein-H) has  1145 elements\n",
      "Group     3 (        C-alpha) has   137 elements\n",
      "Group     4 (       Backbone) has   411 elements\n",
      "Group     5 (      MainChain) has   549 elements\n",
      "Group     6 (   MainChain+Cb) has   676 elements\n",
      "Group     7 (    MainChain+H) has   685 elements\n",
      "Group     8 (      SideChain) has  1547 elements\n",
      "Group     9 (    SideChain-H) has   596 elements\n",
      "Group    10 (    Prot-Masses) has  2232 elements\n",
      "Group    11 (    non-Protein) has 17412 elements\n",
      "Group    12 (          Other) has    20 elements\n",
      "Group    13 (            GEN) has    20 elements\n",
      "Group    14 (             NA) has    10 elements\n",
      "Group    15 (             CL) has     6 elements\n",
      "Group    16 (          Water) has 17376 elements\n",
      "Group    17 (            SOL) has 17376 elements\n",
      "Group    18 (      non-Water) has  2268 elements\n",
      "Group    19 (            Ion) has    16 elements\n",
      "Group    20 (            GEN) has    20 elements\n",
      "Group    21 (             NA) has    10 elements\n",
      "Group    22 (             CL) has     6 elements\n",
      "Group    23 ( Water_and_ions) has 17392 elements\n",
      "Select a group: Select group for RMSD calculation\n",
      "Group     0 (         System) has 19644 elements\n",
      "Group     1 (        Protein) has  2232 elements\n",
      "Group     2 (      Protein-H) has  1145 elements\n",
      "Group     3 (        C-alpha) has   137 elements\n",
      "Group     4 (       Backbone) has   411 elements\n",
      "Group     5 (      MainChain) has   549 elements\n",
      "Group     6 (   MainChain+Cb) has   676 elements\n",
      "Group     7 (    MainChain+H) has   685 elements\n",
      "Group     8 (      SideChain) has  1547 elements\n",
      "Group     9 (    SideChain-H) has   596 elements\n",
      "Group    10 (    Prot-Masses) has  2232 elements\n",
      "Group    11 (    non-Protein) has 17412 elements\n",
      "Group    12 (          Other) has    20 elements\n",
      "Group    13 (            GEN) has    20 elements\n",
      "Group    14 (             NA) has    10 elements\n",
      "Group    15 (             CL) has     6 elements\n",
      "Group    16 (          Water) has 17376 elements\n",
      "Group    17 (            SOL) has 17376 elements\n",
      "Group    18 (      non-Water) has  2268 elements\n",
      "Group    19 (            Ion) has    16 elements\n",
      "Group    20 (            GEN) has    20 elements\n",
      "Group    21 (             NA) has    10 elements\n",
      "Group    22 (             CL) has     6 elements\n",
      "Group    23 ( Water_and_ions) has 17392 elements\n",
      "Select a group: trr version: GMX_trn_file (single precision)\n",
      "Last frame          5 time   50.000   \n",
      "\n",
      "Back Off! I just backed up protein_ligand_rms_first.xvg to ./#protein_ligand_rms_first.xvg.1#\n",
      "\n",
      "GROMACS reminds you: \"Disturb the Peace of a John Q Citizen\" (Urban Dance Squad)\n",
      "\n",
      "\n"
     ]
    },
    {
     "data": {
      "text/plain": [
       "0"
      ]
     },
     "execution_count": 43,
     "metadata": {},
     "output_type": "execute_result"
    }
   ],
   "source": [
    "# GMXRms: Computing Root Mean Square deviation to analyse structural stability \n",
    "#         RMSd against minimized and equilibrated snapshot (backbone atoms)   \n",
    "\n",
    "from biobb_analysis.gromacs.gmx_rms import gmx_rms\n",
    "\n",
    "# Create prop dict and inputs/outputs\n",
    "output_rms_first = pdbName+'_'+ligandName+'_rms_first.xvg'\n",
    "prop = {\n",
    "    'selection':  'Backbone'\n",
    "}\n",
    "\n",
    "# Create and launch bb\n",
    "gmx_rms(input_structure_path=output_gppmd_tpr,\n",
    "         input_traj_path=output_md_trr,\n",
    "         output_xvg_path=output_rms_first, \n",
    "          properties=prop)"
   ]
  },
  {
   "cell_type": "code",
   "execution_count": 44,
   "metadata": {
    "scrolled": true
   },
   "outputs": [
    {
     "name": "stdout",
     "output_type": "stream",
     "text": [
      "2022-04-22 10:47:35,419 [MainThread  ] [INFO ]  Not using any container\n",
      "2022-04-22 10:47:35,507 [MainThread  ] [INFO ]  echo 'Backbone Backbone' | gmx rms -s /home/lg/repos/javerianaMD/simulation/md-biobb/protein_ligand_gppmin.tpr -f /home/lg/repos/javerianaMD/simulation/md-biobb/protein_ligand_md.trr -o protein_ligand_rms_exp.xvg -xvg none\n",
      "\n",
      "2022-04-22 10:47:35,508 [MainThread  ] [INFO ]  Exit code 0\n",
      "\n",
      "2022-04-22 10:47:35,509 [MainThread  ] [INFO ]  Selected 4: 'Backbone'\n",
      "Selected 4: 'Backbone'\n",
      "\n",
      "2022-04-22 10:47:35,509 [MainThread  ] [INFO ]                         :-) GROMACS - gmx rms, 2019.1 (-:\n",
      "\n",
      "                            GROMACS is written by:\n",
      "     Emile Apol      Rossen Apostolov      Paul Bauer     Herman J.C. Berendsen\n",
      "    Par Bjelkmar      Christian Blau   Viacheslav Bolnykh     Kevin Boyd    \n",
      " Aldert van Buuren   Rudi van Drunen     Anton Feenstra       Alan Gray     \n",
      "  Gerrit Groenhof     Anca Hamuraru    Vincent Hindriksen  M. Eric Irrgang  \n",
      "  Aleksei Iupinov   Christoph Junghans     Joe Jordan     Dimitrios Karkoulis\n",
      "    Peter Kasson        Jiri Kraus      Carsten Kutzner      Per Larsson    \n",
      "  Justin A. Lemkul    Viveca Lindahl    Magnus Lundborg     Erik Marklund   \n",
      "    Pascal Merz     Pieter Meulenhoff    Teemu Murtola       Szilard Pall   \n",
      "    Sander Pronk      Roland Schulz      Michael Shirts    Alexey Shvetsov  \n",
      "   Alfons Sijbers     Peter Tieleman      Jon Vincent      Teemu Virolainen \n",
      " Christian Wennberg    Maarten Wolf   \n",
      "                           and the project leaders:\n",
      "        Mark Abraham, Berk Hess, Erik Lindahl, and David van der Spoel\n",
      "\n",
      "Copyright (c) 1991-2000, University of Groningen, The Netherlands.\n",
      "Copyright (c) 2001-2018, The GROMACS development team at\n",
      "Uppsala University, Stockholm University and\n",
      "the Royal Institute of Technology, Sweden.\n",
      "check out http://www.gromacs.org for more information.\n",
      "\n",
      "GROMACS is free software; you can redistribute it and/or modify it\n",
      "under the terms of the GNU Lesser General Public License\n",
      "as published by the Free Software Foundation; either version 2.1\n",
      "of the License, or (at your option) any later version.\n",
      "\n",
      "GROMACS:      gmx rms, version 2019.1\n",
      "Executable:   /opt/miniconda3/envs/biobb_env/bin/gmx\n",
      "Data prefix:  /opt/miniconda3/envs/biobb_env\n",
      "Working dir:  /home/lg/repos/javerianaMD/simulation/md-biobb\n",
      "Command line:\n",
      "  gmx rms -s /home/lg/repos/javerianaMD/simulation/md-biobb/protein_ligand_gppmin.tpr -f /home/lg/repos/javerianaMD/simulation/md-biobb/protein_ligand_md.trr -o protein_ligand_rms_exp.xvg -xvg none\n",
      "\n",
      "Reading file /home/lg/repos/javerianaMD/simulation/md-biobb/protein_ligand_gppmin.tpr, VERSION 2019.1 (single precision)\n",
      "Reading file /home/lg/repos/javerianaMD/simulation/md-biobb/protein_ligand_gppmin.tpr, VERSION 2019.1 (single precision)\n",
      "Select group for least squares fit\n",
      "Group     0 (         System) has 19644 elements\n",
      "Group     1 (        Protein) has  2232 elements\n",
      "Group     2 (      Protein-H) has  1145 elements\n",
      "Group     3 (        C-alpha) has   137 elements\n",
      "Group     4 (       Backbone) has   411 elements\n",
      "Group     5 (      MainChain) has   549 elements\n",
      "Group     6 (   MainChain+Cb) has   676 elements\n",
      "Group     7 (    MainChain+H) has   685 elements\n",
      "Group     8 (      SideChain) has  1547 elements\n",
      "Group     9 (    SideChain-H) has   596 elements\n",
      "Group    10 (    Prot-Masses) has  2232 elements\n",
      "Group    11 (    non-Protein) has 17412 elements\n",
      "Group    12 (          Other) has    20 elements\n",
      "Group    13 (            GEN) has    20 elements\n",
      "Group    14 (             NA) has    10 elements\n",
      "Group    15 (             CL) has     6 elements\n",
      "Group    16 (          Water) has 17376 elements\n",
      "Group    17 (            SOL) has 17376 elements\n",
      "Group    18 (      non-Water) has  2268 elements\n",
      "Group    19 (            Ion) has    16 elements\n",
      "Group    20 (            GEN) has    20 elements\n",
      "Group    21 (             NA) has    10 elements\n",
      "Group    22 (             CL) has     6 elements\n",
      "Group    23 ( Water_and_ions) has 17392 elements\n",
      "Select a group: Select group for RMSD calculation\n",
      "Group     0 (         System) has 19644 elements\n",
      "Group     1 (        Protein) has  2232 elements\n",
      "Group     2 (      Protein-H) has  1145 elements\n",
      "Group     3 (        C-alpha) has   137 elements\n",
      "Group     4 (       Backbone) has   411 elements\n",
      "Group     5 (      MainChain) has   549 elements\n",
      "Group     6 (   MainChain+Cb) has   676 elements\n",
      "Group     7 (    MainChain+H) has   685 elements\n",
      "Group     8 (      SideChain) has  1547 elements\n",
      "Group     9 (    SideChain-H) has   596 elements\n",
      "Group    10 (    Prot-Masses) has  2232 elements\n",
      "Group    11 (    non-Protein) has 17412 elements\n",
      "Group    12 (          Other) has    20 elements\n",
      "Group    13 (            GEN) has    20 elements\n",
      "Group    14 (             NA) has    10 elements\n",
      "Group    15 (             CL) has     6 elements\n",
      "Group    16 (          Water) has 17376 elements\n",
      "Group    17 (            SOL) has 17376 elements\n",
      "Group    18 (      non-Water) has  2268 elements\n",
      "Group    19 (            Ion) has    16 elements\n",
      "Group    20 (            GEN) has    20 elements\n",
      "Group    21 (             NA) has    10 elements\n",
      "Group    22 (             CL) has     6 elements\n",
      "Group    23 ( Water_and_ions) has 17392 elements\n",
      "Select a group: trr version: GMX_trn_file (single precision)\n",
      "Last frame          5 time   50.000   \n",
      "\n",
      "Back Off! I just backed up protein_ligand_rms_exp.xvg to ./#protein_ligand_rms_exp.xvg.1#\n",
      "\n",
      "GROMACS reminds you: \"All that glitters may not be gold, but at least it contains free electrons.\" (John Desmond Baernal)\n",
      "\n",
      "\n"
     ]
    },
    {
     "data": {
      "text/plain": [
       "0"
      ]
     },
     "execution_count": 44,
     "metadata": {},
     "output_type": "execute_result"
    }
   ],
   "source": [
    "# GMXRms: Computing Root Mean Square deviation to analyse structural stability \n",
    "#         RMSd against experimental structure (backbone atoms)   \n",
    "\n",
    "from biobb_analysis.gromacs.gmx_rms import gmx_rms\n",
    "\n",
    "# Create prop dict and inputs/outputs\n",
    "output_rms_exp = pdbName+'_'+ligandName+'_rms_exp.xvg'\n",
    "prop = {\n",
    "    'selection':  'Backbone'\n",
    "}\n",
    "\n",
    "# Create and launch bb\n",
    "gmx_rms (input_structure_path=output_gppmin_tpr,\n",
    "         input_traj_path=output_md_trr,\n",
    "         output_xvg_path=output_rms_exp, \n",
    "         properties=prop)"
   ]
  },
  {
   "cell_type": "code",
   "execution_count": 45,
   "metadata": {},
   "outputs": [
    {
     "data": {
      "text/html": [
       "        <script type=\"text/javascript\">\n",
       "        window.PlotlyConfig = {MathJaxConfig: 'local'};\n",
       "        if (window.MathJax) {MathJax.Hub.Config({SVG: {font: \"STIX-Web\"}});}\n",
       "        if (typeof require !== 'undefined') {\n",
       "        require.undef(\"plotly\");\n",
       "        requirejs.config({\n",
       "            paths: {\n",
       "                'plotly': ['https://cdn.plot.ly/plotly-2.11.1.min']\n",
       "            }\n",
       "        });\n",
       "        require(['plotly'], function(Plotly) {\n",
       "            window._Plotly = Plotly;\n",
       "        });\n",
       "        }\n",
       "        </script>\n",
       "        "
      ]
     },
     "metadata": {},
     "output_type": "display_data"
    },
    {
     "data": {
      "application/vnd.plotly.v1+json": {
       "config": {
        "linkText": "Export to plot.ly",
        "plotlyServerURL": "https://plot.ly",
        "showLink": false
       },
       "data": [
        {
         "name": "RMSd vs first",
         "type": "scatter",
         "x": [
          0,
          10,
          20,
          30,
          40,
          50
         ],
         "y": [
          1e-07,
          0.0912536,
          0.093003,
          0.1021749,
          0.1017985,
          0.1258508
         ]
        },
        {
         "name": "RMSd vs exp",
         "type": "scatter",
         "x": [
          0,
          10,
          20,
          30,
          40,
          50
         ],
         "y": [
          0.1271118,
          0.1667473,
          0.1681141,
          0.171008,
          0.1706876,
          0.1858075
         ]
        }
       ],
       "layout": {
        "template": {
         "data": {
          "bar": [
           {
            "error_x": {
             "color": "#2a3f5f"
            },
            "error_y": {
             "color": "#2a3f5f"
            },
            "marker": {
             "line": {
              "color": "#E5ECF6",
              "width": 0.5
             },
             "pattern": {
              "fillmode": "overlay",
              "size": 10,
              "solidity": 0.2
             }
            },
            "type": "bar"
           }
          ],
          "barpolar": [
           {
            "marker": {
             "line": {
              "color": "#E5ECF6",
              "width": 0.5
             },
             "pattern": {
              "fillmode": "overlay",
              "size": 10,
              "solidity": 0.2
             }
            },
            "type": "barpolar"
           }
          ],
          "carpet": [
           {
            "aaxis": {
             "endlinecolor": "#2a3f5f",
             "gridcolor": "white",
             "linecolor": "white",
             "minorgridcolor": "white",
             "startlinecolor": "#2a3f5f"
            },
            "baxis": {
             "endlinecolor": "#2a3f5f",
             "gridcolor": "white",
             "linecolor": "white",
             "minorgridcolor": "white",
             "startlinecolor": "#2a3f5f"
            },
            "type": "carpet"
           }
          ],
          "choropleth": [
           {
            "colorbar": {
             "outlinewidth": 0,
             "ticks": ""
            },
            "type": "choropleth"
           }
          ],
          "contour": [
           {
            "colorbar": {
             "outlinewidth": 0,
             "ticks": ""
            },
            "colorscale": [
             [
              0,
              "#0d0887"
             ],
             [
              0.1111111111111111,
              "#46039f"
             ],
             [
              0.2222222222222222,
              "#7201a8"
             ],
             [
              0.3333333333333333,
              "#9c179e"
             ],
             [
              0.4444444444444444,
              "#bd3786"
             ],
             [
              0.5555555555555556,
              "#d8576b"
             ],
             [
              0.6666666666666666,
              "#ed7953"
             ],
             [
              0.7777777777777778,
              "#fb9f3a"
             ],
             [
              0.8888888888888888,
              "#fdca26"
             ],
             [
              1,
              "#f0f921"
             ]
            ],
            "type": "contour"
           }
          ],
          "contourcarpet": [
           {
            "colorbar": {
             "outlinewidth": 0,
             "ticks": ""
            },
            "type": "contourcarpet"
           }
          ],
          "heatmap": [
           {
            "colorbar": {
             "outlinewidth": 0,
             "ticks": ""
            },
            "colorscale": [
             [
              0,
              "#0d0887"
             ],
             [
              0.1111111111111111,
              "#46039f"
             ],
             [
              0.2222222222222222,
              "#7201a8"
             ],
             [
              0.3333333333333333,
              "#9c179e"
             ],
             [
              0.4444444444444444,
              "#bd3786"
             ],
             [
              0.5555555555555556,
              "#d8576b"
             ],
             [
              0.6666666666666666,
              "#ed7953"
             ],
             [
              0.7777777777777778,
              "#fb9f3a"
             ],
             [
              0.8888888888888888,
              "#fdca26"
             ],
             [
              1,
              "#f0f921"
             ]
            ],
            "type": "heatmap"
           }
          ],
          "heatmapgl": [
           {
            "colorbar": {
             "outlinewidth": 0,
             "ticks": ""
            },
            "colorscale": [
             [
              0,
              "#0d0887"
             ],
             [
              0.1111111111111111,
              "#46039f"
             ],
             [
              0.2222222222222222,
              "#7201a8"
             ],
             [
              0.3333333333333333,
              "#9c179e"
             ],
             [
              0.4444444444444444,
              "#bd3786"
             ],
             [
              0.5555555555555556,
              "#d8576b"
             ],
             [
              0.6666666666666666,
              "#ed7953"
             ],
             [
              0.7777777777777778,
              "#fb9f3a"
             ],
             [
              0.8888888888888888,
              "#fdca26"
             ],
             [
              1,
              "#f0f921"
             ]
            ],
            "type": "heatmapgl"
           }
          ],
          "histogram": [
           {
            "marker": {
             "pattern": {
              "fillmode": "overlay",
              "size": 10,
              "solidity": 0.2
             }
            },
            "type": "histogram"
           }
          ],
          "histogram2d": [
           {
            "colorbar": {
             "outlinewidth": 0,
             "ticks": ""
            },
            "colorscale": [
             [
              0,
              "#0d0887"
             ],
             [
              0.1111111111111111,
              "#46039f"
             ],
             [
              0.2222222222222222,
              "#7201a8"
             ],
             [
              0.3333333333333333,
              "#9c179e"
             ],
             [
              0.4444444444444444,
              "#bd3786"
             ],
             [
              0.5555555555555556,
              "#d8576b"
             ],
             [
              0.6666666666666666,
              "#ed7953"
             ],
             [
              0.7777777777777778,
              "#fb9f3a"
             ],
             [
              0.8888888888888888,
              "#fdca26"
             ],
             [
              1,
              "#f0f921"
             ]
            ],
            "type": "histogram2d"
           }
          ],
          "histogram2dcontour": [
           {
            "colorbar": {
             "outlinewidth": 0,
             "ticks": ""
            },
            "colorscale": [
             [
              0,
              "#0d0887"
             ],
             [
              0.1111111111111111,
              "#46039f"
             ],
             [
              0.2222222222222222,
              "#7201a8"
             ],
             [
              0.3333333333333333,
              "#9c179e"
             ],
             [
              0.4444444444444444,
              "#bd3786"
             ],
             [
              0.5555555555555556,
              "#d8576b"
             ],
             [
              0.6666666666666666,
              "#ed7953"
             ],
             [
              0.7777777777777778,
              "#fb9f3a"
             ],
             [
              0.8888888888888888,
              "#fdca26"
             ],
             [
              1,
              "#f0f921"
             ]
            ],
            "type": "histogram2dcontour"
           }
          ],
          "mesh3d": [
           {
            "colorbar": {
             "outlinewidth": 0,
             "ticks": ""
            },
            "type": "mesh3d"
           }
          ],
          "parcoords": [
           {
            "line": {
             "colorbar": {
              "outlinewidth": 0,
              "ticks": ""
             }
            },
            "type": "parcoords"
           }
          ],
          "pie": [
           {
            "automargin": true,
            "type": "pie"
           }
          ],
          "scatter": [
           {
            "fillpattern": {
             "fillmode": "overlay",
             "size": 10,
             "solidity": 0.2
            },
            "type": "scatter"
           }
          ],
          "scatter3d": [
           {
            "line": {
             "colorbar": {
              "outlinewidth": 0,
              "ticks": ""
             }
            },
            "marker": {
             "colorbar": {
              "outlinewidth": 0,
              "ticks": ""
             }
            },
            "type": "scatter3d"
           }
          ],
          "scattercarpet": [
           {
            "marker": {
             "colorbar": {
              "outlinewidth": 0,
              "ticks": ""
             }
            },
            "type": "scattercarpet"
           }
          ],
          "scattergeo": [
           {
            "marker": {
             "colorbar": {
              "outlinewidth": 0,
              "ticks": ""
             }
            },
            "type": "scattergeo"
           }
          ],
          "scattergl": [
           {
            "marker": {
             "colorbar": {
              "outlinewidth": 0,
              "ticks": ""
             }
            },
            "type": "scattergl"
           }
          ],
          "scattermapbox": [
           {
            "marker": {
             "colorbar": {
              "outlinewidth": 0,
              "ticks": ""
             }
            },
            "type": "scattermapbox"
           }
          ],
          "scatterpolar": [
           {
            "marker": {
             "colorbar": {
              "outlinewidth": 0,
              "ticks": ""
             }
            },
            "type": "scatterpolar"
           }
          ],
          "scatterpolargl": [
           {
            "marker": {
             "colorbar": {
              "outlinewidth": 0,
              "ticks": ""
             }
            },
            "type": "scatterpolargl"
           }
          ],
          "scatterternary": [
           {
            "marker": {
             "colorbar": {
              "outlinewidth": 0,
              "ticks": ""
             }
            },
            "type": "scatterternary"
           }
          ],
          "surface": [
           {
            "colorbar": {
             "outlinewidth": 0,
             "ticks": ""
            },
            "colorscale": [
             [
              0,
              "#0d0887"
             ],
             [
              0.1111111111111111,
              "#46039f"
             ],
             [
              0.2222222222222222,
              "#7201a8"
             ],
             [
              0.3333333333333333,
              "#9c179e"
             ],
             [
              0.4444444444444444,
              "#bd3786"
             ],
             [
              0.5555555555555556,
              "#d8576b"
             ],
             [
              0.6666666666666666,
              "#ed7953"
             ],
             [
              0.7777777777777778,
              "#fb9f3a"
             ],
             [
              0.8888888888888888,
              "#fdca26"
             ],
             [
              1,
              "#f0f921"
             ]
            ],
            "type": "surface"
           }
          ],
          "table": [
           {
            "cells": {
             "fill": {
              "color": "#EBF0F8"
             },
             "line": {
              "color": "white"
             }
            },
            "header": {
             "fill": {
              "color": "#C8D4E3"
             },
             "line": {
              "color": "white"
             }
            },
            "type": "table"
           }
          ]
         },
         "layout": {
          "annotationdefaults": {
           "arrowcolor": "#2a3f5f",
           "arrowhead": 0,
           "arrowwidth": 1
          },
          "autotypenumbers": "strict",
          "coloraxis": {
           "colorbar": {
            "outlinewidth": 0,
            "ticks": ""
           }
          },
          "colorscale": {
           "diverging": [
            [
             0,
             "#8e0152"
            ],
            [
             0.1,
             "#c51b7d"
            ],
            [
             0.2,
             "#de77ae"
            ],
            [
             0.3,
             "#f1b6da"
            ],
            [
             0.4,
             "#fde0ef"
            ],
            [
             0.5,
             "#f7f7f7"
            ],
            [
             0.6,
             "#e6f5d0"
            ],
            [
             0.7,
             "#b8e186"
            ],
            [
             0.8,
             "#7fbc41"
            ],
            [
             0.9,
             "#4d9221"
            ],
            [
             1,
             "#276419"
            ]
           ],
           "sequential": [
            [
             0,
             "#0d0887"
            ],
            [
             0.1111111111111111,
             "#46039f"
            ],
            [
             0.2222222222222222,
             "#7201a8"
            ],
            [
             0.3333333333333333,
             "#9c179e"
            ],
            [
             0.4444444444444444,
             "#bd3786"
            ],
            [
             0.5555555555555556,
             "#d8576b"
            ],
            [
             0.6666666666666666,
             "#ed7953"
            ],
            [
             0.7777777777777778,
             "#fb9f3a"
            ],
            [
             0.8888888888888888,
             "#fdca26"
            ],
            [
             1,
             "#f0f921"
            ]
           ],
           "sequentialminus": [
            [
             0,
             "#0d0887"
            ],
            [
             0.1111111111111111,
             "#46039f"
            ],
            [
             0.2222222222222222,
             "#7201a8"
            ],
            [
             0.3333333333333333,
             "#9c179e"
            ],
            [
             0.4444444444444444,
             "#bd3786"
            ],
            [
             0.5555555555555556,
             "#d8576b"
            ],
            [
             0.6666666666666666,
             "#ed7953"
            ],
            [
             0.7777777777777778,
             "#fb9f3a"
            ],
            [
             0.8888888888888888,
             "#fdca26"
            ],
            [
             1,
             "#f0f921"
            ]
           ]
          },
          "colorway": [
           "#636efa",
           "#EF553B",
           "#00cc96",
           "#ab63fa",
           "#FFA15A",
           "#19d3f3",
           "#FF6692",
           "#B6E880",
           "#FF97FF",
           "#FECB52"
          ],
          "font": {
           "color": "#2a3f5f"
          },
          "geo": {
           "bgcolor": "white",
           "lakecolor": "white",
           "landcolor": "#E5ECF6",
           "showlakes": true,
           "showland": true,
           "subunitcolor": "white"
          },
          "hoverlabel": {
           "align": "left"
          },
          "hovermode": "closest",
          "mapbox": {
           "style": "light"
          },
          "paper_bgcolor": "white",
          "plot_bgcolor": "#E5ECF6",
          "polar": {
           "angularaxis": {
            "gridcolor": "white",
            "linecolor": "white",
            "ticks": ""
           },
           "bgcolor": "#E5ECF6",
           "radialaxis": {
            "gridcolor": "white",
            "linecolor": "white",
            "ticks": ""
           }
          },
          "scene": {
           "xaxis": {
            "backgroundcolor": "#E5ECF6",
            "gridcolor": "white",
            "gridwidth": 2,
            "linecolor": "white",
            "showbackground": true,
            "ticks": "",
            "zerolinecolor": "white"
           },
           "yaxis": {
            "backgroundcolor": "#E5ECF6",
            "gridcolor": "white",
            "gridwidth": 2,
            "linecolor": "white",
            "showbackground": true,
            "ticks": "",
            "zerolinecolor": "white"
           },
           "zaxis": {
            "backgroundcolor": "#E5ECF6",
            "gridcolor": "white",
            "gridwidth": 2,
            "linecolor": "white",
            "showbackground": true,
            "ticks": "",
            "zerolinecolor": "white"
           }
          },
          "shapedefaults": {
           "line": {
            "color": "#2a3f5f"
           }
          },
          "ternary": {
           "aaxis": {
            "gridcolor": "white",
            "linecolor": "white",
            "ticks": ""
           },
           "baxis": {
            "gridcolor": "white",
            "linecolor": "white",
            "ticks": ""
           },
           "bgcolor": "#E5ECF6",
           "caxis": {
            "gridcolor": "white",
            "linecolor": "white",
            "ticks": ""
           }
          },
          "title": {
           "x": 0.05
          },
          "xaxis": {
           "automargin": true,
           "gridcolor": "white",
           "linecolor": "white",
           "ticks": "",
           "title": {
            "standoff": 15
           },
           "zerolinecolor": "white",
           "zerolinewidth": 2
          },
          "yaxis": {
           "automargin": true,
           "gridcolor": "white",
           "linecolor": "white",
           "ticks": "",
           "title": {
            "standoff": 15
           },
           "zerolinecolor": "white",
           "zerolinewidth": 2
          }
         }
        },
        "title": {
         "text": "RMSd during free MD Simulation"
        },
        "xaxis": {
         "title": {
          "text": "Time (ps)"
         }
        },
        "yaxis": {
         "title": {
          "text": "RMSd (nm)"
         }
        }
       }
      },
      "text/html": [
       "<div>                            <div id=\"361c8ffb-15ad-434a-b35a-ba1cc2e2c5b9\" class=\"plotly-graph-div\" style=\"height:525px; width:100%;\"></div>            <script type=\"text/javascript\">                require([\"plotly\"], function(Plotly) {                    window.PLOTLYENV=window.PLOTLYENV || {};                                    if (document.getElementById(\"361c8ffb-15ad-434a-b35a-ba1cc2e2c5b9\")) {                    Plotly.newPlot(                        \"361c8ffb-15ad-434a-b35a-ba1cc2e2c5b9\",                        [{\"name\":\"RMSd vs first\",\"x\":[0.0,10.0,20.0,30.0,40.0,50.0],\"y\":[1e-07,0.0912536,0.093003,0.1021749,0.1017985,0.1258508],\"type\":\"scatter\"},{\"name\":\"RMSd vs exp\",\"x\":[0.0,10.0,20.0,30.0,40.0,50.0],\"y\":[0.1271118,0.1667473,0.1681141,0.171008,0.1706876,0.1858075],\"type\":\"scatter\"}],                        {\"template\":{\"data\":{\"barpolar\":[{\"marker\":{\"line\":{\"color\":\"#E5ECF6\",\"width\":0.5},\"pattern\":{\"fillmode\":\"overlay\",\"size\":10,\"solidity\":0.2}},\"type\":\"barpolar\"}],\"bar\":[{\"error_x\":{\"color\":\"#2a3f5f\"},\"error_y\":{\"color\":\"#2a3f5f\"},\"marker\":{\"line\":{\"color\":\"#E5ECF6\",\"width\":0.5},\"pattern\":{\"fillmode\":\"overlay\",\"size\":10,\"solidity\":0.2}},\"type\":\"bar\"}],\"carpet\":[{\"aaxis\":{\"endlinecolor\":\"#2a3f5f\",\"gridcolor\":\"white\",\"linecolor\":\"white\",\"minorgridcolor\":\"white\",\"startlinecolor\":\"#2a3f5f\"},\"baxis\":{\"endlinecolor\":\"#2a3f5f\",\"gridcolor\":\"white\",\"linecolor\":\"white\",\"minorgridcolor\":\"white\",\"startlinecolor\":\"#2a3f5f\"},\"type\":\"carpet\"}],\"choropleth\":[{\"colorbar\":{\"outlinewidth\":0,\"ticks\":\"\"},\"type\":\"choropleth\"}],\"contourcarpet\":[{\"colorbar\":{\"outlinewidth\":0,\"ticks\":\"\"},\"type\":\"contourcarpet\"}],\"contour\":[{\"colorbar\":{\"outlinewidth\":0,\"ticks\":\"\"},\"colorscale\":[[0.0,\"#0d0887\"],[0.1111111111111111,\"#46039f\"],[0.2222222222222222,\"#7201a8\"],[0.3333333333333333,\"#9c179e\"],[0.4444444444444444,\"#bd3786\"],[0.5555555555555556,\"#d8576b\"],[0.6666666666666666,\"#ed7953\"],[0.7777777777777778,\"#fb9f3a\"],[0.8888888888888888,\"#fdca26\"],[1.0,\"#f0f921\"]],\"type\":\"contour\"}],\"heatmapgl\":[{\"colorbar\":{\"outlinewidth\":0,\"ticks\":\"\"},\"colorscale\":[[0.0,\"#0d0887\"],[0.1111111111111111,\"#46039f\"],[0.2222222222222222,\"#7201a8\"],[0.3333333333333333,\"#9c179e\"],[0.4444444444444444,\"#bd3786\"],[0.5555555555555556,\"#d8576b\"],[0.6666666666666666,\"#ed7953\"],[0.7777777777777778,\"#fb9f3a\"],[0.8888888888888888,\"#fdca26\"],[1.0,\"#f0f921\"]],\"type\":\"heatmapgl\"}],\"heatmap\":[{\"colorbar\":{\"outlinewidth\":0,\"ticks\":\"\"},\"colorscale\":[[0.0,\"#0d0887\"],[0.1111111111111111,\"#46039f\"],[0.2222222222222222,\"#7201a8\"],[0.3333333333333333,\"#9c179e\"],[0.4444444444444444,\"#bd3786\"],[0.5555555555555556,\"#d8576b\"],[0.6666666666666666,\"#ed7953\"],[0.7777777777777778,\"#fb9f3a\"],[0.8888888888888888,\"#fdca26\"],[1.0,\"#f0f921\"]],\"type\":\"heatmap\"}],\"histogram2dcontour\":[{\"colorbar\":{\"outlinewidth\":0,\"ticks\":\"\"},\"colorscale\":[[0.0,\"#0d0887\"],[0.1111111111111111,\"#46039f\"],[0.2222222222222222,\"#7201a8\"],[0.3333333333333333,\"#9c179e\"],[0.4444444444444444,\"#bd3786\"],[0.5555555555555556,\"#d8576b\"],[0.6666666666666666,\"#ed7953\"],[0.7777777777777778,\"#fb9f3a\"],[0.8888888888888888,\"#fdca26\"],[1.0,\"#f0f921\"]],\"type\":\"histogram2dcontour\"}],\"histogram2d\":[{\"colorbar\":{\"outlinewidth\":0,\"ticks\":\"\"},\"colorscale\":[[0.0,\"#0d0887\"],[0.1111111111111111,\"#46039f\"],[0.2222222222222222,\"#7201a8\"],[0.3333333333333333,\"#9c179e\"],[0.4444444444444444,\"#bd3786\"],[0.5555555555555556,\"#d8576b\"],[0.6666666666666666,\"#ed7953\"],[0.7777777777777778,\"#fb9f3a\"],[0.8888888888888888,\"#fdca26\"],[1.0,\"#f0f921\"]],\"type\":\"histogram2d\"}],\"histogram\":[{\"marker\":{\"pattern\":{\"fillmode\":\"overlay\",\"size\":10,\"solidity\":0.2}},\"type\":\"histogram\"}],\"mesh3d\":[{\"colorbar\":{\"outlinewidth\":0,\"ticks\":\"\"},\"type\":\"mesh3d\"}],\"parcoords\":[{\"line\":{\"colorbar\":{\"outlinewidth\":0,\"ticks\":\"\"}},\"type\":\"parcoords\"}],\"pie\":[{\"automargin\":true,\"type\":\"pie\"}],\"scatter3d\":[{\"line\":{\"colorbar\":{\"outlinewidth\":0,\"ticks\":\"\"}},\"marker\":{\"colorbar\":{\"outlinewidth\":0,\"ticks\":\"\"}},\"type\":\"scatter3d\"}],\"scattercarpet\":[{\"marker\":{\"colorbar\":{\"outlinewidth\":0,\"ticks\":\"\"}},\"type\":\"scattercarpet\"}],\"scattergeo\":[{\"marker\":{\"colorbar\":{\"outlinewidth\":0,\"ticks\":\"\"}},\"type\":\"scattergeo\"}],\"scattergl\":[{\"marker\":{\"colorbar\":{\"outlinewidth\":0,\"ticks\":\"\"}},\"type\":\"scattergl\"}],\"scattermapbox\":[{\"marker\":{\"colorbar\":{\"outlinewidth\":0,\"ticks\":\"\"}},\"type\":\"scattermapbox\"}],\"scatterpolargl\":[{\"marker\":{\"colorbar\":{\"outlinewidth\":0,\"ticks\":\"\"}},\"type\":\"scatterpolargl\"}],\"scatterpolar\":[{\"marker\":{\"colorbar\":{\"outlinewidth\":0,\"ticks\":\"\"}},\"type\":\"scatterpolar\"}],\"scatter\":[{\"fillpattern\":{\"fillmode\":\"overlay\",\"size\":10,\"solidity\":0.2},\"type\":\"scatter\"}],\"scatterternary\":[{\"marker\":{\"colorbar\":{\"outlinewidth\":0,\"ticks\":\"\"}},\"type\":\"scatterternary\"}],\"surface\":[{\"colorbar\":{\"outlinewidth\":0,\"ticks\":\"\"},\"colorscale\":[[0.0,\"#0d0887\"],[0.1111111111111111,\"#46039f\"],[0.2222222222222222,\"#7201a8\"],[0.3333333333333333,\"#9c179e\"],[0.4444444444444444,\"#bd3786\"],[0.5555555555555556,\"#d8576b\"],[0.6666666666666666,\"#ed7953\"],[0.7777777777777778,\"#fb9f3a\"],[0.8888888888888888,\"#fdca26\"],[1.0,\"#f0f921\"]],\"type\":\"surface\"}],\"table\":[{\"cells\":{\"fill\":{\"color\":\"#EBF0F8\"},\"line\":{\"color\":\"white\"}},\"header\":{\"fill\":{\"color\":\"#C8D4E3\"},\"line\":{\"color\":\"white\"}},\"type\":\"table\"}]},\"layout\":{\"annotationdefaults\":{\"arrowcolor\":\"#2a3f5f\",\"arrowhead\":0,\"arrowwidth\":1},\"autotypenumbers\":\"strict\",\"coloraxis\":{\"colorbar\":{\"outlinewidth\":0,\"ticks\":\"\"}},\"colorscale\":{\"diverging\":[[0,\"#8e0152\"],[0.1,\"#c51b7d\"],[0.2,\"#de77ae\"],[0.3,\"#f1b6da\"],[0.4,\"#fde0ef\"],[0.5,\"#f7f7f7\"],[0.6,\"#e6f5d0\"],[0.7,\"#b8e186\"],[0.8,\"#7fbc41\"],[0.9,\"#4d9221\"],[1,\"#276419\"]],\"sequential\":[[0.0,\"#0d0887\"],[0.1111111111111111,\"#46039f\"],[0.2222222222222222,\"#7201a8\"],[0.3333333333333333,\"#9c179e\"],[0.4444444444444444,\"#bd3786\"],[0.5555555555555556,\"#d8576b\"],[0.6666666666666666,\"#ed7953\"],[0.7777777777777778,\"#fb9f3a\"],[0.8888888888888888,\"#fdca26\"],[1.0,\"#f0f921\"]],\"sequentialminus\":[[0.0,\"#0d0887\"],[0.1111111111111111,\"#46039f\"],[0.2222222222222222,\"#7201a8\"],[0.3333333333333333,\"#9c179e\"],[0.4444444444444444,\"#bd3786\"],[0.5555555555555556,\"#d8576b\"],[0.6666666666666666,\"#ed7953\"],[0.7777777777777778,\"#fb9f3a\"],[0.8888888888888888,\"#fdca26\"],[1.0,\"#f0f921\"]]},\"colorway\":[\"#636efa\",\"#EF553B\",\"#00cc96\",\"#ab63fa\",\"#FFA15A\",\"#19d3f3\",\"#FF6692\",\"#B6E880\",\"#FF97FF\",\"#FECB52\"],\"font\":{\"color\":\"#2a3f5f\"},\"geo\":{\"bgcolor\":\"white\",\"lakecolor\":\"white\",\"landcolor\":\"#E5ECF6\",\"showlakes\":true,\"showland\":true,\"subunitcolor\":\"white\"},\"hoverlabel\":{\"align\":\"left\"},\"hovermode\":\"closest\",\"mapbox\":{\"style\":\"light\"},\"paper_bgcolor\":\"white\",\"plot_bgcolor\":\"#E5ECF6\",\"polar\":{\"angularaxis\":{\"gridcolor\":\"white\",\"linecolor\":\"white\",\"ticks\":\"\"},\"bgcolor\":\"#E5ECF6\",\"radialaxis\":{\"gridcolor\":\"white\",\"linecolor\":\"white\",\"ticks\":\"\"}},\"scene\":{\"xaxis\":{\"backgroundcolor\":\"#E5ECF6\",\"gridcolor\":\"white\",\"gridwidth\":2,\"linecolor\":\"white\",\"showbackground\":true,\"ticks\":\"\",\"zerolinecolor\":\"white\"},\"yaxis\":{\"backgroundcolor\":\"#E5ECF6\",\"gridcolor\":\"white\",\"gridwidth\":2,\"linecolor\":\"white\",\"showbackground\":true,\"ticks\":\"\",\"zerolinecolor\":\"white\"},\"zaxis\":{\"backgroundcolor\":\"#E5ECF6\",\"gridcolor\":\"white\",\"gridwidth\":2,\"linecolor\":\"white\",\"showbackground\":true,\"ticks\":\"\",\"zerolinecolor\":\"white\"}},\"shapedefaults\":{\"line\":{\"color\":\"#2a3f5f\"}},\"ternary\":{\"aaxis\":{\"gridcolor\":\"white\",\"linecolor\":\"white\",\"ticks\":\"\"},\"baxis\":{\"gridcolor\":\"white\",\"linecolor\":\"white\",\"ticks\":\"\"},\"bgcolor\":\"#E5ECF6\",\"caxis\":{\"gridcolor\":\"white\",\"linecolor\":\"white\",\"ticks\":\"\"}},\"title\":{\"x\":0.05},\"xaxis\":{\"automargin\":true,\"gridcolor\":\"white\",\"linecolor\":\"white\",\"ticks\":\"\",\"title\":{\"standoff\":15},\"zerolinecolor\":\"white\",\"zerolinewidth\":2},\"yaxis\":{\"automargin\":true,\"gridcolor\":\"white\",\"linecolor\":\"white\",\"ticks\":\"\",\"title\":{\"standoff\":15},\"zerolinecolor\":\"white\",\"zerolinewidth\":2}}},\"title\":{\"text\":\"RMSd during free MD Simulation\"},\"xaxis\":{\"title\":{\"text\":\"Time (ps)\"}},\"yaxis\":{\"title\":{\"text\":\"RMSd (nm)\"}}},                        {\"responsive\": true}                    ).then(function(){\n",
       "                            \n",
       "var gd = document.getElementById('361c8ffb-15ad-434a-b35a-ba1cc2e2c5b9');\n",
       "var x = new MutationObserver(function (mutations, observer) {{\n",
       "        var display = window.getComputedStyle(gd).display;\n",
       "        if (!display || display === 'none') {{\n",
       "            console.log([gd, 'removed!']);\n",
       "            Plotly.purge(gd);\n",
       "            observer.disconnect();\n",
       "        }}\n",
       "}});\n",
       "\n",
       "// Listen for the removal of the full notebook cells\n",
       "var notebookContainer = gd.closest('#notebook-container');\n",
       "if (notebookContainer) {{\n",
       "    x.observe(notebookContainer, {childList: true});\n",
       "}}\n",
       "\n",
       "// Listen for the clearing of the current output cell\n",
       "var outputEl = gd.closest('.output');\n",
       "if (outputEl) {{\n",
       "    x.observe(outputEl, {childList: true});\n",
       "}}\n",
       "\n",
       "                        })                };                });            </script>        </div>"
      ]
     },
     "metadata": {},
     "output_type": "display_data"
    }
   ],
   "source": [
    "import plotly\n",
    "import plotly.graph_objs as go\n",
    "\n",
    "# Read RMS vs first snapshot data from file \n",
    "with open(output_rms_first,'r') as rms_first_file:\n",
    "    x,y = map(\n",
    "        list,\n",
    "        zip(*[\n",
    "            (float(line.split()[0]),float(line.split()[1]))\n",
    "            for line in rms_first_file \n",
    "            if not line.startswith((\"#\",\"@\")) \n",
    "        ])\n",
    "    )\n",
    "\n",
    "# Read RMS vs experimental structure data from file \n",
    "with open(output_rms_exp,'r') as rms_exp_file:\n",
    "    x2,y2 = map(\n",
    "        list,\n",
    "        zip(*[\n",
    "            (float(line.split()[0]),float(line.split()[1]))\n",
    "            for line in rms_exp_file\n",
    "            if not line.startswith((\"#\",\"@\")) \n",
    "        ])\n",
    "    )\n",
    "    \n",
    "trace1 = go.Scatter(\n",
    "    x = x,\n",
    "    y = y,\n",
    "    name = 'RMSd vs first'\n",
    ")\n",
    "\n",
    "trace2 = go.Scatter(\n",
    "    x = x,\n",
    "    y = y2,\n",
    "    name = 'RMSd vs exp'\n",
    ")\n",
    "\n",
    "data = [trace1, trace2]\n",
    "\n",
    "plotly.offline.init_notebook_mode(connected=True)\n",
    "\n",
    "fig = ({\n",
    "    \"data\": data,\n",
    "    \"layout\": go.Layout(title=\"RMSd during free MD Simulation\",\n",
    "                        xaxis=dict(title = \"Time (ps)\"),\n",
    "                        yaxis=dict(title = \"RMSd (nm)\")\n",
    "                       )\n",
    "})\n",
    "\n",
    "plotly.offline.iplot(fig)"
   ]
  },
  {
   "cell_type": "markdown",
   "metadata": {},
   "source": [
    "<img src='images/fig4.png' width=\"50%\" height=\"50%\"></img>"
   ]
  },
  {
   "cell_type": "code",
   "execution_count": 46,
   "metadata": {
    "scrolled": false
   },
   "outputs": [
    {
     "name": "stdout",
     "output_type": "stream",
     "text": [
      "2022-04-22 10:47:35,579 [MainThread  ] [INFO ]  Not using any container\n",
      "2022-04-22 10:47:35,643 [MainThread  ] [INFO ]  echo \"Backbone\" | gmx gyrate -s /home/lg/repos/javerianaMD/simulation/md-biobb/protein_ligand_gppmin.tpr -f /home/lg/repos/javerianaMD/simulation/md-biobb/protein_ligand_md.trr -o protein_ligand_rgyr.xvg -xvg none\n",
      "\n",
      "2022-04-22 10:47:35,644 [MainThread  ] [INFO ]  Exit code 0\n",
      "\n",
      "2022-04-22 10:47:35,645 [MainThread  ] [INFO ]  Selected 4: 'Backbone'\n",
      "\n",
      "2022-04-22 10:47:35,646 [MainThread  ] [INFO ]                        :-) GROMACS - gmx gyrate, 2019.1 (-:\n",
      "\n",
      "                            GROMACS is written by:\n",
      "     Emile Apol      Rossen Apostolov      Paul Bauer     Herman J.C. Berendsen\n",
      "    Par Bjelkmar      Christian Blau   Viacheslav Bolnykh     Kevin Boyd    \n",
      " Aldert van Buuren   Rudi van Drunen     Anton Feenstra       Alan Gray     \n",
      "  Gerrit Groenhof     Anca Hamuraru    Vincent Hindriksen  M. Eric Irrgang  \n",
      "  Aleksei Iupinov   Christoph Junghans     Joe Jordan     Dimitrios Karkoulis\n",
      "    Peter Kasson        Jiri Kraus      Carsten Kutzner      Per Larsson    \n",
      "  Justin A. Lemkul    Viveca Lindahl    Magnus Lundborg     Erik Marklund   \n",
      "    Pascal Merz     Pieter Meulenhoff    Teemu Murtola       Szilard Pall   \n",
      "    Sander Pronk      Roland Schulz      Michael Shirts    Alexey Shvetsov  \n",
      "   Alfons Sijbers     Peter Tieleman      Jon Vincent      Teemu Virolainen \n",
      " Christian Wennberg    Maarten Wolf   \n",
      "                           and the project leaders:\n",
      "        Mark Abraham, Berk Hess, Erik Lindahl, and David van der Spoel\n",
      "\n",
      "Copyright (c) 1991-2000, University of Groningen, The Netherlands.\n",
      "Copyright (c) 2001-2018, The GROMACS development team at\n",
      "Uppsala University, Stockholm University and\n",
      "the Royal Institute of Technology, Sweden.\n",
      "check out http://www.gromacs.org for more information.\n",
      "\n",
      "GROMACS is free software; you can redistribute it and/or modify it\n",
      "under the terms of the GNU Lesser General Public License\n",
      "as published by the Free Software Foundation; either version 2.1\n",
      "of the License, or (at your option) any later version.\n",
      "\n",
      "GROMACS:      gmx gyrate, version 2019.1\n",
      "Executable:   /opt/miniconda3/envs/biobb_env/bin/gmx\n",
      "Data prefix:  /opt/miniconda3/envs/biobb_env\n",
      "Working dir:  /home/lg/repos/javerianaMD/simulation/md-biobb\n",
      "Command line:\n",
      "  gmx gyrate -s /home/lg/repos/javerianaMD/simulation/md-biobb/protein_ligand_gppmin.tpr -f /home/lg/repos/javerianaMD/simulation/md-biobb/protein_ligand_md.trr -o protein_ligand_rgyr.xvg -xvg none\n",
      "\n",
      "Reading file /home/lg/repos/javerianaMD/simulation/md-biobb/protein_ligand_gppmin.tpr, VERSION 2019.1 (single precision)\n",
      "Reading file /home/lg/repos/javerianaMD/simulation/md-biobb/protein_ligand_gppmin.tpr, VERSION 2019.1 (single precision)\n",
      "Group     0 (         System) has 19644 elements\n",
      "Group     1 (        Protein) has  2232 elements\n",
      "Group     2 (      Protein-H) has  1145 elements\n",
      "Group     3 (        C-alpha) has   137 elements\n",
      "Group     4 (       Backbone) has   411 elements\n",
      "Group     5 (      MainChain) has   549 elements\n",
      "Group     6 (   MainChain+Cb) has   676 elements\n",
      "Group     7 (    MainChain+H) has   685 elements\n",
      "Group     8 (      SideChain) has  1547 elements\n",
      "Group     9 (    SideChain-H) has   596 elements\n",
      "Group    10 (    Prot-Masses) has  2232 elements\n",
      "Group    11 (    non-Protein) has 17412 elements\n",
      "Group    12 (          Other) has    20 elements\n",
      "Group    13 (            GEN) has    20 elements\n",
      "Group    14 (             NA) has    10 elements\n",
      "Group    15 (             CL) has     6 elements\n",
      "Group    16 (          Water) has 17376 elements\n",
      "Group    17 (            SOL) has 17376 elements\n",
      "Group    18 (      non-Water) has  2268 elements\n",
      "Group    19 (            Ion) has    16 elements\n",
      "Group    20 (            GEN) has    20 elements\n",
      "Group    21 (             NA) has    10 elements\n",
      "Group    22 (             CL) has     6 elements\n",
      "Group    23 ( Water_and_ions) has 17392 elements\n",
      "Select a group: trr version: GMX_trn_file (single precision)\n",
      "Reading frame       0 time    0.000   \n",
      "Back Off! I just backed up protein_ligand_rgyr.xvg to ./#protein_ligand_rgyr.xvg.1#\n",
      "Last frame          5 time   50.000   \n",
      "\n",
      "GROMACS reminds you: \"You could give Aristotle a tutorial. And you could thrill him to the core of his being. Such is the privilege of living after Newton, Darwin, Einstein, Planck, Watson, Crick and their colleagues.\" (Richard Dawkins)\n",
      "\n",
      "\n"
     ]
    },
    {
     "data": {
      "text/plain": [
       "0"
      ]
     },
     "execution_count": 46,
     "metadata": {},
     "output_type": "execute_result"
    }
   ],
   "source": [
    "# GMXRgyr: Computing Radius of Gyration to measure the protein compactness during the free MD simulation \n",
    "\n",
    "from biobb_analysis.gromacs.gmx_rgyr import gmx_rgyr\n",
    "\n",
    "# Create prop dict and inputs/outputs\n",
    "output_rgyr = pdbName+'_'+ligandName+'_rgyr.xvg'\n",
    "prop = {\n",
    "    'selection':  'Backbone'\n",
    "}\n",
    "\n",
    "# Create and launch bb\n",
    "gmx_rgyr(input_structure_path=output_gppmin_tpr,\n",
    "         input_traj_path=output_md_trr,\n",
    "         output_xvg_path=output_rgyr, \n",
    "         properties=prop)"
   ]
  },
  {
   "cell_type": "code",
   "execution_count": 47,
   "metadata": {
    "scrolled": false
   },
   "outputs": [
    {
     "data": {
      "text/html": [
       "        <script type=\"text/javascript\">\n",
       "        window.PlotlyConfig = {MathJaxConfig: 'local'};\n",
       "        if (window.MathJax) {MathJax.Hub.Config({SVG: {font: \"STIX-Web\"}});}\n",
       "        if (typeof require !== 'undefined') {\n",
       "        require.undef(\"plotly\");\n",
       "        requirejs.config({\n",
       "            paths: {\n",
       "                'plotly': ['https://cdn.plot.ly/plotly-2.11.1.min']\n",
       "            }\n",
       "        });\n",
       "        require(['plotly'], function(Plotly) {\n",
       "            window._Plotly = Plotly;\n",
       "        });\n",
       "        }\n",
       "        </script>\n",
       "        "
      ]
     },
     "metadata": {},
     "output_type": "display_data"
    },
    {
     "data": {
      "application/vnd.plotly.v1+json": {
       "config": {
        "linkText": "Export to plot.ly",
        "plotlyServerURL": "https://plot.ly",
        "showLink": false
       },
       "data": [
        {
         "type": "scatter",
         "x": [
          0,
          10,
          20,
          30,
          40,
          50
         ],
         "y": [
          1.41856,
          1.43355,
          1.43593,
          1.43787,
          1.42845,
          1.43037
         ]
        }
       ],
       "layout": {
        "template": {
         "data": {
          "bar": [
           {
            "error_x": {
             "color": "#2a3f5f"
            },
            "error_y": {
             "color": "#2a3f5f"
            },
            "marker": {
             "line": {
              "color": "#E5ECF6",
              "width": 0.5
             },
             "pattern": {
              "fillmode": "overlay",
              "size": 10,
              "solidity": 0.2
             }
            },
            "type": "bar"
           }
          ],
          "barpolar": [
           {
            "marker": {
             "line": {
              "color": "#E5ECF6",
              "width": 0.5
             },
             "pattern": {
              "fillmode": "overlay",
              "size": 10,
              "solidity": 0.2
             }
            },
            "type": "barpolar"
           }
          ],
          "carpet": [
           {
            "aaxis": {
             "endlinecolor": "#2a3f5f",
             "gridcolor": "white",
             "linecolor": "white",
             "minorgridcolor": "white",
             "startlinecolor": "#2a3f5f"
            },
            "baxis": {
             "endlinecolor": "#2a3f5f",
             "gridcolor": "white",
             "linecolor": "white",
             "minorgridcolor": "white",
             "startlinecolor": "#2a3f5f"
            },
            "type": "carpet"
           }
          ],
          "choropleth": [
           {
            "colorbar": {
             "outlinewidth": 0,
             "ticks": ""
            },
            "type": "choropleth"
           }
          ],
          "contour": [
           {
            "colorbar": {
             "outlinewidth": 0,
             "ticks": ""
            },
            "colorscale": [
             [
              0,
              "#0d0887"
             ],
             [
              0.1111111111111111,
              "#46039f"
             ],
             [
              0.2222222222222222,
              "#7201a8"
             ],
             [
              0.3333333333333333,
              "#9c179e"
             ],
             [
              0.4444444444444444,
              "#bd3786"
             ],
             [
              0.5555555555555556,
              "#d8576b"
             ],
             [
              0.6666666666666666,
              "#ed7953"
             ],
             [
              0.7777777777777778,
              "#fb9f3a"
             ],
             [
              0.8888888888888888,
              "#fdca26"
             ],
             [
              1,
              "#f0f921"
             ]
            ],
            "type": "contour"
           }
          ],
          "contourcarpet": [
           {
            "colorbar": {
             "outlinewidth": 0,
             "ticks": ""
            },
            "type": "contourcarpet"
           }
          ],
          "heatmap": [
           {
            "colorbar": {
             "outlinewidth": 0,
             "ticks": ""
            },
            "colorscale": [
             [
              0,
              "#0d0887"
             ],
             [
              0.1111111111111111,
              "#46039f"
             ],
             [
              0.2222222222222222,
              "#7201a8"
             ],
             [
              0.3333333333333333,
              "#9c179e"
             ],
             [
              0.4444444444444444,
              "#bd3786"
             ],
             [
              0.5555555555555556,
              "#d8576b"
             ],
             [
              0.6666666666666666,
              "#ed7953"
             ],
             [
              0.7777777777777778,
              "#fb9f3a"
             ],
             [
              0.8888888888888888,
              "#fdca26"
             ],
             [
              1,
              "#f0f921"
             ]
            ],
            "type": "heatmap"
           }
          ],
          "heatmapgl": [
           {
            "colorbar": {
             "outlinewidth": 0,
             "ticks": ""
            },
            "colorscale": [
             [
              0,
              "#0d0887"
             ],
             [
              0.1111111111111111,
              "#46039f"
             ],
             [
              0.2222222222222222,
              "#7201a8"
             ],
             [
              0.3333333333333333,
              "#9c179e"
             ],
             [
              0.4444444444444444,
              "#bd3786"
             ],
             [
              0.5555555555555556,
              "#d8576b"
             ],
             [
              0.6666666666666666,
              "#ed7953"
             ],
             [
              0.7777777777777778,
              "#fb9f3a"
             ],
             [
              0.8888888888888888,
              "#fdca26"
             ],
             [
              1,
              "#f0f921"
             ]
            ],
            "type": "heatmapgl"
           }
          ],
          "histogram": [
           {
            "marker": {
             "pattern": {
              "fillmode": "overlay",
              "size": 10,
              "solidity": 0.2
             }
            },
            "type": "histogram"
           }
          ],
          "histogram2d": [
           {
            "colorbar": {
             "outlinewidth": 0,
             "ticks": ""
            },
            "colorscale": [
             [
              0,
              "#0d0887"
             ],
             [
              0.1111111111111111,
              "#46039f"
             ],
             [
              0.2222222222222222,
              "#7201a8"
             ],
             [
              0.3333333333333333,
              "#9c179e"
             ],
             [
              0.4444444444444444,
              "#bd3786"
             ],
             [
              0.5555555555555556,
              "#d8576b"
             ],
             [
              0.6666666666666666,
              "#ed7953"
             ],
             [
              0.7777777777777778,
              "#fb9f3a"
             ],
             [
              0.8888888888888888,
              "#fdca26"
             ],
             [
              1,
              "#f0f921"
             ]
            ],
            "type": "histogram2d"
           }
          ],
          "histogram2dcontour": [
           {
            "colorbar": {
             "outlinewidth": 0,
             "ticks": ""
            },
            "colorscale": [
             [
              0,
              "#0d0887"
             ],
             [
              0.1111111111111111,
              "#46039f"
             ],
             [
              0.2222222222222222,
              "#7201a8"
             ],
             [
              0.3333333333333333,
              "#9c179e"
             ],
             [
              0.4444444444444444,
              "#bd3786"
             ],
             [
              0.5555555555555556,
              "#d8576b"
             ],
             [
              0.6666666666666666,
              "#ed7953"
             ],
             [
              0.7777777777777778,
              "#fb9f3a"
             ],
             [
              0.8888888888888888,
              "#fdca26"
             ],
             [
              1,
              "#f0f921"
             ]
            ],
            "type": "histogram2dcontour"
           }
          ],
          "mesh3d": [
           {
            "colorbar": {
             "outlinewidth": 0,
             "ticks": ""
            },
            "type": "mesh3d"
           }
          ],
          "parcoords": [
           {
            "line": {
             "colorbar": {
              "outlinewidth": 0,
              "ticks": ""
             }
            },
            "type": "parcoords"
           }
          ],
          "pie": [
           {
            "automargin": true,
            "type": "pie"
           }
          ],
          "scatter": [
           {
            "fillpattern": {
             "fillmode": "overlay",
             "size": 10,
             "solidity": 0.2
            },
            "type": "scatter"
           }
          ],
          "scatter3d": [
           {
            "line": {
             "colorbar": {
              "outlinewidth": 0,
              "ticks": ""
             }
            },
            "marker": {
             "colorbar": {
              "outlinewidth": 0,
              "ticks": ""
             }
            },
            "type": "scatter3d"
           }
          ],
          "scattercarpet": [
           {
            "marker": {
             "colorbar": {
              "outlinewidth": 0,
              "ticks": ""
             }
            },
            "type": "scattercarpet"
           }
          ],
          "scattergeo": [
           {
            "marker": {
             "colorbar": {
              "outlinewidth": 0,
              "ticks": ""
             }
            },
            "type": "scattergeo"
           }
          ],
          "scattergl": [
           {
            "marker": {
             "colorbar": {
              "outlinewidth": 0,
              "ticks": ""
             }
            },
            "type": "scattergl"
           }
          ],
          "scattermapbox": [
           {
            "marker": {
             "colorbar": {
              "outlinewidth": 0,
              "ticks": ""
             }
            },
            "type": "scattermapbox"
           }
          ],
          "scatterpolar": [
           {
            "marker": {
             "colorbar": {
              "outlinewidth": 0,
              "ticks": ""
             }
            },
            "type": "scatterpolar"
           }
          ],
          "scatterpolargl": [
           {
            "marker": {
             "colorbar": {
              "outlinewidth": 0,
              "ticks": ""
             }
            },
            "type": "scatterpolargl"
           }
          ],
          "scatterternary": [
           {
            "marker": {
             "colorbar": {
              "outlinewidth": 0,
              "ticks": ""
             }
            },
            "type": "scatterternary"
           }
          ],
          "surface": [
           {
            "colorbar": {
             "outlinewidth": 0,
             "ticks": ""
            },
            "colorscale": [
             [
              0,
              "#0d0887"
             ],
             [
              0.1111111111111111,
              "#46039f"
             ],
             [
              0.2222222222222222,
              "#7201a8"
             ],
             [
              0.3333333333333333,
              "#9c179e"
             ],
             [
              0.4444444444444444,
              "#bd3786"
             ],
             [
              0.5555555555555556,
              "#d8576b"
             ],
             [
              0.6666666666666666,
              "#ed7953"
             ],
             [
              0.7777777777777778,
              "#fb9f3a"
             ],
             [
              0.8888888888888888,
              "#fdca26"
             ],
             [
              1,
              "#f0f921"
             ]
            ],
            "type": "surface"
           }
          ],
          "table": [
           {
            "cells": {
             "fill": {
              "color": "#EBF0F8"
             },
             "line": {
              "color": "white"
             }
            },
            "header": {
             "fill": {
              "color": "#C8D4E3"
             },
             "line": {
              "color": "white"
             }
            },
            "type": "table"
           }
          ]
         },
         "layout": {
          "annotationdefaults": {
           "arrowcolor": "#2a3f5f",
           "arrowhead": 0,
           "arrowwidth": 1
          },
          "autotypenumbers": "strict",
          "coloraxis": {
           "colorbar": {
            "outlinewidth": 0,
            "ticks": ""
           }
          },
          "colorscale": {
           "diverging": [
            [
             0,
             "#8e0152"
            ],
            [
             0.1,
             "#c51b7d"
            ],
            [
             0.2,
             "#de77ae"
            ],
            [
             0.3,
             "#f1b6da"
            ],
            [
             0.4,
             "#fde0ef"
            ],
            [
             0.5,
             "#f7f7f7"
            ],
            [
             0.6,
             "#e6f5d0"
            ],
            [
             0.7,
             "#b8e186"
            ],
            [
             0.8,
             "#7fbc41"
            ],
            [
             0.9,
             "#4d9221"
            ],
            [
             1,
             "#276419"
            ]
           ],
           "sequential": [
            [
             0,
             "#0d0887"
            ],
            [
             0.1111111111111111,
             "#46039f"
            ],
            [
             0.2222222222222222,
             "#7201a8"
            ],
            [
             0.3333333333333333,
             "#9c179e"
            ],
            [
             0.4444444444444444,
             "#bd3786"
            ],
            [
             0.5555555555555556,
             "#d8576b"
            ],
            [
             0.6666666666666666,
             "#ed7953"
            ],
            [
             0.7777777777777778,
             "#fb9f3a"
            ],
            [
             0.8888888888888888,
             "#fdca26"
            ],
            [
             1,
             "#f0f921"
            ]
           ],
           "sequentialminus": [
            [
             0,
             "#0d0887"
            ],
            [
             0.1111111111111111,
             "#46039f"
            ],
            [
             0.2222222222222222,
             "#7201a8"
            ],
            [
             0.3333333333333333,
             "#9c179e"
            ],
            [
             0.4444444444444444,
             "#bd3786"
            ],
            [
             0.5555555555555556,
             "#d8576b"
            ],
            [
             0.6666666666666666,
             "#ed7953"
            ],
            [
             0.7777777777777778,
             "#fb9f3a"
            ],
            [
             0.8888888888888888,
             "#fdca26"
            ],
            [
             1,
             "#f0f921"
            ]
           ]
          },
          "colorway": [
           "#636efa",
           "#EF553B",
           "#00cc96",
           "#ab63fa",
           "#FFA15A",
           "#19d3f3",
           "#FF6692",
           "#B6E880",
           "#FF97FF",
           "#FECB52"
          ],
          "font": {
           "color": "#2a3f5f"
          },
          "geo": {
           "bgcolor": "white",
           "lakecolor": "white",
           "landcolor": "#E5ECF6",
           "showlakes": true,
           "showland": true,
           "subunitcolor": "white"
          },
          "hoverlabel": {
           "align": "left"
          },
          "hovermode": "closest",
          "mapbox": {
           "style": "light"
          },
          "paper_bgcolor": "white",
          "plot_bgcolor": "#E5ECF6",
          "polar": {
           "angularaxis": {
            "gridcolor": "white",
            "linecolor": "white",
            "ticks": ""
           },
           "bgcolor": "#E5ECF6",
           "radialaxis": {
            "gridcolor": "white",
            "linecolor": "white",
            "ticks": ""
           }
          },
          "scene": {
           "xaxis": {
            "backgroundcolor": "#E5ECF6",
            "gridcolor": "white",
            "gridwidth": 2,
            "linecolor": "white",
            "showbackground": true,
            "ticks": "",
            "zerolinecolor": "white"
           },
           "yaxis": {
            "backgroundcolor": "#E5ECF6",
            "gridcolor": "white",
            "gridwidth": 2,
            "linecolor": "white",
            "showbackground": true,
            "ticks": "",
            "zerolinecolor": "white"
           },
           "zaxis": {
            "backgroundcolor": "#E5ECF6",
            "gridcolor": "white",
            "gridwidth": 2,
            "linecolor": "white",
            "showbackground": true,
            "ticks": "",
            "zerolinecolor": "white"
           }
          },
          "shapedefaults": {
           "line": {
            "color": "#2a3f5f"
           }
          },
          "ternary": {
           "aaxis": {
            "gridcolor": "white",
            "linecolor": "white",
            "ticks": ""
           },
           "baxis": {
            "gridcolor": "white",
            "linecolor": "white",
            "ticks": ""
           },
           "bgcolor": "#E5ECF6",
           "caxis": {
            "gridcolor": "white",
            "linecolor": "white",
            "ticks": ""
           }
          },
          "title": {
           "x": 0.05
          },
          "xaxis": {
           "automargin": true,
           "gridcolor": "white",
           "linecolor": "white",
           "ticks": "",
           "title": {
            "standoff": 15
           },
           "zerolinecolor": "white",
           "zerolinewidth": 2
          },
          "yaxis": {
           "automargin": true,
           "gridcolor": "white",
           "linecolor": "white",
           "ticks": "",
           "title": {
            "standoff": 15
           },
           "zerolinecolor": "white",
           "zerolinewidth": 2
          }
         }
        },
        "title": {
         "text": "Radius of Gyration"
        },
        "xaxis": {
         "title": {
          "text": "Time (ps)"
         }
        },
        "yaxis": {
         "title": {
          "text": "Rgyr (nm)"
         }
        }
       }
      },
      "text/html": [
       "<div>                            <div id=\"fb281d72-2d7b-4e5b-a447-481175574c42\" class=\"plotly-graph-div\" style=\"height:525px; width:100%;\"></div>            <script type=\"text/javascript\">                require([\"plotly\"], function(Plotly) {                    window.PLOTLYENV=window.PLOTLYENV || {};                                    if (document.getElementById(\"fb281d72-2d7b-4e5b-a447-481175574c42\")) {                    Plotly.newPlot(                        \"fb281d72-2d7b-4e5b-a447-481175574c42\",                        [{\"x\":[0.0,10.0,20.0,30.0,40.0,50.0],\"y\":[1.41856,1.43355,1.43593,1.43787,1.42845,1.43037],\"type\":\"scatter\"}],                        {\"template\":{\"data\":{\"barpolar\":[{\"marker\":{\"line\":{\"color\":\"#E5ECF6\",\"width\":0.5},\"pattern\":{\"fillmode\":\"overlay\",\"size\":10,\"solidity\":0.2}},\"type\":\"barpolar\"}],\"bar\":[{\"error_x\":{\"color\":\"#2a3f5f\"},\"error_y\":{\"color\":\"#2a3f5f\"},\"marker\":{\"line\":{\"color\":\"#E5ECF6\",\"width\":0.5},\"pattern\":{\"fillmode\":\"overlay\",\"size\":10,\"solidity\":0.2}},\"type\":\"bar\"}],\"carpet\":[{\"aaxis\":{\"endlinecolor\":\"#2a3f5f\",\"gridcolor\":\"white\",\"linecolor\":\"white\",\"minorgridcolor\":\"white\",\"startlinecolor\":\"#2a3f5f\"},\"baxis\":{\"endlinecolor\":\"#2a3f5f\",\"gridcolor\":\"white\",\"linecolor\":\"white\",\"minorgridcolor\":\"white\",\"startlinecolor\":\"#2a3f5f\"},\"type\":\"carpet\"}],\"choropleth\":[{\"colorbar\":{\"outlinewidth\":0,\"ticks\":\"\"},\"type\":\"choropleth\"}],\"contourcarpet\":[{\"colorbar\":{\"outlinewidth\":0,\"ticks\":\"\"},\"type\":\"contourcarpet\"}],\"contour\":[{\"colorbar\":{\"outlinewidth\":0,\"ticks\":\"\"},\"colorscale\":[[0.0,\"#0d0887\"],[0.1111111111111111,\"#46039f\"],[0.2222222222222222,\"#7201a8\"],[0.3333333333333333,\"#9c179e\"],[0.4444444444444444,\"#bd3786\"],[0.5555555555555556,\"#d8576b\"],[0.6666666666666666,\"#ed7953\"],[0.7777777777777778,\"#fb9f3a\"],[0.8888888888888888,\"#fdca26\"],[1.0,\"#f0f921\"]],\"type\":\"contour\"}],\"heatmapgl\":[{\"colorbar\":{\"outlinewidth\":0,\"ticks\":\"\"},\"colorscale\":[[0.0,\"#0d0887\"],[0.1111111111111111,\"#46039f\"],[0.2222222222222222,\"#7201a8\"],[0.3333333333333333,\"#9c179e\"],[0.4444444444444444,\"#bd3786\"],[0.5555555555555556,\"#d8576b\"],[0.6666666666666666,\"#ed7953\"],[0.7777777777777778,\"#fb9f3a\"],[0.8888888888888888,\"#fdca26\"],[1.0,\"#f0f921\"]],\"type\":\"heatmapgl\"}],\"heatmap\":[{\"colorbar\":{\"outlinewidth\":0,\"ticks\":\"\"},\"colorscale\":[[0.0,\"#0d0887\"],[0.1111111111111111,\"#46039f\"],[0.2222222222222222,\"#7201a8\"],[0.3333333333333333,\"#9c179e\"],[0.4444444444444444,\"#bd3786\"],[0.5555555555555556,\"#d8576b\"],[0.6666666666666666,\"#ed7953\"],[0.7777777777777778,\"#fb9f3a\"],[0.8888888888888888,\"#fdca26\"],[1.0,\"#f0f921\"]],\"type\":\"heatmap\"}],\"histogram2dcontour\":[{\"colorbar\":{\"outlinewidth\":0,\"ticks\":\"\"},\"colorscale\":[[0.0,\"#0d0887\"],[0.1111111111111111,\"#46039f\"],[0.2222222222222222,\"#7201a8\"],[0.3333333333333333,\"#9c179e\"],[0.4444444444444444,\"#bd3786\"],[0.5555555555555556,\"#d8576b\"],[0.6666666666666666,\"#ed7953\"],[0.7777777777777778,\"#fb9f3a\"],[0.8888888888888888,\"#fdca26\"],[1.0,\"#f0f921\"]],\"type\":\"histogram2dcontour\"}],\"histogram2d\":[{\"colorbar\":{\"outlinewidth\":0,\"ticks\":\"\"},\"colorscale\":[[0.0,\"#0d0887\"],[0.1111111111111111,\"#46039f\"],[0.2222222222222222,\"#7201a8\"],[0.3333333333333333,\"#9c179e\"],[0.4444444444444444,\"#bd3786\"],[0.5555555555555556,\"#d8576b\"],[0.6666666666666666,\"#ed7953\"],[0.7777777777777778,\"#fb9f3a\"],[0.8888888888888888,\"#fdca26\"],[1.0,\"#f0f921\"]],\"type\":\"histogram2d\"}],\"histogram\":[{\"marker\":{\"pattern\":{\"fillmode\":\"overlay\",\"size\":10,\"solidity\":0.2}},\"type\":\"histogram\"}],\"mesh3d\":[{\"colorbar\":{\"outlinewidth\":0,\"ticks\":\"\"},\"type\":\"mesh3d\"}],\"parcoords\":[{\"line\":{\"colorbar\":{\"outlinewidth\":0,\"ticks\":\"\"}},\"type\":\"parcoords\"}],\"pie\":[{\"automargin\":true,\"type\":\"pie\"}],\"scatter3d\":[{\"line\":{\"colorbar\":{\"outlinewidth\":0,\"ticks\":\"\"}},\"marker\":{\"colorbar\":{\"outlinewidth\":0,\"ticks\":\"\"}},\"type\":\"scatter3d\"}],\"scattercarpet\":[{\"marker\":{\"colorbar\":{\"outlinewidth\":0,\"ticks\":\"\"}},\"type\":\"scattercarpet\"}],\"scattergeo\":[{\"marker\":{\"colorbar\":{\"outlinewidth\":0,\"ticks\":\"\"}},\"type\":\"scattergeo\"}],\"scattergl\":[{\"marker\":{\"colorbar\":{\"outlinewidth\":0,\"ticks\":\"\"}},\"type\":\"scattergl\"}],\"scattermapbox\":[{\"marker\":{\"colorbar\":{\"outlinewidth\":0,\"ticks\":\"\"}},\"type\":\"scattermapbox\"}],\"scatterpolargl\":[{\"marker\":{\"colorbar\":{\"outlinewidth\":0,\"ticks\":\"\"}},\"type\":\"scatterpolargl\"}],\"scatterpolar\":[{\"marker\":{\"colorbar\":{\"outlinewidth\":0,\"ticks\":\"\"}},\"type\":\"scatterpolar\"}],\"scatter\":[{\"fillpattern\":{\"fillmode\":\"overlay\",\"size\":10,\"solidity\":0.2},\"type\":\"scatter\"}],\"scatterternary\":[{\"marker\":{\"colorbar\":{\"outlinewidth\":0,\"ticks\":\"\"}},\"type\":\"scatterternary\"}],\"surface\":[{\"colorbar\":{\"outlinewidth\":0,\"ticks\":\"\"},\"colorscale\":[[0.0,\"#0d0887\"],[0.1111111111111111,\"#46039f\"],[0.2222222222222222,\"#7201a8\"],[0.3333333333333333,\"#9c179e\"],[0.4444444444444444,\"#bd3786\"],[0.5555555555555556,\"#d8576b\"],[0.6666666666666666,\"#ed7953\"],[0.7777777777777778,\"#fb9f3a\"],[0.8888888888888888,\"#fdca26\"],[1.0,\"#f0f921\"]],\"type\":\"surface\"}],\"table\":[{\"cells\":{\"fill\":{\"color\":\"#EBF0F8\"},\"line\":{\"color\":\"white\"}},\"header\":{\"fill\":{\"color\":\"#C8D4E3\"},\"line\":{\"color\":\"white\"}},\"type\":\"table\"}]},\"layout\":{\"annotationdefaults\":{\"arrowcolor\":\"#2a3f5f\",\"arrowhead\":0,\"arrowwidth\":1},\"autotypenumbers\":\"strict\",\"coloraxis\":{\"colorbar\":{\"outlinewidth\":0,\"ticks\":\"\"}},\"colorscale\":{\"diverging\":[[0,\"#8e0152\"],[0.1,\"#c51b7d\"],[0.2,\"#de77ae\"],[0.3,\"#f1b6da\"],[0.4,\"#fde0ef\"],[0.5,\"#f7f7f7\"],[0.6,\"#e6f5d0\"],[0.7,\"#b8e186\"],[0.8,\"#7fbc41\"],[0.9,\"#4d9221\"],[1,\"#276419\"]],\"sequential\":[[0.0,\"#0d0887\"],[0.1111111111111111,\"#46039f\"],[0.2222222222222222,\"#7201a8\"],[0.3333333333333333,\"#9c179e\"],[0.4444444444444444,\"#bd3786\"],[0.5555555555555556,\"#d8576b\"],[0.6666666666666666,\"#ed7953\"],[0.7777777777777778,\"#fb9f3a\"],[0.8888888888888888,\"#fdca26\"],[1.0,\"#f0f921\"]],\"sequentialminus\":[[0.0,\"#0d0887\"],[0.1111111111111111,\"#46039f\"],[0.2222222222222222,\"#7201a8\"],[0.3333333333333333,\"#9c179e\"],[0.4444444444444444,\"#bd3786\"],[0.5555555555555556,\"#d8576b\"],[0.6666666666666666,\"#ed7953\"],[0.7777777777777778,\"#fb9f3a\"],[0.8888888888888888,\"#fdca26\"],[1.0,\"#f0f921\"]]},\"colorway\":[\"#636efa\",\"#EF553B\",\"#00cc96\",\"#ab63fa\",\"#FFA15A\",\"#19d3f3\",\"#FF6692\",\"#B6E880\",\"#FF97FF\",\"#FECB52\"],\"font\":{\"color\":\"#2a3f5f\"},\"geo\":{\"bgcolor\":\"white\",\"lakecolor\":\"white\",\"landcolor\":\"#E5ECF6\",\"showlakes\":true,\"showland\":true,\"subunitcolor\":\"white\"},\"hoverlabel\":{\"align\":\"left\"},\"hovermode\":\"closest\",\"mapbox\":{\"style\":\"light\"},\"paper_bgcolor\":\"white\",\"plot_bgcolor\":\"#E5ECF6\",\"polar\":{\"angularaxis\":{\"gridcolor\":\"white\",\"linecolor\":\"white\",\"ticks\":\"\"},\"bgcolor\":\"#E5ECF6\",\"radialaxis\":{\"gridcolor\":\"white\",\"linecolor\":\"white\",\"ticks\":\"\"}},\"scene\":{\"xaxis\":{\"backgroundcolor\":\"#E5ECF6\",\"gridcolor\":\"white\",\"gridwidth\":2,\"linecolor\":\"white\",\"showbackground\":true,\"ticks\":\"\",\"zerolinecolor\":\"white\"},\"yaxis\":{\"backgroundcolor\":\"#E5ECF6\",\"gridcolor\":\"white\",\"gridwidth\":2,\"linecolor\":\"white\",\"showbackground\":true,\"ticks\":\"\",\"zerolinecolor\":\"white\"},\"zaxis\":{\"backgroundcolor\":\"#E5ECF6\",\"gridcolor\":\"white\",\"gridwidth\":2,\"linecolor\":\"white\",\"showbackground\":true,\"ticks\":\"\",\"zerolinecolor\":\"white\"}},\"shapedefaults\":{\"line\":{\"color\":\"#2a3f5f\"}},\"ternary\":{\"aaxis\":{\"gridcolor\":\"white\",\"linecolor\":\"white\",\"ticks\":\"\"},\"baxis\":{\"gridcolor\":\"white\",\"linecolor\":\"white\",\"ticks\":\"\"},\"bgcolor\":\"#E5ECF6\",\"caxis\":{\"gridcolor\":\"white\",\"linecolor\":\"white\",\"ticks\":\"\"}},\"title\":{\"x\":0.05},\"xaxis\":{\"automargin\":true,\"gridcolor\":\"white\",\"linecolor\":\"white\",\"ticks\":\"\",\"title\":{\"standoff\":15},\"zerolinecolor\":\"white\",\"zerolinewidth\":2},\"yaxis\":{\"automargin\":true,\"gridcolor\":\"white\",\"linecolor\":\"white\",\"ticks\":\"\",\"title\":{\"standoff\":15},\"zerolinecolor\":\"white\",\"zerolinewidth\":2}}},\"title\":{\"text\":\"Radius of Gyration\"},\"xaxis\":{\"title\":{\"text\":\"Time (ps)\"}},\"yaxis\":{\"title\":{\"text\":\"Rgyr (nm)\"}}},                        {\"responsive\": true}                    ).then(function(){\n",
       "                            \n",
       "var gd = document.getElementById('fb281d72-2d7b-4e5b-a447-481175574c42');\n",
       "var x = new MutationObserver(function (mutations, observer) {{\n",
       "        var display = window.getComputedStyle(gd).display;\n",
       "        if (!display || display === 'none') {{\n",
       "            console.log([gd, 'removed!']);\n",
       "            Plotly.purge(gd);\n",
       "            observer.disconnect();\n",
       "        }}\n",
       "}});\n",
       "\n",
       "// Listen for the removal of the full notebook cells\n",
       "var notebookContainer = gd.closest('#notebook-container');\n",
       "if (notebookContainer) {{\n",
       "    x.observe(notebookContainer, {childList: true});\n",
       "}}\n",
       "\n",
       "// Listen for the clearing of the current output cell\n",
       "var outputEl = gd.closest('.output');\n",
       "if (outputEl) {{\n",
       "    x.observe(outputEl, {childList: true});\n",
       "}}\n",
       "\n",
       "                        })                };                });            </script>        </div>"
      ]
     },
     "metadata": {},
     "output_type": "display_data"
    }
   ],
   "source": [
    "import plotly\n",
    "import plotly.graph_objs as go\n",
    "\n",
    "# Read Rgyr data from file \n",
    "with open(output_rgyr,'r') as rgyr_file:\n",
    "    x,y = map(\n",
    "        list,\n",
    "        zip(*[\n",
    "            (float(line.split()[0]),float(line.split()[1]))\n",
    "            for line in rgyr_file \n",
    "            if not line.startswith((\"#\",\"@\")) \n",
    "        ])\n",
    "    )\n",
    "\n",
    "plotly.offline.init_notebook_mode(connected=True)\n",
    "\n",
    "fig = ({\n",
    "    \"data\": [go.Scatter(x=x, y=y)],\n",
    "    \"layout\": go.Layout(title=\"Radius of Gyration\",\n",
    "                        xaxis=dict(title = \"Time (ps)\"),\n",
    "                        yaxis=dict(title = \"Rgyr (nm)\")\n",
    "                       )\n",
    "})\n",
    "\n",
    "plotly.offline.iplot(fig)"
   ]
  },
  {
   "cell_type": "markdown",
   "metadata": {},
   "source": [
    "<img src='images/fig5.png' width=\"50%\" height=\"50%\"></img>"
   ]
  },
  {
   "cell_type": "markdown",
   "metadata": {},
   "source": [
    "<a id=\"post\"></a>\n",
    "***\n",
    "## Post-processing and Visualizing resulting 3D trajectory\n",
    "Post-processing and Visualizing the **protein-ligand complex system** MD setup **resulting trajectory** using **NGL**\n",
    "- [Step 1](#ppStep1): *Imaging* the resulting trajectory, **stripping out water molecules and ions** and **correcting periodicity issues**.\n",
    "- [Step 2](#ppStep2): Generating a *dry* structure, **removing water molecules and ions** from the final snapshot of the MD setup pipeline.\n",
    "- [Step 3](#ppStep3): Visualizing the *imaged* trajectory using the *dry* structure as a **topology**. \n",
    "***\n",
    "**Building Blocks** used:\n",
    " - [GMXImage](https://biobb-analysis.readthedocs.io/en/latest/gromacs.html#module-gromacs.gmx_image) from **biobb_analysis.gromacs.gmx_image**:\n",
    "     * Wrapper of the GROMACS trjconv module for correcting periodicity (image) from a given GROMACS compatible trajectory file.\n",
    "     \n",
    "     \n",
    " - [GMXTrjConvStr](https://biobb-analysis.readthedocs.io/en/latest/gromacs.html#module-gromacs.gmx_trjconv_str) from **biobb_analysis.gromacs.gmx_trjconv_str**:\n",
    "     * Wrapper of the GROMACS trjconv module for converting between GROMACS compatible structure file formats and/or extracting a selection of atoms.\n",
    "***"
   ]
  },
  {
   "cell_type": "markdown",
   "metadata": {},
   "source": [
    "<a id=\"ppStep1\"></a>\n",
    "### Step 1: *Imaging* the resulting trajectory.\n",
    "Stripping out **water molecules and ions** and **correcting periodicity issues**  "
   ]
  },
  {
   "cell_type": "code",
   "execution_count": 48,
   "metadata": {
    "scrolled": true
   },
   "outputs": [
    {
     "name": "stdout",
     "output_type": "stream",
     "text": [
      "2022-04-22 10:47:35,737 [MainThread  ] [INFO ]  Not using any container\n",
      "2022-04-22 10:47:35,837 [MainThread  ] [INFO ]  echo \"Protein_Other\" \"Protein_Other\" | gmx trjconv -f /home/lg/repos/javerianaMD/simulation/md-biobb/protein_ligand_md.trr -s /home/lg/repos/javerianaMD/simulation/md-biobb/protein_ligand_gppmd.tpr -fit none -o protein_imaged_traj.trr -n /home/lg/repos/javerianaMD/simulation/md-biobb/protein_ligand_index.ndx -center -pbc mol -ur compact\n",
      "\n",
      "2022-04-22 10:47:35,838 [MainThread  ] [INFO ]  Exit code 0\n",
      "\n",
      "2022-04-22 10:47:35,838 [MainThread  ] [INFO ]  Note that major changes are planned in future for trjconv, to improve usability and utility.Select group for centering\n",
      "Selected 24: 'Protein_Other'\n",
      "Select group for output\n",
      "Selected 24: 'Protein_Other'\n",
      "\n",
      "2022-04-22 10:47:35,839 [MainThread  ] [INFO ]                       :-) GROMACS - gmx trjconv, 2019.1 (-:\n",
      "\n",
      "                            GROMACS is written by:\n",
      "     Emile Apol      Rossen Apostolov      Paul Bauer     Herman J.C. Berendsen\n",
      "    Par Bjelkmar      Christian Blau   Viacheslav Bolnykh     Kevin Boyd    \n",
      " Aldert van Buuren   Rudi van Drunen     Anton Feenstra       Alan Gray     \n",
      "  Gerrit Groenhof     Anca Hamuraru    Vincent Hindriksen  M. Eric Irrgang  \n",
      "  Aleksei Iupinov   Christoph Junghans     Joe Jordan     Dimitrios Karkoulis\n",
      "    Peter Kasson        Jiri Kraus      Carsten Kutzner      Per Larsson    \n",
      "  Justin A. Lemkul    Viveca Lindahl    Magnus Lundborg     Erik Marklund   \n",
      "    Pascal Merz     Pieter Meulenhoff    Teemu Murtola       Szilard Pall   \n",
      "    Sander Pronk      Roland Schulz      Michael Shirts    Alexey Shvetsov  \n",
      "   Alfons Sijbers     Peter Tieleman      Jon Vincent      Teemu Virolainen \n",
      " Christian Wennberg    Maarten Wolf   \n",
      "                           and the project leaders:\n",
      "        Mark Abraham, Berk Hess, Erik Lindahl, and David van der Spoel\n",
      "\n",
      "Copyright (c) 1991-2000, University of Groningen, The Netherlands.\n",
      "Copyright (c) 2001-2018, The GROMACS development team at\n",
      "Uppsala University, Stockholm University and\n",
      "the Royal Institute of Technology, Sweden.\n",
      "check out http://www.gromacs.org for more information.\n",
      "\n",
      "GROMACS is free software; you can redistribute it and/or modify it\n",
      "under the terms of the GNU Lesser General Public License\n",
      "as published by the Free Software Foundation; either version 2.1\n",
      "of the License, or (at your option) any later version.\n",
      "\n",
      "GROMACS:      gmx trjconv, version 2019.1\n",
      "Executable:   /opt/miniconda3/envs/biobb_env/bin/gmx\n",
      "Data prefix:  /opt/miniconda3/envs/biobb_env\n",
      "Working dir:  /home/lg/repos/javerianaMD/simulation/md-biobb\n",
      "Command line:\n",
      "  gmx trjconv -f /home/lg/repos/javerianaMD/simulation/md-biobb/protein_ligand_md.trr -s /home/lg/repos/javerianaMD/simulation/md-biobb/protein_ligand_gppmd.tpr -fit none -o protein_imaged_traj.trr -n /home/lg/repos/javerianaMD/simulation/md-biobb/protein_ligand_index.ndx -center -pbc mol -ur compact\n",
      "\n",
      "Will write trr: Trajectory in portable xdr format\n",
      "Reading file /home/lg/repos/javerianaMD/simulation/md-biobb/protein_ligand_gppmd.tpr, VERSION 2019.1 (single precision)\n",
      "Reading file /home/lg/repos/javerianaMD/simulation/md-biobb/protein_ligand_gppmd.tpr, VERSION 2019.1 (single precision)\n",
      "Group     0 (         System) has 19644 elements\n",
      "Group     1 (        Protein) has  2232 elements\n",
      "Group     2 (      Protein-H) has  1145 elements\n",
      "Group     3 (        C-alpha) has   137 elements\n",
      "Group     4 (       Backbone) has   411 elements\n",
      "Group     5 (      MainChain) has   549 elements\n",
      "Group     6 (   MainChain+Cb) has   676 elements\n",
      "Group     7 (    MainChain+H) has   685 elements\n",
      "Group     8 (      SideChain) has  1547 elements\n",
      "Group     9 (    SideChain-H) has   596 elements\n",
      "Group    10 (    Prot-Masses) has  2232 elements\n",
      "Group    11 (    non-Protein) has 17412 elements\n",
      "Group    12 (          Other) has    20 elements\n",
      "Group    13 (            GEN) has    20 elements\n",
      "Group    14 (             NA) has    10 elements\n",
      "Group    15 (             CL) has     6 elements\n",
      "Group    16 (          Water) has 17376 elements\n",
      "Group    17 (            SOL) has 17376 elements\n",
      "Group    18 (      non-Water) has  2268 elements\n",
      "Group    19 (            Ion) has    16 elements\n",
      "Group    20 (            GEN) has    20 elements\n",
      "Group    21 (             NA) has    10 elements\n",
      "Group    22 (             CL) has     6 elements\n",
      "Group    23 ( Water_and_ions) has 17392 elements\n",
      "Group    24 (  Protein_Other) has  2252 elements\n",
      "Select a group: Group     0 (         System) has 19644 elements\n",
      "Group     1 (        Protein) has  2232 elements\n",
      "Group     2 (      Protein-H) has  1145 elements\n",
      "Group     3 (        C-alpha) has   137 elements\n",
      "Group     4 (       Backbone) has   411 elements\n",
      "Group     5 (      MainChain) has   549 elements\n",
      "Group     6 (   MainChain+Cb) has   676 elements\n",
      "Group     7 (    MainChain+H) has   685 elements\n",
      "Group     8 (      SideChain) has  1547 elements\n",
      "Group     9 (    SideChain-H) has   596 elements\n",
      "Group    10 (    Prot-Masses) has  2232 elements\n",
      "Group    11 (    non-Protein) has 17412 elements\n",
      "Group    12 (          Other) has    20 elements\n",
      "Group    13 (            GEN) has    20 elements\n",
      "Group    14 (             NA) has    10 elements\n",
      "Group    15 (             CL) has     6 elements\n",
      "Group    16 (          Water) has 17376 elements\n",
      "Group    17 (            SOL) has 17376 elements\n",
      "Group    18 (      non-Water) has  2268 elements\n",
      "Group    19 (            Ion) has    16 elements\n",
      "Group    20 (            GEN) has    20 elements\n",
      "Group    21 (             NA) has    10 elements\n",
      "Group    22 (             CL) has     6 elements\n",
      "Group    23 ( Water_and_ions) has 17392 elements\n",
      "Group    24 (  Protein_Other) has  2252 elements\n",
      "Select a group: trr version: GMX_trn_file (single precision)\n",
      "Reading frame       0 time    0.000   \n",
      "Back Off! I just backed up protein_imaged_traj.trr to ./#protein_imaged_traj.trr.1#\n",
      "Last frame          5 time   50.000    ->  frame      5 time   50.000      \n",
      "\n",
      "\n",
      "GROMACS reminds you: \"... an excellent man, almost worthy of such a wife ...\" (Jane Eyre in Jane Eyre by Charlotte Bronte)\n",
      "\n",
      "\n"
     ]
    },
    {
     "data": {
      "text/plain": [
       "0"
      ]
     },
     "execution_count": 48,
     "metadata": {},
     "output_type": "execute_result"
    }
   ],
   "source": [
    "# GMXImage: \"Imaging\" the resulting trajectory\n",
    "#           Removing water molecules and ions from the resulting structure\n",
    "from biobb_analysis.gromacs.gmx_image import gmx_image\n",
    "\n",
    "# Create prop dict and inputs/outputs\n",
    "output_imaged_traj = pdbName+'_imaged_traj.trr'\n",
    "prop = {\n",
    "    'center_selection':  'Protein_Other',\n",
    "    'output_selection': 'Protein_Other',\n",
    "    'pbc' : 'mol',\n",
    "    'center' : True\n",
    "}\n",
    "\n",
    "# Create and launch bb\n",
    "gmx_image (input_traj_path  = output_md_trr,\n",
    "           input_top_path   = output_gppmd_tpr,\n",
    "           input_index_path = output_complex_ndx,\n",
    "           output_traj_path = output_imaged_traj, \n",
    "           properties       = prop)"
   ]
  },
  {
   "cell_type": "markdown",
   "metadata": {},
   "source": [
    "<a id=\"ppStep2\"></a>\n",
    "### Step 2: Generating the output *dry* structure.\n",
    "**Removing water molecules and ions** from the resulting structure"
   ]
  },
  {
   "cell_type": "code",
   "execution_count": 49,
   "metadata": {
    "scrolled": true
   },
   "outputs": [
    {
     "name": "stdout",
     "output_type": "stream",
     "text": [
      "2022-04-22 10:47:35,871 [MainThread  ] [INFO ]  Not using any container\n",
      "2022-04-22 10:47:36,024 [MainThread  ] [INFO ]  echo \"Protein_Other\" | gmx trjconv -f /home/lg/repos/javerianaMD/simulation/md-biobb/protein_ligand_md.gro -s /home/lg/repos/javerianaMD/simulation/md-biobb/protein_ligand_gppmd.tpr -o protein_md_dry.gro -n /home/lg/repos/javerianaMD/simulation/md-biobb/protein_ligand_index.ndx\n",
      "\n",
      "2022-04-22 10:47:36,025 [MainThread  ] [INFO ]  Exit code 0\n",
      "\n",
      "2022-04-22 10:47:36,026 [MainThread  ] [INFO ]  Note that major changes are planned in future for trjconv, to improve usability and utility.Select group for output\n",
      "Selected 24: 'Protein_Other'\n",
      "\n",
      "2022-04-22 10:47:36,027 [MainThread  ] [INFO ]                       :-) GROMACS - gmx trjconv, 2019.1 (-:\n",
      "\n",
      "                            GROMACS is written by:\n",
      "     Emile Apol      Rossen Apostolov      Paul Bauer     Herman J.C. Berendsen\n",
      "    Par Bjelkmar      Christian Blau   Viacheslav Bolnykh     Kevin Boyd    \n",
      " Aldert van Buuren   Rudi van Drunen     Anton Feenstra       Alan Gray     \n",
      "  Gerrit Groenhof     Anca Hamuraru    Vincent Hindriksen  M. Eric Irrgang  \n",
      "  Aleksei Iupinov   Christoph Junghans     Joe Jordan     Dimitrios Karkoulis\n",
      "    Peter Kasson        Jiri Kraus      Carsten Kutzner      Per Larsson    \n",
      "  Justin A. Lemkul    Viveca Lindahl    Magnus Lundborg     Erik Marklund   \n",
      "    Pascal Merz     Pieter Meulenhoff    Teemu Murtola       Szilard Pall   \n",
      "    Sander Pronk      Roland Schulz      Michael Shirts    Alexey Shvetsov  \n",
      "   Alfons Sijbers     Peter Tieleman      Jon Vincent      Teemu Virolainen \n",
      " Christian Wennberg    Maarten Wolf   \n",
      "                           and the project leaders:\n",
      "        Mark Abraham, Berk Hess, Erik Lindahl, and David van der Spoel\n",
      "\n",
      "Copyright (c) 1991-2000, University of Groningen, The Netherlands.\n",
      "Copyright (c) 2001-2018, The GROMACS development team at\n",
      "Uppsala University, Stockholm University and\n",
      "the Royal Institute of Technology, Sweden.\n",
      "check out http://www.gromacs.org for more information.\n",
      "\n",
      "GROMACS is free software; you can redistribute it and/or modify it\n",
      "under the terms of the GNU Lesser General Public License\n",
      "as published by the Free Software Foundation; either version 2.1\n",
      "of the License, or (at your option) any later version.\n",
      "\n",
      "GROMACS:      gmx trjconv, version 2019.1\n",
      "Executable:   /opt/miniconda3/envs/biobb_env/bin/gmx\n",
      "Data prefix:  /opt/miniconda3/envs/biobb_env\n",
      "Working dir:  /home/lg/repos/javerianaMD/simulation/md-biobb\n",
      "Command line:\n",
      "  gmx trjconv -f /home/lg/repos/javerianaMD/simulation/md-biobb/protein_ligand_md.gro -s /home/lg/repos/javerianaMD/simulation/md-biobb/protein_ligand_gppmd.tpr -o protein_md_dry.gro -n /home/lg/repos/javerianaMD/simulation/md-biobb/protein_ligand_index.ndx\n",
      "\n",
      "Will write gro: Coordinate file in Gromos-87 format\n",
      "Reading file /home/lg/repos/javerianaMD/simulation/md-biobb/protein_ligand_gppmd.tpr, VERSION 2019.1 (single precision)\n",
      "Reading file /home/lg/repos/javerianaMD/simulation/md-biobb/protein_ligand_gppmd.tpr, VERSION 2019.1 (single precision)\n",
      "Group     0 (         System) has 19644 elements\n",
      "Group     1 (        Protein) has  2232 elements\n",
      "Group     2 (      Protein-H) has  1145 elements\n",
      "Group     3 (        C-alpha) has   137 elements\n",
      "Group     4 (       Backbone) has   411 elements\n",
      "Group     5 (      MainChain) has   549 elements\n",
      "Group     6 (   MainChain+Cb) has   676 elements\n",
      "Group     7 (    MainChain+H) has   685 elements\n",
      "Group     8 (      SideChain) has  1547 elements\n",
      "Group     9 (    SideChain-H) has   596 elements\n",
      "Group    10 (    Prot-Masses) has  2232 elements\n",
      "Group    11 (    non-Protein) has 17412 elements\n",
      "Group    12 (          Other) has    20 elements\n",
      "Group    13 (            GEN) has    20 elements\n",
      "Group    14 (             NA) has    10 elements\n",
      "Group    15 (             CL) has     6 elements\n",
      "Group    16 (          Water) has 17376 elements\n",
      "Group    17 (            SOL) has 17376 elements\n",
      "Group    18 (      non-Water) has  2268 elements\n",
      "Group    19 (            Ion) has    16 elements\n",
      "Group    20 (            GEN) has    20 elements\n",
      "Group    21 (             NA) has    10 elements\n",
      "Group    22 (             CL) has     6 elements\n",
      "Group    23 ( Water_and_ions) has 17392 elements\n",
      "Group    24 (  Protein_Other) has  2252 elements\n",
      "Select a group: Reading frames from gro file 'Protein in water', 19644 atoms.\n",
      "Reading frame       0 time    0.000   \n",
      "Precision of /home/lg/repos/javerianaMD/simulation/md-biobb/protein_ligand_md.gro is 0.001 (nm)\n",
      "\n",
      "Back Off! I just backed up protein_md_dry.gro to ./#protein_md_dry.gro.1#\n",
      "Last frame          0 time    0.000   \n",
      "\n",
      "\n",
      "GROMACS reminds you: \"If you want to save your child from polio, you can pray or you can inoculate... choose science.\" (Carl Sagan)\n",
      "\n",
      "\n"
     ]
    },
    {
     "data": {
      "text/plain": [
       "0"
      ]
     },
     "execution_count": 49,
     "metadata": {},
     "output_type": "execute_result"
    }
   ],
   "source": [
    "# GMXTrjConvStr: Converting and/or manipulating a structure\n",
    "#                Removing water molecules and ions from the resulting structure\n",
    "#                The \"dry\" structure will be used as a topology to visualize \n",
    "#                the \"imaged dry\" trajectory generated in the previous step.\n",
    "from biobb_analysis.gromacs.gmx_trjconv_str import gmx_trjconv_str\n",
    "\n",
    "# Create prop dict and inputs/outputs\n",
    "output_dry_gro = pdbName+'_md_dry.gro'\n",
    "prop = {\n",
    "    'selection':  'Protein_Other'\n",
    "}\n",
    "\n",
    "# Create and launch bb\n",
    "gmx_trjconv_str(input_structure_path = output_md_gro,\n",
    "                input_top_path       = output_gppmd_tpr,\n",
    "                input_index_path     = output_complex_ndx,\n",
    "                output_str_path      = output_dry_gro, \n",
    "                properties           = prop)"
   ]
  },
  {
   "cell_type": "markdown",
   "metadata": {},
   "source": [
    "<a id=\"ppStep3\"></a>\n",
    "### Step 3: Visualizing the generated dehydrated trajectory.\n",
    "Using the **imaged trajectory** (output of the [Post-processing step 1](#ppStep1)) with the **dry structure** (output of the [Post-processing step 2](#ppStep2)) as a topology."
   ]
  },
  {
   "cell_type": "code",
   "execution_count": 50,
   "metadata": {
    "scrolled": false
   },
   "outputs": [
    {
     "data": {
      "application/vnd.jupyter.widget-view+json": {
       "model_id": "71483c0d2c7b47cea90c26409b858174",
       "version_major": 2,
       "version_minor": 0
      },
      "text/plain": [
       "NGLWidget(max_frame=5)"
      ]
     },
     "metadata": {},
     "output_type": "display_data"
    },
    {
     "data": {
      "application/vnd.jupyter.widget-view+json": {
       "model_id": "315a7dc0f45949108ec3b59fd889b697",
       "version_major": 2,
       "version_minor": 0
      },
      "text/plain": [
       "Tab(children=(Box(children=(Box(children=(Box(children=(Label(value='step'), IntSlider(value=1, min=-100)), la…"
      ]
     },
     "metadata": {},
     "output_type": "display_data"
    }
   ],
   "source": [
    "# Show trajectory\n",
    "view = nglview.show_simpletraj(nglview.SimpletrajTrajectory(output_imaged_traj, output_dry_gro), gui=True)\n",
    "view"
   ]
  },
  {
   "cell_type": "markdown",
   "metadata": {},
   "source": [
    "<img src='images/trajectory.gif'></img>"
   ]
  },
  {
   "cell_type": "markdown",
   "metadata": {
    "variables": {
     "output_genion_top_zip": "3HTB_JZ4_genion_top.zip",
     "output_gppmd_tpr": "3HTB_JZ4_gppmd.tpr",
     "output_md_cpt": "3HTB_JZ4_md.cpt",
     "output_md_gro": "3HTB_JZ4_md.gro",
     "output_md_trr": "3HTB_JZ4_md.trr",
     "output_rgyr": "3HTB_JZ4_rgyr.xvg",
     "output_rms_exp": "3HTB_JZ4_rms_exp.xvg",
     "output_rms_first": "3HTB_JZ4_rms_first.xvg"
    }
   },
   "source": [
    "<a id=\"output\"></a>\n",
    "## Output files\n",
    "\n",
    "Important **Output files** generated:\n",
    " - {{output_md_gro}}: **Final structure** (snapshot) of the MD setup protocol.\n",
    " - {{output_md_trr}}: **Final trajectory** of the MD setup protocol.\n",
    " - {{output_md_cpt}}: **Final checkpoint file**, with information about the state of the simulation. It can be used to **restart** or **continue** a MD simulation.\n",
    " - {{output_gppmd_tpr}}: **Final tpr file**, GROMACS portable binary run input file. This file contains the starting structure of the **MD setup free MD simulation step**, together with the molecular topology and all the simulation parameters. It can be used to **extend** the simulation.\n",
    " - {{output_genion_top_zip}}: **Final topology** of the MD system. It is a compressed zip file including a **topology file** (.top) and a set of auxiliar **include topology** files (.itp).\n",
    "\n",
    "**Analysis** (MD setup check) output files generated:\n",
    " - {{output_rms_first}}: **Root Mean Square deviation (RMSd)** against **minimized and equilibrated structure** of the final **free MD run step**.\n",
    " - {{output_rms_exp}}: **Root Mean Square deviation (RMSd)** against **experimental structure** of the final **free MD run step**.\n",
    " - {{output_rgyr}}: **Radius of Gyration** of the final **free MD run step** of the **setup pipeline**.\n",
    " "
   ]
  }
 ],
 "metadata": {
  "anaconda-cloud": {},
  "kernelspec": {
   "display_name": "Python 3 (ipykernel)",
   "language": "python",
   "name": "python3"
  },
  "language_info": {
   "codemirror_mode": {
    "name": "ipython",
    "version": 3
   },
   "file_extension": ".py",
   "mimetype": "text/x-python",
   "name": "python",
   "nbconvert_exporter": "python",
   "pygments_lexer": "ipython3",
   "version": "3.7.12"
  },
  "toc": {
   "base_numbering": 1,
   "nav_menu": {},
   "number_sections": true,
   "sideBar": true,
   "skip_h1_title": true,
   "title_cell": "Table of Contents",
   "title_sidebar": "Contents",
   "toc_cell": false,
   "toc_position": {
    "height": "397px",
    "left": "29px",
    "top": "86.5625px",
    "width": "394px"
   },
   "toc_section_display": true,
   "toc_window_display": true
  }
 },
 "nbformat": 4,
 "nbformat_minor": 2
}
