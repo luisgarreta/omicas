{
 "cells": [
  {
   "cell_type": "code",
   "execution_count": 47,
   "metadata": {},
   "outputs": [],
   "source": [
    "#!/usr/bin/python3\n",
    "from Bio.PDB import *\n",
    "import sys\n",
    "\n",
    "d3to1 = {'CYS': 'C', 'ASP': 'D', 'SER': 'S', 'GLN': 'Q', 'LYS': 'K',\n",
    "'ILE': 'I', 'PRO': 'P', 'THR': 'T', 'PHE': 'F', 'ASN': 'N', \n",
    "'GLY': 'G', 'HIS': 'H', 'LEU': 'L', 'ARG': 'R', 'TRP': 'W', \n",
    "'ALA': 'A', 'VAL':'V', 'GLU': 'E', 'TYR': 'Y', 'MET': 'M'}\n",
    "\n",
    "\n",
    "# Just an example input pdb\n",
    "record = '2xa0.pdb'\n",
    "\n",
    "# run parser\n",
    "parser    = PDBParser(QUIET=True)\n",
    "structure = parser.get_structure('struct', record)"
   ]
  },
  {
   "cell_type": "code",
   "execution_count": 5,
   "metadata": {},
   "outputs": [],
   "source": [
    "helices = {1:[11,26],2:[93,112],3:[115,118],4:[125,139],5:[144,164],6:[168,185],7:[185,192],8:[195,203]}"
   ]
  },
  {
   "cell_type": "code",
   "execution_count": 32,
   "metadata": {},
   "outputs": [],
   "source": [
    "chains = list (structure.get_chains())\n",
    "chainA = chains [0]\n",
    "resChain = list (chainA.get_residues ())"
   ]
  },
  {
   "cell_type": "code",
   "execution_count": 46,
   "metadata": {},
   "outputs": [
    {
     "name": "stdout",
     "output_type": "stream",
     "text": [
      "[11, 12, 13, 14, 15, 16, 17, 18, 19, 20, 21, 22, 23, 24, 25, 26]\n",
      "[195, 196, 197, 198, 199, 200, 201, 202, 203]\n",
      "[11, 12, 13, 14, 15, 16, 17, 18, 19, 20, 21, 22, 23, 24, 25, 26, 195, 196, 197, 198, 199, 200, 201, 202, 203]\n",
      "['ASN', 'ARG', 'GLU', 'ILE', 'VAL', 'MET', 'LYS', 'TYR', 'ILE', 'HIS', 'TYR', 'LYS', 'LEU', 'SER', 'GLN', 'ARG', 'TRP', 'ASP', 'ALA', 'PHE', 'VAL', 'GLU', 'LEU', 'TYR', 'GLY']\n",
      "['N', 'R', 'E', 'I', 'V', 'M', 'K', 'Y', 'I', 'H', 'Y', 'K', 'L', 'S', 'Q', 'R', 'W', 'D', 'A', 'F', 'V', 'E', 'L', 'Y', 'G']\n"
     ]
    }
   ],
   "source": [
    "helixList = [1,8]\n",
    "resGrooveNums = []\n",
    "resGrooveNames = []\n",
    "resGrooveIds = []\n",
    "for helixNum in helixList:\n",
    "    helix = helices [helixNum]\n",
    "    resHelix = list (range (helix[0],helix[1]+1))\n",
    "    print (resHelix)\n",
    "    for r in resChain:\n",
    "        resNro = r.id[1]\n",
    "        if (resNro in resHelix):\n",
    "            resGrooveNames.append (r.resname) \n",
    "            resGrooveNums.append (resNro)\n",
    "            resGrooveIds.append (d3to1[r.resname])\n",
    "print (resGrooveNums)\n",
    "print (resGrooveNames)\n",
    "print (resGrooveIds)"
   ]
  }
 ],
 "metadata": {
  "kernelspec": {
   "display_name": "Python 3",
   "language": "python",
   "name": "python3"
  },
  "language_info": {
   "codemirror_mode": {
    "name": "ipython",
    "version": 3
   },
   "file_extension": ".py",
   "mimetype": "text/x-python",
   "name": "python",
   "nbconvert_exporter": "python",
   "pygments_lexer": "ipython3",
   "version": "3.8.10"
  },
  "toc": {
   "base_numbering": 1,
   "nav_menu": {},
   "number_sections": false,
   "sideBar": true,
   "skip_h1_title": false,
   "title_cell": "Table of Contents",
   "title_sidebar": "Contents",
   "toc_cell": false,
   "toc_position": {},
   "toc_section_display": true,
   "toc_window_display": false
  }
 },
 "nbformat": 4,
 "nbformat_minor": 4
}
