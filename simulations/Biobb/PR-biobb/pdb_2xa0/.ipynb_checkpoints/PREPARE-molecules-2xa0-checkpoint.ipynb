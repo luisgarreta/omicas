{
 "cells": [
  {
   "cell_type": "markdown",
   "metadata": {
    "toc": true
   },
   "source": [
    "<h1>MD Setup<span class=\"tocSkip\"></span></h1>\n",
    "<div class=\"toc\"><ul class=\"toc-item\"><li><span><a href=\"#Introduction\" data-toc-modified-id=\"Introduction-1\"><span class=\"toc-item-num\">1&nbsp;&nbsp;</span>Introduction</a></span><ul class=\"toc-item\"><li><span><a href=\"#Input-parameters\" data-toc-modified-id=\"Input-parameters-1.1\"><span class=\"toc-item-num\">1.1&nbsp;&nbsp;</span>Input parameters</a></span></li><li><span><a href=\"#Libraries-and-Functions\" data-toc-modified-id=\"Libraries-and-Functions-1.2\"><span class=\"toc-item-num\">1.2&nbsp;&nbsp;</span>Libraries and Functions</a></span></li><li><span><a href=\"#Visualizing-initial-complex-structure\" data-toc-modified-id=\"Visualizing-initial-complex-structure-1.3\"><span class=\"toc-item-num\">1.3&nbsp;&nbsp;</span>Visualizing initial complex structure</a></span></li></ul></li><li><span><a href=\"#Fix-protein-structure\" data-toc-modified-id=\"Fix-protein-structure-2\"><span class=\"toc-item-num\">2&nbsp;&nbsp;</span>Fix protein structure</a></span><ul class=\"toc-item\"><li><span><a href=\"#Perform-all-checks\" data-toc-modified-id=\"Perform-all-checks-2.1\"><span class=\"toc-item-num\">2.1&nbsp;&nbsp;</span>Perform all checks</a></span></li></ul></li><li><span><a href=\"#Extract-complex-bcl-2-bax\" data-toc-modified-id=\"Extract-complex-bcl-2-bax-3\"><span class=\"toc-item-num\">3&nbsp;&nbsp;</span>Extract complex bcl-2-bax</a></span></li><li><span><a href=\"#Extracting-Protein,-Ligand-and-Protein-Ligand-Complex\" data-toc-modified-id=\"Extracting-Protein,-Ligand-and-Protein-Ligand-Complex-4\"><span class=\"toc-item-num\">4&nbsp;&nbsp;</span>Extracting Protein, Ligand and Protein-Ligand Complex</a></span><ul class=\"toc-item\"><li><span><a href=\"#Visualizing-3D-structures\" data-toc-modified-id=\"Visualizing-3D-structures-4.1\"><span class=\"toc-item-num\">4.1&nbsp;&nbsp;</span>Visualizing 3D structures</a></span></li><li><span><a href=\"#Fix-backbone\" data-toc-modified-id=\"Fix-backbone-4.2\"><span class=\"toc-item-num\">4.2&nbsp;&nbsp;</span>Fix backbone</a></span></li><li><span><a href=\"#Quilarity\" data-toc-modified-id=\"Quilarity-4.3\"><span class=\"toc-item-num\">4.3&nbsp;&nbsp;</span>Quilarity</a></span></li></ul></li></ul></div>"
   ]
  },
  {
   "cell_type": "markdown",
   "metadata": {},
   "source": [
    "## Introduction\n",
    "This notebook describes the process of **preparing protein and ligand molecules**. The protein is the bcl-2-bax complex (pdbcode 2xa0), and the ligand is the Genestein small molecule (Pubchem CID 5280961)."
   ]
  },
  {
   "cell_type": "markdown",
   "metadata": {},
   "source": [
    "### Input parameters\n",
    " - **input.cif**: CIF file of the bcl-2-bax complex (PDB code 2xa0)."
   ]
  },
  {
   "cell_type": "markdown",
   "metadata": {},
   "source": [
    "### Libraries and Functions"
   ]
  },
  {
   "cell_type": "code",
   "execution_count": 1,
   "metadata": {},
   "outputs": [
    {
     "data": {
      "application/vnd.jupyter.widget-view+json": {
       "model_id": "76061f8d1cdc454ca5dc7c01a4776ccc",
       "version_major": 2,
       "version_minor": 0
      },
      "text/plain": []
     },
     "metadata": {},
     "output_type": "display_data"
    }
   ],
   "source": [
    "import nglview               # For visualizing 3D structures\n",
    "import ipywidgets            # For organizing 3D structures in panels\n",
    "from IPython.display import Image       # For showing images"
   ]
  },
  {
   "cell_type": "markdown",
   "metadata": {},
   "source": [
    "### Visualizing initial complex structure"
   ]
  },
  {
   "cell_type": "code",
   "execution_count": 2,
   "metadata": {
    "scrolled": true
   },
   "outputs": [
    {
     "data": {
      "application/vnd.jupyter.widget-view+json": {
       "model_id": "1aa483d6a72640a0817208d0641941e1",
       "version_major": 2,
       "version_minor": 0
      },
      "text/plain": [
       "NGLWidget()"
      ]
     },
     "metadata": {},
     "output_type": "display_data"
    }
   ],
   "source": [
    "view = nglview.show_structure_file(\"input.cif\", default=False)\n",
    "view.add_representation(repr_type   = 'cartoon', \n",
    "                        selection   = 'not het',\n",
    "                        colorScheme = 'atomindex')\n",
    "view.center()\n",
    "view"
   ]
  },
  {
   "cell_type": "markdown",
   "metadata": {},
   "source": [
    "<a id=\"fix\"></a>\n",
    "***\n",
    "## Fix protein structure\n",
    "**Checking** and **fixing** (if needed) the protein structure:<br>\n",
    "- **Modeling** **missing side-chain atoms**, modifying incorrect **amide assignments**, choosing **alternative locations**.<br>\n",
    "- **Checking** for missing **backbone atoms**, **heteroatoms**, **modified residues** and possible **atomic clashes**.\n",
    "***\n",
    "**Tools** used:\n",
    " - [check_strcuture](https://biobb-structure-checking.readthedocs.io/en/latest/command_line_usage.html) (Structure Checking from MDWeb)\n",
    "check_structure performs [MDWeb structure checking](http://mmb.irbbarcelona.org/MDWeb2/help.php?id=checking) set as a command line utility. It is intended to prepare a structure for molecular dynamics simulation. It includes structure manipulation options like selecting models or chains, removing components of the system, completing side chains and backbone, and quality checking as residue quirality, amide orientation, or vdw clashes.\n",
    "\n",
    "- [Modeller](https://salilab.org/modeller/) Missing fragments filled using comparative modelling.\n",
    "***"
   ]
  },
  {
   "cell_type": "markdown",
   "metadata": {},
   "source": [
    "### Perform all checks"
   ]
  },
  {
   "cell_type": "code",
   "execution_count": 3,
   "metadata": {},
   "outputs": [
    {
     "name": "stdout",
     "output_type": "stream",
     "text": [
      "===============================================================================\n",
      "=                   BioBB structure checking utility v3.8.1                   =\n",
      "=                 A. Hospital, P. Andrio, J.L. Gelpi 2018-21                  =\n",
      "===============================================================================\n",
      "\n",
      "Structure input.cif loaded\n",
      " PDB id: 2XA0\n",
      " Title: Crystal structure of BCL-2 in complex with a BAX BH3 peptide\n",
      " Experimental method: X-RAY DIFFRACTION\n",
      " Keywords: APOPTOSIS\n",
      " Resolution (A): 2.70\n",
      "\n",
      " Num. models: 1\n",
      " Num. chains: 4 (A: Protein, B: Protein, C: Protein, D: Protein)\n",
      " Num. residues:  347\n",
      " Num. residues with ins. codes:  0\n",
      " Num. HETATM residues:  21\n",
      " Num. ligands or modified residues:  0\n",
      " Num. water mol.:  21\n",
      " Num. atoms:  2733\n",
      "\n",
      "Running models.\n",
      "1 Model(s) detected\n",
      "Single model found\n",
      "Running chains.\n",
      "4 Chain(s) detected\n",
      " A: Protein\n",
      " B: Protein\n",
      " C: Protein\n",
      " D: Protein\n",
      "Running inscodes.\n",
      "No residues with insertion codes found\n",
      "Running altloc.\n",
      "No residues with alternative location labels detected\n",
      "Running rem_hydrogen.\n",
      "No residues with Hydrogen atoms found\n",
      "Running add_hydrogen.\n",
      "116 Residues requiring selection on adding H atoms\n",
      " CYS A158,B158,C62,D62\n",
      " ASP A10,A31,A102,A103,A111,A140,A171,A191,A196,B10,B31,B102,B103,B111,B140,B171,B191,B196,C68,C71,C82,D68,D71,D82\n",
      " GLU A13,A29,A114,A135,A136,A152,A160,A165,A179,A200,B13,B29,B114,B135,B136,B152,B160,B165,B179,B200,C61,C69,C75,D61,D69,D75\n",
      " HIS A20,A94,A120,A184,A186,B20,B94,B120,B184,B186\n",
      " LYS A17,A22,B17,B22,C57,C58,D57,D58\n",
      " ARG A12,A26,A98,A106,A107,A109,A110,A127,A129,A139,A146,A164,A183,B12,B26,B98,B106,B107,B109,B110,B127,B129,B139,B146,B164,B183,C64,C65,C78,D64,D65,D78\n",
      " TYR A18,A21,A28,A108,A180,A202,B18,B21,B28,B108,B180,B202\n",
      "Running water.\n",
      "21 Water molecules detected\n",
      "Running metals.\n",
      "No metal ions found\n",
      "Running ligands.\n",
      "No ligands found\n",
      "Running getss.\n",
      "No SS bonds detected\n",
      "Running amide.\n",
      "5 unusual contact(s) involving amide atoms found\n",
      " ARG A107.NH2 ASN C73.ND2     2.933 A\n",
      " GLN B118.OE1 LYS D57.O       2.907 A\n",
      " ASN B143.OD1 ASP D68.OD1     2.845 A\n",
      " ASN B143.ND2 GLY B145.N      2.601 A\n",
      " ASN B143.ND2 ARG B146.N      2.551 A\n",
      "Running chiral.\n",
      "No residues with incorrect side-chain chirality found\n",
      "Running chiral_bck.\n",
      "No residues with incorrect backbone chirality found\n",
      "Running fixside.\n",
      "No residues with missing or unknown side chain atoms found\n",
      "Running backbone.\n",
      "2 Residues with missing backbone atoms found\n",
      " ASP A31    OXT\n",
      " ASP B31    OXT\n",
      "2 Backbone breaks found\n",
      " ASP A31    - VAL A92    \n",
      " ASP B31    - VAL B92    \n",
      "No unexpected backbone links\n",
      "Running cistransbck.\n",
      "No cis peptide bonds found\n",
      "No trans peptide bonds with unusual omega dihedrals found\n",
      "Running clashes.\n",
      "No severe clashes detected\n",
      "20 Steric apolar clashes detected\n",
      " ARG A12.O    MET A16.CG      2.715 A\n",
      " LYS A22.CE   GLU A152.OE2    2.650 A\n",
      " TYR A28.CZ   ASN A163.OD1    2.853 A\n",
      " VAL A93.O    LEU A97.CB      2.813 A\n",
      " THR A125.CG2 ARG A129.NE     2.556 A\n",
      " ALA A131.O   GLU A135.CG     2.853 A\n",
      " ASN B11.CB   ASN B182.OD1    2.868 A\n",
      " ILE B19.O    LEU B23.CD1     2.838 A\n",
      " LYS B22.CE   GLU B152.OE2    2.745 A\n",
      " HIS B120.C   ARG B129.NH1    2.889 A\n",
      " GLU B136.CB  SER D60.OG      2.686 A\n",
      " ASP B140.OD1 ARG D64.CZ      2.803 A\n",
      " GLU B160.OE2 ARG B164.CD     2.862 A\n",
      " ASN B172.O   LEU B175.CB     2.896 A\n",
      " TRP B188.CE2 ASN B192.ND2    2.882 A\n",
      " ILE B189.O   GLY B194.CA     2.874 A\n",
      " SER C60.O    ARG C64.CG      2.853 A\n",
      " LEU C70.O    MET C74.CG      2.796 A\n",
      " SER D60.O    ARG D64.CG      2.684 A\n",
      " MET D79.O    ASP D82.CB      2.625 A\n",
      "8 Steric polar_acceptor clashes detected\n",
      " LEU A23.O    TYR A28.O       3.058 A\n",
      " ARG A98.O    ASP A102.OD2    2.866 A\n",
      " ARG B12.O    MET B16.SD      3.006 A\n",
      " ARG B98.O    ASP B102.OD2    2.462 A\n",
      " GLN B118.OE1 LYS D57.O       2.907 A\n",
      " ASN B143.OD1 ASP D68.OD1     2.845 A\n",
      " ARG C78.O    ASP C82.OD1     2.372 A\n",
      " ARG D64.O    ASP D68.OD2     2.942 A\n",
      "7 Steric polar_donor clashes detected\n",
      " ARG A107.NH2 ASN C73.ND2     2.933 A\n",
      " LEU A121.N   ARG A164.NH1    2.831 A\n",
      " ARG A139.NH2 ARG C64.NH1     2.659 A\n",
      " ARG A146.NH2 ARG C64.NH2     2.879 A\n",
      " ARG B139.NH2 LYS C58.NZ      2.750 A\n",
      " ASN B143.ND2 GLY B145.N      2.601 A\n",
      " ASN B143.ND2 ARG B146.N      2.551 A\n",
      "3 Steric positive clashes detected\n",
      " ARG A139.NH2 ARG C64.NH1     2.659 A\n",
      " ARG A146.NH2 ARG C64.NH2     2.879 A\n",
      " ARG B139.NH2 LYS C58.NZ      2.750 A\n",
      "1 Steric negative clashes detected\n",
      " ASP D71.OD1  GLU D75.OE2     3.386 A\n",
      "Running sequences.\n",
      "Canonical sequence\n",
      ">can_sq_A canonical sequence chain A\n",
      "MAHAGRTGYDNREIVMKYIHYKLSQRGYEWDAGDVGAAPPGAAPAPGIFSSQPGHTPHPA\n",
      "ASRDPVARTSPLQTPAAPGAAAGPALSPVPPVVHLTLRQAGDDFSRRYRRDFAEMSSQLH\n",
      "LTPFTARGRFATVVEELFRDGVNWGRIVAFFEFGGVMCVESVNREMSPLVDNIALWMTEY\n",
      "LNRHLHTWIQDNGGWDAFVELYGPSMR\n",
      ">can_sq_B canonical sequence chain B\n",
      "MAHAGRTGYDNREIVMKYIHYKLSQRGYEWDAGDVGAAPPGAAPAPGIFSSQPGHTPHPA\n",
      "ASRDPVARTSPLQTPAAPGAAAGPALSPVPPVVHLTLRQAGDDFSRRYRRDFAEMSSQLH\n",
      "LTPFTARGRFATVVEELFRDGVNWGRIVAFFEFGGVMCVESVNREMSPLVDNIALWMTEY\n",
      "LNRHLHTWIQDNGGWDAFVELYGPSMR\n",
      ">can_sq_C canonical sequence chain C\n",
      "QDASTKKLSECLRRIGDELDSNMELQRMIAD\n",
      ">can_sq_D canonical sequence chain D\n",
      "QDASTKKLSECLRRIGDELDSNMELQRMIAD\n",
      "\n",
      "Structure sequence\n",
      ">pdb_sq_A Frags: 92-206\n",
      "---------DNREIVMKYIHYKLSQRGYEWD-----------------------------\n",
      "-------------------------------VVHLTLRQAGDDFSRRYRRDFAEMSSQLH\n",
      "LTPFTARGRFATVVEELFRDGVNWGRIVAFFEFGGVMCVESVNREMSPLVDNIALWMTEY\n",
      "LNRHLHTWIQDNGGWDAFVELYGPSM-\n",
      ">pdb_sq_B Frags: 92-206\n",
      "---------DNREIVMKYIHYKLSQRGYEWD-----------------------------\n",
      "-------------------------------VVHLTLRQAGDDFSRRYRRDFAEMSSQLH\n",
      "LTPFTARGRFATVVEELFRDGVNWGRIVAFFEFGGVMCVESVNREMSPLVDNIALWMTEY\n",
      "LNRHLHTWIQDNGGWDAFVELYGPSM-\n",
      ">pdb_sq_C Frags: \n",
      "-----KKLSECLRRIGDELDSNMELQRMIAD\n",
      ">pdb_sq_D Frags: \n",
      "-----KKLSECLRRIGDELDSNMELQRMIAD\n",
      "\n"
     ]
    }
   ],
   "source": [
    "# Check all \n",
    "!check_structure -i \"input.cif\" checkall"
   ]
  },
  {
   "cell_type": "code",
   "execution_count": 37,
   "metadata": {
    "scrolled": true
   },
   "outputs": [
    {
     "name": "stdout",
     "output_type": "stream",
     "text": [
      "===============================================================================\n",
      "=                   BioBB structure checking utility v3.8.1                   =\n",
      "=                 A. Hospital, P. Andrio, J.L. Gelpi 2018-21                  =\n",
      "===============================================================================\n",
      "\n",
      "Structure input.cif loaded\n",
      " PDB id: 2XA0\n",
      " Title: Crystal structure of BCL-2 in complex with a BAX BH3 peptide\n",
      " Experimental method: X-RAY DIFFRACTION\n",
      " Keywords: APOPTOSIS\n",
      " Resolution (A): 2.70\n",
      "\n",
      " Num. models: 1\n",
      " Num. chains: 4 (A: Protein, B: Protein, C: Protein, D: Protein)\n",
      " Num. residues:  347\n",
      " Num. residues with ins. codes:  0\n",
      " Num. HETATM residues:  21\n",
      " Num. ligands or modified residues:  0\n",
      " Num. water mol.:  21\n",
      " Num. atoms:  2733\n",
      "\n",
      "Running backbone. Options: --fix_atoms All --fix_chain All --add_caps All\n",
      "2 Residues with missing backbone atoms found\n",
      " ASP A31    OXT\n",
      " ASP B31    OXT\n",
      "2 Backbone breaks found\n",
      " ASP A31    - VAL A92    \n",
      " ASP B31    - VAL B92    \n",
      "No unexpected backbone links\n",
      "Main chain fixes\n",
      "\n",
      "                         MODELLER 10.2, 2021/11/15, r12267\n",
      "\n",
      "     PROTEIN STRUCTURE MODELLING BY SATISFACTION OF SPATIAL RESTRAINTS\n",
      "\n",
      "\n",
      "                     Copyright(c) 1989-2021 Andrej Sali\n",
      "                            All Rights Reserved\n",
      "\n",
      "                             Written by A. Sali\n",
      "                               with help from\n",
      "              B. Webb, M.S. Madhusudhan, M-Y. Shen, G.Q. Dong,\n",
      "          M.A. Marti-Renom, N. Eswar, F. Alber, M. Topf, B. Oliva,\n",
      "             A. Fiser, R. Sanchez, B. Yerkovich, A. Badretdinov,\n",
      "                     F. Melo, J.P. Overington, E. Feyfant\n",
      "                 University of California, San Francisco, USA\n",
      "                    Rockefeller University, New York, USA\n",
      "                      Harvard University, Cambridge, USA\n",
      "                   Imperial Cancer Research Fund, London, UK\n",
      "              Birkbeck College, University of London, London, UK\n",
      "\n",
      "\n",
      "Kind, OS, HostName, Kernel, Processor: 4, Linux lgx 5.13.0-30-generic x86_64\n",
      "Date and time of compilation         : 2021/11/15 19:12:27\n",
      "MODELLER executable type             : x86_64-intel8\n",
      "Job starting time (YY/MM/DD HH:MM:SS): 2022/05/03 12:02:44\n",
      "\n",
      "Fixing chain/model A/0\n",
      "The following 3 residues contain 6-membered rings with poor geometries\n",
      "after transfer from templates. Rebuilding rings from internal coordinates:\n",
      "   <Residue 99:A (type TYR)>\n",
      "   <Residue 129:A (type PHE)>\n",
      "   <Residue 189:A (type PHE)>\n",
      "0 atoms in HETATM/BLK residues constrained\n",
      "to protein atoms within 2.30 angstroms\n",
      "and protein CA atoms within 10.00 angstroms\n",
      "0 atoms in residues without defined topology\n",
      "constrained to be rigid bodies\n",
      ">> Model assessment by DOPE potential\n",
      "DOPE score               : -19993.513672\n",
      "\n",
      ">> Summary of successfully produced models:\n",
      "Filename                          molpdf     DOPE score    GA341 score\n",
      "----------------------------------------------------------------------\n",
      "target.B99990001.pdb          5201.52490   -19993.51367        1.00000\n",
      "\n",
      "Fixing ASP A31 - VAL A92\n",
      "  Adding ASP A31\n",
      "  Adding ALA A32\n",
      "  Adding GLY A33\n",
      "  Adding ASP A34\n",
      "  Adding VAL A35\n",
      "  Adding GLY A36\n",
      "  Adding ALA A37\n",
      "  Adding ALA A38\n",
      "  Adding PRO A39\n",
      "  Adding PRO A40\n",
      "  Adding GLY A41\n",
      "  Adding ALA A42\n",
      "  Adding ALA A43\n",
      "  Adding PRO A44\n",
      "  Adding ALA A45\n",
      "  Adding PRO A46\n",
      "  Adding GLY A47\n",
      "  Adding ILE A48\n",
      "  Adding PHE A49\n",
      "  Adding SER A50\n",
      "  Adding SER A51\n",
      "  Adding GLN A52\n",
      "  Adding PRO A53\n",
      "  Adding GLY A54\n",
      "  Adding HIS A55\n",
      "  Adding THR A56\n",
      "  Adding PRO A57\n",
      "  Adding HIS A58\n",
      "  Adding PRO A59\n",
      "  Adding ALA A60\n",
      "  Adding ALA A61\n",
      "  Adding SER A62\n",
      "  Adding ARG A63\n",
      "  Adding ASP A64\n",
      "  Adding PRO A65\n",
      "  Adding VAL A66\n",
      "  Adding ALA A67\n",
      "  Adding ARG A68\n",
      "  Adding THR A69\n",
      "  Adding SER A70\n",
      "  Adding PRO A71\n",
      "  Adding LEU A72\n",
      "  Adding GLN A73\n",
      "  Adding THR A74\n",
      "  Adding PRO A75\n",
      "  Adding ALA A76\n",
      "  Adding ALA A77\n",
      "  Adding PRO A78\n",
      "  Adding GLY A79\n",
      "  Adding ALA A80\n",
      "  Adding ALA A81\n",
      "  Adding ALA A82\n",
      "  Adding GLY A83\n",
      "  Adding PRO A84\n",
      "  Adding ALA A85\n",
      "  Adding LEU A86\n",
      "  Adding SER A87\n",
      "  Adding PRO A88\n",
      "  Adding VAL A89\n",
      "  Adding PRO A90\n",
      "  Adding PRO A91\n",
      "  Adding VAL A92\n",
      "\n",
      "Fixing chain/model B/0\n",
      "The following 3 residues contain 6-membered rings with poor geometries\n",
      "after transfer from templates. Rebuilding rings from internal coordinates:\n",
      "   <Residue 99:A (type TYR)>\n",
      "   <Residue 129:A (type PHE)>\n",
      "   <Residue 189:A (type PHE)>\n",
      "0 atoms in HETATM/BLK residues constrained\n",
      "to protein atoms within 2.30 angstroms\n",
      "and protein CA atoms within 10.00 angstroms\n",
      "0 atoms in residues without defined topology\n",
      "constrained to be rigid bodies\n",
      ">> Model assessment by DOPE potential\n",
      "DOPE score               : -20220.248047\n",
      "\n",
      ">> Summary of successfully produced models:\n",
      "Filename                          molpdf     DOPE score    GA341 score\n",
      "----------------------------------------------------------------------\n",
      "target.B99990001.pdb          5217.75342   -20220.24805        1.00000\n",
      "\n",
      "Fixing ASP B31 - VAL B92\n",
      "  Adding ASP B31\n",
      "  Adding ALA B32\n",
      "  Adding GLY B33\n",
      "  Adding ASP B34\n",
      "  Adding VAL B35\n",
      "  Adding GLY B36\n",
      "  Adding ALA B37\n",
      "  Adding ALA B38\n",
      "  Adding PRO B39\n",
      "  Adding PRO B40\n",
      "  Adding GLY B41\n",
      "  Adding ALA B42\n",
      "  Adding ALA B43\n",
      "  Adding PRO B44\n",
      "  Adding ALA B45\n",
      "  Adding PRO B46\n",
      "  Adding GLY B47\n",
      "  Adding ILE B48\n",
      "  Adding PHE B49\n",
      "  Adding SER B50\n",
      "  Adding SER B51\n",
      "  Adding GLN B52\n",
      "  Adding PRO B53\n",
      "  Adding GLY B54\n",
      "  Adding HIS B55\n",
      "  Adding THR B56\n",
      "  Adding PRO B57\n",
      "  Adding HIS B58\n",
      "  Adding PRO B59\n",
      "  Adding ALA B60\n",
      "  Adding ALA B61\n",
      "  Adding SER B62\n",
      "  Adding ARG B63\n",
      "  Adding ASP B64\n",
      "  Adding PRO B65\n",
      "  Adding VAL B66\n",
      "  Adding ALA B67\n",
      "  Adding ARG B68\n",
      "  Adding THR B69\n",
      "  Adding SER B70\n",
      "  Adding PRO B71\n",
      "  Adding LEU B72\n",
      "  Adding GLN B73\n",
      "  Adding THR B74\n",
      "  Adding PRO B75\n",
      "  Adding ALA B76\n",
      "  Adding ALA B77\n",
      "  Adding PRO B78\n",
      "  Adding GLY B79\n",
      "  Adding ALA B80\n",
      "  Adding ALA B81\n",
      "  Adding ALA B82\n",
      "  Adding GLY B83\n",
      "  Adding PRO B84\n",
      "  Adding ALA B85\n",
      "  Adding LEU B86\n",
      "  Adding SER B87\n",
      "  Adding PRO B88\n",
      "  Adding VAL B89\n",
      "  Adding PRO B90\n",
      "  Adding PRO B91\n",
      "  Adding VAL B92\n",
      "\n",
      "No residues with missing backbone atoms found\n",
      "No backbone breaks\n",
      "No unexpected backbone links\n",
      "Capping terminal ends\n",
      "True terminal residues:  A10,A206,B10,B206,C57,C82,D57,D82\n",
      "ASP A10 Adding extra ACE residue\n",
      "  Adding new atom C\n",
      "  Adding new atom CA\n",
      "  Adding new atom O\n",
      "MET A206 Adding extra NME residue\n",
      "  Adding new atom N\n",
      "  Adding new atom CA\n",
      "ASP B10 Adding extra ACE residue\n",
      "  Adding new atom C\n",
      "  Adding new atom CA\n",
      "  Adding new atom O\n",
      "MET B206 Adding extra NME residue\n",
      "  Adding new atom N\n",
      "  Adding new atom CA\n",
      "LYS C57 Adding extra ACE residue\n",
      "  Adding new atom C\n",
      "  Adding new atom CA\n",
      "  Adding new atom O\n",
      "ASP C82 Adding extra NME residue\n",
      "  Adding new atom N\n",
      "  Adding new atom CA\n",
      "LYS D57 Adding extra ACE residue\n",
      "  Adding new atom C\n",
      "  Adding new atom CA\n",
      "  Adding new atom O\n",
      "ASP D82 Adding extra NME residue\n",
      "  Adding new atom N\n",
      "  Adding new atom CA\n",
      "Added caps: A10, A206, B10, B206, C57, C82, D57, D82\n",
      "No residues with missing backbone atoms found\n",
      "No backbone breaks\n",
      "No unexpected backbone links\n",
      "Checking for steric clashes\n",
      "No severe clashes detected\n",
      "10 Steric apolar clashes detected\n",
      " PRO A90.C    LEU A95.CD1     2.883 A\n",
      " PRO A91.CD   LEU A95.CD1     1.337 A\n",
      " ACE B9.O     ALA B37.C       2.229 A\n",
      " ACE B9.O     ALA B38.CA      2.183 A\n",
      " ASP B10.CG   ALA B38.CB      2.449 A\n",
      " GLU B13.CD   ASP B34.CB      2.809 A\n",
      " ILE B48.CD1  NME D83.CA      2.843 A\n",
      " PRO B90.C    LEU B95.CD1     2.127 A\n",
      " PRO B91.O    LEU B95.CG      1.787 A\n",
      " MET D79.O    ASP D82.CB      2.625 A\n",
      "8 Steric polar_acceptor clashes detected\n",
      " ACE A9.O     ALA A37.O       2.412 A\n",
      " ARG A63.O    PRO A65.O       3.026 A\n",
      " GLN A73.O    PRO A75.O       2.805 A\n",
      " ACE B9.O     ALA B37.O       2.742 A\n",
      " ASP B64.OD1  VAL B66.O       2.952 A\n",
      " THR B69.O    PRO B71.O       2.985 A\n",
      " GLN B118.OE1 LYS D57.O       2.907 A\n",
      " ARG C78.O    ASP C82.OD1     2.372 A\n",
      "No polar_donor clashes detected\n",
      "No positive clashes detected\n",
      "1 Steric negative clashes detected\n",
      " GLU B13.OE2  ASP B34.OD2     3.374 A\n",
      "Final Num. models: 1\n",
      "Final Num. chains: 4 (A: Protein, B: Protein, C: Protein, D: Protein)\n",
      "Final Num. residues:  475\n",
      "Final Num. residues with ins. codes:  0\n",
      "Final Num. HETATM residues:  21\n",
      "Final Num. ligands or modified residues:  0\n",
      "Final Num. water mol.:  21\n",
      "Final Num. atoms:  3531\n",
      "Structure saved on fixed_main.pdb\n"
     ]
    }
   ],
   "source": [
    "# Fix chiral\n",
    "!check_structure -i \"input.cif\" -o \"fixed_main.pdb\" backbone --fix_atoms All --fix_chain All --add_caps All"
   ]
  },
  {
   "cell_type": "code",
   "execution_count": 70,
   "metadata": {
    "scrolled": true
   },
   "outputs": [
    {
     "data": {
      "application/vnd.jupyter.widget-view+json": {
       "model_id": "4f1c7b6c49ad45088bac0e2aa75521a5",
       "version_major": 2,
       "version_minor": 0
      },
      "text/plain": [
       "NGLWidget()"
      ]
     },
     "metadata": {},
     "output_type": "display_data"
    }
   ],
   "source": [
    "view = nglview.show_structure_file(\"fixed_main.pdb\", default=False)\n",
    "view.add_representation(repr_type = 'cartoon',colorScheme = 'atomindex')\n",
    "view.center()\n",
    "view"
   ]
  },
  {
   "cell_type": "code",
   "execution_count": 47,
   "metadata": {},
   "outputs": [
    {
     "name": "stdout",
     "output_type": "stream",
     "text": [
      "===============================================================================\n",
      "=                   BioBB structure checking utility v3.8.1                   =\n",
      "=                 A. Hospital, P. Andrio, J.L. Gelpi 2018-21                  =\n",
      "===============================================================================\n",
      "\n",
      "Warning: sequence features only available in mmCIF format or with external fasta input\n",
      "Structure fixed_main.pdb loaded\n",
      " Title: \n",
      " Experimental method: unknown\n",
      " Resolution (A): N.A.\n",
      "\n",
      " Num. models: 1\n",
      " Num. chains: 4 (A: Protein, B: Protein, C: Protein, D: Protein)\n",
      " Num. residues:  475\n",
      " Num. residues with ins. codes:  0\n",
      " Num. HETATM residues:  21\n",
      " Num. ligands or modified residues:  0\n",
      " Num. water mol.:  21\n",
      " Num. atoms:  3531\n",
      "\n",
      "Running amide. Options: --fix all\n",
      "5 unusual contact(s) involving amide atoms found\n",
      " ARG A107.NH2 ASN C73.ND2     2.933 A\n",
      " GLN B118.OE1 LYS D57.O       2.907 A\n",
      " ASN B143.OD1 ASP D68.OD1     2.845 A\n",
      " ASN B143.ND2 GLY B145.N      2.601 A\n",
      " ASN B143.ND2 ARG B146.N      2.551 A\n",
      "Amide residues fixed all (3)\n",
      "Rechecking\n",
      "2 unusual contact(s) involving amide atoms found\n",
      " GLN B118.NE2 LEU D59.N       2.605 A\n",
      " ASN B143.OD1 ASP D71.OD2     3.062 A\n",
      "Final Num. models: 1\n",
      "Final Num. chains: 4 (A: Protein, B: Protein, C: Protein, D: Protein)\n",
      "Final Num. residues:  475\n",
      "Final Num. residues with ins. codes:  0\n",
      "Final Num. HETATM residues:  21\n",
      "Final Num. ligands or modified residues:  0\n",
      "Final Num. water mol.:  21\n",
      "Final Num. atoms:  3531\n",
      "Structure saved on fixed_main_amide.pdb\n"
     ]
    }
   ],
   "source": [
    "# Fix amide\n",
    "!check_structure -i \"fixed_main.pdb\" -o \"fixed_main_amide.pdb\" amide --fix all"
   ]
  },
  {
   "cell_type": "markdown",
   "metadata": {},
   "source": [
    "## Extract complex bcl-2-bax"
   ]
  },
  {
   "cell_type": "code",
   "execution_count": 52,
   "metadata": {
    "collapsed": true
   },
   "outputs": [
    {
     "name": "stdout",
     "output_type": "stream",
     "text": [
      "===============================================================================\n",
      "=                   BioBB structure checking utility v3.8.1                   =\n",
      "=                 A. Hospital, P. Andrio, J.L. Gelpi 2018-21                  =\n",
      "===============================================================================\n",
      "\n",
      "Warning: sequence features only available in mmCIF format or with external fasta input\n",
      "Structure fixed_main_amide.pdb loaded\n",
      " Title: \n",
      " Experimental method: unknown\n",
      " Resolution (A): N.A.\n",
      "\n",
      " Num. models: 1\n",
      " Num. chains: 4 (A: Protein, B: Protein, C: Protein, D: Protein)\n",
      " Num. residues:  475\n",
      " Num. residues with ins. codes:  0\n",
      " Num. HETATM residues:  21\n",
      " Num. ligands or modified residues:  0\n",
      " Num. water mol.:  21\n",
      " Num. atoms:  3531\n",
      "\n",
      "Running chains. Options: --select A,C\n",
      "4 Chain(s) detected\n",
      " A: Protein\n",
      " B: Protein\n",
      " C: Protein\n",
      " D: Protein\n",
      "Selecting chain(s) A,C\n",
      "Final Num. models: 1\n",
      "Final Num. chains: 2 (A: Protein, C: Protein)\n",
      "Final Num. residues:  241\n",
      "Final Num. residues with ins. codes:  0\n",
      "Final Num. HETATM residues:  14\n",
      "Final Num. ligands or modified residues:  0\n",
      "Final Num. water mol.:  14\n",
      "Final Num. atoms:  1769\n",
      "Structure saved on fixed_complex.pdb\n"
     ]
    }
   ],
   "source": [
    "!check_structure -i \"fixed_main_amide.pdb\" -o \"fixed_complex.pdb\" chains --select A,C"
   ]
  },
  {
   "cell_type": "code",
   "execution_count": 63,
   "metadata": {},
   "outputs": [
    {
     "data": {
      "application/vnd.jupyter.widget-view+json": {
       "model_id": "bb156400004244c3a88a6260a7b5df43",
       "version_major": 2,
       "version_minor": 0
      },
      "text/plain": [
       "NGLWidget()"
      ]
     },
     "metadata": {},
     "output_type": "display_data"
    }
   ],
   "source": [
    "view = nglview.show_structure_file(\"fixed_complex.pdb\", default=False)\n",
    "view.add_representation(repr_type   = 'cartoon', colorScheme = 'atomindex')\n",
    "view.center()\n",
    "view"
   ]
  },
  {
   "cell_type": "markdown",
   "metadata": {},
   "source": [
    "## Extracting Protein, Ligand and Protein-Ligand Complex\n",
    "***\n",
    "**Building Blocks** used:\n",
    " - [extract_molecule](https://biobb-structure-utils.readthedocs.io/en/latest/utils.html#module-utils.extract_model): It includes structure manipulation options like selecting models or chains, removing components of the system, completing side chains and backbone, and quality checking as residue quirality, amide orientation, or vdw clashes.\n",
    "\n",
    " - [extract_heteroatoms](https://biobb-structure-utils.readthedocs.io/en/latest/utils.html#module-utils.extract_heteroatoms): Class to extract hetero-atoms from a 3D structure using Biopython.\n",
    "   \n",
    " - [cat_pdb](https://biobb-structure-utils.readthedocs.io/en/latest/utils.html#module-utils.cat_pdb): Class to concat two PDB structures in a single PDB file."
   ]
  },
  {
   "cell_type": "code",
   "execution_count": 23,
   "metadata": {
    "scrolled": true
   },
   "outputs": [
    {
     "name": "stdout",
     "output_type": "stream",
     "text": [
      ">>> Files: input.pdb GEN protein.pdb ligand.pdb complex.pdb\n"
     ]
    }
   ],
   "source": [
    "# Extracting Protein, Ligand and Protein-Ligand Complex to three different files\n",
    "# Import module\n",
    "from biobb_structure_utils.utils.extract_heteroatoms import extract_heteroatoms\n",
    "from biobb_structure_utils.utils.extract_molecule import extract_molecule\n",
    "from biobb_structure_utils.utils.cat_pdb import cat_pdb\n",
    "\n",
    "# Create inputs/outputs\n",
    "protein     = \"protein.pdb\"\n",
    "ligandFile  = \"ligand.pdb\"\n",
    "complexFile = \"complex.pdb\"\n",
    "print (\">>> Files:\", \"input.pdb\", ligandID, \"protein.pdb\", \"ligand.pdb\", \"complex.pdb\")"
   ]
  },
  {
   "cell_type": "code",
   "execution_count": 24,
   "metadata": {},
   "outputs": [
    {
     "name": "stdout",
     "output_type": "stream",
     "text": [
      "\n",
      ">>> Extracting molecule...\n",
      "2022-05-02 22:48:19,757 [MainThread  ] [INFO ]  ExtractMolecule: Unexisting input file, exiting\n"
     ]
    },
    {
     "ename": "SystemExit",
     "evalue": "ExtractMolecule: Unexisting input file",
     "output_type": "error",
     "traceback": [
      "An exception has occurred, use %tb to see the full traceback.\n",
      "\u001b[0;31mSystemExit\u001b[0m\u001b[0;31m:\u001b[0m ExtractMolecule: Unexisting input file\n"
     ]
    },
    {
     "name": "stderr",
     "output_type": "stream",
     "text": [
      "/opt/miniconda3/envs/biobb_env/lib/python3.7/site-packages/IPython/core/interactiveshell.py:3532: UserWarning: To exit: use 'exit', 'quit', or Ctrl-D.\n",
      "  warn(\"To exit: use 'exit', 'quit', or Ctrl-D.\", stacklevel=1)\n"
     ]
    }
   ],
   "source": [
    "# Extract molecule\n",
    "print (\"\\n>>> Extracting molecule...\")\n",
    "prop = {\n",
    "     'remove_tmp' : False\n",
    "}\n",
    "\n",
    "extract_molecule (input_structure_path = \"input.pdb\",\n",
    "                  output_molecule_path = \"protein.pdb\",\n",
    "                  properties = prop);"
   ]
  },
  {
   "cell_type": "code",
   "execution_count": 25,
   "metadata": {},
   "outputs": [
    {
     "name": "stdout",
     "output_type": "stream",
     "text": [
      "\n",
      ">>> Extracting ligand...\n",
      "2022-05-02 22:48:36,071 [MainThread  ] [INFO ]  ExtractHeteroAtoms: Unexisting input file, exiting\n"
     ]
    },
    {
     "ename": "SystemExit",
     "evalue": "ExtractHeteroAtoms: Unexisting input file",
     "output_type": "error",
     "traceback": [
      "An exception has occurred, use %tb to see the full traceback.\n",
      "\u001b[0;31mSystemExit\u001b[0m\u001b[0;31m:\u001b[0m ExtractHeteroAtoms: Unexisting input file\n"
     ]
    }
   ],
   "source": [
    "# Extract ligand \n",
    "print (\"\\n>>> Extracting ligand...\")\n",
    "prop = {\n",
    "     'heteroatoms' : [{\"name\": ligandID}]\n",
    "}\n",
    "\n",
    "extract_heteroatoms (input_structure_path   = \"input.pdb\",\n",
    "                     output_heteroatom_path = \"ligand.pdb\", \n",
    "                     properties             = prop);"
   ]
  },
  {
   "cell_type": "code",
   "execution_count": 26,
   "metadata": {},
   "outputs": [
    {
     "name": "stdout",
     "output_type": "stream",
     "text": [
      "\n",
      ">>> Creating complex...\n",
      "2022-05-02 22:48:36,734 [MainThread  ] [INFO ]  CatPDB: Unexisting input file, exiting\n"
     ]
    },
    {
     "ename": "SystemExit",
     "evalue": "CatPDB: Unexisting input file",
     "output_type": "error",
     "traceback": [
      "An exception has occurred, use %tb to see the full traceback.\n",
      "\u001b[0;31mSystemExit\u001b[0m\u001b[0;31m:\u001b[0m CatPDB: Unexisting input file\n"
     ]
    }
   ],
   "source": [
    "# Create complex\n",
    "print (\"\\n>>> Creating complex...\")\n",
    "cat_pdb (input_structure1      = \"protein.pdb\", \n",
    "         input_structure2      = \"ligand.pdb\",\n",
    "         output_structure_path = \"complex.pdb\");"
   ]
  },
  {
   "cell_type": "markdown",
   "metadata": {},
   "source": [
    "### Visualizing 3D structures "
   ]
  },
  {
   "cell_type": "code",
   "execution_count": 27,
   "metadata": {
    "scrolled": false
   },
   "outputs": [
    {
     "ename": "ValueError",
     "evalue": "you must provide file extension if using file-like object or text content",
     "output_type": "error",
     "traceback": [
      "\u001b[0;31m---------------------------------------------------------------------------\u001b[0m",
      "\u001b[0;31mValueError\u001b[0m                                Traceback (most recent call last)",
      "\u001b[0;32m/tmp/ipykernel_8814/1583175993.py\u001b[0m in \u001b[0;36m<module>\u001b[0;34m\u001b[0m\n\u001b[1;32m      1\u001b[0m \u001b[0;31m# Show structures: protein, ligand and protein-ligand complex\u001b[0m\u001b[0;34m\u001b[0m\u001b[0;34m\u001b[0m\u001b[0;34m\u001b[0m\u001b[0m\n\u001b[0;32m----> 2\u001b[0;31m \u001b[0mview1\u001b[0m \u001b[0;34m=\u001b[0m \u001b[0mnglview\u001b[0m\u001b[0;34m.\u001b[0m\u001b[0mshow_structure_file\u001b[0m\u001b[0;34m(\u001b[0m\u001b[0mprotein\u001b[0m\u001b[0;34m)\u001b[0m\u001b[0;34m\u001b[0m\u001b[0;34m\u001b[0m\u001b[0m\n\u001b[0m\u001b[1;32m      3\u001b[0m \u001b[0mview1\u001b[0m\u001b[0;34m.\u001b[0m\u001b[0m_remote_call\u001b[0m\u001b[0;34m(\u001b[0m\u001b[0;34m'setSize'\u001b[0m\u001b[0;34m,\u001b[0m \u001b[0mtarget\u001b[0m\u001b[0;34m=\u001b[0m\u001b[0;34m'Widget'\u001b[0m\u001b[0;34m,\u001b[0m \u001b[0margs\u001b[0m\u001b[0;34m=\u001b[0m\u001b[0;34m[\u001b[0m\u001b[0;34m'350px'\u001b[0m\u001b[0;34m,\u001b[0m\u001b[0;34m'400px'\u001b[0m\u001b[0;34m]\u001b[0m\u001b[0;34m)\u001b[0m\u001b[0;34m\u001b[0m\u001b[0;34m\u001b[0m\u001b[0m\n\u001b[1;32m      4\u001b[0m \u001b[0mview1\u001b[0m\u001b[0;34m\u001b[0m\u001b[0;34m\u001b[0m\u001b[0m\n\u001b[1;32m      5\u001b[0m \u001b[0mview2\u001b[0m \u001b[0;34m=\u001b[0m \u001b[0mnglview\u001b[0m\u001b[0;34m.\u001b[0m\u001b[0mshow_structure_file\u001b[0m\u001b[0;34m(\u001b[0m\u001b[0mligandFile\u001b[0m\u001b[0;34m)\u001b[0m\u001b[0;34m\u001b[0m\u001b[0;34m\u001b[0m\u001b[0m\n",
      "\u001b[0;32m/opt/miniconda3/envs/biobb_env/lib/python3.7/site-packages/nglview/show.py\u001b[0m in \u001b[0;36mshow_structure_file\u001b[0;34m(path, **kwargs)\u001b[0m\n\u001b[1;32m    215\u001b[0m     \u001b[0;34m>>\u001b[0m\u001b[0;34m>\u001b[0m \u001b[0mw\u001b[0m \u001b[0;31m# doctest: +SKIP\u001b[0m\u001b[0;34m\u001b[0m\u001b[0;34m\u001b[0m\u001b[0m\n\u001b[1;32m    216\u001b[0m     '''\n\u001b[0;32m--> 217\u001b[0;31m     \u001b[0mstructure\u001b[0m \u001b[0;34m=\u001b[0m \u001b[0mFileStructure\u001b[0m\u001b[0;34m(\u001b[0m\u001b[0mpath\u001b[0m\u001b[0;34m)\u001b[0m\u001b[0;34m\u001b[0m\u001b[0;34m\u001b[0m\u001b[0m\n\u001b[0m\u001b[1;32m    218\u001b[0m     \u001b[0;32mreturn\u001b[0m \u001b[0mNGLWidget\u001b[0m\u001b[0;34m(\u001b[0m\u001b[0mstructure\u001b[0m\u001b[0;34m,\u001b[0m \u001b[0;34m**\u001b[0m\u001b[0mkwargs\u001b[0m\u001b[0;34m)\u001b[0m\u001b[0;34m\u001b[0m\u001b[0;34m\u001b[0m\u001b[0m\n\u001b[1;32m    219\u001b[0m \u001b[0;34m\u001b[0m\u001b[0m\n",
      "\u001b[0;32m/opt/miniconda3/envs/biobb_env/lib/python3.7/site-packages/nglview/adaptor.py\u001b[0m in \u001b[0;36m__init__\u001b[0;34m(self, path)\u001b[0m\n\u001b[1;32m     76\u001b[0m         \u001b[0msuper\u001b[0m\u001b[0;34m(\u001b[0m\u001b[0;34m)\u001b[0m\u001b[0;34m.\u001b[0m\u001b[0m__init__\u001b[0m\u001b[0;34m(\u001b[0m\u001b[0;34m)\u001b[0m\u001b[0;34m\u001b[0m\u001b[0;34m\u001b[0m\u001b[0m\n\u001b[1;32m     77\u001b[0m         \u001b[0mself\u001b[0m\u001b[0;34m.\u001b[0m\u001b[0mfm\u001b[0m \u001b[0;34m=\u001b[0m \u001b[0mFileManager\u001b[0m\u001b[0;34m(\u001b[0m\u001b[0mpath\u001b[0m\u001b[0;34m)\u001b[0m\u001b[0;34m\u001b[0m\u001b[0;34m\u001b[0m\u001b[0m\n\u001b[0;32m---> 78\u001b[0;31m         \u001b[0mself\u001b[0m\u001b[0;34m.\u001b[0m\u001b[0mext\u001b[0m \u001b[0;34m=\u001b[0m \u001b[0mself\u001b[0m\u001b[0;34m.\u001b[0m\u001b[0mfm\u001b[0m\u001b[0;34m.\u001b[0m\u001b[0mext\u001b[0m\u001b[0;34m\u001b[0m\u001b[0;34m\u001b[0m\u001b[0m\n\u001b[0m\u001b[1;32m     79\u001b[0m         \u001b[0mself\u001b[0m\u001b[0;34m.\u001b[0m\u001b[0mparams\u001b[0m \u001b[0;34m=\u001b[0m \u001b[0;34m{\u001b[0m\u001b[0;34m}\u001b[0m\u001b[0;34m\u001b[0m\u001b[0;34m\u001b[0m\u001b[0m\n\u001b[1;32m     80\u001b[0m         \u001b[0mself\u001b[0m\u001b[0;34m.\u001b[0m\u001b[0mpath\u001b[0m \u001b[0;34m=\u001b[0m \u001b[0mpath\u001b[0m\u001b[0;34m\u001b[0m\u001b[0;34m\u001b[0m\u001b[0m\n",
      "\u001b[0;32m/opt/miniconda3/envs/biobb_env/lib/python3.7/site-packages/nglview/utils/py_utils.py\u001b[0m in \u001b[0;36mext\u001b[0;34m(self)\u001b[0m\n\u001b[1;32m    241\u001b[0m                                              and not self.is_url):\n\u001b[1;32m    242\u001b[0m                 raise ValueError(\n\u001b[0;32m--> 243\u001b[0;31m                     \u001b[0;34m\"you must provide file extension if using file-like object or text content\"\u001b[0m\u001b[0;34m\u001b[0m\u001b[0;34m\u001b[0m\u001b[0m\n\u001b[0m\u001b[1;32m    244\u001b[0m                 )\n\u001b[1;32m    245\u001b[0m             \u001b[0;32mif\u001b[0m \u001b[0mself\u001b[0m\u001b[0;34m.\u001b[0m\u001b[0mis_compressed\u001b[0m\u001b[0;34m:\u001b[0m\u001b[0;34m\u001b[0m\u001b[0;34m\u001b[0m\u001b[0m\n",
      "\u001b[0;31mValueError\u001b[0m: you must provide file extension if using file-like object or text content"
     ]
    }
   ],
   "source": [
    "# Show structures: protein, ligand and protein-ligand complex\n",
    "view1 = nglview.show_structure_file(protein)\n",
    "view1._remote_call('setSize', target='Widget', args=['350px','400px'])\n",
    "view1\n",
    "view2 = nglview.show_structure_file(ligandFile)\n",
    "view2.add_representation(repr_type='ball+stick')\n",
    "view2._remote_call('setSize', target='Widget', args=['350px','400px'])\n",
    "view2\n",
    "view3 = nglview.show_structure_file(complexFile)\n",
    "view3.add_representation(repr_type='licorice', radius='.5', selection=ligandName)\n",
    "view3._remote_call('setSize', target='Widget', args=['350px','400px'])\n",
    "view3\n",
    "ipywidgets.HBox([view1, view2, view3])"
   ]
  },
  {
   "cell_type": "markdown",
   "metadata": {},
   "source": [
    "<img src='images/img01.png' style='float: center;width:50%'></img>"
   ]
  },
  {
   "cell_type": "code",
   "execution_count": 64,
   "metadata": {
    "collapsed": true
   },
   "outputs": [
    {
     "name": "stdout",
     "output_type": "stream",
     "text": [
      "===============================================================================\n",
      "=                   BioBB structure checking utility v3.8.1                   =\n",
      "=                 A. Hospital, P. Andrio, J.L. Gelpi 2018-21                  =\n",
      "===============================================================================\n",
      "\n",
      "Structure inputs/2xa0.cif loaded\n",
      " PDB id: 2XA0\n",
      " Title: Crystal structure of BCL-2 in complex with a BAX BH3 peptide\n",
      " Experimental method: X-RAY DIFFRACTION\n",
      " Keywords: APOPTOSIS\n",
      " Resolution (A): 2.70\n",
      "\n",
      " Num. models: 1\n",
      " Num. chains: 4 (A: Protein, B: Protein, C: Protein, D: Protein)\n",
      " Num. residues:  347\n",
      " Num. residues with ins. codes:  0\n",
      " Num. HETATM residues:  21\n",
      " Num. ligands or modified residues:  0\n",
      " Num. water mol.:  21\n",
      " Num. atoms:  2733\n",
      "\n",
      "Running models.\n",
      "1 Model(s) detected\n",
      "Single model found\n",
      "Running chains.\n",
      "4 Chain(s) detected\n",
      " A: Protein\n",
      " B: Protein\n",
      " C: Protein\n",
      " D: Protein\n",
      "Running inscodes.\n",
      "No residues with insertion codes found\n",
      "Running altloc.\n",
      "No residues with alternative location labels detected\n",
      "Running rem_hydrogen.\n",
      "No residues with Hydrogen atoms found\n",
      "Running add_hydrogen.\n",
      "116 Residues requiring selection on adding H atoms\n",
      " CYS A158,B158,C62,D62\n",
      " ASP A10,A31,A102,A103,A111,A140,A171,A191,A196,B10,B31,B102,B103,B111,B140,B171,B191,B196,C68,C71,C82,D68,D71,D82\n",
      " GLU A13,A29,A114,A135,A136,A152,A160,A165,A179,A200,B13,B29,B114,B135,B136,B152,B160,B165,B179,B200,C61,C69,C75,D61,D69,D75\n",
      " HIS A20,A94,A120,A184,A186,B20,B94,B120,B184,B186\n",
      " LYS A17,A22,B17,B22,C57,C58,D57,D58\n",
      " ARG A12,A26,A98,A106,A107,A109,A110,A127,A129,A139,A146,A164,A183,B12,B26,B98,B106,B107,B109,B110,B127,B129,B139,B146,B164,B183,C64,C65,C78,D64,D65,D78\n",
      " TYR A18,A21,A28,A108,A180,A202,B18,B21,B28,B108,B180,B202\n",
      "Running water.\n",
      "21 Water molecules detected\n",
      "Running metals.\n",
      "No metal ions found\n",
      "Running ligands.\n",
      "No ligands found\n",
      "Running getss.\n",
      "No SS bonds detected\n",
      "Running amide.\n",
      "5 unusual contact(s) involving amide atoms found\n",
      " ARG A107.NH2 ASN C73.ND2     2.933 A\n",
      " GLN B118.OE1 LYS D57.O       2.907 A\n",
      " ASN B143.OD1 ASP D68.OD1     2.845 A\n",
      " ASN B143.ND2 GLY B145.N      2.601 A\n",
      " ASN B143.ND2 ARG B146.N      2.551 A\n",
      "Running chiral.\n",
      "No residues with incorrect side-chain chirality found\n",
      "Running chiral_bck.\n",
      "No residues with incorrect backbone chirality found\n",
      "Running fixside.\n",
      "No residues with missing or unknown side chain atoms found\n",
      "Running backbone.\n",
      "2 Residues with missing backbone atoms found\n",
      " ASP A31    OXT\n",
      " ASP B31    OXT\n",
      "2 Backbone breaks found\n",
      " ASP A31    - VAL A92    \n",
      " ASP B31    - VAL B92    \n",
      "No unexpected backbone links\n",
      "Running cistransbck.\n",
      "No cis peptide bonds found\n",
      "No trans peptide bonds with unusual omega dihedrals found\n",
      "Running clashes.\n",
      "No severe clashes detected\n",
      "20 Steric apolar clashes detected\n",
      " ARG A12.O    MET A16.CG      2.715 A\n",
      " LYS A22.CE   GLU A152.OE2    2.650 A\n",
      " TYR A28.CZ   ASN A163.OD1    2.853 A\n",
      " VAL A93.O    LEU A97.CB      2.813 A\n",
      " THR A125.CG2 ARG A129.NE     2.556 A\n",
      " ALA A131.O   GLU A135.CG     2.853 A\n",
      " ASN B11.CB   ASN B182.OD1    2.868 A\n",
      " ILE B19.O    LEU B23.CD1     2.838 A\n",
      " LYS B22.CE   GLU B152.OE2    2.745 A\n",
      " HIS B120.C   ARG B129.NH1    2.889 A\n",
      " GLU B136.CB  SER D60.OG      2.686 A\n",
      " ASP B140.OD1 ARG D64.CZ      2.803 A\n",
      " GLU B160.OE2 ARG B164.CD     2.862 A\n",
      " ASN B172.O   LEU B175.CB     2.896 A\n",
      " TRP B188.CE2 ASN B192.ND2    2.882 A\n",
      " ILE B189.O   GLY B194.CA     2.874 A\n",
      " SER C60.O    ARG C64.CG      2.853 A\n",
      " LEU C70.O    MET C74.CG      2.796 A\n",
      " SER D60.O    ARG D64.CG      2.684 A\n",
      " MET D79.O    ASP D82.CB      2.625 A\n",
      "8 Steric polar_acceptor clashes detected\n",
      " LEU A23.O    TYR A28.O       3.058 A\n",
      " ARG A98.O    ASP A102.OD2    2.866 A\n",
      " ARG B12.O    MET B16.SD      3.006 A\n",
      " ARG B98.O    ASP B102.OD2    2.462 A\n",
      " GLN B118.OE1 LYS D57.O       2.907 A\n",
      " ASN B143.OD1 ASP D68.OD1     2.845 A\n",
      " ARG C78.O    ASP C82.OD1     2.372 A\n",
      " ARG D64.O    ASP D68.OD2     2.942 A\n",
      "7 Steric polar_donor clashes detected\n",
      " ARG A107.NH2 ASN C73.ND2     2.933 A\n",
      " LEU A121.N   ARG A164.NH1    2.831 A\n",
      " ARG A139.NH2 ARG C64.NH1     2.659 A\n",
      " ARG A146.NH2 ARG C64.NH2     2.879 A\n",
      " ARG B139.NH2 LYS C58.NZ      2.750 A\n",
      " ASN B143.ND2 GLY B145.N      2.601 A\n",
      " ASN B143.ND2 ARG B146.N      2.551 A\n",
      "3 Steric positive clashes detected\n",
      " ARG A139.NH2 ARG C64.NH1     2.659 A\n",
      " ARG A146.NH2 ARG C64.NH2     2.879 A\n",
      " ARG B139.NH2 LYS C58.NZ      2.750 A\n",
      "1 Steric negative clashes detected\n",
      " ASP D71.OD1  GLU D75.OE2     3.386 A\n",
      "Running sequences.\n",
      "Canonical sequence\n",
      ">can_sq_A canonical sequence chain A\n",
      "MAHAGRTGYDNREIVMKYIHYKLSQRGYEWDAGDVGAAPPGAAPAPGIFSSQPGHTPHPA\n",
      "ASRDPVARTSPLQTPAAPGAAAGPALSPVPPVVHLTLRQAGDDFSRRYRRDFAEMSSQLH\n",
      "LTPFTARGRFATVVEELFRDGVNWGRIVAFFEFGGVMCVESVNREMSPLVDNIALWMTEY\n",
      "LNRHLHTWIQDNGGWDAFVELYGPSMR\n",
      ">can_sq_B canonical sequence chain B\n",
      "MAHAGRTGYDNREIVMKYIHYKLSQRGYEWDAGDVGAAPPGAAPAPGIFSSQPGHTPHPA\n",
      "ASRDPVARTSPLQTPAAPGAAAGPALSPVPPVVHLTLRQAGDDFSRRYRRDFAEMSSQLH\n",
      "LTPFTARGRFATVVEELFRDGVNWGRIVAFFEFGGVMCVESVNREMSPLVDNIALWMTEY\n",
      "LNRHLHTWIQDNGGWDAFVELYGPSMR\n",
      ">can_sq_C canonical sequence chain C\n",
      "QDASTKKLSECLRRIGDELDSNMELQRMIAD\n",
      ">can_sq_D canonical sequence chain D\n",
      "QDASTKKLSECLRRIGDELDSNMELQRMIAD\n",
      "\n",
      "Structure sequence\n",
      ">pdb_sq_A Frags: 92-206\n",
      "---------DNREIVMKYIHYKLSQRGYEWD-----------------------------\n",
      "-------------------------------VVHLTLRQAGDDFSRRYRRDFAEMSSQLH\n",
      "LTPFTARGRFATVVEELFRDGVNWGRIVAFFEFGGVMCVESVNREMSPLVDNIALWMTEY\n",
      "LNRHLHTWIQDNGGWDAFVELYGPSM-\n",
      ">pdb_sq_B Frags: 92-206\n",
      "---------DNREIVMKYIHYKLSQRGYEWD-----------------------------\n",
      "-------------------------------VVHLTLRQAGDDFSRRYRRDFAEMSSQLH\n",
      "LTPFTARGRFATVVEELFRDGVNWGRIVAFFEFGGVMCVESVNREMSPLVDNIALWMTEY\n",
      "LNRHLHTWIQDNGGWDAFVELYGPSM-\n",
      ">pdb_sq_C Frags: \n",
      "-----KKLSECLRRIGDELDSNMELQRMIAD\n",
      ">pdb_sq_D Frags: \n",
      "-----KKLSECLRRIGDELDSNMELQRMIAD\n",
      "\n"
     ]
    }
   ],
   "source": [
    "# Show all possible structure errros\n",
    "!check_structure -i inputs/2xa0.cif checkall"
   ]
  },
  {
   "cell_type": "markdown",
   "metadata": {},
   "source": [
    "### Fix backbone"
   ]
  },
  {
   "cell_type": "code",
   "execution_count": 29,
   "metadata": {},
   "outputs": [
    {
     "name": "stdout",
     "output_type": "stream",
     "text": [
      "2022-05-02 22:48:43,310 [MainThread  ] [INFO ]  check_structure -i protein.pdb -o protein_fixed.pdb --force_save fixside --fix ALL\n",
      "\n",
      "2022-05-02 22:48:43,311 [MainThread  ] [INFO ]  Exit code 1\n",
      "\n",
      "2022-05-02 22:48:43,312 [MainThread  ] [INFO ]  ===============================================================================\n",
      "=                   BioBB structure checking utility v3.8.1                   =\n",
      "=                 A. Hospital, P. Andrio, J.L. Gelpi 2018-21                  =\n",
      "===============================================================================\n",
      "\n",
      "\n",
      "2022-05-02 22:48:43,312 [MainThread  ] [INFO ]  ERROR: fetching/parsing structure from protein.pdb\n",
      "\n",
      "2022-05-02 22:48:43,313 [MainThread  ] [INFO ]  Removed: []\n"
     ]
    }
   ],
   "source": [
    "# Check & Fix Protein Structure\n",
    "# Import module\n",
    "from biobb_model.model.fix_side_chain import fix_side_chain\n",
    "\n",
    "# Create prop dict and inputs/outputs\n",
    "fixed_pdb = pdbName +  '_fixed.pdb'\n",
    "\n",
    "# Create and launch bb\n",
    "fix_side_chain(input_pdb_path  = protein, \n",
    "               output_pdb_path = fixed_pdb);"
   ]
  },
  {
   "cell_type": "markdown",
   "metadata": {},
   "source": [
    "### Quilarity"
   ]
  },
  {
   "cell_type": "code",
   "execution_count": 30,
   "metadata": {},
   "outputs": [
    {
     "name": "stdout",
     "output_type": "stream",
     "text": [
      "===============================================================================\n",
      "=                   BioBB structure checking utility v3.8.1                   =\n",
      "=                 A. Hospital, P. Andrio, J.L. Gelpi 2018-21                  =\n",
      "===============================================================================\n",
      "\n",
      "Structure inputs/2xa0.cif loaded\n",
      " PDB id: 2XA0\n",
      " Title: Crystal structure of BCL-2 in complex with a BAX BH3 peptide\n",
      " Experimental method: X-RAY DIFFRACTION\n",
      " Keywords: APOPTOSIS\n",
      " Resolution (A): 2.70\n",
      "\n",
      " Num. models: 1\n",
      " Num. chains: 4 (A: Protein, B: Protein, C: Protein, D: Protein)\n",
      " Num. residues:  347\n",
      " Num. residues with ins. codes:  0\n",
      " Num. HETATM residues:  21\n",
      " Num. ligands or modified residues:  0\n",
      " Num. water mol.:  21\n",
      " Num. atoms:  2733\n",
      "\n",
      "Running amide. Options: --fix All\n",
      "5 unusual contact(s) involving amide atoms found\n",
      " ARG A107.NH2 ASN C73.ND2     2.933 A\n",
      " GLN B118.OE1 LYS D57.O       2.907 A\n",
      " ASN B143.OD1 ASP D68.OD1     2.845 A\n",
      " ASN B143.ND2 GLY B145.N      2.601 A\n",
      " ASN B143.ND2 ARG B146.N      2.551 A\n",
      "Amide residues fixed All (3)\n",
      "Rechecking\n",
      "2 unusual contact(s) involving amide atoms found\n",
      " GLN B118.NE2 LEU D59.N       2.605 A\n",
      " ASN B143.OD1 ASP D71.OD2     3.062 A\n",
      "Final Num. models: 1\n",
      "Final Num. chains: 4 (A: Protein, B: Protein, C: Protein, D: Protein)\n",
      "Final Num. residues:  347\n",
      "Final Num. residues with ins. codes:  0\n",
      "Final Num. HETATM residues:  21\n",
      "Final Num. ligands or modified residues:  0\n",
      "Final Num. water mol.:  21\n",
      "Final Num. atoms:  2733\n",
      "Structure saved on fix_complex_chiral.pdb\n"
     ]
    }
   ],
   "source": [
    "!check_structure -i inputs/2xa0.cif -o \"fix_complex_chiral.pdb\" amide --fix All"
   ]
  }
 ],
 "metadata": {
  "anaconda-cloud": {},
  "kernelspec": {
   "display_name": "Python 3 (ipykernel)",
   "language": "python",
   "name": "python3"
  },
  "language_info": {
   "codemirror_mode": {
    "name": "ipython",
    "version": 3
   },
   "file_extension": ".py",
   "mimetype": "text/x-python",
   "name": "python",
   "nbconvert_exporter": "python",
   "pygments_lexer": "ipython3",
   "version": "3.7.12"
  },
  "toc": {
   "base_numbering": 1,
   "nav_menu": {},
   "number_sections": true,
   "sideBar": true,
   "skip_h1_title": true,
   "title_cell": "MD Setup",
   "title_sidebar": "Contents",
   "toc_cell": true,
   "toc_position": {
    "height": "397px",
    "left": "29px",
    "top": "86.5625px",
    "width": "394px"
   },
   "toc_section_display": true,
   "toc_window_display": true
  }
 },
 "nbformat": 4,
 "nbformat_minor": 2
}
