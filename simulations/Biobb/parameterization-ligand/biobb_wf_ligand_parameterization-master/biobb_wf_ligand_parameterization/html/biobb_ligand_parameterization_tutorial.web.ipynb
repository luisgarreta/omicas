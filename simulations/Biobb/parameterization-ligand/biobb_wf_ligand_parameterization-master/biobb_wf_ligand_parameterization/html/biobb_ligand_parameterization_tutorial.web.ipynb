{
 "cells": [
  {
   "cell_type": "markdown",
   "metadata": {},
   "source": [
    "# Automatic Ligand parameterization tutorial using BioExcel Building Blocks (biobb)\n",
    "***\n",
    "This tutorial aims to illustrate the process of **ligand parameterization** for a **small molecule**, step by step, using the **BioExcel Building Blocks library (biobb)**. The particular example used is the **Ibuprofen** small compound (3-letter code IBP, Drugbank code [DB01050](https://www.drugbank.ca/drugs/DB01050)), a non-steroidal **anti-inflammatory drug** (NSAID) derived from propionic acid and it is considered the first of the propionics. \n",
    "\n",
    "**OpenBabel and ACPype** packages are used to **add hydrogens**, **energetically minimize the structure**, and \n",
    "**generate parameters** for the **GROMACS** package. With *Generalized Amber Force Field (GAFF)* forcefield and *AM1-BCC* charges.  \n",
    "***\n",
    "**Biobb modules** used:\n",
    "\n",
    " - [biobb_io](https://github.com/bioexcel/biobb_io): Tools to fetch data to be consumed by the rest of the Biobb building blocks.\n",
    " - [biobb_chemistry](https://github.com/bioexcel/biobb_chemistry): Tools to manipulate chemistry data.\n",
    " \n",
    "**Auxiliar libraries** used:\n",
    "\n",
    " - [nb_conda_kernels](https://github.com/Anaconda-Platform/nb_conda_kernels): Enables a Jupyter Notebook or JupyterLab application in one conda environment to access kernels for Python, R, and other languages found in other environments.\n",
    " - [nglview](http://nglviewer.org/#nglview): Jupyter/IPython widget to interactively view molecular structures and trajectories in notebooks.\n",
    " - [ipywidgets](https://github.com/jupyter-widgets/ipywidgets): Interactive HTML widgets for Jupyter notebooks and the IPython kernel.\n",
    "\n",
    "### Conda Installation and Launch\n",
    "\n",
    "```console\n",
    "git clone https://github.com/bioexcel/biobb_wf_ligand_parameterization.git\n",
    "cd biobb_wf_ligand_parameterization\n",
    "conda env create -f conda_env/environment.yml\n",
    "conda activate biobb_ligand_parameterization_tutorial\n",
    "jupyter-nbextension enable --py --user widgetsnbextension\n",
    "jupyter-nbextension enable --py --user nglview\n",
    "jupyter-notebook biobb_wf_ligand_parameterization/notebooks/biobb_ligand_parameterization_tutorial.ipynb\n",
    "  ``` \n",
    "\n",
    "***\n",
    "### Pipeline steps:\n",
    " 1. [Input Parameters](#input)\n",
    " 2. [Fetching Ligand Structure](#fetch)\n",
    " 3. [Add Hydrogen Atoms](#addh)\n",
    " 4. [Energetically Minimize Hydrogen Atoms](#min)\n",
    " 5. [Generating Ligand Parameters](#acpype)\n",
    " 6. [Output Files](#output)\n",
    " 7. [Questions & Comments](#questions)\n",
    " \n",
    "***\n",
    "![](https://bioexcel.eu/wp-content/uploads/2019/04/Bioexcell_logo_1080px_transp.png)\n",
    "***"
   ]
  },
  {
   "cell_type": "markdown",
   "metadata": {},
   "source": [
    "<a id=\"input\"></a>\n",
    "***\n",
    "## Input parameters\n",
    "**Input parameters** needed:\n",
    " - **ligandCode**: 3-letter code of the ligand structure (e.g. IBP)\n",
    " - **mol_charge**: Molecule net charge (e.g. -1)\n",
    " - **pH**: Acidity or alkalinity for the small molecule. Hydrogen atoms will be added according to this pH. (e.g. 7.4)"
   ]
  },
  {
   "cell_type": "code",
   "execution_count": 1,
   "metadata": {},
   "outputs": [
    {
     "data": {
      "application/vnd.jupyter.widget-view+json": {
       "model_id": "336f65802c6d4e9ca066610f5aff7438",
       "version_major": 2,
       "version_minor": 0
      },
      "text/plain": []
     },
     "metadata": {},
     "output_type": "display_data"
    }
   ],
   "source": [
    "import nglview\n",
    "import ipywidgets\n",
    "import os\n",
    "\n",
    "ligandCode = 'IBP'\n",
    "mol_charge = -1\n",
    "pH = 7.4"
   ]
  },
  {
   "cell_type": "markdown",
   "metadata": {},
   "source": [
    "<a id=\"fetch\"></a>\n",
    "***\n",
    "## Fetching ligand structure\n",
    "Downloading **ligand structure** in **PDB format** from the IRB PDB MIRROR database.<br>\n",
    "Alternatively, a **PDB file** can be used as starting structure. <br>\n",
    "***\n",
    "**Building Blocks** used:\n",
    "\n",
    " - [Ligand](https://biobb-io.readthedocs.io/en/latest/api.html#module-api.ligand) from **biobb_io.api.ligand**\n",
    "***"
   ]
  },
  {
   "cell_type": "code",
   "execution_count": 2,
   "metadata": {
    "scrolled": false
   },
   "outputs": [
    {
     "name": "stderr",
     "output_type": "stream",
     "text": [
      "2021-06-23 12:40:45,516 [MainThread  ] [INFO ]  Downloading: ibp from: http://mmb.irbbarcelona.org/api/pdbMonomer/ibp\n",
      "2021-06-23 12:40:45,519 [MainThread  ] [INFO ]  Writting pdb to: IBP.pdb\n"
     ]
    }
   ],
   "source": [
    "# Ligand: Download ligand structure from MMB PDB mirror REST API (https://mmb.irbbarcelona.org/api/)\n",
    "# Import module\n",
    "from biobb_io.api.ligand import ligand\n",
    "\n",
    "# Create prop dict and inputs/outputs\n",
    "input_structure = ligandCode + '.pdb'\n",
    "\n",
    "prop = {\n",
    "    'ligand_code' : ligandCode\n",
    "}\n",
    "\n",
    "#Create and launch bb\n",
    "ligand(output_pdb_path=input_structure,\n",
    "        properties=prop)"
   ]
  },
  {
   "cell_type": "markdown",
   "metadata": {},
   "source": [
    "### Visualizing 3D structure\n",
    "Visualizing the downloaded/given **ligand PDB structure** using **NGL**:    "
   ]
  },
  {
   "cell_type": "code",
   "execution_count": 3,
   "metadata": {
    "scrolled": true
   },
   "outputs": [
    {
     "data": {
      "application/vnd.jupyter.widget-view+json": {
       "model_id": "23cb5d0cbf02445491ec680eae714fed",
       "version_major": 2,
       "version_minor": 0
      },
      "text/plain": [
       "NGLWidget()"
      ]
     },
     "metadata": {},
     "output_type": "display_data"
    }
   ],
   "source": [
    "#Show small ligand structure\n",
    "view = nglview.show_structure_file(input_structure)\n",
    "view.add_representation(repr_type='ball+stick', selection='all')\n",
    "view._remote_call('setSize', target='Widget', args=['','300px'])\n",
    "view.camera='orthographic'\n",
    "view"
   ]
  },
  {
   "cell_type": "markdown",
   "metadata": {},
   "source": [
    "<img src='ngl1.png'></img>"
   ]
  },
  {
   "cell_type": "markdown",
   "metadata": {},
   "source": [
    "<a id=\"addh\"></a>\n",
    "***\n",
    "## Add Hydrogen Atoms\n",
    "Adding **Hydrogen atoms** to the small molecule, according to the given pH.\n",
    "***\n",
    "**Building Blocks** used:\n",
    " - [BabelAddHydrogens](https://biobb-chemistry.readthedocs.io/en/latest/babelm.html#module-babelm.babel_add_hydrogens) from **biobb_chemistry.babelm.babel_add_hydrogens** \n",
    "***"
   ]
  },
  {
   "cell_type": "code",
   "execution_count": 5,
   "metadata": {},
   "outputs": [
    {
     "name": "stderr",
     "output_type": "stream",
     "text": [
      "2021-06-23 12:41:09,313 [MainThread  ] [INFO ]  Value  is not compatible as a coordinates value\n",
      "2021-06-23 12:41:09,314 [MainThread  ] [INFO ]  Not using any container\n",
      "2021-06-23 12:41:09,369 [MainThread  ] [INFO ]  obabel -ipdb IBP.pdb -omol2 -OIBP.H.mol2  -h -p 7.4\n",
      "\n",
      "2021-06-23 12:41:09,371 [MainThread  ] [INFO ]  Exit code 0\n",
      "\n",
      "2021-06-23 12:41:09,371 [MainThread  ] [INFO ]  1 molecule converted\n",
      "\n"
     ]
    },
    {
     "data": {
      "text/plain": [
       "0"
      ]
     },
     "execution_count": 5,
     "metadata": {},
     "output_type": "execute_result"
    }
   ],
   "source": [
    "# Babel_add_hydrogens: add Hydrogen atoms to a small molecule\n",
    "# Import module\n",
    "from biobb_chemistry.babelm.babel_add_hydrogens import babel_add_hydrogens\n",
    "\n",
    "# Create prop dict and inputs/outputs\n",
    "output_babel_h = ligandCode + '.H.mol2' \n",
    "\n",
    "prop = {\n",
    "    'ph' : pH,\n",
    "    'input_format' : 'pdb',\n",
    "    'output_format' : 'mol2'\n",
    "}\n",
    "\n",
    "#Create and launch bb\n",
    "babel_add_hydrogens(input_path=input_structure,\n",
    "                  output_path=output_babel_h,\n",
    "                  properties=prop)"
   ]
  },
  {
   "cell_type": "markdown",
   "metadata": {},
   "source": [
    "### Visualizing 3D structure\n",
    "Visualizing the **ligand PDB structure** with the newly added **hydrogen atoms** using **NGL**:    "
   ]
  },
  {
   "cell_type": "code",
   "execution_count": 6,
   "metadata": {
    "scrolled": false
   },
   "outputs": [
    {
     "data": {
      "application/vnd.jupyter.widget-view+json": {
       "model_id": "a83a4c66e7b74b048133cb36b59abe3d",
       "version_major": 2,
       "version_minor": 0
      },
      "text/plain": [
       "NGLWidget()"
      ]
     },
     "metadata": {},
     "output_type": "display_data"
    }
   ],
   "source": [
    "#Show small ligand structure\n",
    "view = nglview.show_structure_file(output_babel_h)\n",
    "view.add_representation(repr_type='ball+stick', selection='all')\n",
    "view.camera='orthographic'\n",
    "view"
   ]
  },
  {
   "cell_type": "markdown",
   "metadata": {},
   "source": [
    "<img src='ngl2.png'></img>"
   ]
  },
  {
   "cell_type": "markdown",
   "metadata": {},
   "source": [
    "<a id=\"min\"></a>\n",
    "***\n",
    "## Energetically minimize Hydrogen Atoms\n",
    "Energetically minimize newly added **Hydrogen atoms**.\n",
    "***\n",
    "**Building Blocks** used:\n",
    " - [BabelMinimize](https://biobb-chemistry.readthedocs.io/en/latest/babelm.html#module-babelm.babel_minimize) from **biobb_chemistry.babelm.babel_minimize** \n",
    "***"
   ]
  },
  {
   "cell_type": "code",
   "execution_count": 7,
   "metadata": {},
   "outputs": [
    {
     "name": "stderr",
     "output_type": "stream",
     "text": [
      "2021-06-23 12:41:13,815 [MainThread  ] [INFO ]  Hydrogens  is not correct, assigned default value: False\n",
      "2021-06-23 12:41:13,816 [MainThread  ] [INFO ]  Steps  is not correct, assigned default value: 2500\n",
      "2021-06-23 12:41:13,818 [MainThread  ] [INFO ]  Cut-off  is not correct, assigned default value: False\n",
      "2021-06-23 12:41:13,819 [MainThread  ] [INFO ]  Rvdw  is not correct, assigned default value: 6.0\n",
      "2021-06-23 12:41:13,820 [MainThread  ] [INFO ]  Rele  is not correct, assigned default value: 10.0\n",
      "2021-06-23 12:41:13,821 [MainThread  ] [INFO ]  Frequency  is not correct, assigned default value: 10\n",
      "2021-06-23 12:41:13,823 [MainThread  ] [INFO ]  Not using any container\n",
      "2021-06-23 12:41:14,791 [MainThread  ] [INFO ]  obminimize -c 1e-10 -sd -ff GAFF -imol2 IBP.H.mol2 -opdb > IBP.H.min.pdb\n",
      "\n",
      "2021-06-23 12:41:14,792 [MainThread  ] [INFO ]  Exit code 0\n",
      "\n",
      "2021-06-23 12:41:14,793 [MainThread  ] [INFO ]  \n",
      "A T O M   T Y P E S\n",
      "\n",
      "IDX\tTYPE\tRING\n",
      "1\tc\tNO\n",
      "2\tc3\tNO\n",
      "3\tc3\tNO\n",
      "4\tc3\tNO\n",
      "5\tc3\tNO\n",
      "6\tc3\tNO\n",
      "7\tc3\tNO\n",
      "8\tca\tAR\n",
      "9\tca\tAR\n",
      "10\tca\tAR\n",
      "11\tca\tAR\n",
      "12\tca\tAR\n",
      "13\tca\tAR\n",
      "14\toh\tNO\n",
      "15\to\tNO\n",
      "16\thc\tNO\n",
      "17\thc\tNO\n",
      "18\thc\tNO\n",
      "19\thc\tNO\n",
      "20\thc\tNO\n",
      "21\thc\tNO\n",
      "22\thc\tNO\n",
      "23\thc\tNO\n",
      "24\thc\tNO\n",
      "25\thc\tNO\n",
      "26\thc\tNO\n",
      "27\thc\tNO\n",
      "28\thc\tNO\n",
      "29\tha\tNO\n",
      "30\tha\tNO\n",
      "31\tha\tNO\n",
      "32\tha\tNO\n",
      "\n",
      "C H A R G E S\n",
      "\n",
      "IDX\tCHARGE\n",
      "1\t0.048900\n",
      "2\t-0.025300\n",
      "3\t-0.042700\n",
      "4\t-0.062400\n",
      "5\t-0.062400\n",
      "6\t0.020800\n",
      "7\t-0.053200\n",
      "8\t-0.039100\n",
      "9\t-0.057700\n",
      "10\t-0.058300\n",
      "11\t-0.047100\n",
      "12\t-0.058300\n",
      "13\t-0.057700\n",
      "14\t-0.549200\n",
      "15\t-0.549200\n",
      "16\t0.031600\n",
      "17\t0.031600\n",
      "18\t0.029900\n",
      "19\t0.023200\n",
      "20\t0.023200\n",
      "21\t0.023200\n",
      "22\t0.023200\n",
      "23\t0.023200\n",
      "24\t0.023200\n",
      "25\t0.040600\n",
      "26\t0.023900\n",
      "27\t0.023900\n",
      "28\t0.023900\n",
      "29\t0.062100\n",
      "30\t0.062000\n",
      "31\t0.062000\n",
      "32\t0.062100\n",
      "\n",
      "S E T T I N G   U P   C A L C U L A T I O N S\n",
      "\n",
      "SETTING UP BOND CALCULATIONS...\n",
      "SETTING UP ANGLE CALCULATIONS...\n",
      "SETTING UP TORSION CALCULATIONS...\n",
      "SETTING UP IMPROPER TORSION CALCULATIONS...\n",
      "SETTING UP VAN DER WAALS CALCULATIONS...\n",
      "SETTING UP ELECTROSTATIC CALCULATIONS...\n",
      "\n",
      "S T E E P E S T   D E S C E N T\n",
      "\n",
      "STEPS = 2500\n",
      "\n",
      "STEP n       E(n)         E(n-1)    \n",
      "------------------------------------\n",
      "    0      91.679      ----\n",
      "   10    33.71772    34.49593\n",
      "   20    29.94216    30.15520\n",
      "   30    28.54218    28.64210\n",
      "   40    27.79370    27.85330\n",
      "   50    27.30930    27.35050\n",
      "   60    26.95661    26.98785\n",
      "   70    26.68019    26.70530\n",
      "   80    26.45294    26.47394\n",
      "   90    26.25990    26.27796\n",
      "  100    26.09196    26.10781\n",
      "  110    25.94311    25.95727\n",
      "  120    25.80920    25.82202\n",
      "  130    25.68722    25.69895\n",
      "  140    25.57494    25.58578\n",
      "  150    25.47065    25.48076\n",
      "  160    25.37307    25.38256\n",
      "  170    25.28116    25.29013\n",
      "  180    25.19414    25.20265\n",
      "  190    25.11137    25.11947\n",
      "  200    25.03233    25.04008\n",
      "  210    24.95661    24.96404\n",
      "  220    24.88392    24.89106\n",
      "  230    24.81415    24.82101\n",
      "  240    24.74688    24.75351\n",
      "  250    24.68189    24.68829\n",
      "  260    24.61901    24.62521\n",
      "  270    24.55811    24.56412\n",
      "  280    24.49907    24.50490\n",
      "  290    24.44179    24.44744\n",
      "  300    24.38616    24.39165\n",
      "  310    24.33211    24.33744\n",
      "  320    24.27956    24.28475\n",
      "  330    24.22844    24.23349\n",
      "  340    24.17869    24.18360\n",
      "  350    24.13025    24.13504\n",
      "  360    24.08307    24.08773\n",
      "  370    24.03709    24.04163\n",
      "  380    23.99226    23.99670\n",
      "  390    23.94855    23.95287\n",
      "  400    23.90590    23.91012\n",
      "  410    23.86427    23.86839\n",
      "  420    23.82362    23.82764\n",
      "  430    23.78392    23.78785\n",
      "  440    23.74512    23.74896\n",
      "  450    23.70719    23.71095\n",
      "  460    23.67010    23.67377\n",
      "  470    23.63381    23.63741\n",
      "  480    23.59830    23.60182\n",
      "  490    23.56352    23.56697\n",
      "  500    23.52946    23.53284\n",
      "  510    23.49608    23.49939\n",
      "  520    23.46336    23.46660\n",
      "  530    23.43127    23.43445\n",
      "  540    23.39979    23.40291\n",
      "  550    23.36889    23.37195\n",
      "  560    23.33855    23.34156\n",
      "  570    23.30875    23.31170\n",
      "  580    23.27947    23.28237\n",
      "  590    23.25068    23.25354\n",
      "  600    23.22238    23.22519\n",
      "  610    23.19453    23.19730\n",
      "  620    23.16713    23.16986\n",
      "  630    23.14016    23.14284\n",
      "  640    23.11360    23.11624\n",
      "  650    23.08744    23.09004\n",
      "  660    23.06166    23.06422\n",
      "  670    23.03624    23.03877\n",
      "  680    23.01118    23.01367\n",
      "  690    22.98647    22.98893\n",
      "  700    22.96208    22.96451\n",
      "  710    22.93802    22.94041\n",
      "  720    22.91426    22.91662\n",
      "  730    22.89080    22.89313\n",
      "  740    22.86763    22.86993\n",
      "  750    22.84473    22.84701\n",
      "  760    22.82211    22.82436\n",
      "  770    22.79974    22.80197\n",
      "  780    22.77762    22.77983\n",
      "  790    22.75575    22.75793\n",
      "  800    22.73411    22.73627\n",
      "  810    22.71270    22.71484\n",
      "  820    22.69151    22.69362\n",
      "  830    22.67054    22.67263\n",
      "  840    22.64977    22.65183\n",
      "  850    22.62919    22.63124\n",
      "  860    22.60881    22.61085\n",
      "  870    22.58862    22.59063\n",
      "  880    22.56861    22.57061\n",
      "  890    22.54877    22.55075\n",
      "  900    22.52910    22.53106\n",
      "  910    22.50960    22.51154\n",
      "  920    22.49025    22.49218\n",
      "  930    22.47105    22.47297\n",
      "  940    22.45200    22.45390\n",
      "  950    22.43310    22.43498\n",
      "  960    22.41432    22.41620\n",
      "  970    22.39568    22.39754\n",
      "  980    22.37717    22.37901\n",
      "  990    22.35877    22.36061\n",
      " 1000    22.34050    22.34232\n",
      " 1010    22.32233    22.32414\n",
      " 1020    22.30427    22.30607\n",
      " 1030    22.28631    22.28810\n",
      " 1040    22.26845    22.27023\n",
      " 1050    22.25067    22.25245\n",
      " 1060    22.23299    22.23475\n",
      " 1070    22.21538    22.21714\n",
      " 1080    22.19786    22.19961\n",
      " 1090    22.18040    22.18214\n",
      " 1100    22.16301    22.16475\n",
      " 1110    22.14568    22.14741\n",
      " 1120    22.12841    22.13013\n",
      " 1130    22.11118    22.11290\n",
      " 1140    22.09400    22.09572\n",
      " 1150    22.07686    22.07858\n",
      " 1160    22.05975    22.06146\n",
      " 1170    22.04267    22.04438\n",
      " 1180    22.02561    22.02732\n",
      " 1190    22.00856    22.01027\n",
      " 1200    21.99152    21.99323\n",
      " 1210    21.97448    21.97619\n",
      " 1220    21.95744    21.95914\n",
      " 1230    21.94037    21.94208\n",
      " 1240    21.92329    21.92500\n",
      " 1250    21.90617    21.90789\n",
      " 1260    21.88902    21.89074\n",
      " 1270    21.87181    21.87354\n",
      " 1280    21.85455    21.85628\n",
      " 1290    21.83721    21.83895\n",
      " 1300    21.81979    21.82154\n",
      " 1310    21.80228    21.80404\n",
      " 1320    21.78466    21.78643\n",
      " 1330    21.76692    21.76870\n",
      " 1340    21.74904    21.75084\n",
      " 1350    21.73101    21.73283\n",
      " 1360    21.71281    21.71464\n",
      " 1370    21.69442    21.69627\n",
      " 1380    21.67581    21.67768\n",
      " 1390    21.65696    21.65886\n",
      " 1400    21.63785    21.63978\n",
      " 1410    21.61845    21.62041\n",
      " 1420    21.59872    21.60071\n",
      " 1430    21.57874    21.58071\n",
      " 1440    21.56454    21.56556\n",
      " 1450    21.55447    21.55547\n",
      " 1460    21.54441    21.54542\n",
      " 1470    21.53435    21.53536\n",
      " 1480    21.52427    21.52528\n",
      " 1490    21.51418    21.51519\n",
      " 1500    21.50407    21.50508\n",
      " 1510    21.49394    21.49495\n",
      " 1520    21.48378    21.48480\n",
      " 1530    21.47359    21.47461\n",
      " 1540    21.46337    21.46439\n",
      " 1550    21.45311    21.45414\n",
      " 1560    21.44281    21.44384\n",
      " 1570    21.43246    21.43350\n",
      " 1580    21.42207    21.42311\n",
      " 1590    21.41161    21.41266\n",
      " 1600    21.40110    21.40216\n",
      " 1610    21.39052    21.39158\n",
      " 1620    21.37986    21.38093\n",
      " 1630    21.36913    21.37021\n",
      " 1640    21.35831    21.35939\n",
      " 1650    21.34739    21.34849\n",
      " 1660    21.33637    21.33748\n",
      " 1670    21.32524    21.32636\n",
      " 1680    21.31399    21.31513\n",
      " 1690    21.30261    21.30376\n",
      " 1700    21.29109    21.29225\n",
      " 1710    21.27941    21.28059\n",
      " 1720    21.26757    21.26876\n",
      " 1730    21.25554    21.25676\n",
      " 1740    21.24332    21.24455\n",
      " 1750    21.23088    21.23214\n",
      " 1760    21.21820    21.21948\n",
      " 1770    21.20527    21.20658\n",
      " 1780    21.19205    21.19339\n",
      " 1790    21.17852    21.17989\n",
      " 1800    21.16484    21.16614\n",
      " 1810    21.15598    21.15667\n",
      " 1820    21.14907    21.14977\n",
      " 1830    21.14215    21.14285\n",
      " 1840    21.13520    21.13590\n",
      " 1850    21.12822    21.12892\n",
      " 1860    21.12121    21.12191\n",
      " 1870    21.11417    21.11487\n",
      " 1880    21.10708    21.10779\n",
      " 1890    21.09996    21.10067\n",
      " 1900    21.09279    21.09351\n",
      " 1910    21.08558    21.08631\n",
      " 1920    21.07832    21.07905\n",
      " 1930    21.07101    21.07175\n",
      " 1940    21.06364    21.06438\n",
      " 1950    21.05622    21.05696\n",
      " 1960    21.04873    21.04948\n",
      " 1970    21.04117    21.04193\n",
      " 1980    21.03354    21.03431\n",
      " 1990    21.02584    21.02661\n",
      " 2000    21.01805    21.01883\n",
      " 2010    21.01017    21.01097\n",
      " 2020    21.00221    21.00301\n",
      " 2030    20.99414    20.99495\n",
      " 2040    20.98596    20.98678\n",
      " 2050    20.97767    20.97850\n",
      " 2060    20.96925    20.97010\n",
      " 2070    20.96070    20.96157\n",
      " 2080    20.95201    20.95289\n",
      " 2090    20.94317    20.94406\n",
      " 2100    20.93416    20.93507\n",
      " 2110    20.92497    20.92590\n",
      " 2120    20.91559    20.91654\n",
      " 2130    20.90600    20.90697\n",
      " 2140    20.89618    20.89718\n",
      " 2150    20.88611    20.88713\n",
      " 2160    20.87577    20.87682\n",
      " 2170    20.86556    20.86644\n",
      " 2180    20.85943    20.85997\n",
      " 2190    20.85402    20.85457\n",
      " 2200    20.84859    20.84914\n",
      " 2210    20.84313    20.84367\n",
      " 2220    20.83762    20.83818\n",
      " 2230    20.83209    20.83264\n",
      " 2240    20.82651    20.82707\n",
      " 2250    20.82089    20.82145\n",
      " 2260    20.81523    20.81579\n",
      " 2270    20.80952    20.81009\n",
      " 2280    20.80376    20.80434\n",
      " 2290    20.79795    20.79853\n",
      " 2300    20.79208    20.79267\n",
      " 2310    20.78616    20.78676\n",
      " 2320    20.78018    20.78078\n",
      " 2330    20.77413    20.77474\n",
      " 2340    20.76801    20.76863\n",
      " 2350    20.76182    20.76245\n",
      " 2360    20.75556    20.75619\n",
      " 2370    20.74921    20.74985\n",
      " 2380    20.74277    20.74342\n",
      " 2390    20.73624    20.73690\n",
      " 2400    20.72961    20.73028\n",
      " 2410    20.72288    20.72356\n",
      " 2420    20.71603    20.71672\n",
      " 2430    20.70906    20.70977\n",
      " 2440    20.70196    20.70268\n",
      " 2450    20.69473    20.69546\n",
      " 2460    20.68734    20.68809\n",
      " 2470    20.67979    20.68056\n",
      " 2480    20.67207    20.67285\n",
      " 2490    20.66416    20.66496\n",
      " 2500    20.65605    20.65687\n",
      "Time: 0.887526seconds. Iterations per second: 2817.95\n",
      "\n"
     ]
    },
    {
     "data": {
      "text/plain": [
       "0"
      ]
     },
     "execution_count": 7,
     "metadata": {},
     "output_type": "execute_result"
    }
   ],
   "source": [
    "# Babel_minimize: Structure energy minimization of a small molecule after being modified adding hydrogen atoms\n",
    "# Import module\n",
    "from biobb_chemistry.babelm.babel_minimize import babel_minimize\n",
    "\n",
    "# Create prop dict and inputs/outputs\n",
    "output_babel_min = ligandCode + '.H.min.pdb'                              \n",
    "prop = {\n",
    "    'method' : 'sd',\n",
    "    'criteria' : '1e-10',\n",
    "    'force_field' : 'GAFF'\n",
    "}\n",
    "\n",
    "\n",
    "#Create and launch bb\n",
    "babel_minimize(input_path=output_babel_h,\n",
    "              output_path=output_babel_min,\n",
    "              properties=prop)"
   ]
  },
  {
   "cell_type": "markdown",
   "metadata": {},
   "source": [
    "### Visualizing 3D structure\n",
    "Visualizing the **ligand PDB structure** with the newly added **hydrogen atoms**, **energetically minimized**, using **NGL**:    "
   ]
  },
  {
   "cell_type": "code",
   "execution_count": 8,
   "metadata": {
    "scrolled": false
   },
   "outputs": [
    {
     "data": {
      "application/vnd.jupyter.widget-view+json": {
       "model_id": "395c99a6f72c42d287767f9079bb6339",
       "version_major": 2,
       "version_minor": 0
      },
      "text/plain": [
       "NGLWidget()"
      ]
     },
     "metadata": {},
     "output_type": "display_data"
    }
   ],
   "source": [
    "#Show small ligand structure\n",
    "view = nglview.show_structure_file(output_babel_min)\n",
    "view.add_representation(repr_type='ball+stick', selection='all')\n",
    "view._remote_call('setSize', target='Widget', args=['','300px'])\n",
    "view.camera='orthographic'\n",
    "view"
   ]
  },
  {
   "cell_type": "markdown",
   "metadata": {},
   "source": [
    "<img src='ngl3.png'></img>"
   ]
  },
  {
   "cell_type": "markdown",
   "metadata": {},
   "source": [
    "### Visualizing 3D structures\n",
    "Visualizing all the structures generated so far:\n",
    "\n",
    " - Original **ligand PDB structure** (left)\n",
    " - **Ligand PDB structure** with **hydrogen atoms** (middle)\n",
    " - **Ligand PDB structure** with **hydrogen atoms energetically minimized** (right)  "
   ]
  },
  {
   "cell_type": "code",
   "execution_count": 9,
   "metadata": {
    "scrolled": false
   },
   "outputs": [
    {
     "data": {
      "application/vnd.jupyter.widget-view+json": {
       "model_id": "f4cf647b28bf44feb6112350513d492a",
       "version_major": 2,
       "version_minor": 0
      },
      "text/plain": [
       "HBox(children=(NGLWidget(), NGLWidget(), NGLWidget()))"
      ]
     },
     "metadata": {},
     "output_type": "display_data"
    }
   ],
   "source": [
    "#Show different structures generated (for comparison)\n",
    "view1 = nglview.show_structure_file(input_structure)\n",
    "view1.add_representation(repr_type='ball+stick')\n",
    "view1._remote_call('setSize', target='Widget', args=['250px','300px'])\n",
    "view1.camera='orthographic'\n",
    "view1\n",
    "view2 = nglview.show_structure_file(output_babel_h)\n",
    "view2.add_representation(repr_type='ball+stick')\n",
    "view2._remote_call('setSize', target='Widget', args=['250px','300px'])\n",
    "view2.camera='orthographic'\n",
    "view2\n",
    "view3 = nglview.show_structure_file(output_babel_min)\n",
    "view3.add_representation(repr_type='ball+stick')\n",
    "view3._remote_call('setSize', target='Widget', args=['250px','300px'])\n",
    "view3.camera='orthographic'\n",
    "view3\n",
    "ipywidgets.HBox([view1, view2, view3])"
   ]
  },
  {
   "cell_type": "markdown",
   "metadata": {},
   "source": [
    "<img src='ngl4.png' style='float:left;width:33%;'></img><img src='ngl5.png' style='float:left;width:33%;'></img><img src='ngl6.png' style='float:left;width:33%;'></img>"
   ]
  },
  {
   "cell_type": "markdown",
   "metadata": {},
   "source": [
    "<a id=\"acpype\"></a>\n",
    "***\n",
    "## Generating ligand parameters\n",
    "**Building GROMACS topology** corresponding to the **ligand structure**.\n",
    "\n",
    "**Force field** used in this tutorial step is **amberGAFF**: [General AMBER Force Field](http://ambermd.org/antechamber/gaff.html), designed for rational drug design.\n",
    "\n",
    "***\n",
    "**Building Blocks** used:\n",
    "- [AcpypeParamsGMX](https://biobb-chemistry.readthedocs.io/en/latest/acpype.html#module-acpype.acpype_params_gmx) from **biobb_chemistry.acpype.acpype_params_gmx** \n",
    "***"
   ]
  },
  {
   "cell_type": "code",
   "execution_count": 10,
   "metadata": {},
   "outputs": [
    {
     "name": "stderr",
     "output_type": "stream",
     "text": [
      "2021-06-23 12:43:51,595 [MainThread  ] [INFO ]  Running acpype, this execution can take a while\n",
      "2021-06-23 12:43:51,596 [MainThread  ] [INFO ]  Not using any container\n",
      "2021-06-23 12:44:06,300 [MainThread  ] [INFO ]  acpype -i /home/gbayarri_local/projects/BioBB/tutorials/biobb_wf_ligand_parameterization/biobb_wf_ligand_parameterization/notebooks/IBP.H.min.pdb -b IBPparams.NKUvow -n -1\n",
      "\n",
      "2021-06-23 12:44:06,302 [MainThread  ] [INFO ]  Exit code 0\n",
      "\n",
      "2021-06-23 12:44:06,303 [MainThread  ] [INFO ]  ========================================================================================\n",
      "| ACPYPE: AnteChamber PYthon Parser interfacE v. 2019-11-07T23:16:00CET (c) 2021 AWSdS |\n",
      "========================================================================================\n",
      "==> ... charge set to -1\n",
      "==> ... converting pdb input file to mol2 input file\n",
      "==> * Babel OK *\n",
      "==> Executing Antechamber...\n",
      "==> * Antechamber OK *\n",
      "==> * Parmchk OK *\n",
      "==> Executing Tleap...\n",
      "++++++++++start_quote+++++++++++++++++++++++++++++++++++++++++++++++++++++++++++\n",
      "Checking 'IBP'....\n",
      "\n",
      "/anaconda3/envs/biobb_ligand_parameterization_tutorial/bin/teLeap: Warning!\n",
      "The unperturbed charge of the unit (-0.999999) is not zero.\n",
      "Checking parameters for unit 'IBP'.\n",
      "Checking for bond parameters.\n",
      "Checking for angle parameters.\n",
      "check:  Warnings: 1\n",
      "Unit is OK.\n",
      "++++++++++end_quote+++++++++++++++++++++++++++++++++++++++++++++++++++++++++++++\n",
      "==> * Tleap OK *\n",
      "==> Removing temporary files...\n",
      "==> Writing NEW PDB file\n",
      "\n",
      "==> Writing CNS/XPLOR files\n",
      "\n",
      "==> Writing GROMACS files\n",
      "\n",
      "==> Writing GMX dihedrals for GMX 4.5 and higher.\n",
      "\n",
      "==> Writing CHARMM files\n",
      "\n",
      "==> Writing pickle file IBPparams.NKUvow.pkl\n",
      "Total time of execution: 15s\n",
      "\n",
      "2021-06-23 12:44:06,309 [MainThread  ] [INFO ]  File IBPparams.top succesfully created\n",
      "2021-06-23 12:44:06,312 [MainThread  ] [INFO ]  File IBPparams.itp succesfully created\n",
      "2021-06-23 12:44:06,313 [MainThread  ] [INFO ]  File IBPparams.gro succesfully created\n",
      "2021-06-23 12:44:06,316 [MainThread  ] [INFO ]  Removed temporary folder: IBPparams.NKUvow.acpype\n"
     ]
    },
    {
     "data": {
      "text/plain": [
       "0"
      ]
     },
     "execution_count": 10,
     "metadata": {},
     "output_type": "execute_result"
    }
   ],
   "source": [
    "# Acpype_params_gmx: Generation of topologies for GROMACS with ACPype\n",
    "# Import module\n",
    "from biobb_chemistry.acpype.acpype_params_gmx import acpype_params_gmx\n",
    "\n",
    "# Create prop dict and inputs/outputs\n",
    "output_acpype_gro = ligandCode + 'params.gro'\n",
    "output_acpype_itp = ligandCode + 'params.itp'\n",
    "output_acpype_top = ligandCode + 'params.top'\n",
    "output_acpype = ligandCode + 'params'\n",
    "prop = {\n",
    "    'basename' : output_acpype,\n",
    "    'charge' : mol_charge\n",
    "}\n",
    "\n",
    "#Create and launch bb\n",
    "acpype_params_gmx(input_path=output_babel_min,\n",
    "                output_path_gro=output_acpype_gro,\n",
    "                output_path_itp=output_acpype_itp,\n",
    "                output_path_top=output_acpype_top,\n",
    "                properties=prop)"
   ]
  },
  {
   "cell_type": "markdown",
   "metadata": {},
   "source": [
    "### Visualizing 3D structure\n",
    "Visualizing the generated **GROMACS** gro structure corresponding to the parameterized **ligand PDB structure** using **NGL**:    "
   ]
  },
  {
   "cell_type": "code",
   "execution_count": 11,
   "metadata": {},
   "outputs": [
    {
     "data": {
      "application/vnd.jupyter.widget-view+json": {
       "model_id": "a6f4c1449bf34afe8764e0aa785affdd",
       "version_major": 2,
       "version_minor": 0
      },
      "text/plain": [
       "NGLWidget()"
      ]
     },
     "metadata": {},
     "output_type": "display_data"
    }
   ],
   "source": [
    "#Show small ligand structure\n",
    "view = nglview.show_structure_file(output_acpype_gro)\n",
    "view.add_representation(repr_type='ball+stick', selection='all')\n",
    "view._remote_call('setSize', target='Widget', args=['','300px'])\n",
    "view.camera='orthographic'\n",
    "view"
   ]
  },
  {
   "cell_type": "markdown",
   "metadata": {},
   "source": [
    "<img src='ngl7.png'></img>"
   ]
  },
  {
   "cell_type": "markdown",
   "metadata": {
    "variables": {
     "output_acpype_gro": "<p><strong>NameError</strong>: name &#39;output_acpype_gro&#39; is not defined</p>\n",
     "output_acpype_itp": "<p><strong>NameError</strong>: name &#39;output_acpype_itp&#39; is not defined</p>\n",
     "output_acpype_top": "<p><strong>NameError</strong>: name &#39;output_acpype_top&#39; is not defined</p>\n"
    }
   },
   "source": [
    "<a id=\"output\"></a>\n",
    "## Output files\n",
    "\n",
    "Important **Output files** generated:\n",
    " - {{output_acpype_gro}}: **Structure** of the parameterized ligand in gro (GROMACS) format.\n",
    " - {{output_acpype_top}}: **Topology** of the parameterized ligand, including a reference to the {{output_acpype_itp}}.\n",
    " - {{output_acpype_itp}}: **Include Topology File (itp)** of the parameterized ligand, including the parameters information: bonds, angles, dihedrals, etc."
   ]
  },
  {
   "cell_type": "markdown",
   "metadata": {},
   "source": [
    "***\n",
    "<a id=\"questions\"></a>\n",
    "\n",
    "## Questions & Comments\n",
    "\n",
    "Questions, issues, suggestions and comments are really welcome!\n",
    "\n",
    "* GitHub issues:\n",
    "    * [https://github.com/bioexcel/biobb](https://github.com/bioexcel/biobb)\n",
    "\n",
    "* BioExcel forum:\n",
    "    * [https://ask.bioexcel.eu/c/BioExcel-Building-Blocks-library](https://ask.bioexcel.eu/c/BioExcel-Building-Blocks-library)\n"
   ]
  }
 ],
 "metadata": {
  "anaconda-cloud": {},
  "kernelspec": {
   "display_name": "Python 3",
   "language": "python",
   "name": "python3"
  },
  "language_info": {
   "codemirror_mode": {
    "name": "ipython",
    "version": 3
   },
   "file_extension": ".py",
   "mimetype": "text/x-python",
   "name": "python",
   "nbconvert_exporter": "python",
   "pygments_lexer": "ipython3",
   "version": "3.7.10"
  }
 },
 "nbformat": 4,
 "nbformat_minor": 2
}
