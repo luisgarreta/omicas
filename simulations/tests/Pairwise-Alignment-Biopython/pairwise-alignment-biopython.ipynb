{
 "cells": [
  {
   "cell_type": "code",
   "execution_count": 61,
   "id": "68a52a50",
   "metadata": {},
   "outputs": [],
   "source": [
    "from pymol import cmd"
   ]
  },
  {
   "cell_type": "code",
   "execution_count": null,
   "id": "b45fe1d0",
   "metadata": {},
   "outputs": [
    {
     "name": "stdout",
     "output_type": "stream",
     "text": [
      "RMSD:  1.0468250513076782\n"
     ]
    }
   ],
   "source": [
    "cmd.reinitialize()\n",
    "cmd.load (\"1g5m.pdb\", \"pa\")\n",
    "cmd.load (\"2xa0_A.pdb\", \"pb\")\n",
    "rmsd = cmd.align (\"pb\" ,\"pa\")[0]\n",
    "print (\"RMSD: \", rmsd)"
   ]
  },
  {
   "cell_type": "code",
   "execution_count": null,
   "id": "a172f099",
   "metadata": {},
   "outputs": [],
   "source": [
    "from Bio import SeqIO\n",
    "from Bio import pairwise2\n",
    "from Bio import Align\n",
    "seq1 = SeqIO.read (\"2xa0_A.fasta\", \"fasta\")\n",
    "seq2 = SeqIO.read (\"1g5m.fasta\", \"fasta\")\n",
    "aligner = Align.PairwiseAligner()\n",
    "alignments = aligner.align(seq1.seq, seq2.seq)"
   ]
  },
  {
   "cell_type": "code",
   "execution_count": null,
   "id": "ffe796fe",
   "metadata": {},
   "outputs": [],
   "source": [
    "print(alignments[0])"
   ]
  },
  {
   "cell_type": "code",
   "execution_count": null,
   "id": "99ac11a7",
   "metadata": {},
   "outputs": [],
   "source": []
  }
 ],
 "metadata": {
  "interpreter": {
   "hash": "3d597f4c481aa0f25dceb95d2a0067e73c0966dcbd003d741d821a7208527ecf"
  },
  "kernelspec": {
   "display_name": "Python 3.9.12 ('base')",
   "language": "python",
   "name": "python3"
  },
  "language_info": {
   "codemirror_mode": {
    "name": "ipython",
    "version": 3
   },
   "file_extension": ".py",
   "mimetype": "text/x-python",
   "name": "python",
   "nbconvert_exporter": "python",
   "pygments_lexer": "ipython3",
   "version": "3.9.12"
  },
  "toc": {
   "base_numbering": 1,
   "nav_menu": {},
   "number_sections": false,
   "sideBar": true,
   "skip_h1_title": false,
   "title_cell": "Table of Contents",
   "title_sidebar": "Contents",
   "toc_cell": false,
   "toc_position": {},
   "toc_section_display": true,
   "toc_window_display": false
  }
 },
 "nbformat": 4,
 "nbformat_minor": 5
}
