{
 "cells": [
  {
   "cell_type": "markdown",
   "id": "eafd7e01",
   "metadata": {},
   "source": [
    "## Reconstruct missing residues using Modeller\n",
    "Links:\n",
    "- [Comparative protein structure modeling using MODELLER](https://doi.org/10.1002/cpbi.3)\n",
    "\n",
    "- [Comparative modeling of protein 3D structures using MODELLER](https://salilab.org/modeller/wiki/Missing%20residues)"
   ]
  },
  {
   "cell_type": "markdown",
   "id": "cafae907",
   "metadata": {},
   "source": [
    "### Get the sequence from the template (pdb file)"
   ]
  },
  {
   "cell_type": "code",
   "execution_count": null,
   "metadata": {},
   "outputs": [],
   "source": []
  },
  {
   "cell_type": "code",
   "execution_count": null,
   "id": "4076cc2a",
   "metadata": {
    "scrolled": true
   },
   "outputs": [],
   "source": [
    "# Get the sequence of the target PDB file, and write to an alignment file\n",
    "from modeller import *\n",
    "code = '2xa0_A'\n",
    "\n",
    "e = Environ()\n",
    "m = Model(e, file=code)\n",
    "aln = Alignment(e)\n",
    "aln.append_model(m, align_codes=code)\n",
    "outSeq = \"2xa0_A.seq\"\n",
    "aln.write(file=outSeq)\n",
    "[print (l,end=\"\") for l in open (outSeq).readlines()];"
   ]
  },
  {
   "cell_type": "markdown",
   "id": "c3061a86",
   "metadata": {},
   "source": [
    "Because either AutoModel or LoopModel will build a comparative model using your input PDB as a template, potentially all of the atoms in your final model could move. If you really don't want the non-missing residues to move, you can override the select_atoms method to select only the missing residues with a script similar to that below (note that the residue numbers are off by 1, since Modeller numbers the model starting at 1 in chain A, while the original PDB started numbering at 2):"
   ]
  },
  {
   "cell_type": "code",
   "execution_count": null,
   "id": "6ebdef53",
   "metadata": {},
   "outputs": [],
   "source": [
    "from modeller import *\n",
    "from modeller.automodel import *    # Load the AutoModel class\n",
    "\n",
    "log.verbose()\n",
    "env = Environ()\n",
    "\n",
    "# directories for input atom files\n",
    "env.io.atom_files_directory = ['.', '../atom_files']\n",
    "\n",
    "class MyModel(AutoModel):\n",
    "    def select_atoms(self):\n",
    "        return Selection(self.residue_range('1:A', '9:A'),\n",
    "                         self.residue_range('32:A', '91:A'))\n",
    "\n",
    "a = MyModel(env, alnfile = '2xa0_A_Alignment.ali',\n",
    "            knowns = '2xa0_A', sequence = '2xa0_A_fill')\n",
    "a.starting_model= 1\n",
    "a.ending_model  = 10\n",
    "\n",
    "a.make()"
   ]
  },
  {
   "cell_type": "markdown",
   "id": "e333dd3b",
   "metadata": {},
   "source": [
    "We can now use the standard Modeller 'LoopModel' class to generate a model with all residues, and then to refine the loop regions:"
   ]
  },
  {
   "cell_type": "code",
   "execution_count": null,
   "id": "e2f1585f",
   "metadata": {
    "collapsed": true
   },
   "outputs": [],
   "source": [
    "from modeller import *\n",
    "from modeller.automodel import *    # Load the AutoModel class\n",
    "\n",
    "log.verbose()\n",
    "env = Environ()\n",
    "\n",
    "# directories for input atom files\n",
    "env.io.atom_files_directory = ['.', '../atom_files']\n",
    "\n",
    "a = LoopModel(env, alnfile = 'alignment.ali',\n",
    "              knowns = '1qg8', sequence = '1qg8_fill')\n",
    "a.starting_model= 1\n",
    "a.ending_model  = 1\n",
    "\n",
    "a.loop.starting_model = 1\n",
    "a.loop.ending_model   = 6\n",
    "a.loop.md_level       = refine.fast\n",
    "\n",
    "a.make()"
   ]
  }
 ],
 "metadata": {
  "interpreter": {
   "hash": "e6bf92d361c19049dbef2997c619a01070cbb788e395c2d00386c10a34a2b941"
  },
  "kernelspec": {
   "display_name": "Python 3.7.12 ('biobb_env')",
   "language": "python",
   "name": "python3"
  },
  "language_info": {
   "codemirror_mode": {
    "name": "ipython",
    "version": 3
   },
   "file_extension": ".py",
   "mimetype": "text/x-python",
   "name": "python",
   "nbconvert_exporter": "python",
   "pygments_lexer": "ipython3",
   "version": "3.7.12"
  },
  "toc": {
   "base_numbering": 1,
   "nav_menu": {},
   "number_sections": false,
   "sideBar": true,
   "skip_h1_title": false,
   "title_cell": "Table of Contents",
   "title_sidebar": "Contents",
   "toc_cell": false,
   "toc_position": {},
   "toc_section_display": true,
   "toc_window_display": false
  }
 },
 "nbformat": 4,
 "nbformat_minor": 5
}
