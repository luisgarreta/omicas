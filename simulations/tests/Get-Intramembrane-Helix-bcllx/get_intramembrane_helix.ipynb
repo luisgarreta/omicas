{
 "cells": [
  {
   "cell_type": "markdown",
   "metadata": {},
   "source": [
    "## Simulation Systems \n",
    "- Tyagi2021: \"Effects of Cardiolipin on the Conformational Dynamics of Membrane-Anchored Bcl-xL\"\n",
    "- A model of the full-length Bcl-xL protein in a membrane-anchored configuration was constructed by combining two solution NMR structures: one lacking the C-terminal helix (PDB ID: 1LXL; residues 1–222) [29] and another of the isolated C-terminal helix (PDB ID: 6F46; helix α8, residues 209–231) [30].\n",
    "- After aligning the C-terminal helix along the Cartesian z-axis, the two structures were superimposed and joined at residue Gln-207 to generate a model for the membrane anchored full-length Bcl-xL, where the C-terminal helix is in a transmembrane orientation. \n",
    "- For each simulation, Bcl-xL was anchored into the membrane by embedding the C-terminal helix in the lipid bilayer such that the Trp-213 residue was just below the lipid phosphate groups and the soluble folded domain was within 4 Å of the membrane surface."
   ]
  },
  {
   "cell_type": "markdown",
   "metadata": {},
   "source": [
    "## Protein bcl-xl (PDB 6f46)\n",
    "- Inputs: PDB file \"6f46.pdb\"\n",
    "- Ouputs: \"6f46_model1.pdb\"\n",
    "\n",
    "![6f46_model_1](images/6f46_model1.png)"
   ]
  },
  {
   "cell_type": "markdown",
   "metadata": {},
   "source": [
    "## Get C-terminal helix\n",
    "- Helix α8, residues 209-231\n",
    "- Input: PDB file \"6f4g_mode1.pdb\"\n",
    "- Ouputs: \"6f46_model1_helix8.pdb\"\n",
    "\n",
    "![6f46_model_1_helix_8](images/6f46_model1_helix8.png)"
   ]
  },
  {
   "cell_type": "markdown",
   "metadata": {},
   "source": [
    "### Aligning the C-terminal helix along the Cartesian z-axis\n",
    "- Input: \"6f46_model1_helix8.pdb\"\n",
    "- Output: \"bclxl-helix8.pdb\"\n",
    "- Method: VMD Script \"align-zaxis-vmd.tcl\"\n",
    "\n",
    "![6f46_model_1_helix_8](images/helix8_z_aligned.png)"
   ]
  },
  {
   "cell_type": "markdown",
   "metadata": {},
   "source": [
    "## Construct main structure Bcl-xl lacking the C-terminal helix\n",
    "- Input: \"1lxl.pdb\"; residues 209, 231\n",
    "- Tool: Pymol, select command"
   ]
  },
  {
   "cell_type": "code",
   "execution_count": 2,
   "metadata": {},
   "outputs": [
    {
     "ename": "CmdException",
     "evalue": " Error: failed to open file \"seqs/1lxl.pdb\"",
     "output_type": "error",
     "traceback": [
      "\u001b[0;31m---------------------------------------------------------------------------\u001b[0m",
      "\u001b[0;31mFileNotFoundError\u001b[0m                         Traceback (most recent call last)",
      "\u001b[0;32m/opt/miniconda3/envs/biobb_env/lib/python3.7/site-packages/pymol/internal.py\u001b[0m in \u001b[0;36mfile_read\u001b[0;34m(finfo, _self)\u001b[0m\n\u001b[1;32m    292\u001b[0m         \u001b[0;32melse\u001b[0m\u001b[0;34m:\u001b[0m\u001b[0;34m\u001b[0m\u001b[0;34m\u001b[0m\u001b[0m\n\u001b[0;32m--> 293\u001b[0;31m             \u001b[0mhandle\u001b[0m \u001b[0;34m=\u001b[0m \u001b[0mopen\u001b[0m\u001b[0;34m(\u001b[0m\u001b[0mfinfo\u001b[0m\u001b[0;34m,\u001b[0m \u001b[0;34m'rb'\u001b[0m\u001b[0;34m)\u001b[0m\u001b[0;34m\u001b[0m\u001b[0;34m\u001b[0m\u001b[0m\n\u001b[0m\u001b[1;32m    294\u001b[0m         \u001b[0mcontents\u001b[0m \u001b[0;34m=\u001b[0m \u001b[0mhandle\u001b[0m\u001b[0;34m.\u001b[0m\u001b[0mread\u001b[0m\u001b[0;34m(\u001b[0m\u001b[0;34m)\u001b[0m\u001b[0;34m\u001b[0m\u001b[0;34m\u001b[0m\u001b[0m\n",
      "\u001b[0;31mFileNotFoundError\u001b[0m: [Errno 2] No such file or directory: 'seqs/1lxl.pdb'",
      "\nDuring handling of the above exception, another exception occurred:\n",
      "\u001b[0;31mCmdException\u001b[0m                              Traceback (most recent call last)",
      "\u001b[0;32m/tmp/ipykernel_128454/701454932.py\u001b[0m in \u001b[0;36m<module>\u001b[0;34m\u001b[0m\n\u001b[1;32m      1\u001b[0m \u001b[0;32mfrom\u001b[0m \u001b[0mpymol\u001b[0m \u001b[0;32mimport\u001b[0m \u001b[0mcmd\u001b[0m\u001b[0;34m\u001b[0m\u001b[0;34m\u001b[0m\u001b[0m\n\u001b[0;32m----> 2\u001b[0;31m \u001b[0mcmd\u001b[0m\u001b[0;34m.\u001b[0m\u001b[0mload\u001b[0m \u001b[0;34m(\u001b[0m\u001b[0;34m\"seqs/1lxl.pdb\"\u001b[0m\u001b[0;34m)\u001b[0m\u001b[0;34m\u001b[0m\u001b[0;34m\u001b[0m\u001b[0m\n\u001b[0m",
      "\u001b[0;32m/opt/miniconda3/envs/biobb_env/lib/python3.7/site-packages/pymol/importing.py\u001b[0m in \u001b[0;36mload\u001b[0;34m(filename, object, state, format, finish, discrete, quiet, multiplex, zoom, partial, mimic, object_props, atom_props, _self)\u001b[0m\n\u001b[1;32m    834\u001b[0m \u001b[0;34m\u001b[0m\u001b[0m\n\u001b[1;32m    835\u001b[0m             \u001b[0;32mif\u001b[0m \u001b[0;34m'contents'\u001b[0m \u001b[0;32min\u001b[0m \u001b[0msig\u001b[0m\u001b[0;34m.\u001b[0m\u001b[0mparameters\u001b[0m\u001b[0;34m:\u001b[0m\u001b[0;34m\u001b[0m\u001b[0;34m\u001b[0m\u001b[0m\n\u001b[0;32m--> 836\u001b[0;31m                 \u001b[0mkw\u001b[0m\u001b[0;34m[\u001b[0m\u001b[0;34m'contents'\u001b[0m\u001b[0;34m]\u001b[0m \u001b[0;34m=\u001b[0m \u001b[0m_self\u001b[0m\u001b[0;34m.\u001b[0m\u001b[0mfile_read\u001b[0m\u001b[0;34m(\u001b[0m\u001b[0mfilename\u001b[0m\u001b[0;34m)\u001b[0m\u001b[0;34m\u001b[0m\u001b[0;34m\u001b[0m\u001b[0m\n\u001b[0m\u001b[1;32m    837\u001b[0m \u001b[0;34m\u001b[0m\u001b[0m\n\u001b[1;32m    838\u001b[0m             \u001b[0;32mreturn\u001b[0m \u001b[0mfunc\u001b[0m\u001b[0;34m(\u001b[0m\u001b[0;34m**\u001b[0m\u001b[0mkw\u001b[0m\u001b[0;34m)\u001b[0m\u001b[0;34m\u001b[0m\u001b[0;34m\u001b[0m\u001b[0m\n",
      "\u001b[0;32m/opt/miniconda3/envs/biobb_env/lib/python3.7/site-packages/pymol/internal.py\u001b[0m in \u001b[0;36mfile_read\u001b[0;34m(finfo, _self)\u001b[0m\n\u001b[1;32m    295\u001b[0m         \u001b[0mhandle\u001b[0m\u001b[0;34m.\u001b[0m\u001b[0mclose\u001b[0m\u001b[0;34m(\u001b[0m\u001b[0;34m)\u001b[0m\u001b[0;34m\u001b[0m\u001b[0;34m\u001b[0m\u001b[0m\n\u001b[1;32m    296\u001b[0m     \u001b[0;32mexcept\u001b[0m \u001b[0mIOError\u001b[0m\u001b[0;34m:\u001b[0m\u001b[0;34m\u001b[0m\u001b[0;34m\u001b[0m\u001b[0m\n\u001b[0;32m--> 297\u001b[0;31m         \u001b[0;32mraise\u001b[0m \u001b[0mpymol\u001b[0m\u001b[0;34m.\u001b[0m\u001b[0mCmdException\u001b[0m\u001b[0;34m(\u001b[0m\u001b[0;34m'failed to open file \"%s\"'\u001b[0m \u001b[0;34m%\u001b[0m \u001b[0mfinfo\u001b[0m\u001b[0;34m)\u001b[0m\u001b[0;34m\u001b[0m\u001b[0;34m\u001b[0m\u001b[0m\n\u001b[0m\u001b[1;32m    298\u001b[0m \u001b[0;34m\u001b[0m\u001b[0m\n\u001b[1;32m    299\u001b[0m     \u001b[0;32mif\u001b[0m \u001b[0mcontents\u001b[0m\u001b[0;34m[\u001b[0m\u001b[0;34m:\u001b[0m\u001b[0;36m2\u001b[0m\u001b[0;34m]\u001b[0m \u001b[0;34m==\u001b[0m \u001b[0;34mb'\\x1f\\x8b'\u001b[0m\u001b[0;34m:\u001b[0m \u001b[0;31m# gzip magic number\u001b[0m\u001b[0;34m\u001b[0m\u001b[0;34m\u001b[0m\u001b[0m\n",
      "\u001b[0;31mCmdException\u001b[0m:  Error: failed to open file \"seqs/1lxl.pdb\""
     ]
    }
   ],
   "source": [
    "from pymol import cmd\n",
    "cmd.load (\"seqs/1lxl.pdb\")"
   ]
  },
  {
   "cell_type": "code",
   "execution_count": 3,
   "metadata": {},
   "outputs": [
    {
     "data": {
      "text/plain": [
       "'/home/lg/repos/javerianaMD/simulations/tests/Get-Intramembrane-Helix-bcllx'"
      ]
     },
     "execution_count": 3,
     "metadata": {},
     "output_type": "execute_result"
    }
   ],
   "source": [
    "import os\n",
    "os.getcwd()"
   ]
  }
 ],
 "metadata": {
  "interpreter": {
   "hash": "e6bf92d361c19049dbef2997c619a01070cbb788e395c2d00386c10a34a2b941"
  },
  "kernelspec": {
   "display_name": "Python 3.7.12 ('biobb_env')",
   "language": "python",
   "name": "python3"
  },
  "language_info": {
   "codemirror_mode": {
    "name": "ipython",
    "version": 3
   },
   "file_extension": ".py",
   "mimetype": "text/x-python",
   "name": "python",
   "nbconvert_exporter": "python",
   "pygments_lexer": "ipython3",
   "version": "3.7.12"
  },
  "toc": {
   "base_numbering": 1,
   "nav_menu": {},
   "number_sections": false,
   "sideBar": true,
   "skip_h1_title": false,
   "title_cell": "Table of Contents",
   "title_sidebar": "Contents",
   "toc_cell": false,
   "toc_position": {},
   "toc_section_display": true,
   "toc_window_display": false
  }
 },
 "nbformat": 4,
 "nbformat_minor": 4
}
