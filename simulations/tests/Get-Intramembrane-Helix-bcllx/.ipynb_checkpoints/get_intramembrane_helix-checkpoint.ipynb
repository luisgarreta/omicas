{
 "cells": [
  {
   "cell_type": "markdown",
   "metadata": {},
   "source": [
    "## Simulation Systems \n",
    "- Tyagi2021: \"Effects of Cardiolipin on the Conformational Dynamics of Membrane-Anchored Bcl-xL\"\n",
    "- A model of the full-length Bcl-xL protein in a membrane-anchored configuration was constructed by combining two solution NMR structures: one lacking the C-terminal helix (PDB ID: 1LXL; residues 1–222) [29] and another of the isolated C-terminal helix (PDB ID: 6F46; helix α8, residues 209–231) [30].\n",
    "- After aligning the C-terminal helix along the Cartesian z-axis, the two structures were superimposed and joined at residue Gln-207 to generate a model for the membrane anchored full-length Bcl-xL, where the C-terminal helix is in a transmembrane orientation. \n",
    "- For each simulation, Bcl-xL was anchored into the membrane by embedding the C-terminal helix in the lipid bilayer such that the Trp-213 residue was just below the lipid phosphate groups and the soluble folded domain was within 4 Å of the membrane surface."
   ]
  },
  {
   "cell_type": "markdown",
   "metadata": {},
   "source": [
    "## Protein bcl-xl (PDB 6f46)\n",
    "- Inputs: PDB file \"6f4g.pdb\"\n",
    "- Ouputs: \"6f46_model1.pdb\"\n",
    "![6f46_model_1](images/6f46_model1.png)"
   ]
  },
  {
   "cell_type": "markdown",
   "metadata": {},
   "source": [
    "## Get C-terminal helix\n",
    "- Helix α8, residues 209-231\n",
    "- Input: PDB file \"6f4g_mode1.pdb\"\n",
    "- Ouputs: \"6f46_model1_helix8.pdb\"\n",
    "\n",
    "![6f46_model_1_helix_8](images/6f46_model1_helix8.png)"
   ]
  },
  {
   "cell_type": "markdown",
   "metadata": {},
   "source": [
    "### Aligning the C-terminal helix along the Cartesian z-axis\n",
    "- Input: \"6f46_model1_helix8.pdb\"\n",
    "- Output: \"bclxl-helix8.pdb\"\n",
    "- Method: VMD Script \"align-zaxis-vmd.tcl\"\n",
    "![6f46_model_1_helix_8](images/helix8_z_aligned.png)"
   ]
  }
 ],
 "metadata": {
  "kernelspec": {
   "display_name": "Python 3 (ipykernel)",
   "language": "python",
   "name": "python3"
  },
  "language_info": {
   "codemirror_mode": {
    "name": "ipython",
    "version": 3
   },
   "file_extension": ".py",
   "mimetype": "text/x-python",
   "name": "python",
   "nbconvert_exporter": "python",
   "pygments_lexer": "ipython3",
   "version": "3.7.12"
  },
  "toc": {
   "base_numbering": 1,
   "nav_menu": {},
   "number_sections": false,
   "sideBar": true,
   "skip_h1_title": false,
   "title_cell": "Table of Contents",
   "title_sidebar": "Contents",
   "toc_cell": false,
   "toc_position": {},
   "toc_section_display": true,
   "toc_window_display": false
  }
 },
 "nbformat": 4,
 "nbformat_minor": 4
}
