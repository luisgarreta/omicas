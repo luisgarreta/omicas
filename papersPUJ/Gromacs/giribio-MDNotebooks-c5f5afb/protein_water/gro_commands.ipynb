{
 "cells": [
  {
   "cell_type": "code",
   "execution_count": null,
   "metadata": {},
   "outputs": [],
   "source": [
    "####### Kindly cite this notebook in your publications if you have used it for calculations.\n",
    "####### Cite as : NyroMDNotebook v1, Girinath G. Pillai : https://github.com/giribio/MDNotebooks"
   ]
  },
  {
   "cell_type": "code",
   "execution_count": null,
   "metadata": {},
   "outputs": [],
   "source": [
    "# Install anaconda from the web\n",
    "# https://www.anaconda.com/products/individual"
   ]
  },
  {
   "cell_type": "code",
   "execution_count": null,
   "metadata": {},
   "outputs": [],
   "source": [
    "# Install Gromacs from the web or execute this cell\n",
    "!printf \"y\" | conda install -c bioconda gromacs"
   ]
  },
  {
   "cell_type": "code",
   "execution_count": null,
   "metadata": {},
   "outputs": [],
   "source": [
    "# To install additional libraries execute this cell\n",
    "!printf \"y\" | conda install nglview mdanalysis\n",
    "!printf \"y\" | pip install GromacsWrapper pytraj"
   ]
  },
  {
   "cell_type": "code",
   "execution_count": null,
   "metadata": {},
   "outputs": [],
   "source": [
    "# To initialise and enable NGLview, execute this cell\n",
    "!jupyter-nbextension enable --py --sys-prefix widgetsnbextension\n",
    "!jupyter-nbextension enable nglview --py --sys-prefix"
   ]
  },
  {
   "cell_type": "code",
   "execution_count": null,
   "metadata": {},
   "outputs": [],
   "source": [
    "###### numpy and matplotlib required for result analysis and ploting"
   ]
  },
  {
   "cell_type": "code",
   "execution_count": 4,
   "metadata": {},
   "outputs": [],
   "source": [
    "%matplotlib inline\n",
    "import matplotlib as mpl\n",
    "import matplotlib.pyplot as plt\n",
    "import numpy as np"
   ]
  },
  {
   "cell_type": "code",
   "execution_count": 5,
   "metadata": {},
   "outputs": [],
   "source": [
    "###### pytraj and nglview required for trajectory analysis and visualization "
   ]
  },
  {
   "cell_type": "code",
   "execution_count": 6,
   "metadata": {},
   "outputs": [
    {
     "data": {
      "application/vnd.jupyter.widget-view+json": {
       "model_id": "7dbb2b58f7a848d3bf09342869891f33",
       "version_major": 2,
       "version_minor": 0
      },
      "text/plain": [
       "_ColormakerRegistry()"
      ]
     },
     "metadata": {},
     "output_type": "display_data"
    }
   ],
   "source": [
    "import pytraj as pt\n",
    "import nglview as nv"
   ]
  },
  {
   "cell_type": "code",
   "execution_count": 7,
   "metadata": {},
   "outputs": [],
   "source": [
    "###### GromacsWrapper is required to use gromacs.options commands otherwise \n",
    "#use ! before gmx commands"
   ]
  },
  {
   "cell_type": "code",
   "execution_count": 8,
   "metadata": {},
   "outputs": [
    {
     "name": "stdout",
     "output_type": "stream",
     "text": [
      "NOTE: Some configuration directories are not set up yet: \n",
      "\t/Users/gpillai/.gromacswrapper\n",
      "\t/Users/gpillai/.gromacswrapper/qscripts\n",
      "\t/Users/gpillai/.gromacswrapper/templates\n",
      "NOTE: You can create the configuration file and directories with:\n",
      "\t>>> import gromacs\n",
      "\t>>> gromacs.config.setup()\n"
     ]
    }
   ],
   "source": [
    "import gromacs\n",
    "import gromacs.formats"
   ]
  },
  {
   "cell_type": "code",
   "execution_count": 9,
   "metadata": {},
   "outputs": [
    {
     "name": "stdout",
     "output_type": "stream",
     "text": [
      "5.1.4\n"
     ]
    }
   ],
   "source": [
    "print(gromacs.release)"
   ]
  },
  {
   "cell_type": "code",
   "execution_count": null,
   "metadata": {},
   "outputs": [],
   "source": [
    "# Commands with ! runs as the Gromacs commands, make sure Gromacs is installed annd the environment variables are set properly so that 'gmx' works on any directory. \n",
    "# Set GMXLIB path to the <Gromacs installation path>/share/gromacs/top\n",
    "    #if not execute the following cell."
   ]
  },
  {
   "cell_type": "code",
   "execution_count": 29,
   "metadata": {},
   "outputs": [],
   "source": [
    "!export GMXLIB=/usr/local/share/gromacs/top\n",
    "#update the location as per your installation"
   ]
  },
  {
   "cell_type": "code",
   "execution_count": null,
   "metadata": {},
   "outputs": [],
   "source": [
    "# Rename your protein file (.pdb) to prot.pdb\n",
    "# Remove HOH and clean the PDB file"
   ]
  },
  {
   "cell_type": "code",
   "execution_count": 3,
   "metadata": {},
   "outputs": [
    {
     "name": "stdout",
     "output_type": "stream",
     "text": [
      "Do you agree to cite this notebook? (y/ny\n",
      "y\n"
     ]
    }
   ],
   "source": [
    "!grep -v HOH prot.pdb > prot_clean.pdb\n",
    "#if PDB has HOH, else skip this step\n",
    "agree = input('Do you agree to cite this notebook? (y/n')\n",
    "print (agree)"
   ]
  },
  {
   "cell_type": "markdown",
   "metadata": {},
   "source": [
    "### Generate Topology"
   ]
  },
  {
   "cell_type": "markdown",
   "metadata": {},
   "source": [
    "####### Forcefield option -ff, you could give anyone of them\n"
   ]
  },
  {
   "cell_type": "code",
   "execution_count": 31,
   "metadata": {},
   "outputs": [
    {
     "name": "stdout",
     "output_type": "stream",
     "text": [
      "                  :-) GROMACS - gmx pdb2gmx, VERSION 5.1.4 (-:\n",
      "\n",
      "                            GROMACS is written by:\n",
      "     Emile Apol      Rossen Apostolov  Herman J.C. Berendsen    Par Bjelkmar   \n",
      " Aldert van Buuren   Rudi van Drunen     Anton Feenstra   Sebastian Fritsch \n",
      "  Gerrit Groenhof   Christoph Junghans   Anca Hamuraru    Vincent Hindriksen\n",
      " Dimitrios Karkoulis    Peter Kasson        Jiri Kraus      Carsten Kutzner  \n",
      "    Per Larsson      Justin A. Lemkul   Magnus Lundborg   Pieter Meulenhoff \n",
      "   Erik Marklund      Teemu Murtola       Szilard Pall       Sander Pronk   \n",
      "   Roland Schulz     Alexey Shvetsov     Michael Shirts     Alfons Sijbers  \n",
      "   Peter Tieleman    Teemu Virolainen  Christian Wennberg    Maarten Wolf   \n",
      "                           and the project leaders:\n",
      "        Mark Abraham, Berk Hess, Erik Lindahl, and David van der Spoel\n",
      "\n",
      "Copyright (c) 1991-2000, University of Groningen, The Netherlands.\n",
      "Copyright (c) 2001-2015, The GROMACS development team at\n",
      "Uppsala University, Stockholm University and\n",
      "the Royal Institute of Technology, Sweden.\n",
      "check out http://www.gromacs.org for more information.\n",
      "\n",
      "GROMACS is free software; you can redistribute it and/or modify it\n",
      "under the terms of the GNU Lesser General Public License\n",
      "as published by the Free Software Foundation; either version 2.1\n",
      "of the License, or (at your option) any later version.\n",
      "\n",
      "GROMACS:      gmx pdb2gmx, VERSION 5.1.4\n",
      "Executable:   /usr/local/bin/gmx\n",
      "Data prefix:  /usr/local\n",
      "Command line:\n",
      "  gmx pdb2gmx -f 1aki_clean.pdb -o 1aki_pros.gro -water spce -ff amber99sb\n",
      "\n",
      "\n",
      "Using the Amber99sb force field in directory amber99sb.ff\n",
      "\n",
      "Opening force field file /usr/local/share/gromacs/top/amber99sb.ff/aminoacids.r2b\n",
      "Opening force field file /usr/local/share/gromacs/top/amber99sb.ff/dna.r2b\n",
      "Opening force field file /usr/local/share/gromacs/top/amber99sb.ff/rna.r2b\n",
      "Reading 1aki_clean.pdb...\n",
      "WARNING: all CONECT records are ignored\n",
      "Read 'LYSOZYME', 1001 atoms\n",
      "Analyzing pdb file\n",
      "Splitting chemical chains based on TER records or chain id changing.\n",
      "There are 1 chains and 0 blocks of water and 129 residues with 1001 atoms\n",
      "\n",
      "  chain  #res #atoms\n",
      "  1 'A'   129   1001  \n",
      "\n",
      "All occupancies are one\n",
      "Opening force field file /usr/local/share/gromacs/top/amber99sb.ff/atomtypes.atp\n",
      "Atomtype 67\n",
      "Reading residue database... (amber99sb)\n",
      "Opening force field file /usr/local/share/gromacs/top/amber99sb.ff/aminoacids.rtp\n",
      "Residue 93\n",
      "Sorting it all out...\n",
      "Opening force field file /usr/local/share/gromacs/top/amber99sb.ff/dna.rtp\n",
      "Residue 109\n",
      "Sorting it all out...\n",
      "Opening force field file /usr/local/share/gromacs/top/amber99sb.ff/rna.rtp\n",
      "Residue 125\n",
      "Sorting it all out...\n",
      "Opening force field file /usr/local/share/gromacs/top/amber99sb.ff/aminoacids.hdb\n",
      "Opening force field file /usr/local/share/gromacs/top/amber99sb.ff/dna.hdb\n",
      "Opening force field file /usr/local/share/gromacs/top/amber99sb.ff/rna.hdb\n",
      "Opening force field file /usr/local/share/gromacs/top/amber99sb.ff/aminoacids.n.tdb\n",
      "Opening force field file /usr/local/share/gromacs/top/amber99sb.ff/aminoacids.c.tdb\n",
      "Processing chain 1 'A' (1001 atoms, 129 residues)\n",
      "Analysing hydrogen-bonding network for automated assignment of histidine\n",
      " protonation. 213 donors and 184 acceptors were found.\n",
      "There are 255 hydrogen bonds\n",
      "Will use HISE for residue 15\n",
      "Identified residue LYS1 as a starting terminus.\n",
      "Identified residue LEU129 as a ending terminus.\n",
      "8 out of 8 lines of specbond.dat converted successfully\n",
      "Special Atom Distance matrix:\n",
      "                    CYS6   MET12   HIS15   CYS30   CYS64   CYS76   CYS80\n",
      "                    SG48    SD87  NE2118   SG238   SG513   SG601   SG630\n",
      "   MET12    SD87   1.166\n",
      "   HIS15  NE2118   1.776   1.019\n",
      "   CYS30   SG238   1.406   1.054   2.069\n",
      "   CYS64   SG513   2.835   1.794   1.789   2.241\n",
      "   CYS76   SG601   2.704   1.551   1.468   2.116   0.765\n",
      "   CYS80   SG630   2.959   1.951   1.916   2.391   0.199   0.944\n",
      "   CYS94   SG724   2.550   1.407   1.382   1.975   0.665   0.202   0.855\n",
      "  MET105   SD799   1.827   0.911   1.683   0.888   1.849   1.461   2.036\n",
      "  CYS115   SG889   1.576   1.084   2.078   0.200   2.111   1.989   2.262\n",
      "  CYS127   SG981   0.197   1.072   1.721   1.313   2.799   2.622   2.934\n",
      "                   CYS94  MET105  CYS115\n",
      "                   SG724   SD799   SG889\n",
      "  MET105   SD799   1.381\n",
      "  CYS115   SG889   1.853   0.790\n",
      "  CYS127   SG981   2.475   1.686   1.483\n",
      "Linking CYS-6 SG-48 and CYS-127 SG-981...\n",
      "Linking CYS-30 SG-238 and CYS-115 SG-889...\n",
      "Linking CYS-64 SG-513 and CYS-80 SG-630...\n",
      "Linking CYS-76 SG-601 and CYS-94 SG-724...\n",
      "Opening force field file /usr/local/share/gromacs/top/amber99sb.ff/aminoacids.arn\n",
      "Opening force field file /usr/local/share/gromacs/top/amber99sb.ff/dna.arn\n",
      "Opening force field file /usr/local/share/gromacs/top/amber99sb.ff/rna.arn\n",
      "Checking for duplicate atoms....\n",
      "Generating any missing hydrogen atoms and/or adding termini.\n",
      "Now there are 129 residues with 1960 atoms\n",
      "Making bonds...\n",
      "Number of bonds was 1985, now 1984\n",
      "Generating angles, dihedrals and pairs...\n",
      "Before cleaning: 5142 pairs\n",
      "Before cleaning: 5187 dihedrals\n",
      "Keeping all generated dihedrals\n",
      "Making cmap torsions...\n",
      "There are 5187 dihedrals,  426 impropers, 3547 angles\n",
      "          5106 pairs,     1984 bonds and     0 virtual sites\n",
      "Total mass 14313.332 a.m.u.\n",
      "Total charge 8.000 e\n",
      "Writing topology\n",
      "\n",
      "Writing coordinate file...\n",
      "\t\t--------- PLEASE NOTE ------------\n",
      "You have successfully generated a topology from: 1aki_clean.pdb.\n",
      "The Amber99sb force field and the spce water model are used.\n",
      "\t\t--------- ETON ESAELP ------------\n",
      "\n",
      "gcq#483: \"Chance favors the prepared mind.\" (Louis Pasteur)\n",
      "\n"
     ]
    }
   ],
   "source": [
    "!gmx pdb2gmx -f prot_clean.pdb -o prot_pros.gro -water spce -ff amber99sb"
   ]
  },
  {
   "cell_type": "code",
   "execution_count": 10,
   "metadata": {},
   "outputs": [
    {
     "name": "stdout",
     "output_type": "stream",
     "text": [
      "\r\n",
      "[ system ]\r\n",
      "; Name\r\n",
      "LYSOZYME in water\r\n",
      "\r\n",
      "[ molecules ]\r\n",
      "; Compound        #mols\r\n",
      "Protein_chain_A     1\r\n",
      "SOL         10636\r\n",
      "CL               8\r\n"
     ]
    }
   ],
   "source": [
    "!tail topol.top"
   ]
  },
  {
   "cell_type": "markdown",
   "metadata": {},
   "source": [
    "#### Generate box and Solvate Protein"
   ]
  },
  {
   "cell_type": "code",
   "execution_count": 33,
   "metadata": {
    "scrolled": true
   },
   "outputs": [
    {
     "name": "stdout",
     "output_type": "stream",
     "text": [
      "                 :-) GROMACS - gmx editconf, VERSION 5.1.4 (-:\r\n",
      "\r\n",
      "                            GROMACS is written by:\r\n",
      "     Emile Apol      Rossen Apostolov  Herman J.C. Berendsen    Par Bjelkmar   \r\n",
      " Aldert van Buuren   Rudi van Drunen     Anton Feenstra   Sebastian Fritsch \r\n",
      "  Gerrit Groenhof   Christoph Junghans   Anca Hamuraru    Vincent Hindriksen\r\n",
      " Dimitrios Karkoulis    Peter Kasson        Jiri Kraus      Carsten Kutzner  \r\n",
      "    Per Larsson      Justin A. Lemkul   Magnus Lundborg   Pieter Meulenhoff \r\n",
      "   Erik Marklund      Teemu Murtola       Szilard Pall       Sander Pronk   \r\n",
      "   Roland Schulz     Alexey Shvetsov     Michael Shirts     Alfons Sijbers  \r\n",
      "   Peter Tieleman    Teemu Virolainen  Christian Wennberg    Maarten Wolf   \r\n",
      "                           and the project leaders:\r\n",
      "        Mark Abraham, Berk Hess, Erik Lindahl, and David van der Spoel\r\n",
      "\r\n",
      "Copyright (c) 1991-2000, University of Groningen, The Netherlands.\r\n",
      "Copyright (c) 2001-2015, The GROMACS development team at\r\n",
      "Uppsala University, Stockholm University and\r\n",
      "the Royal Institute of Technology, Sweden.\r\n",
      "check out http://www.gromacs.org for more information.\r\n",
      "\r\n",
      "GROMACS is free software; you can redistribute it and/or modify it\r\n",
      "under the terms of the GNU Lesser General Public License\r\n",
      "as published by the Free Software Foundation; either version 2.1\r\n",
      "of the License, or (at your option) any later version.\r\n",
      "\r\n",
      "GROMACS:      gmx editconf, VERSION 5.1.4\r\n",
      "Executable:   /usr/local/bin/gmx\r\n",
      "Data prefix:  /usr/local\r\n",
      "Command line:\r\n",
      "  gmx editconf -f 1aki_pros.gro -o 1aki_box.gro -c -d 1.0 -bt cubic\r\n",
      "\r\n",
      "Read 1960 atoms\r\n",
      "Volume: 123.376 nm^3, corresponds to roughly 55500 electrons\r\n",
      "No velocities found\r\n",
      "    system size :  3.817  4.234  3.454 (nm)\r\n",
      "    diameter    :  5.010               (nm)\r\n",
      "    center      :  2.781  2.488  0.017 (nm)\r\n",
      "    box vectors :  5.906  6.845  3.052 (nm)\r\n",
      "    box angles  :  90.00  90.00  90.00 (degrees)\r\n",
      "    box volume  : 123.38               (nm^3)\r\n",
      "    shift       :  0.724  1.017  3.488 (nm)\r\n",
      "new center      :  3.505  3.505  3.505 (nm)\r\n",
      "new box vectors :  7.010  7.010  7.010 (nm)\r\n",
      "new box angles  :  90.00  90.00  90.00 (degrees)\r\n",
      "new box volume  : 344.48               (nm^3)\r\n",
      "\r\n",
      "gcq#144: \"It Doesn't Have to Be Tip Top\" (Pulp Fiction)\r\n",
      "\r\n"
     ]
    }
   ],
   "source": [
    "!gmx editconf -f prot_pros.gro -o prot_box.gro -c -d 1.0 -bt cubic"
   ]
  },
  {
   "cell_type": "code",
   "execution_count": null,
   "metadata": {},
   "outputs": [],
   "source": [
    "#gromacs.solvate(cp=\"prot_box.gro\", cs=\"spc216.gro\", p=\"topol.top\", o=\"prot_solv.gro\")\n",
    "# Uncomment above line if you want to run gmx through GromacsWrapper and do not execute next cell"
   ]
  },
  {
   "cell_type": "code",
   "execution_count": 34,
   "metadata": {},
   "outputs": [
    {
     "name": "stdout",
     "output_type": "stream",
     "text": [
      "                  :-) GROMACS - gmx solvate, VERSION 5.1.4 (-:\n",
      "\n",
      "                            GROMACS is written by:\n",
      "     Emile Apol      Rossen Apostolov  Herman J.C. Berendsen    Par Bjelkmar   \n",
      " Aldert van Buuren   Rudi van Drunen     Anton Feenstra   Sebastian Fritsch \n",
      "  Gerrit Groenhof   Christoph Junghans   Anca Hamuraru    Vincent Hindriksen\n",
      " Dimitrios Karkoulis    Peter Kasson        Jiri Kraus      Carsten Kutzner  \n",
      "    Per Larsson      Justin A. Lemkul   Magnus Lundborg   Pieter Meulenhoff \n",
      "   Erik Marklund      Teemu Murtola       Szilard Pall       Sander Pronk   \n",
      "   Roland Schulz     Alexey Shvetsov     Michael Shirts     Alfons Sijbers  \n",
      "   Peter Tieleman    Teemu Virolainen  Christian Wennberg    Maarten Wolf   \n",
      "                           and the project leaders:\n",
      "        Mark Abraham, Berk Hess, Erik Lindahl, and David van der Spoel\n",
      "\n",
      "Copyright (c) 1991-2000, University of Groningen, The Netherlands.\n",
      "Copyright (c) 2001-2015, The GROMACS development team at\n",
      "Uppsala University, Stockholm University and\n",
      "the Royal Institute of Technology, Sweden.\n",
      "check out http://www.gromacs.org for more information.\n",
      "\n",
      "GROMACS is free software; you can redistribute it and/or modify it\n",
      "under the terms of the GNU Lesser General Public License\n",
      "as published by the Free Software Foundation; either version 2.1\n",
      "of the License, or (at your option) any later version.\n",
      "\n",
      "GROMACS:      gmx solvate, VERSION 5.1.4\n",
      "Executable:   /usr/local/bin/gmx\n",
      "Data prefix:  /usr/local\n",
      "Command line:\n",
      "  gmx solvate -cp 1aki_box.gro -cs spc216.gro -o 1aki_solv.gro -p topol.top\n",
      "\n",
      "Reading solute configuration\n",
      "LYSOZYME\n",
      "Containing 1960 atoms in 129 residues\n",
      "Reading solvent configuration and velocities\n",
      "216H2O,WATJP01,SPC216,SPC-MODEL,300K,BOX(M)=1.86206NM,WFVG,MAR. 1984\n",
      "Containing 648 atoms in 216 residues\n",
      "\n",
      "Initialising inter-atomic distances...\n",
      "\n",
      "WARNING: Masses and atomic (Van der Waals) radii will be guessed\n",
      "         based on residue and atom names, since they could not be\n",
      "         definitively assigned from the information in your input\n",
      "         files. These guessed numbers might deviate from the mass\n",
      "         and radius of the atom type. Please check the output\n",
      "         files if necessary.\n",
      "\n",
      "NOTE: From version 5.0 gmx uses the Van der Waals radii\n",
      "from the source below. This means the results may be different\n",
      "compared to previous GROMACS versions.\n",
      "\n",
      "++++ PLEASE READ AND CITE THE FOLLOWING REFERENCE ++++\n",
      "A. Bondi\n",
      "van der Waals Volumes and Radii\n",
      "J. Phys. Chem. 68 (1964) pp. 441-451\n",
      "-------- -------- --- Thank You --- -------- --------\n",
      "\n",
      "Generating solvent configuration\n",
      "Will generate new solvent configuration of 4x4x4 boxes\n",
      "Solvent box contains 39252 atoms in 13084 residues\n",
      "Removed 5451 solvent atoms due to solvent-solvent overlap\n",
      "Removed 1869 solvent atoms due to solute-solvent overlap\n",
      "Sorting configuration\n",
      "Found 1 molecule type:\n",
      "    SOL (   3 atoms): 10644 residues\n",
      "Generated solvent containing 31932 atoms in 10644 residues\n",
      "Writing generated configuration to 1aki_solv.gro\n",
      "\n",
      "Output configuration contains 33892 atoms in 10773 residues\n",
      "Volume                 :     344.484 (nm^3)\n",
      "Density                :     997.935 (g/l)\n",
      "Number of SOL molecules:  10644   \n",
      "\n",
      "Processing topology\n",
      "\n",
      "Back Off! I just backed up temp.top4a7ErH to ./#temp.top4a7ErH.1#\n",
      "Adding line for 10644 solvent molecules to topology file (topol.top)\n",
      "\n",
      "Back Off! I just backed up topol.top to ./#topol.top.1#\n",
      "\n",
      "gcq#380: \"The future always gets twisted and turned\" (Lisa o Piu)\n",
      "\n"
     ]
    }
   ],
   "source": [
    "!gmx solvate -cp prot_box.gro -cs spc216.gro -o prot_solv.gro -p topol.top"
   ]
  },
  {
   "cell_type": "markdown",
   "metadata": {},
   "source": [
    "### Adding Ions"
   ]
  },
  {
   "cell_type": "code",
   "execution_count": null,
   "metadata": {},
   "outputs": [],
   "source": [
    "#gromacs.grompp(f=\"ions.mdp\", c=\"prot_solv.gro\", p=\"topol.top\", o=\"ions.tpr\")\n",
    "# Uncomment above line if you want to run gmx through GromacsWrapper and do not execute next cell"
   ]
  },
  {
   "cell_type": "code",
   "execution_count": 36,
   "metadata": {},
   "outputs": [
    {
     "name": "stdout",
     "output_type": "stream",
     "text": [
      "                  :-) GROMACS - gmx grompp, VERSION 5.1.4 (-:\n",
      "\n",
      "                            GROMACS is written by:\n",
      "     Emile Apol      Rossen Apostolov  Herman J.C. Berendsen    Par Bjelkmar   \n",
      " Aldert van Buuren   Rudi van Drunen     Anton Feenstra   Sebastian Fritsch \n",
      "  Gerrit Groenhof   Christoph Junghans   Anca Hamuraru    Vincent Hindriksen\n",
      " Dimitrios Karkoulis    Peter Kasson        Jiri Kraus      Carsten Kutzner  \n",
      "    Per Larsson      Justin A. Lemkul   Magnus Lundborg   Pieter Meulenhoff \n",
      "   Erik Marklund      Teemu Murtola       Szilard Pall       Sander Pronk   \n",
      "   Roland Schulz     Alexey Shvetsov     Michael Shirts     Alfons Sijbers  \n",
      "   Peter Tieleman    Teemu Virolainen  Christian Wennberg    Maarten Wolf   \n",
      "                           and the project leaders:\n",
      "        Mark Abraham, Berk Hess, Erik Lindahl, and David van der Spoel\n",
      "\n",
      "Copyright (c) 1991-2000, University of Groningen, The Netherlands.\n",
      "Copyright (c) 2001-2015, The GROMACS development team at\n",
      "Uppsala University, Stockholm University and\n",
      "the Royal Institute of Technology, Sweden.\n",
      "check out http://www.gromacs.org for more information.\n",
      "\n",
      "GROMACS is free software; you can redistribute it and/or modify it\n",
      "under the terms of the GNU Lesser General Public License\n",
      "as published by the Free Software Foundation; either version 2.1\n",
      "of the License, or (at your option) any later version.\n",
      "\n",
      "GROMACS:      gmx grompp, VERSION 5.1.4\n",
      "Executable:   /usr/local/bin/gmx\n",
      "Data prefix:  /usr/local\n",
      "Command line:\n",
      "  gmx grompp -f ions.mdp -c 1aki_solv.gro -p topol.top -o ions.tpr\n",
      "\n",
      "\n",
      "Back Off! I just backed up mdout.mdp to ./#mdout.mdp.1#\n",
      "\n",
      "NOTE 1 [file ions.mdp]:\n",
      "  With Verlet lists the optimal nstlist is >= 10, with GPUs >= 20. Note\n",
      "  that with the Verlet scheme, nstlist has no effect on the accuracy of\n",
      "  your simulation.\n",
      "\n",
      "Setting the LD random seed to 266582885\n",
      "Generated 2211 of the 2211 non-bonded parameter combinations\n",
      "Generating 1-4 interactions: fudge = 0.5\n",
      "Generated 2211 of the 2211 1-4 parameter combinations\n",
      "Excluding 3 bonded neighbours molecule type 'Protein_chain_A'\n",
      "Excluding 2 bonded neighbours molecule type 'SOL'\n",
      "\n",
      "NOTE 2 [file topol.top, line 18409]:\n",
      "  System has non-zero total charge: 8.000000\n",
      "  Total charge should normally be an integer. See\n",
      "  http://www.gromacs.org/Documentation/Floating_Point_Arithmetic\n",
      "  for discussion on how close it should be to an integer.\n",
      "  \n",
      "\n",
      "\n",
      "Removing all charge groups because cutoff-scheme=Verlet\n",
      "Analysing residue names:\n",
      "There are:   129    Protein residues\n",
      "There are: 10644      Water residues\n",
      "Analysing Protein...\n",
      "Number of degrees of freedom in T-Coupling group rest is 69741.00\n",
      "Calculating fourier grid dimensions for X Y Z\n",
      "Using a fourier grid of 60x60x60, spacing 0.117 0.117 0.117\n",
      "Estimate for the relative computational load of the PME mesh part: 0.26\n",
      "This run will generate roughly 3 Mb of data\n",
      "\n",
      "There were 2 notes\n",
      "\n",
      "gcq#564: \"Even if you are on the right track, you will get run over if you just sit there.\" (Will Rogers)\n",
      "\n"
     ]
    }
   ],
   "source": [
    "!gmx grompp -f ions.mdp -c prot_solv.gro -p topol.top -o ions.tpr"
   ]
  },
  {
   "cell_type": "code",
   "execution_count": 40,
   "metadata": {},
   "outputs": [
    {
     "name": "stdout",
     "output_type": "stream",
     "text": [
      "                  :-) GROMACS - gmx genion, VERSION 5.1.4 (-:\n",
      "\n",
      "                            GROMACS is written by:\n",
      "     Emile Apol      Rossen Apostolov  Herman J.C. Berendsen    Par Bjelkmar   \n",
      " Aldert van Buuren   Rudi van Drunen     Anton Feenstra   Sebastian Fritsch \n",
      "  Gerrit Groenhof   Christoph Junghans   Anca Hamuraru    Vincent Hindriksen\n",
      " Dimitrios Karkoulis    Peter Kasson        Jiri Kraus      Carsten Kutzner  \n",
      "    Per Larsson      Justin A. Lemkul   Magnus Lundborg   Pieter Meulenhoff \n",
      "   Erik Marklund      Teemu Murtola       Szilard Pall       Sander Pronk   \n",
      "   Roland Schulz     Alexey Shvetsov     Michael Shirts     Alfons Sijbers  \n",
      "   Peter Tieleman    Teemu Virolainen  Christian Wennberg    Maarten Wolf   \n",
      "                           and the project leaders:\n",
      "        Mark Abraham, Berk Hess, Erik Lindahl, and David van der Spoel\n",
      "\n",
      "Copyright (c) 1991-2000, University of Groningen, The Netherlands.\n",
      "Copyright (c) 2001-2015, The GROMACS development team at\n",
      "Uppsala University, Stockholm University and\n",
      "the Royal Institute of Technology, Sweden.\n",
      "check out http://www.gromacs.org for more information.\n",
      "\n",
      "GROMACS is free software; you can redistribute it and/or modify it\n",
      "under the terms of the GNU Lesser General Public License\n",
      "as published by the Free Software Foundation; either version 2.1\n",
      "of the License, or (at your option) any later version.\n",
      "\n",
      "GROMACS:      gmx genion, VERSION 5.1.4\n",
      "Executable:   /usr/local/bin/gmx\n",
      "Data prefix:  /usr/local\n",
      "Command line:\n",
      "  gmx genion -s ions.tpr -o 1aki_solv_ions.gro -p topol.top -pname NA -nname CL -neutral\n",
      "\n",
      "Reading file ions.tpr, VERSION 5.1.4 (single precision)\n",
      "Reading file ions.tpr, VERSION 5.1.4 (single precision)\n",
      "Will try to add 0 NA ions and 8 CL ions.\n",
      "Select a continuous group of solvent molecules\n",
      "Group     0 (         System) has 33892 elements\n",
      "Group     1 (        Protein) has  1960 elements\n",
      "Group     2 (      Protein-H) has  1001 elements\n",
      "Group     3 (        C-alpha) has   129 elements\n",
      "Group     4 (       Backbone) has   387 elements\n",
      "Group     5 (      MainChain) has   517 elements\n",
      "Group     6 (   MainChain+Cb) has   634 elements\n",
      "Group     7 (    MainChain+H) has   646 elements\n",
      "Group     8 (      SideChain) has  1314 elements\n",
      "Group     9 (    SideChain-H) has   484 elements\n",
      "Group    10 (    Prot-Masses) has  1960 elements\n",
      "Group    11 (    non-Protein) has 31932 elements\n",
      "Group    12 (          Water) has 31932 elements\n",
      "Group    13 (            SOL) has 31932 elements\n",
      "Group    14 (      non-Water) has  1960 elements\n",
      "Select a group: Selected 13: 'SOL'\n",
      "Number of (3-atomic) solvent molecules: 10644\n",
      "\n",
      "Processing topology\n",
      "\n",
      "Back Off! I just backed up temp.topluxJ4e to ./#temp.topluxJ4e.1#\n",
      "Replacing 8 solute molecules in topology file (topol.top)  by 0 NA and 8 CL ions.\n",
      "\n",
      "Back Off! I just backed up topol.top to ./#topol.top.2#\n",
      "Replacing solvent molecule 1068 (atom 5164) with CL\n",
      "Replacing solvent molecule 2962 (atom 10846) with CL\n",
      "Replacing solvent molecule 2335 (atom 8965) with CL\n",
      "Replacing solvent molecule 9700 (atom 31060) with CL\n",
      "Replacing solvent molecule 9910 (atom 31690) with CL\n",
      "Replacing solvent molecule 1689 (atom 7027) with CL\n",
      "Replacing solvent molecule 3526 (atom 12538) with CL\n",
      "Replacing solvent molecule 467 (atom 3361) with CL\n",
      "\n",
      "\n",
      "gcq#235: \"Uh-oh\" (Tinky Winky)\n",
      "\n"
     ]
    }
   ],
   "source": [
    "!printf \"SOL\" | gmx genion -s ions.tpr -o prot_solv_ions.gro -p topol.top -pname NA -nname CL -neutral"
   ]
  },
  {
   "cell_type": "code",
   "execution_count": 41,
   "metadata": {},
   "outputs": [
    {
     "name": "stdout",
     "output_type": "stream",
     "text": [
      "\r\n",
      "[ system ]\r\n",
      "; Name\r\n",
      "LYSOZYME in water\r\n",
      "\r\n",
      "[ molecules ]\r\n",
      "; Compound        #mols\r\n",
      "Protein_chain_A     1\r\n",
      "SOL         10636\r\n",
      "CL               8\r\n"
     ]
    }
   ],
   "source": [
    "!tail topol.top"
   ]
  },
  {
   "cell_type": "markdown",
   "metadata": {},
   "source": [
    "### Energy Minimization Steps"
   ]
  },
  {
   "cell_type": "code",
   "execution_count": null,
   "metadata": {},
   "outputs": [],
   "source": [
    "#gromacs.grompp(f=\"minim.mdp\", c=\"prot_solv_ions.gro\", p=\"topol.top\", o=\"em.tpr\")\n",
    "# Uncomment above line if you want to run gmx through GromacsWrapper and do not execute next cell"
   ]
  },
  {
   "cell_type": "code",
   "execution_count": 42,
   "metadata": {},
   "outputs": [
    {
     "name": "stdout",
     "output_type": "stream",
     "text": [
      "                  :-) GROMACS - gmx grompp, VERSION 5.1.4 (-:\n",
      "\n",
      "                            GROMACS is written by:\n",
      "     Emile Apol      Rossen Apostolov  Herman J.C. Berendsen    Par Bjelkmar   \n",
      " Aldert van Buuren   Rudi van Drunen     Anton Feenstra   Sebastian Fritsch \n",
      "  Gerrit Groenhof   Christoph Junghans   Anca Hamuraru    Vincent Hindriksen\n",
      " Dimitrios Karkoulis    Peter Kasson        Jiri Kraus      Carsten Kutzner  \n",
      "    Per Larsson      Justin A. Lemkul   Magnus Lundborg   Pieter Meulenhoff \n",
      "   Erik Marklund      Teemu Murtola       Szilard Pall       Sander Pronk   \n",
      "   Roland Schulz     Alexey Shvetsov     Michael Shirts     Alfons Sijbers  \n",
      "   Peter Tieleman    Teemu Virolainen  Christian Wennberg    Maarten Wolf   \n",
      "                           and the project leaders:\n",
      "        Mark Abraham, Berk Hess, Erik Lindahl, and David van der Spoel\n",
      "\n",
      "Copyright (c) 1991-2000, University of Groningen, The Netherlands.\n",
      "Copyright (c) 2001-2015, The GROMACS development team at\n",
      "Uppsala University, Stockholm University and\n",
      "the Royal Institute of Technology, Sweden.\n",
      "check out http://www.gromacs.org for more information.\n",
      "\n",
      "GROMACS is free software; you can redistribute it and/or modify it\n",
      "under the terms of the GNU Lesser General Public License\n",
      "as published by the Free Software Foundation; either version 2.1\n",
      "of the License, or (at your option) any later version.\n",
      "\n",
      "GROMACS:      gmx grompp, VERSION 5.1.4\n",
      "Executable:   /usr/local/bin/gmx\n",
      "Data prefix:  /usr/local\n",
      "Command line:\n",
      "  gmx grompp -f minim.mdp -c 1aki_solv_ions.gro -p topol.top -o em.tpr\n",
      "\n",
      "\n",
      "Back Off! I just backed up mdout.mdp to ./#mdout.mdp.2#\n",
      "\n",
      "NOTE 1 [file minim.mdp]:\n",
      "  With Verlet lists the optimal nstlist is >= 10, with GPUs >= 20. Note\n",
      "  that with the Verlet scheme, nstlist has no effect on the accuracy of\n",
      "  your simulation.\n",
      "\n",
      "Setting the LD random seed to 270699487\n",
      "Generated 2211 of the 2211 non-bonded parameter combinations\n",
      "Generating 1-4 interactions: fudge = 0.5\n",
      "Generated 2211 of the 2211 1-4 parameter combinations\n",
      "Excluding 3 bonded neighbours molecule type 'Protein_chain_A'\n",
      "Excluding 2 bonded neighbours molecule type 'SOL'\n",
      "Excluding 1 bonded neighbours molecule type 'CL'\n",
      "Removing all charge groups because cutoff-scheme=Verlet\n",
      "Analysing residue names:\n",
      "There are:   129    Protein residues\n",
      "There are: 10636      Water residues\n",
      "There are:     8        Ion residues\n",
      "Analysing Protein...\n",
      "Analysing residues not classified as Protein/DNA/RNA/Water and splitting into groups...\n",
      "Number of degrees of freedom in T-Coupling group rest is 69717.00\n",
      "Calculating fourier grid dimensions for X Y Z\n",
      "Using a fourier grid of 60x60x60, spacing 0.117 0.117 0.117\n",
      "Estimate for the relative computational load of the PME mesh part: 0.26\n",
      "This run will generate roughly 3 Mb of data\n",
      "\n",
      "There was 1 note\n",
      "\n",
      "gcq#277: \"All I Ever Wanted Was Your Life\" (Red Hot Chili Peppers)\n",
      "\n"
     ]
    }
   ],
   "source": [
    "!gmx grompp -f minim.mdp -c prot_solv_ions.gro -p topol.top -o em.tpr"
   ]
  },
  {
   "cell_type": "code",
   "execution_count": null,
   "metadata": {},
   "outputs": [],
   "source": [
    "#gromacs.mdrun(v=\"yes\", deffnm=\"em\", nt=\"2\")\n",
    "# Uncomment above line if you want to run gmx through GromacsWrapper and do not execute next cell"
   ]
  },
  {
   "cell_type": "markdown",
   "metadata": {},
   "source": [
    "### 'nt' is used to define the number of cores, in this example 2 cores are used, you could increase if required."
   ]
  },
  {
   "cell_type": "code",
   "execution_count": 44,
   "metadata": {},
   "outputs": [
    {
     "name": "stdout",
     "output_type": "stream",
     "text": [
      "                   :-) GROMACS - gmx mdrun, VERSION 5.1.4 (-:\n",
      "\n",
      "                            GROMACS is written by:\n",
      "     Emile Apol      Rossen Apostolov  Herman J.C. Berendsen    Par Bjelkmar   \n",
      " Aldert van Buuren   Rudi van Drunen     Anton Feenstra   Sebastian Fritsch \n",
      "  Gerrit Groenhof   Christoph Junghans   Anca Hamuraru    Vincent Hindriksen\n",
      " Dimitrios Karkoulis    Peter Kasson        Jiri Kraus      Carsten Kutzner  \n",
      "    Per Larsson      Justin A. Lemkul   Magnus Lundborg   Pieter Meulenhoff \n",
      "   Erik Marklund      Teemu Murtola       Szilard Pall       Sander Pronk   \n",
      "   Roland Schulz     Alexey Shvetsov     Michael Shirts     Alfons Sijbers  \n",
      "   Peter Tieleman    Teemu Virolainen  Christian Wennberg    Maarten Wolf   \n",
      "                           and the project leaders:\n",
      "        Mark Abraham, Berk Hess, Erik Lindahl, and David van der Spoel\n",
      "\n",
      "Copyright (c) 1991-2000, University of Groningen, The Netherlands.\n",
      "Copyright (c) 2001-2015, The GROMACS development team at\n",
      "Uppsala University, Stockholm University and\n",
      "the Royal Institute of Technology, Sweden.\n",
      "check out http://www.gromacs.org for more information.\n",
      "\n",
      "GROMACS is free software; you can redistribute it and/or modify it\n",
      "under the terms of the GNU Lesser General Public License\n",
      "as published by the Free Software Foundation; either version 2.1\n",
      "of the License, or (at your option) any later version.\n",
      "\n",
      "GROMACS:      gmx mdrun, VERSION 5.1.4\n",
      "Executable:   /usr/local/bin/gmx\n",
      "Data prefix:  /usr/local\n",
      "Command line:\n",
      "  gmx mdrun -v -deffnm em -nt 3\n",
      "\n",
      "\n",
      "Running on 1 node with total 8 logical cores\n",
      "Hardware detected:\n",
      "  CPU info:\n",
      "    Vendor: GenuineIntel\n",
      "    Brand:  Intel(R) Core(TM) i7-4980HQ CPU @ 2.80GHz\n",
      "    SIMD instructions most likely to fit this hardware: AVX2_256\n",
      "    SIMD instructions selected at GROMACS compile time: AVX2_256\n",
      "\n",
      "Reading file em.tpr, VERSION 5.1.4 (single precision)\n",
      "Using 3 MPI threads\n",
      "\n",
      "Steepest Descents:\n",
      "   Tolerance (Fmax)   =  1.00000e+03\n",
      "   Number of steps    =        50000\n",
      "Step=    0, Dmax= 1.0e-02 nm, Epot= -3.29539e+05 Fmax= 1.54805e+05, atom= 19880\n",
      "Step=    1, Dmax= 1.0e-02 nm, Epot= -3.49305e+05 Fmax= 6.16807e+04, atom= 19880\n",
      "Step=    2, Dmax= 1.2e-02 nm, Epot= -3.73541e+05 Fmax= 2.44715e+04, atom= 19880\n",
      "Step=    3, Dmax= 1.4e-02 nm, Epot= -4.01930e+05 Fmax= 1.02679e+04, atom= 24188\n",
      "Step=    4, Dmax= 1.7e-02 nm, Epot= -4.28837e+05 Fmax= 4.79758e+03, atom= 983\n",
      "Step=    5, Dmax= 2.1e-02 nm, Epot= -4.51770e+05 Fmax= 1.21192e+04, atom= 547\n",
      "Step=    6, Dmax= 2.5e-02 nm, Epot= -4.56671e+05 Fmax= 2.17498e+04, atom= 547\n",
      "Step=    7, Dmax= 3.0e-02 nm, Epot= -4.61055e+05 Fmax= 1.80972e+04, atom= 547\n",
      "Step=    8, Dmax= 3.6e-02 nm, Epot= -4.62891e+05 Fmax= 3.07384e+04, atom= 547\n",
      "Step=    9, Dmax= 4.3e-02 nm, Epot= -4.66172e+05 Fmax= 2.73940e+04, atom= 547\n",
      "Step=   11, Dmax= 2.6e-02 nm, Epot= -4.70979e+05 Fmax= 7.89958e+03, atom= 547\n",
      "Step=   12, Dmax= 3.1e-02 nm, Epot= -4.71563e+05 Fmax= 3.52298e+04, atom= 1785\n",
      "Step=   13, Dmax= 3.7e-02 nm, Epot= -4.77809e+05 Fmax= 2.04282e+04, atom= 1785\n",
      "Step=   15, Dmax= 2.2e-02 nm, Epot= -4.80346e+05 Fmax= 1.31015e+04, atom= 1785\n",
      "Step=   16, Dmax= 2.7e-02 nm, Epot= -4.81539e+05 Fmax= 2.68801e+04, atom= 1785\n",
      "Step=   17, Dmax= 3.2e-02 nm, Epot= -4.83808e+05 Fmax= 2.13911e+04, atom= 1785\n",
      "Step=   18, Dmax= 3.9e-02 nm, Epot= -4.83883e+05 Fmax= 3.59949e+04, atom= 1785\n",
      "Step=   19, Dmax= 4.6e-02 nm, Epot= -4.85784e+05 Fmax= 3.28732e+04, atom= 1785\n",
      "Step=   21, Dmax= 2.8e-02 nm, Epot= -4.89075e+05 Fmax= 8.37065e+03, atom= 1309\n",
      "Step=   23, Dmax= 1.7e-02 nm, Epot= -4.90535e+05 Fmax= 1.69283e+04, atom= 1309\n",
      "Step=   24, Dmax= 2.0e-02 nm, Epot= -4.91923e+05 Fmax= 1.35552e+04, atom= 1309\n",
      "Step=   25, Dmax= 2.4e-02 nm, Epot= -4.92696e+05 Fmax= 2.29786e+04, atom= 1309\n",
      "Step=   26, Dmax= 2.9e-02 nm, Epot= -4.94018e+05 Fmax= 2.08105e+04, atom= 1309\n",
      "Step=   28, Dmax= 1.7e-02 nm, Epot= -4.95711e+05 Fmax= 5.56713e+03, atom= 7809\n",
      "Step=   29, Dmax= 2.1e-02 nm, Epot= -4.97195e+05 Fmax= 2.65539e+04, atom= 780\n",
      "Step=   30, Dmax= 2.5e-02 nm, Epot= -4.99200e+05 Fmax= 1.17508e+04, atom= 780\n",
      "Step=   32, Dmax= 1.5e-02 nm, Epot= -5.00162e+05 Fmax= 1.13072e+04, atom= 780\n",
      "Step=   33, Dmax= 1.8e-02 nm, Epot= -5.01010e+05 Fmax= 1.62300e+04, atom= 780\n",
      "Step=   34, Dmax= 2.1e-02 nm, Epot= -5.01888e+05 Fmax= 1.69343e+04, atom= 780\n",
      "Step=   35, Dmax= 2.6e-02 nm, Epot= -5.02471e+05 Fmax= 2.26551e+04, atom= 780\n",
      "Step=   36, Dmax= 3.1e-02 nm, Epot= -5.03170e+05 Fmax= 2.48900e+04, atom= 780\n",
      "Step=   37, Dmax= 3.7e-02 nm, Epot= -5.03380e+05 Fmax= 3.18096e+04, atom= 780\n",
      "Step=   38, Dmax= 4.5e-02 nm, Epot= -5.03702e+05 Fmax= 3.60252e+04, atom= 780\n",
      "Step=   40, Dmax= 2.7e-02 nm, Epot= -5.06483e+05 Fmax= 4.70466e+03, atom= 780\n",
      "Step=   41, Dmax= 3.2e-02 nm, Epot= -5.06948e+05 Fmax= 4.45103e+04, atom= 780\n",
      "Step=   42, Dmax= 3.8e-02 nm, Epot= -5.10401e+05 Fmax= 1.51712e+04, atom= 780\n",
      "Step=   44, Dmax= 2.3e-02 nm, Epot= -5.10862e+05 Fmax= 2.04389e+04, atom= 780\n",
      "Step=   45, Dmax= 2.8e-02 nm, Epot= -5.11409e+05 Fmax= 2.20907e+04, atom= 780\n",
      "Step=   46, Dmax= 3.3e-02 nm, Epot= -5.11583e+05 Fmax= 2.88366e+04, atom= 780\n",
      "Step=   47, Dmax= 4.0e-02 nm, Epot= -5.11913e+05 Fmax= 3.19238e+04, atom= 780\n",
      "Step=   49, Dmax= 2.4e-02 nm, Epot= -5.13822e+05 Fmax= 4.70445e+03, atom= 780\n",
      "Step=   50, Dmax= 2.9e-02 nm, Epot= -5.14222e+05 Fmax= 3.93721e+04, atom= 780\n",
      "Step=   51, Dmax= 3.4e-02 nm, Epot= -5.16577e+05 Fmax= 1.40384e+04, atom= 780\n",
      "Step=   53, Dmax= 2.1e-02 nm, Epot= -5.16999e+05 Fmax= 1.76198e+04, atom= 780\n",
      "Step=   54, Dmax= 2.5e-02 nm, Epot= -5.17394e+05 Fmax= 2.05220e+04, atom= 780\n",
      "Step=   55, Dmax= 3.0e-02 nm, Epot= -5.17659e+05 Fmax= 2.49387e+04, atom= 780\n",
      "Step=   56, Dmax= 3.6e-02 nm, Epot= -5.17829e+05 Fmax= 2.96330e+04, atom= 780\n",
      "Step=   58, Dmax= 2.1e-02 nm, Epot= -5.19304e+05 Fmax= 3.09230e+03, atom= 780\n",
      "Step=   59, Dmax= 2.6e-02 nm, Epot= -5.20396e+05 Fmax= 3.63966e+04, atom= 780\n",
      "Step=   60, Dmax= 3.1e-02 nm, Epot= -5.22328e+05 Fmax= 1.13823e+04, atom= 780\n",
      "Step=   62, Dmax= 1.9e-02 nm, Epot= -5.22623e+05 Fmax= 1.71753e+04, atom= 780\n",
      "Step=   63, Dmax= 2.2e-02 nm, Epot= -5.23035e+05 Fmax= 1.69107e+04, atom= 780\n",
      "Step=   64, Dmax= 2.7e-02 nm, Epot= -5.23129e+05 Fmax= 2.39766e+04, atom= 780\n",
      "Step=   65, Dmax= 3.2e-02 nm, Epot= -5.23462e+05 Fmax= 2.48352e+04, atom= 780\n",
      "Step=   67, Dmax= 1.9e-02 nm, Epot= -5.24494e+05 Fmax= 4.56342e+03, atom= 780\n",
      "Step=   68, Dmax= 2.3e-02 nm, Epot= -5.24725e+05 Fmax= 3.06746e+04, atom= 780\n",
      "Step=   69, Dmax= 2.8e-02 nm, Epot= -5.26038e+05 Fmax= 1.18947e+04, atom= 780\n",
      "Step=   71, Dmax= 1.7e-02 nm, Epot= -5.26362e+05 Fmax= 1.34390e+04, atom= 780\n",
      "Step=   72, Dmax= 2.0e-02 nm, Epot= -5.26610e+05 Fmax= 1.71056e+04, atom= 780\n",
      "Step=   73, Dmax= 2.4e-02 nm, Epot= -5.26864e+05 Fmax= 1.93461e+04, atom= 780\n",
      "Step=   74, Dmax= 2.9e-02 nm, Epot= -5.26942e+05 Fmax= 2.44673e+04, atom= 780\n",
      "Step=   75, Dmax= 3.4e-02 nm, Epot= -5.27047e+05 Fmax= 2.77853e+04, atom= 780\n",
      "Step=   77, Dmax= 2.1e-02 nm, Epot= -5.28270e+05 Fmax= 3.76376e+03, atom= 780\n",
      "Step=   78, Dmax= 2.5e-02 nm, Epot= -5.28330e+05 Fmax= 3.38387e+04, atom= 780\n",
      "Step=   79, Dmax= 3.0e-02 nm, Epot= -5.29912e+05 Fmax= 1.20311e+04, atom= 780\n",
      "Step=   81, Dmax= 1.8e-02 nm, Epot= -5.30132e+05 Fmax= 1.51819e+04, atom= 780\n",
      "Step=   82, Dmax= 2.1e-02 nm, Epot= -5.30340e+05 Fmax= 1.76324e+04, atom= 780\n",
      "Step=   83, Dmax= 2.6e-02 nm, Epot= -5.30446e+05 Fmax= 2.14791e+04, atom= 780\n",
      "Step=   84, Dmax= 3.1e-02 nm, Epot= -5.30488e+05 Fmax= 2.55252e+04, atom= 780\n",
      "Step=   86, Dmax= 1.8e-02 nm, Epot= -5.31555e+05 Fmax= 2.77799e+03, atom= 1015\n",
      "Step=   87, Dmax= 2.2e-02 nm, Epot= -5.31938e+05 Fmax= 3.09718e+04, atom= 1015\n",
      "Step=   88, Dmax= 2.7e-02 nm, Epot= -5.33292e+05 Fmax= 1.02643e+04, atom= 1015\n",
      "Step=   90, Dmax= 1.6e-02 nm, Epot= -5.33471e+05 Fmax= 1.42453e+04, atom= 1015\n",
      "Step=   91, Dmax= 1.9e-02 nm, Epot= -5.33698e+05 Fmax= 1.53012e+04, atom= 1015\n",
      "Step=   92, Dmax= 2.3e-02 nm, Epot= -5.33774e+05 Fmax= 1.99376e+04, atom= 1015\n",
      "Step=   93, Dmax= 2.8e-02 nm, Epot= -5.33907e+05 Fmax= 2.24312e+04, atom= 1015\n",
      "Step=   95, Dmax= 1.7e-02 nm, Epot= -5.34686e+05 Fmax= 2.92556e+03, atom= 1015\n",
      "Step=   96, Dmax= 2.0e-02 nm, Epot= -5.34982e+05 Fmax= 2.80175e+04, atom= 1015\n",
      "Step=   97, Dmax= 2.4e-02 nm, Epot= -5.36012e+05 Fmax= 8.74841e+03, atom= 1015\n",
      "Step=   99, Dmax= 1.4e-02 nm, Epot= -5.36179e+05 Fmax= 1.33250e+04, atom= 1015\n",
      "Step=  100, Dmax= 1.7e-02 nm, Epot= -5.36412e+05 Fmax= 1.30276e+04, atom= 1015\n",
      "Step=  101, Dmax= 2.1e-02 nm, Epot= -5.36474e+05 Fmax= 1.86728e+04, atom= 1015\n",
      "Step=  102, Dmax= 2.5e-02 nm, Epot= -5.36674e+05 Fmax= 1.91985e+04, atom= 1015\n",
      "Step=  104, Dmax= 1.5e-02 nm, Epot= -5.37227e+05 Fmax= 3.60248e+03, atom= 1015\n",
      "Step=  105, Dmax= 1.8e-02 nm, Epot= -5.37426e+05 Fmax= 2.36156e+04, atom= 1015\n",
      "Step=  106, Dmax= 2.1e-02 nm, Epot= -5.38109e+05 Fmax= 9.31631e+03, atom= 1015\n",
      "Step=  108, Dmax= 1.3e-02 nm, Epot= -5.38305e+05 Fmax= 1.03316e+04, atom= 1015\n",
      "Step=  109, Dmax= 1.5e-02 nm, Epot= -5.38463e+05 Fmax= 1.33663e+04, atom= 1015\n",
      "Step=  110, Dmax= 1.8e-02 nm, Epot= -5.38630e+05 Fmax= 1.49323e+04, atom= 1015\n",
      "Step=  111, Dmax= 2.2e-02 nm, Epot= -5.38708e+05 Fmax= 1.91079e+04, atom= 1015\n",
      "Step=  112, Dmax= 2.7e-02 nm, Epot= -5.38811e+05 Fmax= 2.15583e+04, atom= 1015\n",
      "Step=  114, Dmax= 1.6e-02 nm, Epot= -5.39419e+05 Fmax= 2.94210e+03, atom= 1015\n",
      "Step=  115, Dmax= 1.9e-02 nm, Epot= -5.39683e+05 Fmax= 2.62475e+04, atom= 1015\n",
      "Step=  116, Dmax= 2.3e-02 nm, Epot= -5.40439e+05 Fmax= 9.21063e+03, atom= 1015\n",
      "Step=  118, Dmax= 1.4e-02 nm, Epot= -5.40594e+05 Fmax= 1.19273e+04, atom= 1015\n",
      "Step=  119, Dmax= 1.7e-02 nm, Epot= -5.40751e+05 Fmax= 1.35379e+04, atom= 1015\n",
      "Step=  120, Dmax= 2.0e-02 nm, Epot= -5.40854e+05 Fmax= 1.68802e+04, atom= 1015\n",
      "Step=  121, Dmax= 2.4e-02 nm, Epot= -5.40949e+05 Fmax= 1.96807e+04, atom= 1015\n",
      "Step=  122, Dmax= 2.9e-02 nm, Epot= -5.40957e+05 Fmax= 2.40030e+04, atom= 1015\n",
      "Step=  124, Dmax= 1.7e-02 nm, Epot= -5.41626e+05 Fmax= 2.33219e+03, atom= 1015\n",
      "Step=  125, Dmax= 2.1e-02 nm, Epot= -5.42014e+05 Fmax= 2.88882e+04, atom= 1015\n",
      "Step=  126, Dmax= 2.5e-02 nm, Epot= -5.42840e+05 Fmax= 9.34523e+03, atom= 1015\n",
      "Step=  128, Dmax= 1.5e-02 nm, Epot= -5.42956e+05 Fmax= 1.34109e+04, atom= 1015\n",
      "Step=  129, Dmax= 1.8e-02 nm, Epot= -5.43109e+05 Fmax= 1.39642e+04, atom= 1015\n",
      "Step=  130, Dmax= 2.1e-02 nm, Epot= -5.43156e+05 Fmax= 1.87392e+04, atom= 1015\n",
      "Step=  131, Dmax= 2.6e-02 nm, Epot= -5.43260e+05 Fmax= 2.05319e+04, atom= 1015\n",
      "Step=  133, Dmax= 1.5e-02 nm, Epot= -5.43732e+05 Fmax= 2.99023e+03, atom= 1015\n",
      "Step=  134, Dmax= 1.8e-02 nm, Epot= -5.43896e+05 Fmax= 2.55487e+04, atom= 1015\n",
      "Step=  135, Dmax= 2.2e-02 nm, Epot= -5.44524e+05 Fmax= 8.49110e+03, atom= 1015\n",
      "Step=  137, Dmax= 1.3e-02 nm, Epot= -5.44644e+05 Fmax= 1.19308e+04, atom= 1015\n",
      "Step=  138, Dmax= 1.6e-02 nm, Epot= -5.44786e+05 Fmax= 1.25065e+04, atom= 1015\n",
      "Step=  139, Dmax= 1.9e-02 nm, Epot= -5.44849e+05 Fmax= 1.68490e+04, atom= 1015\n",
      "Step=  140, Dmax= 2.3e-02 nm, Epot= -5.44957e+05 Fmax= 1.82809e+04, atom= 1015\n",
      "Step=  142, Dmax= 1.4e-02 nm, Epot= -5.45335e+05 Fmax= 2.84821e+03, atom= 1015\n",
      "Step=  143, Dmax= 1.7e-02 nm, Epot= -5.45549e+05 Fmax= 2.24350e+04, atom= 1015\n",
      "Step=  144, Dmax= 2.0e-02 nm, Epot= -5.46032e+05 Fmax= 8.09120e+03, atom= 1015\n",
      "Step=  146, Dmax= 1.2e-02 nm, Epot= -5.46158e+05 Fmax= 1.01506e+04, atom= 1015\n",
      "Step=  147, Dmax= 1.4e-02 nm, Epot= -5.46278e+05 Fmax= 1.17912e+04, atom= 1015\n",
      "Step=  148, Dmax= 1.7e-02 nm, Epot= -5.46372e+05 Fmax= 1.44671e+04, atom= 1015\n",
      "Step=  149, Dmax= 2.1e-02 nm, Epot= -5.46452e+05 Fmax= 1.70655e+04, atom= 1015\n",
      "Step=  150, Dmax= 2.5e-02 nm, Epot= -5.46483e+05 Fmax= 2.06700e+04, atom= 1015\n",
      "Step=  152, Dmax= 1.5e-02 nm, Epot= -5.46929e+05 Fmax= 2.04532e+03, atom= 1015\n",
      "Step=  153, Dmax= 1.8e-02 nm, Epot= -5.47288e+05 Fmax= 2.50169e+04, atom= 1015\n",
      "Step=  154, Dmax= 2.1e-02 nm, Epot= -5.47858e+05 Fmax= 7.88924e+03, atom= 1015\n",
      "Step=  156, Dmax= 1.3e-02 nm, Epot= -5.47954e+05 Fmax= 1.17481e+04, atom= 1015\n",
      "Step=  157, Dmax= 1.5e-02 nm, Epot= -5.48080e+05 Fmax= 1.18407e+04, atom= 1015\n",
      "Step=  158, Dmax= 1.8e-02 nm, Epot= -5.48122e+05 Fmax= 1.63921e+04, atom= 1015\n",
      "Step=  159, Dmax= 2.2e-02 nm, Epot= -5.48220e+05 Fmax= 1.74847e+04, atom= 1015\n",
      "Step=  161, Dmax= 1.3e-02 nm, Epot= -5.48546e+05 Fmax= 2.82222e+03, atom= 1015\n",
      "Step=  162, Dmax= 1.6e-02 nm, Epot= -5.48689e+05 Fmax= 2.16935e+04, atom= 1015\n",
      "Step=  163, Dmax= 1.9e-02 nm, Epot= -5.49122e+05 Fmax= 7.64244e+03, atom= 1015\n",
      "Step=  165, Dmax= 1.1e-02 nm, Epot= -5.49227e+05 Fmax= 9.95038e+03, atom= 1015\n",
      "Step=  166, Dmax= 1.4e-02 nm, Epot= -5.49332e+05 Fmax= 1.11386e+04, atom= 1015\n",
      "Step=  167, Dmax= 1.6e-02 nm, Epot= -5.49402e+05 Fmax= 1.41695e+04, atom= 1015\n",
      "Step=  168, Dmax= 2.0e-02 nm, Epot= -5.49476e+05 Fmax= 1.61608e+04, atom= 1015\n",
      "Step=  169, Dmax= 2.4e-02 nm, Epot= -5.49481e+05 Fmax= 2.01990e+04, atom= 1015\n",
      "Step=  170, Dmax= 2.8e-02 nm, Epot= -5.49486e+05 Fmax= 2.33395e+04, atom= 1015\n",
      "Step=  172, Dmax= 1.7e-02 nm, Epot= -5.50017e+05 Fmax= 2.84816e+03, atom= 1015\n",
      "Step=  174, Dmax= 1.0e-02 nm, Epot= -5.50202e+05 Fmax= 1.27349e+04, atom= 1015\n",
      "Step=  175, Dmax= 1.2e-02 nm, Epot= -5.50395e+05 Fmax= 6.17950e+03, atom= 1015\n",
      "Step=  176, Dmax= 1.5e-02 nm, Epot= -5.50397e+05 Fmax= 1.64946e+04, atom= 1015\n",
      "Step=  177, Dmax= 1.8e-02 nm, Epot= -5.50628e+05 Fmax= 1.07075e+04, atom= 1015\n",
      "Step=  179, Dmax= 1.1e-02 nm, Epot= -5.50787e+05 Fmax= 5.59789e+03, atom= 1015\n",
      "Step=  180, Dmax= 1.3e-02 nm, Epot= -5.50836e+05 Fmax= 1.39953e+04, atom= 1015\n",
      "Step=  181, Dmax= 1.5e-02 nm, Epot= -5.51021e+05 Fmax= 9.49785e+03, atom= 1015\n",
      "Step=  183, Dmax= 9.2e-03 nm, Epot= -5.51164e+05 Fmax= 4.60516e+03, atom= 1015\n",
      "Step=  184, Dmax= 1.1e-02 nm, Epot= -5.51248e+05 Fmax= 1.23228e+04, atom= 1015\n",
      "Step=  185, Dmax= 1.3e-02 nm, Epot= -5.51415e+05 Fmax= 7.99140e+03, atom= 1015\n",
      "Step=  187, Dmax= 7.9e-03 nm, Epot= -5.51538e+05 Fmax= 4.19342e+03, atom= 1015\n",
      "Step=  188, Dmax= 9.5e-03 nm, Epot= -5.51643e+05 Fmax= 1.04349e+04, atom= 1015\n",
      "Step=  189, Dmax= 1.1e-02 nm, Epot= -5.51784e+05 Fmax= 7.11915e+03, atom= 1015\n",
      "Step=  190, Dmax= 1.4e-02 nm, Epot= -5.51811e+05 Fmax= 1.39331e+04, atom= 1015\n",
      "Step=  191, Dmax= 1.6e-02 nm, Epot= -5.51965e+05 Fmax= 1.13224e+04, atom= 1015\n",
      "Step=  193, Dmax= 9.9e-03 nm, Epot= -5.52137e+05 Fmax= 3.83263e+03, atom= 1015\n",
      "Step=  194, Dmax= 1.2e-02 nm, Epot= -5.52211e+05 Fmax= 1.43767e+04, atom= 1015\n",
      "Step=  195, Dmax= 1.4e-02 nm, Epot= -5.52424e+05 Fmax= 7.45993e+03, atom= 1015\n",
      "Step=  197, Dmax= 8.5e-03 nm, Epot= -5.52536e+05 Fmax= 5.64086e+03, atom= 1015\n",
      "Step=  198, Dmax= 1.0e-02 nm, Epot= -5.52614e+05 Fmax= 1.00745e+04, atom= 1015\n",
      "Step=  199, Dmax= 1.2e-02 nm, Epot= -5.52731e+05 Fmax= 8.79253e+03, atom= 1015\n",
      "Step=  200, Dmax= 1.5e-02 nm, Epot= -5.52757e+05 Fmax= 1.38249e+04, atom= 1015\n",
      "Step=  201, Dmax= 1.8e-02 nm, Epot= -5.52868e+05 Fmax= 1.33141e+04, atom= 1015\n",
      "Step=  203, Dmax= 1.1e-02 nm, Epot= -5.53082e+05 Fmax= 2.97144e+03, atom= 1015\n",
      "Step=  204, Dmax= 1.3e-02 nm, Epot= -5.53162e+05 Fmax= 1.66172e+04, atom= 1015\n",
      "Step=  205, Dmax= 1.5e-02 nm, Epot= -5.53441e+05 Fmax= 6.86492e+03, atom= 1015\n",
      "Step=  207, Dmax= 9.2e-03 nm, Epot= -5.53536e+05 Fmax= 7.22292e+03, atom= 1015\n",
      "Step=  208, Dmax= 1.1e-02 nm, Epot= -5.53611e+05 Fmax= 9.66506e+03, atom= 1015\n",
      "Step=  209, Dmax= 1.3e-02 nm, Epot= -5.53694e+05 Fmax= 1.06154e+04, atom= 1015\n",
      "Step=  210, Dmax= 1.6e-02 nm, Epot= -5.53734e+05 Fmax= 1.36861e+04, atom= 1015\n",
      "Step=  211, Dmax= 1.9e-02 nm, Epot= -5.53786e+05 Fmax= 1.54772e+04, atom= 1015\n",
      "Step=  213, Dmax= 1.1e-02 nm, Epot= -5.54059e+05 Fmax= 2.02818e+03, atom= 1015\n",
      "Step=  214, Dmax= 1.4e-02 nm, Epot= -5.54212e+05 Fmax= 1.90434e+04, atom= 1015\n",
      "Step=  215, Dmax= 1.6e-02 nm, Epot= -5.54575e+05 Fmax= 6.23419e+03, atom= 1015\n",
      "Step=  217, Dmax= 9.9e-03 nm, Epot= -5.54648e+05 Fmax= 8.92416e+03, atom= 1015\n",
      "Step=  218, Dmax= 1.2e-02 nm, Epot= -5.54735e+05 Fmax= 9.23067e+03, atom= 1015\n",
      "Step=  219, Dmax= 1.4e-02 nm, Epot= -5.54774e+05 Fmax= 1.25738e+04, atom= 1015\n",
      "Step=  220, Dmax= 1.7e-02 nm, Epot= -5.54843e+05 Fmax= 1.35403e+04, atom= 1015\n",
      "Step=  222, Dmax= 1.0e-02 nm, Epot= -5.55066e+05 Fmax= 2.14405e+03, atom= 1015\n",
      "Step=  223, Dmax= 1.2e-02 nm, Epot= -5.55197e+05 Fmax= 1.66375e+04, atom= 1015\n",
      "Step=  224, Dmax= 1.5e-02 nm, Epot= -5.55489e+05 Fmax= 5.99092e+03, atom= 1015\n",
      "Step=  226, Dmax= 8.8e-03 nm, Epot= -5.55567e+05 Fmax= 7.54987e+03, atom= 1015\n",
      "Step=  227, Dmax= 1.1e-02 nm, Epot= -5.55642e+05 Fmax= 8.74060e+03, atom= 1015\n",
      "Step=  228, Dmax= 1.3e-02 nm, Epot= -5.55700e+05 Fmax= 1.07568e+04, atom= 1015\n",
      "Step=  229, Dmax= 1.5e-02 nm, Epot= -5.55751e+05 Fmax= 1.26740e+04, atom= 1015\n"
     ]
    },
    {
     "name": "stdout",
     "output_type": "stream",
     "text": [
      "Step=  230, Dmax= 1.8e-02 nm, Epot= -5.55771e+05 Fmax= 1.53745e+04, atom= 1015\n",
      "Step=  232, Dmax= 1.1e-02 nm, Epot= -5.56048e+05 Fmax= 1.48725e+03, atom= 1015\n",
      "Step=  233, Dmax= 1.3e-02 nm, Epot= -5.56283e+05 Fmax= 1.86028e+04, atom= 1015\n",
      "Step=  234, Dmax= 1.6e-02 nm, Epot= -5.56650e+05 Fmax= 5.76295e+03, atom= 1015\n",
      "Step=  236, Dmax= 9.5e-03 nm, Epot= -5.56710e+05 Fmax= 8.90953e+03, atom= 1958\n",
      "Step=  237, Dmax= 1.1e-02 nm, Epot= -5.56796e+05 Fmax= 8.54554e+03, atom= 1958\n",
      "Step=  238, Dmax= 1.4e-02 nm, Epot= -5.56814e+05 Fmax= 1.25504e+04, atom= 1958\n",
      "Step=  239, Dmax= 1.6e-02 nm, Epot= -5.56893e+05 Fmax= 1.25827e+04, atom= 1958\n",
      "Step=  241, Dmax= 9.8e-03 nm, Epot= -5.57094e+05 Fmax= 2.57892e+03, atom= 1958\n",
      "Step=  242, Dmax= 1.2e-02 nm, Epot= -5.57154e+05 Fmax= 1.53361e+04, atom= 1958\n",
      "Step=  243, Dmax= 1.4e-02 nm, Epot= -5.57401e+05 Fmax= 6.50783e+03, atom= 1958\n",
      "Step=  245, Dmax= 8.5e-03 nm, Epot= -5.57480e+05 Fmax= 6.49418e+03, atom= 1958\n",
      "Step=  246, Dmax= 1.0e-02 nm, Epot= -5.57534e+05 Fmax= 9.27540e+03, atom= 1958\n",
      "Step=  247, Dmax= 1.2e-02 nm, Epot= -5.57610e+05 Fmax= 9.47627e+03, atom= 1958\n",
      "Step=  248, Dmax= 1.5e-02 nm, Epot= -5.57624e+05 Fmax= 1.31785e+04, atom= 1958\n",
      "Step=  249, Dmax= 1.8e-02 nm, Epot= -5.57686e+05 Fmax= 1.38249e+04, atom= 1958\n",
      "Step=  251, Dmax= 1.1e-02 nm, Epot= -5.57912e+05 Fmax= 2.46273e+03, atom= 1958\n",
      "Step=  252, Dmax= 1.3e-02 nm, Epot= -5.57954e+05 Fmax= 1.67742e+04, atom= 1958\n",
      "Step=  253, Dmax= 1.5e-02 nm, Epot= -5.58235e+05 Fmax= 6.70477e+03, atom= 1958\n",
      "Step=  255, Dmax= 9.1e-03 nm, Epot= -5.58306e+05 Fmax= 7.27287e+03, atom= 1958\n",
      "Step=  256, Dmax= 1.1e-02 nm, Epot= -5.58357e+05 Fmax= 9.66586e+03, atom= 1958\n",
      "Step=  257, Dmax= 1.3e-02 nm, Epot= -5.58420e+05 Fmax= 1.04899e+04, atom= 1958\n",
      "Step=  258, Dmax= 1.6e-02 nm, Epot= -5.58432e+05 Fmax= 1.38451e+04, atom= 1958\n",
      "Step=  259, Dmax= 1.9e-02 nm, Epot= -5.58472e+05 Fmax= 1.51737e+04, atom= 1958\n",
      "Step=  261, Dmax= 1.1e-02 nm, Epot= -5.58728e+05 Fmax= 2.32527e+03, atom= 1958\n",
      "Step=  262, Dmax= 1.4e-02 nm, Epot= -5.58755e+05 Fmax= 1.83330e+04, atom= 1958\n",
      "Step=  263, Dmax= 1.6e-02 nm, Epot= -5.59074e+05 Fmax= 6.90744e+03, atom= 1958\n",
      "Step=  265, Dmax= 9.8e-03 nm, Epot= -5.59137e+05 Fmax= 8.12099e+03, atom= 1958\n",
      "Step=  266, Dmax= 1.2e-02 nm, Epot= -5.59186e+05 Fmax= 1.00741e+04, atom= 1958\n",
      "Step=  267, Dmax= 1.4e-02 nm, Epot= -5.59233e+05 Fmax= 1.15920e+04, atom= 1958\n",
      "Step=  268, Dmax= 1.7e-02 nm, Epot= -5.59244e+05 Fmax= 1.45479e+04, atom= 1958\n",
      "Step=  269, Dmax= 2.0e-02 nm, Epot= -5.59260e+05 Fmax= 1.66359e+04, atom= 1958\n",
      "Step=  271, Dmax= 1.2e-02 nm, Epot= -5.59551e+05 Fmax= 2.16548e+03, atom= 1958\n",
      "Step=  272, Dmax= 1.5e-02 nm, Epot= -5.59563e+05 Fmax= 2.00095e+04, atom= 1958\n",
      "Step=  273, Dmax= 1.8e-02 nm, Epot= -5.59926e+05 Fmax= 7.13106e+03, atom= 1958\n",
      "Step=  275, Dmax= 1.1e-02 nm, Epot= -5.59978e+05 Fmax= 9.02980e+03, atom= 1958\n",
      "Step=  276, Dmax= 1.3e-02 nm, Epot= -5.60027e+05 Fmax= 1.05180e+04, atom= 1958\n",
      "Step=  277, Dmax= 1.5e-02 nm, Epot= -5.60056e+05 Fmax= 1.27721e+04, atom= 1958\n",
      "Step=  278, Dmax= 1.8e-02 nm, Epot= -5.60070e+05 Fmax= 1.53068e+04, atom= 1958\n",
      "Step=  280, Dmax= 1.1e-02 nm, Epot= -5.60315e+05 Fmax= 1.48789e+03, atom= 1958\n",
      "Step=  281, Dmax= 1.3e-02 nm, Epot= -5.60464e+05 Fmax= 1.90581e+04, atom= 1958\n",
      "Step=  282, Dmax= 1.6e-02 nm, Epot= -5.60796e+05 Fmax= 5.22570e+03, atom= 1958\n",
      "Step=  284, Dmax= 9.5e-03 nm, Epot= -5.60837e+05 Fmax= 9.40421e+03, atom= 1958\n",
      "Step=  285, Dmax= 1.1e-02 nm, Epot= -5.60919e+05 Fmax= 8.00225e+03, atom= 1958\n",
      "Step=  287, Dmax= 6.8e-03 nm, Epot= -5.61012e+05 Fmax= 2.50568e+03, atom= 1958\n",
      "Step=  288, Dmax= 8.2e-03 nm, Epot= -5.61098e+05 Fmax= 9.92515e+03, atom= 1958\n",
      "Step=  289, Dmax= 9.8e-03 nm, Epot= -5.61209e+05 Fmax= 5.19764e+03, atom= 1958\n",
      "Step=  291, Dmax= 5.9e-03 nm, Epot= -5.61276e+05 Fmax= 3.80377e+03, atom= 1958\n",
      "Step=  292, Dmax= 7.1e-03 nm, Epot= -5.61338e+05 Fmax= 7.13258e+03, atom= 1958\n",
      "Step=  293, Dmax= 8.5e-03 nm, Epot= -5.61411e+05 Fmax= 5.84957e+03, atom= 1958\n",
      "Step=  294, Dmax= 1.0e-02 nm, Epot= -5.61445e+05 Fmax= 9.85525e+03, atom= 1958\n",
      "Step=  295, Dmax= 1.2e-02 nm, Epot= -5.61521e+05 Fmax= 8.85014e+03, atom= 1958\n",
      "Step=  297, Dmax= 7.3e-03 nm, Epot= -5.61622e+05 Fmax= 2.43731e+03, atom= 1958\n",
      "Step=  298, Dmax= 8.8e-03 nm, Epot= -5.61704e+05 Fmax= 1.09204e+04, atom= 1958\n",
      "Step=  299, Dmax= 1.1e-02 nm, Epot= -5.61826e+05 Fmax= 5.32990e+03, atom= 1958\n",
      "Step=  301, Dmax= 6.3e-03 nm, Epot= -5.61891e+05 Fmax= 4.34725e+03, atom= 1958\n",
      "Step=  302, Dmax= 7.6e-03 nm, Epot= -5.61947e+05 Fmax= 7.39484e+03, atom= 1958\n",
      "Step=  303, Dmax= 9.1e-03 nm, Epot= -5.62015e+05 Fmax= 6.56169e+03, atom= 1958\n",
      "Step=  304, Dmax= 1.1e-02 nm, Epot= -5.62043e+05 Fmax= 1.03065e+04, atom= 1958\n",
      "Step=  305, Dmax= 1.3e-02 nm, Epot= -5.62112e+05 Fmax= 9.80011e+03, atom= 1958\n",
      "Step=  307, Dmax= 7.9e-03 nm, Epot= -5.62223e+05 Fmax= 2.32644e+03, atom= 1958\n",
      "Step=  308, Dmax= 9.4e-03 nm, Epot= -5.62303e+05 Fmax= 1.20288e+04, atom= 1958\n",
      "Step=  309, Dmax= 1.1e-02 nm, Epot= -5.62440e+05 Fmax= 5.43371e+03, atom= 1958\n",
      "Step=  311, Dmax= 6.8e-03 nm, Epot= -5.62502e+05 Fmax= 4.97102e+03, atom= 1958\n",
      "Step=  312, Dmax= 8.2e-03 nm, Epot= -5.62552e+05 Fmax= 7.63770e+03, atom= 1958\n",
      "Step=  313, Dmax= 9.8e-03 nm, Epot= -5.62614e+05 Fmax= 7.36685e+03, atom= 1958\n",
      "Step=  314, Dmax= 1.2e-02 nm, Epot= -5.62640e+05 Fmax= 1.07517e+04, atom= 1958\n",
      "Step=  315, Dmax= 1.4e-02 nm, Epot= -5.62698e+05 Fmax= 1.08615e+04, atom= 1958\n",
      "Step=  317, Dmax= 8.5e-03 nm, Epot= -5.62824e+05 Fmax= 2.16680e+03, atom= 1958\n",
      "Step=  318, Dmax= 1.0e-02 nm, Epot= -5.62903e+05 Fmax= 1.32565e+04, atom= 1958\n",
      "Step=  319, Dmax= 1.2e-02 nm, Epot= -5.63058e+05 Fmax= 5.51108e+03, atom= 1958\n",
      "Step=  321, Dmax= 7.3e-03 nm, Epot= -5.63116e+05 Fmax= 5.67595e+03, atom= 1958\n",
      "Step=  322, Dmax= 8.8e-03 nm, Epot= -5.63164e+05 Fmax= 7.86514e+03, atom= 1958\n",
      "Step=  323, Dmax= 1.1e-02 nm, Epot= -5.63218e+05 Fmax= 8.26514e+03, atom= 1958\n",
      "Step=  324, Dmax= 1.3e-02 nm, Epot= -5.63243e+05 Fmax= 1.11976e+04, atom= 1958\n",
      "Step=  325, Dmax= 1.5e-02 nm, Epot= -5.63288e+05 Fmax= 1.20336e+04, atom= 1958\n",
      "Step=  327, Dmax= 9.1e-03 nm, Epot= -5.63430e+05 Fmax= 1.96477e+03, atom= 1958\n",
      "Step=  328, Dmax= 1.1e-02 nm, Epot= -5.63515e+05 Fmax= 1.45993e+04, atom= 1958\n",
      "Step=  329, Dmax= 1.3e-02 nm, Epot= -5.63692e+05 Fmax= 5.57421e+03, atom= 1958\n",
      "Step=  331, Dmax= 7.9e-03 nm, Epot= -5.63745e+05 Fmax= 6.45458e+03, atom= 1958\n",
      "Step=  332, Dmax= 9.4e-03 nm, Epot= -5.63791e+05 Fmax= 8.09017e+03, atom= 1958\n",
      "Step=  333, Dmax= 1.1e-02 nm, Epot= -5.63836e+05 Fmax= 9.25120e+03, atom= 1958\n",
      "Step=  334, Dmax= 1.4e-02 nm, Epot= -5.63862e+05 Fmax= 1.16566e+04, atom= 1958\n",
      "Step=  335, Dmax= 1.6e-02 nm, Epot= -5.63891e+05 Fmax= 1.33131e+04, atom= 1958\n",
      "Step=  337, Dmax= 9.8e-03 nm, Epot= -5.64052e+05 Fmax= 1.72876e+03, atom= 1958\n",
      "Step=  338, Dmax= 1.2e-02 nm, Epot= -5.64153e+05 Fmax= 1.60466e+04, atom= 1958\n",
      "Step=  339, Dmax= 1.4e-02 nm, Epot= -5.64356e+05 Fmax= 5.64414e+03, atom= 1958\n",
      "Step=  341, Dmax= 8.4e-03 nm, Epot= -5.64402e+05 Fmax= 7.29179e+03, atom= 1958\n",
      "Step=  342, Dmax= 1.0e-02 nm, Epot= -5.64449e+05 Fmax= 8.33424e+03, atom= 1958\n",
      "Step=  343, Dmax= 1.2e-02 nm, Epot= -5.64483e+05 Fmax= 1.03091e+04, atom= 1958\n",
      "Step=  344, Dmax= 1.5e-02 nm, Epot= -5.64512e+05 Fmax= 1.21524e+04, atom= 1958\n",
      "Step=  345, Dmax= 1.8e-02 nm, Epot= -5.64522e+05 Fmax= 1.46858e+04, atom= 1958\n",
      "Step=  347, Dmax= 1.1e-02 nm, Epot= -5.64705e+05 Fmax= 1.47971e+03, atom= 1958\n",
      "Step=  348, Dmax= 1.3e-02 nm, Epot= -5.64836e+05 Fmax= 1.75682e+04, atom= 1958\n",
      "Step=  349, Dmax= 1.5e-02 nm, Epot= -5.65066e+05 Fmax= 5.76293e+03, atom= 1958\n",
      "Step=  351, Dmax= 9.1e-03 nm, Epot= -5.65106e+05 Fmax= 8.15114e+03, atom= 1958\n",
      "Step=  352, Dmax= 1.1e-02 nm, Epot= -5.65154e+05 Fmax= 8.63999e+03, atom= 1958\n",
      "Step=  353, Dmax= 1.3e-02 nm, Epot= -5.65176e+05 Fmax= 1.14050e+04, atom= 1958\n",
      "Step=  354, Dmax= 1.6e-02 nm, Epot= -5.65209e+05 Fmax= 1.27275e+04, atom= 1958\n",
      "Step=  356, Dmax= 9.4e-03 nm, Epot= -5.65348e+05 Fmax= 1.71662e+03, atom= 1958\n",
      "Step=  357, Dmax= 1.1e-02 nm, Epot= -5.65439e+05 Fmax= 1.58195e+04, atom= 1958\n",
      "Step=  358, Dmax= 1.4e-02 nm, Epot= -5.65625e+05 Fmax= 5.02547e+03, atom= 1958\n",
      "Step=  360, Dmax= 8.1e-03 nm, Epot= -5.65667e+05 Fmax= 7.51975e+03, atom= 1958\n",
      "Step=  361, Dmax= 9.8e-03 nm, Epot= -5.65718e+05 Fmax= 7.45105e+03, atom= 1958\n"
     ]
    },
    {
     "name": "stdout",
     "output_type": "stream",
     "text": [
      "Step=  362, Dmax= 1.2e-02 nm, Epot= -5.65741e+05 Fmax= 1.05852e+04, atom= 1958\n",
      "Step=  363, Dmax= 1.4e-02 nm, Epot= -5.65786e+05 Fmax= 1.09708e+04, atom= 1958\n",
      "Step=  365, Dmax= 8.4e-03 nm, Epot= -5.65894e+05 Fmax= 2.00358e+03, atom= 1958\n",
      "Step=  366, Dmax= 1.0e-02 nm, Epot= -5.65970e+05 Fmax= 1.34160e+04, atom= 1958\n",
      "Step=  367, Dmax= 1.2e-02 nm, Epot= -5.66106e+05 Fmax= 5.27744e+03, atom= 1958\n",
      "Step=  369, Dmax= 7.3e-03 nm, Epot= -5.66153e+05 Fmax= 5.88742e+03, atom= 1958\n",
      "Step=  370, Dmax= 8.7e-03 nm, Epot= -5.66194e+05 Fmax= 7.58697e+03, atom= 1958\n",
      "Step=  371, Dmax= 1.0e-02 nm, Epot= -5.66236e+05 Fmax= 8.50430e+03, atom= 1958\n",
      "Step=  372, Dmax= 1.3e-02 nm, Epot= -5.66263e+05 Fmax= 1.08717e+04, atom= 1958\n",
      "Step=  373, Dmax= 1.5e-02 nm, Epot= -5.66293e+05 Fmax= 1.22962e+04, atom= 1958\n",
      "Step=  375, Dmax= 9.1e-03 nm, Epot= -5.66417e+05 Fmax= 1.64658e+03, atom= 1958\n",
      "Step=  376, Dmax= 1.1e-02 nm, Epot= -5.66521e+05 Fmax= 1.48953e+04, atom= 1958\n",
      "Step=  377, Dmax= 1.3e-02 nm, Epot= -5.66678e+05 Fmax= 5.20586e+03, atom= 1958\n",
      "Step=  379, Dmax= 7.8e-03 nm, Epot= -5.66721e+05 Fmax= 6.80063e+03, atom= 1958\n",
      "Step=  380, Dmax= 9.4e-03 nm, Epot= -5.66763e+05 Fmax= 7.67664e+03, atom= 1958\n",
      "Step=  381, Dmax= 1.1e-02 nm, Epot= -5.66796e+05 Fmax= 9.62289e+03, atom= 1958\n",
      "Step=  382, Dmax= 1.4e-02 nm, Epot= -5.66826e+05 Fmax= 1.11947e+04, atom= 1958\n",
      "Step=  383, Dmax= 1.6e-02 nm, Epot= -5.66839e+05 Fmax= 1.37079e+04, atom= 1958\n",
      "Step=  384, Dmax= 1.9e-02 nm, Epot= -5.66844e+05 Fmax= 1.62108e+04, atom= 1958\n",
      "Step=  386, Dmax= 1.2e-02 nm, Epot= -5.67032e+05 Fmax= 1.73353e+03, atom= 1958\n",
      "Step=  387, Dmax= 1.4e-02 nm, Epot= -5.67081e+05 Fmax= 1.99367e+04, atom= 1958\n",
      "Step=  388, Dmax= 1.7e-02 nm, Epot= -5.67331e+05 Fmax= 6.00467e+03, atom= 1958\n",
      "Step=  390, Dmax= 1.0e-02 nm, Epot= -5.67358e+05 Fmax= 9.55567e+03, atom= 1958\n",
      "Step=  391, Dmax= 1.2e-02 nm, Epot= -5.67408e+05 Fmax= 9.05867e+03, atom= 1958\n",
      "Step=  393, Dmax= 7.3e-03 nm, Epot= -5.67483e+05 Fmax= 2.13246e+03, atom= 1958\n",
      "Step=  394, Dmax= 8.7e-03 nm, Epot= -5.67553e+05 Fmax= 1.12199e+04, atom= 1958\n",
      "Step=  395, Dmax= 1.0e-02 nm, Epot= -5.67647e+05 Fmax= 4.89712e+03, atom= 1958\n",
      "Step=  397, Dmax= 6.3e-03 nm, Epot= -5.67692e+05 Fmax= 4.74302e+03, atom= 1958\n",
      "Step=  398, Dmax= 7.5e-03 nm, Epot= -5.67732e+05 Fmax= 6.87426e+03, atom= 1958\n",
      "Step=  399, Dmax= 9.0e-03 nm, Epot= -5.67776e+05 Fmax= 7.01678e+03, atom= 1958\n",
      "Step=  400, Dmax= 1.1e-02 nm, Epot= -5.67803e+05 Fmax= 9.69429e+03, atom= 1958\n",
      "Step=  401, Dmax= 1.3e-02 nm, Epot= -5.67842e+05 Fmax= 1.03064e+04, atom= 1958\n",
      "Step=  402, Dmax= 1.6e-02 nm, Epot= -5.67846e+05 Fmax= 1.37243e+04, atom= 1958\n",
      "Step=  403, Dmax= 1.9e-02 nm, Epot= -5.67870e+05 Fmax= 1.50482e+04, atom= 1958\n",
      "Step=  405, Dmax= 1.1e-02 nm, Epot= -5.68026e+05 Fmax= 2.24552e+03, atom= 1958\n",
      "Step=  406, Dmax= 1.4e-02 nm, Epot= -5.68036e+05 Fmax= 1.84092e+04, atom= 1958\n",
      "Step=  407, Dmax= 1.6e-02 nm, Epot= -5.68238e+05 Fmax= 6.54277e+03, atom= 1958\n",
      "Step=  409, Dmax= 9.7e-03 nm, Epot= -5.68272e+05 Fmax= 8.38471e+03, atom= 1958\n",
      "Step=  410, Dmax= 1.2e-02 nm, Epot= -5.68306e+05 Fmax= 9.57109e+03, atom= 1958\n",
      "Step=  411, Dmax= 1.4e-02 nm, Epot= -5.68325e+05 Fmax= 1.19242e+04, atom= 1958\n",
      "Step=  412, Dmax= 1.7e-02 nm, Epot= -5.68342e+05 Fmax= 1.38947e+04, atom= 1958\n",
      "Step=  414, Dmax= 1.0e-02 nm, Epot= -5.68477e+05 Fmax= 1.59154e+03, atom= 1958\n",
      "Step=  415, Dmax= 1.2e-02 nm, Epot= -5.68564e+05 Fmax= 1.70750e+04, atom= 1958\n",
      "Step=  416, Dmax= 1.5e-02 nm, Epot= -5.68741e+05 Fmax= 5.28982e+03, atom= 1958\n",
      "Step=  418, Dmax= 8.7e-03 nm, Epot= -5.68774e+05 Fmax= 8.12325e+03, atom= 1958\n",
      "Step=  419, Dmax= 1.0e-02 nm, Epot= -5.68817e+05 Fmax= 7.94196e+03, atom= 1958\n",
      "Step=  420, Dmax= 1.3e-02 nm, Epot= -5.68831e+05 Fmax= 1.13512e+04, atom= 1958\n",
      "Step=  421, Dmax= 1.5e-02 nm, Epot= -5.68869e+05 Fmax= 1.17661e+04, atom= 1958\n",
      "Step=  423, Dmax= 9.0e-03 nm, Epot= -5.68969e+05 Fmax= 2.11805e+03, atom= 1958\n",
      "Step=  424, Dmax= 1.1e-02 nm, Epot= -5.69019e+05 Fmax= 1.44968e+04, atom= 1958\n",
      "Step=  425, Dmax= 1.3e-02 nm, Epot= -5.69147e+05 Fmax= 5.51440e+03, atom= 1958\n",
      "Step=  427, Dmax= 7.8e-03 nm, Epot= -5.69186e+05 Fmax= 6.47270e+03, atom= 1958\n",
      "Step=  428, Dmax= 9.4e-03 nm, Epot= -5.69221e+05 Fmax= 7.93485e+03, atom= 1958\n",
      "Step=  429, Dmax= 1.1e-02 nm, Epot= -5.69252e+05 Fmax= 9.32969e+03, atom= 1958\n",
      "Step=  430, Dmax= 1.3e-02 nm, Epot= -5.69274e+05 Fmax= 1.13985e+04, atom= 1958\n",
      "Step=  431, Dmax= 1.6e-02 nm, Epot= -5.69290e+05 Fmax= 1.34451e+04, atom= 1958\n",
      "Step=  433, Dmax= 9.7e-03 nm, Epot= -5.69412e+05 Fmax= 1.47977e+03, atom= 1958\n",
      "Step=  434, Dmax= 1.2e-02 nm, Epot= -5.69513e+05 Fmax= 1.63411e+04, atom= 1958\n",
      "Step=  435, Dmax= 1.4e-02 nm, Epot= -5.69671e+05 Fmax= 5.19245e+03, atom= 1958\n",
      "Step=  437, Dmax= 8.4e-03 nm, Epot= -5.69704e+05 Fmax= 7.70470e+03, atom= 1958\n",
      "Step=  438, Dmax= 1.0e-02 nm, Epot= -5.69744e+05 Fmax= 7.78168e+03, atom= 1958\n",
      "Step=  439, Dmax= 1.2e-02 nm, Epot= -5.69760e+05 Fmax= 1.07831e+04, atom= 1958\n",
      "Step=  440, Dmax= 1.4e-02 nm, Epot= -5.69794e+05 Fmax= 1.14923e+04, atom= 1958\n",
      "Step=  442, Dmax= 8.7e-03 nm, Epot= -5.69887e+05 Fmax= 1.87558e+03, atom= 1958\n",
      "Step=  443, Dmax= 1.0e-02 nm, Epot= -5.69949e+05 Fmax= 1.41825e+04, atom= 1958\n",
      "Step=  444, Dmax= 1.3e-02 nm, Epot= -5.70071e+05 Fmax= 5.09563e+03, atom= 1958\n",
      "Step=  446, Dmax= 7.5e-03 nm, Epot= -5.70106e+05 Fmax= 6.45960e+03, atom= 1958\n",
      "Step=  447, Dmax= 9.0e-03 nm, Epot= -5.70141e+05 Fmax= 7.40876e+03, atom= 1958\n",
      "Step=  448, Dmax= 1.1e-02 nm, Epot= -5.70169e+05 Fmax= 9.22484e+03, atom= 1958\n",
      "Step=  449, Dmax= 1.3e-02 nm, Epot= -5.70195e+05 Fmax= 1.07349e+04, atom= 1958\n",
      "Step=  450, Dmax= 1.6e-02 nm, Epot= -5.70207e+05 Fmax= 1.31953e+04, atom= 1958\n",
      "Step=  451, Dmax= 1.9e-02 nm, Epot= -5.70213e+05 Fmax= 1.55097e+04, atom= 1958\n",
      "Step=  453, Dmax= 1.1e-02 nm, Epot= -5.70363e+05 Fmax= 1.72241e+03, atom= 1958\n",
      "Step=  454, Dmax= 1.3e-02 nm, Epot= -5.70406e+05 Fmax= 1.89366e+04, atom= 1958\n",
      "Step=  455, Dmax= 1.6e-02 nm, Epot= -5.70603e+05 Fmax= 5.94827e+03, atom= 1958\n",
      "Step=  457, Dmax= 9.7e-03 nm, Epot= -5.70626e+05 Fmax= 8.96784e+03, atom= 1958\n",
      "Step=  458, Dmax= 1.2e-02 nm, Epot= -5.70664e+05 Fmax= 8.91412e+03, atom= 1958\n",
      "Step=  459, Dmax= 1.4e-02 nm, Epot= -5.70668e+05 Fmax= 1.25454e+04, atom= 1958\n",
      "Step=  460, Dmax= 1.7e-02 nm, Epot= -5.70699e+05 Fmax= 1.31717e+04, atom= 1958\n",
      "Step=  462, Dmax= 1.0e-02 nm, Epot= -5.70811e+05 Fmax= 2.27538e+03, atom= 1958\n",
      "Step=  463, Dmax= 1.2e-02 nm, Epot= -5.70826e+05 Fmax= 1.62428e+04, atom= 1958\n",
      "Step=  464, Dmax= 1.4e-02 nm, Epot= -5.70972e+05 Fmax= 6.04097e+03, atom= 1958\n",
      "Step=  466, Dmax= 8.7e-03 nm, Epot= -5.71004e+05 Fmax= 7.29695e+03, atom= 1958\n",
      "Step=  467, Dmax= 1.0e-02 nm, Epot= -5.71033e+05 Fmax= 8.73685e+03, atom= 1958\n",
      "Step=  468, Dmax= 1.3e-02 nm, Epot= -5.71056e+05 Fmax= 1.04674e+04, atom= 1958\n",
      "Step=  469, Dmax= 1.5e-02 nm, Epot= -5.71071e+05 Fmax= 1.26001e+04, atom= 1958\n",
      "Step=  470, Dmax= 1.8e-02 nm, Epot= -5.71077e+05 Fmax= 1.50247e+04, atom= 1958\n",
      "Step=  472, Dmax= 1.1e-02 nm, Epot= -5.71214e+05 Fmax= 1.58791e+03, atom= 1958\n",
      "Step=  473, Dmax= 1.3e-02 nm, Epot= -5.71272e+05 Fmax= 1.82261e+04, atom= 1958\n",
      "Step=  474, Dmax= 1.6e-02 nm, Epot= -5.71452e+05 Fmax= 5.77703e+03, atom= 1958\n",
      "Step=  476, Dmax= 9.3e-03 nm, Epot= -5.71476e+05 Fmax= 8.56021e+03, atom= 1958\n",
      "Step=  477, Dmax= 1.1e-02 nm, Epot= -5.71511e+05 Fmax= 8.68995e+03, atom= 1958\n",
      "Step=  478, Dmax= 1.3e-02 nm, Epot= -5.71518e+05 Fmax= 1.19475e+04, atom= 1958\n",
      "Step=  479, Dmax= 1.6e-02 nm, Epot= -5.71544e+05 Fmax= 1.28572e+04, atom= 1958\n",
      "Step=  481, Dmax= 9.7e-03 nm, Epot= -5.71648e+05 Fmax= 2.00258e+03, atom= 1958\n",
      "Step=  482, Dmax= 1.2e-02 nm, Epot= -5.71679e+05 Fmax= 1.59347e+04, atom= 1958\n",
      "Step=  483, Dmax= 1.4e-02 nm, Epot= -5.71818e+05 Fmax= 5.49677e+03, atom= 1958\n",
      "Step=  485, Dmax= 8.4e-03 nm, Epot= -5.71847e+05 Fmax= 7.38799e+03, atom= 1958\n",
      "Step=  486, Dmax= 1.0e-02 nm, Epot= -5.71879e+05 Fmax= 8.01988e+03, atom= 1958\n",
      "Step=  487, Dmax= 1.2e-02 nm, Epot= -5.71895e+05 Fmax= 1.05185e+04, atom= 1958\n",
      "Step=  488, Dmax= 1.4e-02 nm, Epot= -5.71918e+05 Fmax= 1.16601e+04, atom= 1958\n",
      "Step=  490, Dmax= 8.7e-03 nm, Epot= -5.72008e+05 Fmax= 1.68379e+03, atom= 1958\n",
      "Step=  491, Dmax= 1.0e-02 nm, Epot= -5.72071e+05 Fmax= 1.42026e+04, atom= 1958\n",
      "Step=  492, Dmax= 1.2e-02 nm, Epot= -5.72185e+05 Fmax= 5.04380e+03, atom= 1958\n"
     ]
    },
    {
     "name": "stdout",
     "output_type": "stream",
     "text": [
      "Step=  494, Dmax= 7.5e-03 nm, Epot= -5.72216e+05 Fmax= 6.44854e+03, atom= 1958\n",
      "Step=  495, Dmax= 9.0e-03 nm, Epot= -5.72247e+05 Fmax= 7.40939e+03, atom= 1958\n",
      "Step=  496, Dmax= 1.1e-02 nm, Epot= -5.72270e+05 Fmax= 9.14638e+03, atom= 1958\n",
      "Step=  497, Dmax= 1.3e-02 nm, Epot= -5.72291e+05 Fmax= 1.07858e+04, atom= 1958\n",
      "Step=  498, Dmax= 1.6e-02 nm, Epot= -5.72300e+05 Fmax= 1.30458e+04, atom= 1958\n",
      "Step=  499, Dmax= 1.9e-02 nm, Epot= -5.72301e+05 Fmax= 1.56069e+04, atom= 1958\n",
      "Step=  501, Dmax= 1.1e-02 nm, Epot= -5.72443e+05 Fmax= 1.56241e+03, atom= 1958\n",
      "Step=  502, Dmax= 1.3e-02 nm, Epot= -5.72482e+05 Fmax= 1.91945e+04, atom= 1958\n",
      "Step=  503, Dmax= 1.6e-02 nm, Epot= -5.72674e+05 Fmax= 5.61338e+03, atom= 1958\n",
      "Step=  505, Dmax= 9.7e-03 nm, Epot= -5.72691e+05 Fmax= 9.29912e+03, atom= 1958\n",
      "Step=  506, Dmax= 1.2e-02 nm, Epot= -5.72729e+05 Fmax= 8.50911e+03, atom= 1958\n",
      "Step=  508, Dmax= 7.0e-03 nm, Epot= -5.72785e+05 Fmax= 2.21358e+03, atom= 1958\n",
      "Step=  509, Dmax= 8.3e-03 nm, Epot= -5.72827e+05 Fmax= 1.05459e+04, atom= 1958\n",
      "Step=  510, Dmax= 1.0e-02 nm, Epot= -5.72896e+05 Fmax= 4.89779e+03, atom= 1958\n",
      "Step=  512, Dmax= 6.0e-03 nm, Epot= -5.72929e+05 Fmax= 4.31847e+03, atom= 1958\n",
      "Step=  513, Dmax= 7.2e-03 nm, Epot= -5.72958e+05 Fmax= 6.82312e+03, atom= 1958\n",
      "Step=  514, Dmax= 8.7e-03 nm, Epot= -5.72992e+05 Fmax= 6.45917e+03, atom= 1958\n",
      "Step=  515, Dmax= 1.0e-02 nm, Epot= -5.73008e+05 Fmax= 9.56173e+03, atom= 1958\n",
      "Step=  516, Dmax= 1.2e-02 nm, Epot= -5.73040e+05 Fmax= 9.56718e+03, atom= 1958\n",
      "Step=  518, Dmax= 7.5e-03 nm, Epot= -5.73105e+05 Fmax= 1.95854e+03, atom= 1958\n",
      "Step=  519, Dmax= 9.0e-03 nm, Epot= -5.73151e+05 Fmax= 1.17240e+04, atom= 1958\n",
      "Step=  520, Dmax= 1.1e-02 nm, Epot= -5.73232e+05 Fmax= 4.88370e+03, atom= 1958\n",
      "Step=  522, Dmax= 6.5e-03 nm, Epot= -5.73264e+05 Fmax= 5.01929e+03, atom= 1958\n",
      "Step=  523, Dmax= 7.8e-03 nm, Epot= -5.73291e+05 Fmax= 6.95823e+03, atom= 1958\n",
      "Step=  524, Dmax= 9.3e-03 nm, Epot= -5.73321e+05 Fmax= 7.31627e+03, atom= 1958\n",
      "Step=  525, Dmax= 1.1e-02 nm, Epot= -5.73336e+05 Fmax= 9.90508e+03, atom= 1958\n",
      "Step=  526, Dmax= 1.3e-02 nm, Epot= -5.73361e+05 Fmax= 1.06530e+04, atom= 1958\n",
      "Step=  528, Dmax= 8.0e-03 nm, Epot= -5.73435e+05 Fmax= 1.73732e+03, atom= 1958\n",
      "Step=  529, Dmax= 9.6e-03 nm, Epot= -5.73488e+05 Fmax= 1.29382e+04, atom= 1958\n",
      "Step=  530, Dmax= 1.2e-02 nm, Epot= -5.73583e+05 Fmax= 4.92247e+03, atom= 1958\n",
      "Step=  532, Dmax= 6.9e-03 nm, Epot= -5.73613e+05 Fmax= 5.72138e+03, atom= 1958\n",
      "Step=  533, Dmax= 8.3e-03 nm, Epot= -5.73639e+05 Fmax= 7.15314e+03, atom= 1958\n",
      "Step=  534, Dmax= 1.0e-02 nm, Epot= -5.73665e+05 Fmax= 8.18941e+03, atom= 1958\n",
      "Step=  535, Dmax= 1.2e-02 nm, Epot= -5.73680e+05 Fmax= 1.03212e+04, atom= 1958\n",
      "Step=  536, Dmax= 1.4e-02 nm, Epot= -5.73698e+05 Fmax= 1.17746e+04, atom= 1958\n",
      "Step=  538, Dmax= 8.6e-03 nm, Epot= -5.73784e+05 Fmax= 1.54486e+03, atom= 1958\n",
      "Step=  539, Dmax= 1.0e-02 nm, Epot= -5.73844e+05 Fmax= 1.41926e+04, atom= 1958\n",
      "Step=  540, Dmax= 1.2e-02 nm, Epot= -5.73954e+05 Fmax= 5.01717e+03, atom= 1958\n",
      "Step=  542, Dmax= 7.5e-03 nm, Epot= -5.73981e+05 Fmax= 6.42517e+03, atom= 1958\n",
      "Step=  543, Dmax= 9.0e-03 nm, Epot= -5.74007e+05 Fmax= 7.41326e+03, atom= 1958\n",
      "Step=  544, Dmax= 1.1e-02 nm, Epot= -5.74028e+05 Fmax= 9.07983e+03, atom= 1958\n",
      "Step=  545, Dmax= 1.3e-02 nm, Epot= -5.74043e+05 Fmax= 1.08152e+04, atom= 1958\n",
      "Step=  546, Dmax= 1.5e-02 nm, Epot= -5.74051e+05 Fmax= 1.29344e+04, atom= 1958\n",
      "Step=  548, Dmax= 9.3e-03 nm, Epot= -5.74152e+05 Fmax= 1.38362e+03, atom= 1958\n",
      "Step=  549, Dmax= 1.1e-02 nm, Epot= -5.74221e+05 Fmax= 1.54886e+04, atom= 1958\n",
      "Step=  550, Dmax= 1.3e-02 nm, Epot= -5.74348e+05 Fmax= 5.17522e+03, atom= 1958\n",
      "Step=  552, Dmax= 8.0e-03 nm, Epot= -5.74371e+05 Fmax= 7.12886e+03, atom= 1958\n",
      "Step=  553, Dmax= 9.6e-03 nm, Epot= -5.74398e+05 Fmax= 7.74644e+03, atom= 1958\n",
      "Step=  554, Dmax= 1.2e-02 nm, Epot= -5.74412e+05 Fmax= 9.98515e+03, atom= 1958\n",
      "Step=  555, Dmax= 1.4e-02 nm, Epot= -5.74429e+05 Fmax= 1.13973e+04, atom= 1958\n",
      "Step=  557, Dmax= 8.3e-03 nm, Epot= -5.74510e+05 Fmax= 1.38100e+03, atom= 1958\n",
      "Step=  558, Dmax= 1.0e-02 nm, Epot= -5.74575e+05 Fmax= 1.42114e+04, atom= 1958\n",
      "Step=  559, Dmax= 1.2e-02 nm, Epot= -5.74686e+05 Fmax= 4.22296e+03, atom= 1958\n",
      "Step=  561, Dmax= 7.2e-03 nm, Epot= -5.74710e+05 Fmax= 6.90431e+03, atom= 1958\n",
      "Step=  562, Dmax= 8.6e-03 nm, Epot= -5.74741e+05 Fmax= 6.33731e+03, atom= 1958\n",
      "Step=  563, Dmax= 1.0e-02 nm, Epot= -5.74752e+05 Fmax= 9.65216e+03, atom= 1958\n",
      "Step=  564, Dmax= 1.2e-02 nm, Epot= -5.74782e+05 Fmax= 9.41954e+03, atom= 1958\n",
      "Step=  566, Dmax= 7.5e-03 nm, Epot= -5.74844e+05 Fmax= 2.07902e+03, atom= 1958\n",
      "Step=  567, Dmax= 8.9e-03 nm, Epot= -5.74874e+05 Fmax= 1.15569e+04, atom= 1958\n",
      "Step=  568, Dmax= 1.1e-02 nm, Epot= -5.74949e+05 Fmax= 5.00803e+03, atom= 1958\n",
      "Step=  570, Dmax= 6.4e-03 nm, Epot= -5.74979e+05 Fmax= 4.86466e+03, atom= 1958\n",
      "Step=  571, Dmax= 7.7e-03 nm, Epot= -5.75000e+05 Fmax= 7.08468e+03, atom= 1958\n",
      "Step=  572, Dmax= 9.3e-03 nm, Epot= -5.75029e+05 Fmax= 7.14851e+03, atom= 1958\n",
      "Step=  573, Dmax= 1.1e-02 nm, Epot= -5.75038e+05 Fmax= 1.00295e+04, atom= 1958\n",
      "Step=  574, Dmax= 1.3e-02 nm, Epot= -5.75062e+05 Fmax= 1.04705e+04, atom= 1958\n",
      "Step=  576, Dmax= 8.0e-03 nm, Epot= -5.75133e+05 Fmax= 1.88629e+03, atom= 1958\n",
      "Step=  577, Dmax= 9.6e-03 nm, Epot= -5.75165e+05 Fmax= 1.27611e+04, atom= 1958\n",
      "Step=  578, Dmax= 1.2e-02 nm, Epot= -5.75253e+05 Fmax= 5.04779e+03, atom= 1958\n",
      "Step=  580, Dmax= 6.9e-03 nm, Epot= -5.75281e+05 Fmax= 5.56850e+03, atom= 1958\n",
      "Step=  581, Dmax= 8.3e-03 nm, Epot= -5.75302e+05 Fmax= 7.26934e+03, atom= 1958\n",
      "Step=  582, Dmax= 1.0e-02 nm, Epot= -5.75325e+05 Fmax= 8.03362e+03, atom= 1958\n",
      "Step=  583, Dmax= 1.2e-02 nm, Epot= -5.75336e+05 Fmax= 1.04238e+04, atom= 1958\n",
      "Step=  584, Dmax= 1.4e-02 nm, Epot= -5.75353e+05 Fmax= 1.16140e+04, atom= 1958\n",
      "Step=  586, Dmax= 8.6e-03 nm, Epot= -5.75434e+05 Fmax= 1.66611e+03, atom= 1958\n",
      "Step=  587, Dmax= 1.0e-02 nm, Epot= -5.75470e+05 Fmax= 1.40640e+04, atom= 1958\n",
      "Step=  588, Dmax= 1.2e-02 nm, Epot= -5.75575e+05 Fmax= 5.08574e+03, atom= 1958\n",
      "Step=  590, Dmax= 7.4e-03 nm, Epot= -5.75599e+05 Fmax= 6.33092e+03, atom= 1958\n",
      "Step=  591, Dmax= 8.9e-03 nm, Epot= -5.75621e+05 Fmax= 7.46240e+03, atom= 1958\n",
      "Step=  592, Dmax= 1.1e-02 nm, Epot= -5.75639e+05 Fmax= 8.99153e+03, atom= 1958\n",
      "Step=  593, Dmax= 1.3e-02 nm, Epot= -5.75650e+05 Fmax= 1.08410e+04, atom= 1958\n",
      "Step=  594, Dmax= 1.5e-02 nm, Epot= -5.75656e+05 Fmax= 1.28493e+04, atom= 1958\n",
      "Step=  596, Dmax= 9.3e-03 nm, Epot= -5.75754e+05 Fmax= 1.42376e+03, atom= 1958\n",
      "Step=  597, Dmax= 1.1e-02 nm, Epot= -5.75799e+05 Fmax= 1.54582e+04, atom= 1958\n",
      "Step=  598, Dmax= 1.3e-02 nm, Epot= -5.75923e+05 Fmax= 5.14108e+03, atom= 1958\n",
      "Step=  600, Dmax= 8.0e-03 nm, Epot= -5.75943e+05 Fmax= 7.13886e+03, atom= 1958\n",
      "Step=  601, Dmax= 9.6e-03 nm, Epot= -5.75967e+05 Fmax= 7.68383e+03, atom= 1958\n",
      "Step=  602, Dmax= 1.2e-02 nm, Epot= -5.75977e+05 Fmax= 1.00089e+04, atom= 1958\n",
      "Step=  603, Dmax= 1.4e-02 nm, Epot= -5.75992e+05 Fmax= 1.13021e+04, atom= 1958\n",
      "Step=  605, Dmax= 8.3e-03 nm, Epot= -5.76069e+05 Fmax= 1.44460e+03, atom= 1958\n",
      "Step=  606, Dmax= 1.0e-02 nm, Epot= -5.76114e+05 Fmax= 1.40429e+04, atom= 1958\n",
      "Step=  607, Dmax= 1.2e-02 nm, Epot= -5.76220e+05 Fmax= 4.34396e+03, atom= 1958\n",
      "Step=  609, Dmax= 7.2e-03 nm, Epot= -5.76241e+05 Fmax= 6.73477e+03, atom= 1958\n",
      "Step=  610, Dmax= 8.6e-03 nm, Epot= -5.76268e+05 Fmax= 6.47878e+03, atom= 1958\n",
      "Step=  611, Dmax= 1.0e-02 nm, Epot= -5.76276e+05 Fmax= 9.44922e+03, atom= 1958\n",
      "Step=  612, Dmax= 1.2e-02 nm, Epot= -5.76301e+05 Fmax= 9.57881e+03, atom= 1958\n",
      "Step=  614, Dmax= 7.4e-03 nm, Epot= -5.76361e+05 Fmax= 1.87955e+03, atom= 1958\n",
      "Step=  615, Dmax= 8.9e-03 nm, Epot= -5.76390e+05 Fmax= 1.17458e+04, atom= 1958\n",
      "Step=  616, Dmax= 1.1e-02 nm, Epot= -5.76465e+05 Fmax= 4.76478e+03, atom= 1958\n",
      "Step=  618, Dmax= 6.4e-03 nm, Epot= -5.76491e+05 Fmax= 5.09121e+03, atom= 1958\n",
      "Step=  619, Dmax= 7.7e-03 nm, Epot= -5.76511e+05 Fmax= 6.80736e+03, atom= 1958\n",
      "Step=  620, Dmax= 9.2e-03 nm, Epot= -5.76534e+05 Fmax= 7.39605e+03, atom= 1958\n",
      "Step=  621, Dmax= 1.1e-02 nm, Epot= -5.76544e+05 Fmax= 9.71635e+03, atom= 1958\n",
      "Step=  622, Dmax= 1.3e-02 nm, Epot= -5.76561e+05 Fmax= 1.07363e+04, atom= 1958\n",
      "Step=  624, Dmax= 8.0e-03 nm, Epot= -5.76632e+05 Fmax= 1.57783e+03, atom= 1958\n",
      "Step=  625, Dmax= 9.6e-03 nm, Epot= -5.76668e+05 Fmax= 1.30512e+04, atom= 1958\n",
      "Step=  626, Dmax= 1.2e-02 nm, Epot= -5.76759e+05 Fmax= 4.70263e+03, atom= 1958\n",
      "Step=  628, Dmax= 6.9e-03 nm, Epot= -5.76782e+05 Fmax= 5.89533e+03, atom= 1958\n",
      "Step=  629, Dmax= 8.3e-03 nm, Epot= -5.76802e+05 Fmax= 6.89009e+03, atom= 1958\n",
      "Step=  630, Dmax= 9.9e-03 nm, Epot= -5.76820e+05 Fmax= 8.38024e+03, atom= 1958\n",
      "Step=  631, Dmax= 1.2e-02 nm, Epot= -5.76832e+05 Fmax= 1.00079e+04, atom= 1958\n",
      "Step=  632, Dmax= 1.4e-02 nm, Epot= -5.76838e+05 Fmax= 1.19772e+04, atom= 1958\n",
      "Step=  634, Dmax= 8.6e-03 nm, Epot= -5.76923e+05 Fmax= 1.25866e+03, atom= 1958\n",
      "Step=  635, Dmax= 1.0e-02 nm, Epot= -5.76978e+05 Fmax= 1.44286e+04, atom= 1958\n",
      "Step=  636, Dmax= 1.2e-02 nm, Epot= -5.77088e+05 Fmax= 4.67095e+03, atom= 1958\n",
      "Step=  638, Dmax= 7.4e-03 nm, Epot= -5.77106e+05 Fmax= 6.72672e+03, atom= 1958\n",
      "Step=  639, Dmax= 8.9e-03 nm, Epot= -5.77130e+05 Fmax= 7.01418e+03, atom= 1958\n",
      "Step=  640, Dmax= 1.1e-02 nm, Epot= -5.77139e+05 Fmax= 9.40374e+03, atom= 1958\n",
      "Step=  641, Dmax= 1.3e-02 nm, Epot= -5.77155e+05 Fmax= 1.03566e+04, atom= 1958\n",
      "Step=  643, Dmax= 7.7e-03 nm, Epot= -5.77223e+05 Fmax= 1.46960e+03, atom= 1958\n",
      "Step=  644, Dmax= 9.2e-03 nm, Epot= -5.77260e+05 Fmax= 1.28530e+04, atom= 1958\n",
      "Step=  645, Dmax= 1.1e-02 nm, Epot= -5.77350e+05 Fmax= 4.19824e+03, atom= 1958\n",
      "Step=  647, Dmax= 6.6e-03 nm, Epot= -5.77370e+05 Fmax= 6.06710e+03, atom= 1958\n",
      "Step=  648, Dmax= 8.0e-03 nm, Epot= -5.77394e+05 Fmax= 6.19110e+03, atom= 1958\n",
      "Step=  649, Dmax= 9.6e-03 nm, Epot= -5.77405e+05 Fmax= 8.57350e+03, atom= 1958\n",
      "Step=  650, Dmax= 1.1e-02 nm, Epot= -5.77426e+05 Fmax= 9.07913e+03, atom= 1958\n",
      "Step=  652, Dmax= 6.9e-03 nm, Epot= -5.77480e+05 Fmax= 1.54534e+03, atom= 1958\n",
      "Step=  653, Dmax= 8.3e-03 nm, Epot= -5.77519e+05 Fmax= 1.10952e+04, atom= 1958\n",
      "Step=  654, Dmax= 9.9e-03 nm, Epot= -5.77589e+05 Fmax= 4.21511e+03, atom= 1958\n",
      "Step=  656, Dmax= 6.0e-03 nm, Epot= -5.77611e+05 Fmax= 4.92927e+03, atom= 1958\n",
      "Step=  657, Dmax= 7.1e-03 nm, Epot= -5.77631e+05 Fmax= 6.10033e+03, atom= 1958\n",
      "Step=  658, Dmax= 8.6e-03 nm, Epot= -5.77650e+05 Fmax= 7.07610e+03, atom= 1958\n",
      "Step=  659, Dmax= 1.0e-02 nm, Epot= -5.77664e+05 Fmax= 8.78954e+03, atom= 1958\n",
      "Step=  660, Dmax= 1.2e-02 nm, Epot= -5.77676e+05 Fmax= 1.01837e+04, atom= 1958\n",
      "Step=  662, Dmax= 7.4e-03 nm, Epot= -5.77740e+05 Fmax= 1.23572e+03, atom= 1958\n",
      "Step=  663, Dmax= 8.9e-03 nm, Epot= -5.77797e+05 Fmax= 1.23207e+04, atom= 1958\n",
      "Step=  664, Dmax= 1.1e-02 nm, Epot= -5.77879e+05 Fmax= 4.14462e+03, atom= 1958\n",
      "Step=  666, Dmax= 6.4e-03 nm, Epot= -5.77900e+05 Fmax= 5.68673e+03, atom= 1958\n",
      "Step=  667, Dmax= 7.7e-03 nm, Epot= -5.77922e+05 Fmax= 6.16723e+03, atom= 1958\n",
      "Step=  668, Dmax= 9.2e-03 nm, Epot= -5.77935e+05 Fmax= 7.99730e+03, atom= 1958\n",
      "Step=  669, Dmax= 1.1e-02 nm, Epot= -5.77951e+05 Fmax= 9.05304e+03, atom= 1958\n",
      "Step=  670, Dmax= 1.3e-02 nm, Epot= -5.77954e+05 Fmax= 1.13403e+04, atom= 1958\n",
      "Step=  671, Dmax= 1.6e-02 nm, Epot= -5.77957e+05 Fmax= 1.31771e+04, atom= 1958\n",
      "Step=  673, Dmax= 9.6e-03 nm, Epot= -5.78056e+05 Fmax= 1.51148e+03, atom= 1958\n",
      "Step=  674, Dmax= 1.1e-02 nm, Epot= -5.78061e+05 Fmax= 1.62345e+04, atom= 1958\n",
      "Step=  675, Dmax= 1.4e-02 nm, Epot= -5.78195e+05 Fmax= 4.96557e+03, atom= 1958\n",
      "Step=  677, Dmax= 8.3e-03 nm, Epot= -5.78207e+05 Fmax= 7.77802e+03, atom= 1958\n",
      "Step=  678, Dmax= 9.9e-03 nm, Epot= -5.78231e+05 Fmax= 7.45596e+03, atom= 1958\n",
      "Step=  680, Dmax= 5.9e-03 nm, Epot= -5.78271e+05 Fmax= 1.71080e+03, atom= 1958\n",
      "Step=  681, Dmax= 7.1e-03 nm, Epot= -5.78303e+05 Fmax= 9.21101e+03, atom= 1958\n",
      "Step=  682, Dmax= 8.6e-03 nm, Epot= -5.78354e+05 Fmax= 3.99173e+03, atom= 1958\n",
      "Step=  684, Dmax= 5.1e-03 nm, Epot= -5.78377e+05 Fmax= 3.89642e+03, atom= 1958\n",
      "Step=  685, Dmax= 6.2e-03 nm, Epot= -5.78396e+05 Fmax= 5.62051e+03, atom= 1958\n",
      "Step=  686, Dmax= 7.4e-03 nm, Epot= -5.78419e+05 Fmax= 5.74627e+03, atom= 1958\n",
      "Step=  687, Dmax= 8.9e-03 nm, Epot= -5.78431e+05 Fmax= 7.94353e+03, atom= 1958\n",
      "Step=  688, Dmax= 1.1e-02 nm, Epot= -5.78449e+05 Fmax= 8.42579e+03, atom= 1958\n",
      "Step=  690, Dmax= 6.4e-03 nm, Epot= -5.78498e+05 Fmax= 1.42631e+03, atom= 1958\n",
      "Step=  691, Dmax= 7.7e-03 nm, Epot= -5.78538e+05 Fmax= 1.02917e+04, atom= 1958\n",
      "Step=  692, Dmax= 9.2e-03 nm, Epot= -5.78599e+05 Fmax= 3.90389e+03, atom= 1958\n",
      "Step=  694, Dmax= 5.5e-03 nm, Epot= -5.78621e+05 Fmax= 4.57440e+03, atom= 1958\n",
      "Step=  695, Dmax= 6.6e-03 nm, Epot= -5.78640e+05 Fmax= 5.65320e+03, atom= 1958\n",
      "Step=  696, Dmax= 7.9e-03 nm, Epot= -5.78658e+05 Fmax= 6.56434e+03, atom= 1958\n",
      "Step=  697, Dmax= 9.5e-03 nm, Epot= -5.78672e+05 Fmax= 8.14814e+03, atom= 1958\n",
      "Step=  698, Dmax= 1.1e-02 nm, Epot= -5.78684e+05 Fmax= 9.44556e+03, atom= 1958\n",
      "Step=  699, Dmax= 1.4e-02 nm, Epot= -5.78685e+05 Fmax= 1.17144e+04, atom= 1958\n",
      "Step=  701, Dmax= 8.2e-03 nm, Epot= -5.78765e+05 Fmax= 9.62109e+02, atom= 1958\n",
      "\n",
      "writing lowest energy coordinates.\n",
      "\n",
      "Steepest Descents converged to Fmax < 1000 in 702 steps\n",
      "Potential Energy  = -5.7876531e+05\n",
      "Maximum force     =  9.6210907e+02 on atom 1958\n",
      "Norm of force     =  2.3313744e+01\n",
      "\n",
      "NOTE: 1 % of the run time was spent in domain decomposition,\n",
      "      11 % of the run time was spent in pair search,\n",
      "      you might want to increase nstlist (this has no effect on accuracy)\n",
      "\n",
      "\n",
      "gcq#323: \"I managed to get two hours of work done before work\" (E. Lindahl)\n",
      "\n"
     ]
    }
   ],
   "source": [
    "!gmx mdrun -v -deffnm em -nt 2"
   ]
  },
  {
   "cell_type": "code",
   "execution_count": 45,
   "metadata": {},
   "outputs": [
    {
     "name": "stdout",
     "output_type": "stream",
     "text": [
      "                  :-) GROMACS - gmx energy, VERSION 5.1.4 (-:\n",
      "\n",
      "                            GROMACS is written by:\n",
      "     Emile Apol      Rossen Apostolov  Herman J.C. Berendsen    Par Bjelkmar   \n",
      " Aldert van Buuren   Rudi van Drunen     Anton Feenstra   Sebastian Fritsch \n",
      "  Gerrit Groenhof   Christoph Junghans   Anca Hamuraru    Vincent Hindriksen\n",
      " Dimitrios Karkoulis    Peter Kasson        Jiri Kraus      Carsten Kutzner  \n",
      "    Per Larsson      Justin A. Lemkul   Magnus Lundborg   Pieter Meulenhoff \n",
      "   Erik Marklund      Teemu Murtola       Szilard Pall       Sander Pronk   \n",
      "   Roland Schulz     Alexey Shvetsov     Michael Shirts     Alfons Sijbers  \n",
      "   Peter Tieleman    Teemu Virolainen  Christian Wennberg    Maarten Wolf   \n",
      "                           and the project leaders:\n",
      "        Mark Abraham, Berk Hess, Erik Lindahl, and David van der Spoel\n",
      "\n",
      "Copyright (c) 1991-2000, University of Groningen, The Netherlands.\n",
      "Copyright (c) 2001-2015, The GROMACS development team at\n",
      "Uppsala University, Stockholm University and\n",
      "the Royal Institute of Technology, Sweden.\n",
      "check out http://www.gromacs.org for more information.\n",
      "\n",
      "GROMACS is free software; you can redistribute it and/or modify it\n",
      "under the terms of the GNU Lesser General Public License\n",
      "as published by the Free Software Foundation; either version 2.1\n",
      "of the License, or (at your option) any later version.\n",
      "\n",
      "GROMACS:      gmx energy, VERSION 5.1.4\n",
      "Executable:   /usr/local/bin/gmx\n",
      "Data prefix:  /usr/local\n",
      "Command line:\n",
      "  gmx energy -f em.edr -o potential.xvg\n",
      "\n",
      "Opened em.edr as single precision energy file\n",
      "\n",
      "Select the terms you want from the following list by\n",
      "selecting either (part of) the name or the number or a combination.\n",
      "End your selection with an empty line or a zero.\n",
      "-------------------------------------------------------------------\n",
      "  1  Bond             2  Angle            3  Proper-Dih.      4  Improper-Dih. \n",
      "  5  LJ-14            6  Coulomb-14       7  LJ-(SR)          8  Coulomb-(SR)  \n",
      "  9  Coul.-recip.    10  Potential       11  Pressure        12  Vir-XX        \n",
      " 13  Vir-XY          14  Vir-XZ          15  Vir-YX          16  Vir-YY        \n",
      " 17  Vir-YZ          18  Vir-ZX          19  Vir-ZY          20  Vir-ZZ        \n",
      " 21  Pres-XX         22  Pres-XY         23  Pres-XZ         24  Pres-YX       \n",
      " 25  Pres-YY         26  Pres-YZ         27  Pres-ZX         28  Pres-ZY       \n",
      " 29  Pres-ZZ         30  #Surf*SurfTen   31  T-rest        \n",
      "\n",
      "Last energy frame read 555 time  701.000          \n",
      "\n",
      "Statistics over 702 steps [ 0.0000 through 701.0000 ps ], 1 data sets\n",
      "All statistics are over 556 points (frames)\n",
      "\n",
      "Energy                      Average   Err.Est.       RMSD  Tot-Drift\n",
      "-------------------------------------------------------------------------------\n",
      "Potential                   -555924      12000    28764.5   -75931.6  (kJ/mol)\n",
      "\n",
      "gcq#330: \"Ohne Arbeit waer das Leben oede\" (Wir Sind Helden)\n",
      "\n"
     ]
    }
   ],
   "source": [
    "!printf \"10 0\" | gmx energy -f em.edr -o potential.xvg\n",
    "# 10 is potential, please check the number in your version of Gromacs\n",
    "# gmx energy - basic thermodynamic properties of the system"
   ]
  },
  {
   "cell_type": "code",
   "execution_count": 65,
   "metadata": {},
   "outputs": [],
   "source": [
    "potential = np.genfromtxt([i for i in open('potential.xvg').read().splitlines() \n",
    "    if not i.startswith(('#','@'))])"
   ]
  },
  {
   "cell_type": "code",
   "execution_count": 68,
   "metadata": {},
   "outputs": [
    {
     "data": {
      "text/plain": [
       "Text(0, 0.5, 'potential')"
      ]
     },
     "execution_count": 68,
     "metadata": {},
     "output_type": "execute_result"
    },
    {
     "data": {
      "image/png": "[encoded data removed]",
      "text/plain": [
       "<Figure size 432x288 with 1 Axes>"
      ]
     },
     "metadata": {
      "needs_background": "light"
     },
     "output_type": "display_data"
    }
   ],
   "source": [
    "plt.plot(*potential.T)\n",
    "plt.xlabel('step')\n",
    "plt.ylabel('potential')"
   ]
  },
  {
   "cell_type": "markdown",
   "metadata": {},
   "source": [
    "### Equilibration Steps - NVT"
   ]
  },
  {
   "cell_type": "code",
   "execution_count": null,
   "metadata": {},
   "outputs": [],
   "source": [
    "#!gmx grompp -f nvt.mdp -c em.gro -r em.gro -p topol.top -o nvt.tpr\n",
    "# Uncomment above line if you want to run as a normal gmx command and do not execute next cell"
   ]
  },
  {
   "cell_type": "code",
   "execution_count": 72,
   "metadata": {},
   "outputs": [
    {
     "data": {
      "text/plain": [
       "(0, None, None)"
      ]
     },
     "execution_count": 72,
     "metadata": {},
     "output_type": "execute_result"
    }
   ],
   "source": [
    "gromacs.grompp(f=\"nvt.mdp\", c=\"em.gro\", r=\"em.gro\", p=\"topol.top\", o=\"nvt.tpr\")"
   ]
  },
  {
   "cell_type": "code",
   "execution_count": null,
   "metadata": {},
   "outputs": [],
   "source": [
    "#!gmx mdrun -v -deffnm nvt -nt 2\n",
    "# Uncomment above line if you want to run as a normal gmx command and do not execute next cell"
   ]
  },
  {
   "cell_type": "code",
   "execution_count": null,
   "metadata": {},
   "outputs": [],
   "source": [
    "gromacs.mdrun(v=True, deffnm=\"nvt\", nt=\"2\")"
   ]
  },
  {
   "cell_type": "code",
   "execution_count": null,
   "metadata": {},
   "outputs": [],
   "source": [
    "#!gmx mdrun -v -deffnm nvt -cpi nvt.cpt -nt 2\n",
    "# Uncomment above line if you want to run as a normal gmx command and do not execute next cell\n",
    "# If mdrun gets interrupted, you could restart by excuting this cell (uncomment) "
   ]
  },
  {
   "cell_type": "code",
   "execution_count": 77,
   "metadata": {},
   "outputs": [
    {
     "data": {
      "text/plain": [
       "(0, None, None)"
      ]
     },
     "execution_count": 77,
     "metadata": {},
     "output_type": "execute_result"
    }
   ],
   "source": [
    "#gromacs.mdrun(v=\"yes\", deffnm=\"nvt\", cpi=\"nvt.cpt\", nt=\"2\")\n",
    "# If mdrun gets interrupted, you could restart by excuting this cell (uncomment) "
   ]
  },
  {
   "cell_type": "code",
   "execution_count": 89,
   "metadata": {},
   "outputs": [
    {
     "name": "stdout",
     "output_type": "stream",
     "text": [
      "libc++abi.dylib: terminating with uncaught exception of type std::runtime_error: Couldn't close file\r\n"
     ]
    }
   ],
   "source": [
    "!printf \"15 0\" | gmx energy -f nvt.edr -o temperature.xvg\n",
    "# 15 is temperature, please check the number in your version of Gromacs\n",
    "# gmx energy basic thermodynamic properties of the system"
   ]
  },
  {
   "cell_type": "code",
   "execution_count": 87,
   "metadata": {},
   "outputs": [],
   "source": [
    "temperature = np.genfromtxt([i for i in open('temperature.xvg').read().splitlines() \n",
    "    if not i.startswith(('#','@'))])"
   ]
  },
  {
   "cell_type": "code",
   "execution_count": 88,
   "metadata": {},
   "outputs": [
    {
     "data": {
      "text/plain": [
       "Text(0, 0.5, 'temperature')"
      ]
     },
     "execution_count": 88,
     "metadata": {},
     "output_type": "execute_result"
    },
    {
     "data": {
      "image/png": "[encoded data removed]",
      "text/plain": [
       "<Figure size 432x288 with 1 Axes>"
      ]
     },
     "metadata": {
      "needs_background": "light"
     },
     "output_type": "display_data"
    }
   ],
   "source": [
    "plt.plot(*temperature.T)\n",
    "plt.xlabel('time-ps')\n",
    "plt.ylabel('temperature')"
   ]
  },
  {
   "cell_type": "markdown",
   "metadata": {},
   "source": [
    "### Equilibration Steps - NPT"
   ]
  },
  {
   "cell_type": "code",
   "execution_count": 83,
   "metadata": {},
   "outputs": [
    {
     "name": "stdout",
     "output_type": "stream",
     "text": [
      "                  :-) GROMACS - gmx grompp, VERSION 5.1.4 (-:\n",
      "\n",
      "                            GROMACS is written by:\n",
      "     Emile Apol      Rossen Apostolov  Herman J.C. Berendsen    Par Bjelkmar   \n",
      " Aldert van Buuren   Rudi van Drunen     Anton Feenstra   Sebastian Fritsch \n",
      "  Gerrit Groenhof   Christoph Junghans   Anca Hamuraru    Vincent Hindriksen\n",
      " Dimitrios Karkoulis    Peter Kasson        Jiri Kraus      Carsten Kutzner  \n",
      "    Per Larsson      Justin A. Lemkul   Magnus Lundborg   Pieter Meulenhoff \n",
      "   Erik Marklund      Teemu Murtola       Szilard Pall       Sander Pronk   \n",
      "   Roland Schulz     Alexey Shvetsov     Michael Shirts     Alfons Sijbers  \n",
      "   Peter Tieleman    Teemu Virolainen  Christian Wennberg    Maarten Wolf   \n",
      "                           and the project leaders:\n",
      "        Mark Abraham, Berk Hess, Erik Lindahl, and David van der Spoel\n",
      "\n",
      "Copyright (c) 1991-2000, University of Groningen, The Netherlands.\n",
      "Copyright (c) 2001-2015, The GROMACS development team at\n",
      "Uppsala University, Stockholm University and\n",
      "the Royal Institute of Technology, Sweden.\n",
      "check out http://www.gromacs.org for more information.\n",
      "\n",
      "GROMACS is free software; you can redistribute it and/or modify it\n",
      "under the terms of the GNU Lesser General Public License\n",
      "as published by the Free Software Foundation; either version 2.1\n",
      "of the License, or (at your option) any later version.\n",
      "\n",
      "GROMACS:      gmx grompp, VERSION 5.1.4\n",
      "Executable:   /usr/local/bin/gmx\n",
      "Data prefix:  /usr/local\n",
      "Command line:\n",
      "  gmx grompp -f npt.mdp -c nvt.gro -r nvt.gro -t nvt.cpt -p topol.top -o npt.tpr\n",
      "\n",
      "Ignoring obsolete mdp entry 'title'\n",
      "\n",
      "Back Off! I just backed up mdout.mdp to ./#mdout.mdp.2#\n",
      "Setting the LD random seed to 2111851550\n",
      "Generated 2211 of the 2211 non-bonded parameter combinations\n",
      "Generating 1-4 interactions: fudge = 0.5\n",
      "Generated 2211 of the 2211 1-4 parameter combinations\n",
      "Excluding 3 bonded neighbours molecule type 'Protein_chain_A'\n",
      "turning H bonds into constraints...\n",
      "Excluding 2 bonded neighbours molecule type 'SOL'\n",
      "turning H bonds into constraints...\n",
      "Excluding 1 bonded neighbours molecule type 'CL'\n",
      "turning H bonds into constraints...\n",
      "Removing all charge groups because cutoff-scheme=Verlet\n",
      "The center of mass of the position restraint coord's is  3.488  3.520  3.501\n",
      "The center of mass of the position restraint coord's is  3.488  3.520  3.501\n",
      "Analysing residue names:\n",
      "There are:   129    Protein residues\n",
      "There are: 10636      Water residues\n",
      "There are:     8        Ion residues\n",
      "Analysing Protein...\n",
      "Analysing residues not classified as Protein/DNA/RNA/Water and splitting into groups...\n",
      "Number of degrees of freedom in T-Coupling group Protein is 4920.79\n",
      "Number of degrees of freedom in T-Coupling group non-Protein is 63837.21\n",
      "Determining Verlet buffer for a tolerance of 0.005 kJ/mol/ps at 300 K\n",
      "Calculated rlist for 1x1 atom pair-list as 1.035 nm, buffer size 0.035 nm\n",
      "Set rlist, assuming 4x4 atom pair-list, to 1.000 nm, buffer size 0.000 nm\n",
      "Note that mdrun will redetermine rlist based on the actual pair-list setup\n",
      "Reading Coordinates, Velocities and Box size from old trajectory\n",
      "Will read whole trajectory\n",
      "Last frame         -1 time  100.000   \n",
      "Using frame at t = 100 ps\n",
      "Starting time for run is 0 ps\n",
      "Calculating fourier grid dimensions for X Y Z\n",
      "Using a fourier grid of 44x44x44, spacing 0.159 0.159 0.159\n",
      "Estimate for the relative computational load of the PME mesh part: 0.22\n",
      "This run will generate roughly 11 Mb of data\n",
      "\n",
      "gcq#507: \"It seems likely that significant software contributions to existing scientific software projects are not likely to be rewarded through the traditional reputation economy of science. Together these factors provide a reason to expect the over-production of independent scientific software packages, and the underproduction of collaborative projects in which later academics build on the work of earlier ones.\" (Howison & Herbsleb)\n",
      "\n"
     ]
    }
   ],
   "source": [
    "#!gmx grompp -f npt.mdp -c nvt.gro -r nvt.gro -t nvt.cpt -p topol.top -o npt.tpr\n",
    "# Uncomment above line if you want to run as a normal gmx command and do not execute next cell"
   ]
  },
  {
   "cell_type": "code",
   "execution_count": null,
   "metadata": {},
   "outputs": [],
   "source": [
    "gromacs.grompp(f=\"npt.mdp\", c=\"nvt.gro\", r=\"nvt.gro\", p=\"topol.top\", o=\"npt.tpr\")"
   ]
  },
  {
   "cell_type": "code",
   "execution_count": 84,
   "metadata": {},
   "outputs": [
    {
     "name": "stdout",
     "output_type": "stream",
     "text": [
      "                   :-) GROMACS - gmx mdrun, VERSION 5.1.4 (-:\n",
      "\n",
      "                            GROMACS is written by:\n",
      "     Emile Apol      Rossen Apostolov  Herman J.C. Berendsen    Par Bjelkmar   \n",
      " Aldert van Buuren   Rudi van Drunen     Anton Feenstra   Sebastian Fritsch \n",
      "  Gerrit Groenhof   Christoph Junghans   Anca Hamuraru    Vincent Hindriksen\n",
      " Dimitrios Karkoulis    Peter Kasson        Jiri Kraus      Carsten Kutzner  \n",
      "    Per Larsson      Justin A. Lemkul   Magnus Lundborg   Pieter Meulenhoff \n",
      "   Erik Marklund      Teemu Murtola       Szilard Pall       Sander Pronk   \n",
      "   Roland Schulz     Alexey Shvetsov     Michael Shirts     Alfons Sijbers  \n",
      "   Peter Tieleman    Teemu Virolainen  Christian Wennberg    Maarten Wolf   \n",
      "                           and the project leaders:\n",
      "        Mark Abraham, Berk Hess, Erik Lindahl, and David van der Spoel\n",
      "\n",
      "Copyright (c) 1991-2000, University of Groningen, The Netherlands.\n",
      "Copyright (c) 2001-2015, The GROMACS development team at\n",
      "Uppsala University, Stockholm University and\n",
      "the Royal Institute of Technology, Sweden.\n",
      "check out http://www.gromacs.org for more information.\n",
      "\n",
      "GROMACS is free software; you can redistribute it and/or modify it\n",
      "under the terms of the GNU Lesser General Public License\n",
      "as published by the Free Software Foundation; either version 2.1\n",
      "of the License, or (at your option) any later version.\n",
      "\n",
      "GROMACS:      gmx mdrun, VERSION 5.1.4\n",
      "Executable:   /usr/local/bin/gmx\n",
      "Data prefix:  /usr/local\n",
      "Command line:\n",
      "  gmx mdrun -v -deffnm npt -nt 2\n",
      "\n",
      "\n",
      "Running on 1 node with total 8 logical cores\n",
      "Hardware detected:\n",
      "  CPU info:\n",
      "    Vendor: GenuineIntel\n",
      "    Brand:  Intel(R) Core(TM) i7-4980HQ CPU @ 2.80GHz\n",
      "    SIMD instructions most likely to fit this hardware: AVX2_256\n",
      "    SIMD instructions selected at GROMACS compile time: AVX2_256\n",
      "\n",
      "Reading file npt.tpr, VERSION 5.1.4 (single precision)\n",
      "Changing nstlist from 10 to 20, rlist from 1 to 1.029\n",
      "\n",
      "Using 2 MPI threads\n",
      "starting mdrun 'LYSOZYME in water'\n",
      "5000 steps,     10.0 ps.\n",
      "step 1300, will finish Thu May  7 00:48:07 2020mb F  1% imb F  1% imb F  1% imb F  1% imb F  0% imb F  1% imb F  0% imb F  0% imb F  0% imb F  0% imb F  1% imb F  0% ^C\n"
     ]
    }
   ],
   "source": [
    "#!gmx mdrun -v -deffnm npt -nt 2\n",
    "# Uncomment above line if you want to run as a normal gmx command and do not execute next cell"
   ]
  },
  {
   "cell_type": "code",
   "execution_count": null,
   "metadata": {},
   "outputs": [],
   "source": [
    "gromacs.mdrun(v=True, deffnm=\"npt\", nt=\"2\")"
   ]
  },
  {
   "cell_type": "code",
   "execution_count": 1,
   "metadata": {},
   "outputs": [
    {
     "name": "stdout",
     "output_type": "stream",
     "text": [
      "                   :-) GROMACS - gmx mdrun, VERSION 5.1.4 (-:\n",
      "\n",
      "                            GROMACS is written by:\n",
      "     Emile Apol      Rossen Apostolov  Herman J.C. Berendsen    Par Bjelkmar   \n",
      " Aldert van Buuren   Rudi van Drunen     Anton Feenstra   Sebastian Fritsch \n",
      "  Gerrit Groenhof   Christoph Junghans   Anca Hamuraru    Vincent Hindriksen\n",
      " Dimitrios Karkoulis    Peter Kasson        Jiri Kraus      Carsten Kutzner  \n",
      "    Per Larsson      Justin A. Lemkul   Magnus Lundborg   Pieter Meulenhoff \n",
      "   Erik Marklund      Teemu Murtola       Szilard Pall       Sander Pronk   \n",
      "   Roland Schulz     Alexey Shvetsov     Michael Shirts     Alfons Sijbers  \n",
      "   Peter Tieleman    Teemu Virolainen  Christian Wennberg    Maarten Wolf   \n",
      "                           and the project leaders:\n",
      "        Mark Abraham, Berk Hess, Erik Lindahl, and David van der Spoel\n",
      "\n",
      "Copyright (c) 1991-2000, University of Groningen, The Netherlands.\n",
      "Copyright (c) 2001-2015, The GROMACS development team at\n",
      "Uppsala University, Stockholm University and\n",
      "the Royal Institute of Technology, Sweden.\n",
      "check out http://www.gromacs.org for more information.\n",
      "\n",
      "GROMACS is free software; you can redistribute it and/or modify it\n",
      "under the terms of the GNU Lesser General Public License\n",
      "as published by the Free Software Foundation; either version 2.1\n",
      "of the License, or (at your option) any later version.\n",
      "\n",
      "GROMACS:      gmx mdrun, VERSION 5.1.4\n",
      "Executable:   /usr/local/bin/gmx\n",
      "Data prefix:  /usr/local\n",
      "Command line:\n",
      "  gmx mdrun -v -deffnm npt -cpi npt.cpt -nt 3\n",
      "\n",
      "No previous checkpoint file present, assuming this is a new run.\n",
      "\n",
      "Back Off! I just backed up npt.log to ./#npt.log.1#\n",
      "\n",
      "Running on 1 node with total 8 logical cores\n",
      "Hardware detected:\n",
      "  CPU info:\n",
      "    Vendor: GenuineIntel\n",
      "    Brand:  Intel(R) Core(TM) i7-4980HQ CPU @ 2.80GHz\n",
      "    SIMD instructions most likely to fit this hardware: AVX2_256\n",
      "    SIMD instructions selected at GROMACS compile time: AVX2_256\n",
      "\n",
      "Reading file npt.tpr, VERSION 5.1.4 (single precision)\n",
      "Changing nstlist from 10 to 20, rlist from 1 to 1.029\n",
      "\n",
      "Using 3 MPI threads\n",
      "\n",
      "Back Off! I just backed up npt.trr to ./#npt.trr.1#\n",
      "\n",
      "Back Off! I just backed up npt.edr to ./#npt.edr.1#\n",
      "starting mdrun 'LYSOZYME in water'\n",
      "5000 steps,     10.0 ps.\n",
      "step 0\n",
      "NOTE: Turning on dynamic load balancing\n",
      "\n",
      "step 4900, remaining wall clock time:    21 s           imb F  0% vol 0.96  imb F  0% vol 0.96  imb F  0% vol 0.97  imb F  1% vol 0.97  imb F  0% vol 0.97  imb F  0% vol 0.97  imb F  0% vol 0.97  imb F  0% vol 0.97  imb F  0% vol 0.97  imb F  0% vol 0.97  imb F  0% vol 0.97  imb F  1% vol 0.97  imb F  1% vol 0.97  imb F  0% vol 0.97  imb F  0% vol 0.97  imb F  1% vol 0.97  imb F  0% vol 0.97  imb F  0% vol 0.97  imb F  0% vol 0.97  imb F  0% vol 0.97  imb F  0% vol 0.97  imb F  0% vol 0.97  imb F  1% vol 0.97  imb F  0% vol 0.98  imb F  0% vol 0.98  imb F  0% vol 0.98  imb F  0% vol 0.99  imb F  0% vol 0.98  imb F  0% vol 0.98  imb F  0% vol 0.98  imb F  1% vol 0.98  imb F  1% vol 0.98  imb F  0% vol 0.98  imb F  0% vol 0.98  imb F  0% vol 0.98  imb F  0% vol 0.98  imb F  0% vol 0.98  imb F  0% vol 0.98  imb F  0% vol 0.97  imb F  0% vol 0.98  imb F  0% vol 0.98  imb F  0% vol 0.97  imb F  0% vol 0.98  imb F  0% vol 0.97  imb F  0% vol 0.97  imb F  1% vol 0.98  imb F  0% vol 0.98  imb F  0% vol 0.98  imb F  0% \n",
      "Writing final coordinates.\n",
      "step 5000, remaining wall clock time:     0 s          \n",
      " Average load imbalance: 0.4 %\n",
      " Part of the total run time spent waiting due to load imbalance: 0.3 %\n",
      " Steps where the load balancing was limited by -rdd, -rcon and/or -dds: X 0 %\n",
      "\n",
      "\n",
      "               Core t (s)   Wall t (s)        (%)\n",
      "       Time:     3216.777     1072.259      300.0\n",
      "                 (ns/day)    (hour/ns)\n",
      "Performance:        0.806       29.779\n",
      "\n",
      "gcq#372: \"The future still looks good, and you've got time to rectify all the things that you should\" (G. Harrison)\n",
      "\n"
     ]
    }
   ],
   "source": [
    "#!gmx mdrun -v -deffnm npt -cpi npt.cpt -nt 3\n",
    "# Uncomment above line if you want to run as a normal gmx command and do not execute next cell\n",
    "# If mdrun gets interrupted, you could restart by excuting this cell (uncomment) "
   ]
  },
  {
   "cell_type": "code",
   "execution_count": 9,
   "metadata": {},
   "outputs": [
    {
     "name": "stdout",
     "output_type": "stream",
     "text": [
      "                  :-) GROMACS - gmx energy, VERSION 5.1.4 (-:\r\n",
      "\r\n",
      "                            GROMACS is written by:\r\n",
      "     Emile Apol      Rossen Apostolov  Herman J.C. Berendsen    Par Bjelkmar   \r\n",
      " Aldert van Buuren   Rudi van Drunen     Anton Feenstra   Sebastian Fritsch \r\n",
      "  Gerrit Groenhof   Christoph Junghans   Anca Hamuraru    Vincent Hindriksen\r\n",
      " Dimitrios Karkoulis    Peter Kasson        Jiri Kraus      Carsten Kutzner  \r\n",
      "    Per Larsson      Justin A. Lemkul   Magnus Lundborg   Pieter Meulenhoff \r\n",
      "   Erik Marklund      Teemu Murtola       Szilard Pall       Sander Pronk   \r\n",
      "   Roland Schulz     Alexey Shvetsov     Michael Shirts     Alfons Sijbers  \r\n",
      "   Peter Tieleman    Teemu Virolainen  Christian Wennberg    Maarten Wolf   \r\n",
      "                           and the project leaders:\r\n",
      "        Mark Abraham, Berk Hess, Erik Lindahl, and David van der Spoel\r\n",
      "\r\n",
      "Copyright (c) 1991-2000, University of Groningen, The Netherlands.\r\n",
      "Copyright (c) 2001-2015, The GROMACS development team at\r\n",
      "Uppsala University, Stockholm University and\r\n",
      "the Royal Institute of Technology, Sweden.\r\n",
      "check out http://www.gromacs.org for more information.\r\n",
      "\r\n",
      "GROMACS is free software; you can redistribute it and/or modify it\r\n",
      "under the terms of the GNU Lesser General Public License\r\n",
      "as published by the Free Software Foundation; either version 2.1\r\n",
      "of the License, or (at your option) any later version.\r\n",
      "\r\n",
      "GROMACS:      gmx energy, VERSION 5.1.4\r\n",
      "Executable:   /usr/local/bin/gmx\r\n",
      "Data prefix:  /usr/local\r\n",
      "Command line:\r\n",
      "  gmx energy -f npt.edr -o pressure.xvg\r\n",
      "\r\n",
      "Opened npt.edr as single precision energy file\r\n",
      "\r\n",
      "Select the terms you want from the following list by\r\n",
      "selecting either (part of) the name or the number or a combination.\r\n",
      "End your selection with an empty line or a zero.\r\n",
      "-------------------------------------------------------------------\r\n",
      "  1  Bond             2  Angle            3  Proper-Dih.      4  Improper-Dih. \r\n",
      "  5  LJ-14            6  Coulomb-14       7  LJ-(SR)          8  Disper.-corr. \r\n",
      "  9  Coulomb-(SR)    10  Coul.-recip.    11  Position-Rest.  12  Potential     \r\n",
      " 13  Kinetic-En.     14  Total-Energy    15  Temperature     16  Pres.-DC      \r\n",
      " 17  Pressure        18  Constr.-rmsd    19  Box-X           20  Box-Y         \r\n",
      " 21  Box-Z           22  Volume          23  Density         24  pV            \r\n",
      " 25  Enthalpy        26  Vir-XX          27  Vir-XY          28  Vir-XZ        \r\n",
      " 29  Vir-YX          30  Vir-YY          31  Vir-YZ          32  Vir-ZX        \r\n",
      " 33  Vir-ZY          34  Vir-ZZ          35  Pres-XX         36  Pres-XY       \r\n",
      " 37  Pres-XZ         38  Pres-YX         39  Pres-YY         40  Pres-YZ       \r\n",
      " 41  Pres-ZX         42  Pres-ZY         43  Pres-ZZ         44  #Surf*SurfTen \r\n",
      " 45  Box-Vel-XX      46  Box-Vel-YY      47  Box-Vel-ZZ      48  T-Protein     \r\n",
      " 49  T-non-Protein                       50  Lamb-Protein                      \r\n",
      " 51  Lamb-non-Protein                  \r\n",
      "\r\n",
      "\r",
      "Reading energy frame      0 time    0.000         \r",
      "Reading energy frame      1 time    1.000         \r",
      "Reading energy frame      2 time    2.000         \r",
      "Reading energy frame      3 time    3.000         \r",
      "Reading energy frame      4 time    4.000         \r",
      "Reading energy frame      5 time    5.000         \r",
      "Reading energy frame      6 time    6.000         \r",
      "Reading energy frame      7 time    7.000         \r",
      "Reading energy frame      8 time    8.000         \r",
      "Reading energy frame      9 time    9.000         \r",
      "Reading energy frame     10 time   10.000         \r",
      "Last energy frame read 10 time   10.000         \r\n",
      "\r\n",
      "Statistics over 5001 steps [ 0.0000 through 10.0000 ps ], 1 data sets\r\n",
      "All statistics are over 51 points\r\n",
      "\r\n",
      "Energy                      Average   Err.Est.       RMSD  Tot-Drift\r\n",
      "-------------------------------------------------------------------------------\r\n",
      "Pressure                    11.3609         11    162.542   -64.0696  (bar)\r\n",
      "\r\n",
      "gcq#196: \"Garbage Collecting...\" (GNU Emacs)\r\n",
      "\r\n"
     ]
    }
   ],
   "source": [
    "!printf \"17 0\" | gmx energy -f npt.edr -o pressure.xvg\n",
    "# gmx energy basic thermodynamic properties of the system"
   ]
  },
  {
   "cell_type": "code",
   "execution_count": 13,
   "metadata": {},
   "outputs": [],
   "source": [
    "pressure = np.genfromtxt([i for i in open('pressure.xvg').read().splitlines() \n",
    "    if not i.startswith(('#','@'))])"
   ]
  },
  {
   "cell_type": "code",
   "execution_count": 14,
   "metadata": {},
   "outputs": [
    {
     "data": {
      "text/plain": [
       "Text(0, 0.5, 'pressure')"
      ]
     },
     "execution_count": 14,
     "metadata": {},
     "output_type": "execute_result"
    },
    {
     "data": {
      "image/png": "[encoded data removed]",
      "text/plain": [
       "<Figure size 432x288 with 1 Axes>"
      ]
     },
     "metadata": {
      "needs_background": "light"
     },
     "output_type": "display_data"
    }
   ],
   "source": [
    "plt.plot(*pressure.T)\n",
    "plt.xlabel('time-ps')\n",
    "plt.ylabel('pressure')"
   ]
  },
  {
   "cell_type": "code",
   "execution_count": 16,
   "metadata": {},
   "outputs": [
    {
     "name": "stdout",
     "output_type": "stream",
     "text": [
      "                  :-) GROMACS - gmx energy, VERSION 5.1.4 (-:\r\n",
      "\r\n",
      "                            GROMACS is written by:\r\n",
      "     Emile Apol      Rossen Apostolov  Herman J.C. Berendsen    Par Bjelkmar   \r\n",
      " Aldert van Buuren   Rudi van Drunen     Anton Feenstra   Sebastian Fritsch \r\n",
      "  Gerrit Groenhof   Christoph Junghans   Anca Hamuraru    Vincent Hindriksen\r\n",
      " Dimitrios Karkoulis    Peter Kasson        Jiri Kraus      Carsten Kutzner  \r\n",
      "    Per Larsson      Justin A. Lemkul   Magnus Lundborg   Pieter Meulenhoff \r\n",
      "   Erik Marklund      Teemu Murtola       Szilard Pall       Sander Pronk   \r\n",
      "   Roland Schulz     Alexey Shvetsov     Michael Shirts     Alfons Sijbers  \r\n",
      "   Peter Tieleman    Teemu Virolainen  Christian Wennberg    Maarten Wolf   \r\n",
      "                           and the project leaders:\r\n",
      "        Mark Abraham, Berk Hess, Erik Lindahl, and David van der Spoel\r\n",
      "\r\n",
      "Copyright (c) 1991-2000, University of Groningen, The Netherlands.\r\n",
      "Copyright (c) 2001-2015, The GROMACS development team at\r\n",
      "Uppsala University, Stockholm University and\r\n",
      "the Royal Institute of Technology, Sweden.\r\n",
      "check out http://www.gromacs.org for more information.\r\n",
      "\r\n",
      "GROMACS is free software; you can redistribute it and/or modify it\r\n",
      "under the terms of the GNU Lesser General Public License\r\n",
      "as published by the Free Software Foundation; either version 2.1\r\n",
      "of the License, or (at your option) any later version.\r\n",
      "\r\n",
      "GROMACS:      gmx energy, VERSION 5.1.4\r\n",
      "Executable:   /usr/local/bin/gmx\r\n",
      "Data prefix:  /usr/local\r\n",
      "Command line:\r\n",
      "  gmx energy -f npt.edr -o density.xvg\r\n",
      "\r\n",
      "Opened npt.edr as single precision energy file\r\n",
      "\r\n",
      "Select the terms you want from the following list by\r\n",
      "selecting either (part of) the name or the number or a combination.\r\n",
      "End your selection with an empty line or a zero.\r\n",
      "-------------------------------------------------------------------\r\n",
      "  1  Bond             2  Angle            3  Proper-Dih.      4  Improper-Dih. \r\n",
      "  5  LJ-14            6  Coulomb-14       7  LJ-(SR)          8  Disper.-corr. \r\n",
      "  9  Coulomb-(SR)    10  Coul.-recip.    11  Position-Rest.  12  Potential     \r\n",
      " 13  Kinetic-En.     14  Total-Energy    15  Temperature     16  Pres.-DC      \r\n",
      " 17  Pressure        18  Constr.-rmsd    19  Box-X           20  Box-Y         \r\n",
      " 21  Box-Z           22  Volume          23  Density         24  pV            \r\n",
      " 25  Enthalpy        26  Vir-XX          27  Vir-XY          28  Vir-XZ        \r\n",
      " 29  Vir-YX          30  Vir-YY          31  Vir-YZ          32  Vir-ZX        \r\n",
      " 33  Vir-ZY          34  Vir-ZZ          35  Pres-XX         36  Pres-XY       \r\n",
      " 37  Pres-XZ         38  Pres-YX         39  Pres-YY         40  Pres-YZ       \r\n",
      " 41  Pres-ZX         42  Pres-ZY         43  Pres-ZZ         44  #Surf*SurfTen \r\n",
      " 45  Box-Vel-XX      46  Box-Vel-YY      47  Box-Vel-ZZ      48  T-Protein     \r\n",
      " 49  T-non-Protein                       50  Lamb-Protein                      \r\n",
      " 51  Lamb-non-Protein                  \r\n",
      "\r\n",
      "\r",
      "Reading energy frame      0 time    0.000         \r",
      "Reading energy frame      1 time    1.000         \r",
      "Reading energy frame      2 time    2.000         \r",
      "Reading energy frame      3 time    3.000         \r",
      "Reading energy frame      4 time    4.000         \r",
      "Reading energy frame      5 time    5.000         \r",
      "Reading energy frame      6 time    6.000         \r",
      "Reading energy frame      7 time    7.000         \r",
      "Reading energy frame      8 time    8.000         \r",
      "Reading energy frame      9 time    9.000         \r",
      "Reading energy frame     10 time   10.000         \r",
      "Last energy frame read 10 time   10.000         \r\n",
      "\r\n",
      "Statistics over 5001 steps [ 0.0000 through 10.0000 ps ], 1 data sets\r\n",
      "All statistics are over 51 points\r\n",
      "\r\n",
      "Energy                      Average   Err.Est.       RMSD  Tot-Drift\r\n",
      "-------------------------------------------------------------------------------\r\n",
      "Density                     1016.29        1.9    5.46234    10.9476  (kg/m^3)\r\n",
      "\r\n",
      "gcq#478: \"FORTRAN, the infantile disorder, by now nearly 20 years old, is hopelessly inadequate for whatever computer application you have in mind today: it is now too clumsy, too risky, and too expensive to use.\" (Edsger Dijkstra, 1970)\r\n",
      "\r\n"
     ]
    }
   ],
   "source": [
    "!printf \"23 0\" | gmx energy -f npt.edr -o density.xvg\n",
    "# gmx energy basic thermodynamic properties of the system"
   ]
  },
  {
   "cell_type": "code",
   "execution_count": 17,
   "metadata": {},
   "outputs": [],
   "source": [
    "density = np.genfromtxt([i for i in open('density.xvg').read().splitlines() \n",
    "    if not i.startswith(('#','@'))])"
   ]
  },
  {
   "cell_type": "code",
   "execution_count": 18,
   "metadata": {},
   "outputs": [
    {
     "data": {
      "text/plain": [
       "Text(0, 0.5, 'density')"
      ]
     },
     "execution_count": 18,
     "metadata": {},
     "output_type": "execute_result"
    },
    {
     "data": {
      "image/png": "[encoded data removed]",
      "text/plain": [
       "<Figure size 432x288 with 1 Axes>"
      ]
     },
     "metadata": {
      "needs_background": "light"
     },
     "output_type": "display_data"
    }
   ],
   "source": [
    "plt.plot(*density.T)\n",
    "plt.xlabel('time-ps')\n",
    "plt.ylabel('density')"
   ]
  },
  {
   "cell_type": "markdown",
   "metadata": {},
   "source": [
    "#### Position-restrained equilibration\n",
    "####### Optional w.r.t npt and nvt"
   ]
  },
  {
   "cell_type": "code",
   "execution_count": null,
   "metadata": {},
   "outputs": [],
   "source": [
    "!gmx grompp -f posres.mdp -c npt.gro -p topol.top -o posres.tpr -maxwarn 2"
   ]
  },
  {
   "cell_type": "code",
   "execution_count": null,
   "metadata": {},
   "outputs": [],
   "source": [
    "!gmx mdrun -v -deffnm posres -nt 2\n",
    "#-stepout 10 -s posres.tpr   -c posres.pdb"
   ]
  },
  {
   "cell_type": "code",
   "execution_count": null,
   "metadata": {},
   "outputs": [],
   "source": [
    "echo \"System\" | gmx trjconv -ur compact -s posres.tpr -f posres.xtc -pbc mol -o posres_ur.xtc"
   ]
  },
  {
   "cell_type": "code",
   "execution_count": null,
   "metadata": {},
   "outputs": [],
   "source": [
    "%qtconsole\n",
    "!vmd nvt.gro\n",
    "#../emin/em.pdb posres_ur.xtc"
   ]
  },
  {
   "cell_type": "markdown",
   "metadata": {},
   "source": [
    "### Equilibrium molecular dynamics - Production MD run"
   ]
  },
  {
   "cell_type": "code",
   "execution_count": 24,
   "metadata": {
    "scrolled": true
   },
   "outputs": [
    {
     "name": "stdout",
     "output_type": "stream",
     "text": [
      "                  :-) GROMACS - gmx grompp, VERSION 5.1.4 (-:\n",
      "\n",
      "                            GROMACS is written by:\n",
      "     Emile Apol      Rossen Apostolov  Herman J.C. Berendsen    Par Bjelkmar   \n",
      " Aldert van Buuren   Rudi van Drunen     Anton Feenstra   Sebastian Fritsch \n",
      "  Gerrit Groenhof   Christoph Junghans   Anca Hamuraru    Vincent Hindriksen\n",
      " Dimitrios Karkoulis    Peter Kasson        Jiri Kraus      Carsten Kutzner  \n",
      "    Per Larsson      Justin A. Lemkul   Magnus Lundborg   Pieter Meulenhoff \n",
      "   Erik Marklund      Teemu Murtola       Szilard Pall       Sander Pronk   \n",
      "   Roland Schulz     Alexey Shvetsov     Michael Shirts     Alfons Sijbers  \n",
      "   Peter Tieleman    Teemu Virolainen  Christian Wennberg    Maarten Wolf   \n",
      "                           and the project leaders:\n",
      "        Mark Abraham, Berk Hess, Erik Lindahl, and David van der Spoel\n",
      "\n",
      "Copyright (c) 1991-2000, University of Groningen, The Netherlands.\n",
      "Copyright (c) 2001-2015, The GROMACS development team at\n",
      "Uppsala University, Stockholm University and\n",
      "the Royal Institute of Technology, Sweden.\n",
      "check out http://www.gromacs.org for more information.\n",
      "\n",
      "GROMACS is free software; you can redistribute it and/or modify it\n",
      "under the terms of the GNU Lesser General Public License\n",
      "as published by the Free Software Foundation; either version 2.1\n",
      "of the License, or (at your option) any later version.\n",
      "\n",
      "GROMACS:      gmx grompp, VERSION 5.1.4\n",
      "Executable:   /usr/local/bin/gmx\n",
      "Data prefix:  /usr/local\n",
      "Command line:\n",
      "  gmx grompp -f md.mdp -c npt.gro -t npt.cpt -p topol.top -o md01.tpr\n",
      "\n",
      "Ignoring obsolete mdp entry 'title'\n",
      "\n",
      "Back Off! I just backed up mdout.mdp to ./#mdout.mdp.4#\n",
      "Setting the LD random seed to 292882788\n",
      "Generated 2211 of the 2211 non-bonded parameter combinations\n",
      "Generating 1-4 interactions: fudge = 0.5\n",
      "Generated 2211 of the 2211 1-4 parameter combinations\n",
      "Excluding 3 bonded neighbours molecule type 'Protein_chain_A'\n",
      "turning H bonds into constraints...\n",
      "Excluding 2 bonded neighbours molecule type 'SOL'\n",
      "turning H bonds into constraints...\n",
      "Excluding 1 bonded neighbours molecule type 'CL'\n",
      "turning H bonds into constraints...\n",
      "Removing all charge groups because cutoff-scheme=Verlet\n",
      "Analysing residue names:\n",
      "There are:   129    Protein residues\n",
      "There are: 10636      Water residues\n",
      "There are:     8        Ion residues\n",
      "Analysing Protein...\n",
      "Analysing residues not classified as Protein/DNA/RNA/Water and splitting into groups...\n",
      "Number of degrees of freedom in T-Coupling group Protein is 4920.79\n",
      "Number of degrees of freedom in T-Coupling group non-Protein is 63837.21\n",
      "Determining Verlet buffer for a tolerance of 0.005 kJ/mol/ps at 300 K\n",
      "Calculated rlist for 1x1 atom pair-list as 1.035 nm, buffer size 0.035 nm\n",
      "Set rlist, assuming 4x4 atom pair-list, to 1.000 nm, buffer size 0.000 nm\n",
      "Note that mdrun will redetermine rlist based on the actual pair-list setup\n",
      "Reading Coordinates, Velocities and Box size from old trajectory\n",
      "Will read whole trajectory\n",
      "Last frame         -1 time   10.000   \n",
      "Using frame at t = 10 ps\n",
      "Starting time for run is 0 ps\n",
      "Calculating fourier grid dimensions for X Y Z\n",
      "Using a fourier grid of 44x44x44, spacing 0.158 0.158 0.158\n",
      "Estimate for the relative computational load of the PME mesh part: 0.21\n",
      "This run will generate roughly 3 Mb of data\n",
      "\n",
      "gcq#507: \"It seems likely that significant software contributions to existing scientific software projects are not likely to be rewarded through the traditional reputation economy of science. Together these factors provide a reason to expect the over-production of independent scientific software packages, and the underproduction of collaborative projects in which later academics build on the work of earlier ones.\" (Howison & Herbsleb)\n",
      "\n"
     ]
    }
   ],
   "source": [
    "#!gmx grompp -f md.mdp -c npt.gro -t npt.cpt -p topol.top -o md01.tpr\n",
    "# Uncomment above line if you want to run as a normal gmx command and do not execute next cell"
   ]
  },
  {
   "cell_type": "code",
   "execution_count": null,
   "metadata": {},
   "outputs": [],
   "source": [
    "gromacs.grompp(f=\"md.mdp\", c=\"npt.gro\", t=\"npt.cpt\", p=\"topol.top\", o=\"md01.tpr\")"
   ]
  },
  {
   "cell_type": "code",
   "execution_count": 25,
   "metadata": {},
   "outputs": [
    {
     "name": "stdout",
     "output_type": "stream",
     "text": [
      "                   :-) GROMACS - gmx mdrun, VERSION 5.1.4 (-:\n",
      "\n",
      "                            GROMACS is written by:\n",
      "     Emile Apol      Rossen Apostolov  Herman J.C. Berendsen    Par Bjelkmar   \n",
      " Aldert van Buuren   Rudi van Drunen     Anton Feenstra   Sebastian Fritsch \n",
      "  Gerrit Groenhof   Christoph Junghans   Anca Hamuraru    Vincent Hindriksen\n",
      " Dimitrios Karkoulis    Peter Kasson        Jiri Kraus      Carsten Kutzner  \n",
      "    Per Larsson      Justin A. Lemkul   Magnus Lundborg   Pieter Meulenhoff \n",
      "   Erik Marklund      Teemu Murtola       Szilard Pall       Sander Pronk   \n",
      "   Roland Schulz     Alexey Shvetsov     Michael Shirts     Alfons Sijbers  \n",
      "   Peter Tieleman    Teemu Virolainen  Christian Wennberg    Maarten Wolf   \n",
      "                           and the project leaders:\n",
      "        Mark Abraham, Berk Hess, Erik Lindahl, and David van der Spoel\n",
      "\n",
      "Copyright (c) 1991-2000, University of Groningen, The Netherlands.\n",
      "Copyright (c) 2001-2015, The GROMACS development team at\n",
      "Uppsala University, Stockholm University and\n",
      "the Royal Institute of Technology, Sweden.\n",
      "check out http://www.gromacs.org for more information.\n",
      "\n",
      "GROMACS is free software; you can redistribute it and/or modify it\n",
      "under the terms of the GNU Lesser General Public License\n",
      "as published by the Free Software Foundation; either version 2.1\n",
      "of the License, or (at your option) any later version.\n",
      "\n",
      "GROMACS:      gmx mdrun, VERSION 5.1.4\n",
      "Executable:   /usr/local/bin/gmx\n",
      "Data prefix:  /usr/local\n",
      "Command line:\n",
      "  gmx mdrun -v -deffnm md01 -nt 2\n",
      "\n",
      "\n",
      "Running on 1 node with total 8 logical cores\n",
      "Hardware detected:\n",
      "  CPU info:\n",
      "    Vendor: GenuineIntel\n",
      "    Brand:  Intel(R) Core(TM) i7-4980HQ CPU @ 2.80GHz\n",
      "    SIMD instructions most likely to fit this hardware: AVX2_256\n",
      "    SIMD instructions selected at GROMACS compile time: AVX2_256\n",
      "\n",
      "Reading file md01.tpr, VERSION 5.1.4 (single precision)\n",
      "Changing nstlist from 10 to 20, rlist from 1 to 1.03\n",
      "\n",
      "Using 2 MPI threads\n",
      "starting mdrun 'LYSOZYME in water'\n",
      "5000 steps,     10.0 ps.\n",
      "step 4900, remaining wall clock time:    24 s           imb F  0% imb F  0% imb F  0% imb F  0% imb F  0% imb F  0% imb F  0% imb F  0% imb F  0% imb F  0% imb F  1% imb F  0% imb F  1% imb F  0% imb F  1% imb F  1% imb F  0% imb F  0% imb F  0% imb F  0% imb F  0% imb F  0% imb F  1% imb F  1% imb F  0% imb F  0% imb F  0% imb F  0% imb F  0% imb F  0% imb F  0% imb F  0% imb F  0% imb F  0% imb F  0% imb F  0% imb F  0% imb F  0% imb F  0% imb F  0% imb F  0% imb F  0% imb F  0% imb F  0% imb F  0% imb F  0% imb F  0% imb F  0% \n",
      "Writing final coordinates.\n",
      "step 5000, remaining wall clock time:     0 s          \n",
      " Average load imbalance: 0.3 %\n",
      " Part of the total run time spent waiting due to load imbalance: 0.2 %\n",
      "\n",
      "\n",
      "               Core t (s)   Wall t (s)        (%)\n",
      "       Time:     2436.856     1218.428      200.0\n",
      "                 (ns/day)    (hour/ns)\n",
      "Performance:        0.709       33.838\n",
      "\n",
      "gcq#528: \"I believe the big bang of self-driving cars is about to come.\" (Jen-Hsun Huang, CEO NVIDIA)\n",
      "\n"
     ]
    }
   ],
   "source": [
    "#!gmx mdrun -v -deffnm md01 -nt 2\n",
    "# Uncomment above line if you want to run as a normal gmx command and do not execute next cell"
   ]
  },
  {
   "cell_type": "code",
   "execution_count": null,
   "metadata": {},
   "outputs": [],
   "source": [
    "gromacs.mdrun(v=True, deffnm=\"md01\", nt=\"2\")"
   ]
  },
  {
   "cell_type": "code",
   "execution_count": null,
   "metadata": {},
   "outputs": [],
   "source": [
    "#!gmx mdrun -v -deffnm md01 -cpi md01.cpt -nt 2\n",
    "# Uncomment above line if you want to run as a normal gmx command and do not execute next cell\n",
    "# If mdrun gets interrupted, you could restart by excuting this cell (uncomment) "
   ]
  },
  {
   "cell_type": "markdown",
   "metadata": {},
   "source": [
    "### Trajectory Visualization"
   ]
  },
  {
   "cell_type": "code",
   "execution_count": 26,
   "metadata": {
    "scrolled": true
   },
   "outputs": [
    {
     "name": "stdout",
     "output_type": "stream",
     "text": [
      "                  :-) GROMACS - gmx trjconv, VERSION 5.1.4 (-:\n",
      "\n",
      "                            GROMACS is written by:\n",
      "     Emile Apol      Rossen Apostolov  Herman J.C. Berendsen    Par Bjelkmar   \n",
      " Aldert van Buuren   Rudi van Drunen     Anton Feenstra   Sebastian Fritsch \n",
      "  Gerrit Groenhof   Christoph Junghans   Anca Hamuraru    Vincent Hindriksen\n",
      " Dimitrios Karkoulis    Peter Kasson        Jiri Kraus      Carsten Kutzner  \n",
      "    Per Larsson      Justin A. Lemkul   Magnus Lundborg   Pieter Meulenhoff \n",
      "   Erik Marklund      Teemu Murtola       Szilard Pall       Sander Pronk   \n",
      "   Roland Schulz     Alexey Shvetsov     Michael Shirts     Alfons Sijbers  \n",
      "   Peter Tieleman    Teemu Virolainen  Christian Wennberg    Maarten Wolf   \n",
      "                           and the project leaders:\n",
      "        Mark Abraham, Berk Hess, Erik Lindahl, and David van der Spoel\n",
      "\n",
      "Copyright (c) 1991-2000, University of Groningen, The Netherlands.\n",
      "Copyright (c) 2001-2015, The GROMACS development team at\n",
      "Uppsala University, Stockholm University and\n",
      "the Royal Institute of Technology, Sweden.\n",
      "check out http://www.gromacs.org for more information.\n",
      "\n",
      "GROMACS is free software; you can redistribute it and/or modify it\n",
      "under the terms of the GNU Lesser General Public License\n",
      "as published by the Free Software Foundation; either version 2.1\n",
      "of the License, or (at your option) any later version.\n",
      "\n",
      "GROMACS:      gmx trjconv, VERSION 5.1.4\n",
      "Executable:   /usr/local/bin/gmx\n",
      "Data prefix:  /usr/local\n",
      "Command line:\n",
      "  gmx trjconv -s md01.tpr -f md01.xtc -center -ur compact -pbc mol -o md01_center.xtc\n",
      "\n",
      "Will write xtc: Compressed trajectory (portable xdr format): xtc\n",
      "Reading file md01.tpr, VERSION 5.1.4 (single precision)\n",
      "Reading file md01.tpr, VERSION 5.1.4 (single precision)\n",
      "Select group for centering\n",
      "Group     0 (         System) has 33876 elements\n",
      "Group     1 (        Protein) has  1960 elements\n",
      "Group     2 (      Protein-H) has  1001 elements\n",
      "Group     3 (        C-alpha) has   129 elements\n",
      "Group     4 (       Backbone) has   387 elements\n",
      "Group     5 (      MainChain) has   517 elements\n",
      "Group     6 (   MainChain+Cb) has   634 elements\n",
      "Group     7 (    MainChain+H) has   646 elements\n",
      "Group     8 (      SideChain) has  1314 elements\n",
      "Group     9 (    SideChain-H) has   484 elements\n",
      "Group    10 (    Prot-Masses) has  1960 elements\n",
      "Group    11 (    non-Protein) has 31916 elements\n",
      "Group    12 (          Water) has 31908 elements\n",
      "Group    13 (            SOL) has 31908 elements\n",
      "Group    14 (      non-Water) has  1968 elements\n",
      "Group    15 (            Ion) has     8 elements\n",
      "Group    16 (             CL) has     8 elements\n",
      "Group    17 ( Water_and_ions) has 31916 elements\n",
      "Select a group: Selected 1: 'Protein'\n",
      "Select group for output\n",
      "Group     0 (         System) has 33876 elements\n",
      "Group     1 (        Protein) has  1960 elements\n",
      "Group     2 (      Protein-H) has  1001 elements\n",
      "Group     3 (        C-alpha) has   129 elements\n",
      "Group     4 (       Backbone) has   387 elements\n",
      "Group     5 (      MainChain) has   517 elements\n",
      "Group     6 (   MainChain+Cb) has   634 elements\n",
      "Group     7 (    MainChain+H) has   646 elements\n",
      "Group     8 (      SideChain) has  1314 elements\n",
      "Group     9 (    SideChain-H) has   484 elements\n",
      "Group    10 (    Prot-Masses) has  1960 elements\n",
      "Group    11 (    non-Protein) has 31916 elements\n",
      "Group    12 (          Water) has 31908 elements\n",
      "Group    13 (            SOL) has 31908 elements\n",
      "Group    14 (      non-Water) has  1968 elements\n",
      "Group    15 (            Ion) has     8 elements\n",
      "Group    16 (             CL) has     8 elements\n",
      "Group    17 ( Water_and_ions) has 31916 elements\n",
      "Select a group: Selected 0: 'System'\n",
      "Reading frame       0 time    0.000   \n",
      "Precision of md01.xtc is 0.001 (nm)\n",
      "Using output precision of 0.001 (nm)\n",
      "Last frame          1 time   10.000    ->  frame      1 time   10.000      \n",
      "\n",
      "\n",
      "gcq#38: \"Yeah, a Wuzz, Or a Jerk\" (F. Black)\n",
      "\n"
     ]
    }
   ],
   "source": [
    "!printf \"Protein\\nSystem\\n\" | gmx trjconv -s md01.tpr -f md01.xtc -center -ur compact -pbc mol -o md01_center.xtc"
   ]
  },
  {
   "cell_type": "code",
   "execution_count": 27,
   "metadata": {
    "scrolled": true
   },
   "outputs": [
    {
     "name": "stdout",
     "output_type": "stream",
     "text": [
      "                  :-) GROMACS - gmx trjconv, VERSION 5.1.4 (-:\n",
      "\n",
      "                            GROMACS is written by:\n",
      "     Emile Apol      Rossen Apostolov  Herman J.C. Berendsen    Par Bjelkmar   \n",
      " Aldert van Buuren   Rudi van Drunen     Anton Feenstra   Sebastian Fritsch \n",
      "  Gerrit Groenhof   Christoph Junghans   Anca Hamuraru    Vincent Hindriksen\n",
      " Dimitrios Karkoulis    Peter Kasson        Jiri Kraus      Carsten Kutzner  \n",
      "    Per Larsson      Justin A. Lemkul   Magnus Lundborg   Pieter Meulenhoff \n",
      "   Erik Marklund      Teemu Murtola       Szilard Pall       Sander Pronk   \n",
      "   Roland Schulz     Alexey Shvetsov     Michael Shirts     Alfons Sijbers  \n",
      "   Peter Tieleman    Teemu Virolainen  Christian Wennberg    Maarten Wolf   \n",
      "                           and the project leaders:\n",
      "        Mark Abraham, Berk Hess, Erik Lindahl, and David van der Spoel\n",
      "\n",
      "Copyright (c) 1991-2000, University of Groningen, The Netherlands.\n",
      "Copyright (c) 2001-2015, The GROMACS development team at\n",
      "Uppsala University, Stockholm University and\n",
      "the Royal Institute of Technology, Sweden.\n",
      "check out http://www.gromacs.org for more information.\n",
      "\n",
      "GROMACS is free software; you can redistribute it and/or modify it\n",
      "under the terms of the GNU Lesser General Public License\n",
      "as published by the Free Software Foundation; either version 2.1\n",
      "of the License, or (at your option) any later version.\n",
      "\n",
      "GROMACS:      gmx trjconv, VERSION 5.1.4\n",
      "Executable:   /usr/local/bin/gmx\n",
      "Data prefix:  /usr/local\n",
      "Command line:\n",
      "  gmx trjconv -s md01.tpr -f md01_center.xtc -fit rot+trans -o md01_fit.xtc\n",
      "\n",
      "Will write xtc: Compressed trajectory (portable xdr format): xtc\n",
      "Reading file md01.tpr, VERSION 5.1.4 (single precision)\n",
      "Reading file md01.tpr, VERSION 5.1.4 (single precision)\n",
      "Select group for least squares fit\n",
      "Group     0 (         System) has 33876 elements\n",
      "Group     1 (        Protein) has  1960 elements\n",
      "Group     2 (      Protein-H) has  1001 elements\n",
      "Group     3 (        C-alpha) has   129 elements\n",
      "Group     4 (       Backbone) has   387 elements\n",
      "Group     5 (      MainChain) has   517 elements\n",
      "Group     6 (   MainChain+Cb) has   634 elements\n",
      "Group     7 (    MainChain+H) has   646 elements\n",
      "Group     8 (      SideChain) has  1314 elements\n",
      "Group     9 (    SideChain-H) has   484 elements\n",
      "Group    10 (    Prot-Masses) has  1960 elements\n",
      "Group    11 (    non-Protein) has 31916 elements\n",
      "Group    12 (          Water) has 31908 elements\n",
      "Group    13 (            SOL) has 31908 elements\n",
      "Group    14 (      non-Water) has  1968 elements\n",
      "Group    15 (            Ion) has     8 elements\n",
      "Group    16 (             CL) has     8 elements\n",
      "Group    17 ( Water_and_ions) has 31916 elements\n",
      "Select a group: Selected 4: 'Backbone'\n",
      "Select group for output\n",
      "Group     0 (         System) has 33876 elements\n",
      "Group     1 (        Protein) has  1960 elements\n",
      "Group     2 (      Protein-H) has  1001 elements\n",
      "Group     3 (        C-alpha) has   129 elements\n",
      "Group     4 (       Backbone) has   387 elements\n",
      "Group     5 (      MainChain) has   517 elements\n",
      "Group     6 (   MainChain+Cb) has   634 elements\n",
      "Group     7 (    MainChain+H) has   646 elements\n",
      "Group     8 (      SideChain) has  1314 elements\n",
      "Group     9 (    SideChain-H) has   484 elements\n",
      "Group    10 (    Prot-Masses) has  1960 elements\n",
      "Group    11 (    non-Protein) has 31916 elements\n",
      "Group    12 (          Water) has 31908 elements\n",
      "Group    13 (            SOL) has 31908 elements\n",
      "Group    14 (      non-Water) has  1968 elements\n",
      "Group    15 (            Ion) has     8 elements\n",
      "Group    16 (             CL) has     8 elements\n",
      "Group    17 ( Water_and_ions) has 31916 elements\n",
      "Select a group: Selected 0: 'System'\n",
      "Reading frame       0 time    0.000   \n",
      "Precision of md01_center.xtc is 0.001 (nm)\n",
      "Using output precision of 0.001 (nm)\n",
      "Last frame          1 time   10.000    ->  frame      1 time   10.000      \n",
      "\n",
      "\n",
      "gcq#46: \"I Am Testing Your Grey Matter\" (Red Hot Chili Peppers)\n",
      "\n"
     ]
    }
   ],
   "source": [
    "!printf \"Backbone\\nSystem\\n\" | gmx trjconv -s md01.tpr -f md01_center.xtc -fit rot+trans -o md01_fit.xtc"
   ]
  },
  {
   "cell_type": "code",
   "execution_count": 29,
   "metadata": {},
   "outputs": [],
   "source": [
    "#to visualize the trajectories\n",
    "#vmd npt.gro md01_fit.xtc"
   ]
  },
  {
   "cell_type": "code",
   "execution_count": 12,
   "metadata": {},
   "outputs": [
    {
     "data": {
      "application/vnd.jupyter.widget-view+json": {
       "model_id": "e471b291ae834c5798885531755d9664",
       "version_major": 2,
       "version_minor": 0
      },
      "text/plain": [
       "NGLWidget(max_frame=50)"
      ]
     },
     "metadata": {},
     "output_type": "display_data"
    }
   ],
   "source": [
    "#view.background = 'white'\n",
    "\n",
    "traj1 = pt.load(nv.datafiles.XTC, nv.datafiles.PDB)\n",
    "view1 = nv.show_pytraj(traj1)\n",
    "view1"
   ]
  },
  {
   "cell_type": "code",
   "execution_count": 15,
   "metadata": {},
   "outputs": [
    {
     "data": {
      "application/vnd.jupyter.widget-view+json": {
       "model_id": "73f46362d3fc46928c64ba8cdd1f4ca6",
       "version_major": 2,
       "version_minor": 0
      },
      "text/plain": [
       "NGLWidget(max_frame=100)"
      ]
     },
     "metadata": {},
     "output_type": "display_data"
    }
   ],
   "source": [
    "# add new Trajectory\n",
    "traj2 = pt.datafiles.load_tz2()\n",
    "c = view1.add_trajectory(traj2)\n",
    "view2 = nv.show_pytraj(traj2)\n",
    "view2"
   ]
  },
  {
   "cell_type": "markdown",
   "metadata": {},
   "source": [
    "### Analysis"
   ]
  },
  {
   "cell_type": "code",
   "execution_count": 31,
   "metadata": {},
   "outputs": [
    {
     "name": "stdout",
     "output_type": "stream",
     "text": [
      "                  :-) GROMACS - gmx trjconv, VERSION 5.1.4 (-:\n",
      "\n",
      "                            GROMACS is written by:\n",
      "     Emile Apol      Rossen Apostolov  Herman J.C. Berendsen    Par Bjelkmar   \n",
      " Aldert van Buuren   Rudi van Drunen     Anton Feenstra   Sebastian Fritsch \n",
      "  Gerrit Groenhof   Christoph Junghans   Anca Hamuraru    Vincent Hindriksen\n",
      " Dimitrios Karkoulis    Peter Kasson        Jiri Kraus      Carsten Kutzner  \n",
      "    Per Larsson      Justin A. Lemkul   Magnus Lundborg   Pieter Meulenhoff \n",
      "   Erik Marklund      Teemu Murtola       Szilard Pall       Sander Pronk   \n",
      "   Roland Schulz     Alexey Shvetsov     Michael Shirts     Alfons Sijbers  \n",
      "   Peter Tieleman    Teemu Virolainen  Christian Wennberg    Maarten Wolf   \n",
      "                           and the project leaders:\n",
      "        Mark Abraham, Berk Hess, Erik Lindahl, and David van der Spoel\n",
      "\n",
      "Copyright (c) 1991-2000, University of Groningen, The Netherlands.\n",
      "Copyright (c) 2001-2015, The GROMACS development team at\n",
      "Uppsala University, Stockholm University and\n",
      "the Royal Institute of Technology, Sweden.\n",
      "check out http://www.gromacs.org for more information.\n",
      "\n",
      "GROMACS is free software; you can redistribute it and/or modify it\n",
      "under the terms of the GNU Lesser General Public License\n",
      "as published by the Free Software Foundation; either version 2.1\n",
      "of the License, or (at your option) any later version.\n",
      "\n",
      "GROMACS:      gmx trjconv, VERSION 5.1.4\n",
      "Executable:   /usr/local/bin/gmx\n",
      "Data prefix:  /usr/local\n",
      "Command line:\n",
      "  gmx trjconv -s md01.tpr -f md01.xtc -o md01_noPBC.xtc -pbc mol -center\n",
      "\n",
      "Will write xtc: Compressed trajectory (portable xdr format): xtc\n",
      "Reading file md01.tpr, VERSION 5.1.4 (single precision)\n",
      "Reading file md01.tpr, VERSION 5.1.4 (single precision)\n",
      "Select group for centering\n",
      "Group     0 (         System) has 33876 elements\n",
      "Group     1 (        Protein) has  1960 elements\n",
      "Group     2 (      Protein-H) has  1001 elements\n",
      "Group     3 (        C-alpha) has   129 elements\n",
      "Group     4 (       Backbone) has   387 elements\n",
      "Group     5 (      MainChain) has   517 elements\n",
      "Group     6 (   MainChain+Cb) has   634 elements\n",
      "Group     7 (    MainChain+H) has   646 elements\n",
      "Group     8 (      SideChain) has  1314 elements\n",
      "Group     9 (    SideChain-H) has   484 elements\n",
      "Group    10 (    Prot-Masses) has  1960 elements\n",
      "Group    11 (    non-Protein) has 31916 elements\n",
      "Group    12 (          Water) has 31908 elements\n",
      "Group    13 (            SOL) has 31908 elements\n",
      "Group    14 (      non-Water) has  1968 elements\n",
      "Group    15 (            Ion) has     8 elements\n",
      "Group    16 (             CL) has     8 elements\n",
      "Group    17 ( Water_and_ions) has 31916 elements\n",
      "Select a group: Selected 1: 'Protein'\n",
      "Select group for output\n",
      "Group     0 (         System) has 33876 elements\n",
      "Group     1 (        Protein) has  1960 elements\n",
      "Group     2 (      Protein-H) has  1001 elements\n",
      "Group     3 (        C-alpha) has   129 elements\n",
      "Group     4 (       Backbone) has   387 elements\n",
      "Group     5 (      MainChain) has   517 elements\n",
      "Group     6 (   MainChain+Cb) has   634 elements\n",
      "Group     7 (    MainChain+H) has   646 elements\n",
      "Group     8 (      SideChain) has  1314 elements\n",
      "Group     9 (    SideChain-H) has   484 elements\n",
      "Group    10 (    Prot-Masses) has  1960 elements\n",
      "Group    11 (    non-Protein) has 31916 elements\n",
      "Group    12 (          Water) has 31908 elements\n",
      "Group    13 (            SOL) has 31908 elements\n",
      "Group    14 (      non-Water) has  1968 elements\n",
      "Group    15 (            Ion) has     8 elements\n",
      "Group    16 (             CL) has     8 elements\n",
      "Group    17 ( Water_and_ions) has 31916 elements\n",
      "Select a group: Selected 0: 'System'\n",
      "Reading frame       0 time    0.000   \n",
      "Precision of md01.xtc is 0.001 (nm)\n",
      "Using output precision of 0.001 (nm)\n",
      "Last frame          1 time   10.000    ->  frame      1 time   10.000      \n",
      "\n",
      "\n",
      "gcq#370: \"This really is a pretty scene, could you ask your kid to smile please?\" (Joe Jackson)\n",
      "\n"
     ]
    }
   ],
   "source": [
    "!printf \"Protein\\nSystem\\n\" | gmx trjconv -s md01.tpr -f md01.xtc -o md01_noPBC.xtc -pbc mol -center"
   ]
  },
  {
   "cell_type": "code",
   "execution_count": 39,
   "metadata": {},
   "outputs": [
    {
     "name": "stdout",
     "output_type": "stream",
     "text": [
      "                    :-) GROMACS - gmx rms, VERSION 5.1.4 (-:\n",
      "\n",
      "                            GROMACS is written by:\n",
      "     Emile Apol      Rossen Apostolov  Herman J.C. Berendsen    Par Bjelkmar   \n",
      " Aldert van Buuren   Rudi van Drunen     Anton Feenstra   Sebastian Fritsch \n",
      "  Gerrit Groenhof   Christoph Junghans   Anca Hamuraru    Vincent Hindriksen\n",
      " Dimitrios Karkoulis    Peter Kasson        Jiri Kraus      Carsten Kutzner  \n",
      "    Per Larsson      Justin A. Lemkul   Magnus Lundborg   Pieter Meulenhoff \n",
      "   Erik Marklund      Teemu Murtola       Szilard Pall       Sander Pronk   \n",
      "   Roland Schulz     Alexey Shvetsov     Michael Shirts     Alfons Sijbers  \n",
      "   Peter Tieleman    Teemu Virolainen  Christian Wennberg    Maarten Wolf   \n",
      "                           and the project leaders:\n",
      "        Mark Abraham, Berk Hess, Erik Lindahl, and David van der Spoel\n",
      "\n",
      "Copyright (c) 1991-2000, University of Groningen, The Netherlands.\n",
      "Copyright (c) 2001-2015, The GROMACS development team at\n",
      "Uppsala University, Stockholm University and\n",
      "the Royal Institute of Technology, Sweden.\n",
      "check out http://www.gromacs.org for more information.\n",
      "\n",
      "GROMACS is free software; you can redistribute it and/or modify it\n",
      "under the terms of the GNU Lesser General Public License\n",
      "as published by the Free Software Foundation; either version 2.1\n",
      "of the License, or (at your option) any later version.\n",
      "\n",
      "GROMACS:      gmx rms, VERSION 5.1.4\n",
      "Executable:   /usr/local/bin/gmx\n",
      "Data prefix:  /usr/local\n",
      "Command line:\n",
      "  gmx rms -s md01.tpr -f md01_noPBC.xtc -o rmsd.xvg -tu ps\n",
      "\n",
      "Reading file md01.tpr, VERSION 5.1.4 (single precision)\n",
      "Reading file md01.tpr, VERSION 5.1.4 (single precision)\n",
      "Select group for least squares fit\n",
      "Group     0 (         System) has 33876 elements\n",
      "Group     1 (        Protein) has  1960 elements\n",
      "Group     2 (      Protein-H) has  1001 elements\n",
      "Group     3 (        C-alpha) has   129 elements\n",
      "Group     4 (       Backbone) has   387 elements\n",
      "Group     5 (      MainChain) has   517 elements\n",
      "Group     6 (   MainChain+Cb) has   634 elements\n",
      "Group     7 (    MainChain+H) has   646 elements\n",
      "Group     8 (      SideChain) has  1314 elements\n",
      "Group     9 (    SideChain-H) has   484 elements\n",
      "Group    10 (    Prot-Masses) has  1960 elements\n",
      "Group    11 (    non-Protein) has 31916 elements\n",
      "Group    12 (          Water) has 31908 elements\n",
      "Group    13 (            SOL) has 31908 elements\n",
      "Group    14 (      non-Water) has  1968 elements\n",
      "Group    15 (            Ion) has     8 elements\n",
      "Group    16 (             CL) has     8 elements\n",
      "Group    17 ( Water_and_ions) has 31916 elements\n",
      "Select a group: Selected 4: 'Backbone'\n",
      "Select group for RMSD calculation\n",
      "Group     0 (         System) has 33876 elements\n",
      "Group     1 (        Protein) has  1960 elements\n",
      "Group     2 (      Protein-H) has  1001 elements\n",
      "Group     3 (        C-alpha) has   129 elements\n",
      "Group     4 (       Backbone) has   387 elements\n",
      "Group     5 (      MainChain) has   517 elements\n",
      "Group     6 (   MainChain+Cb) has   634 elements\n",
      "Group     7 (    MainChain+H) has   646 elements\n",
      "Group     8 (      SideChain) has  1314 elements\n",
      "Group     9 (    SideChain-H) has   484 elements\n",
      "Group    10 (    Prot-Masses) has  1960 elements\n",
      "Group    11 (    non-Protein) has 31916 elements\n",
      "Group    12 (          Water) has 31908 elements\n",
      "Group    13 (            SOL) has 31908 elements\n",
      "Group    14 (      non-Water) has  1968 elements\n",
      "Group    15 (            Ion) has     8 elements\n",
      "Group    16 (             CL) has     8 elements\n",
      "Group    17 ( Water_and_ions) has 31916 elements\n",
      "Select a group: Selected 0: 'System'\n",
      "Last frame          1 time   10.000   \n",
      "\n",
      "Back Off! I just backed up rmsd.xvg to ./#rmsd.xvg.1#\n",
      "\n",
      "gcq#534: \"The only greatness for man is immortality.\" (James Dean)\n",
      "\n"
     ]
    }
   ],
   "source": [
    "!printf \"Backbone\\nSystem\\n\" | gmx rms -s md01.tpr -f md01_noPBC.xtc -o rmsd.xvg -tu ns\n",
    "#gmx rms - calculate the root mean square deviation from a reference structure"
   ]
  },
  {
   "cell_type": "code",
   "execution_count": 40,
   "metadata": {},
   "outputs": [],
   "source": [
    "rmsd = np.genfromtxt([i for i in open('rmsd.xvg').read().splitlines() \n",
    "    if not i.startswith(('#','@'))])"
   ]
  },
  {
   "cell_type": "code",
   "execution_count": 48,
   "metadata": {},
   "outputs": [
    {
     "data": {
      "text/plain": [
       "Text(0, 0.5, 'rmsd')"
      ]
     },
     "execution_count": 48,
     "metadata": {},
     "output_type": "execute_result"
    },
    {
     "data": {
      "image/png": "[encoded data removed]",
      "text/plain": [
       "<Figure size 432x288 with 1 Axes>"
      ]
     },
     "metadata": {
      "needs_background": "light"
     },
     "output_type": "display_data"
    }
   ],
   "source": [
    "plt.plot(*rmsd.T)\n",
    "plt.xlabel('time-ps')\n",
    "plt.ylabel('rmsd')"
   ]
  },
  {
   "cell_type": "code",
   "execution_count": null,
   "metadata": {},
   "outputs": [],
   "source": [
    "#### To plot the graph using numpy and matplotlib and export the graph as PNG SVG and PDF with 300dpi"
   ]
  },
  {
   "cell_type": "code",
   "execution_count": 45,
   "metadata": {},
   "outputs": [
    {
     "name": "stdout",
     "output_type": "stream",
     "text": [
      "                    :-) GROMACS - gmx rms, VERSION 5.1.4 (-:\n",
      "\n",
      "                            GROMACS is written by:\n",
      "     Emile Apol      Rossen Apostolov  Herman J.C. Berendsen    Par Bjelkmar   \n",
      " Aldert van Buuren   Rudi van Drunen     Anton Feenstra   Sebastian Fritsch \n",
      "  Gerrit Groenhof   Christoph Junghans   Anca Hamuraru    Vincent Hindriksen\n",
      " Dimitrios Karkoulis    Peter Kasson        Jiri Kraus      Carsten Kutzner  \n",
      "    Per Larsson      Justin A. Lemkul   Magnus Lundborg   Pieter Meulenhoff \n",
      "   Erik Marklund      Teemu Murtola       Szilard Pall       Sander Pronk   \n",
      "   Roland Schulz     Alexey Shvetsov     Michael Shirts     Alfons Sijbers  \n",
      "   Peter Tieleman    Teemu Virolainen  Christian Wennberg    Maarten Wolf   \n",
      "                           and the project leaders:\n",
      "        Mark Abraham, Berk Hess, Erik Lindahl, and David van der Spoel\n",
      "\n",
      "Copyright (c) 1991-2000, University of Groningen, The Netherlands.\n",
      "Copyright (c) 2001-2015, The GROMACS development team at\n",
      "Uppsala University, Stockholm University and\n",
      "the Royal Institute of Technology, Sweden.\n",
      "check out http://www.gromacs.org for more information.\n",
      "\n",
      "GROMACS is free software; you can redistribute it and/or modify it\n",
      "under the terms of the GNU Lesser General Public License\n",
      "as published by the Free Software Foundation; either version 2.1\n",
      "of the License, or (at your option) any later version.\n",
      "\n",
      "GROMACS:      gmx rms, VERSION 5.1.4\n",
      "Executable:   /usr/local/bin/gmx\n",
      "Data prefix:  /usr/local\n",
      "Command line:\n",
      "  gmx rms -s em.tpr -f md01_noPBC.xtc -o rmsd_xtal.xvg -tu ns\n",
      "\n",
      "Reading file em.tpr, VERSION 5.1.4 (single precision)\n",
      "Reading file em.tpr, VERSION 5.1.4 (single precision)\n",
      "Select group for least squares fit\n",
      "Group     0 (         System) has 33876 elements\n",
      "Group     1 (        Protein) has  1960 elements\n",
      "Group     2 (      Protein-H) has  1001 elements\n",
      "Group     3 (        C-alpha) has   129 elements\n",
      "Group     4 (       Backbone) has   387 elements\n",
      "Group     5 (      MainChain) has   517 elements\n",
      "Group     6 (   MainChain+Cb) has   634 elements\n",
      "Group     7 (    MainChain+H) has   646 elements\n",
      "Group     8 (      SideChain) has  1314 elements\n",
      "Group     9 (    SideChain-H) has   484 elements\n",
      "Group    10 (    Prot-Masses) has  1960 elements\n",
      "Group    11 (    non-Protein) has 31916 elements\n",
      "Group    12 (          Water) has 31908 elements\n",
      "Group    13 (            SOL) has 31908 elements\n",
      "Group    14 (      non-Water) has  1968 elements\n",
      "Group    15 (            Ion) has     8 elements\n",
      "Group    16 (             CL) has     8 elements\n",
      "Group    17 ( Water_and_ions) has 31916 elements\n",
      "Select a group: Selected 4: 'Backbone'\n",
      "Select group for RMSD calculation\n",
      "Group     0 (         System) has 33876 elements\n",
      "Group     1 (        Protein) has  1960 elements\n",
      "Group     2 (      Protein-H) has  1001 elements\n",
      "Group     3 (        C-alpha) has   129 elements\n",
      "Group     4 (       Backbone) has   387 elements\n",
      "Group     5 (      MainChain) has   517 elements\n",
      "Group     6 (   MainChain+Cb) has   634 elements\n",
      "Group     7 (    MainChain+H) has   646 elements\n",
      "Group     8 (      SideChain) has  1314 elements\n",
      "Group     9 (    SideChain-H) has   484 elements\n",
      "Group    10 (    Prot-Masses) has  1960 elements\n",
      "Group    11 (    non-Protein) has 31916 elements\n",
      "Group    12 (          Water) has 31908 elements\n",
      "Group    13 (            SOL) has 31908 elements\n",
      "Group    14 (      non-Water) has  1968 elements\n",
      "Group    15 (            Ion) has     8 elements\n",
      "Group    16 (             CL) has     8 elements\n",
      "Group    17 ( Water_and_ions) has 31916 elements\n",
      "Select a group: Selected 0: 'System'\n",
      "Last frame          1 time    0.010   \n",
      "\n",
      "Back Off! I just backed up rmsd_xtal.xvg to ./#rmsd_xtal.xvg.1#\n",
      "\n",
      "gcq#240: \"(That makes 100 errors; please try again.)\" (TeX)\n",
      "\n"
     ]
    }
   ],
   "source": [
    "!printf \"Backbone\\nSystem\\n\" | gmx rms -s em.tpr -f md01_noPBC.xtc -o rmsd_xtal.xvg -tu ns\n",
    "#gmx rms - calculate the root mean square deviation from a reference structure"
   ]
  },
  {
   "cell_type": "code",
   "execution_count": 50,
   "metadata": {},
   "outputs": [],
   "source": [
    "rmsd_xtal = np.genfromtxt([i for i in open('rmsd_xtal.xvg').read().splitlines() \n",
    "    if not i.startswith(('#','@'))])"
   ]
  },
  {
   "cell_type": "code",
   "execution_count": 52,
   "metadata": {},
   "outputs": [
    {
     "data": {
      "text/plain": [
       "Text(0, 0.5, 'rmsd_xtal')"
      ]
     },
     "execution_count": 52,
     "metadata": {},
     "output_type": "execute_result"
    },
    {
     "data": {
      "image/png": "[encoded data removed]",
      "text/plain": [
       "<Figure size 432x288 with 1 Axes>"
      ]
     },
     "metadata": {
      "needs_background": "light"
     },
     "output_type": "display_data"
    }
   ],
   "source": [
    "plt.plot(*rmsd_xtal.T)\n",
    "plt.xlabel('time-ps')\n",
    "plt.ylabel('rmsd_xtal')"
   ]
  },
  {
   "cell_type": "code",
   "execution_count": 46,
   "metadata": {},
   "outputs": [
    {
     "name": "stdout",
     "output_type": "stream",
     "text": [
      "                  :-) GROMACS - gmx gyrate, VERSION 5.1.4 (-:\n",
      "\n",
      "                            GROMACS is written by:\n",
      "     Emile Apol      Rossen Apostolov  Herman J.C. Berendsen    Par Bjelkmar   \n",
      " Aldert van Buuren   Rudi van Drunen     Anton Feenstra   Sebastian Fritsch \n",
      "  Gerrit Groenhof   Christoph Junghans   Anca Hamuraru    Vincent Hindriksen\n",
      " Dimitrios Karkoulis    Peter Kasson        Jiri Kraus      Carsten Kutzner  \n",
      "    Per Larsson      Justin A. Lemkul   Magnus Lundborg   Pieter Meulenhoff \n",
      "   Erik Marklund      Teemu Murtola       Szilard Pall       Sander Pronk   \n",
      "   Roland Schulz     Alexey Shvetsov     Michael Shirts     Alfons Sijbers  \n",
      "   Peter Tieleman    Teemu Virolainen  Christian Wennberg    Maarten Wolf   \n",
      "                           and the project leaders:\n",
      "        Mark Abraham, Berk Hess, Erik Lindahl, and David van der Spoel\n",
      "\n",
      "Copyright (c) 1991-2000, University of Groningen, The Netherlands.\n",
      "Copyright (c) 2001-2015, The GROMACS development team at\n",
      "Uppsala University, Stockholm University and\n",
      "the Royal Institute of Technology, Sweden.\n",
      "check out http://www.gromacs.org for more information.\n",
      "\n",
      "GROMACS is free software; you can redistribute it and/or modify it\n",
      "under the terms of the GNU Lesser General Public License\n",
      "as published by the Free Software Foundation; either version 2.1\n",
      "of the License, or (at your option) any later version.\n",
      "\n",
      "GROMACS:      gmx gyrate, VERSION 5.1.4\n",
      "Executable:   /usr/local/bin/gmx\n",
      "Data prefix:  /usr/local\n",
      "Command line:\n",
      "  gmx gyrate -s md01.tpr -f md01_noPBC.xtc -o gyrate.xvg\n",
      "\n",
      "Reading file md01.tpr, VERSION 5.1.4 (single precision)\n",
      "Reading file md01.tpr, VERSION 5.1.4 (single precision)\n",
      "Group     0 (         System) has 33876 elements\n",
      "Group     1 (        Protein) has  1960 elements\n",
      "Group     2 (      Protein-H) has  1001 elements\n",
      "Group     3 (        C-alpha) has   129 elements\n",
      "Group     4 (       Backbone) has   387 elements\n",
      "Group     5 (      MainChain) has   517 elements\n",
      "Group     6 (   MainChain+Cb) has   634 elements\n",
      "Group     7 (    MainChain+H) has   646 elements\n",
      "Group     8 (      SideChain) has  1314 elements\n",
      "Group     9 (    SideChain-H) has   484 elements\n",
      "Group    10 (    Prot-Masses) has  1960 elements\n",
      "Group    11 (    non-Protein) has 31916 elements\n",
      "Group    12 (          Water) has 31908 elements\n",
      "Group    13 (            SOL) has 31908 elements\n",
      "Group    14 (      non-Water) has  1968 elements\n",
      "Group    15 (            Ion) has     8 elements\n",
      "Group    16 (             CL) has     8 elements\n",
      "Group    17 ( Water_and_ions) has 31916 elements\n",
      "Select a group: Selected 1: 'Protein'\n",
      "Last frame          1 time   10.000   \n",
      "\n",
      "gcq#260: \"RTFM\" (B. Hess)\n",
      "\n"
     ]
    }
   ],
   "source": [
    "!printf \"Protein\\nSystem\\n\" | gmx gyrate -s md01.tpr -f md01_noPBC.xtc -o gyrate.xvg\n",
    "#gmx gyrate - calculate the radius of gyration"
   ]
  },
  {
   "cell_type": "code",
   "execution_count": 53,
   "metadata": {},
   "outputs": [],
   "source": [
    "gyrate = np.genfromtxt([i for i in open('gyrate.xvg').read().splitlines() \n",
    "    if not i.startswith(('#','@'))])"
   ]
  },
  {
   "cell_type": "code",
   "execution_count": 55,
   "metadata": {},
   "outputs": [
    {
     "data": {
      "text/plain": [
       "Text(0, 0.5, 'rmsd')"
      ]
     },
     "execution_count": 55,
     "metadata": {},
     "output_type": "execute_result"
    },
    {
     "data": {
      "image/png": "[encoded data removed]",
      "text/plain": [
       "<Figure size 432x288 with 1 Axes>"
      ]
     },
     "metadata": {
      "needs_background": "light"
     },
     "output_type": "display_data"
    }
   ],
   "source": [
    "plt.plot(*gyrate.T)\n",
    "plt.xlabel('time-ps')\n",
    "plt.ylabel('rmsd')"
   ]
  },
  {
   "cell_type": "code",
   "execution_count": 58,
   "metadata": {},
   "outputs": [
    {
     "name": "stdout",
     "output_type": "stream",
     "text": [
      "                 :-) GROMACS - gmx make_ndx, VERSION 5.1.4 (-:\n",
      "\n",
      "                            GROMACS is written by:\n",
      "     Emile Apol      Rossen Apostolov  Herman J.C. Berendsen    Par Bjelkmar   \n",
      " Aldert van Buuren   Rudi van Drunen     Anton Feenstra   Sebastian Fritsch \n",
      "  Gerrit Groenhof   Christoph Junghans   Anca Hamuraru    Vincent Hindriksen\n",
      " Dimitrios Karkoulis    Peter Kasson        Jiri Kraus      Carsten Kutzner  \n",
      "    Per Larsson      Justin A. Lemkul   Magnus Lundborg   Pieter Meulenhoff \n",
      "   Erik Marklund      Teemu Murtola       Szilard Pall       Sander Pronk   \n",
      "   Roland Schulz     Alexey Shvetsov     Michael Shirts     Alfons Sijbers  \n",
      "   Peter Tieleman    Teemu Virolainen  Christian Wennberg    Maarten Wolf   \n",
      "                           and the project leaders:\n",
      "        Mark Abraham, Berk Hess, Erik Lindahl, and David van der Spoel\n",
      "\n",
      "Copyright (c) 1991-2000, University of Groningen, The Netherlands.\n",
      "Copyright (c) 2001-2015, The GROMACS development team at\n",
      "Uppsala University, Stockholm University and\n",
      "the Royal Institute of Technology, Sweden.\n",
      "check out http://www.gromacs.org for more information.\n",
      "\n",
      "GROMACS is free software; you can redistribute it and/or modify it\n",
      "under the terms of the GNU Lesser General Public License\n",
      "as published by the Free Software Foundation; either version 2.1\n",
      "of the License, or (at your option) any later version.\n",
      "\n",
      "GROMACS:      gmx make_ndx, VERSION 5.1.4\n",
      "Executable:   /usr/local/bin/gmx\n",
      "Data prefix:  /usr/local\n",
      "Command line:\n",
      "  gmx make_ndx -f md01.tpr -o ca.ndx\n",
      "\n",
      "Reading file md01.tpr, VERSION 5.1.4 (single precision)\n",
      "\n",
      "Reading structure file\n",
      "Reading file md01.tpr, VERSION 5.1.4 (single precision)\n",
      "Going to read 0 old index file(s)\n",
      "Analysing residue names:\n",
      "There are:   129    Protein residues\n",
      "There are: 10636      Water residues\n",
      "There are:     8        Ion residues\n",
      "Analysing Protein...\n",
      "Analysing residues not classified as Protein/DNA/RNA/Water and splitting into groups...\n",
      "\n",
      "  0 System              : 33876 atoms\n",
      "  1 Protein             :  1960 atoms\n",
      "  2 Protein-H           :  1001 atoms\n",
      "  3 C-alpha             :   129 atoms\n",
      "  4 Backbone            :   387 atoms\n",
      "  5 MainChain           :   517 atoms\n",
      "  6 MainChain+Cb        :   634 atoms\n",
      "  7 MainChain+H         :   646 atoms\n",
      "  8 SideChain           :  1314 atoms\n",
      "  9 SideChain-H         :   484 atoms\n",
      " 10 Prot-Masses         :  1960 atoms\n",
      " 11 non-Protein         : 31916 atoms\n",
      " 12 Water               : 31908 atoms\n",
      " 13 SOL                 : 31908 atoms\n",
      " 14 non-Water           :  1968 atoms\n",
      " 15 Ion                 :     8 atoms\n",
      " 16 CL                  :     8 atoms\n",
      " 17 Water_and_ions      : 31916 atoms\n",
      "\n",
      " nr : group       !   'name' nr name   'splitch' nr    Enter: list groups\n",
      " 'a': atom        &   'del' nr         'splitres' nr   'l': list residues\n",
      " 't': atom type   |   'keep' nr        'splitat' nr    'h': help\n",
      " 'r': residue         'res' nr         'chain' char\n",
      " \"name\": group        'case': case sensitive           'q': save and quit\n",
      " 'ri': residue index\n",
      "\n",
      "> \n",
      "Removed group 2 'Protein-H'\n",
      "Removed group 3 'C-alpha'\n",
      "Removed group 4 'Backbone'\n",
      "Removed group 5 'MainChain'\n",
      "Removed group 6 'MainChain+Cb'\n",
      "Removed group 7 'MainChain+H'\n",
      "Removed group 8 'SideChain'\n",
      "Removed group 9 'SideChain-H'\n",
      "Removed group 10 'Prot-Masses'\n",
      "Removed group 11 'non-Protein'\n",
      "Removed group 12 'Water'\n",
      "Removed group 13 'SOL'\n",
      "Removed group 14 'non-Water'\n",
      "Removed group 15 'Ion'\n",
      "Removed group 16 'CL'\n",
      "Removed group 17 'Water_and_ions'\n",
      "Removed group 0 'System'\n",
      "\n",
      "> \n",
      "Found 129 atoms with name CA\n",
      "\n",
      "  1 CA                  :   129 atoms\n",
      "\n",
      "> \n",
      "\n",
      "> \n",
      "\n",
      "gcq#113: \"If You're So Special Why aren't You Dead ?\" (The Breeders)\n",
      "\n"
     ]
    }
   ],
   "source": [
    "!printf \"keep 1\\na CA\\nname 1 Calpha\\nq\\n\" | gmx make_ndx -f md01.tpr -o ca.ndx"
   ]
  },
  {
   "cell_type": "code",
   "execution_count": 60,
   "metadata": {},
   "outputs": [
    {
     "name": "stdout",
     "output_type": "stream",
     "text": [
      "                    :-) GROMACS - gmx rms, VERSION 5.1.4 (-:\n",
      "\n",
      "                            GROMACS is written by:\n",
      "     Emile Apol      Rossen Apostolov  Herman J.C. Berendsen    Par Bjelkmar   \n",
      " Aldert van Buuren   Rudi van Drunen     Anton Feenstra   Sebastian Fritsch \n",
      "  Gerrit Groenhof   Christoph Junghans   Anca Hamuraru    Vincent Hindriksen\n",
      " Dimitrios Karkoulis    Peter Kasson        Jiri Kraus      Carsten Kutzner  \n",
      "    Per Larsson      Justin A. Lemkul   Magnus Lundborg   Pieter Meulenhoff \n",
      "   Erik Marklund      Teemu Murtola       Szilard Pall       Sander Pronk   \n",
      "   Roland Schulz     Alexey Shvetsov     Michael Shirts     Alfons Sijbers  \n",
      "   Peter Tieleman    Teemu Virolainen  Christian Wennberg    Maarten Wolf   \n",
      "                           and the project leaders:\n",
      "        Mark Abraham, Berk Hess, Erik Lindahl, and David van der Spoel\n",
      "\n",
      "Copyright (c) 1991-2000, University of Groningen, The Netherlands.\n",
      "Copyright (c) 2001-2015, The GROMACS development team at\n",
      "Uppsala University, Stockholm University and\n",
      "the Royal Institute of Technology, Sweden.\n",
      "check out http://www.gromacs.org for more information.\n",
      "\n",
      "GROMACS is free software; you can redistribute it and/or modify it\n",
      "under the terms of the GNU Lesser General Public License\n",
      "as published by the Free Software Foundation; either version 2.1\n",
      "of the License, or (at your option) any later version.\n",
      "\n",
      "GROMACS:      gmx rms, VERSION 5.1.4\n",
      "Executable:   /usr/local/bin/gmx\n",
      "Data prefix:  /usr/local\n",
      "Command line:\n",
      "  gmx rms -s md01.tpr -f md01.xtc -n ca.ndx -o rmsdca.xvg -fit rot+trans\n",
      "\n",
      "Reading file md01.tpr, VERSION 5.1.4 (single precision)\n",
      "Reading file md01.tpr, VERSION 5.1.4 (single precision)\n",
      "Select group for least squares fit\n",
      "Group     0 (        Protein) has  1960 elements\n",
      "Group     1 (         Calpha) has   129 elements\n",
      "Select a group: Selected 1: 'Calpha'\n",
      "Select group for RMSD calculation\n",
      "Group     0 (        Protein) has  1960 elements\n",
      "Group     1 (         Calpha) has   129 elements\n",
      "Select a group: Selected 1: 'Calpha'\n",
      "Last frame          1 time   10.000   \n",
      "\n",
      "gcq#321: \"The Feeling of Power was Intoxicating, Magic\" (Frida Hyvonen)\n",
      "\n"
     ]
    }
   ],
   "source": [
    "!printf \"Calpha\\nCalpha\\n\" | gmx rms -s md01.tpr -f md01.xtc -n ca.ndx -o rmsdca.xvg -fit rot+trans\n",
    "#gmx rms - calculate the root mean square deviation from a reference structure"
   ]
  },
  {
   "cell_type": "code",
   "execution_count": 22,
   "metadata": {},
   "outputs": [],
   "source": [
    "rmsdca = np.genfromtxt([i for i in open('rmsdca.xvg').read().splitlines() \n",
    "    if not i.startswith(('#','@'))])"
   ]
  },
  {
   "cell_type": "code",
   "execution_count": 23,
   "metadata": {},
   "outputs": [
    {
     "data": {
      "text/plain": [
       "Text(0, 0.5, 'rmsdca')"
      ]
     },
     "execution_count": 23,
     "metadata": {},
     "output_type": "execute_result"
    },
    {
     "data": {
      "image/png": "[encoded data removed]",
      "text/plain": [
       "<Figure size 432x288 with 1 Axes>"
      ]
     },
     "metadata": {
      "needs_background": "light"
     },
     "output_type": "display_data"
    }
   ],
   "source": [
    "plt.plot(*rmsdca.T)\n",
    "plt.xlabel('time-ps')\n",
    "plt.ylabel('rmsdca')"
   ]
  },
  {
   "cell_type": "code",
   "execution_count": 63,
   "metadata": {},
   "outputs": [
    {
     "name": "stdout",
     "output_type": "stream",
     "text": [
      "                    :-) GROMACS - gmx rms, VERSION 5.1.4 (-:\n",
      "\n",
      "                            GROMACS is written by:\n",
      "     Emile Apol      Rossen Apostolov  Herman J.C. Berendsen    Par Bjelkmar   \n",
      " Aldert van Buuren   Rudi van Drunen     Anton Feenstra   Sebastian Fritsch \n",
      "  Gerrit Groenhof   Christoph Junghans   Anca Hamuraru    Vincent Hindriksen\n",
      " Dimitrios Karkoulis    Peter Kasson        Jiri Kraus      Carsten Kutzner  \n",
      "    Per Larsson      Justin A. Lemkul   Magnus Lundborg   Pieter Meulenhoff \n",
      "   Erik Marklund      Teemu Murtola       Szilard Pall       Sander Pronk   \n",
      "   Roland Schulz     Alexey Shvetsov     Michael Shirts     Alfons Sijbers  \n",
      "   Peter Tieleman    Teemu Virolainen  Christian Wennberg    Maarten Wolf   \n",
      "                           and the project leaders:\n",
      "        Mark Abraham, Berk Hess, Erik Lindahl, and David van der Spoel\n",
      "\n",
      "Copyright (c) 1991-2000, University of Groningen, The Netherlands.\n",
      "Copyright (c) 2001-2015, The GROMACS development team at\n",
      "Uppsala University, Stockholm University and\n",
      "the Royal Institute of Technology, Sweden.\n",
      "check out http://www.gromacs.org for more information.\n",
      "\n",
      "GROMACS is free software; you can redistribute it and/or modify it\n",
      "under the terms of the GNU Lesser General Public License\n",
      "as published by the Free Software Foundation; either version 2.1\n",
      "of the License, or (at your option) any later version.\n",
      "\n",
      "GROMACS:      gmx rms, VERSION 5.1.4\n",
      "Executable:   /usr/local/bin/gmx\n",
      "Data prefix:  /usr/local\n",
      "Command line:\n",
      "  gmx rms -s md01.tpr -f md01.xtc -n ca.ndx -o rmsdxca.xvg -fit rot+trans -xvg none\n",
      "\n",
      "Reading file md01.tpr, VERSION 5.1.4 (single precision)\n",
      "Reading file md01.tpr, VERSION 5.1.4 (single precision)\n",
      "Select group for least squares fit\n",
      "Group     0 (        Protein) has  1960 elements\n",
      "Group     1 (         Calpha) has   129 elements\n",
      "Select a group: Selected 1: 'Calpha'\n",
      "Select group for RMSD calculation\n",
      "Group     0 (        Protein) has  1960 elements\n",
      "Group     1 (         Calpha) has   129 elements\n",
      "Select a group: Selected 1: 'Calpha'\n",
      "Last frame          1 time   10.000   \n",
      "\n",
      "gcq#421: \"The determined Real Programmer can write FORTRAN programs in any language.\" (Ed Post)\n",
      "\n"
     ]
    }
   ],
   "source": [
    "!printf \"Calpha\\nCalpha\\n\" | gmx rms -s md01.tpr -f md01.xtc -n ca.ndx -o rmsdxca.xvg -fit rot+trans -xvg none\n",
    "#gmx rms - calculate the root mean square deviation from a reference structure"
   ]
  },
  {
   "cell_type": "code",
   "execution_count": 103,
   "metadata": {},
   "outputs": [
    {
     "data": {
      "image/png": "[encoded data removed]",
      "text/plain": [
       "<Figure size 360x180 with 1 Axes>"
      ]
     },
     "metadata": {
      "needs_background": "light"
     },
     "output_type": "display_data"
    }
   ],
   "source": [
    "t,rmsd = np.loadtxt(\"rmsdxca.xvg\", unpack=True)\n",
    "\n",
    "fig = plt.figure(figsize=(5,2.5))\n",
    "ax = fig.add_subplot(111)\n",
    "fig.subplots_adjust(bottom=0.2)\n",
    "\n",
    "ax.fill_between(t,rmsd, color=\"green\", linestyle=\"-\", alpha=0.1)\n",
    "ax.plot(t,rmsd, color=\"blue\", linestyle=\"-\")\n",
    "\n",
    "ax.set_xlabel(\"time $t$ (ps)\")\n",
    "ax.set_ylabel(r\"C$_\\alpha$ RMSD (nm)\")\n",
    "\n",
    "fig.savefig(\"rmsd_ca.png\", dpi=300)\n",
    "fig.savefig(\"rmsd_ca.svg\")\n",
    "fig.savefig(\"rmsd_ca.pdf\")"
   ]
  },
  {
   "cell_type": "code",
   "execution_count": 73,
   "metadata": {},
   "outputs": [
    {
     "name": "stdout",
     "output_type": "stream",
     "text": [
      "                   :-) GROMACS - gmx rmsf, VERSION 5.1.4 (-:\n",
      "\n",
      "                            GROMACS is written by:\n",
      "     Emile Apol      Rossen Apostolov  Herman J.C. Berendsen    Par Bjelkmar   \n",
      " Aldert van Buuren   Rudi van Drunen     Anton Feenstra   Sebastian Fritsch \n",
      "  Gerrit Groenhof   Christoph Junghans   Anca Hamuraru    Vincent Hindriksen\n",
      " Dimitrios Karkoulis    Peter Kasson        Jiri Kraus      Carsten Kutzner  \n",
      "    Per Larsson      Justin A. Lemkul   Magnus Lundborg   Pieter Meulenhoff \n",
      "   Erik Marklund      Teemu Murtola       Szilard Pall       Sander Pronk   \n",
      "   Roland Schulz     Alexey Shvetsov     Michael Shirts     Alfons Sijbers  \n",
      "   Peter Tieleman    Teemu Virolainen  Christian Wennberg    Maarten Wolf   \n",
      "                           and the project leaders:\n",
      "        Mark Abraham, Berk Hess, Erik Lindahl, and David van der Spoel\n",
      "\n",
      "Copyright (c) 1991-2000, University of Groningen, The Netherlands.\n",
      "Copyright (c) 2001-2015, The GROMACS development team at\n",
      "Uppsala University, Stockholm University and\n",
      "the Royal Institute of Technology, Sweden.\n",
      "check out http://www.gromacs.org for more information.\n",
      "\n",
      "GROMACS is free software; you can redistribute it and/or modify it\n",
      "under the terms of the GNU Lesser General Public License\n",
      "as published by the Free Software Foundation; either version 2.1\n",
      "of the License, or (at your option) any later version.\n",
      "\n",
      "GROMACS:      gmx rmsf, VERSION 5.1.4\n",
      "Executable:   /usr/local/bin/gmx\n",
      "Data prefix:  /usr/local\n",
      "Command line:\n",
      "  gmx rmsf -s md01.tpr -f md01.xtc -n ca.ndx -o rmsf.xvg -fit -xvg none\n",
      "\n",
      "Reading file md01.tpr, VERSION 5.1.4 (single precision)\n",
      "Reading file md01.tpr, VERSION 5.1.4 (single precision)\n",
      "Select group(s) for root mean square calculation\n",
      "Group     0 (        Protein) has  1960 elements\n",
      "Group     1 (         Calpha) has   129 elements\n",
      "Select a group: Selected 1: 'Calpha'\n",
      "Last frame          1 time   10.000   \n",
      "\n",
      "Back Off! I just backed up rmsf.xvg to ./#rmsf.xvg.1#\n",
      "\n",
      "gcq#13: \"If Life Seems Jolly Rotten, There's Something You've Forgotten !\" (Monty Python)\n",
      "\n"
     ]
    }
   ],
   "source": [
    "!printf \"Calpha\\n\" | gmx rmsf -s md01.tpr -f md01.xtc -n ca.ndx -o rmsf.xvg -fit -xvg none\n",
    "#gmx rmsf - calculate the per-residue root mean square fluctuations"
   ]
  },
  {
   "cell_type": "code",
   "execution_count": 101,
   "metadata": {},
   "outputs": [],
   "source": [
    "rmsf = np.genfromtxt([i for i in open('rmsf.xvg').read().splitlines() \n",
    "    if not i.startswith(('#','@'))])"
   ]
  },
  {
   "cell_type": "code",
   "execution_count": 102,
   "metadata": {},
   "outputs": [
    {
     "data": {
      "text/plain": [
       "Text(0, 0.5, 'rmsf')"
      ]
     },
     "execution_count": 102,
     "metadata": {},
     "output_type": "execute_result"
    },
    {
     "data": {
      "image/png": "[encoded data removed]",
      "text/plain": [
       "<Figure size 432x288 with 1 Axes>"
      ]
     },
     "metadata": {
      "needs_background": "light"
     },
     "output_type": "display_data"
    }
   ],
   "source": [
    "plt.plot(*rmsf.T)\n",
    "plt.xlabel('residue')\n",
    "plt.ylabel('rmsf')"
   ]
  },
  {
   "cell_type": "code",
   "execution_count": 16,
   "metadata": {},
   "outputs": [
    {
     "data": {
      "image/png": "[encoded data removed]",
      "text/plain": [
       "<Figure size 360x180 with 1 Axes>"
      ]
     },
     "metadata": {
      "needs_background": "light"
     },
     "output_type": "display_data"
    }
   ],
   "source": [
    "resid, rmsf = np.loadtxt(\"rmsf.xvg\", unpack=True)\n",
    "\n",
    "fig = plt.figure(figsize=(5,2.5))\n",
    "ax = fig.add_subplot(111)\n",
    "fig.subplots_adjust(bottom=0.2)\n",
    "\n",
    "ax.fill_between(resid, rmsf, color=\"red\", linestyle=\"-\", alpha=0.1)\n",
    "ax.plot(resid, rmsf, color=\"blue\", linestyle=\"-\")\n",
    "\n",
    "ax.set_xlabel(\"residue number\")\n",
    "ax.set_ylabel(r\"C$_\\alpha$ RMSF (nm)\")\n",
    "ax.set_xlim(resid.min(), resid.max())\n",
    "\n",
    "fig.savefig(\"rmsf_ca.png\", dpi=300)\n",
    "fig.savefig(\"rmsf_ca.svg\")\n",
    "fig.savefig(\"rmsf_ca.pdf\")"
   ]
  },
  {
   "cell_type": "code",
   "execution_count": 86,
   "metadata": {},
   "outputs": [
    {
     "name": "stdout",
     "output_type": "stream",
     "text": [
      "                 :-) GROMACS - gmx make_ndx, VERSION 5.1.4 (-:\n",
      "\n",
      "                            GROMACS is written by:\n",
      "     Emile Apol      Rossen Apostolov  Herman J.C. Berendsen    Par Bjelkmar   \n",
      " Aldert van Buuren   Rudi van Drunen     Anton Feenstra   Sebastian Fritsch \n",
      "  Gerrit Groenhof   Christoph Junghans   Anca Hamuraru    Vincent Hindriksen\n",
      " Dimitrios Karkoulis    Peter Kasson        Jiri Kraus      Carsten Kutzner  \n",
      "    Per Larsson      Justin A. Lemkul   Magnus Lundborg   Pieter Meulenhoff \n",
      "   Erik Marklund      Teemu Murtola       Szilard Pall       Sander Pronk   \n",
      "   Roland Schulz     Alexey Shvetsov     Michael Shirts     Alfons Sijbers  \n",
      "   Peter Tieleman    Teemu Virolainen  Christian Wennberg    Maarten Wolf   \n",
      "                           and the project leaders:\n",
      "        Mark Abraham, Berk Hess, Erik Lindahl, and David van der Spoel\n",
      "\n",
      "Copyright (c) 1991-2000, University of Groningen, The Netherlands.\n",
      "Copyright (c) 2001-2015, The GROMACS development team at\n",
      "Uppsala University, Stockholm University and\n",
      "the Royal Institute of Technology, Sweden.\n",
      "check out http://www.gromacs.org for more information.\n",
      "\n",
      "GROMACS is free software; you can redistribute it and/or modify it\n",
      "under the terms of the GNU Lesser General Public License\n",
      "as published by the Free Software Foundation; either version 2.1\n",
      "of the License, or (at your option) any later version.\n",
      "\n",
      "GROMACS:      gmx make_ndx, VERSION 5.1.4\n",
      "Executable:   /usr/local/bin/gmx\n",
      "Data prefix:  /usr/local\n",
      "Command line:\n",
      "  gmx make_ndx -f md01.tpr -o i52k145.ndx\n",
      "\n",
      "Reading file md01.tpr, VERSION 5.1.4 (single precision)\n",
      "\n",
      "Reading structure file\n",
      "Reading file md01.tpr, VERSION 5.1.4 (single precision)\n",
      "Going to read 0 old index file(s)\n",
      "Analysing residue names:\n",
      "There are:   129    Protein residues\n",
      "There are: 10636      Water residues\n",
      "There are:     8        Ion residues\n",
      "Analysing Protein...\n",
      "Analysing residues not classified as Protein/DNA/RNA/Water and splitting into groups...\n",
      "\n",
      "  0 System              : 33876 atoms\n",
      "  1 Protein             :  1960 atoms\n",
      "  2 Protein-H           :  1001 atoms\n",
      "  3 C-alpha             :   129 atoms\n",
      "  4 Backbone            :   387 atoms\n",
      "  5 MainChain           :   517 atoms\n",
      "  6 MainChain+Cb        :   634 atoms\n",
      "  7 MainChain+H         :   646 atoms\n",
      "  8 SideChain           :  1314 atoms\n",
      "  9 SideChain-H         :   484 atoms\n",
      " 10 Prot-Masses         :  1960 atoms\n",
      " 11 non-Protein         : 31916 atoms\n",
      " 12 Water               : 31908 atoms\n",
      " 13 SOL                 : 31908 atoms\n",
      " 14 non-Water           :  1968 atoms\n",
      " 15 Ion                 :     8 atoms\n",
      " 16 CL                  :     8 atoms\n",
      " 17 Water_and_ions      : 31916 atoms\n",
      "\n",
      " nr : group       !   'name' nr name   'splitch' nr    Enter: list groups\n",
      " 'a': atom        &   'del' nr         'splitres' nr   'l': list residues\n",
      " 't': atom type   |   'keep' nr        'splitat' nr    'h': help\n",
      " 'r': residue         'res' nr         'chain' char\n",
      " \"name\": group        'case': case sensitive           'q': save and quit\n",
      " 'ri': residue index\n",
      "\n",
      "> \n",
      "Removed group 1 'Protein'\n",
      "Removed group 2 'Protein-H'\n",
      "Removed group 3 'C-alpha'\n",
      "Removed group 4 'Backbone'\n",
      "Removed group 5 'MainChain'\n",
      "Removed group 6 'MainChain+Cb'\n",
      "Removed group 7 'MainChain+H'\n",
      "Removed group 8 'SideChain'\n",
      "Removed group 9 'SideChain-H'\n",
      "Removed group 10 'Prot-Masses'\n",
      "Removed group 11 'non-Protein'\n",
      "Removed group 12 'Water'\n",
      "Removed group 13 'SOL'\n",
      "Removed group 14 'non-Water'\n",
      "Removed group 15 'Ion'\n",
      "Removed group 16 'CL'\n",
      "Removed group 17 'Water_and_ions'\n",
      "\n",
      "> \n",
      "\n",
      "> \n",
      "Found 129 atoms with name CA\n",
      "Merged two groups with AND: 12 129 -> 1\n",
      "\n",
      "  1 r_52_&_CA           :     1 atoms\n",
      "\n",
      "> \n",
      "\n",
      "> \n",
      "Found 129 atoms with name CA\n",
      "Merged two groups with AND: 3 129 -> 0\n",
      "Group is empty\n",
      "\n",
      "> \n",
      "\n",
      "> \n",
      "\n",
      "Back Off! I just backed up i52k145.ndx to ./#i52k145.ndx.1#\n",
      "\n",
      "gcq#298: \"I believe in miracles cause I'm one\" (The Ramones)\n",
      "\n"
     ]
    }
   ],
   "source": [
    "!printf \"keep 0\\ndel 0A\\nr 52 & a CA\\nname 0 I52\\nr 145 & a CA\\n name 1 K145\\nq\\n\" | gmx make_ndx -f md01.tpr -o i52k145.ndx"
   ]
  },
  {
   "cell_type": "code",
   "execution_count": 92,
   "metadata": {},
   "outputs": [
    {
     "name": "stdout",
     "output_type": "stream",
     "text": [
      "                 :-) GROMACS - gmx distance, VERSION 5.1.4 (-:\r\n",
      "\r\n",
      "                            GROMACS is written by:\r\n",
      "     Emile Apol      Rossen Apostolov  Herman J.C. Berendsen    Par Bjelkmar   \r\n",
      " Aldert van Buuren   Rudi van Drunen     Anton Feenstra   Sebastian Fritsch \r\n",
      "  Gerrit Groenhof   Christoph Junghans   Anca Hamuraru    Vincent Hindriksen\r\n",
      " Dimitrios Karkoulis    Peter Kasson        Jiri Kraus      Carsten Kutzner  \r\n",
      "    Per Larsson      Justin A. Lemkul   Magnus Lundborg   Pieter Meulenhoff \r\n",
      "   Erik Marklund      Teemu Murtola       Szilard Pall       Sander Pronk   \r\n",
      "   Roland Schulz     Alexey Shvetsov     Michael Shirts     Alfons Sijbers  \r\n",
      "   Peter Tieleman    Teemu Virolainen  Christian Wennberg    Maarten Wolf   \r\n",
      "                           and the project leaders:\r\n",
      "        Mark Abraham, Berk Hess, Erik Lindahl, and David van der Spoel\r\n",
      "\r\n",
      "Copyright (c) 1991-2000, University of Groningen, The Netherlands.\r\n",
      "Copyright (c) 2001-2015, The GROMACS development team at\r\n",
      "Uppsala University, Stockholm University and\r\n",
      "the Royal Institute of Technology, Sweden.\r\n",
      "check out http://www.gromacs.org for more information.\r\n",
      "\r\n",
      "GROMACS is free software; you can redistribute it and/or modify it\r\n",
      "under the terms of the GNU Lesser General Public License\r\n",
      "as published by the Free Software Foundation; either version 2.1\r\n",
      "of the License, or (at your option) any later version.\r\n",
      "\r\n",
      "GROMACS:      gmx distance, VERSION 5.1.4\r\n",
      "Executable:   /usr/local/bin/gmx\r\n",
      "Data prefix:  /usr/local\r\n",
      "Command line:\r\n",
      "  gmx distance -f md01_fit.xtc -s md01.tpr -n i52k145.ndx -oall dist.xvg -xvg none\r\n",
      "\r\n",
      "Reading file md01.tpr, VERSION 5.1.4 (single precision)\r\n",
      "Reading file md01.tpr, VERSION 5.1.4 (single precision)\r\n",
      "\r\n",
      "-------------------------------------------------------\r\n",
      "Program:     gmx distance, VERSION 5.1.4\r\n",
      "Source file: src/gromacs/trajectoryanalysis/modules/distance.cpp (line 204)\r\n",
      "Function:    void gmx::analysismodules::(anonymous namespace)::checkSelections(const gmx::SelectionList &)\r\n",
      "\r\n",
      "Inconsistency in user input:\r\n",
      "Selection 'K145' does not evaluate into an even number of positions (there are\r\n",
      "1 positions)\r\n",
      "\r\n",
      "For more information and tips for troubleshooting, please check the GROMACS\r\n",
      "website at http://www.gromacs.org/Documentation/Errors\r\n",
      "-------------------------------------------------------\r\n"
     ]
    }
   ],
   "source": [
    "!printf \"0\\n1\\n\" | gmx distance -f md01_fit.xtc -s md01.tpr -n i52k145.ndx -oall dist.xvg -xvg none\n",
    "#gmx distance - calculate the distance between atoms or groups of atoms (make a index file with \n",
    "#gmx make_ndx to define the groups of interest). gmx mindist is especially useful to find water \n",
    "#molecules close to a region of interest."
   ]
  },
  {
   "cell_type": "code",
   "execution_count": null,
   "metadata": {},
   "outputs": [],
   "source": [
    "t,d,x,y,z = np.loadtxt(\"dist.xvg\", unpack=True)\n",
    "\n",
    "fig = plt.figure(figsize=(5,2.5))\n",
    "ax = fig.add_subplot(111)\n",
    "fig.subplots_adjust(bottom=0.2)\n",
    "\n",
    "ax.fill_between(t, d, color=\"orange\", linestyle=\"-\", alpha=0.1)\n",
    "ax.plot(t, d, color=\"orange\", linestyle=\"-\", label=\"i52-i145\")\n",
    "\n",
    "ax.set_xlabel(\"time $t$ (ps)\")\n",
    "ax.set_ylabel(r\"C$_\\alpha$ distance (nm)\")\n",
    "ax.legend(loc=\"best\")\n",
    "\n",
    "fig.savefig(\"i52_k145_ca.png\", dpi=300)\n",
    "fig.savefig(\"i52_k145_ca.svg\")\n",
    "fig.savefig(\"i52_k145_ca.pdf\")"
   ]
  },
  {
   "cell_type": "code",
   "execution_count": 93,
   "metadata": {},
   "outputs": [
    {
     "name": "stdout",
     "output_type": "stream",
     "text": [
      "                  :-) GROMACS - gmx gyrate, VERSION 5.1.4 (-:\n",
      "\n",
      "                            GROMACS is written by:\n",
      "     Emile Apol      Rossen Apostolov  Herman J.C. Berendsen    Par Bjelkmar   \n",
      " Aldert van Buuren   Rudi van Drunen     Anton Feenstra   Sebastian Fritsch \n",
      "  Gerrit Groenhof   Christoph Junghans   Anca Hamuraru    Vincent Hindriksen\n",
      " Dimitrios Karkoulis    Peter Kasson        Jiri Kraus      Carsten Kutzner  \n",
      "    Per Larsson      Justin A. Lemkul   Magnus Lundborg   Pieter Meulenhoff \n",
      "   Erik Marklund      Teemu Murtola       Szilard Pall       Sander Pronk   \n",
      "   Roland Schulz     Alexey Shvetsov     Michael Shirts     Alfons Sijbers  \n",
      "   Peter Tieleman    Teemu Virolainen  Christian Wennberg    Maarten Wolf   \n",
      "                           and the project leaders:\n",
      "        Mark Abraham, Berk Hess, Erik Lindahl, and David van der Spoel\n",
      "\n",
      "Copyright (c) 1991-2000, University of Groningen, The Netherlands.\n",
      "Copyright (c) 2001-2015, The GROMACS development team at\n",
      "Uppsala University, Stockholm University and\n",
      "the Royal Institute of Technology, Sweden.\n",
      "check out http://www.gromacs.org for more information.\n",
      "\n",
      "GROMACS is free software; you can redistribute it and/or modify it\n",
      "under the terms of the GNU Lesser General Public License\n",
      "as published by the Free Software Foundation; either version 2.1\n",
      "of the License, or (at your option) any later version.\n",
      "\n",
      "GROMACS:      gmx gyrate, VERSION 5.1.4\n",
      "Executable:   /usr/local/bin/gmx\n",
      "Data prefix:  /usr/local\n",
      "Command line:\n",
      "  gmx gyrate -s md01.tpr -f md01.xtc -o gyratea.xvg -xvg none\n",
      "\n",
      "Reading file md01.tpr, VERSION 5.1.4 (single precision)\n",
      "Reading file md01.tpr, VERSION 5.1.4 (single precision)\n",
      "Group     0 (         System) has 33876 elements\n",
      "Group     1 (        Protein) has  1960 elements\n",
      "Group     2 (      Protein-H) has  1001 elements\n",
      "Group     3 (        C-alpha) has   129 elements\n",
      "Group     4 (       Backbone) has   387 elements\n",
      "Group     5 (      MainChain) has   517 elements\n",
      "Group     6 (   MainChain+Cb) has   634 elements\n",
      "Group     7 (    MainChain+H) has   646 elements\n",
      "Group     8 (      SideChain) has  1314 elements\n",
      "Group     9 (    SideChain-H) has   484 elements\n",
      "Group    10 (    Prot-Masses) has  1960 elements\n",
      "Group    11 (    non-Protein) has 31916 elements\n",
      "Group    12 (          Water) has 31908 elements\n",
      "Group    13 (            SOL) has 31908 elements\n",
      "Group    14 (      non-Water) has  1968 elements\n",
      "Group    15 (            Ion) has     8 elements\n",
      "Group    16 (             CL) has     8 elements\n",
      "Group    17 ( Water_and_ions) has 31916 elements\n",
      "Select a group: Selected 1: 'Protein'\n",
      "Last frame          1 time   10.000   \n",
      "\n",
      "gcq#112: \"You Could Be a Shadow\" (The Breeders)\n",
      "\n"
     ]
    }
   ],
   "source": [
    "! echo Protein | gmx gyrate -s md01.tpr -f md01.xtc -o gyratea.xvg -xvg none\n",
    "#gmx gyrate - calculate the radius of gyration"
   ]
  },
  {
   "cell_type": "code",
   "execution_count": 95,
   "metadata": {},
   "outputs": [
    {
     "data": {
      "image/png": "[encoded data removed]",
      "text/plain": [
       "<Figure size 360x180 with 1 Axes>"
      ]
     },
     "metadata": {
      "needs_background": "light"
     },
     "output_type": "display_data"
    }
   ],
   "source": [
    "t,data,x,y,z = np.loadtxt(\"gyratea.xvg\", unpack=True)\n",
    "\n",
    "fig = plt.figure(figsize=(5,2.5))\n",
    "ax = fig.add_subplot(111)\n",
    "fig.subplots_adjust(bottom=0.2)\n",
    "\n",
    "ax.fill_between(t,data, color=\"magenta\", linestyle=\"-\", alpha=0.1)\n",
    "ax.plot(t,data, color=\"magenta\", linestyle=\"-\")\n",
    "\n",
    "ax.set_xlabel(\"time $t$ (ps)\")\n",
    "ax.set_ylabel(r\"protein $R_\\mathrm{gyr}$ (nm)\")\n",
    "\n",
    "fig.savefig(\"rgyr.png\", dpi=300)\n",
    "fig.savefig(\"rgyr.svg\")\n",
    "fig.savefig(\"rgyr.pdf\")"
   ]
  },
  {
   "cell_type": "markdown",
   "metadata": {},
   "source": [
    "Visualize"
   ]
  },
  {
   "cell_type": "code",
   "execution_count": 19,
   "metadata": {},
   "outputs": [],
   "source": [
    "traj1 = pt.load(nv.datafiles.TRR, nv.datafiles.PDB)\n",
    "view = nv.show_pytraj(traj1)\n",
    "# show view first\n",
    "view1 # doctest: +SKIP\n",
    "# add new Trajectory\n",
    "traj2 = pt.datafiles.load_tz2()\n",
    "c = view.add_trajectory(traj2)"
   ]
  },
  {
   "cell_type": "code",
   "execution_count": 20,
   "metadata": {},
   "outputs": [
    {
     "data": {
      "application/vnd.jupyter.widget-view+json": {
       "model_id": "8196f3f56b4c459bad2192a4da9206cf",
       "version_major": 2,
       "version_minor": 0
      },
      "text/plain": [
       "NGLWidget(max_frame=37)"
      ]
     },
     "metadata": {},
     "output_type": "display_data"
    }
   ],
   "source": [
    "\n",
    "traj = pt.datafiles.load_trpcage()[:]\n",
    "view = nv.show_pytraj(traj)\n",
    "view"
   ]
  },
  {
   "cell_type": "markdown",
   "metadata": {},
   "source": [
    "# This notebook is compiled and verfied by Girinath G. Pillai, @giribio\n",
    "####### Kindly cite this notebook in your publications if you have used it for calculations.\n",
    "####### Cite as : NyroMDNotebook v1, Girinath G. Pillai : https://github.com/giribio/MDNotebooks"
   ]
  }
 ],
 "metadata": {
  "kernelspec": {
   "display_name": "Python 3",
   "language": "python",
   "name": "python3"
  },
  "language_info": {
   "codemirror_mode": {
    "name": "ipython",
    "version": 3
   },
   "file_extension": ".py",
   "mimetype": "text/x-python",
   "name": "python",
   "nbconvert_exporter": "python",
   "pygments_lexer": "ipython3",
   "version": "3.8.10"
  },
  "toc": {
   "base_numbering": 1,
   "nav_menu": {},
   "number_sections": false,
   "sideBar": false,
   "skip_h1_title": false,
   "title_cell": "Table of Contents",
   "title_sidebar": "Contents",
   "toc_cell": false,
   "toc_position": {},
   "toc_section_display": true,
   "toc_window_display": false
  }
 },
 "nbformat": 4,
 "nbformat_minor": 2
}
